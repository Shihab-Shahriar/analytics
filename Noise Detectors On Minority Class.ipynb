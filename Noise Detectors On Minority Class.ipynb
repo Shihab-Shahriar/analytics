{
 "cells": [
  {
   "cell_type": "markdown",
   "metadata": {},
   "source": [
    "## Questions to Answer\n",
    "1. Does Filtering on noise estimates worsen imbalance? Before vs after IR for CLNI, Two-stage ensemble\n",
    "2. Avg. noise likelihood of minority vs majority class?\n",
    "3. Ratio of 0->1 & 1->0 noise types vs ratio of noisy samples identified in each class. With oracle access to no of actual, total no. of noisy samples "
   ]
  },
  {
   "cell_type": "code",
   "execution_count": 1,
   "metadata": {},
   "outputs": [
    {
     "name": "stderr",
     "output_type": "stream",
     "text": [
      "/home/shihab/anaconda3/envs/ana/lib/python3.7/site-packages/sklearn/utils/deprecation.py:144: FutureWarning: The sklearn.neighbors.base module is  deprecated in version 0.22 and will be removed in version 0.24. The corresponding classes / functions should instead be imported from sklearn.neighbors. Anything that cannot be imported from sklearn.neighbors is now part of the private API.\n",
      "  warnings.warn(message, FutureWarning)\n"
     ]
    }
   ],
   "source": [
    "import numpy as np,os\n",
    "import pandas as pd\n",
    "from sklearn.metrics import matthews_corrcoef, precision_recall_curve, auc, accuracy_score, precision_score, recall_score\n",
    "import seaborn as sns,matplotlib.pyplot as plt\n",
    "\n",
    "from library.utils import evaluate, read_data\n",
    "from library.cleaners import kDN, ih_prob"
   ]
  },
  {
   "cell_type": "markdown",
   "metadata": {},
   "source": [
    "## Notes\n",
    "+ Using `kDN(K=5)`: In `25/32` datasets, no of samples with NP noise (Bug class in noisy dataset but actually Clean) has been overestimated. Consequently PN has been underestimated. This shows minority class gets disproportionately affected.\n",
    "    + For `ih_prob`: that number is `23/32`\n",
    "+ In terms of avg. probability of being noisy: samples in Bug class (of noisy data version) have vastly hugher value than clean ones. On further avg on 32 datasets, `.702 vs .074`, almost 10 times higher."
   ]
  },
  {
   "cell_type": "code",
   "execution_count": 2,
   "metadata": {},
   "outputs": [
    {
     "data": {
      "text/plain": [
       "32"
      ]
     },
     "execution_count": 2,
     "metadata": {},
     "output_type": "execute_result"
    }
   ],
   "source": [
    "DATASETS = ['groovy-1_5_7.csv','jruby-1.4.0.csv','lucene-2.9.0.csv','jruby-1.7.0.preview1.csv','groovy-1_6_BETA_1.csv',\n",
    "        'derby-10.2.1.6.csv','wicket-1.5.3.csv','camel-2.9.0.csv','camel-1.4.0.csv','activemq-5.8.0.csv']\n",
    "DATASETS = [f for f in os.listdir(\"JIRA/\") if 'csv' in f]\n",
    "len(DATASETS)"
   ]
  },
  {
   "cell_type": "code",
   "execution_count": 15,
   "metadata": {},
   "outputs": [
    {
     "name": "stdout",
     "output_type": "stream",
     "text": [
      "activemq-5.8.0.csv noise:0.058, imb:15.847,203,3217, Shape:(3420, 65)\n",
      "PN 100,NP 97\n",
      "ePN 46,eNP 151\n",
      "Avg, Bug:0.676, Clean:0.083\n",
      "\n",
      "groovy-1_6_BETA_1.csv noise:0.128, imb:6.017,117,704, Shape:(821, 65)\n",
      "PN 29,NP 76\n",
      "ePN 39,eNP 66\n",
      "Avg, Bug:0.526, Clean:0.113\n",
      "\n",
      "activemq-5.3.0.csv noise:0.094, imb:15.669,142,2225, Shape:(2367, 65)\n",
      "PN 169,NP 53\n",
      "ePN 110,eNP 112\n",
      "Avg, Bug:0.620, Clean:0.080\n",
      "\n",
      "wicket-1.3.0-incubating-beta-1.csv noise:0.164, imb:4.806,288,1384, Shape:(1672, 65)\n",
      "PN 44,NP 231\n",
      "ePN 125,eNP 150\n",
      "Avg, Bug:0.536, Clean:0.137\n",
      "\n",
      "jruby-1.1.csv noise:0.175, imb:3.540,161,570, Shape:(731, 65)\n",
      "PN 27,NP 101\n",
      "ePN 65,eNP 63\n",
      "Avg, Bug:0.422, Clean:0.153\n",
      "\n",
      "jruby-1.4.0.csv noise:0.190, imb:3.890,200,778, Shape:(978, 65)\n",
      "PN 83,NP 103\n",
      "ePN 80,eNP 106\n",
      "Avg, Bug:0.520, Clean:0.144\n",
      "\n",
      "lucene-2.3.0.csv noise:0.204, imb:4.031,160,645, Shape:(805, 65)\n",
      "PN 100,NP 64\n",
      "ePN 70,eNP 94\n",
      "Avg, Bug:0.535, Clean:0.151\n",
      "\n",
      "hbase-0.95.2.csv noise:0.260, imb:15.088,114,1720, Shape:(1834, 65)\n",
      "PN 423,NP 54\n",
      "ePN 371,eNP 106\n",
      "Avg, Bug:0.693, Clean:0.102\n",
      "\n",
      "lucene-3.0.0.csv noise:0.185, imb:6.037,190,1147, Shape:(1337, 65)\n",
      "PN 106,NP 141\n",
      "ePN 115,eNP 132\n",
      "Avg, Bug:0.553, Clean:0.147\n",
      "\n",
      "camel-2.9.0.csv noise:0.044, imb:34.600,200,6920, Shape:(7120, 65)\n",
      "PN 156,NP 157\n",
      "ePN 124,eNP 189\n",
      "Avg, Bug:0.764, Clean:0.052\n",
      "\n",
      "wicket-1.5.3.csv noise:0.064, imb:26.720,93,2485, Shape:(2578, 65)\n",
      "PN 89,NP 77\n",
      "ePN 77,eNP 89\n",
      "Avg, Bug:0.734, Clean:0.085\n",
      "\n",
      "lucene-3.1.csv noise:0.120, imb:7.477,331,2475, Shape:(2806, 65)\n",
      "PN 56,NP 280\n",
      "ePN 144,eNP 192\n",
      "Avg, Bug:0.537, Clean:0.096\n",
      "\n",
      "groovy-1_6_BETA_2.csv noise:0.096, imb:7.583,103,781, Shape:(884, 65)\n",
      "PN 29,NP 56\n",
      "ePN 28,eNP 57\n",
      "Avg, Bug:0.576, Clean:0.099\n",
      "\n",
      "activemq-5.2.0.csv noise:0.113, imb:12.247,154,1886, Shape:(2040, 65)\n",
      "PN 148,NP 83\n",
      "ePN 106,eNP 125\n",
      "Avg, Bug:0.644, Clean:0.095\n",
      "\n",
      "groovy-1_5_7.csv noise:0.085, imb:8.463,80,677, Shape:(757, 65)\n",
      "PN 5,NP 59\n",
      "ePN 22,eNP 42\n",
      "Avg, Bug:0.557, Clean:0.090\n",
      "\n",
      "hbase-0.95.0.csv noise:0.234, imb:17.341,91,1578, Shape:(1669, 65)\n",
      "PN 341,NP 49\n",
      "ePN 306,eNP 84\n",
      "Avg, Bug:0.713, Clean:0.092\n",
      "\n",
      "camel-2.11.0.csv noise:0.024, imb:43.230,200,8646, Shape:(8846, 65)\n",
      "PN 100,NP 108\n",
      "ePN 31,eNP 177\n",
      "Avg, Bug:0.762, Clean:0.050\n",
      "\n",
      "jruby-1.7.0.preview1.csv noise:0.099, imb:8.902,163,1451, Shape:(1614, 65)\n",
      "PN 42,NP 118\n",
      "ePN 71,eNP 89\n",
      "Avg, Bug:0.564, Clean:0.098\n",
      "\n",
      "hive-0.10.0.csv noise:0.126, imb:29.000,52,1508, Shape:(1560, 65)\n",
      "PN 160,NP 36\n",
      "ePN 147,eNP 49\n",
      "Avg, Bug:0.643, Clean:0.057\n",
      "\n",
      "camel-2.10.0.csv noise:0.053, imb:24.447,311,7603, Shape:(7914, 65)\n",
      "PN 169,NP 250\n",
      "ePN 150,eNP 269\n",
      "Avg, Bug:0.726, Clean:0.061\n",
      "\n",
      "derby-10.2.1.6.csv noise:0.290, imb:9.906,180,1783, Shape:(1963, 65)\n",
      "PN 525,NP 44\n",
      "ePN 395,eNP 174\n",
      "Avg, Bug:0.660, Clean:0.116\n",
      "\n",
      "jruby-1.5.0.csv noise:0.218, imb:3.098,276,855, Shape:(1131, 65)\n",
      "PN 26,NP 220\n",
      "ePN 107,eNP 139\n",
      "Avg, Bug:0.470, Clean:0.156\n",
      "\n",
      "derby-10.3.1.4.csv noise:0.267, imb:13.051,157,2049, Shape:(2206, 65)\n",
      "PN 550,NP 38\n",
      "ePN 431,eNP 157\n",
      "Avg, Bug:0.709, Clean:0.089\n",
      "\n",
      "lucene-2.9.0.csv noise:0.226, imb:3.921,278,1090, Shape:(1368, 65)\n",
      "PN 152,NP 157\n",
      "ePN 146,eNP 163\n",
      "Avg, Bug:0.483, Clean:0.149\n",
      "\n",
      "hbase-0.94.0.csv noise:0.207, imb:14.348,69,990, Shape:(1059, 65)\n",
      "PN 184,NP 35\n",
      "ePN 162,eNP 57\n",
      "Avg, Bug:0.572, Clean:0.085\n",
      "\n",
      "camel-1.4.0.csv noise:0.281, imb:3.174,363,1152, Shape:(1515, 65)\n",
      "PN 174,NP 252\n",
      "ePN 162,eNP 264\n",
      "Avg, Bug:0.588, Clean:0.179\n",
      "\n",
      "activemq-5.1.0.csv noise:0.083, imb:13.173,139,1831, Shape:(1970, 65)\n",
      "PN 89,NP 74\n",
      "ePN 61,eNP 102\n",
      "Avg, Bug:0.616, Clean:0.094\n",
      "\n",
      "activemq-5.0.0.csv noise:0.139, imb:21.976,82,1802, Shape:(1884, 65)\n",
      "PN 236,NP 25\n",
      "ePN 186,eNP 75\n",
      "Avg, Bug:0.675, Clean:0.066\n",
      "\n",
      "derby-10.5.1.1.csv noise:0.126, imb:14.028,180,2525, Shape:(2705, 65)\n",
      "PN 272,NP 69\n",
      "ePN 189,eNP 152\n",
      "Avg, Bug:0.619, Clean:0.090\n",
      "\n",
      "wicket-1.3.0-beta2.csv noise:0.184, imb:4.780,305,1458, Shape:(1763, 65)\n",
      "PN 75,NP 250\n",
      "ePN 157,eNP 168\n",
      "Avg, Bug:0.537, Clean:0.135\n",
      "\n",
      "hive-0.12.0.csv noise:0.087, imb:56.870,46,2616, Shape:(2662, 65)\n",
      "PN 199,NP 32\n",
      "ePN 186,eNP 45\n",
      "Avg, Bug:0.792, Clean:0.047\n",
      "\n",
      "hive-0.9.0.csv noise:0.179, imb:25.717,53,1363, Shape:(1416, 65)\n",
      "PN 242,NP 12\n",
      "ePN 201,eNP 53\n",
      "Avg, Bug:0.598, Clean:0.047\n",
      "\n"
     ]
    }
   ],
   "source": [
    "df = pd.DataFrame(index=DATASETS,columns=['PN','ePN','NP','eNP','avg-bug','avg-clean'])\n",
    "for d in DATASETS:\n",
    "    X,y_noisy,y_real = read_data(d,True)\n",
    "    PN = y_noisy[y_real==1]==0   #So, really 1(P), but now 0(N)\n",
    "    NP = y_noisy[y_real==0]==1   #So, really 0(N), but now 1(P)\n",
    "    assert PN.sum()+NP.sum()==(y_noisy!=y_real).sum()\n",
    "    print(f\"PN {PN.sum()},NP {NP.sum()}\")\n",
    "    ne = ih_prob(X,y_noisy,K=5)\n",
    "    avg_bug,avg_clean = ne[y_noisy==1].mean(),ne[y_noisy==0].mean()  #avg_bug: avg noise probs of those labelled Buggy in Noisy dataset\n",
    "    actual_total = (y_noisy!=y_real).sum()\n",
    "    nidx = np.argsort(ne)[-actual_total:]\n",
    "    eNP = y_noisy[nidx]==1\n",
    "    ePN = y_noisy[nidx]==0\n",
    "    print(f\"ePN {ePN.sum()},eNP {eNP.sum()}\")\n",
    "    print(f\"Avg, Bug:{avg_bug:.3f}, Clean:{avg_clean:.3f}\")\n",
    "    print()\n",
    "    df.loc[d,:] = [x.sum() for x in [PN,ePN,NP,eNP]] + [avg_bug,avg_clean]"
   ]
  },
  {
   "cell_type": "code",
   "execution_count": 16,
   "metadata": {},
   "outputs": [
    {
     "data": {
      "text/html": [
       "<div>\n",
       "<style scoped>\n",
       "    .dataframe tbody tr th:only-of-type {\n",
       "        vertical-align: middle;\n",
       "    }\n",
       "\n",
       "    .dataframe tbody tr th {\n",
       "        vertical-align: top;\n",
       "    }\n",
       "\n",
       "    .dataframe thead th {\n",
       "        text-align: right;\n",
       "    }\n",
       "</style>\n",
       "<table border=\"1\" class=\"dataframe\">\n",
       "  <thead>\n",
       "    <tr style=\"text-align: right;\">\n",
       "      <th></th>\n",
       "      <th>PN</th>\n",
       "      <th>ePN</th>\n",
       "      <th>NP</th>\n",
       "      <th>eNP</th>\n",
       "      <th>avg-bug</th>\n",
       "      <th>avg-clean</th>\n",
       "    </tr>\n",
       "  </thead>\n",
       "  <tbody>\n",
       "    <tr>\n",
       "      <th>activemq-5.8.0.csv</th>\n",
       "      <td>100</td>\n",
       "      <td>46</td>\n",
       "      <td>97</td>\n",
       "      <td>151</td>\n",
       "      <td>0.675766</td>\n",
       "      <td>0.0828581</td>\n",
       "    </tr>\n",
       "    <tr>\n",
       "      <th>groovy-1_6_BETA_1.csv</th>\n",
       "      <td>29</td>\n",
       "      <td>39</td>\n",
       "      <td>76</td>\n",
       "      <td>66</td>\n",
       "      <td>0.525672</td>\n",
       "      <td>0.113085</td>\n",
       "    </tr>\n",
       "    <tr>\n",
       "      <th>activemq-5.3.0.csv</th>\n",
       "      <td>169</td>\n",
       "      <td>110</td>\n",
       "      <td>53</td>\n",
       "      <td>112</td>\n",
       "      <td>0.620039</td>\n",
       "      <td>0.0798181</td>\n",
       "    </tr>\n",
       "    <tr>\n",
       "      <th>wicket-1.3.0-incubating-beta-1.csv</th>\n",
       "      <td>44</td>\n",
       "      <td>125</td>\n",
       "      <td>231</td>\n",
       "      <td>150</td>\n",
       "      <td>0.535514</td>\n",
       "      <td>0.13665</td>\n",
       "    </tr>\n",
       "    <tr>\n",
       "      <th>jruby-1.1.csv</th>\n",
       "      <td>27</td>\n",
       "      <td>65</td>\n",
       "      <td>101</td>\n",
       "      <td>63</td>\n",
       "      <td>0.422296</td>\n",
       "      <td>0.152668</td>\n",
       "    </tr>\n",
       "    <tr>\n",
       "      <th>jruby-1.4.0.csv</th>\n",
       "      <td>83</td>\n",
       "      <td>80</td>\n",
       "      <td>103</td>\n",
       "      <td>106</td>\n",
       "      <td>0.519683</td>\n",
       "      <td>0.144028</td>\n",
       "    </tr>\n",
       "    <tr>\n",
       "      <th>lucene-2.3.0.csv</th>\n",
       "      <td>100</td>\n",
       "      <td>70</td>\n",
       "      <td>64</td>\n",
       "      <td>94</td>\n",
       "      <td>0.534671</td>\n",
       "      <td>0.151187</td>\n",
       "    </tr>\n",
       "    <tr>\n",
       "      <th>hbase-0.95.2.csv</th>\n",
       "      <td>423</td>\n",
       "      <td>371</td>\n",
       "      <td>54</td>\n",
       "      <td>106</td>\n",
       "      <td>0.693443</td>\n",
       "      <td>0.102486</td>\n",
       "    </tr>\n",
       "    <tr>\n",
       "      <th>lucene-3.0.0.csv</th>\n",
       "      <td>106</td>\n",
       "      <td>115</td>\n",
       "      <td>141</td>\n",
       "      <td>132</td>\n",
       "      <td>0.552705</td>\n",
       "      <td>0.14662</td>\n",
       "    </tr>\n",
       "    <tr>\n",
       "      <th>camel-2.9.0.csv</th>\n",
       "      <td>156</td>\n",
       "      <td>124</td>\n",
       "      <td>157</td>\n",
       "      <td>189</td>\n",
       "      <td>0.763604</td>\n",
       "      <td>0.0524836</td>\n",
       "    </tr>\n",
       "    <tr>\n",
       "      <th>wicket-1.5.3.csv</th>\n",
       "      <td>89</td>\n",
       "      <td>77</td>\n",
       "      <td>77</td>\n",
       "      <td>89</td>\n",
       "      <td>0.733741</td>\n",
       "      <td>0.0849371</td>\n",
       "    </tr>\n",
       "    <tr>\n",
       "      <th>lucene-3.1.csv</th>\n",
       "      <td>56</td>\n",
       "      <td>144</td>\n",
       "      <td>280</td>\n",
       "      <td>192</td>\n",
       "      <td>0.53678</td>\n",
       "      <td>0.0963468</td>\n",
       "    </tr>\n",
       "    <tr>\n",
       "      <th>groovy-1_6_BETA_2.csv</th>\n",
       "      <td>29</td>\n",
       "      <td>28</td>\n",
       "      <td>56</td>\n",
       "      <td>57</td>\n",
       "      <td>0.575592</td>\n",
       "      <td>0.0991174</td>\n",
       "    </tr>\n",
       "    <tr>\n",
       "      <th>activemq-5.2.0.csv</th>\n",
       "      <td>148</td>\n",
       "      <td>106</td>\n",
       "      <td>83</td>\n",
       "      <td>125</td>\n",
       "      <td>0.644122</td>\n",
       "      <td>0.0947979</td>\n",
       "    </tr>\n",
       "    <tr>\n",
       "      <th>groovy-1_5_7.csv</th>\n",
       "      <td>5</td>\n",
       "      <td>22</td>\n",
       "      <td>59</td>\n",
       "      <td>42</td>\n",
       "      <td>0.556501</td>\n",
       "      <td>0.0904751</td>\n",
       "    </tr>\n",
       "    <tr>\n",
       "      <th>hbase-0.95.0.csv</th>\n",
       "      <td>341</td>\n",
       "      <td>306</td>\n",
       "      <td>49</td>\n",
       "      <td>84</td>\n",
       "      <td>0.713165</td>\n",
       "      <td>0.0924609</td>\n",
       "    </tr>\n",
       "    <tr>\n",
       "      <th>camel-2.11.0.csv</th>\n",
       "      <td>100</td>\n",
       "      <td>31</td>\n",
       "      <td>108</td>\n",
       "      <td>177</td>\n",
       "      <td>0.762259</td>\n",
       "      <td>0.0503112</td>\n",
       "    </tr>\n",
       "    <tr>\n",
       "      <th>jruby-1.7.0.preview1.csv</th>\n",
       "      <td>42</td>\n",
       "      <td>71</td>\n",
       "      <td>118</td>\n",
       "      <td>89</td>\n",
       "      <td>0.564238</td>\n",
       "      <td>0.0976875</td>\n",
       "    </tr>\n",
       "    <tr>\n",
       "      <th>hive-0.10.0.csv</th>\n",
       "      <td>160</td>\n",
       "      <td>147</td>\n",
       "      <td>36</td>\n",
       "      <td>49</td>\n",
       "      <td>0.642511</td>\n",
       "      <td>0.0565828</td>\n",
       "    </tr>\n",
       "    <tr>\n",
       "      <th>camel-2.10.0.csv</th>\n",
       "      <td>169</td>\n",
       "      <td>150</td>\n",
       "      <td>250</td>\n",
       "      <td>269</td>\n",
       "      <td>0.725688</td>\n",
       "      <td>0.0606877</td>\n",
       "    </tr>\n",
       "    <tr>\n",
       "      <th>derby-10.2.1.6.csv</th>\n",
       "      <td>525</td>\n",
       "      <td>395</td>\n",
       "      <td>44</td>\n",
       "      <td>174</td>\n",
       "      <td>0.660352</td>\n",
       "      <td>0.115981</td>\n",
       "    </tr>\n",
       "    <tr>\n",
       "      <th>jruby-1.5.0.csv</th>\n",
       "      <td>26</td>\n",
       "      <td>107</td>\n",
       "      <td>220</td>\n",
       "      <td>139</td>\n",
       "      <td>0.470197</td>\n",
       "      <td>0.156113</td>\n",
       "    </tr>\n",
       "    <tr>\n",
       "      <th>derby-10.3.1.4.csv</th>\n",
       "      <td>550</td>\n",
       "      <td>431</td>\n",
       "      <td>38</td>\n",
       "      <td>157</td>\n",
       "      <td>0.708616</td>\n",
       "      <td>0.089326</td>\n",
       "    </tr>\n",
       "    <tr>\n",
       "      <th>lucene-2.9.0.csv</th>\n",
       "      <td>152</td>\n",
       "      <td>146</td>\n",
       "      <td>157</td>\n",
       "      <td>163</td>\n",
       "      <td>0.483211</td>\n",
       "      <td>0.149337</td>\n",
       "    </tr>\n",
       "    <tr>\n",
       "      <th>hbase-0.94.0.csv</th>\n",
       "      <td>184</td>\n",
       "      <td>162</td>\n",
       "      <td>35</td>\n",
       "      <td>57</td>\n",
       "      <td>0.571599</td>\n",
       "      <td>0.084921</td>\n",
       "    </tr>\n",
       "    <tr>\n",
       "      <th>camel-1.4.0.csv</th>\n",
       "      <td>174</td>\n",
       "      <td>162</td>\n",
       "      <td>252</td>\n",
       "      <td>264</td>\n",
       "      <td>0.587757</td>\n",
       "      <td>0.178547</td>\n",
       "    </tr>\n",
       "    <tr>\n",
       "      <th>activemq-5.1.0.csv</th>\n",
       "      <td>89</td>\n",
       "      <td>61</td>\n",
       "      <td>74</td>\n",
       "      <td>102</td>\n",
       "      <td>0.615858</td>\n",
       "      <td>0.0941046</td>\n",
       "    </tr>\n",
       "    <tr>\n",
       "      <th>activemq-5.0.0.csv</th>\n",
       "      <td>236</td>\n",
       "      <td>186</td>\n",
       "      <td>25</td>\n",
       "      <td>75</td>\n",
       "      <td>0.675108</td>\n",
       "      <td>0.0662542</td>\n",
       "    </tr>\n",
       "    <tr>\n",
       "      <th>derby-10.5.1.1.csv</th>\n",
       "      <td>272</td>\n",
       "      <td>189</td>\n",
       "      <td>69</td>\n",
       "      <td>152</td>\n",
       "      <td>0.619394</td>\n",
       "      <td>0.0901403</td>\n",
       "    </tr>\n",
       "    <tr>\n",
       "      <th>wicket-1.3.0-beta2.csv</th>\n",
       "      <td>75</td>\n",
       "      <td>157</td>\n",
       "      <td>250</td>\n",
       "      <td>168</td>\n",
       "      <td>0.537161</td>\n",
       "      <td>0.135006</td>\n",
       "    </tr>\n",
       "    <tr>\n",
       "      <th>hive-0.12.0.csv</th>\n",
       "      <td>199</td>\n",
       "      <td>186</td>\n",
       "      <td>32</td>\n",
       "      <td>45</td>\n",
       "      <td>0.791637</td>\n",
       "      <td>0.0466597</td>\n",
       "    </tr>\n",
       "    <tr>\n",
       "      <th>hive-0.9.0.csv</th>\n",
       "      <td>242</td>\n",
       "      <td>201</td>\n",
       "      <td>12</td>\n",
       "      <td>53</td>\n",
       "      <td>0.598172</td>\n",
       "      <td>0.0470964</td>\n",
       "    </tr>\n",
       "  </tbody>\n",
       "</table>\n",
       "</div>"
      ],
      "text/plain": [
       "                                     PN  ePN   NP  eNP   avg-bug  avg-clean\n",
       "activemq-5.8.0.csv                  100   46   97  151  0.675766  0.0828581\n",
       "groovy-1_6_BETA_1.csv                29   39   76   66  0.525672   0.113085\n",
       "activemq-5.3.0.csv                  169  110   53  112  0.620039  0.0798181\n",
       "wicket-1.3.0-incubating-beta-1.csv   44  125  231  150  0.535514    0.13665\n",
       "jruby-1.1.csv                        27   65  101   63  0.422296   0.152668\n",
       "jruby-1.4.0.csv                      83   80  103  106  0.519683   0.144028\n",
       "lucene-2.3.0.csv                    100   70   64   94  0.534671   0.151187\n",
       "hbase-0.95.2.csv                    423  371   54  106  0.693443   0.102486\n",
       "lucene-3.0.0.csv                    106  115  141  132  0.552705    0.14662\n",
       "camel-2.9.0.csv                     156  124  157  189  0.763604  0.0524836\n",
       "wicket-1.5.3.csv                     89   77   77   89  0.733741  0.0849371\n",
       "lucene-3.1.csv                       56  144  280  192   0.53678  0.0963468\n",
       "groovy-1_6_BETA_2.csv                29   28   56   57  0.575592  0.0991174\n",
       "activemq-5.2.0.csv                  148  106   83  125  0.644122  0.0947979\n",
       "groovy-1_5_7.csv                      5   22   59   42  0.556501  0.0904751\n",
       "hbase-0.95.0.csv                    341  306   49   84  0.713165  0.0924609\n",
       "camel-2.11.0.csv                    100   31  108  177  0.762259  0.0503112\n",
       "jruby-1.7.0.preview1.csv             42   71  118   89  0.564238  0.0976875\n",
       "hive-0.10.0.csv                     160  147   36   49  0.642511  0.0565828\n",
       "camel-2.10.0.csv                    169  150  250  269  0.725688  0.0606877\n",
       "derby-10.2.1.6.csv                  525  395   44  174  0.660352   0.115981\n",
       "jruby-1.5.0.csv                      26  107  220  139  0.470197   0.156113\n",
       "derby-10.3.1.4.csv                  550  431   38  157  0.708616   0.089326\n",
       "lucene-2.9.0.csv                    152  146  157  163  0.483211   0.149337\n",
       "hbase-0.94.0.csv                    184  162   35   57  0.571599   0.084921\n",
       "camel-1.4.0.csv                     174  162  252  264  0.587757   0.178547\n",
       "activemq-5.1.0.csv                   89   61   74  102  0.615858  0.0941046\n",
       "activemq-5.0.0.csv                  236  186   25   75  0.675108  0.0662542\n",
       "derby-10.5.1.1.csv                  272  189   69  152  0.619394  0.0901403\n",
       "wicket-1.3.0-beta2.csv               75  157  250  168  0.537161   0.135006\n",
       "hive-0.12.0.csv                     199  186   32   45  0.791637  0.0466597\n",
       "hive-0.9.0.csv                      242  201   12   53  0.598172  0.0470964"
      ]
     },
     "execution_count": 16,
     "metadata": {},
     "output_type": "execute_result"
    }
   ],
   "source": [
    "df"
   ]
  },
  {
   "cell_type": "code",
   "execution_count": 5,
   "metadata": {},
   "outputs": [
    {
     "data": {
      "image/png": "[encoded data removed]",
      "text/plain": [
       "<Figure size 1296x360 with 1 Axes>"
      ]
     },
     "metadata": {
      "needs_background": "light"
     },
     "output_type": "display_data"
    }
   ],
   "source": [
    "plt.figure(figsize=(18,5))\n",
    "plt.plot(range(len(DATASETS)),df['PN'],c='r',label='Actual');\n",
    "plt.plot(range(len(DATASETS)),df['ePN'],c='b',label='Predicted');\n",
    "plt.legend();"
   ]
  },
  {
   "cell_type": "code",
   "execution_count": 6,
   "metadata": {},
   "outputs": [
    {
     "data": {
      "text/plain": [
       "(8, 24)"
      ]
     },
     "execution_count": 6,
     "metadata": {},
     "output_type": "execute_result"
    }
   ],
   "source": [
    "(df['ePN']>df['PN']).sum(),(df['eNP']>df['NP']).sum()"
   ]
  },
  {
   "cell_type": "code",
   "execution_count": 7,
   "metadata": {},
   "outputs": [
    {
     "data": {
      "image/png": "[encoded data removed]",
      "text/plain": [
       "<Figure size 1296x360 with 1 Axes>"
      ]
     },
     "metadata": {
      "needs_background": "light"
     },
     "output_type": "display_data"
    }
   ],
   "source": [
    "plt.figure(figsize=(18,5))\n",
    "plt.plot(range(len(DATASETS)),df['NP'],c='r',label='Actual');\n",
    "plt.plot(range(len(DATASETS)),df['eNP'],c='b',label='Predicted');\n",
    "plt.legend();"
   ]
  },
  {
   "cell_type": "code",
   "execution_count": 11,
   "metadata": {},
   "outputs": [
    {
     "data": {
      "image/png": "[encoded data removed]",
      "text/plain": [
       "<Figure size 1296x360 with 1 Axes>"
      ]
     },
     "metadata": {
      "needs_background": "light"
     },
     "output_type": "display_data"
    }
   ],
   "source": [
    "plt.figure(figsize=(18,5))\n",
    "plt.plot(range(len(DATASETS)),df['avg-bug'],c='r',label='Buggy');\n",
    "plt.plot(range(len(DATASETS)),df['avg-clean'],c='b',label='Clean');\n",
    "plt.legend();"
   ]
  },
  {
   "cell_type": "code",
   "execution_count": 12,
   "metadata": {},
   "outputs": [
    {
     "data": {
      "text/plain": [
       "(0.7022270627726707, 0.07362175333310558)"
      ]
     },
     "execution_count": 12,
     "metadata": {},
     "output_type": "execute_result"
    }
   ],
   "source": [
    "df['avg-bug'].mean(),df['avg-clean'].mean()"
   ]
  },
  {
   "cell_type": "code",
   "execution_count": 13,
   "metadata": {},
   "outputs": [
    {
     "data": {
      "image/png": "[encoded data removed]",
      "text/plain": [
       "<Figure size 432x288 with 1 Axes>"
      ]
     },
     "metadata": {
      "needs_background": "light"
     },
     "output_type": "display_data"
    }
   ],
   "source": [
    "\n",
    "sns.boxplot(data=df[['avg-bug','avg-clean']]);"
   ]
  },
  {
   "cell_type": "code",
   "execution_count": 17,
   "metadata": {},
   "outputs": [],
   "source": [
    "ih = df.copy()"
   ]
  },
  {
   "cell_type": "code",
   "execution_count": 14,
   "metadata": {},
   "outputs": [],
   "source": [
    "kdn = df.copy()"
   ]
  },
  {
   "cell_type": "code",
   "execution_count": 37,
   "metadata": {},
   "outputs": [],
   "source": [
    "a = kdn[['avg-bug','avg-clean']].assign(detect='kDN')\n",
    "b = ih[['avg-bug','avg-clean']].assign(detect='IH')"
   ]
  },
  {
   "cell_type": "code",
   "execution_count": 38,
   "metadata": {},
   "outputs": [],
   "source": [
    "tmp = pd.concat([a,b],axis=0)"
   ]
  },
  {
   "cell_type": "code",
   "execution_count": 39,
   "metadata": {},
   "outputs": [
    {
     "data": {
      "text/html": [
       "<div>\n",
       "<style scoped>\n",
       "    .dataframe tbody tr th:only-of-type {\n",
       "        vertical-align: middle;\n",
       "    }\n",
       "\n",
       "    .dataframe tbody tr th {\n",
       "        vertical-align: top;\n",
       "    }\n",
       "\n",
       "    .dataframe thead th {\n",
       "        text-align: right;\n",
       "    }\n",
       "</style>\n",
       "<table border=\"1\" class=\"dataframe\">\n",
       "  <thead>\n",
       "    <tr style=\"text-align: right;\">\n",
       "      <th></th>\n",
       "      <th>detect</th>\n",
       "      <th>variable</th>\n",
       "      <th>value</th>\n",
       "    </tr>\n",
       "  </thead>\n",
       "  <tbody>\n",
       "    <tr>\n",
       "      <th>0</th>\n",
       "      <td>kDN</td>\n",
       "      <td>avg-bug</td>\n",
       "      <td>0.790148</td>\n",
       "    </tr>\n",
       "    <tr>\n",
       "      <th>1</th>\n",
       "      <td>kDN</td>\n",
       "      <td>avg-bug</td>\n",
       "      <td>0.523077</td>\n",
       "    </tr>\n",
       "    <tr>\n",
       "      <th>2</th>\n",
       "      <td>kDN</td>\n",
       "      <td>avg-bug</td>\n",
       "      <td>0.78169</td>\n",
       "    </tr>\n",
       "    <tr>\n",
       "      <th>3</th>\n",
       "      <td>kDN</td>\n",
       "      <td>avg-bug</td>\n",
       "      <td>0.607639</td>\n",
       "    </tr>\n",
       "    <tr>\n",
       "      <th>4</th>\n",
       "      <td>kDN</td>\n",
       "      <td>avg-bug</td>\n",
       "      <td>0.442236</td>\n",
       "    </tr>\n",
       "    <tr>\n",
       "      <th>...</th>\n",
       "      <td>...</td>\n",
       "      <td>...</td>\n",
       "      <td>...</td>\n",
       "    </tr>\n",
       "    <tr>\n",
       "      <th>123</th>\n",
       "      <td>IH</td>\n",
       "      <td>avg-clean</td>\n",
       "      <td>0.0662542</td>\n",
       "    </tr>\n",
       "    <tr>\n",
       "      <th>124</th>\n",
       "      <td>IH</td>\n",
       "      <td>avg-clean</td>\n",
       "      <td>0.0901403</td>\n",
       "    </tr>\n",
       "    <tr>\n",
       "      <th>125</th>\n",
       "      <td>IH</td>\n",
       "      <td>avg-clean</td>\n",
       "      <td>0.135006</td>\n",
       "    </tr>\n",
       "    <tr>\n",
       "      <th>126</th>\n",
       "      <td>IH</td>\n",
       "      <td>avg-clean</td>\n",
       "      <td>0.0466597</td>\n",
       "    </tr>\n",
       "    <tr>\n",
       "      <th>127</th>\n",
       "      <td>IH</td>\n",
       "      <td>avg-clean</td>\n",
       "      <td>0.0470964</td>\n",
       "    </tr>\n",
       "  </tbody>\n",
       "</table>\n",
       "<p>128 rows × 3 columns</p>\n",
       "</div>"
      ],
      "text/plain": [
       "    detect   variable      value\n",
       "0      kDN    avg-bug   0.790148\n",
       "1      kDN    avg-bug   0.523077\n",
       "2      kDN    avg-bug    0.78169\n",
       "3      kDN    avg-bug   0.607639\n",
       "4      kDN    avg-bug   0.442236\n",
       "..     ...        ...        ...\n",
       "123     IH  avg-clean  0.0662542\n",
       "124     IH  avg-clean  0.0901403\n",
       "125     IH  avg-clean   0.135006\n",
       "126     IH  avg-clean  0.0466597\n",
       "127     IH  avg-clean  0.0470964\n",
       "\n",
       "[128 rows x 3 columns]"
      ]
     },
     "execution_count": 39,
     "metadata": {},
     "output_type": "execute_result"
    }
   ],
   "source": [
    "tt = pd.melt(tmp,id_vars=['detect'])\n",
    "tt"
   ]
  },
  {
   "cell_type": "code",
   "execution_count": 40,
   "metadata": {},
   "outputs": [],
   "source": [
    "tt.columns = ['detector','Class','MCC']"
   ]
  },
  {
   "cell_type": "code",
   "execution_count": 42,
   "metadata": {},
   "outputs": [
    {
     "data": {
      "image/png": "[encoded data removed]",
      "text/plain": [
       "<Figure size 432x360 with 1 Axes>"
      ]
     },
     "metadata": {
      "needs_background": "light"
     },
     "output_type": "display_data"
    }
   ],
   "source": [
    "plt.figure(figsize=(6,5));\n",
    "f = sns.boxplot(x='Class',y='MCC',data=tt,hue='detector');"
   ]
  },
  {
   "cell_type": "code",
   "execution_count": 43,
   "metadata": {},
   "outputs": [],
   "source": [
    "f.get_figure().savefig(\"figures/noise_estimates.svg\",format='svg');"
   ]
  },
  {
   "cell_type": "markdown",
   "metadata": {},
   "source": [
    "## Impact on Classification performance\n",
    "So, both noise detectors discriminate against minority Bug class. But when we incorporate this noise estimates into this imbalanced classification setting, how much does this actually hurt classification performance? Is balancing first better? `Balancing->Filtering` vs `Filtering->Balancing`"
   ]
  },
  {
   "cell_type": "code",
   "execution_count": null,
   "metadata": {},
   "outputs": [],
   "source": [
    "from collections import defaultdict\n",
    "from sklearn.naive_bayes import GaussianNB\n",
    "from sklearn.tree import DecisionTreeClassifier\n",
    "from sklearn.linear_model import LogisticRegression\n",
    "from sklearn.neighbors import KNeighborsClassifier\n",
    "from sklearn.ensemble import RandomForestClassifier\n",
    "from sklearn.model_selection import RepeatedStratifiedKFold\n",
    "from imblearn.ensemble import BalancedBaggingClassifier, RUSBoostClassifier\n",
    "from imblearn.over_sampling import SMOTE\n",
    "from imblearn.under_sampling import RandomUnderSampler, EditedNearestNeighbours, TomekLinks\n",
    "from imblearn.pipeline import Pipeline\n",
    "\n",
    "from library.cleaners import FilteringEstimator"
   ]
  },
  {
   "cell_type": "code",
   "execution_count": null,
   "metadata": {},
   "outputs": [],
   "source": [
    "def evaluateFilter(clf,X,y_noisy,y_real,cv,scorers):\n",
    "    scores = defaultdict(list)\n",
    "    to_keep = (y_noisy==y_real).sum()\n",
    "    for train_id, test_id in cv.split(X,y_real):  #vs y_noisy, to solve no-pos-label-in-test-set bug     \n",
    "        try:\n",
    "            clf = clf.fit(X[train_id],y_noisy[train_id],to_keep=to_keep)\n",
    "            probs = clf.predict_proba(X[test_id])\n",
    "            assert probs.shape[1]==2\n",
    "        except (ValueError,AssertionError) as e: \n",
    "            #assert str(e).startswith(\"Expected n_neighbors\") or str(e).startswith(\"The target\"),f\"Some different Error:{str(e)}\"\n",
    "            for func in scorers:\n",
    "                scores[func.__name__].append(0)\n",
    "            print(\"ERROR\")\n",
    "            continue\n",
    "        labels = np.argmax(probs,axis=1)\n",
    "        for func in scorers:\n",
    "            yp = probs[:,1]\n",
    "            try:\n",
    "                func([0,1,1],[.2,.6,.7])\n",
    "                yp = probs[:,1]\n",
    "            except ValueError as e:\n",
    "                yp = labels\n",
    "            scores[func.__name__].append(func(y_real[test_id],yp))\n",
    "    for func in scorers:\n",
    "        scores[func.__name__] = np.array(scores[func.__name__])\n",
    "    return scores"
   ]
  },
  {
   "cell_type": "code",
   "execution_count": null,
   "metadata": {},
   "outputs": [],
   "source": [
    "imbs = {\n",
    "    'smote': SMOTE(k_neighbors=5),\n",
    "    'rus': RandomUnderSampler('not minority'),\n",
    "    'wilson':EditedNearestNeighbours(n_neighbors=5),  #Default was 3\n",
    "    'tomek': TomekLinks(),\n",
    "}\n",
    "clfs = {\n",
    "    'dt': DecisionTreeClassifier(max_depth=20),\n",
    "    'lr': LogisticRegression(solver='lbfgs',max_iter=1000),\n",
    "    'nb': GaussianNB(),\n",
    "    'knn': KNeighborsClassifier(n_neighbors=5),\n",
    "    'rf': RandomForestClassifier(n_estimators=50),\n",
    "}\n",
    "ensembles = {\n",
    "    'rboost_DT': RUSBoostClassifier(base_estimator=DecisionTreeClassifier(max_depth=10),algorithm='SAMME',n_estimators=10),\n",
    "    'rboost_NB': RUSBoostClassifier(base_estimator=GaussianNB(),algorithm='SAMME',n_estimators=10),\n",
    "    'bbag_DT': BalancedBaggingClassifier(base_estimator=DecisionTreeClassifier(max_depth=20,max_features='sqrt')),\n",
    "    'bbag_NB': BalancedBaggingClassifier(base_estimator=GaussianNB()),\n",
    "}\n",
    "simples = {\n",
    "    'LR': LogisticRegression(solver='lbfgs',max_iter=1000),\n",
    "    'RF': RandomForestClassifier(n_estimators=50)\n",
    "}"
   ]
  },
  {
   "cell_type": "markdown",
   "metadata": {},
   "source": [
    "## Filtering -> Balancing"
   ]
  },
  {
   "cell_type": "code",
   "execution_count": null,
   "metadata": {},
   "outputs": [],
   "source": [
    "models = {}\n",
    "for im,samp in imbs.items():\n",
    "    for c,clf in clfs.items():\n",
    "        models[(im,c)] = FilteringEstimator(Pipeline([('samp',samp),('clf',clf)]),kDN,K=5)\n",
    "\n",
    "for m,ens in ensembles.items():\n",
    "    models[('ens',m)] = FilteringEstimator(ens,kDN,K=5)\n",
    "    \n",
    "for m,clf in simples.items():\n",
    "    models[('sim',m)] = FilteringEstimator(clf,kDN,K=5)    \n",
    "    \n",
    "models.keys(),len(models)"
   ]
  },
  {
   "cell_type": "code",
   "execution_count": null,
   "metadata": {},
   "outputs": [],
   "source": [
    "cv = RepeatedStratifiedKFold(n_splits=10,n_repeats=3,random_state=None)\n",
    "def pr_rec_score(y,yp):\n",
    "    prec, rec, _ = precision_recall_curve(y,yp)\n",
    "    return auc(rec,prec)\n",
    "scorers = [matthews_corrcoef,pr_rec_score]"
   ]
  },
  {
   "cell_type": "code",
   "execution_count": null,
   "metadata": {},
   "outputs": [],
   "source": [
    "cols = pd.MultiIndex.from_product([imbs.keys(),clfs.keys(),[f.__name__ for f in scorers]],names=['imb','clf','metric'])\n",
    "df = pd.DataFrame(index=DATASETS,columns=cols)\n",
    "df = pd.read_csv(\"Filtering->Balancing.csv\",header=[0,1,2],index_col=0)"
   ]
  },
  {
   "cell_type": "code",
   "execution_count": null,
   "metadata": {},
   "outputs": [],
   "source": [
    "for d in DATASETS:\n",
    "    X,y_noisy,y_real = read_data(d,stats=True)\n",
    "    if df.loc[d,:].isna().sum()==0: \n",
    "        print(f\"Skipping {d}\")\n",
    "        continue\n",
    "    for k in models:\n",
    "        print(k)\n",
    "        r = evaluateFilter(models[k],X,y_noisy,y_real,cv,scorers)\n",
    "        for f in r:\n",
    "            df.loc[d,(k[0],k[1],f)] = r[f].mean()\n",
    "    df.to_csv(\"Filtering->Balancing.csv\")"
   ]
  },
  {
   "cell_type": "code",
   "execution_count": null,
   "metadata": {},
   "outputs": [],
   "source": [
    "df"
   ]
  },
  {
   "cell_type": "code",
   "execution_count": null,
   "metadata": {},
   "outputs": [],
   "source": [
    "from scipy.stats import wilcoxon, friedmanchisquare, rankdata\n",
    "import scikit_posthocs as sp"
   ]
  },
  {
   "cell_type": "code",
   "execution_count": null,
   "metadata": {},
   "outputs": [],
   "source": [
    "mat = df.drop(columns=['matthews_corrcoef'],axis=1,level=2).droplevel(2,axis=1)\n",
    "mat.shape"
   ]
  },
  {
   "cell_type": "code",
   "execution_count": null,
   "metadata": {},
   "outputs": [],
   "source": [
    "res = mat.copy()\n",
    "for d in mat.index:\n",
    "    res.loc[d] = rankdata(1-mat.loc[d])\n",
    "res"
   ]
  },
  {
   "cell_type": "code",
   "execution_count": null,
   "metadata": {},
   "outputs": [],
   "source": [
    "res.mean().sort_values()"
   ]
  },
  {
   "cell_type": "code",
   "execution_count": null,
   "metadata": {},
   "outputs": [],
   "source": []
  },
  {
   "cell_type": "code",
   "execution_count": null,
   "metadata": {},
   "outputs": [],
   "source": []
  },
  {
   "cell_type": "code",
   "execution_count": null,
   "metadata": {},
   "outputs": [],
   "source": []
  },
  {
   "cell_type": "code",
   "execution_count": null,
   "metadata": {},
   "outputs": [],
   "source": [
    "\n",
    "\n",
    "\n",
    "\n",
    "\n",
    "\n",
    "\n",
    "\n",
    "\n",
    "\n",
    "\n",
    "\n",
    "\n",
    "\n",
    "\n",
    "\n",
    "\n",
    "\n"
   ]
  }
 ],
 "metadata": {
  "kernelspec": {
   "display_name": "Python 3",
   "language": "python",
   "name": "python3"
  },
  "language_info": {
   "codemirror_mode": {
    "name": "ipython",
    "version": 3
   },
   "file_extension": ".py",
   "mimetype": "text/x-python",
   "name": "python",
   "nbconvert_exporter": "python",
   "pygments_lexer": "ipython3",
   "version": "3.7.5"
  }
 },
 "nbformat": 4,
 "nbformat_minor": 4
}
