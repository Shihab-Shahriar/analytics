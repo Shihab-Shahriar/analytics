{
 "cells": [
  {
   "cell_type": "markdown",
   "metadata": {},
   "source": [
    "## Questions to Answer\n",
    "1. Does Filtering on noise estimates worsen imbalance? Before vs after IR for CLNI, Two-stage ensemble\n",
    "2. Avg. noise likelihood of minority vs majority class?\n",
    "3. Ratio of 0->1 & 1->0 noise types vs ratio of noisy samples identified in each class. With oracle access to no of actual, total no. of noisy samples "
   ]
  },
  {
   "cell_type": "code",
   "execution_count": 1,
   "metadata": {},
   "outputs": [
    {
     "name": "stderr",
     "output_type": "stream",
     "text": [
      "/home/shihab/anaconda3/envs/ana/lib/python3.7/site-packages/sklearn/utils/deprecation.py:144: FutureWarning: The sklearn.neighbors.base module is  deprecated in version 0.22 and will be removed in version 0.24. The corresponding classes / functions should instead be imported from sklearn.neighbors. Anything that cannot be imported from sklearn.neighbors is now part of the private API.\n",
      "  warnings.warn(message, FutureWarning)\n"
     ]
    }
   ],
   "source": [
    "import numpy as np,os\n",
    "import pandas as pd\n",
    "from sklearn.metrics import matthews_corrcoef, precision_recall_curve, auc, accuracy_score, precision_score, recall_score\n",
    "import seaborn as sns,matplotlib.pyplot as plt\n",
    "\n",
    "from library.utils import evaluate, read_data\n",
    "from library.cleaners import kDN, ih_prob"
   ]
  },
  {
   "cell_type": "markdown",
   "metadata": {},
   "source": [
    "## Notes\n",
    "+ Using `kDN(K=5)`: In `25/32` datasets, no of samples with NP noise (Bug class in noisy dataset but actually Clean) has been overestimated. Consequently PN has been underestimated. This shows minority class gets disproportionately affected.\n",
    "    + For `ih_prob`: that number is `23/32`\n",
    "+ In terms of avg. probability of being noisy: samples in Bug class (of noisy data version) have vastly hugher value than clean ones. On further avg on 32 datasets, `.702 vs .074`, almost 10 times higher."
   ]
  },
  {
   "cell_type": "code",
   "execution_count": 2,
   "metadata": {},
   "outputs": [
    {
     "data": {
      "text/plain": [
       "32"
      ]
     },
     "execution_count": 2,
     "metadata": {},
     "output_type": "execute_result"
    }
   ],
   "source": [
    "DATASETS = ['groovy-1_5_7.csv','jruby-1.4.0.csv','lucene-2.9.0.csv','jruby-1.7.0.preview1.csv','groovy-1_6_BETA_1.csv',\n",
    "        'derby-10.2.1.6.csv','wicket-1.5.3.csv','camel-2.9.0.csv','camel-1.4.0.csv','activemq-5.8.0.csv']\n",
    "DATASETS = [f for f in os.listdir(\"JIRA/\") if 'csv' in f]\n",
    "len(DATASETS)"
   ]
  },
  {
   "cell_type": "code",
   "execution_count": 3,
   "metadata": {
    "collapsed": true,
    "jupyter": {
     "outputs_hidden": true
    }
   },
   "outputs": [
    {
     "name": "stdout",
     "output_type": "stream",
     "text": [
      "activemq-5.8.0.csv noise:0.058, imb:15.847,203,3217, Shape:(3420, 65)\n",
      "PN 100,NP 97\n",
      "ePN 26,eNP 171\n",
      "Avg, Bug:0.790, Clean:0.045\n",
      "\n",
      "groovy-1_6_BETA_1.csv noise:0.128, imb:6.017,117,704, Shape:(821, 65)\n",
      "PN 29,NP 76\n",
      "ePN 39,eNP 66\n",
      "Avg, Bug:0.525, Clean:0.092\n",
      "\n",
      "activemq-5.3.0.csv noise:0.094, imb:15.669,142,2225, Shape:(2367, 65)\n",
      "PN 169,NP 53\n",
      "ePN 88,eNP 134\n",
      "Avg, Bug:0.782, Clean:0.042\n",
      "\n",
      "wicket-1.3.0-incubating-beta-1.csv noise:0.164, imb:4.806,288,1384, Shape:(1672, 65)\n",
      "PN 44,NP 231\n",
      "ePN 86,eNP 189\n",
      "Avg, Bug:0.608, Clean:0.123\n",
      "\n",
      "jruby-1.1.csv noise:0.175, imb:3.540,161,570, Shape:(731, 65)\n",
      "PN 27,NP 101\n",
      "ePN 59,eNP 69\n",
      "Avg, Bug:0.442, Clean:0.154\n",
      "\n",
      "jruby-1.4.0.csv noise:0.190, imb:3.890,200,778, Shape:(978, 65)\n",
      "PN 83,NP 103\n",
      "ePN 66,eNP 120\n",
      "Avg, Bug:0.566, Clean:0.139\n",
      "\n",
      "lucene-2.3.0.csv noise:0.204, imb:4.031,160,645, Shape:(805, 65)\n",
      "PN 100,NP 64\n",
      "ePN 62,eNP 102\n",
      "Avg, Bug:0.601, Clean:0.139\n",
      "\n",
      "hbase-0.95.2.csv noise:0.260, imb:15.088,114,1720, Shape:(1834, 65)\n",
      "PN 423,NP 54\n",
      "ePN 363,eNP 114\n",
      "Avg, Bug:0.821, Clean:0.053\n",
      "\n",
      "lucene-3.0.0.csv noise:0.185, imb:6.037,190,1147, Shape:(1337, 65)\n",
      "PN 106,NP 141\n",
      "ePN 96,eNP 151\n",
      "Avg, Bug:0.657, Clean:0.118\n",
      "\n",
      "camel-2.9.0.csv noise:0.044, imb:34.600,200,6920, Shape:(7120, 65)\n",
      "PN 156,NP 157\n"
     ]
    },
    {
     "ename": "KeyboardInterrupt",
     "evalue": "",
     "output_type": "error",
     "traceback": [
      "\u001b[0;31m---------------------------------------------------------------------------\u001b[0m",
      "\u001b[0;31mKeyboardInterrupt\u001b[0m                         Traceback (most recent call last)",
      "\u001b[0;32m<ipython-input-3-55b426ac0853>\u001b[0m in \u001b[0;36m<module>\u001b[0;34m\u001b[0m\n\u001b[1;32m      6\u001b[0m     \u001b[0;32massert\u001b[0m \u001b[0mPN\u001b[0m\u001b[0;34m.\u001b[0m\u001b[0msum\u001b[0m\u001b[0;34m(\u001b[0m\u001b[0;34m)\u001b[0m\u001b[0;34m+\u001b[0m\u001b[0mNP\u001b[0m\u001b[0;34m.\u001b[0m\u001b[0msum\u001b[0m\u001b[0;34m(\u001b[0m\u001b[0;34m)\u001b[0m\u001b[0;34m==\u001b[0m\u001b[0;34m(\u001b[0m\u001b[0my_noisy\u001b[0m\u001b[0;34m!=\u001b[0m\u001b[0my_real\u001b[0m\u001b[0;34m)\u001b[0m\u001b[0;34m.\u001b[0m\u001b[0msum\u001b[0m\u001b[0;34m(\u001b[0m\u001b[0;34m)\u001b[0m\u001b[0;34m\u001b[0m\u001b[0;34m\u001b[0m\u001b[0m\n\u001b[1;32m      7\u001b[0m     \u001b[0mprint\u001b[0m\u001b[0;34m(\u001b[0m\u001b[0;34mf\"PN {PN.sum()},NP {NP.sum()}\"\u001b[0m\u001b[0;34m)\u001b[0m\u001b[0;34m\u001b[0m\u001b[0;34m\u001b[0m\u001b[0m\n\u001b[0;32m----> 8\u001b[0;31m     \u001b[0mne\u001b[0m \u001b[0;34m=\u001b[0m \u001b[0mkDN\u001b[0m\u001b[0;34m(\u001b[0m\u001b[0mX\u001b[0m\u001b[0;34m,\u001b[0m\u001b[0my_noisy\u001b[0m\u001b[0;34m,\u001b[0m\u001b[0mK\u001b[0m\u001b[0;34m=\u001b[0m\u001b[0;36m5\u001b[0m\u001b[0;34m)\u001b[0m\u001b[0;34m\u001b[0m\u001b[0;34m\u001b[0m\u001b[0m\n\u001b[0m\u001b[1;32m      9\u001b[0m     \u001b[0mavg_bug\u001b[0m\u001b[0;34m,\u001b[0m\u001b[0mavg_clean\u001b[0m \u001b[0;34m=\u001b[0m \u001b[0mne\u001b[0m\u001b[0;34m[\u001b[0m\u001b[0my_noisy\u001b[0m\u001b[0;34m==\u001b[0m\u001b[0;36m1\u001b[0m\u001b[0;34m]\u001b[0m\u001b[0;34m.\u001b[0m\u001b[0mmean\u001b[0m\u001b[0;34m(\u001b[0m\u001b[0;34m)\u001b[0m\u001b[0;34m,\u001b[0m\u001b[0mne\u001b[0m\u001b[0;34m[\u001b[0m\u001b[0my_noisy\u001b[0m\u001b[0;34m==\u001b[0m\u001b[0;36m0\u001b[0m\u001b[0;34m]\u001b[0m\u001b[0;34m.\u001b[0m\u001b[0mmean\u001b[0m\u001b[0;34m(\u001b[0m\u001b[0;34m)\u001b[0m  \u001b[0;31m#avg_bug: avg noise probs of those labelled Buggy in Noisy dataset\u001b[0m\u001b[0;34m\u001b[0m\u001b[0;34m\u001b[0m\u001b[0m\n\u001b[1;32m     10\u001b[0m     \u001b[0mactual_total\u001b[0m \u001b[0;34m=\u001b[0m \u001b[0;34m(\u001b[0m\u001b[0my_noisy\u001b[0m\u001b[0;34m!=\u001b[0m\u001b[0my_real\u001b[0m\u001b[0;34m)\u001b[0m\u001b[0;34m.\u001b[0m\u001b[0msum\u001b[0m\u001b[0;34m(\u001b[0m\u001b[0;34m)\u001b[0m\u001b[0;34m\u001b[0m\u001b[0;34m\u001b[0m\u001b[0m\n",
      "\u001b[0;32m~/analytics/library/cleaners.py\u001b[0m in \u001b[0;36mkDN\u001b[0;34m(X, Y, K, n_jobs, weight, **kwargs)\u001b[0m\n\u001b[1;32m     11\u001b[0m \u001b[0;32mdef\u001b[0m \u001b[0mkDN\u001b[0m\u001b[0;34m(\u001b[0m\u001b[0mX\u001b[0m\u001b[0;34m,\u001b[0m \u001b[0mY\u001b[0m\u001b[0;34m,\u001b[0m \u001b[0mK\u001b[0m\u001b[0;34m=\u001b[0m\u001b[0;36m5\u001b[0m\u001b[0;34m,\u001b[0m \u001b[0mn_jobs\u001b[0m\u001b[0;34m=\u001b[0m\u001b[0;34m-\u001b[0m\u001b[0;36m1\u001b[0m\u001b[0;34m,\u001b[0m\u001b[0mweight\u001b[0m\u001b[0;34m=\u001b[0m\u001b[0;34m'uniform'\u001b[0m\u001b[0;34m,\u001b[0m \u001b[0;34m**\u001b[0m\u001b[0mkwargs\u001b[0m\u001b[0;34m)\u001b[0m\u001b[0;34m:\u001b[0m\u001b[0;34m\u001b[0m\u001b[0;34m\u001b[0m\u001b[0m\n\u001b[1;32m     12\u001b[0m     \u001b[0mknn\u001b[0m \u001b[0;34m=\u001b[0m \u001b[0mKNeighborsClassifier\u001b[0m\u001b[0;34m(\u001b[0m\u001b[0mn_neighbors\u001b[0m\u001b[0;34m=\u001b[0m\u001b[0mK\u001b[0m\u001b[0;34m,\u001b[0m \u001b[0mn_jobs\u001b[0m\u001b[0;34m=\u001b[0m\u001b[0mn_jobs\u001b[0m\u001b[0;34m,\u001b[0m \u001b[0mweights\u001b[0m\u001b[0;34m=\u001b[0m\u001b[0mweight\u001b[0m\u001b[0;34m)\u001b[0m\u001b[0;34m.\u001b[0m\u001b[0mfit\u001b[0m\u001b[0;34m(\u001b[0m\u001b[0mX\u001b[0m\u001b[0;34m,\u001b[0m \u001b[0mY\u001b[0m\u001b[0;34m)\u001b[0m\u001b[0;34m\u001b[0m\u001b[0;34m\u001b[0m\u001b[0m\n\u001b[0;32m---> 13\u001b[0;31m     \u001b[0mdist\u001b[0m\u001b[0;34m,\u001b[0m \u001b[0mkid\u001b[0m \u001b[0;34m=\u001b[0m \u001b[0mknn\u001b[0m\u001b[0;34m.\u001b[0m\u001b[0mkneighbors\u001b[0m\u001b[0;34m(\u001b[0m\u001b[0;34m)\u001b[0m  \u001b[0;31m# (N,K) : ids & dist of nn's for every sample in X\u001b[0m\u001b[0;34m\u001b[0m\u001b[0;34m\u001b[0m\u001b[0m\n\u001b[0m\u001b[1;32m     14\u001b[0m     \u001b[0mweights\u001b[0m \u001b[0;34m=\u001b[0m \u001b[0m_get_weights\u001b[0m\u001b[0;34m(\u001b[0m\u001b[0mdist\u001b[0m\u001b[0;34m,\u001b[0m \u001b[0mweight\u001b[0m\u001b[0;34m)\u001b[0m\u001b[0;34m\u001b[0m\u001b[0;34m\u001b[0m\u001b[0m\n\u001b[1;32m     15\u001b[0m     \u001b[0;32mif\u001b[0m \u001b[0mweights\u001b[0m \u001b[0;32mis\u001b[0m \u001b[0;32mNone\u001b[0m\u001b[0;34m:\u001b[0m\u001b[0;34m\u001b[0m\u001b[0;34m\u001b[0m\u001b[0m\n",
      "\u001b[0;32m~/anaconda3/envs/ana/lib/python3.7/site-packages/sklearn/neighbors/_base.py\u001b[0m in \u001b[0;36mkneighbors\u001b[0;34m(self, X, n_neighbors, return_distance)\u001b[0m\n\u001b[1;32m    661\u001b[0m                 delayed_query(\n\u001b[1;32m    662\u001b[0m                     self._tree, X[s], n_neighbors, return_distance)\n\u001b[0;32m--> 663\u001b[0;31m                 \u001b[0;32mfor\u001b[0m \u001b[0ms\u001b[0m \u001b[0;32min\u001b[0m \u001b[0mgen_even_slices\u001b[0m\u001b[0;34m(\u001b[0m\u001b[0mX\u001b[0m\u001b[0;34m.\u001b[0m\u001b[0mshape\u001b[0m\u001b[0;34m[\u001b[0m\u001b[0;36m0\u001b[0m\u001b[0;34m]\u001b[0m\u001b[0;34m,\u001b[0m \u001b[0mn_jobs\u001b[0m\u001b[0;34m)\u001b[0m\u001b[0;34m\u001b[0m\u001b[0;34m\u001b[0m\u001b[0m\n\u001b[0m\u001b[1;32m    664\u001b[0m             )\n\u001b[1;32m    665\u001b[0m         \u001b[0;32melse\u001b[0m\u001b[0;34m:\u001b[0m\u001b[0;34m\u001b[0m\u001b[0;34m\u001b[0m\u001b[0m\n",
      "\u001b[0;32m~/anaconda3/envs/ana/lib/python3.7/site-packages/joblib/parallel.py\u001b[0m in \u001b[0;36m__call__\u001b[0;34m(self, iterable)\u001b[0m\n\u001b[1;32m   1014\u001b[0m \u001b[0;34m\u001b[0m\u001b[0m\n\u001b[1;32m   1015\u001b[0m             \u001b[0;32mwith\u001b[0m \u001b[0mself\u001b[0m\u001b[0;34m.\u001b[0m\u001b[0m_backend\u001b[0m\u001b[0;34m.\u001b[0m\u001b[0mretrieval_context\u001b[0m\u001b[0;34m(\u001b[0m\u001b[0;34m)\u001b[0m\u001b[0;34m:\u001b[0m\u001b[0;34m\u001b[0m\u001b[0;34m\u001b[0m\u001b[0m\n\u001b[0;32m-> 1016\u001b[0;31m                 \u001b[0mself\u001b[0m\u001b[0;34m.\u001b[0m\u001b[0mretrieve\u001b[0m\u001b[0;34m(\u001b[0m\u001b[0;34m)\u001b[0m\u001b[0;34m\u001b[0m\u001b[0;34m\u001b[0m\u001b[0m\n\u001b[0m\u001b[1;32m   1017\u001b[0m             \u001b[0;31m# Make sure that we get a last message telling us we are done\u001b[0m\u001b[0;34m\u001b[0m\u001b[0;34m\u001b[0m\u001b[0;34m\u001b[0m\u001b[0m\n\u001b[1;32m   1018\u001b[0m             \u001b[0melapsed_time\u001b[0m \u001b[0;34m=\u001b[0m \u001b[0mtime\u001b[0m\u001b[0;34m.\u001b[0m\u001b[0mtime\u001b[0m\u001b[0;34m(\u001b[0m\u001b[0;34m)\u001b[0m \u001b[0;34m-\u001b[0m \u001b[0mself\u001b[0m\u001b[0;34m.\u001b[0m\u001b[0m_start_time\u001b[0m\u001b[0;34m\u001b[0m\u001b[0;34m\u001b[0m\u001b[0m\n",
      "\u001b[0;32m~/anaconda3/envs/ana/lib/python3.7/site-packages/joblib/parallel.py\u001b[0m in \u001b[0;36mretrieve\u001b[0;34m(self)\u001b[0m\n\u001b[1;32m    906\u001b[0m             \u001b[0;32mtry\u001b[0m\u001b[0;34m:\u001b[0m\u001b[0;34m\u001b[0m\u001b[0;34m\u001b[0m\u001b[0m\n\u001b[1;32m    907\u001b[0m                 \u001b[0;32mif\u001b[0m \u001b[0mgetattr\u001b[0m\u001b[0;34m(\u001b[0m\u001b[0mself\u001b[0m\u001b[0;34m.\u001b[0m\u001b[0m_backend\u001b[0m\u001b[0;34m,\u001b[0m \u001b[0;34m'supports_timeout'\u001b[0m\u001b[0;34m,\u001b[0m \u001b[0;32mFalse\u001b[0m\u001b[0;34m)\u001b[0m\u001b[0;34m:\u001b[0m\u001b[0;34m\u001b[0m\u001b[0;34m\u001b[0m\u001b[0m\n\u001b[0;32m--> 908\u001b[0;31m                     \u001b[0mself\u001b[0m\u001b[0;34m.\u001b[0m\u001b[0m_output\u001b[0m\u001b[0;34m.\u001b[0m\u001b[0mextend\u001b[0m\u001b[0;34m(\u001b[0m\u001b[0mjob\u001b[0m\u001b[0;34m.\u001b[0m\u001b[0mget\u001b[0m\u001b[0;34m(\u001b[0m\u001b[0mtimeout\u001b[0m\u001b[0;34m=\u001b[0m\u001b[0mself\u001b[0m\u001b[0;34m.\u001b[0m\u001b[0mtimeout\u001b[0m\u001b[0;34m)\u001b[0m\u001b[0;34m)\u001b[0m\u001b[0;34m\u001b[0m\u001b[0;34m\u001b[0m\u001b[0m\n\u001b[0m\u001b[1;32m    909\u001b[0m                 \u001b[0;32melse\u001b[0m\u001b[0;34m:\u001b[0m\u001b[0;34m\u001b[0m\u001b[0;34m\u001b[0m\u001b[0m\n\u001b[1;32m    910\u001b[0m                     \u001b[0mself\u001b[0m\u001b[0;34m.\u001b[0m\u001b[0m_output\u001b[0m\u001b[0;34m.\u001b[0m\u001b[0mextend\u001b[0m\u001b[0;34m(\u001b[0m\u001b[0mjob\u001b[0m\u001b[0;34m.\u001b[0m\u001b[0mget\u001b[0m\u001b[0;34m(\u001b[0m\u001b[0;34m)\u001b[0m\u001b[0;34m)\u001b[0m\u001b[0;34m\u001b[0m\u001b[0;34m\u001b[0m\u001b[0m\n",
      "\u001b[0;32m~/anaconda3/envs/ana/lib/python3.7/multiprocessing/pool.py\u001b[0m in \u001b[0;36mget\u001b[0;34m(self, timeout)\u001b[0m\n\u001b[1;32m    649\u001b[0m \u001b[0;34m\u001b[0m\u001b[0m\n\u001b[1;32m    650\u001b[0m     \u001b[0;32mdef\u001b[0m \u001b[0mget\u001b[0m\u001b[0;34m(\u001b[0m\u001b[0mself\u001b[0m\u001b[0;34m,\u001b[0m \u001b[0mtimeout\u001b[0m\u001b[0;34m=\u001b[0m\u001b[0;32mNone\u001b[0m\u001b[0;34m)\u001b[0m\u001b[0;34m:\u001b[0m\u001b[0;34m\u001b[0m\u001b[0;34m\u001b[0m\u001b[0m\n\u001b[0;32m--> 651\u001b[0;31m         \u001b[0mself\u001b[0m\u001b[0;34m.\u001b[0m\u001b[0mwait\u001b[0m\u001b[0;34m(\u001b[0m\u001b[0mtimeout\u001b[0m\u001b[0;34m)\u001b[0m\u001b[0;34m\u001b[0m\u001b[0;34m\u001b[0m\u001b[0m\n\u001b[0m\u001b[1;32m    652\u001b[0m         \u001b[0;32mif\u001b[0m \u001b[0;32mnot\u001b[0m \u001b[0mself\u001b[0m\u001b[0;34m.\u001b[0m\u001b[0mready\u001b[0m\u001b[0;34m(\u001b[0m\u001b[0;34m)\u001b[0m\u001b[0;34m:\u001b[0m\u001b[0;34m\u001b[0m\u001b[0;34m\u001b[0m\u001b[0m\n\u001b[1;32m    653\u001b[0m             \u001b[0;32mraise\u001b[0m \u001b[0mTimeoutError\u001b[0m\u001b[0;34m\u001b[0m\u001b[0;34m\u001b[0m\u001b[0m\n",
      "\u001b[0;32m~/anaconda3/envs/ana/lib/python3.7/multiprocessing/pool.py\u001b[0m in \u001b[0;36mwait\u001b[0;34m(self, timeout)\u001b[0m\n\u001b[1;32m    646\u001b[0m \u001b[0;34m\u001b[0m\u001b[0m\n\u001b[1;32m    647\u001b[0m     \u001b[0;32mdef\u001b[0m \u001b[0mwait\u001b[0m\u001b[0;34m(\u001b[0m\u001b[0mself\u001b[0m\u001b[0;34m,\u001b[0m \u001b[0mtimeout\u001b[0m\u001b[0;34m=\u001b[0m\u001b[0;32mNone\u001b[0m\u001b[0;34m)\u001b[0m\u001b[0;34m:\u001b[0m\u001b[0;34m\u001b[0m\u001b[0;34m\u001b[0m\u001b[0m\n\u001b[0;32m--> 648\u001b[0;31m         \u001b[0mself\u001b[0m\u001b[0;34m.\u001b[0m\u001b[0m_event\u001b[0m\u001b[0;34m.\u001b[0m\u001b[0mwait\u001b[0m\u001b[0;34m(\u001b[0m\u001b[0mtimeout\u001b[0m\u001b[0;34m)\u001b[0m\u001b[0;34m\u001b[0m\u001b[0;34m\u001b[0m\u001b[0m\n\u001b[0m\u001b[1;32m    649\u001b[0m \u001b[0;34m\u001b[0m\u001b[0m\n\u001b[1;32m    650\u001b[0m     \u001b[0;32mdef\u001b[0m \u001b[0mget\u001b[0m\u001b[0;34m(\u001b[0m\u001b[0mself\u001b[0m\u001b[0;34m,\u001b[0m \u001b[0mtimeout\u001b[0m\u001b[0;34m=\u001b[0m\u001b[0;32mNone\u001b[0m\u001b[0;34m)\u001b[0m\u001b[0;34m:\u001b[0m\u001b[0;34m\u001b[0m\u001b[0;34m\u001b[0m\u001b[0m\n",
      "\u001b[0;32m~/anaconda3/envs/ana/lib/python3.7/threading.py\u001b[0m in \u001b[0;36mwait\u001b[0;34m(self, timeout)\u001b[0m\n\u001b[1;32m    550\u001b[0m             \u001b[0msignaled\u001b[0m \u001b[0;34m=\u001b[0m \u001b[0mself\u001b[0m\u001b[0;34m.\u001b[0m\u001b[0m_flag\u001b[0m\u001b[0;34m\u001b[0m\u001b[0;34m\u001b[0m\u001b[0m\n\u001b[1;32m    551\u001b[0m             \u001b[0;32mif\u001b[0m \u001b[0;32mnot\u001b[0m \u001b[0msignaled\u001b[0m\u001b[0;34m:\u001b[0m\u001b[0;34m\u001b[0m\u001b[0;34m\u001b[0m\u001b[0m\n\u001b[0;32m--> 552\u001b[0;31m                 \u001b[0msignaled\u001b[0m \u001b[0;34m=\u001b[0m \u001b[0mself\u001b[0m\u001b[0;34m.\u001b[0m\u001b[0m_cond\u001b[0m\u001b[0;34m.\u001b[0m\u001b[0mwait\u001b[0m\u001b[0;34m(\u001b[0m\u001b[0mtimeout\u001b[0m\u001b[0;34m)\u001b[0m\u001b[0;34m\u001b[0m\u001b[0;34m\u001b[0m\u001b[0m\n\u001b[0m\u001b[1;32m    553\u001b[0m             \u001b[0;32mreturn\u001b[0m \u001b[0msignaled\u001b[0m\u001b[0;34m\u001b[0m\u001b[0;34m\u001b[0m\u001b[0m\n\u001b[1;32m    554\u001b[0m \u001b[0;34m\u001b[0m\u001b[0m\n",
      "\u001b[0;32m~/anaconda3/envs/ana/lib/python3.7/threading.py\u001b[0m in \u001b[0;36mwait\u001b[0;34m(self, timeout)\u001b[0m\n\u001b[1;32m    294\u001b[0m         \u001b[0;32mtry\u001b[0m\u001b[0;34m:\u001b[0m    \u001b[0;31m# restore state no matter what (e.g., KeyboardInterrupt)\u001b[0m\u001b[0;34m\u001b[0m\u001b[0;34m\u001b[0m\u001b[0m\n\u001b[1;32m    295\u001b[0m             \u001b[0;32mif\u001b[0m \u001b[0mtimeout\u001b[0m \u001b[0;32mis\u001b[0m \u001b[0;32mNone\u001b[0m\u001b[0;34m:\u001b[0m\u001b[0;34m\u001b[0m\u001b[0;34m\u001b[0m\u001b[0m\n\u001b[0;32m--> 296\u001b[0;31m                 \u001b[0mwaiter\u001b[0m\u001b[0;34m.\u001b[0m\u001b[0macquire\u001b[0m\u001b[0;34m(\u001b[0m\u001b[0;34m)\u001b[0m\u001b[0;34m\u001b[0m\u001b[0;34m\u001b[0m\u001b[0m\n\u001b[0m\u001b[1;32m    297\u001b[0m                 \u001b[0mgotit\u001b[0m \u001b[0;34m=\u001b[0m \u001b[0;32mTrue\u001b[0m\u001b[0;34m\u001b[0m\u001b[0;34m\u001b[0m\u001b[0m\n\u001b[1;32m    298\u001b[0m             \u001b[0;32melse\u001b[0m\u001b[0;34m:\u001b[0m\u001b[0;34m\u001b[0m\u001b[0;34m\u001b[0m\u001b[0m\n",
      "\u001b[0;31mKeyboardInterrupt\u001b[0m: "
     ]
    }
   ],
   "source": [
    "df = pd.DataFrame(index=DATASETS,columns=['PN','ePN','NP','eNP','avg-bug','avg-clean'])\n",
    "for d in DATASETS:\n",
    "    X,y_noisy,y_real = read_data(d,True)\n",
    "    PN = y_noisy[y_real==1]==0   #So, really 1(P), but now 0(N)\n",
    "    NP = y_noisy[y_real==0]==1   #So, really 0(N), but now 1(P)\n",
    "    assert PN.sum()+NP.sum()==(y_noisy!=y_real).sum()\n",
    "    print(f\"PN {PN.sum()},NP {NP.sum()}\")\n",
    "    ne = kDN(X,y_noisy,K=5)\n",
    "    avg_bug,avg_clean = ne[y_noisy==1].mean(),ne[y_noisy==0].mean()  #avg_bug: avg noise probs of those labelled Buggy in Noisy dataset\n",
    "    actual_total = (y_noisy!=y_real).sum()\n",
    "    nidx = np.argsort(ne)[-actual_total:]\n",
    "    eNP = y_noisy[nidx]==1\n",
    "    ePN = y_noisy[nidx]==0\n",
    "    print(f\"ePN {ePN.sum()},eNP {eNP.sum()}\")\n",
    "    print(f\"Avg, Bug:{avg_bug:.3f}, Clean:{avg_clean:.3f}\")\n",
    "    print()\n",
    "    df.loc[d,:] = [x.sum() for x in [PN,ePN,NP,eNP]] + [avg_bug,avg_clean]"
   ]
  },
  {
   "cell_type": "code",
   "execution_count": 9,
   "metadata": {
    "collapsed": true,
    "jupyter": {
     "outputs_hidden": true
    }
   },
   "outputs": [
    {
     "data": {
      "text/html": [
       "<div>\n",
       "<style scoped>\n",
       "    .dataframe tbody tr th:only-of-type {\n",
       "        vertical-align: middle;\n",
       "    }\n",
       "\n",
       "    .dataframe tbody tr th {\n",
       "        vertical-align: top;\n",
       "    }\n",
       "\n",
       "    .dataframe thead th {\n",
       "        text-align: right;\n",
       "    }\n",
       "</style>\n",
       "<table border=\"1\" class=\"dataframe\">\n",
       "  <thead>\n",
       "    <tr style=\"text-align: right;\">\n",
       "      <th></th>\n",
       "      <th>PN</th>\n",
       "      <th>ePN</th>\n",
       "      <th>NP</th>\n",
       "      <th>eNP</th>\n",
       "      <th>avg-bug</th>\n",
       "      <th>avg-clean</th>\n",
       "    </tr>\n",
       "  </thead>\n",
       "  <tbody>\n",
       "    <tr>\n",
       "      <th>activemq-5.8.0.csv</th>\n",
       "      <td>100</td>\n",
       "      <td>25</td>\n",
       "      <td>97</td>\n",
       "      <td>172</td>\n",
       "      <td>0.790148</td>\n",
       "      <td>0.0452596</td>\n",
       "    </tr>\n",
       "    <tr>\n",
       "      <th>groovy-1_6_BETA_1.csv</th>\n",
       "      <td>29</td>\n",
       "      <td>40</td>\n",
       "      <td>76</td>\n",
       "      <td>65</td>\n",
       "      <td>0.523077</td>\n",
       "      <td>0.0923295</td>\n",
       "    </tr>\n",
       "    <tr>\n",
       "      <th>activemq-5.3.0.csv</th>\n",
       "      <td>169</td>\n",
       "      <td>88</td>\n",
       "      <td>53</td>\n",
       "      <td>134</td>\n",
       "      <td>0.78169</td>\n",
       "      <td>0.0420674</td>\n",
       "    </tr>\n",
       "    <tr>\n",
       "      <th>wicket-1.3.0-incubating-beta-1.csv</th>\n",
       "      <td>44</td>\n",
       "      <td>86</td>\n",
       "      <td>231</td>\n",
       "      <td>189</td>\n",
       "      <td>0.607639</td>\n",
       "      <td>0.122832</td>\n",
       "    </tr>\n",
       "    <tr>\n",
       "      <th>jruby-1.1.csv</th>\n",
       "      <td>27</td>\n",
       "      <td>59</td>\n",
       "      <td>101</td>\n",
       "      <td>69</td>\n",
       "      <td>0.442236</td>\n",
       "      <td>0.153684</td>\n",
       "    </tr>\n",
       "    <tr>\n",
       "      <th>jruby-1.4.0.csv</th>\n",
       "      <td>83</td>\n",
       "      <td>67</td>\n",
       "      <td>103</td>\n",
       "      <td>119</td>\n",
       "      <td>0.566</td>\n",
       "      <td>0.13856</td>\n",
       "    </tr>\n",
       "    <tr>\n",
       "      <th>lucene-2.3.0.csv</th>\n",
       "      <td>100</td>\n",
       "      <td>59</td>\n",
       "      <td>64</td>\n",
       "      <td>105</td>\n",
       "      <td>0.60125</td>\n",
       "      <td>0.138915</td>\n",
       "    </tr>\n",
       "    <tr>\n",
       "      <th>hbase-0.95.2.csv</th>\n",
       "      <td>423</td>\n",
       "      <td>363</td>\n",
       "      <td>54</td>\n",
       "      <td>114</td>\n",
       "      <td>0.821053</td>\n",
       "      <td>0.0533721</td>\n",
       "    </tr>\n",
       "    <tr>\n",
       "      <th>lucene-3.0.0.csv</th>\n",
       "      <td>106</td>\n",
       "      <td>94</td>\n",
       "      <td>141</td>\n",
       "      <td>153</td>\n",
       "      <td>0.656842</td>\n",
       "      <td>0.117524</td>\n",
       "    </tr>\n",
       "    <tr>\n",
       "      <th>camel-2.9.0.csv</th>\n",
       "      <td>156</td>\n",
       "      <td>117</td>\n",
       "      <td>157</td>\n",
       "      <td>196</td>\n",
       "      <td>0.88</td>\n",
       "      <td>0.0215318</td>\n",
       "    </tr>\n",
       "    <tr>\n",
       "      <th>wicket-1.5.3.csv</th>\n",
       "      <td>89</td>\n",
       "      <td>73</td>\n",
       "      <td>77</td>\n",
       "      <td>93</td>\n",
       "      <td>0.886022</td>\n",
       "      <td>0.0310664</td>\n",
       "    </tr>\n",
       "    <tr>\n",
       "      <th>lucene-3.1.csv</th>\n",
       "      <td>56</td>\n",
       "      <td>118</td>\n",
       "      <td>280</td>\n",
       "      <td>218</td>\n",
       "      <td>0.591541</td>\n",
       "      <td>0.0732121</td>\n",
       "    </tr>\n",
       "    <tr>\n",
       "      <th>groovy-1_6_BETA_2.csv</th>\n",
       "      <td>29</td>\n",
       "      <td>25</td>\n",
       "      <td>56</td>\n",
       "      <td>60</td>\n",
       "      <td>0.607767</td>\n",
       "      <td>0.0862996</td>\n",
       "    </tr>\n",
       "    <tr>\n",
       "      <th>activemq-5.2.0.csv</th>\n",
       "      <td>148</td>\n",
       "      <td>89</td>\n",
       "      <td>83</td>\n",
       "      <td>142</td>\n",
       "      <td>0.761039</td>\n",
       "      <td>0.0580064</td>\n",
       "    </tr>\n",
       "    <tr>\n",
       "      <th>groovy-1_5_7.csv</th>\n",
       "      <td>5</td>\n",
       "      <td>12</td>\n",
       "      <td>59</td>\n",
       "      <td>52</td>\n",
       "      <td>0.6325</td>\n",
       "      <td>0.0646972</td>\n",
       "    </tr>\n",
       "    <tr>\n",
       "      <th>hbase-0.95.0.csv</th>\n",
       "      <td>341</td>\n",
       "      <td>300</td>\n",
       "      <td>49</td>\n",
       "      <td>90</td>\n",
       "      <td>0.850549</td>\n",
       "      <td>0.0418251</td>\n",
       "    </tr>\n",
       "    <tr>\n",
       "      <th>camel-2.11.0.csv</th>\n",
       "      <td>100</td>\n",
       "      <td>26</td>\n",
       "      <td>108</td>\n",
       "      <td>182</td>\n",
       "      <td>0.844</td>\n",
       "      <td>0.0188989</td>\n",
       "    </tr>\n",
       "    <tr>\n",
       "      <th>jruby-1.7.0.preview1.csv</th>\n",
       "      <td>42</td>\n",
       "      <td>43</td>\n",
       "      <td>118</td>\n",
       "      <td>117</td>\n",
       "      <td>0.676074</td>\n",
       "      <td>0.0660234</td>\n",
       "    </tr>\n",
       "    <tr>\n",
       "      <th>hive-0.10.0.csv</th>\n",
       "      <td>160</td>\n",
       "      <td>144</td>\n",
       "      <td>36</td>\n",
       "      <td>52</td>\n",
       "      <td>0.815385</td>\n",
       "      <td>0.0225464</td>\n",
       "    </tr>\n",
       "    <tr>\n",
       "      <th>camel-2.10.0.csv</th>\n",
       "      <td>169</td>\n",
       "      <td>129</td>\n",
       "      <td>250</td>\n",
       "      <td>290</td>\n",
       "      <td>0.809646</td>\n",
       "      <td>0.0307773</td>\n",
       "    </tr>\n",
       "    <tr>\n",
       "      <th>derby-10.2.1.6.csv</th>\n",
       "      <td>525</td>\n",
       "      <td>390</td>\n",
       "      <td>44</td>\n",
       "      <td>179</td>\n",
       "      <td>0.742222</td>\n",
       "      <td>0.0727987</td>\n",
       "    </tr>\n",
       "    <tr>\n",
       "      <th>jruby-1.5.0.csv</th>\n",
       "      <td>26</td>\n",
       "      <td>97</td>\n",
       "      <td>220</td>\n",
       "      <td>149</td>\n",
       "      <td>0.486957</td>\n",
       "      <td>0.154152</td>\n",
       "    </tr>\n",
       "    <tr>\n",
       "      <th>derby-10.3.1.4.csv</th>\n",
       "      <td>550</td>\n",
       "      <td>431</td>\n",
       "      <td>38</td>\n",
       "      <td>157</td>\n",
       "      <td>0.811465</td>\n",
       "      <td>0.0598341</td>\n",
       "    </tr>\n",
       "    <tr>\n",
       "      <th>lucene-2.9.0.csv</th>\n",
       "      <td>152</td>\n",
       "      <td>127</td>\n",
       "      <td>157</td>\n",
       "      <td>182</td>\n",
       "      <td>0.533813</td>\n",
       "      <td>0.137798</td>\n",
       "    </tr>\n",
       "    <tr>\n",
       "      <th>hbase-0.94.0.csv</th>\n",
       "      <td>184</td>\n",
       "      <td>152</td>\n",
       "      <td>35</td>\n",
       "      <td>67</td>\n",
       "      <td>0.686957</td>\n",
       "      <td>0.0454545</td>\n",
       "    </tr>\n",
       "    <tr>\n",
       "      <th>camel-1.4.0.csv</th>\n",
       "      <td>174</td>\n",
       "      <td>158</td>\n",
       "      <td>252</td>\n",
       "      <td>268</td>\n",
       "      <td>0.62314</td>\n",
       "      <td>0.180208</td>\n",
       "    </tr>\n",
       "    <tr>\n",
       "      <th>activemq-5.1.0.csv</th>\n",
       "      <td>89</td>\n",
       "      <td>54</td>\n",
       "      <td>74</td>\n",
       "      <td>109</td>\n",
       "      <td>0.696403</td>\n",
       "      <td>0.0509011</td>\n",
       "    </tr>\n",
       "    <tr>\n",
       "      <th>activemq-5.0.0.csv</th>\n",
       "      <td>236</td>\n",
       "      <td>182</td>\n",
       "      <td>25</td>\n",
       "      <td>79</td>\n",
       "      <td>0.773171</td>\n",
       "      <td>0.0327414</td>\n",
       "    </tr>\n",
       "    <tr>\n",
       "      <th>derby-10.5.1.1.csv</th>\n",
       "      <td>272</td>\n",
       "      <td>173</td>\n",
       "      <td>69</td>\n",
       "      <td>168</td>\n",
       "      <td>0.731111</td>\n",
       "      <td>0.0499802</td>\n",
       "    </tr>\n",
       "    <tr>\n",
       "      <th>wicket-1.3.0-beta2.csv</th>\n",
       "      <td>75</td>\n",
       "      <td>112</td>\n",
       "      <td>250</td>\n",
       "      <td>213</td>\n",
       "      <td>0.596721</td>\n",
       "      <td>0.120165</td>\n",
       "    </tr>\n",
       "    <tr>\n",
       "      <th>hive-0.12.0.csv</th>\n",
       "      <td>199</td>\n",
       "      <td>185</td>\n",
       "      <td>32</td>\n",
       "      <td>46</td>\n",
       "      <td>0.878261</td>\n",
       "      <td>0.0119266</td>\n",
       "    </tr>\n",
       "    <tr>\n",
       "      <th>hive-0.9.0.csv</th>\n",
       "      <td>242</td>\n",
       "      <td>202</td>\n",
       "      <td>12</td>\n",
       "      <td>52</td>\n",
       "      <td>0.766038</td>\n",
       "      <td>0.0212766</td>\n",
       "    </tr>\n",
       "  </tbody>\n",
       "</table>\n",
       "</div>"
      ],
      "text/plain": [
       "                                     PN  ePN   NP  eNP   avg-bug  avg-clean\n",
       "activemq-5.8.0.csv                  100   25   97  172  0.790148  0.0452596\n",
       "groovy-1_6_BETA_1.csv                29   40   76   65  0.523077  0.0923295\n",
       "activemq-5.3.0.csv                  169   88   53  134   0.78169  0.0420674\n",
       "wicket-1.3.0-incubating-beta-1.csv   44   86  231  189  0.607639   0.122832\n",
       "jruby-1.1.csv                        27   59  101   69  0.442236   0.153684\n",
       "jruby-1.4.0.csv                      83   67  103  119     0.566    0.13856\n",
       "lucene-2.3.0.csv                    100   59   64  105   0.60125   0.138915\n",
       "hbase-0.95.2.csv                    423  363   54  114  0.821053  0.0533721\n",
       "lucene-3.0.0.csv                    106   94  141  153  0.656842   0.117524\n",
       "camel-2.9.0.csv                     156  117  157  196      0.88  0.0215318\n",
       "wicket-1.5.3.csv                     89   73   77   93  0.886022  0.0310664\n",
       "lucene-3.1.csv                       56  118  280  218  0.591541  0.0732121\n",
       "groovy-1_6_BETA_2.csv                29   25   56   60  0.607767  0.0862996\n",
       "activemq-5.2.0.csv                  148   89   83  142  0.761039  0.0580064\n",
       "groovy-1_5_7.csv                      5   12   59   52    0.6325  0.0646972\n",
       "hbase-0.95.0.csv                    341  300   49   90  0.850549  0.0418251\n",
       "camel-2.11.0.csv                    100   26  108  182     0.844  0.0188989\n",
       "jruby-1.7.0.preview1.csv             42   43  118  117  0.676074  0.0660234\n",
       "hive-0.10.0.csv                     160  144   36   52  0.815385  0.0225464\n",
       "camel-2.10.0.csv                    169  129  250  290  0.809646  0.0307773\n",
       "derby-10.2.1.6.csv                  525  390   44  179  0.742222  0.0727987\n",
       "jruby-1.5.0.csv                      26   97  220  149  0.486957   0.154152\n",
       "derby-10.3.1.4.csv                  550  431   38  157  0.811465  0.0598341\n",
       "lucene-2.9.0.csv                    152  127  157  182  0.533813   0.137798\n",
       "hbase-0.94.0.csv                    184  152   35   67  0.686957  0.0454545\n",
       "camel-1.4.0.csv                     174  158  252  268   0.62314   0.180208\n",
       "activemq-5.1.0.csv                   89   54   74  109  0.696403  0.0509011\n",
       "activemq-5.0.0.csv                  236  182   25   79  0.773171  0.0327414\n",
       "derby-10.5.1.1.csv                  272  173   69  168  0.731111  0.0499802\n",
       "wicket-1.3.0-beta2.csv               75  112  250  213  0.596721   0.120165\n",
       "hive-0.12.0.csv                     199  185   32   46  0.878261  0.0119266\n",
       "hive-0.9.0.csv                      242  202   12   52  0.766038  0.0212766"
      ]
     },
     "execution_count": 9,
     "metadata": {},
     "output_type": "execute_result"
    }
   ],
   "source": [
    "df"
   ]
  },
  {
   "cell_type": "code",
   "execution_count": 10,
   "metadata": {},
   "outputs": [
    {
     "data": {
      "image/png": "[encoded data removed]",
      "text/plain": [
       "<Figure size 1296x360 with 1 Axes>"
      ]
     },
     "metadata": {
      "needs_background": "light"
     },
     "output_type": "display_data"
    }
   ],
   "source": [
    "plt.figure(figsize=(18,5))\n",
    "plt.plot(range(len(DATASETS)),df['PN'],c='r',label='Actual');\n",
    "plt.plot(range(len(DATASETS)),df['ePN'],c='b',label='Predicted');\n",
    "plt.legend();"
   ]
  },
  {
   "cell_type": "code",
   "execution_count": 11,
   "metadata": {},
   "outputs": [
    {
     "data": {
      "text/plain": [
       "(8, 24)"
      ]
     },
     "execution_count": 11,
     "metadata": {},
     "output_type": "execute_result"
    }
   ],
   "source": [
    "(df['ePN']>df['PN']).sum(),(df['eNP']>df['NP']).sum()"
   ]
  },
  {
   "cell_type": "code",
   "execution_count": 12,
   "metadata": {},
   "outputs": [
    {
     "data": {
      "image/png": "[encoded data removed]",
      "text/plain": [
       "<Figure size 1296x360 with 1 Axes>"
      ]
     },
     "metadata": {
      "needs_background": "light"
     },
     "output_type": "display_data"
    }
   ],
   "source": [
    "plt.figure(figsize=(18,5))\n",
    "plt.plot(range(len(DATASETS)),df['NP'],c='r',label='Actual');\n",
    "plt.plot(range(len(DATASETS)),df['eNP'],c='b',label='Predicted');\n",
    "plt.legend();"
   ]
  },
  {
   "cell_type": "code",
   "execution_count": 16,
   "metadata": {},
   "outputs": [
    {
     "data": {
      "image/png": "[encoded data removed]",
      "text/plain": [
       "<Figure size 1296x360 with 1 Axes>"
      ]
     },
     "metadata": {
      "needs_background": "light"
     },
     "output_type": "display_data"
    }
   ],
   "source": [
    "plt.figure(figsize=(18,5))\n",
    "plt.scatter(range(len(DATASETS)),df['avg-bug'],c='r',label='Buggy');\n",
    "plt.scatter(range(len(DATASETS)),df['avg-clean'],c='b',label='Clean');\n",
    "plt.legend();"
   ]
  },
  {
   "cell_type": "code",
   "execution_count": 19,
   "metadata": {},
   "outputs": [
    {
     "data": {
      "text/plain": [
       "(0.7022098451418166, 0.07364579187376764)"
      ]
     },
     "execution_count": 19,
     "metadata": {},
     "output_type": "execute_result"
    }
   ],
   "source": [
    "df['avg-bug'].mean(),df['avg-clean'].mean()"
   ]
  },
  {
   "cell_type": "markdown",
   "metadata": {},
   "source": [
    "## Impact on Classification performance\n",
    "So, both noise detectors discriminate against minority Bug class. But when we incorporate this noise estimates into this imbalanced classification setting, how much does this actually hurt classification performance? Is balancing first better? `Balancing->Filtering` vs `Filtering->Balancing`"
   ]
  },
  {
   "cell_type": "code",
   "execution_count": 3,
   "metadata": {},
   "outputs": [
    {
     "name": "stderr",
     "output_type": "stream",
     "text": [
      "/home/shihab/anaconda3/envs/ana/lib/python3.7/site-packages/tensorflow/python/framework/dtypes.py:526: FutureWarning: Passing (type, 1) or '1type' as a synonym of type is deprecated; in a future version of numpy, it will be understood as (type, (1,)) / '(1,)type'.\n",
      "  _np_qint8 = np.dtype([(\"qint8\", np.int8, 1)])\n",
      "/home/shihab/anaconda3/envs/ana/lib/python3.7/site-packages/tensorflow/python/framework/dtypes.py:527: FutureWarning: Passing (type, 1) or '1type' as a synonym of type is deprecated; in a future version of numpy, it will be understood as (type, (1,)) / '(1,)type'.\n",
      "  _np_quint8 = np.dtype([(\"quint8\", np.uint8, 1)])\n",
      "/home/shihab/anaconda3/envs/ana/lib/python3.7/site-packages/tensorflow/python/framework/dtypes.py:528: FutureWarning: Passing (type, 1) or '1type' as a synonym of type is deprecated; in a future version of numpy, it will be understood as (type, (1,)) / '(1,)type'.\n",
      "  _np_qint16 = np.dtype([(\"qint16\", np.int16, 1)])\n",
      "/home/shihab/anaconda3/envs/ana/lib/python3.7/site-packages/tensorflow/python/framework/dtypes.py:529: FutureWarning: Passing (type, 1) or '1type' as a synonym of type is deprecated; in a future version of numpy, it will be understood as (type, (1,)) / '(1,)type'.\n",
      "  _np_quint16 = np.dtype([(\"quint16\", np.uint16, 1)])\n",
      "/home/shihab/anaconda3/envs/ana/lib/python3.7/site-packages/tensorflow/python/framework/dtypes.py:530: FutureWarning: Passing (type, 1) or '1type' as a synonym of type is deprecated; in a future version of numpy, it will be understood as (type, (1,)) / '(1,)type'.\n",
      "  _np_qint32 = np.dtype([(\"qint32\", np.int32, 1)])\n",
      "/home/shihab/anaconda3/envs/ana/lib/python3.7/site-packages/tensorflow/python/framework/dtypes.py:535: FutureWarning: Passing (type, 1) or '1type' as a synonym of type is deprecated; in a future version of numpy, it will be understood as (type, (1,)) / '(1,)type'.\n",
      "  np_resource = np.dtype([(\"resource\", np.ubyte, 1)])\n"
     ]
    }
   ],
   "source": [
    "from collections import defaultdict\n",
    "from sklearn.naive_bayes import GaussianNB\n",
    "from sklearn.tree import DecisionTreeClassifier\n",
    "from sklearn.linear_model import LogisticRegression\n",
    "from sklearn.neighbors import KNeighborsClassifier\n",
    "from sklearn.ensemble import RandomForestClassifier\n",
    "from sklearn.model_selection import RepeatedStratifiedKFold\n",
    "from imblearn.ensemble import BalancedBaggingClassifier, RUSBoostClassifier\n",
    "from imblearn.over_sampling import SMOTE\n",
    "from imblearn.under_sampling import RandomUnderSampler, EditedNearestNeighbours, TomekLinks\n",
    "from imblearn.pipeline import Pipeline\n",
    "\n",
    "from library.cleaners import FilteringEstimator"
   ]
  },
  {
   "cell_type": "code",
   "execution_count": 4,
   "metadata": {},
   "outputs": [],
   "source": [
    "def evaluateFilter(clf,X,y_noisy,y_real,cv,scorers):\n",
    "    scores = defaultdict(list)\n",
    "    to_keep = (y_noisy==y_real).sum()\n",
    "    for train_id, test_id in cv.split(X,y_real):  #vs y_noisy, to solve no-pos-label-in-test-set bug     \n",
    "        try:\n",
    "            clf = clf.fit(X[train_id],y_noisy[train_id],to_keep=to_keep)\n",
    "        except ValueError as e:\n",
    "            assert str(e).startswith(\"Expected n_neighbors\"),f\"Some different Error:{str(e)}\"\n",
    "            for func in scorers:\n",
    "                scores[func.__name__].append(0)\n",
    "            print(\"ERROR\")\n",
    "            continue\n",
    "        print(\"TEST SIZE:\",X[test_id].shape[0])\n",
    "        probs = clf.predict_proba(X[test_id])\n",
    "        labels = np.argmax(probs,axis=1)\n",
    "        for func in scorers:\n",
    "            yp = probs[:,1]\n",
    "            try:\n",
    "                func([0,1,1],[.2,.6,.7])\n",
    "                yp = probs[:,1]\n",
    "            except ValueError as e:\n",
    "                yp = labels\n",
    "            scores[func.__name__].append(func(y_real[test_id],yp))\n",
    "    for func in scorers:\n",
    "        scores[func.__name__] = np.array(scores[func.__name__])\n",
    "    return scores"
   ]
  },
  {
   "cell_type": "code",
   "execution_count": 5,
   "metadata": {},
   "outputs": [],
   "source": [
    "imbs = {\n",
    "#     'smote': SMOTE(k_neighbors=5),\n",
    "    'rus': RandomUnderSampler('not minority'),\n",
    "    'wilson':EditedNearestNeighbours(n_neighbors=5),  #Default was 3\n",
    "    'tomek': TomekLinks(),\n",
    "}\n",
    "clfs = {\n",
    "#     'dt': DecisionTreeClassifier(max_depth=20),\n",
    "#     'lr': LogisticRegression(solver='lbfgs',max_iter=1000),\n",
    "#     'nb': GaussianNB(),\n",
    "    'knn': KNeighborsClassifier(n_neighbors=5),\n",
    "    'rf': RandomForestClassifier(n_estimators=50),\n",
    "}\n",
    "ensembles = {\n",
    "    'rboost_DT': RUSBoostClassifier(base_estimator=DecisionTreeClassifier(max_depth=10),algorithm='SAMME',n_estimators=10),\n",
    "    'rboost_NB': RUSBoostClassifier(base_estimator=GaussianNB(),algorithm='SAMME',n_estimators=10),\n",
    "    'bbag_DT': BalancedBaggingClassifier(base_estimator=DecisionTreeClassifier(max_depth=20,max_features='sqrt')),\n",
    "    'bbag_NB': BalancedBaggingClassifier(base_estimator=GaussianNB()),\n",
    "}\n",
    "simples = {\n",
    "    'LR': LogisticRegression(solver='lbfgs',max_iter=1000),\n",
    "    'RF': RandomForestClassifier(n_estimators=50)\n",
    "}"
   ]
  },
  {
   "cell_type": "markdown",
   "metadata": {},
   "source": [
    "## Filtering -> Balancing"
   ]
  },
  {
   "cell_type": "code",
   "execution_count": 6,
   "metadata": {},
   "outputs": [
    {
     "data": {
      "text/plain": [
       "(dict_keys([('rus', 'knn'), ('rus', 'rf'), ('wilson', 'knn'), ('wilson', 'rf'), ('tomek', 'knn'), ('tomek', 'rf'), ('ens', 'rboost_DT'), ('ens', 'rboost_NB'), ('ens', 'bbag_DT'), ('ens', 'bbag_NB'), ('sim', 'LR'), ('sim', 'RF')]),\n",
       " 12)"
      ]
     },
     "execution_count": 6,
     "metadata": {},
     "output_type": "execute_result"
    }
   ],
   "source": [
    "models = {}\n",
    "for im,samp in imbs.items():\n",
    "    for c,clf in clfs.items():\n",
    "        models[(im,c)] = FilteringEstimator(Pipeline([('samp',samp),('clf',clf)]),kDN,K=5)\n",
    "\n",
    "for m,ens in ensembles.items():\n",
    "    models[('ens',m)] = FilteringEstimator(ens,kDN,K=5)\n",
    "    \n",
    "for m,clf in simples.items():\n",
    "    models[('sim',m)] = FilteringEstimator(clf,kDN,K=5)    \n",
    "    \n",
    "models.keys(),len(models)"
   ]
  },
  {
   "cell_type": "code",
   "execution_count": 7,
   "metadata": {},
   "outputs": [],
   "source": [
    "cv = RepeatedStratifiedKFold(n_splits=10,n_repeats=1,random_state=42)\n",
    "def pr_rec_score(y,yp):\n",
    "    prec, rec, _ = precision_recall_curve(y,yp)\n",
    "    return auc(rec,prec)\n",
    "scorers = [matthews_corrcoef,pr_rec_score]"
   ]
  },
  {
   "cell_type": "code",
   "execution_count": 8,
   "metadata": {},
   "outputs": [],
   "source": [
    "cols = pd.MultiIndex.from_product([imbs.keys(),clfs.keys(),[f.__name__ for f in scorers]],names=['imb','clf','metric'])\n",
    "df = pd.DataFrame(index=DATASETS,columns=cols)"
   ]
  },
  {
   "cell_type": "code",
   "execution_count": 9,
   "metadata": {},
   "outputs": [
    {
     "name": "stdout",
     "output_type": "stream",
     "text": [
      "('rus', 'knn')\n",
      "activemq-5.8.0.csv noise:0.058, imb:15.847,203,3217, Shape:(3420, 65)\n",
      "(3078, 65) [2891  187] [2891  187]\n",
      "TEST SIZE: 342\n",
      "(3078, 65) [2897  181] [2897  181]\n",
      "TEST SIZE: 342\n",
      "(3078, 65) [2896  182] [2896  182]\n",
      "TEST SIZE: 342\n",
      "(3078, 65) [2892  186] [2892  186]\n",
      "TEST SIZE: 342\n",
      "(3078, 65) [2891  187] [2891  187]\n",
      "TEST SIZE: 342\n",
      "(3078, 65) [2895  183] [2895  183]\n",
      "TEST SIZE: 342\n",
      "(3078, 65) [2895  183] [2895  183]\n",
      "TEST SIZE: 342\n",
      "(3078, 65) [2901  177] [2901  177]\n",
      "TEST SIZE: 342\n",
      "(3078, 65) [2895  183] [2895  183]\n",
      "TEST SIZE: 342\n",
      "(3078, 65) [2900  178] [2900  178]\n",
      "TEST SIZE: 342\n",
      "groovy-1_6_BETA_1.csv noise:0.128, imb:6.017,117,704, Shape:(821, 65)\n",
      "(716, 65) [628  88] [631 107]\n",
      "TEST SIZE: 83\n",
      "(716, 65) [632  84] [635 104]\n",
      "TEST SIZE: 82\n",
      "(716, 65) [632  84] [635 104]\n",
      "TEST SIZE: 82\n",
      "(716, 65) [627  89] [630 109]\n",
      "TEST SIZE: 82\n",
      "(716, 65) [629  87] [632 107]\n",
      "TEST SIZE: 82\n",
      "(716, 65) [635  81] [636 103]\n",
      "TEST SIZE: 82\n",
      "(716, 65) [631  85] [634 105]\n",
      "TEST SIZE: 82\n",
      "(716, 65) [629  87] [632 107]\n",
      "TEST SIZE: 82\n",
      "(716, 65) [633  83] [636 103]\n",
      "TEST SIZE: 82\n",
      "(716, 65) [632  84] [635 104]\n",
      "TEST SIZE: 82\n",
      "activemq-5.3.0.csv noise:0.094, imb:15.669,142,2225, Shape:(2367, 65)\n",
      "(2130, 65) [2004  126] [2004  126]\n",
      "TEST SIZE: 237\n",
      "(2130, 65) [2002  128] [2002  128]\n",
      "TEST SIZE: 237\n",
      "(2130, 65) [2002  128] [2002  128]\n",
      "TEST SIZE: 237\n",
      "(2130, 65) [2004  126] [2004  126]\n",
      "TEST SIZE: 237\n",
      "(2130, 65) [2008  122] [2008  122]\n",
      "TEST SIZE: 237\n",
      "(2130, 65) [1996  134] [1996  134]\n",
      "TEST SIZE: 237\n",
      "(2130, 65) [2002  128] [2002  128]\n",
      "TEST SIZE: 237\n",
      "(2131, 65) [2004  127] [2004  127]\n",
      "TEST SIZE: 236\n",
      "(2131, 65) [2004  127] [2004  127]\n",
      "TEST SIZE: 236\n",
      "(2131, 65) [1999  132] [1999  132]\n",
      "TEST SIZE: 236\n",
      "wicket-1.3.0-incubating-beta-1.csv noise:0.164, imb:4.806,288,1384, Shape:(1672, 65)\n",
      "(1397, 65) [1225  172] [1244  260]\n",
      "TEST SIZE: 168\n",
      "(1397, 65) [1235  162] [1250  254]\n",
      "TEST SIZE: 168\n",
      "(1397, 65) [1230  167] [1247  258]\n",
      "TEST SIZE: 167\n",
      "(1397, 65) [1228  169] [1246  259]\n",
      "TEST SIZE: 167\n",
      "(1397, 65) [1229  168] [1247  258]\n",
      "TEST SIZE: 167\n",
      "(1397, 65) [1228  169] [1245  260]\n",
      "TEST SIZE: 167\n",
      "(1397, 65) [1211  186] [1233  272]\n",
      "TEST SIZE: 167\n",
      "(1397, 65) [1240  157] [1253  252]\n",
      "TEST SIZE: 167\n",
      "(1397, 65) [1227  170] [1246  259]\n",
      "TEST SIZE: 167\n",
      "(1397, 65) [1228  169] [1245  260]\n",
      "TEST SIZE: 167\n",
      "jruby-1.1.csv noise:0.175, imb:3.540,161,570, Shape:(731, 65)\n",
      "(603, 65) [491 112] [513 144]\n",
      "TEST SIZE: 74\n",
      "(603, 65) [493 110] [514 144]\n",
      "TEST SIZE: 73\n",
      "(603, 65) [498 105] [513 145]\n",
      "TEST SIZE: 73\n",
      "(603, 65) [489 114] [509 149]\n",
      "TEST SIZE: 73\n",
      "(603, 65) [499 104] [515 143]\n",
      "TEST SIZE: 73\n",
      "(603, 65) [497 106] [515 143]\n",
      "TEST SIZE: 73\n",
      "(603, 65) [492 111] [513 145]\n",
      "TEST SIZE: 73\n",
      "(603, 65) [490 113] [511 147]\n",
      "TEST SIZE: 73\n",
      "(603, 65) [495 108] [514 144]\n",
      "TEST SIZE: 73\n",
      "(603, 65) [489 114] [513 145]\n",
      "TEST SIZE: 73\n",
      "jruby-1.4.0.csv noise:0.190, imb:3.890,200,778, Shape:(978, 65)\n",
      "(792, 65) [681 111] [697 183]\n",
      "TEST SIZE: 98\n",
      "(792, 65) [682 110] [701 179]\n",
      "TEST SIZE: 98\n",
      "(792, 65) [690 102] [703 177]\n",
      "TEST SIZE: 98\n",
      "(792, 65) [672 120] [694 186]\n",
      "TEST SIZE: 98\n",
      "(792, 65) [686 106] [700 180]\n",
      "TEST SIZE: 98\n",
      "(792, 65) [689 103] [708 172]\n",
      "TEST SIZE: 98\n",
      "(792, 65) [692 100] [707 173]\n",
      "TEST SIZE: 98\n",
      "(792, 65) [685 107] [703 177]\n",
      "TEST SIZE: 98\n",
      "(792, 65) [680 112] [694 187]\n",
      "TEST SIZE: 97\n",
      "(792, 65) [677 115] [695 186]\n",
      "TEST SIZE: 97\n",
      "lucene-2.3.0.csv noise:0.204, imb:4.031,160,645, Shape:(805, 65)\n",
      "(641, 65) [560  81] [582 142]\n",
      "TEST SIZE: 81\n",
      "(641, 65) [558  83] [578 146]\n",
      "TEST SIZE: 81\n",
      "(641, 65) [560  81] [583 141]\n",
      "TEST SIZE: 81\n",
      "(641, 65) [554  87] [577 147]\n",
      "TEST SIZE: 81\n",
      "(641, 65) [552  89] [574 150]\n",
      "TEST SIZE: 81\n",
      "(641, 65) [556  85] [577 148]\n",
      "TEST SIZE: 80\n",
      "(641, 65) [563  78] [584 141]\n",
      "TEST SIZE: 80\n",
      "(641, 65) [565  76] [584 141]\n",
      "TEST SIZE: 80\n",
      "(641, 65) [562  79] [584 141]\n",
      "TEST SIZE: 80\n",
      "(641, 65) [558  83] [582 143]\n",
      "TEST SIZE: 80\n",
      "hbase-0.95.2.csv noise:0.260, imb:15.088,114,1720, Shape:(1834, 65)\n",
      "(1357, 65) [1355    2] [1549  101]\n",
      "TEST SIZE: 184\n"
     ]
    },
    {
     "ename": "ValueError",
     "evalue": "Expected n_neighbors <= n_samples,  but n_samples = 4, n_neighbors = 5",
     "output_type": "error",
     "traceback": [
      "\u001b[0;31m---------------------------------------------------------------------------\u001b[0m",
      "\u001b[0;31mValueError\u001b[0m                                Traceback (most recent call last)",
      "\u001b[0;32m<ipython-input-9-89a39b0f497f>\u001b[0m in \u001b[0;36m<module>\u001b[0;34m\u001b[0m\n\u001b[1;32m      3\u001b[0m     \u001b[0;32mfor\u001b[0m \u001b[0md\u001b[0m \u001b[0;32min\u001b[0m \u001b[0mDATASETS\u001b[0m\u001b[0;34m:\u001b[0m\u001b[0;34m\u001b[0m\u001b[0;34m\u001b[0m\u001b[0m\n\u001b[1;32m      4\u001b[0m         \u001b[0mX\u001b[0m\u001b[0;34m,\u001b[0m\u001b[0my_noisy\u001b[0m\u001b[0;34m,\u001b[0m\u001b[0my_real\u001b[0m \u001b[0;34m=\u001b[0m \u001b[0mread_data\u001b[0m\u001b[0;34m(\u001b[0m\u001b[0md\u001b[0m\u001b[0;34m,\u001b[0m\u001b[0mstats\u001b[0m\u001b[0;34m=\u001b[0m\u001b[0;32mTrue\u001b[0m\u001b[0;34m)\u001b[0m\u001b[0;34m\u001b[0m\u001b[0;34m\u001b[0m\u001b[0m\n\u001b[0;32m----> 5\u001b[0;31m         \u001b[0mr\u001b[0m \u001b[0;34m=\u001b[0m \u001b[0mevaluateFilter\u001b[0m\u001b[0;34m(\u001b[0m\u001b[0mmodels\u001b[0m\u001b[0;34m[\u001b[0m\u001b[0mk\u001b[0m\u001b[0;34m]\u001b[0m\u001b[0;34m,\u001b[0m\u001b[0mX\u001b[0m\u001b[0;34m,\u001b[0m\u001b[0my_noisy\u001b[0m\u001b[0;34m,\u001b[0m\u001b[0my_real\u001b[0m\u001b[0;34m,\u001b[0m\u001b[0mcv\u001b[0m\u001b[0;34m,\u001b[0m\u001b[0mscorers\u001b[0m\u001b[0;34m)\u001b[0m\u001b[0;34m\u001b[0m\u001b[0;34m\u001b[0m\u001b[0m\n\u001b[0m\u001b[1;32m      6\u001b[0m         \u001b[0;32mfor\u001b[0m \u001b[0mf\u001b[0m \u001b[0;32min\u001b[0m \u001b[0mr\u001b[0m\u001b[0;34m:\u001b[0m\u001b[0;34m\u001b[0m\u001b[0;34m\u001b[0m\u001b[0m\n\u001b[1;32m      7\u001b[0m             \u001b[0mdf\u001b[0m\u001b[0;34m.\u001b[0m\u001b[0mloc\u001b[0m\u001b[0;34m[\u001b[0m\u001b[0md\u001b[0m\u001b[0;34m,\u001b[0m\u001b[0;34m(\u001b[0m\u001b[0mk\u001b[0m\u001b[0;34m[\u001b[0m\u001b[0;36m0\u001b[0m\u001b[0;34m]\u001b[0m\u001b[0;34m,\u001b[0m\u001b[0mk\u001b[0m\u001b[0;34m[\u001b[0m\u001b[0;36m1\u001b[0m\u001b[0;34m]\u001b[0m\u001b[0;34m,\u001b[0m\u001b[0mf\u001b[0m\u001b[0;34m)\u001b[0m\u001b[0;34m]\u001b[0m \u001b[0;34m=\u001b[0m \u001b[0mr\u001b[0m\u001b[0;34m[\u001b[0m\u001b[0mf\u001b[0m\u001b[0;34m]\u001b[0m\u001b[0;34m.\u001b[0m\u001b[0mmean\u001b[0m\u001b[0;34m(\u001b[0m\u001b[0;34m)\u001b[0m\u001b[0;34m\u001b[0m\u001b[0;34m\u001b[0m\u001b[0m\n",
      "\u001b[0;32m<ipython-input-4-a6d0aee7d457>\u001b[0m in \u001b[0;36mevaluateFilter\u001b[0;34m(clf, X, y_noisy, y_real, cv, scorers)\u001b[0m\n\u001b[1;32m     12\u001b[0m             \u001b[0;32mcontinue\u001b[0m\u001b[0;34m\u001b[0m\u001b[0;34m\u001b[0m\u001b[0m\n\u001b[1;32m     13\u001b[0m         \u001b[0mprint\u001b[0m\u001b[0;34m(\u001b[0m\u001b[0;34m\"TEST SIZE:\"\u001b[0m\u001b[0;34m,\u001b[0m\u001b[0mX\u001b[0m\u001b[0;34m[\u001b[0m\u001b[0mtest_id\u001b[0m\u001b[0;34m]\u001b[0m\u001b[0;34m.\u001b[0m\u001b[0mshape\u001b[0m\u001b[0;34m[\u001b[0m\u001b[0;36m0\u001b[0m\u001b[0;34m]\u001b[0m\u001b[0;34m)\u001b[0m\u001b[0;34m\u001b[0m\u001b[0;34m\u001b[0m\u001b[0m\n\u001b[0;32m---> 14\u001b[0;31m         \u001b[0mprobs\u001b[0m \u001b[0;34m=\u001b[0m \u001b[0mclf\u001b[0m\u001b[0;34m.\u001b[0m\u001b[0mpredict_proba\u001b[0m\u001b[0;34m(\u001b[0m\u001b[0mX\u001b[0m\u001b[0;34m[\u001b[0m\u001b[0mtest_id\u001b[0m\u001b[0;34m]\u001b[0m\u001b[0;34m)\u001b[0m\u001b[0;34m\u001b[0m\u001b[0;34m\u001b[0m\u001b[0m\n\u001b[0m\u001b[1;32m     15\u001b[0m         \u001b[0mlabels\u001b[0m \u001b[0;34m=\u001b[0m \u001b[0mnp\u001b[0m\u001b[0;34m.\u001b[0m\u001b[0margmax\u001b[0m\u001b[0;34m(\u001b[0m\u001b[0mprobs\u001b[0m\u001b[0;34m,\u001b[0m\u001b[0maxis\u001b[0m\u001b[0;34m=\u001b[0m\u001b[0;36m1\u001b[0m\u001b[0;34m)\u001b[0m\u001b[0;34m\u001b[0m\u001b[0;34m\u001b[0m\u001b[0m\n\u001b[1;32m     16\u001b[0m         \u001b[0;32mfor\u001b[0m \u001b[0mfunc\u001b[0m \u001b[0;32min\u001b[0m \u001b[0mscorers\u001b[0m\u001b[0;34m:\u001b[0m\u001b[0;34m\u001b[0m\u001b[0;34m\u001b[0m\u001b[0m\n",
      "\u001b[0;32m~/analytics/library/cleaners.py\u001b[0m in \u001b[0;36mpredict_proba\u001b[0;34m(self, X)\u001b[0m\n\u001b[1;32m     62\u001b[0m \u001b[0;34m\u001b[0m\u001b[0m\n\u001b[1;32m     63\u001b[0m     \u001b[0;32mdef\u001b[0m \u001b[0mpredict_proba\u001b[0m\u001b[0;34m(\u001b[0m\u001b[0mself\u001b[0m\u001b[0;34m,\u001b[0m \u001b[0mX\u001b[0m\u001b[0;34m)\u001b[0m\u001b[0;34m:\u001b[0m\u001b[0;34m\u001b[0m\u001b[0;34m\u001b[0m\u001b[0m\n\u001b[0;32m---> 64\u001b[0;31m         \u001b[0;32mreturn\u001b[0m \u001b[0mself\u001b[0m\u001b[0;34m.\u001b[0m\u001b[0mestimator\u001b[0m\u001b[0;34m.\u001b[0m\u001b[0mpredict_proba\u001b[0m\u001b[0;34m(\u001b[0m\u001b[0mX\u001b[0m\u001b[0;34m)\u001b[0m\u001b[0;34m\u001b[0m\u001b[0;34m\u001b[0m\u001b[0m\n\u001b[0m\u001b[1;32m     65\u001b[0m \u001b[0;34m\u001b[0m\u001b[0m\n\u001b[1;32m     66\u001b[0m \u001b[0;34m\u001b[0m\u001b[0m\n",
      "\u001b[0;32m~/anaconda3/envs/ana/lib/python3.7/site-packages/sklearn/utils/metaestimators.py\u001b[0m in \u001b[0;36m<lambda>\u001b[0;34m(*args, **kwargs)\u001b[0m\n\u001b[1;32m    114\u001b[0m \u001b[0;34m\u001b[0m\u001b[0m\n\u001b[1;32m    115\u001b[0m         \u001b[0;31m# lambda, but not partial, allows help() to work with update_wrapper\u001b[0m\u001b[0;34m\u001b[0m\u001b[0;34m\u001b[0m\u001b[0;34m\u001b[0m\u001b[0m\n\u001b[0;32m--> 116\u001b[0;31m         \u001b[0mout\u001b[0m \u001b[0;34m=\u001b[0m \u001b[0;32mlambda\u001b[0m \u001b[0;34m*\u001b[0m\u001b[0margs\u001b[0m\u001b[0;34m,\u001b[0m \u001b[0;34m**\u001b[0m\u001b[0mkwargs\u001b[0m\u001b[0;34m:\u001b[0m \u001b[0mself\u001b[0m\u001b[0;34m.\u001b[0m\u001b[0mfn\u001b[0m\u001b[0;34m(\u001b[0m\u001b[0mobj\u001b[0m\u001b[0;34m,\u001b[0m \u001b[0;34m*\u001b[0m\u001b[0margs\u001b[0m\u001b[0;34m,\u001b[0m \u001b[0;34m**\u001b[0m\u001b[0mkwargs\u001b[0m\u001b[0;34m)\u001b[0m\u001b[0;34m\u001b[0m\u001b[0;34m\u001b[0m\u001b[0m\n\u001b[0m\u001b[1;32m    117\u001b[0m         \u001b[0;31m# update the docstring of the returned function\u001b[0m\u001b[0;34m\u001b[0m\u001b[0;34m\u001b[0m\u001b[0;34m\u001b[0m\u001b[0m\n\u001b[1;32m    118\u001b[0m         \u001b[0mupdate_wrapper\u001b[0m\u001b[0;34m(\u001b[0m\u001b[0mout\u001b[0m\u001b[0;34m,\u001b[0m \u001b[0mself\u001b[0m\u001b[0;34m.\u001b[0m\u001b[0mfn\u001b[0m\u001b[0;34m)\u001b[0m\u001b[0;34m\u001b[0m\u001b[0;34m\u001b[0m\u001b[0m\n",
      "\u001b[0;32m~/anaconda3/envs/ana/lib/python3.7/site-packages/sklearn/pipeline.py\u001b[0m in \u001b[0;36mpredict_proba\u001b[0;34m(self, X)\u001b[0m\n\u001b[1;32m    468\u001b[0m         \u001b[0;32mfor\u001b[0m \u001b[0m_\u001b[0m\u001b[0;34m,\u001b[0m \u001b[0mname\u001b[0m\u001b[0;34m,\u001b[0m \u001b[0mtransform\u001b[0m \u001b[0;32min\u001b[0m \u001b[0mself\u001b[0m\u001b[0;34m.\u001b[0m\u001b[0m_iter\u001b[0m\u001b[0;34m(\u001b[0m\u001b[0mwith_final\u001b[0m\u001b[0;34m=\u001b[0m\u001b[0;32mFalse\u001b[0m\u001b[0;34m)\u001b[0m\u001b[0;34m:\u001b[0m\u001b[0;34m\u001b[0m\u001b[0;34m\u001b[0m\u001b[0m\n\u001b[1;32m    469\u001b[0m             \u001b[0mXt\u001b[0m \u001b[0;34m=\u001b[0m \u001b[0mtransform\u001b[0m\u001b[0;34m.\u001b[0m\u001b[0mtransform\u001b[0m\u001b[0;34m(\u001b[0m\u001b[0mXt\u001b[0m\u001b[0;34m)\u001b[0m\u001b[0;34m\u001b[0m\u001b[0;34m\u001b[0m\u001b[0m\n\u001b[0;32m--> 470\u001b[0;31m         \u001b[0;32mreturn\u001b[0m \u001b[0mself\u001b[0m\u001b[0;34m.\u001b[0m\u001b[0msteps\u001b[0m\u001b[0;34m[\u001b[0m\u001b[0;34m-\u001b[0m\u001b[0;36m1\u001b[0m\u001b[0;34m]\u001b[0m\u001b[0;34m[\u001b[0m\u001b[0;34m-\u001b[0m\u001b[0;36m1\u001b[0m\u001b[0;34m]\u001b[0m\u001b[0;34m.\u001b[0m\u001b[0mpredict_proba\u001b[0m\u001b[0;34m(\u001b[0m\u001b[0mXt\u001b[0m\u001b[0;34m)\u001b[0m\u001b[0;34m\u001b[0m\u001b[0;34m\u001b[0m\u001b[0m\n\u001b[0m\u001b[1;32m    471\u001b[0m \u001b[0;34m\u001b[0m\u001b[0m\n\u001b[1;32m    472\u001b[0m     \u001b[0;34m@\u001b[0m\u001b[0mif_delegate_has_method\u001b[0m\u001b[0;34m(\u001b[0m\u001b[0mdelegate\u001b[0m\u001b[0;34m=\u001b[0m\u001b[0;34m'_final_estimator'\u001b[0m\u001b[0;34m)\u001b[0m\u001b[0;34m\u001b[0m\u001b[0;34m\u001b[0m\u001b[0m\n",
      "\u001b[0;32m~/anaconda3/envs/ana/lib/python3.7/site-packages/sklearn/neighbors/_classification.py\u001b[0m in \u001b[0;36mpredict_proba\u001b[0;34m(self, X)\u001b[0m\n\u001b[1;32m    215\u001b[0m         \u001b[0mX\u001b[0m \u001b[0;34m=\u001b[0m \u001b[0mcheck_array\u001b[0m\u001b[0;34m(\u001b[0m\u001b[0mX\u001b[0m\u001b[0;34m,\u001b[0m \u001b[0maccept_sparse\u001b[0m\u001b[0;34m=\u001b[0m\u001b[0;34m'csr'\u001b[0m\u001b[0;34m)\u001b[0m\u001b[0;34m\u001b[0m\u001b[0;34m\u001b[0m\u001b[0m\n\u001b[1;32m    216\u001b[0m \u001b[0;34m\u001b[0m\u001b[0m\n\u001b[0;32m--> 217\u001b[0;31m         \u001b[0mneigh_dist\u001b[0m\u001b[0;34m,\u001b[0m \u001b[0mneigh_ind\u001b[0m \u001b[0;34m=\u001b[0m \u001b[0mself\u001b[0m\u001b[0;34m.\u001b[0m\u001b[0mkneighbors\u001b[0m\u001b[0;34m(\u001b[0m\u001b[0mX\u001b[0m\u001b[0;34m)\u001b[0m\u001b[0;34m\u001b[0m\u001b[0;34m\u001b[0m\u001b[0m\n\u001b[0m\u001b[1;32m    218\u001b[0m \u001b[0;34m\u001b[0m\u001b[0m\n\u001b[1;32m    219\u001b[0m         \u001b[0mclasses_\u001b[0m \u001b[0;34m=\u001b[0m \u001b[0mself\u001b[0m\u001b[0;34m.\u001b[0m\u001b[0mclasses_\u001b[0m\u001b[0;34m\u001b[0m\u001b[0;34m\u001b[0m\u001b[0m\n",
      "\u001b[0;32m~/anaconda3/envs/ana/lib/python3.7/site-packages/sklearn/neighbors/_base.py\u001b[0m in \u001b[0;36mkneighbors\u001b[0;34m(self, X, n_neighbors, return_distance)\u001b[0m\n\u001b[1;32m    615\u001b[0m                 \u001b[0;34m\"Expected n_neighbors <= n_samples, \"\u001b[0m\u001b[0;34m\u001b[0m\u001b[0;34m\u001b[0m\u001b[0m\n\u001b[1;32m    616\u001b[0m                 \u001b[0;34m\" but n_samples = %d, n_neighbors = %d\"\u001b[0m \u001b[0;34m%\u001b[0m\u001b[0;34m\u001b[0m\u001b[0;34m\u001b[0m\u001b[0m\n\u001b[0;32m--> 617\u001b[0;31m                 \u001b[0;34m(\u001b[0m\u001b[0mn_samples_fit\u001b[0m\u001b[0;34m,\u001b[0m \u001b[0mn_neighbors\u001b[0m\u001b[0;34m)\u001b[0m\u001b[0;34m\u001b[0m\u001b[0;34m\u001b[0m\u001b[0m\n\u001b[0m\u001b[1;32m    618\u001b[0m             )\n\u001b[1;32m    619\u001b[0m \u001b[0;34m\u001b[0m\u001b[0m\n",
      "\u001b[0;31mValueError\u001b[0m: Expected n_neighbors <= n_samples,  but n_samples = 4, n_neighbors = 5"
     ]
    }
   ],
   "source": [
    "for k in models:\n",
    "    print(k)\n",
    "    for d in DATASETS:\n",
    "        X,y_noisy,y_real = read_data(d,stats=True)\n",
    "        r = evaluateFilter(models[k],X,y_noisy,y_real,cv,scorers)\n",
    "        for f in r:\n",
    "            df.loc[d,(k[0],k[1],f)] = r[f].mean()"
   ]
  },
  {
   "cell_type": "code",
   "execution_count": 16,
   "metadata": {},
   "outputs": [],
   "source": [
    "d = ValueError(\"Expected n_neighbors <= n_samples,  but n_samples = 5, n_neighbors = 6\")"
   ]
  },
  {
   "cell_type": "code",
   "execution_count": 18,
   "metadata": {},
   "outputs": [
    {
     "data": {
      "text/plain": [
       "True"
      ]
     },
     "execution_count": 18,
     "metadata": {},
     "output_type": "execute_result"
    }
   ],
   "source": [
    "str(d).startswith(\"Expected n_neighbors\")"
   ]
  },
  {
   "cell_type": "code",
   "execution_count": null,
   "metadata": {},
   "outputs": [],
   "source": [
    "\n",
    "\n",
    "\n",
    "\n",
    "\n",
    "\n",
    "\n",
    "\n",
    "\n",
    "\n",
    "\n",
    "\n",
    "\n",
    "\n",
    "\n",
    "\n",
    "\n",
    "\n"
   ]
  }
 ],
 "metadata": {
  "kernelspec": {
   "display_name": "Python 3",
   "language": "python",
   "name": "python3"
  },
  "language_info": {
   "codemirror_mode": {
    "name": "ipython",
    "version": 3
   },
   "file_extension": ".py",
   "mimetype": "text/x-python",
   "name": "python",
   "nbconvert_exporter": "python",
   "pygments_lexer": "ipython3",
   "version": "3.7.5"
  }
 },
 "nbformat": 4,
 "nbformat_minor": 4
}
