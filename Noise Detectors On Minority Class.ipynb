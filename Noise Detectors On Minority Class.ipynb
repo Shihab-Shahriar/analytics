{
 "cells": [
  {
   "cell_type": "markdown",
   "metadata": {},
   "source": [
    "## Questions to Answer\n",
    "1. Does Filtering on noise estimates worsen imbalance? Before vs after IR for CLNI, Two-stage ensemble\n",
    "2. Avg. noise likelihood of minority vs majority class?\n",
    "3. Ratio of 0->1 & 1->0 noise types vs ratio of noisy samples identified in each class. With oracle access to no of actual, total no. of noisy samples "
   ]
  },
  {
   "cell_type": "code",
   "execution_count": 2,
   "metadata": {},
   "outputs": [
    {
     "name": "stderr",
     "output_type": "stream",
     "text": [
      "C:\\Users\\Shihab\\Anaconda3\\lib\\site-packages\\sklearn\\utils\\deprecation.py:144: FutureWarning: The sklearn.neighbors.base module is  deprecated in version 0.22 and will be removed in version 0.24. The corresponding classes / functions should instead be imported from sklearn.neighbors. Anything that cannot be imported from sklearn.neighbors is now part of the private API.\n",
      "  warnings.warn(message, FutureWarning)\n"
     ]
    }
   ],
   "source": [
    "import numpy as np,os\n",
    "import pandas as pd\n",
    "from sklearn.model_selection import StratifiedKFold\n",
    "from sklearn.metrics import matthews_corrcoef, precision_recall_curve, auc, accuracy_score, precision_score, recall_score\n",
    "import seaborn as sns,matplotlib.pyplot as plt\n",
    "\n",
    "from library.utils import evaluate, read_data\n",
    "from library.cleaners import kDN, ih_prob"
   ]
  },
  {
   "cell_type": "markdown",
   "metadata": {},
   "source": [
    "## Notes\n",
    "+ Using `kDN(K=5)`: In `25/32` datasets, no of samples with NP noise (Bug class in noisy dataset but actually Clean) has been overestimated. Consequently PN has been underestimated. This shows minority class gets disproportionately affected.\n",
    "    + For `ih_prob`: that number is `23/32`\n",
    "+ In terms of avg. probability of being noisy: samples in Bug class (of noisy data version) have vastly hugher value than clean ones. On further avg on 32 datasets, `.702 vs .074`, almost 10 times higher."
   ]
  },
  {
   "cell_type": "code",
   "execution_count": 3,
   "metadata": {},
   "outputs": [
    {
     "data": {
      "text/plain": [
       "32"
      ]
     },
     "execution_count": 3,
     "metadata": {},
     "output_type": "execute_result"
    }
   ],
   "source": [
    "DATASETS = ['groovy-1_5_7.csv','jruby-1.4.0.csv','lucene-2.9.0.csv','jruby-1.7.0.preview1.csv','groovy-1_6_BETA_1.csv',\n",
    "        'derby-10.2.1.6.csv','wicket-1.5.3.csv','camel-2.9.0.csv','camel-1.4.0.csv','activemq-5.8.0.csv']\n",
    "DATASETS = [f for f in os.listdir(\"JIRA/\") if 'csv' in f]\n",
    "len(DATASETS)"
   ]
  },
  {
   "cell_type": "code",
   "execution_count": 4,
   "metadata": {},
   "outputs": [],
   "source": [
    "def ih():\n",
    "    skf = StratifiedKFold(n_splits=5, shuffle=True)\n",
    "    rf = RandomForestClassifier(n_estimators=50,n_jobs=4)\n",
    "\n",
    "    probabilities = np.zeros(Y.shape[0], dtype=float)\n",
    "    for train_index, test_index in skf.split(X,Y):\n",
    "        rf.fit(X[train_index], Y[train_index])\n",
    "        probs = rf.predict_proba(X[test_index])\n",
    "        probabilities[test_index] = probs[range(len(test_index)), Y[test_index]]\n",
    "\n",
    "    hardness = 1 - probabilities"
   ]
  },
  {
   "cell_type": "code",
   "execution_count": 6,
   "metadata": {
    "collapsed": true,
    "jupyter": {
     "outputs_hidden": true
    }
   },
   "outputs": [
    {
     "name": "stdout",
     "output_type": "stream",
     "text": [
      "activemq-5.0.0.csv noise:0.139, imb:21.976,82,1802, Shape:(1884, 65)\n",
      "PN 236,NP 25\n",
      "ePN 182,eNP 79\n",
      "Avg, Bug:0.773, Clean:0.033\n",
      "\n",
      "activemq-5.1.0.csv noise:0.083, imb:13.173,139,1831, Shape:(1970, 65)\n",
      "PN 89,NP 74\n",
      "ePN 55,eNP 108\n",
      "Avg, Bug:0.696, Clean:0.051\n",
      "\n",
      "activemq-5.2.0.csv noise:0.113, imb:12.247,154,1886, Shape:(2040, 65)\n",
      "PN 148,NP 83\n",
      "ePN 91,eNP 140\n",
      "Avg, Bug:0.761, Clean:0.058\n",
      "\n",
      "activemq-5.3.0.csv noise:0.094, imb:15.669,142,2225, Shape:(2367, 65)\n",
      "PN 169,NP 53\n",
      "ePN 88,eNP 134\n",
      "Avg, Bug:0.782, Clean:0.042\n",
      "\n",
      "activemq-5.8.0.csv noise:0.058, imb:15.847,203,3217, Shape:(3420, 65)\n",
      "PN 100,NP 97\n",
      "ePN 25,eNP 172\n",
      "Avg, Bug:0.790, Clean:0.045\n",
      "\n",
      "camel-1.4.0.csv noise:0.281, imb:3.174,363,1152, Shape:(1515, 65)\n",
      "PN 174,NP 252\n",
      "ePN 161,eNP 265\n",
      "Avg, Bug:0.624, Clean:0.180\n",
      "\n",
      "camel-2.10.0.csv noise:0.053, imb:24.447,311,7603, Shape:(7914, 65)\n",
      "PN 169,NP 250\n",
      "ePN 130,eNP 289\n",
      "Avg, Bug:0.810, Clean:0.031\n",
      "\n",
      "camel-2.11.0.csv noise:0.024, imb:43.230,200,8646, Shape:(8846, 65)\n",
      "PN 100,NP 108\n",
      "ePN 26,eNP 182\n",
      "Avg, Bug:0.844, Clean:0.019\n",
      "\n",
      "camel-2.9.0.csv noise:0.044, imb:34.600,200,6920, Shape:(7120, 65)\n",
      "PN 156,NP 157\n",
      "ePN 116,eNP 197\n",
      "Avg, Bug:0.880, Clean:0.022\n",
      "\n",
      "derby-10.2.1.6.csv noise:0.290, imb:9.906,180,1783, Shape:(1963, 65)\n",
      "PN 525,NP 44\n",
      "ePN 391,eNP 178\n",
      "Avg, Bug:0.742, Clean:0.073\n",
      "\n",
      "derby-10.3.1.4.csv noise:0.267, imb:13.051,157,2049, Shape:(2206, 65)\n",
      "PN 550,NP 38\n",
      "ePN 431,eNP 157\n",
      "Avg, Bug:0.811, Clean:0.060\n",
      "\n",
      "derby-10.5.1.1.csv noise:0.126, imb:14.028,180,2525, Shape:(2705, 65)\n",
      "PN 272,NP 69\n",
      "ePN 175,eNP 166\n",
      "Avg, Bug:0.731, Clean:0.050\n",
      "\n",
      "groovy-1_5_7.csv noise:0.085, imb:8.463,80,677, Shape:(757, 65)\n",
      "PN 5,NP 59\n",
      "ePN 13,eNP 51\n",
      "Avg, Bug:0.633, Clean:0.065\n",
      "\n",
      "groovy-1_6_BETA_1.csv noise:0.128, imb:6.017,117,704, Shape:(821, 65)\n",
      "PN 29,NP 76\n",
      "ePN 39,eNP 66\n",
      "Avg, Bug:0.525, Clean:0.092\n",
      "\n",
      "groovy-1_6_BETA_2.csv noise:0.096, imb:7.583,103,781, Shape:(884, 65)\n",
      "PN 29,NP 56\n",
      "ePN 23,eNP 62\n",
      "Avg, Bug:0.610, Clean:0.086\n",
      "\n",
      "hbase-0.94.0.csv noise:0.207, imb:14.348,69,990, Shape:(1059, 65)\n",
      "PN 184,NP 35\n",
      "ePN 152,eNP 67\n",
      "Avg, Bug:0.687, Clean:0.045\n",
      "\n",
      "hbase-0.95.0.csv noise:0.234, imb:17.341,91,1578, Shape:(1669, 65)\n",
      "PN 341,NP 49\n",
      "ePN 300,eNP 90\n",
      "Avg, Bug:0.851, Clean:0.042\n",
      "\n",
      "hbase-0.95.2.csv noise:0.260, imb:15.088,114,1720, Shape:(1834, 65)\n",
      "PN 423,NP 54\n",
      "ePN 364,eNP 113\n",
      "Avg, Bug:0.821, Clean:0.053\n",
      "\n",
      "hive-0.10.0.csv noise:0.126, imb:29.000,52,1508, Shape:(1560, 65)\n",
      "PN 160,NP 36\n",
      "ePN 144,eNP 52\n",
      "Avg, Bug:0.815, Clean:0.023\n",
      "\n",
      "hive-0.12.0.csv noise:0.087, imb:56.870,46,2616, Shape:(2662, 65)\n",
      "PN 199,NP 32\n",
      "ePN 185,eNP 46\n",
      "Avg, Bug:0.878, Clean:0.012\n",
      "\n",
      "hive-0.9.0.csv noise:0.179, imb:25.717,53,1363, Shape:(1416, 65)\n",
      "PN 242,NP 12\n",
      "ePN 202,eNP 52\n",
      "Avg, Bug:0.766, Clean:0.021\n",
      "\n",
      "jruby-1.1.csv noise:0.175, imb:3.540,161,570, Shape:(731, 65)\n",
      "PN 27,NP 101\n",
      "ePN 58,eNP 70\n",
      "Avg, Bug:0.442, Clean:0.154\n",
      "\n",
      "jruby-1.4.0.csv noise:0.190, imb:3.890,200,778, Shape:(978, 65)\n",
      "PN 83,NP 103\n",
      "ePN 68,eNP 118\n",
      "Avg, Bug:0.566, Clean:0.139\n",
      "\n",
      "jruby-1.5.0.csv noise:0.218, imb:3.098,276,855, Shape:(1131, 65)\n",
      "PN 26,NP 220\n",
      "ePN 97,eNP 149\n",
      "Avg, Bug:0.487, Clean:0.154\n",
      "\n",
      "jruby-1.7.0.preview1.csv noise:0.099, imb:8.902,163,1451, Shape:(1614, 65)\n",
      "PN 42,NP 118\n",
      "ePN 39,eNP 121\n",
      "Avg, Bug:0.676, Clean:0.066\n",
      "\n",
      "lucene-2.3.0.csv noise:0.204, imb:4.031,160,645, Shape:(805, 65)\n",
      "PN 100,NP 64\n",
      "ePN 62,eNP 102\n",
      "Avg, Bug:0.601, Clean:0.139\n",
      "\n",
      "lucene-2.9.0.csv noise:0.226, imb:3.921,278,1090, Shape:(1368, 65)\n",
      "PN 152,NP 157\n",
      "ePN 132,eNP 177\n",
      "Avg, Bug:0.534, Clean:0.138\n",
      "\n",
      "lucene-3.0.0.csv noise:0.185, imb:6.037,190,1147, Shape:(1337, 65)\n",
      "PN 106,NP 141\n",
      "ePN 98,eNP 149\n",
      "Avg, Bug:0.657, Clean:0.118\n",
      "\n",
      "lucene-3.1.csv noise:0.120, imb:7.477,331,2475, Shape:(2806, 65)\n",
      "PN 56,NP 280\n",
      "ePN 115,eNP 221\n",
      "Avg, Bug:0.592, Clean:0.073\n",
      "\n",
      "wicket-1.3.0-beta2.csv noise:0.184, imb:4.780,305,1458, Shape:(1763, 65)\n",
      "PN 75,NP 250\n",
      "ePN 118,eNP 207\n",
      "Avg, Bug:0.597, Clean:0.120\n",
      "\n",
      "wicket-1.3.0-incubating-beta-1.csv noise:0.164, imb:4.806,288,1384, Shape:(1672, 65)\n",
      "PN 44,NP 231\n",
      "ePN 86,eNP 189\n",
      "Avg, Bug:0.608, Clean:0.123\n",
      "\n",
      "wicket-1.5.3.csv noise:0.064, imb:26.720,93,2485, Shape:(2578, 65)\n",
      "PN 89,NP 77\n",
      "ePN 73,eNP 93\n",
      "Avg, Bug:0.886, Clean:0.031\n",
      "\n"
     ]
    }
   ],
   "source": [
    "df = pd.DataFrame(index=DATASETS,columns=['PN','ePN','NP','eNP','bug-ih','clean-ih'])\n",
    "for d in DATASETS:\n",
    "    X,y_noisy,y_real = read_data(d,True)\n",
    "    PN = y_noisy[y_real==1]==0   #So, really 1(P), but now 0(N)\n",
    "    NP = y_noisy[y_real==0]==1   #So, really 0(N), but now 1(P)\n",
    "    assert PN.sum()+NP.sum()==(y_noisy!=y_real).sum()\n",
    "    print(f\"PN {PN.sum()},NP {NP.sum()}\")\n",
    "    ne = kDN(X,y_noisy,K=5)\n",
    "    \n",
    "    avg_bug,avg_clean = ne[y_noisy==1].mean(),ne[y_noisy==0].mean()  #avg_bug: avg noise probs of those labelled Buggy in Noisy dataset\n",
    "    actual_total = (y_noisy!=y_real).sum()\n",
    "    nidx = np.argsort(ne)[-actual_total:]\n",
    "    eNP = y_noisy[nidx]==1\n",
    "    ePN = y_noisy[nidx]==0\n",
    "    print(f\"ePN {ePN.sum()},eNP {eNP.sum()}\")\n",
    "    print(f\"Avg, Bug:{avg_bug:.3f}, Clean:{avg_clean:.3f}\")\n",
    "    print()\n",
    "    df.loc[d,:] = [x.sum() for x in [PN,ePN,NP,eNP]] + [avg_bug,avg_clean]\n",
    "    \n",
    "df.to_csv('why_filters_bad_kDN.csv')"
   ]
  },
  {
   "cell_type": "code",
   "execution_count": null,
   "metadata": {},
   "outputs": [],
   "source": [
    "df"
   ]
  },
  {
   "cell_type": "code",
   "execution_count": 7,
   "metadata": {},
   "outputs": [
    {
     "data": {
      "image/png": "[encoded data removed]",
      "text/plain": [
       "<Figure size 1296x360 with 1 Axes>"
      ]
     },
     "metadata": {
      "needs_background": "light"
     },
     "output_type": "display_data"
    }
   ],
   "source": [
    "plt.figure(figsize=(18,5))\n",
    "plt.plot(range(len(DATASETS)),df['PN'],c='r',label='Actual');\n",
    "plt.plot(range(len(DATASETS)),df['ePN'],c='b',label='Predicted');\n",
    "plt.legend();"
   ]
  },
  {
   "cell_type": "code",
   "execution_count": 8,
   "metadata": {},
   "outputs": [
    {
     "data": {
      "text/plain": [
       "(7, 25)"
      ]
     },
     "execution_count": 8,
     "metadata": {},
     "output_type": "execute_result"
    }
   ],
   "source": [
    "(df['ePN']>df['PN']).sum(),(df['eNP']>df['NP']).sum()"
   ]
  },
  {
   "cell_type": "code",
   "execution_count": 9,
   "metadata": {},
   "outputs": [
    {
     "data": {
      "image/png": "[encoded data removed]",
      "text/plain": [
       "<Figure size 1296x360 with 1 Axes>"
      ]
     },
     "metadata": {
      "needs_background": "light"
     },
     "output_type": "display_data"
    }
   ],
   "source": [
    "plt.figure(figsize=(18,5))\n",
    "plt.plot(range(len(DATASETS)),df['NP'],c='r',label='Actual');\n",
    "plt.plot(range(len(DATASETS)),df['eNP'],c='b',label='Predicted');\n",
    "plt.legend();"
   ]
  },
  {
   "cell_type": "code",
   "execution_count": 11,
   "metadata": {},
   "outputs": [
    {
     "data": {
      "image/png": "[encoded data removed]",
      "text/plain": [
       "<Figure size 1296x360 with 1 Axes>"
      ]
     },
     "metadata": {
      "needs_background": "light"
     },
     "output_type": "display_data"
    }
   ],
   "source": [
    "plt.figure(figsize=(18,5))\n",
    "plt.plot(range(len(DATASETS)),df['bug-ih'],c='r',label='Buggy');\n",
    "plt.plot(range(len(DATASETS)),df['clean-ih'],c='b',label='Clean');\n",
    "plt.legend();"
   ]
  },
  {
   "cell_type": "code",
   "execution_count": 12,
   "metadata": {},
   "outputs": [
    {
     "data": {
      "text/plain": [
       "(0.7023411611877398, 0.07362090891121963)"
      ]
     },
     "execution_count": 12,
     "metadata": {},
     "output_type": "execute_result"
    }
   ],
   "source": [
    "df['bug-ih'].mean(),df['clean-ih'].mean()"
   ]
  },
  {
   "cell_type": "code",
   "execution_count": 14,
   "metadata": {},
   "outputs": [
    {
     "data": {
      "image/png": "[encoded data removed]",
      "text/plain": [
       "<Figure size 432x288 with 1 Axes>"
      ]
     },
     "metadata": {
      "needs_background": "light"
     },
     "output_type": "display_data"
    }
   ],
   "source": [
    "sns.boxplot(data=df[['bug-ih','clean-ih']]);"
   ]
  },
  {
   "cell_type": "code",
   "execution_count": null,
   "metadata": {},
   "outputs": [],
   "source": [
    "ih = df.copy()"
   ]
  },
  {
   "cell_type": "code",
   "execution_count": null,
   "metadata": {},
   "outputs": [],
   "source": [
    "kdn = df.copy()"
   ]
  },
  {
   "cell_type": "code",
   "execution_count": null,
   "metadata": {},
   "outputs": [],
   "source": [
    "a = kdn[['avg-bug','avg-clean']].assign(detect='kDN')\n",
    "b = ih[['avg-bug','avg-clean']].assign(detect='IH')"
   ]
  },
  {
   "cell_type": "code",
   "execution_count": null,
   "metadata": {},
   "outputs": [],
   "source": [
    "tmp = pd.concat([a,b],axis=0)"
   ]
  },
  {
   "cell_type": "code",
   "execution_count": null,
   "metadata": {},
   "outputs": [],
   "source": [
    "tt = pd.melt(tmp,id_vars=['detect'])\n",
    "tt"
   ]
  },
  {
   "cell_type": "code",
   "execution_count": null,
   "metadata": {},
   "outputs": [],
   "source": [
    "tt.columns = ['detector','Class','MCC']"
   ]
  },
  {
   "cell_type": "code",
   "execution_count": null,
   "metadata": {},
   "outputs": [],
   "source": [
    "plt.figure(figsize=(6,5));\n",
    "f = sns.boxplot(x='Class',y='MCC',data=tt,hue='detector');"
   ]
  },
  {
   "cell_type": "code",
   "execution_count": null,
   "metadata": {},
   "outputs": [],
   "source": [
    "f.get_figure().savefig(\"figures/noise_estimates.svg\",format='svg');"
   ]
  },
  {
   "cell_type": "markdown",
   "metadata": {},
   "source": [
    "## Impact on Classification performance\n",
    "So, both noise detectors discriminate against minority Bug class. But when we incorporate this noise estimates into this imbalanced classification setting, how much does this actually hurt classification performance? Is balancing first better? `Balancing->Filtering` vs `Filtering->Balancing`"
   ]
  },
  {
   "cell_type": "code",
   "execution_count": null,
   "metadata": {},
   "outputs": [],
   "source": [
    "from collections import defaultdict\n",
    "from sklearn.naive_bayes import GaussianNB\n",
    "from sklearn.tree import DecisionTreeClassifier\n",
    "from sklearn.linear_model import LogisticRegression\n",
    "from sklearn.neighbors import KNeighborsClassifier\n",
    "from sklearn.ensemble import RandomForestClassifier\n",
    "from sklearn.model_selection import RepeatedStratifiedKFold\n",
    "from imblearn.ensemble import BalancedBaggingClassifier, RUSBoostClassifier\n",
    "from imblearn.over_sampling import SMOTE\n",
    "from imblearn.under_sampling import RandomUnderSampler, EditedNearestNeighbours, TomekLinks\n",
    "from imblearn.pipeline import Pipeline\n",
    "\n",
    "from library.cleaners import FilteringEstimator"
   ]
  },
  {
   "cell_type": "code",
   "execution_count": null,
   "metadata": {},
   "outputs": [],
   "source": [
    "def evaluateFilter(clf,X,y_noisy,y_real,cv,scorers):\n",
    "    scores = defaultdict(list)\n",
    "    to_keep = (y_noisy==y_real).sum()\n",
    "    for train_id, test_id in cv.split(X,y_real):  #vs y_noisy, to solve no-pos-label-in-test-set bug     \n",
    "        try:\n",
    "            clf = clf.fit(X[train_id],y_noisy[train_id],to_keep=to_keep)\n",
    "            probs = clf.predict_proba(X[test_id])\n",
    "            assert probs.shape[1]==2\n",
    "        except (ValueError,AssertionError) as e: \n",
    "            #assert str(e).startswith(\"Expected n_neighbors\") or str(e).startswith(\"The target\"),f\"Some different Error:{str(e)}\"\n",
    "            for func in scorers:\n",
    "                scores[func.__name__].append(0)\n",
    "            print(\"ERROR\")\n",
    "            continue\n",
    "        labels = np.argmax(probs,axis=1)\n",
    "        for func in scorers:\n",
    "            yp = probs[:,1]\n",
    "            try:\n",
    "                func([0,1,1],[.2,.6,.7])\n",
    "                yp = probs[:,1]\n",
    "            except ValueError as e:\n",
    "                yp = labels\n",
    "            scores[func.__name__].append(func(y_real[test_id],yp))\n",
    "    for func in scorers:\n",
    "        scores[func.__name__] = np.array(scores[func.__name__])\n",
    "    return scores"
   ]
  },
  {
   "cell_type": "code",
   "execution_count": null,
   "metadata": {},
   "outputs": [],
   "source": [
    "imbs = {\n",
    "    'smote': SMOTE(k_neighbors=5),\n",
    "    'rus': RandomUnderSampler('not minority'),\n",
    "    'wilson':EditedNearestNeighbours(n_neighbors=5),  #Default was 3\n",
    "    'tomek': TomekLinks(),\n",
    "}\n",
    "clfs = {\n",
    "    'dt': DecisionTreeClassifier(max_depth=20),\n",
    "    'lr': LogisticRegression(solver='lbfgs',max_iter=1000),\n",
    "    'nb': GaussianNB(),\n",
    "    'knn': KNeighborsClassifier(n_neighbors=5),\n",
    "    'rf': RandomForestClassifier(n_estimators=50),\n",
    "}\n",
    "ensembles = {\n",
    "    'rboost_DT': RUSBoostClassifier(base_estimator=DecisionTreeClassifier(max_depth=10),algorithm='SAMME',n_estimators=10),\n",
    "    'rboost_NB': RUSBoostClassifier(base_estimator=GaussianNB(),algorithm='SAMME',n_estimators=10),\n",
    "    'bbag_DT': BalancedBaggingClassifier(base_estimator=DecisionTreeClassifier(max_depth=20,max_features='sqrt')),\n",
    "    'bbag_NB': BalancedBaggingClassifier(base_estimator=GaussianNB()),\n",
    "}\n",
    "simples = {\n",
    "    'LR': LogisticRegression(solver='lbfgs',max_iter=1000),\n",
    "    'RF': RandomForestClassifier(n_estimators=50)\n",
    "}"
   ]
  },
  {
   "cell_type": "markdown",
   "metadata": {},
   "source": [
    "## Filtering -> Balancing"
   ]
  },
  {
   "cell_type": "code",
   "execution_count": null,
   "metadata": {},
   "outputs": [],
   "source": [
    "models = {}\n",
    "for im,samp in imbs.items():\n",
    "    for c,clf in clfs.items():\n",
    "        models[(im,c)] = FilteringEstimator(Pipeline([('samp',samp),('clf',clf)]),kDN,K=5)\n",
    "\n",
    "for m,ens in ensembles.items():\n",
    "    models[('ens',m)] = FilteringEstimator(ens,kDN,K=5)\n",
    "    \n",
    "for m,clf in simples.items():\n",
    "    models[('sim',m)] = FilteringEstimator(clf,kDN,K=5)    \n",
    "    \n",
    "models.keys(),len(models)"
   ]
  },
  {
   "cell_type": "code",
   "execution_count": null,
   "metadata": {},
   "outputs": [],
   "source": [
    "cv = RepeatedStratifiedKFold(n_splits=10,n_repeats=3,random_state=None)\n",
    "def pr_rec_score(y,yp):\n",
    "    prec, rec, _ = precision_recall_curve(y,yp)\n",
    "    return auc(rec,prec)\n",
    "scorers = [matthews_corrcoef,pr_rec_score]"
   ]
  },
  {
   "cell_type": "code",
   "execution_count": null,
   "metadata": {},
   "outputs": [],
   "source": [
    "cols = pd.MultiIndex.from_product([imbs.keys(),clfs.keys(),[f.__name__ for f in scorers]],names=['imb','clf','metric'])\n",
    "df = pd.DataFrame(index=DATASETS,columns=cols)\n",
    "df = pd.read_csv(\"Filtering->Balancing.csv\",header=[0,1,2],index_col=0)"
   ]
  },
  {
   "cell_type": "code",
   "execution_count": null,
   "metadata": {},
   "outputs": [],
   "source": [
    "for d in DATASETS:\n",
    "    X,y_noisy,y_real = read_data(d,stats=True)\n",
    "    if df.loc[d,:].isna().sum()==0: \n",
    "        print(f\"Skipping {d}\")\n",
    "        continue\n",
    "    for k in models:\n",
    "        print(k)\n",
    "        r = evaluateFilter(models[k],X,y_noisy,y_real,cv,scorers)\n",
    "        for f in r:\n",
    "            df.loc[d,(k[0],k[1],f)] = r[f].mean()\n",
    "    df.to_csv(\"Filtering->Balancing.csv\")"
   ]
  },
  {
   "cell_type": "code",
   "execution_count": null,
   "metadata": {},
   "outputs": [],
   "source": [
    "df"
   ]
  },
  {
   "cell_type": "code",
   "execution_count": null,
   "metadata": {},
   "outputs": [],
   "source": [
    "from scipy.stats import wilcoxon, friedmanchisquare, rankdata\n",
    "import scikit_posthocs as sp"
   ]
  },
  {
   "cell_type": "code",
   "execution_count": null,
   "metadata": {},
   "outputs": [],
   "source": [
    "mat = df.drop(columns=['matthews_corrcoef'],axis=1,level=2).droplevel(2,axis=1)\n",
    "mat.shape"
   ]
  },
  {
   "cell_type": "code",
   "execution_count": null,
   "metadata": {},
   "outputs": [],
   "source": [
    "res = mat.copy()\n",
    "for d in mat.index:\n",
    "    res.loc[d] = rankdata(1-mat.loc[d])\n",
    "res"
   ]
  },
  {
   "cell_type": "code",
   "execution_count": null,
   "metadata": {},
   "outputs": [],
   "source": [
    "res.mean().sort_values()"
   ]
  },
  {
   "cell_type": "code",
   "execution_count": null,
   "metadata": {},
   "outputs": [],
   "source": []
  },
  {
   "cell_type": "code",
   "execution_count": null,
   "metadata": {},
   "outputs": [],
   "source": []
  },
  {
   "cell_type": "code",
   "execution_count": null,
   "metadata": {},
   "outputs": [],
   "source": []
  },
  {
   "cell_type": "code",
   "execution_count": null,
   "metadata": {},
   "outputs": [],
   "source": [
    "\n",
    "\n",
    "\n",
    "\n",
    "\n",
    "\n",
    "\n",
    "\n",
    "\n",
    "\n",
    "\n",
    "\n",
    "\n",
    "\n",
    "\n",
    "\n",
    "\n",
    "\n"
   ]
  }
 ],
 "metadata": {
  "kernelspec": {
   "display_name": "Python 3",
   "language": "python",
   "name": "python3"
  },
  "language_info": {
   "codemirror_mode": {
    "name": "ipython",
    "version": 3
   },
   "file_extension": ".py",
   "mimetype": "text/x-python",
   "name": "python",
   "nbconvert_exporter": "python",
   "pygments_lexer": "ipython3",
   "version": "3.7.6"
  }
 },
 "nbformat": 4,
 "nbformat_minor": 4
}
