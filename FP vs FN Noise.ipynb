{
 "cells": [
  {
   "cell_type": "code",
   "execution_count": 2,
   "metadata": {},
   "outputs": [],
   "source": [
    "from time import perf_counter\n",
    "import numpy as np,os\n",
    "import pandas as pd\n",
    "from sklearn.preprocessing import LabelEncoder, StandardScaler, power_transform, MinMaxScaler\n",
    "from sklearn.tree import DecisionTreeClassifier\n",
    "from sklearn.linear_model import LogisticRegression\n",
    "from sklearn.naive_bayes import GaussianNB\n",
    "from sklearn.neighbors import KNeighborsClassifier\n",
    "from sklearn.ensemble import RandomForestClassifier, AdaBoostClassifier\n",
    "from sklearn.svm import SVC\n",
    "from sklearn.model_selection import cross_val_score, RepeatedStratifiedKFold, GridSearchCV, cross_val_predict\n",
    "from sklearn.utils import shuffle\n",
    "from sklearn.metrics import matthews_corrcoef, precision_recall_curve, auc, accuracy_score, precision_score, recall_score\n",
    "from imblearn.over_sampling import SMOTE\n",
    "from imblearn.under_sampling import RandomUnderSampler, EditedNearestNeighbours, TomekLinks\n",
    "from imblearn.pipeline import make_pipeline, Pipeline\n",
    "import seaborn as sns,matplotlib.pyplot as plt\n",
    "\n",
    "from library.configs import CLFS, IMBS, CV, SCORERS\n",
    "from library.utils import evaluate, read_data"
   ]
  },
  {
   "cell_type": "code",
   "execution_count": 3,
   "metadata": {},
   "outputs": [
    {
     "data": {
      "text/plain": [
       "10"
      ]
     },
     "execution_count": 3,
     "metadata": {},
     "output_type": "execute_result"
    }
   ],
   "source": [
    "DATASETS = ['groovy-1_5_7.csv','jruby-1.4.0.csv','lucene-2.9.0.csv','jruby-1.7.0.preview1.csv','groovy-1_6_BETA_1.csv',\n",
    "        'derby-10.2.1.6.csv','wicket-1.5.3.csv','camel-2.9.0.csv','camel-1.4.0.csv','activemq-5.8.0.csv']\n",
    "#DATASETS = [f for f in os.listdir(\"JIRA/\") if 'csv' in f]\n",
    "len(DATASETS)"
   ]
  },
  {
   "cell_type": "code",
   "execution_count": 4,
   "metadata": {},
   "outputs": [],
   "source": [
    "NOISE_TYPES = ['No','FN-Only','FP-Only','Both']\n",
    "CV = RepeatedStratifiedKFold(n_splits=5,n_repeats=2,random_state=99)"
   ]
  },
  {
   "cell_type": "code",
   "execution_count": 5,
   "metadata": {},
   "outputs": [
    {
     "data": {
      "text/plain": [
       "(dict_keys([('smote', 'dt'), ('smote', 'lr'), ('smote', 'nb'), ('smote', 'svm'), ('smote', 'knn'), ('smote', 'rf'), ('rus', 'dt'), ('rus', 'lr'), ('rus', 'nb'), ('rus', 'svm'), ('rus', 'knn'), ('rus', 'rf'), ('wilson', 'dt'), ('wilson', 'lr'), ('wilson', 'nb'), ('wilson', 'svm'), ('wilson', 'knn'), ('wilson', 'rf'), ('tomek', 'dt'), ('tomek', 'lr'), ('tomek', 'nb'), ('tomek', 'svm'), ('tomek', 'knn'), ('tomek', 'rf'), ('None', 'dt'), ('None', 'lr'), ('None', 'nb'), ('None', 'svm'), ('None', 'knn'), ('None', 'rf')]),\n",
       " 30)"
      ]
     },
     "execution_count": 5,
     "metadata": {},
     "output_type": "execute_result"
    }
   ],
   "source": [
    "models = {}\n",
    "for im,samp in IMBS.items():\n",
    "    for c,clf in CLFS.items():\n",
    "        models[(im,c)] = Pipeline([('samp',samp),('clf',clf)])\n",
    "models.keys(),len(models)"
   ]
  },
  {
   "cell_type": "code",
   "execution_count": null,
   "metadata": {},
   "outputs": [],
   "source": [
    "cols = pd.MultiIndex.from_product([NOISE_TYPES,IMBS.keys(),CLFS.keys(),[f.__name__ for f in SCORERS]],names=['noise','imb','clf','metric'])\n",
    "df = pd.DataFrame(index=DATASETS,columns=cols)"
   ]
  },
  {
   "cell_type": "code",
   "execution_count": null,
   "metadata": {},
   "outputs": [],
   "source": [
    "from sklearn.metrics import confusion_matrix\n",
    "FRACS = [0,.25,.5,.75,1.0]\n",
    "cols = pd.MultiIndex.from_product([FRACS,IMBS.keys(),CLFS.keys(),[f.__name__ for f in SCORERS]],names=['frac','imb','clf','metric'])\n",
    "df = pd.DataFrame(index=DATASETS,columns=cols)\n",
    "for it,d in enumerate(DATASETS):\n",
    "    X,y_noisy,y_real = read_data(d,stats=True)\n",
    "    C = np.argwhere(y_real==1).ravel()\n",
    "    N = np.argwhere(y_noisy==0).ravel()  #FP\n",
    "    idx = np.intersect1d(N,C)\n",
    "    tn, fp, fn, tp = confusion_matrix(y_real,y_noisy).ravel()\n",
    "    print(\"idx:\",len(idx),fn,len(N),len(C))\n",
    "    for frac in FRACS:\n",
    "        print(\"frac:\",frac)\n",
    "        y = y_noisy.copy()\n",
    "        size = int(frac*len(idx))\n",
    "        to_correct = np.random.choice(idx.copy(),size=size,replace=False)\n",
    "        y[to_correct] = 1\n",
    "        print(len(idx),len(to_correct))\n",
    "        print(f\"{precision_score(y_real,y):.3f},{recall_score(y_real,y):.3f}\",(y_real!=y).sum())\n",
    "        \n",
    "        for k in models:\n",
    "            r = evaluate(models[k],X,y,y_real,CV,SCORERS)\n",
    "            for f in r:\n",
    "                df.loc[d,(frac,k[0],k[1],f)] = r[f].mean()\n",
    "    df.to_csv(\"Results/FN.csv\")"
   ]
  },
  {
   "cell_type": "code",
   "execution_count": null,
   "metadata": {},
   "outputs": [],
   "source": [
    "from sklearn.metrics import confusion_matrix\n",
    "FRACS = [0,.25,.5,.75,1.0]\n",
    "cols = pd.MultiIndex.from_product([FRACS,IMBS.keys(),CLFS.keys(),[f.__name__ for f in SCORERS]],names=['frac','imb','clf','metric'])\n",
    "df = pd.DataFrame(index=DATASETS,columns=cols)\n",
    "for it,d in enumerate(DATASETS):\n",
    "    X,y_noisy,y_real = read_data(d,stats=True)\n",
    "    C = np.argwhere(y_real==0).ravel()\n",
    "    N = np.argwhere(y_noisy==1).ravel()  #FP\n",
    "    idx = np.intersect1d(N,C)\n",
    "    tn, fp, fn, tp = confusion_matrix(y_real,y_noisy).ravel()\n",
    "    print(\"idx:\",len(idx),fn,len(N),len(C))\n",
    "    for frac in FRACS:\n",
    "        print(\"frac:\",frac)\n",
    "        y = y_noisy.copy()\n",
    "        size = int(frac*len(idx))\n",
    "        to_correct = np.random.choice(idx.copy(),size=size,replace=False)\n",
    "        y[to_correct] = 0\n",
    "        print(len(idx),len(to_correct))\n",
    "        print(f\"{precision_score(y_real,y):.3f},{recall_score(y_real,y):.3f}\",(y_real!=y).sum())\n",
    "        \n",
    "        for k in models:\n",
    "            r = evaluate(models[k],X,y,y_real,CV,SCORERS)\n",
    "            for f in r:\n",
    "                df.loc[d,(frac,k[0],k[1],f)] = r[f].mean()\n",
    "    df.to_csv(\"Results/FP.csv\")"
   ]
  },
  {
   "cell_type": "code",
   "execution_count": null,
   "metadata": {},
   "outputs": [],
   "source": []
  },
  {
   "cell_type": "markdown",
   "metadata": {},
   "source": [
    "## Analysis"
   ]
  },
  {
   "cell_type": "code",
   "execution_count": 2,
   "metadata": {},
   "outputs": [],
   "source": [
    "import numpy as np\n",
    "import pandas as pd,os\n",
    "from scipy.stats import wilcoxon, friedmanchisquare, rankdata, trim_mean, linregress\n",
    "import scikit_posthocs as sp\n",
    "import pingouin as pg\n",
    "import matplotlib.pyplot as plt\n",
    "import seaborn as sns"
   ]
  },
  {
   "cell_type": "code",
   "execution_count": 3,
   "metadata": {},
   "outputs": [],
   "source": [
    "FN = pd.read_csv(\"Results/FN.csv\",header=[0,1,2,3],index_col=0)\n",
    "FP = pd.read_csv(\"Results/FP.csv\",header=[0,1,2,3],index_col=0)"
   ]
  },
  {
   "cell_type": "code",
   "execution_count": 4,
   "metadata": {},
   "outputs": [
    {
     "data": {
      "text/plain": [
       "((10, 150), (10, 150))"
      ]
     },
     "execution_count": 4,
     "metadata": {},
     "output_type": "execute_result"
    }
   ],
   "source": [
    "FN = FN.drop(columns=['pr_rec_score'],level=3,axis=1).droplevel(3,axis=1)\n",
    "FP = FP.drop(columns=['pr_rec_score'],level=3,axis=1).droplevel(3,axis=1)\n",
    "FP.shape,FN.shape"
   ]
  },
  {
   "cell_type": "code",
   "execution_count": 5,
   "metadata": {},
   "outputs": [
    {
     "name": "stdout",
     "output_type": "stream",
     "text": [
      "0.0\n",
      "0.25\n",
      "0.5\n",
      "0.75\n",
      "1.0\n"
     ]
    }
   ],
   "source": [
    "FRACS = [0.,.25,.5,.75,1.0]\n",
    "fn,fp = {},{}\n",
    "for c in FRACS:\n",
    "    fn[c] = trim_mean(FN[str(c)].values.reshape(-1),.05)\n",
    "    fp[c] = trim_mean(FP[str(c)].values.reshape(-1),.05)\n",
    "    print(c)"
   ]
  },
  {
   "cell_type": "code",
   "execution_count": 6,
   "metadata": {},
   "outputs": [
    {
     "data": {
      "text/plain": [
       "Text(0.5, 0, 'Percentage Corrected')"
      ]
     },
     "execution_count": 6,
     "metadata": {},
     "output_type": "execute_result"
    },
    {
     "data": {
      "image/png": "[encoded data removed]",
      "text/plain": [
       "<Figure size 432x288 with 1 Axes>"
      ]
     },
     "metadata": {},
     "output_type": "display_data"
    }
   ],
   "source": [
    "X = list(fp.keys())\n",
    "plt.ylim(.225,.375)\n",
    "plt.xticks(FRACS)\n",
    "sns.regplot(X,list(fp.values()),ci=99,label='N->P');\n",
    "sns.regplot(X,list(fn.values()),ci=99,label='P->N');\n",
    "plt.legend();\n",
    "plt.ylabel(\"MCC\")\n",
    "plt.xlabel(\"Percentage Corrected\")\n"
   ]
  },
  {
   "cell_type": "code",
   "execution_count": 7,
   "metadata": {},
   "outputs": [
    {
     "data": {
      "text/plain": [
       "LinregressResult(slope=0.04865858225914928, intercept=0.27729183063530505, rvalue=0.9970888720130039, pvalue=0.00018846732778494157, stderr=0.002148296890671084)"
      ]
     },
     "execution_count": 7,
     "metadata": {},
     "output_type": "execute_result"
    }
   ],
   "source": [
    "linregress(X,list(fn.values()))"
   ]
  },
  {
   "cell_type": "code",
   "execution_count": 8,
   "metadata": {},
   "outputs": [
    {
     "data": {
      "text/plain": [
       "LinregressResult(slope=0.008885875872038552, intercept=0.27359142423900773, rvalue=0.8792819611881367, pvalue=0.04942737432884706, stderr=0.002779031756172864)"
      ]
     },
     "execution_count": 8,
     "metadata": {},
     "output_type": "execute_result"
    }
   ],
   "source": [
    "linregress(X,list(fp.values()))"
   ]
  },
  {
   "cell_type": "code",
   "execution_count": null,
   "metadata": {},
   "outputs": [],
   "source": [
    "\n",
    "\n",
    "\n",
    "\n",
    "\n",
    "\n",
    "\n",
    "\n",
    "\n",
    "\n",
    "\n",
    "\n",
    "\n",
    "\n",
    "\n",
    "\n",
    "\n",
    "\n",
    "\n",
    "\n"
   ]
  }
 ],
 "metadata": {
  "kernelspec": {
   "display_name": "Python 3",
   "language": "python",
   "name": "python3"
  },
  "language_info": {
   "codemirror_mode": {
    "name": "ipython",
    "version": 3
   },
   "file_extension": ".py",
   "mimetype": "text/x-python",
   "name": "python",
   "nbconvert_exporter": "python",
   "pygments_lexer": "ipython3",
   "version": "3.7.5"
  }
 },
 "nbformat": 4,
 "nbformat_minor": 4
}
