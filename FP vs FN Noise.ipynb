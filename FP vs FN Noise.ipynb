{
 "cells": [
  {
   "cell_type": "code",
   "execution_count": 3,
   "metadata": {},
   "outputs": [],
   "source": [
    "from time import perf_counter\n",
    "import numpy as np,os\n",
    "import pandas as pd\n",
    "from sklearn.preprocessing import LabelEncoder, StandardScaler, power_transform, MinMaxScaler\n",
    "from sklearn.tree import DecisionTreeClassifier\n",
    "from sklearn.linear_model import LogisticRegression\n",
    "from sklearn.naive_bayes import GaussianNB\n",
    "from sklearn.neighbors import KNeighborsClassifier\n",
    "from sklearn.ensemble import RandomForestClassifier, AdaBoostClassifier\n",
    "from sklearn.svm import SVC\n",
    "from sklearn.model_selection import cross_val_score, RepeatedStratifiedKFold, GridSearchCV, cross_val_predict\n",
    "from sklearn.utils import shuffle\n",
    "from sklearn.metrics import matthews_corrcoef, precision_recall_curve, auc, accuracy_score, precision_score, recall_score\n",
    "from imblearn.over_sampling import SMOTE\n",
    "from imblearn.under_sampling import RandomUnderSampler, EditedNearestNeighbours, TomekLinks\n",
    "from imblearn.pipeline import make_pipeline, Pipeline\n",
    "import seaborn as sns,matplotlib.pyplot as plt\n",
    "import warnings; warnings.filterwarnings('ignore')\n",
    "\n",
    "from library.configs import CLFS, IMBS, CV, SCORERS\n",
    "from library.utils import evaluate, read_data"
   ]
  },
  {
   "cell_type": "code",
   "execution_count": 4,
   "metadata": {},
   "outputs": [
    {
     "data": {
      "text/plain": [
       "10"
      ]
     },
     "execution_count": 4,
     "metadata": {},
     "output_type": "execute_result"
    }
   ],
   "source": [
    "DATASETS = ['groovy-1_5_7.csv','jruby-1.4.0.csv','lucene-2.9.0.csv','jruby-1.7.0.preview1.csv','groovy-1_6_BETA_1.csv',\n",
    "        'derby-10.2.1.6.csv','wicket-1.5.3.csv','camel-2.9.0.csv','camel-1.4.0.csv','activemq-5.8.0.csv']\n",
    "#DATASETS = [f for f in os.listdir(\"JIRA/\") if 'csv' in f]\n",
    "len(DATASETS)"
   ]
  },
  {
   "cell_type": "code",
   "execution_count": 5,
   "metadata": {},
   "outputs": [],
   "source": [
    "NOISE_TYPES = ['No','FN-Only','FP-Only','Both']\n",
    "CV = RepeatedStratifiedKFold(n_splits=5,n_repeats=2,random_state=99)"
   ]
  },
  {
   "cell_type": "code",
   "execution_count": 6,
   "metadata": {},
   "outputs": [
    {
     "data": {
      "text/plain": [
       "(dict_keys([('smote', 'dt'), ('smote', 'lr'), ('smote', 'nb'), ('smote', 'svm'), ('smote', 'knn'), ('smote', 'rf'), ('rus', 'dt'), ('rus', 'lr'), ('rus', 'nb'), ('rus', 'svm'), ('rus', 'knn'), ('rus', 'rf'), ('wilson', 'dt'), ('wilson', 'lr'), ('wilson', 'nb'), ('wilson', 'svm'), ('wilson', 'knn'), ('wilson', 'rf'), ('tomek', 'dt'), ('tomek', 'lr'), ('tomek', 'nb'), ('tomek', 'svm'), ('tomek', 'knn'), ('tomek', 'rf'), ('None', 'dt'), ('None', 'lr'), ('None', 'nb'), ('None', 'svm'), ('None', 'knn'), ('None', 'rf')]),\n",
       " 30)"
      ]
     },
     "execution_count": 6,
     "metadata": {},
     "output_type": "execute_result"
    }
   ],
   "source": [
    "models = {}\n",
    "for im,samp in IMBS.items():\n",
    "    for c,clf in CLFS.items():\n",
    "        models[(im,c)] = Pipeline([('samp',samp),('clf',clf)])\n",
    "models.keys(),len(models)"
   ]
  },
  {
   "cell_type": "code",
   "execution_count": 7,
   "metadata": {
    "collapsed": true,
    "jupyter": {
     "outputs_hidden": true
    }
   },
   "outputs": [
    {
     "name": "stdout",
     "output_type": "stream",
     "text": [
      "0\n",
      "groovy-1_5_7.csv noise:0.085, imb:8.463,80,677, Shape:(757, 65)\n",
      "idx: 5 5 677 26\n",
      "frac: 0\n",
      "5 0\n",
      "1.000,1.000 0\n",
      "frac: 0.25\n",
      "5 1\n",
      "1.000,0.962 1\n",
      "frac: 0.5\n",
      "5 2\n",
      "1.000,0.923 2\n",
      "frac: 0.75\n",
      "5 3\n",
      "1.000,0.885 3\n",
      "frac: 1.0\n",
      "5 5\n",
      "1.000,0.808 5\n",
      "\n",
      "1\n",
      "jruby-1.4.0.csv noise:0.190, imb:3.890,200,778, Shape:(978, 65)\n",
      "idx: 83 83 778 180\n",
      "frac: 0\n",
      "83 0\n",
      "1.000,1.000 0\n",
      "frac: 0.25\n",
      "83 20\n",
      "1.000,0.889 20\n",
      "frac: 0.5\n",
      "83 41\n",
      "1.000,0.772 41\n",
      "frac: 0.75\n",
      "83 62\n",
      "1.000,0.656 62\n",
      "frac: 1.0\n",
      "83 83\n",
      "1.000,0.539 83\n",
      "\n",
      "2\n",
      "lucene-2.9.0.csv noise:0.226, imb:3.921,278,1090, Shape:(1368, 65)\n",
      "idx: 152 152 1090 273\n",
      "frac: 0\n",
      "152 0\n",
      "1.000,1.000 0\n",
      "frac: 0.25\n",
      "152 38\n",
      "1.000,0.861 38\n",
      "frac: 0.5\n",
      "152 76\n",
      "1.000,0.722 76\n",
      "frac: 0.75\n",
      "152 114\n",
      "1.000,0.582 114\n",
      "frac: 1.0\n",
      "152 152\n",
      "1.000,0.443 152\n",
      "\n",
      "3\n",
      "jruby-1.7.0.preview1.csv noise:0.099, imb:8.902,163,1451, Shape:(1614, 65)\n",
      "idx: 42 42 1451 87\n",
      "frac: 0\n",
      "42 0\n",
      "1.000,1.000 0\n",
      "frac: 0.25\n",
      "42 10\n",
      "1.000,0.885 10\n",
      "frac: 0.5\n",
      "42 21\n",
      "1.000,0.759 21\n",
      "frac: 0.75\n",
      "42 31\n",
      "1.000,0.644 31\n",
      "frac: 1.0\n",
      "42 42\n",
      "1.000,0.517 42\n",
      "\n",
      "4\n",
      "groovy-1_6_BETA_1.csv noise:0.128, imb:6.017,117,704, Shape:(821, 65)\n",
      "idx: 29 29 704 70\n",
      "frac: 0\n",
      "29 0\n",
      "1.000,1.000 0\n",
      "frac: 0.25\n",
      "29 7\n",
      "1.000,0.900 7\n",
      "frac: 0.5\n",
      "29 14\n",
      "1.000,0.800 14\n",
      "frac: 0.75\n",
      "29 21\n",
      "1.000,0.700 21\n",
      "frac: 1.0\n",
      "29 29\n",
      "1.000,0.586 29\n",
      "\n",
      "5\n",
      "derby-10.2.1.6.csv noise:0.290, imb:9.906,180,1783, Shape:(1963, 65)\n",
      "idx: 525 525 1783 661\n",
      "frac: 0\n",
      "525 0\n",
      "1.000,1.000 0\n",
      "frac: 0.25\n",
      "525 131\n",
      "1.000,0.802 131\n",
      "frac: 0.5\n",
      "525 262\n",
      "1.000,0.604 262\n",
      "frac: 0.75\n",
      "525 393\n",
      "1.000,0.405 393\n",
      "frac: 1.0\n",
      "525 525\n",
      "1.000,0.206 525\n",
      "\n",
      "6\n",
      "wicket-1.5.3.csv noise:0.064, imb:26.720,93,2485, Shape:(2578, 65)\n",
      "idx: 89 89 2485 105\n",
      "frac: 0\n",
      "89 0\n",
      "1.000,1.000 0\n",
      "frac: 0.25\n",
      "89 22\n",
      "1.000,0.790 22\n",
      "frac: 0.5\n",
      "89 44\n",
      "1.000,0.581 44\n",
      "frac: 0.75\n",
      "89 66\n",
      "1.000,0.371 66\n",
      "frac: 1.0\n",
      "89 89\n",
      "1.000,0.152 89\n",
      "\n",
      "7\n",
      "camel-2.9.0.csv noise:0.044, imb:34.600,200,6920, Shape:(7120, 65)\n",
      "idx: 156 156 6920 199\n",
      "frac: 0\n",
      "156 0\n",
      "1.000,1.000 0\n",
      "frac: 0.25\n",
      "156 39\n",
      "1.000,0.804 39\n",
      "frac: 0.5\n",
      "156 78\n",
      "1.000,0.608 78\n",
      "frac: 0.75\n",
      "156 117\n",
      "1.000,0.412 117\n",
      "frac: 1.0\n",
      "156 156\n",
      "1.000,0.216 156\n",
      "\n",
      "8\n",
      "camel-1.4.0.csv noise:0.281, imb:3.174,363,1152, Shape:(1515, 65)\n",
      "idx: 174 174 1152 285\n",
      "frac: 0\n",
      "174 0\n",
      "1.000,1.000 0\n",
      "frac: 0.25\n",
      "174 43\n",
      "1.000,0.849 43\n",
      "frac: 0.5\n",
      "174 87\n",
      "1.000,0.695 87\n",
      "frac: 0.75\n",
      "174 130\n",
      "1.000,0.544 130\n",
      "frac: 1.0\n",
      "174 174\n",
      "1.000,0.389 174\n",
      "\n",
      "9\n",
      "activemq-5.8.0.csv noise:0.058, imb:15.847,203,3217, Shape:(3420, 65)\n",
      "idx: 100 100 3217 206\n",
      "frac: 0\n",
      "100 0\n",
      "1.000,1.000 0\n",
      "frac: 0.25\n",
      "100 25\n",
      "1.000,0.879 25\n",
      "frac: 0.5\n",
      "100 50\n",
      "1.000,0.757 50\n",
      "frac: 0.75\n",
      "100 75\n",
      "1.000,0.636 75\n",
      "frac: 1.0\n",
      "100 100\n",
      "1.000,0.515 100\n",
      "\n"
     ]
    }
   ],
   "source": [
    "from sklearn.metrics import confusion_matrix\n",
    "FRACS = [0,.25,.5,.75,1.0]\n",
    "cols = pd.MultiIndex.from_product([FRACS,IMBS.keys(),CLFS.keys(),[f.__name__ for f in SCORERS]],names=['frac','imb','clf','metric'])\n",
    "df = pd.DataFrame(index=DATASETS,columns=cols)\n",
    "for it,d in enumerate(DATASETS):\n",
    "    print(it)\n",
    "    X,y_noisy,y_real = read_data(d,stats=True)\n",
    "    C = np.argwhere(y_real==1).ravel()\n",
    "    N = np.argwhere(y_noisy==0).ravel()  #PN\n",
    "    idx = np.intersect1d(N,C)\n",
    "    tn, fp, fn, tp = confusion_matrix(y_real,y_noisy).ravel()\n",
    "    print(\"idx:\",len(idx),fn,len(N),len(C))\n",
    "    for frac in FRACS:\n",
    "        print(\"frac:\",frac)\n",
    "        y = y_real.copy()\n",
    "        size = int(frac*len(idx))\n",
    "        to_pollute = np.random.choice(idx.copy(),size=size,replace=False)\n",
    "        y[to_pollute] = 0\n",
    "        print(len(idx),len(to_pollute))\n",
    "        print(f\"{precision_score(y_real,y):.3f},{recall_score(y_real,y):.3f}\",(y_real!=y).sum())\n",
    "        \n",
    "        for k in models:\n",
    "            r = evaluate(models[k],X,y,y_real,CV,SCORERS)\n",
    "            for f in r:\n",
    "                df.loc[d,(frac,k[0],k[1],f)] = r[f].mean()\n",
    "    df.to_csv(\"PN10.csv\")\n",
    "    print()"
   ]
  },
  {
   "cell_type": "code",
   "execution_count": null,
   "metadata": {},
   "outputs": [],
   "source": [
    "from sklearn.metrics import confusion_matrix\n",
    "FRACS = [0,.25,.5,.75,1.0]\n",
    "cols = pd.MultiIndex.from_product([FRACS,IMBS.keys(),CLFS.keys(),[f.__name__ for f in SCORERS]],names=['frac','imb','clf','metric'])\n",
    "df = pd.DataFrame(index=DATASETS,columns=cols)\n",
    "for it,d in enumerate(DATASETS):\n",
    "    X,y_noisy,y_real = read_data(d,stats=True)\n",
    "    C = np.argwhere(y_real==0).ravel()\n",
    "    N = np.argwhere(y_noisy==1).ravel()  #NP\n",
    "    idx = np.intersect1d(N,C)\n",
    "    tn, fp, fn, tp = confusion_matrix(y_real,y_noisy).ravel()\n",
    "    print(\"idx:\",len(idx),fn,len(N),len(C))\n",
    "    for frac in FRACS:\n",
    "        print(\"frac:\",frac)\n",
    "        y = y_real.copy()\n",
    "        size = int(frac*len(idx))\n",
    "        to_pollute = np.random.choice(idx.copy(),size=size,replace=False)\n",
    "        y[to_pollute] = 1\n",
    "        print(len(idx),len(to_pollute))\n",
    "        print(f\"{precision_score(y_real,y):.3f},{recall_score(y_real,y):.3f}\",(y_real!=y).sum())\n",
    "        \n",
    "        for k in models:\n",
    "            r = evaluate(models[k],X,y,y_real,CV,SCORERS)\n",
    "            for f in r:\n",
    "                df.loc[d,(frac,k[0],k[1],f)] = r[f].mean()\n",
    "    df.to_csv(\"NP10.csv\")"
   ]
  },
  {
   "cell_type": "code",
   "execution_count": null,
   "metadata": {},
   "outputs": [],
   "source": []
  },
  {
   "cell_type": "code",
   "execution_count": null,
   "metadata": {},
   "outputs": [],
   "source": [
    "y_noisy[to_correct]"
   ]
  },
  {
   "cell_type": "code",
   "execution_count": null,
   "metadata": {
    "jupyter": {
     "source_hidden": true
    }
   },
   "outputs": [],
   "source": [
    "# for k in models:\n",
    "#     print(k)\n",
    "#     st = perf_counter()\n",
    "#     for it,d in enumerate(DATASETS):\n",
    "#         print(it)\n",
    "#         X,y_noisy,y_real = read_data(d,stats=True)\n",
    "#         for noise_type in NOISE_TYPES:\n",
    "#             if df.loc[d,(noise_type,k[0],k[1],slice(None))].isna().sum()==0:\n",
    "#                 print(\"SKipping...\",d,(noise_type,k[0],k[1]))\n",
    "#                 continue\n",
    "#             y = y_noisy.copy()\n",
    "#             if noise_type=='No':\n",
    "#                 y = y_real.copy()\n",
    "#             elif noise_type=='Both':\n",
    "#                 pass\n",
    "#             elif noise_type=='FP-Only':  #So recall 1.0\n",
    "#                 y[y_real==1] = 1\n",
    "#             elif noise_type=='FN-Only':  #So precision 1.0\n",
    "#                 y[y_real==0] = 0\n",
    "#             p = precision_score(y_real,y)\n",
    "#             r = recall_score(y_real,y)\n",
    "#             print(noise_type,p,r)\n",
    "                \n",
    "#             r = evaluate(models[k],X,y,y_real,CV,SCORERS)\n",
    "#             for f in r:\n",
    "#                 df.loc[d,(noise_type,k[0],k[1],f)] = r[f].mean()\n",
    "#             #print(noise_type,df.loc[d,(noise_type,k[0],k[1],slice(None))],'\\n')\n",
    "#         print()\n",
    "#         df.to_csv(\"FP vs FN Noise Impact.csv\")\n",
    "#     print(perf_counter()-st,'\\n')"
   ]
  },
  {
   "cell_type": "code",
   "execution_count": null,
   "metadata": {},
   "outputs": [],
   "source": [
    "df = pd.read_csv(\"FPvsFN_Perc.csv\",header=[0,1,2,3],index_col=0)\n",
    "df = df.loc[DATASETS]\n",
    "df.isna().sum().sum()"
   ]
  },
  {
   "cell_type": "code",
   "execution_count": null,
   "metadata": {},
   "outputs": [],
   "source": [
    "df.to_csv(\"FP vs FN Noise Impact_10.csv\")"
   ]
  },
  {
   "cell_type": "markdown",
   "metadata": {},
   "source": [
    "## Analysis"
   ]
  },
  {
   "cell_type": "markdown",
   "metadata": {},
   "source": [
    "## Notes\n",
    "1. Both `pr_rec_score` & `matthews_corrcoef`: As expected, \"No\" noise performs best, while \"Both\" worst, in terms of whole avg.\n",
    "2. Interestingly, \"Bug\" i.e. (So recall=1.0) always performs better than \"Non-Bug\" i.e. (So precision=1.0)\n",
    "3. Avg Rank: pr_rec_score- `[1.74, 1.95, 2.82, 3.48]`, Mathew- `[1.78 , 2.46, 2.59, 3.17]`   (['No','Bug','Non-Bug','Both'] in that serial)\n",
    "4. So for Mathew, in terms of Avg Rank, Non-bug is better, contradicting point 2"
   ]
  },
  {
   "cell_type": "code",
   "execution_count": 14,
   "metadata": {},
   "outputs": [],
   "source": [
    "import numpy as np\n",
    "import pandas as pd,os\n",
    "from scipy.stats import wilcoxon, friedmanchisquare, rankdata, trim_mean, linregress\n",
    "import scikit_posthocs as sp\n",
    "import pingouin as pg\n",
    "import matplotlib.pyplot as plt\n",
    "import seaborn as sns"
   ]
  },
  {
   "cell_type": "code",
   "execution_count": 8,
   "metadata": {},
   "outputs": [
    {
     "data": {
      "text/plain": [
       "((10, 60), (10, 300), (10, 300))"
      ]
     },
     "execution_count": 8,
     "metadata": {},
     "output_type": "execute_result"
    }
   ],
   "source": [
    "PN = pd.read_csv(\"PN10.csv\",header=[0,1,2,3],index_col=0)\n",
    "NP = pd.read_csv(\"NP10.csv\",header=[0,1,2,3],index_col=0)\n",
    "clean = pd.read_csv(\"Clean.csv\",header=[0,1,2],index_col=0)\n",
    "clean = clean.loc[PN.index]\n",
    "clean.shape,PN.shape,NP.shape"
   ]
  },
  {
   "cell_type": "code",
   "execution_count": 9,
   "metadata": {},
   "outputs": [
    {
     "data": {
      "text/plain": [
       "((10, 150), (10, 150), (10, 30))"
      ]
     },
     "execution_count": 9,
     "metadata": {},
     "output_type": "execute_result"
    }
   ],
   "source": [
    "METRIC_DROP = ['matthews_corrcoef']\n",
    "PN = PN.drop(columns=METRIC_DROP,level=3,axis=1).droplevel(3,axis=1)  #pr_rec_score, matthews_corrcoef\n",
    "NP = NP.drop(columns=METRIC_DROP,level=3,axis=1).droplevel(3,axis=1)\n",
    "clean = clean.drop(columns=METRIC_DROP,level=2,axis=1).droplevel(2,axis=1)\n",
    "NP.shape,PN.shape, clean.shape"
   ]
  },
  {
   "cell_type": "code",
   "execution_count": 11,
   "metadata": {},
   "outputs": [
    {
     "data": {
      "text/plain": [
       "{'dt', 'knn', 'lr', 'nb', 'rf', 'svm'}"
      ]
     },
     "execution_count": 11,
     "metadata": {},
     "output_type": "execute_result"
    }
   ],
   "source": [
    "set(NP.columns.get_level_values(2))"
   ]
  },
  {
   "cell_type": "code",
   "execution_count": 19,
   "metadata": {},
   "outputs": [],
   "source": [
    "FRACS = [0.,.25,.5,.75,1.0]\n",
    "pn,np = {},{}\n",
    "for c in FRACS:\n",
    "    cpn = clean - PN[str(c)]\n",
    "    cnp = clean - NP[str(c)]\n",
    "    pn[c] = trim_mean(cpn.values.reshape(-1),.05)\n",
    "    np[c] = trim_mean(cnp.values.reshape(-1),.05)"
   ]
  },
  {
   "cell_type": "code",
   "execution_count": 20,
   "metadata": {},
   "outputs": [
    {
     "data": {
      "image/png": "[encoded data removed]",
      "text/plain": [
       "<Figure size 432x288 with 1 Axes>"
      ]
     },
     "metadata": {},
     "output_type": "display_data"
    }
   ],
   "source": [
    "X = list(np.keys())\n",
    "plt.xticks(FRACS)\n",
    "sns.regplot(X,[np[c] for c in X],ci=95,scatter=True,label='NP')\n",
    "sns.regplot(X,[pn[c] for c in X],ci=95,scatter=True,label='PN')\n",
    "plt.legend();"
   ]
  },
  {
   "cell_type": "code",
   "execution_count": null,
   "metadata": {},
   "outputs": [],
   "source": [
    "fn"
   ]
  },
  {
   "cell_type": "code",
   "execution_count": null,
   "metadata": {},
   "outputs": [],
   "source": [
    "meth = 'spearman'\n",
    "pg.corr(X,list(fp.values()),method=meth)"
   ]
  },
  {
   "cell_type": "code",
   "execution_count": null,
   "metadata": {},
   "outputs": [],
   "source": [
    "pg.corr(X,list(fn.values()),method=meth)"
   ]
  },
  {
   "cell_type": "code",
   "execution_count": null,
   "metadata": {},
   "outputs": [],
   "source": [
    "linregress(X,list(fn.values()))"
   ]
  },
  {
   "cell_type": "code",
   "execution_count": null,
   "metadata": {},
   "outputs": [],
   "source": [
    "linregress(X,list(fp.values()))"
   ]
  },
  {
   "cell_type": "code",
   "execution_count": null,
   "metadata": {},
   "outputs": [],
   "source": []
  },
  {
   "cell_type": "code",
   "execution_count": null,
   "metadata": {},
   "outputs": [],
   "source": []
  },
  {
   "cell_type": "code",
   "execution_count": null,
   "metadata": {},
   "outputs": [],
   "source": [
    "X,Y = list(dic.keys()),list(dic.values())\n",
    "plt.ylim(0.2,.4)\n",
    "sns.regplot(X,Y,order=1);"
   ]
  },
  {
   "cell_type": "code",
   "execution_count": null,
   "metadata": {},
   "outputs": [],
   "source": [
    "X,Y = list(dic.keys()),list(dic.values())\n",
    "plt.ylim(0.2,.4)\n",
    "sns.regplot(X,Y,order=1);"
   ]
  },
  {
   "cell_type": "code",
   "execution_count": null,
   "metadata": {},
   "outputs": [],
   "source": [
    "sns.boxplot(data=pd.DataFrame(dic));"
   ]
  },
  {
   "cell_type": "code",
   "execution_count": null,
   "metadata": {},
   "outputs": [],
   "source": []
  },
  {
   "cell_type": "code",
   "execution_count": null,
   "metadata": {},
   "outputs": [],
   "source": []
  },
  {
   "cell_type": "code",
   "execution_count": null,
   "metadata": {},
   "outputs": [],
   "source": []
  },
  {
   "cell_type": "code",
   "execution_count": null,
   "metadata": {},
   "outputs": [],
   "source": []
  },
  {
   "cell_type": "code",
   "execution_count": null,
   "metadata": {},
   "outputs": [],
   "source": []
  },
  {
   "cell_type": "code",
   "execution_count": null,
   "metadata": {},
   "outputs": [],
   "source": []
  },
  {
   "cell_type": "code",
   "execution_count": null,
   "metadata": {},
   "outputs": [],
   "source": [
    "df = pd.read_csv(\"FP vs FN Noise Impact_10.csv\",header=[0,1,2,3],index_col=0)\n",
    "df.isna().sum().sum(),df.shape"
   ]
  },
  {
   "cell_type": "code",
   "execution_count": null,
   "metadata": {},
   "outputs": [],
   "source": [
    "tmp = df.drop(columns=['pr_rec_score'],level=3,axis=1).droplevel(3,axis=1)  ##pr_rec_score, matthews_corrcoef"
   ]
  },
  {
   "cell_type": "code",
   "execution_count": null,
   "metadata": {},
   "outputs": [],
   "source": [
    "dic = {}\n",
    "for noise_type in NOISE_TYPES:\n",
    "    dic[noise_type] = tmp[noise_type].values.reshape(-1)\n",
    "    print(noise_type,trim_mean(dic[noise_type],.05),dic[noise_type].mean())"
   ]
  },
  {
   "cell_type": "code",
   "execution_count": null,
   "metadata": {},
   "outputs": [],
   "source": [
    "friedmanchisquare(*(dic[a] for a in dic))"
   ]
  },
  {
   "cell_type": "code",
   "execution_count": null,
   "metadata": {},
   "outputs": [],
   "source": [
    "res = pd.DataFrame(dic)\n",
    "wilcoxon(res['No'],res['FP-Only'])"
   ]
  },
  {
   "cell_type": "code",
   "execution_count": null,
   "metadata": {},
   "outputs": [],
   "source": [
    "f = sns.boxplot(data=res,order=['No','FP-Only','FN-Only','Both']);"
   ]
  },
  {
   "cell_type": "code",
   "execution_count": null,
   "metadata": {},
   "outputs": [],
   "source": [
    "f.get_figure().savefig(\"figures/FPvsFN4.svg\",format='svg')"
   ]
  },
  {
   "cell_type": "code",
   "execution_count": null,
   "metadata": {},
   "outputs": [],
   "source": [
    "\n",
    "\n",
    "\n",
    "\n",
    "\n",
    "\n",
    "\n",
    "\n",
    "\n",
    "\n",
    "\n",
    "\n",
    "\n",
    "\n",
    "\n",
    "\n",
    "\n",
    "\n",
    "\n",
    "\n"
   ]
  }
 ],
 "metadata": {
  "kernelspec": {
   "display_name": "Python 3",
   "language": "python",
   "name": "python3"
  },
  "language_info": {
   "codemirror_mode": {
    "name": "ipython",
    "version": 3
   },
   "file_extension": ".py",
   "mimetype": "text/x-python",
   "name": "python",
   "nbconvert_exporter": "python",
   "pygments_lexer": "ipython3",
   "version": "3.7.6"
  }
 },
 "nbformat": 4,
 "nbformat_minor": 4
}
