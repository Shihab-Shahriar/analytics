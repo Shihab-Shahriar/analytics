{
 "cells": [
  {
   "cell_type": "code",
   "execution_count": 1,
   "metadata": {},
   "outputs": [],
   "source": [
    "import numpy as np\n",
    "import pandas as pd\n",
    "from scipy.stats import wilcoxon, friedmanchisquare\n",
    "import matplotlib.pyplot as plt\n",
    "import seaborn as sns"
   ]
  },
  {
   "cell_type": "code",
   "execution_count": 21,
   "metadata": {},
   "outputs": [
    {
     "name": "stdout",
     "output_type": "stream",
     "text": [
      "ipf:(32, 30)\n"
     ]
    }
   ],
   "source": [
    "METRIC_TO_DROP = 'matthews_corrcoef' #pr_rec_score, matthews_corrcoef\n",
    "\n",
    "ipf = pd.read_csv(\"IPF.csv\",header=[0,1,2],index_col=0)\n",
    "ipf = ipf.drop(columns=[c[0] for c in ipf.columns if 'ens' in c[0]],level=0)\n",
    "ipf = ipf.drop(columns=[METRIC_TO_DROP],level=2).droplevel(2,axis=1) \n",
    "print(f\"ipf:{ipf.shape}\")"
   ]
  },
  {
   "cell_type": "code",
   "execution_count": 22,
   "metadata": {},
   "outputs": [
    {
     "name": "stdout",
     "output_type": "stream",
     "text": [
      "ihf:(32, 30)\n"
     ]
    }
   ],
   "source": [
    "ihf = pd.read_csv(\"IHFilter.csv\",header=[0,1,2],index_col=0)\n",
    "ihf = ihf.drop(columns=[c[0] for c in ihf.columns if 'ens' in c[0]],level=0)\n",
    "ihf = ihf.drop(columns=[METRIC_TO_DROP],level=2).droplevel(2,axis=1) \n",
    "print(f\"ihf:{ihf.shape}\")"
   ]
  },
  {
   "cell_type": "code",
   "execution_count": 23,
   "metadata": {},
   "outputs": [
    {
     "name": "stdout",
     "output_type": "stream",
     "text": [
      "clni:(32, 30)\n"
     ]
    }
   ],
   "source": [
    "clni = pd.read_csv(\"CLNI_consensus.csv\",header=[0,1,2],index_col=0)\n",
    "clni = clni.drop(columns=[c[0] for c in clni.columns if 'ens' in c[0]],level=0)\n",
    "clni = clni.drop(columns=[METRIC_TO_DROP],level=2).droplevel(2,axis=1) \n",
    "print(f\"clni:{clni.shape}\")"
   ]
  },
  {
   "cell_type": "code",
   "execution_count": 24,
   "metadata": {},
   "outputs": [
    {
     "data": {
      "text/plain": [
       "(32, 30)"
      ]
     },
     "execution_count": 24,
     "metadata": {},
     "output_type": "execute_result"
    }
   ],
   "source": [
    "none = pd.read_csv(\"Noisy.csv\",header=[0,1,2],index_col=0)\n",
    "none = none.drop(columns=[c[0] for c in ipf.columns if 'ens' in c[0]],level=0)\n",
    "none = none.drop(columns=[METRIC_TO_DROP],level=2).droplevel(2,axis=1) \n",
    "none.shape"
   ]
  },
  {
   "cell_type": "code",
   "execution_count": 25,
   "metadata": {},
   "outputs": [
    {
     "data": {
      "text/plain": [
       "(32, 18)"
      ]
     },
     "execution_count": 25,
     "metadata": {},
     "output_type": "execute_result"
    }
   ],
   "source": [
    "built3 = pd.read_csv(\"Builtin3.csv\",header=[0,1,2],index_col=0)\n",
    "built3 = built3.drop(columns=[METRIC_TO_DROP],level=2).droplevel(2,axis=1) \n",
    "built3.shape"
   ]
  },
  {
   "cell_type": "code",
   "execution_count": 26,
   "metadata": {},
   "outputs": [
    {
     "data": {
      "text/plain": [
       "(32, 6)"
      ]
     },
     "execution_count": 26,
     "metadata": {},
     "output_type": "execute_result"
    }
   ],
   "source": [
    "spyder = pd.read_csv(\"Spyder.csv\",header=[0,1,2],index_col=0)\n",
    "spyder = spyder.drop(columns=[METRIC_TO_DROP],level=2).droplevel(2,axis=1) \n",
    "spyder = spyder.droplevel(0,axis=1)\n",
    "spyder.shape"
   ]
  },
  {
   "cell_type": "code",
   "execution_count": 27,
   "metadata": {},
   "outputs": [
    {
     "data": {
      "text/plain": [
       "(32, 6)"
      ]
     },
     "execution_count": 27,
     "metadata": {},
     "output_type": "execute_result"
    }
   ],
   "source": [
    "ncl = pd.read_csv(\"Tackling.csv\",header=[0,1,2],index_col=0)\n",
    "ncl = ncl.drop(columns=[METRIC_TO_DROP],level=2).droplevel(2,axis=1) \n",
    "ncl = ncl.droplevel(0,axis=1)\n",
    "ncl.shape"
   ]
  },
  {
   "cell_type": "code",
   "execution_count": 28,
   "metadata": {},
   "outputs": [],
   "source": [
    "enn = built3['ENN']\n",
    "smote_enc = built3['SmoteEnc']\n",
    "IHThreshold = built3['IHThreshold']"
   ]
  },
  {
   "cell_type": "code",
   "execution_count": 29,
   "metadata": {},
   "outputs": [],
   "source": [
    "smote_ipf = ipf['smote']"
   ]
  },
  {
   "cell_type": "code",
   "execution_count": 30,
   "metadata": {},
   "outputs": [],
   "source": [
    "ipf = ipf.median(axis=1,level=1)\n",
    "ihf = ihf.median(axis=1,level=1)\n",
    "clni = clni.median(axis=1,level=1)\n",
    "none = none.median(axis=1,level=1)"
   ]
  },
  {
   "cell_type": "code",
   "execution_count": 31,
   "metadata": {},
   "outputs": [
    {
     "data": {
      "text/plain": [
       "10"
      ]
     },
     "execution_count": 31,
     "metadata": {},
     "output_type": "execute_result"
    }
   ],
   "source": [
    "focused = {'spyder':spyder,'smote_ipf':smote_ipf,'smote_enc':smote_enc}\n",
    "general = {'ipf':ipf,'ihf':ihf,'clni':clni}\n",
    "one_sided  = {'ihthres':IHThreshold,'enn':enn,'ncl':ncl} \n",
    "nofil = {'none':none}  \n",
    "filters = {**focused,**general,**one_sided,**nofil}\n",
    "len(filters)"
   ]
  },
  {
   "cell_type": "code",
   "execution_count": 32,
   "metadata": {},
   "outputs": [
    {
     "name": "stdout",
     "output_type": "stream",
     "text": [
      "spyder (32, 6) 0 0\n",
      "smote_ipf (32, 6) 0 0\n",
      "smote_enc (32, 6) 0 0\n",
      "ipf (32, 6) 0 1\n",
      "ihf (32, 6) 0 0\n",
      "clni (32, 6) 0 0\n",
      "ihthres (32, 6) 0 0\n",
      "enn (32, 6) 0 0\n",
      "ncl (32, 6) 0 0\n",
      "none (32, 6) 0 0\n"
     ]
    }
   ],
   "source": [
    "for f,d in filters.items():\n",
    "    print(f,d.shape,d.isna().sum().sum(),(d<.01).sum().sum())"
   ]
  },
  {
   "cell_type": "code",
   "execution_count": 33,
   "metadata": {},
   "outputs": [
    {
     "data": {
      "text/plain": [
       "(32, 60)"
      ]
     },
     "execution_count": 33,
     "metadata": {},
     "output_type": "execute_result"
    }
   ],
   "source": [
    "df = pd.concat(filters,axis=1)\n",
    "df.shape"
   ]
  },
  {
   "cell_type": "code",
   "execution_count": 34,
   "metadata": {},
   "outputs": [],
   "source": [
    "df.to_csv(\"All_filter_PRC.csv\")"
   ]
  },
  {
   "cell_type": "markdown",
   "metadata": {},
   "source": [
    "## Classifier-based View"
   ]
  },
  {
   "cell_type": "code",
   "execution_count": null,
   "metadata": {},
   "outputs": [],
   "source": [
    "filt = pd.DataFrame({k:df[k].values.reshape(-1) for k in filters.keys()})\n",
    "print(friedmanchisquare(*(filt[c] for c in filt)).pvalue)\n",
    "print({c:wilcoxon(filt[c],filt['none']).pvalue for c in filt if c!='none'})\n",
    "plt.figure(figsize=(10,6))\n",
    "sns.boxplot(data=filt);"
   ]
  },
  {
   "cell_type": "code",
   "execution_count": null,
   "metadata": {},
   "outputs": [],
   "source": [
    "def plot_clf(name):\n",
    "    clf = df.loc[:,(slice(None),name)].droplevel(1,axis=1)\n",
    "    print(friedmanchisquare(*(clf[c] for c in clf)).pvalue)\n",
    "    print({c:wilcoxon(clf[c],clf['none']).pvalue for c in clf if c!='none'})\n",
    "    plt.figure(figsize=(10,6))\n",
    "    sns.boxplot(data=clf-clf['none']);"
   ]
  },
  {
   "cell_type": "code",
   "execution_count": null,
   "metadata": {},
   "outputs": [],
   "source": [
    "plot_clf('dt')"
   ]
  },
  {
   "cell_type": "code",
   "execution_count": null,
   "metadata": {},
   "outputs": [],
   "source": [
    "plot_clf('lr')"
   ]
  },
  {
   "cell_type": "code",
   "execution_count": null,
   "metadata": {},
   "outputs": [],
   "source": [
    "plot_clf('nb')"
   ]
  },
  {
   "cell_type": "code",
   "execution_count": null,
   "metadata": {},
   "outputs": [],
   "source": [
    "plot_clf('rf')"
   ]
  },
  {
   "cell_type": "code",
   "execution_count": null,
   "metadata": {},
   "outputs": [],
   "source": [
    "plot_clf('svm')"
   ]
  },
  {
   "cell_type": "code",
   "execution_count": null,
   "metadata": {},
   "outputs": [],
   "source": [
    "plot_clf('knn')"
   ]
  },
  {
   "cell_type": "markdown",
   "metadata": {},
   "source": [
    "## Filter-based View"
   ]
  },
  {
   "cell_type": "code",
   "execution_count": null,
   "metadata": {},
   "outputs": [],
   "source": [
    "CLFS = set(df.columns.get_level_values(1))\n",
    "d = {c:df.loc[:,(slice(None),c)].droplevel(1,axis=1).values.reshape(-1) for c in CLFS}\n",
    "plt.figure(figsize=(10,6))\n",
    "sns.boxplot(data=pd.DataFrame(d));"
   ]
  },
  {
   "cell_type": "code",
   "execution_count": null,
   "metadata": {},
   "outputs": [],
   "source": [
    "filt = df['spyder']\n",
    "plt.figure(figsize=(10,6))\n",
    "sns.boxplot(data=filt);"
   ]
  },
  {
   "cell_type": "code",
   "execution_count": null,
   "metadata": {},
   "outputs": [],
   "source": [
    "filt = df['smote_ipf']\n",
    "plt.figure(figsize=(10,6))\n",
    "sns.boxplot(data=filt);"
   ]
  },
  {
   "cell_type": "code",
   "execution_count": null,
   "metadata": {},
   "outputs": [],
   "source": [
    "filt = df['smote_enc']\n",
    "plt.figure(figsize=(10,6))\n",
    "sns.boxplot(data=filt);"
   ]
  },
  {
   "cell_type": "code",
   "execution_count": null,
   "metadata": {},
   "outputs": [],
   "source": [
    "filt = df['ipf']\n",
    "plt.figure(figsize=(10,6))\n",
    "sns.boxplot(data=filt);"
   ]
  },
  {
   "cell_type": "code",
   "execution_count": null,
   "metadata": {},
   "outputs": [],
   "source": [
    "filt = df['ihf']\n",
    "plt.figure(figsize=(10,6))\n",
    "sns.boxplot(data=filt);"
   ]
  },
  {
   "cell_type": "code",
   "execution_count": null,
   "metadata": {},
   "outputs": [],
   "source": [
    "filt = df['ihthres']\n",
    "plt.figure(figsize=(10,6))\n",
    "sns.boxplot(data=filt);"
   ]
  },
  {
   "cell_type": "code",
   "execution_count": null,
   "metadata": {},
   "outputs": [],
   "source": [
    "filt = df['enn']\n",
    "plt.figure(figsize=(10,6))\n",
    "sns.boxplot(data=filt);"
   ]
  },
  {
   "cell_type": "code",
   "execution_count": null,
   "metadata": {},
   "outputs": [],
   "source": [
    "filt = df['ncl']\n",
    "plt.figure(figsize=(10,6))\n",
    "sns.boxplot(data=filt);"
   ]
  },
  {
   "cell_type": "code",
   "execution_count": null,
   "metadata": {},
   "outputs": [],
   "source": [
    "filt = df['none']\n",
    "plt.figure(figsize=(10,6))\n",
    "sns.boxplot(data=filt);"
   ]
  },
  {
   "cell_type": "code",
   "execution_count": null,
   "metadata": {},
   "outputs": [],
   "source": []
  },
  {
   "cell_type": "code",
   "execution_count": null,
   "metadata": {},
   "outputs": [],
   "source": [
    "\n",
    "\n",
    "\n",
    "\n",
    "\n",
    "\n",
    "\n",
    "\n",
    "\n",
    "\n",
    "\n",
    "\n",
    "\n",
    "\n",
    "\n"
   ]
  }
 ],
 "metadata": {
  "kernelspec": {
   "display_name": "Python 3",
   "language": "python",
   "name": "python3"
  },
  "language_info": {
   "codemirror_mode": {
    "name": "ipython",
    "version": 3
   },
   "file_extension": ".py",
   "mimetype": "text/x-python",
   "name": "python",
   "nbconvert_exporter": "python",
   "pygments_lexer": "ipython3",
   "version": "3.7.5"
  }
 },
 "nbformat": 4,
 "nbformat_minor": 4
}
