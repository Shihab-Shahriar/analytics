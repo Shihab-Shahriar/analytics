{
 "cells": [
  {
   "cell_type": "code",
   "execution_count": 1,
   "metadata": {},
   "outputs": [],
   "source": [
    "import numpy as np\n",
    "import pandas as pd\n",
    "from scipy.stats import wilcoxon, friedmanchisquare\n",
    "import matplotlib.pyplot as plt\n",
    "import seaborn as sns"
   ]
  },
  {
   "cell_type": "code",
   "execution_count": 30,
   "metadata": {},
   "outputs": [
    {
     "name": "stdout",
     "output_type": "stream",
     "text": [
      "ipf:(32, 32)\n"
     ]
    }
   ],
   "source": [
    "METRIC_TO_DROP = 'pr_rec_score' #pr_rec_score, matthews_corrcoef\n",
    "ipf = pd.read_csv(\"IPF.csv\",header=[0,1,2],index_col=0)\n",
    "ipf = ipf.drop(columns=['rboost_DT','rboost_NB'],level=1)\n",
    "ipf = ipf.drop(columns=[METRIC_TO_DROP],level=2).droplevel(2,axis=1) \n",
    "print(f\"ipf:{ipf.shape}\")"
   ]
  },
  {
   "cell_type": "code",
   "execution_count": 31,
   "metadata": {},
   "outputs": [
    {
     "name": "stdout",
     "output_type": "stream",
     "text": [
      "ihf:(32, 32)\n"
     ]
    }
   ],
   "source": [
    "ihf = pd.read_csv(\"IHFilter_Final.csv\",header=[0,1,2],index_col=0)\n",
    "ihf = ihf.drop(columns=['rboost_DT','rboost_NB'],level=1)\n",
    "ihf = ihf.drop(columns=[METRIC_TO_DROP],level=2).droplevel(2,axis=1) \n",
    "print(f\"ihf:{ihf.shape}\")"
   ]
  },
  {
   "cell_type": "code",
   "execution_count": 32,
   "metadata": {},
   "outputs": [
    {
     "name": "stdout",
     "output_type": "stream",
     "text": [
      "clni:(32, 32)\n"
     ]
    }
   ],
   "source": [
    "clni = pd.read_csv(\"CLNI.csv\",header=[0,1,2],index_col=0)\n",
    "clni = clni.drop(columns=[c[0] for c in clni.columns if 'ens' in c[0]],level=0)\n",
    "clni = clni.drop(columns=[METRIC_TO_DROP],level=2).droplevel(2,axis=1) \n",
    "print(f\"clni:{clni.shape}\")"
   ]
  },
  {
   "cell_type": "code",
   "execution_count": 33,
   "metadata": {},
   "outputs": [
    {
     "data": {
      "text/plain": [
       "(32, 32)"
      ]
     },
     "execution_count": 33,
     "metadata": {},
     "output_type": "execute_result"
    }
   ],
   "source": [
    "none = pd.read_csv(\"Noisy_final.csv\",header=[0,1,2],index_col=0)\n",
    "none = none.drop(columns=[c[0] for c in ipf.columns if 'ens' in c[0]],level=0)\n",
    "none = none.drop(columns=[METRIC_TO_DROP],level=2).droplevel(2,axis=1) \n",
    "none.shape"
   ]
  },
  {
   "cell_type": "code",
   "execution_count": 34,
   "metadata": {},
   "outputs": [
    {
     "data": {
      "text/plain": [
       "(32, 24)"
      ]
     },
     "execution_count": 34,
     "metadata": {},
     "output_type": "execute_result"
    }
   ],
   "source": [
    "built3 = pd.read_csv(\"Builtin3_Final.csv\",header=[0,1,2],index_col=0)\n",
    "built3 = built3.drop(columns=[METRIC_TO_DROP],level=2).droplevel(2,axis=1) \n",
    "built3.shape"
   ]
  },
  {
   "cell_type": "code",
   "execution_count": 35,
   "metadata": {},
   "outputs": [
    {
     "data": {
      "text/plain": [
       "(32, 8)"
      ]
     },
     "execution_count": 35,
     "metadata": {},
     "output_type": "execute_result"
    }
   ],
   "source": [
    "spyder = pd.read_csv(\"Spyder_final.csv\",header=[0,1,2],index_col=0)\n",
    "spyder = spyder.drop(columns=[METRIC_TO_DROP],level=2).droplevel(2,axis=1) \n",
    "spyder = spyder.droplevel(0,axis=1)\n",
    "spyder.shape"
   ]
  },
  {
   "cell_type": "code",
   "execution_count": 36,
   "metadata": {},
   "outputs": [
    {
     "data": {
      "text/plain": [
       "(32, 8)"
      ]
     },
     "execution_count": 36,
     "metadata": {},
     "output_type": "execute_result"
    }
   ],
   "source": [
    "ncl = pd.read_csv(\"tackling_final.csv\",header=[0,1],index_col=0)\n",
    "ncl = ncl.drop(columns=[METRIC_TO_DROP],level=1).droplevel(1,axis=1) \n",
    "#ncl = ncl.droplevel(0,axis=1)\n",
    "ncl.shape"
   ]
  },
  {
   "cell_type": "code",
   "execution_count": 37,
   "metadata": {},
   "outputs": [],
   "source": [
    "enn = built3['ENN']\n",
    "smote_enc = built3['SmoteEnc']\n",
    "IHThreshold = built3['IHThreshold']"
   ]
  },
  {
   "cell_type": "code",
   "execution_count": 38,
   "metadata": {},
   "outputs": [],
   "source": [
    "smote_ipf = pd.read_csv(\"Smote-IPF.csv\",header=[0,1],index_col=0)\n",
    "smote_ipf = smote_ipf.drop(columns=[METRIC_TO_DROP],level=1).droplevel(1,axis=1) "
   ]
  },
  {
   "cell_type": "code",
   "execution_count": 39,
   "metadata": {},
   "outputs": [],
   "source": [
    "ipf = ipf.median(axis=1,level=1)\n",
    "ihf = ihf.median(axis=1,level=1)\n",
    "clni = clni.median(axis=1,level=1)\n",
    "none = none.median(axis=1,level=1)"
   ]
  },
  {
   "cell_type": "code",
   "execution_count": 40,
   "metadata": {},
   "outputs": [
    {
     "data": {
      "text/plain": [
       "10"
      ]
     },
     "execution_count": 40,
     "metadata": {},
     "output_type": "execute_result"
    }
   ],
   "source": [
    "focused = {'spyder':spyder,'smote_ipf':smote_ipf,'smote_enc':smote_enc}\n",
    "general = {'ipf':ipf,'ihf':ihf,'clni':clni}\n",
    "one_sided  = {'ihthres':IHThreshold,'enn':enn,'ncl':ncl} \n",
    "nofil = {'none':none}  \n",
    "filters = {**focused,**general,**one_sided,**nofil}\n",
    "len(filters)"
   ]
  },
  {
   "cell_type": "code",
   "execution_count": 41,
   "metadata": {},
   "outputs": [
    {
     "name": "stdout",
     "output_type": "stream",
     "text": [
      "spyder (32, 8) 0 0 dt\n",
      "smote_ipf (32, 8) 0 0 dt\n",
      "smote_enc (32, 8) 0 0 BagDT\n",
      "ipf (32, 8) 0 5 dt\n",
      "ihf (32, 8) 0 2 dt\n",
      "clni (32, 8) 0 0 dt\n",
      "ihthres (32, 8) 0 0 BagDT\n",
      "enn (32, 8) 0 0 BagDT\n",
      "ncl (32, 8) 0 0 dt\n",
      "none (32, 8) 0 0 dt\n"
     ]
    }
   ],
   "source": [
    "for f,d in filters.items():\n",
    "    print(f,d.shape,d.isna().sum().sum(),(d<.01).sum().sum(),d.columns[0])"
   ]
  },
  {
   "cell_type": "code",
   "execution_count": 42,
   "metadata": {},
   "outputs": [
    {
     "data": {
      "text/plain": [
       "(32, 80)"
      ]
     },
     "execution_count": 42,
     "metadata": {},
     "output_type": "execute_result"
    }
   ],
   "source": [
    "df = pd.concat(filters,axis=1,sort=False)\n",
    "df.shape"
   ]
  },
  {
   "cell_type": "code",
   "execution_count": 43,
   "metadata": {},
   "outputs": [],
   "source": [
    "df.to_csv(\"All_filter_MCC.csv\")"
   ]
  },
  {
   "cell_type": "markdown",
   "metadata": {},
   "source": [
    "## Classifier-based View"
   ]
  },
  {
   "cell_type": "code",
   "execution_count": null,
   "metadata": {},
   "outputs": [],
   "source": [
    "filt = pd.DataFrame({k:df[k].values.reshape(-1) for k in filters.keys()})\n",
    "print(friedmanchisquare(*(filt[c] for c in filt)).pvalue)\n",
    "print({c:wilcoxon(filt[c],filt['none']).pvalue for c in filt if c!='none'})\n",
    "plt.figure(figsize=(10,6))\n",
    "sns.boxplot(data=filt);"
   ]
  },
  {
   "cell_type": "code",
   "execution_count": null,
   "metadata": {},
   "outputs": [],
   "source": [
    "def plot_clf(name):\n",
    "    clf = df.loc[:,(slice(None),name)].droplevel(1,axis=1)\n",
    "    print(friedmanchisquare(*(clf[c] for c in clf)).pvalue)\n",
    "    print({c:wilcoxon(clf[c],clf['none']).pvalue for c in clf if c!='none'})\n",
    "    plt.figure(figsize=(10,6))\n",
    "    sns.boxplot(data=clf-clf['none']);"
   ]
  },
  {
   "cell_type": "code",
   "execution_count": null,
   "metadata": {},
   "outputs": [],
   "source": [
    "plot_clf('dt')"
   ]
  },
  {
   "cell_type": "code",
   "execution_count": null,
   "metadata": {},
   "outputs": [],
   "source": [
    "plot_clf('lr')"
   ]
  },
  {
   "cell_type": "code",
   "execution_count": null,
   "metadata": {},
   "outputs": [],
   "source": [
    "plot_clf('nb')"
   ]
  },
  {
   "cell_type": "code",
   "execution_count": null,
   "metadata": {},
   "outputs": [],
   "source": [
    "plot_clf('rf')"
   ]
  },
  {
   "cell_type": "code",
   "execution_count": null,
   "metadata": {},
   "outputs": [],
   "source": [
    "plot_clf('svm')"
   ]
  },
  {
   "cell_type": "code",
   "execution_count": null,
   "metadata": {},
   "outputs": [],
   "source": [
    "plot_clf('knn')"
   ]
  },
  {
   "cell_type": "markdown",
   "metadata": {},
   "source": [
    "## Filter-based View"
   ]
  },
  {
   "cell_type": "code",
   "execution_count": null,
   "metadata": {},
   "outputs": [],
   "source": [
    "CLFS = set(df.columns.get_level_values(1))\n",
    "d = {c:df.loc[:,(slice(None),c)].droplevel(1,axis=1).values.reshape(-1) for c in CLFS}\n",
    "plt.figure(figsize=(10,6))\n",
    "sns.boxplot(data=pd.DataFrame(d));"
   ]
  },
  {
   "cell_type": "code",
   "execution_count": null,
   "metadata": {},
   "outputs": [],
   "source": [
    "filt = df['spyder']\n",
    "plt.figure(figsize=(10,6))\n",
    "sns.boxplot(data=filt);"
   ]
  },
  {
   "cell_type": "code",
   "execution_count": null,
   "metadata": {},
   "outputs": [],
   "source": [
    "filt = df['smote_ipf']\n",
    "plt.figure(figsize=(10,6))\n",
    "sns.boxplot(data=filt);"
   ]
  },
  {
   "cell_type": "code",
   "execution_count": null,
   "metadata": {},
   "outputs": [],
   "source": [
    "filt = df['smote_enc']\n",
    "plt.figure(figsize=(10,6))\n",
    "sns.boxplot(data=filt);"
   ]
  },
  {
   "cell_type": "code",
   "execution_count": null,
   "metadata": {},
   "outputs": [],
   "source": [
    "filt = df['ipf']\n",
    "plt.figure(figsize=(10,6))\n",
    "sns.boxplot(data=filt);"
   ]
  },
  {
   "cell_type": "code",
   "execution_count": null,
   "metadata": {},
   "outputs": [],
   "source": [
    "filt = df['ihf']\n",
    "plt.figure(figsize=(10,6))\n",
    "sns.boxplot(data=filt);"
   ]
  },
  {
   "cell_type": "code",
   "execution_count": null,
   "metadata": {},
   "outputs": [],
   "source": [
    "filt = df['ihthres']\n",
    "plt.figure(figsize=(10,6))\n",
    "sns.boxplot(data=filt);"
   ]
  },
  {
   "cell_type": "code",
   "execution_count": null,
   "metadata": {},
   "outputs": [],
   "source": [
    "filt = df['enn']\n",
    "plt.figure(figsize=(10,6))\n",
    "sns.boxplot(data=filt);"
   ]
  },
  {
   "cell_type": "code",
   "execution_count": null,
   "metadata": {},
   "outputs": [],
   "source": [
    "filt = df['ncl']\n",
    "plt.figure(figsize=(10,6))\n",
    "sns.boxplot(data=filt);"
   ]
  },
  {
   "cell_type": "code",
   "execution_count": null,
   "metadata": {},
   "outputs": [],
   "source": [
    "filt = df['none']\n",
    "plt.figure(figsize=(10,6))\n",
    "sns.boxplot(data=filt);"
   ]
  },
  {
   "cell_type": "code",
   "execution_count": null,
   "metadata": {},
   "outputs": [],
   "source": []
  },
  {
   "cell_type": "code",
   "execution_count": null,
   "metadata": {},
   "outputs": [],
   "source": [
    "\n",
    "\n",
    "\n",
    "\n",
    "\n",
    "\n",
    "\n",
    "\n",
    "\n",
    "\n",
    "\n",
    "\n",
    "\n",
    "\n",
    "\n"
   ]
  }
 ],
 "metadata": {
  "kernelspec": {
   "display_name": "Python 3",
   "language": "python",
   "name": "python3"
  },
  "language_info": {
   "codemirror_mode": {
    "name": "ipython",
    "version": 3
   },
   "file_extension": ".py",
   "mimetype": "text/x-python",
   "name": "python",
   "nbconvert_exporter": "python",
   "pygments_lexer": "ipython3",
   "version": "3.7.5"
  }
 },
 "nbformat": 4,
 "nbformat_minor": 4
}
