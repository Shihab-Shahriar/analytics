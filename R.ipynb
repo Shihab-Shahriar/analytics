{
 "cells": [
  {
   "cell_type": "code",
   "execution_count": 1,
   "metadata": {},
   "outputs": [
    {
     "name": "stderr",
     "output_type": "stream",
     "text": [
      "Warning message:\n",
      "\"package 'ScottKnottESD' was built under R version 3.6.2\"Loading required package: reshape2\n",
      "Warning message:\n",
      "\"package 'reshape2' was built under R version 3.6.2\"Loading required package: effsize\n",
      "Warning message:\n",
      "\"package 'effsize' was built under R version 3.6.2\"Loading required package: car\n",
      "Warning message:\n",
      "\"package 'car' was built under R version 3.6.2\"Loading required package: carData\n",
      "Error: package or namespace load failed for 'car' in loadNamespace(j <- i[[1L]], c(lib.loc, .libPaths()), versionCheck = vI[[j]]):\n",
      " there is no package called 'foreign'\n"
     ]
    },
    {
     "ename": "ERROR",
     "evalue": "Error: package 'car' could not be loaded\n",
     "output_type": "error",
     "traceback": [
      "Error: package 'car' could not be loaded\nTraceback:\n",
      "1. library(ScottKnottESD)",
      "2. .getRequiredPackages2(pkgInfo, quietly = quietly)",
      "3. stop(gettextf(\"package %s could not be loaded\", sQuote(pkg)), \n .     call. = FALSE, domain = NA)"
     ]
    }
   ],
   "source": [
    "library(ScottKnottESD)"
   ]
  },
  {
   "cell_type": "code",
   "execution_count": null,
   "metadata": {},
   "outputs": [],
   "source": [
    "df <- read.csv(\"FoR.csv\")"
   ]
  },
  {
   "cell_type": "code",
   "execution_count": null,
   "metadata": {},
   "outputs": [],
   "source": [
    "sk <- sk_esd(df)"
   ]
  },
  {
   "cell_type": "code",
   "execution_count": 2,
   "metadata": {},
   "outputs": [
    {
     "data": {
      "text/plain": [
       "R version 3.6.1 (2019-07-05)\n",
       "Platform: x86_64-w64-mingw32/x64 (64-bit)\n",
       "Running under: Windows 10 x64 (build 18362)\n",
       "\n",
       "Matrix products: default\n",
       "\n",
       "locale:\n",
       "[1] LC_COLLATE=English_United States.1252 \n",
       "[2] LC_CTYPE=English_United States.1252   \n",
       "[3] LC_MONETARY=English_United States.1252\n",
       "[4] LC_NUMERIC=C                          \n",
       "[5] LC_TIME=English_United States.1252    \n",
       "\n",
       "attached base packages:\n",
       "[1] stats     graphics  grDevices utils     datasets  methods   base     \n",
       "\n",
       "other attached packages:\n",
       "[1] carData_3.0-3  effsize_0.7.8  reshape2_1.4.3\n",
       "\n",
       "loaded via a namespace (and not attached):\n",
       " [1] Rcpp_1.0.3        digest_0.6.24     crayon_1.3.4      IRdisplay_0.7.0  \n",
       " [5] repr_0.19.2       plyr_1.8.5        jsonlite_1.6.1    magrittr_1.5     \n",
       " [9] evaluate_0.14     stringi_1.4.6     rlang_0.4.4       curl_4.3         \n",
       "[13] uuid_0.1-2        data.table_1.12.8 IRkernel_0.8.15   tools_3.6.1      \n",
       "[17] stringr_1.4.0     compiler_3.6.1    base64enc_0.1-3   htmltools_0.4.0  \n",
       "[21] pbdZMQ_0.3-3     "
      ]
     },
     "metadata": {},
     "output_type": "display_data"
    }
   ],
   "source": [
    "sessionInfo()"
   ]
  },
  {
   "cell_type": "code",
   "execution_count": null,
   "metadata": {},
   "outputs": [],
   "source": []
  }
 ],
 "metadata": {
  "kernelspec": {
   "display_name": "R",
   "language": "R",
   "name": "ir"
  },
  "language_info": {
   "codemirror_mode": "r",
   "file_extension": ".r",
   "mimetype": "text/x-r-source",
   "name": "R",
   "pygments_lexer": "r",
   "version": "3.6.1"
  }
 },
 "nbformat": 4,
 "nbformat_minor": 4
}
