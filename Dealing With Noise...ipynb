{
 "cells": [
  {
   "cell_type": "code",
   "execution_count": 1,
   "metadata": {},
   "outputs": [],
   "source": [
    "import numpy as np\n",
    "import pandas as pd\n",
    "from sklearn.utils import shuffle\n",
    "from sklearn.svm import SVC\n",
    "from sklearn.ensemble import BaggingClassifier\n",
    "from sklearn.model_selection import KFold, StratifiedKFold\n",
    "from sklearn.metrics import precision_score, recall_score, f1_score, roc_auc_score"
   ]
  },
  {
   "cell_type": "code",
   "execution_count": 2,
   "metadata": {},
   "outputs": [
    {
     "data": {
      "text/plain": [
       "((1485, 18), (1065, 18))"
      ]
     },
     "execution_count": 2,
     "metadata": {},
     "output_type": "execute_result"
    }
   ],
   "source": [
    "swt = pd.read_csv(\"/home/shihab/Datasets/SoftEng/swt.csv\")\n",
    "debug = pd.read_csv(\"/home/shihab/Datasets/SoftEng/debug.csv\")\n",
    "swt.shape, debug.shape"
   ]
  },
  {
   "cell_type": "code",
   "execution_count": 3,
   "metadata": {},
   "outputs": [
    {
     "data": {
      "text/plain": [
       "((1485, 17), (1485,))"
      ]
     },
     "execution_count": 3,
     "metadata": {},
     "output_type": "execute_result"
    }
   ],
   "source": [
    "df = swt\n",
    "X,y = df.drop(columns=['isDefective']).values,df['isDefective'].values\n",
    "X,y = shuffle(X,y)\n",
    "X.shape,y.shape"
   ]
  },
  {
   "cell_type": "code",
   "execution_count": 4,
   "metadata": {},
   "outputs": [],
   "source": [
    "def insert_noise(y,perc):\n",
    "    to_flip = int(len(y)*perc/100)\n",
    "    idx = np.random.choice(len(y),size=to_flip,replace=False)\n",
    "    newY = y.copy()\n",
    "    newY[idx] = ~newY[idx]\n",
    "    assert (newY!=y).sum()==to_flip\n",
    "    return newY"
   ]
  },
  {
   "cell_type": "code",
   "execution_count": 5,
   "metadata": {},
   "outputs": [
    {
     "name": "stdout",
     "output_type": "stream",
     "text": [
      "0.8869565217391303\n",
      "0.893939393939394\n",
      "0.8661417322834646\n",
      "0.9333333333333332\n",
      "0.8666666666666667\n",
      "0.9130434782608695\n",
      "0.888888888888889\n",
      "0.8807339449541284\n",
      "0.8837209302325582\n",
      "0.9032258064516129\n"
     ]
    }
   ],
   "source": [
    "cv = KFold(n_splits=10)\n",
    "p = []\n",
    "for train_id,test_id in cv.split(X,y):\n",
    "    clf = BaggingClassifier(n_estimators=100).fit(X[train_id],y[train_id])\n",
    "    preds = clf.predict(X[test_id])\n",
    "    perf = f1_score(y[test_id],preds)\n",
    "    p.append(perf)\n",
    "    print(perf)"
   ]
  },
  {
   "cell_type": "code",
   "execution_count": 6,
   "metadata": {},
   "outputs": [
    {
     "data": {
      "text/plain": [
       "0.8916650696750047"
      ]
     },
     "execution_count": 6,
     "metadata": {},
     "output_type": "execute_result"
    }
   ],
   "source": [
    "sum(p)/len(p)"
   ]
  },
  {
   "cell_type": "code",
   "execution_count": null,
   "metadata": {},
   "outputs": [],
   "source": [
    "\n",
    "\n",
    "\n",
    "\n",
    "\n",
    "\n",
    "\n",
    "\n",
    "\n",
    "\n",
    "\n",
    "\n",
    "\n",
    "\n",
    "\n",
    "\n",
    "\n",
    "\n",
    "\n",
    "\n",
    "\n"
   ]
  }
 ],
 "metadata": {
  "kernelspec": {
   "display_name": "Python 3",
   "language": "python",
   "name": "python3"
  },
  "language_info": {
   "codemirror_mode": {
    "name": "ipython",
    "version": 3
   },
   "file_extension": ".py",
   "mimetype": "text/x-python",
   "name": "python",
   "nbconvert_exporter": "python",
   "pygments_lexer": "ipython3",
   "version": "3.7.3"
  }
 },
 "nbformat": 4,
 "nbformat_minor": 4
}
