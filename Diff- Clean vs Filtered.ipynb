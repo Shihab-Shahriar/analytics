{
 "cells": [
  {
   "cell_type": "code",
   "execution_count": 1,
   "metadata": {},
   "outputs": [],
   "source": [
    "import numpy as np\n",
    "import pandas as pd,os\n",
    "from scipy.stats import wilcoxon, friedmanchisquare, rankdata\n",
    "import scikit_posthocs as sp\n",
    "import seaborn as sns\n",
    "import matplotlib.pyplot as plt"
   ]
  },
  {
   "cell_type": "code",
   "execution_count": 67,
   "metadata": {},
   "outputs": [
    {
     "data": {
      "text/plain": [
       "(32, 54)"
      ]
     },
     "execution_count": 67,
     "metadata": {},
     "output_type": "execute_result"
    }
   ],
   "source": [
    "filtered = pd.read_csv(\"All_filter_MCC.csv\",header=[0,1],index_col=0)\n",
    "filtered.shape"
   ]
  },
  {
   "cell_type": "code",
   "execution_count": 68,
   "metadata": {},
   "outputs": [],
   "source": [
    "filters = set(filtered.columns.get_level_values(0))"
   ]
  },
  {
   "cell_type": "code",
   "execution_count": 73,
   "metadata": {},
   "outputs": [
    {
     "name": "stdout",
     "output_type": "stream",
     "text": [
      "1.73872212588504e-116\n",
      "spyder,0.0000,0.2692,0.3215\n",
      "ncl,0.0000,0.2966,0.3215\n",
      "smote_enc,0.0000,0.2799,0.3215\n",
      "ihthres,0.0000,0.2709,0.3215\n",
      "ihf,0.0000,0.3463,0.3215\n",
      "enn,0.0000,0.2715,0.3215\n",
      "smote_ipf,0.0000,0.3081,0.3215\n",
      "ipf,0.0000,0.3380,0.3215\n"
     ]
    }
   ],
   "source": [
    "filt = pd.DataFrame({k:filtered[k].values.reshape(-1) for k in filters})\n",
    "print(friedmanchisquare(*(filt[c] for c in filt)).pvalue)\n",
    "for c in filt:\n",
    "    if c=='none':continue\n",
    "    print(f\"{c},{wilcoxon(filt[c],filt['none']).pvalue:.4f},{filt[c].mean():.4f},{filt['none'].mean():.4f}\")"
   ]
  },
  {
   "cell_type": "code",
   "execution_count": null,
   "metadata": {},
   "outputs": [],
   "source": [
    "\n",
    "\n",
    "\n",
    "\n",
    "\n",
    "\n",
    "\n",
    "\n",
    "\n",
    "\n",
    "\n",
    "\n",
    "\n",
    "\n"
   ]
  }
 ],
 "metadata": {
  "kernelspec": {
   "display_name": "Python 3",
   "language": "python",
   "name": "python3"
  },
  "language_info": {
   "codemirror_mode": {
    "name": "ipython",
    "version": 3
   },
   "file_extension": ".py",
   "mimetype": "text/x-python",
   "name": "python",
   "nbconvert_exporter": "python",
   "pygments_lexer": "ipython3",
   "version": "3.7.5"
  }
 },
 "nbformat": 4,
 "nbformat_minor": 4
}
