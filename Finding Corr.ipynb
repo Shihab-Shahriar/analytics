{
 "cells": [
  {
   "cell_type": "code",
   "execution_count": 1,
   "metadata": {},
   "outputs": [],
   "source": [
    "import numpy as np\n",
    "import pandas as pd,os\n",
    "from sklearn.metrics import precision_score, recall_score, confusion_matrix\n",
    "from scipy.stats import wilcoxon, friedmanchisquare, rankdata\n",
    "import scikit_posthocs as sp\n",
    "import pingouin as pg\n",
    "import seaborn as sns\n",
    "import matplotlib.pyplot as plt\n",
    "from library.utils import read_data"
   ]
  },
  {
   "cell_type": "code",
   "execution_count": 2,
   "metadata": {},
   "outputs": [
    {
     "data": {
      "text/plain": [
       "((32, 60), (32, 30), (32, 30))"
      ]
     },
     "execution_count": 2,
     "metadata": {},
     "output_type": "execute_result"
    }
   ],
   "source": [
    "filtered = pd.read_csv(\"All_filter_MCC.csv\",header=[0,1],index_col=0)\n",
    "Clean = pd.read_csv(\"Clean.csv\",header=[0,1,2],index_col=0)\n",
    "Clean = Clean.drop(columns=['pr_rec_score'],level=2).droplevel(2,axis=1) ##pr_rec_score, matthews_corrcoef\n",
    "Noisy = pd.read_csv(\"Noisy.csv\",header=[0,1,2],index_col=0)\n",
    "Noisy = Noisy.drop(columns=['pr_rec_score'],level=2).droplevel(2,axis=1)\n",
    "filtered.shape,Clean.shape,Noisy.shape"
   ]
  },
  {
   "cell_type": "markdown",
   "metadata": {},
   "source": [
    "## Dataset Characteristic vs MCC"
   ]
  },
  {
   "cell_type": "code",
   "execution_count": 3,
   "metadata": {},
   "outputs": [],
   "source": [
    "DATASETS = [f for f in os.listdir(\"JIRA/\") if 'csv' in f]"
   ]
  },
  {
   "cell_type": "code",
   "execution_count": 4,
   "metadata": {},
   "outputs": [
    {
     "data": {
      "text/plain": [
       "(32, 30)"
      ]
     },
     "execution_count": 4,
     "metadata": {},
     "output_type": "execute_result"
    }
   ],
   "source": [
    "dependent = Clean - Noisy\n",
    "dependent.shape"
   ]
  },
  {
   "cell_type": "code",
   "execution_count": 22,
   "metadata": {},
   "outputs": [
    {
     "data": {
      "text/plain": [
       "((960, 11), 0)"
      ]
     },
     "execution_count": 22,
     "metadata": {},
     "output_type": "execute_result"
    }
   ],
   "source": [
    "df = pd.DataFrame(columns=['noise','FP','FN','TP','TN','nIR','IR','PR','Rec','dMCC'])\n",
    "for d in DATASETS:\n",
    "    X,y_noisy,y_real = read_data(d,stats=False)\n",
    "    noise = (y_noisy!=y_real).sum()/len(y_noisy)\n",
    "    tn, fp, fn, tp = confusion_matrix(y_real,y_noisy).ravel()\n",
    "    nIR = (y_noisy==0).sum()/y_noisy.sum()\n",
    "    IR = (y_real==0).sum()/y_real.sum()\n",
    "    pr = precision_score(y_real,y_noisy)\n",
    "    rec = recall_score(y_real,y_noisy)\n",
    "    for col in dependent.columns:\n",
    "        df.loc[len(df)] = [noise,fp,fn,tp,tn,nIR,IR,pr,rec]+[dependent.loc[d,col]]\n",
    "        \n",
    "df['size'] = df['TN']+df['FN']+df['TP']+df['FP']\n",
    "df.shape,df.isna().sum().sum()"
   ]
  },
  {
   "cell_type": "code",
   "execution_count": 23,
   "metadata": {},
   "outputs": [
    {
     "data": {
      "text/html": [
       "<div>\n",
       "<style scoped>\n",
       "    .dataframe tbody tr th:only-of-type {\n",
       "        vertical-align: middle;\n",
       "    }\n",
       "\n",
       "    .dataframe tbody tr th {\n",
       "        vertical-align: top;\n",
       "    }\n",
       "\n",
       "    .dataframe thead th {\n",
       "        text-align: right;\n",
       "    }\n",
       "</style>\n",
       "<table border=\"1\" class=\"dataframe\">\n",
       "  <thead>\n",
       "    <tr style=\"text-align: right;\">\n",
       "      <th></th>\n",
       "      <th>noise</th>\n",
       "      <th>FP</th>\n",
       "      <th>FN</th>\n",
       "      <th>TP</th>\n",
       "      <th>TN</th>\n",
       "      <th>nIR</th>\n",
       "      <th>IR</th>\n",
       "      <th>PR</th>\n",
       "      <th>Rec</th>\n",
       "      <th>size</th>\n",
       "    </tr>\n",
       "  </thead>\n",
       "  <tbody>\n",
       "    <tr>\n",
       "      <th>noise</th>\n",
       "      <td>1.000000</td>\n",
       "      <td>0.003989</td>\n",
       "      <td>0.530921</td>\n",
       "      <td>0.394874</td>\n",
       "      <td>-0.604112</td>\n",
       "      <td>-0.510341</td>\n",
       "      <td>-0.745125</td>\n",
       "      <td>0.334167</td>\n",
       "      <td>-0.151932</td>\n",
       "      <td>-0.552804</td>\n",
       "    </tr>\n",
       "    <tr>\n",
       "      <th>FP</th>\n",
       "      <td>0.003989</td>\n",
       "      <td>1.000000</td>\n",
       "      <td>-0.394866</td>\n",
       "      <td>0.090790</td>\n",
       "      <td>0.245745</td>\n",
       "      <td>-0.319471</td>\n",
       "      <td>0.383242</td>\n",
       "      <td>-0.688314</td>\n",
       "      <td>0.363664</td>\n",
       "      <td>0.256064</td>\n",
       "    </tr>\n",
       "    <tr>\n",
       "      <th>FN</th>\n",
       "      <td>0.530921</td>\n",
       "      <td>-0.394866</td>\n",
       "      <td>1.000000</td>\n",
       "      <td>0.405652</td>\n",
       "      <td>-0.003925</td>\n",
       "      <td>0.188557</td>\n",
       "      <td>-0.418024</td>\n",
       "      <td>0.644037</td>\n",
       "      <td>-0.697640</td>\n",
       "      <td>0.056795</td>\n",
       "    </tr>\n",
       "    <tr>\n",
       "      <th>TP</th>\n",
       "      <td>0.394874</td>\n",
       "      <td>0.090790</td>\n",
       "      <td>0.405652</td>\n",
       "      <td>1.000000</td>\n",
       "      <td>0.035472</td>\n",
       "      <td>-0.341250</td>\n",
       "      <td>-0.268020</td>\n",
       "      <td>0.534875</td>\n",
       "      <td>0.105204</td>\n",
       "      <td>0.083549</td>\n",
       "    </tr>\n",
       "    <tr>\n",
       "      <th>TN</th>\n",
       "      <td>-0.604112</td>\n",
       "      <td>0.245745</td>\n",
       "      <td>-0.003925</td>\n",
       "      <td>0.035472</td>\n",
       "      <td>1.000000</td>\n",
       "      <td>0.619920</td>\n",
       "      <td>0.808073</td>\n",
       "      <td>-0.189593</td>\n",
       "      <td>-0.166302</td>\n",
       "      <td>0.997270</td>\n",
       "    </tr>\n",
       "    <tr>\n",
       "      <th>nIR</th>\n",
       "      <td>-0.510341</td>\n",
       "      <td>-0.319471</td>\n",
       "      <td>0.188557</td>\n",
       "      <td>-0.341250</td>\n",
       "      <td>0.619920</td>\n",
       "      <td>1.000000</td>\n",
       "      <td>0.419101</td>\n",
       "      <td>0.013025</td>\n",
       "      <td>-0.574179</td>\n",
       "      <td>0.606820</td>\n",
       "    </tr>\n",
       "    <tr>\n",
       "      <th>IR</th>\n",
       "      <td>-0.745125</td>\n",
       "      <td>0.383242</td>\n",
       "      <td>-0.418024</td>\n",
       "      <td>-0.268020</td>\n",
       "      <td>0.808073</td>\n",
       "      <td>0.419101</td>\n",
       "      <td>1.000000</td>\n",
       "      <td>-0.541347</td>\n",
       "      <td>0.238465</td>\n",
       "      <td>0.779358</td>\n",
       "    </tr>\n",
       "    <tr>\n",
       "      <th>PR</th>\n",
       "      <td>0.334167</td>\n",
       "      <td>-0.688314</td>\n",
       "      <td>0.644037</td>\n",
       "      <td>0.534875</td>\n",
       "      <td>-0.189593</td>\n",
       "      <td>0.013025</td>\n",
       "      <td>-0.541347</td>\n",
       "      <td>1.000000</td>\n",
       "      <td>-0.302146</td>\n",
       "      <td>-0.160566</td>\n",
       "    </tr>\n",
       "    <tr>\n",
       "      <th>Rec</th>\n",
       "      <td>-0.151932</td>\n",
       "      <td>0.363664</td>\n",
       "      <td>-0.697640</td>\n",
       "      <td>0.105204</td>\n",
       "      <td>-0.166302</td>\n",
       "      <td>-0.574179</td>\n",
       "      <td>0.238465</td>\n",
       "      <td>-0.302146</td>\n",
       "      <td>1.000000</td>\n",
       "      <td>-0.196516</td>\n",
       "    </tr>\n",
       "    <tr>\n",
       "      <th>size</th>\n",
       "      <td>-0.552804</td>\n",
       "      <td>0.256064</td>\n",
       "      <td>0.056795</td>\n",
       "      <td>0.083549</td>\n",
       "      <td>0.997270</td>\n",
       "      <td>0.606820</td>\n",
       "      <td>0.779358</td>\n",
       "      <td>-0.160566</td>\n",
       "      <td>-0.196516</td>\n",
       "      <td>1.000000</td>\n",
       "    </tr>\n",
       "  </tbody>\n",
       "</table>\n",
       "</div>"
      ],
      "text/plain": [
       "          noise        FP        FN        TP        TN       nIR        IR  \\\n",
       "noise  1.000000  0.003989  0.530921  0.394874 -0.604112 -0.510341 -0.745125   \n",
       "FP     0.003989  1.000000 -0.394866  0.090790  0.245745 -0.319471  0.383242   \n",
       "FN     0.530921 -0.394866  1.000000  0.405652 -0.003925  0.188557 -0.418024   \n",
       "TP     0.394874  0.090790  0.405652  1.000000  0.035472 -0.341250 -0.268020   \n",
       "TN    -0.604112  0.245745 -0.003925  0.035472  1.000000  0.619920  0.808073   \n",
       "nIR   -0.510341 -0.319471  0.188557 -0.341250  0.619920  1.000000  0.419101   \n",
       "IR    -0.745125  0.383242 -0.418024 -0.268020  0.808073  0.419101  1.000000   \n",
       "PR     0.334167 -0.688314  0.644037  0.534875 -0.189593  0.013025 -0.541347   \n",
       "Rec   -0.151932  0.363664 -0.697640  0.105204 -0.166302 -0.574179  0.238465   \n",
       "size  -0.552804  0.256064  0.056795  0.083549  0.997270  0.606820  0.779358   \n",
       "\n",
       "             PR       Rec      size  \n",
       "noise  0.334167 -0.151932 -0.552804  \n",
       "FP    -0.688314  0.363664  0.256064  \n",
       "FN     0.644037 -0.697640  0.056795  \n",
       "TP     0.534875  0.105204  0.083549  \n",
       "TN    -0.189593 -0.166302  0.997270  \n",
       "nIR    0.013025 -0.574179  0.606820  \n",
       "IR    -0.541347  0.238465  0.779358  \n",
       "PR     1.000000 -0.302146 -0.160566  \n",
       "Rec   -0.302146  1.000000 -0.196516  \n",
       "size  -0.160566 -0.196516  1.000000  "
      ]
     },
     "execution_count": 23,
     "metadata": {},
     "output_type": "execute_result"
    }
   ],
   "source": [
    "dataStat = df.loc[::dependent.shape[1]].drop(columns=['dMCC'])\n",
    "dataStat.corr()"
   ]
  },
  {
   "cell_type": "code",
   "execution_count": 24,
   "metadata": {},
   "outputs": [
    {
     "data": {
      "image/png": "[encoded data removed]",
      "text/plain": [
       "<Figure size 576x360 with 1 Axes>"
      ]
     },
     "metadata": {},
     "output_type": "display_data"
    }
   ],
   "source": [
    "plt.figure(figsize=(8,5))\n",
    "sns.regplot(x='FN',y='dMCC',data=df,robust=False,order=1);"
   ]
  },
  {
   "cell_type": "code",
   "execution_count": 25,
   "metadata": {},
   "outputs": [
    {
     "name": "stdout",
     "output_type": "stream",
     "text": [
      "noise\n",
      "            n      r         CI95%     r2  adj_r2         p-val  power\n",
      "percbend  960  0.386  [0.33, 0.44]  0.149   0.147  1.839846e-35    1.0 \n",
      "\n",
      "\n",
      "FP\n",
      "            n      r           CI95%    r2  adj_r2         p-val  power\n",
      "percbend  960 -0.388  [-0.44, -0.33]  0.15   0.149  8.795856e-36    1.0 \n",
      "\n",
      "\n",
      "FN\n",
      "            n      r         CI95%     r2  adj_r2         p-val  power\n",
      "percbend  960  0.366  [0.31, 0.42]  0.134   0.132  7.386201e-32    1.0 \n",
      "\n",
      "\n",
      "TP\n",
      "            n      r           CI95%     r2  adj_r2     p-val  power\n",
      "percbend  960 -0.068  [-0.13, -0.01]  0.005   0.003  0.034395  0.562 \n",
      "\n",
      "\n",
      "TN\n",
      "            n      r          CI95%     r2  adj_r2         p-val  power\n",
      "percbend  960 -0.262  [-0.32, -0.2]  0.069   0.067  1.656270e-16    1.0 \n",
      "\n",
      "\n",
      "nIR\n",
      "            n      r         CI95%     r2  adj_r2     p-val  power\n",
      "percbend  960  0.078  [0.02, 0.14]  0.006   0.004  0.015077  0.682 \n",
      "\n",
      "\n",
      "IR\n",
      "            n      r           CI95%     r2  adj_r2         p-val  power\n",
      "percbend  960 -0.458  [-0.51, -0.41]  0.209   0.208  7.014538e-51    1.0 \n",
      "\n",
      "\n",
      "PR\n",
      "            n      r         CI95%     r2  adj_r2         p-val  power\n",
      "percbend  960  0.279  [0.22, 0.34]  0.078   0.076  1.451757e-18    1.0 \n",
      "\n",
      "\n",
      "Rec\n",
      "            n      r          CI95%     r2  adj_r2         p-val  power\n",
      "percbend  960 -0.344  [-0.4, -0.29]  0.118   0.116  5.593024e-28    1.0 \n",
      "\n",
      "\n",
      "size\n",
      "            n      r           CI95%     r2  adj_r2         p-val  power\n",
      "percbend  960 -0.206  [-0.27, -0.14]  0.043   0.041  1.123292e-10    1.0 \n",
      "\n",
      "\n"
     ]
    }
   ],
   "source": [
    "for col in df:\n",
    "    if col=='dMCC': continue\n",
    "    print(col)\n",
    "    print(pg.corr(df[col],df['dMCC'],method='percbend'),'\\n\\n') #shepherd , percbend"
   ]
  },
  {
   "cell_type": "code",
   "execution_count": 21,
   "metadata": {},
   "outputs": [
    {
     "data": {
      "text/html": [
       "<div>\n",
       "<style scoped>\n",
       "    .dataframe tbody tr th:only-of-type {\n",
       "        vertical-align: middle;\n",
       "    }\n",
       "\n",
       "    .dataframe tbody tr th {\n",
       "        vertical-align: top;\n",
       "    }\n",
       "\n",
       "    .dataframe thead th {\n",
       "        text-align: right;\n",
       "    }\n",
       "</style>\n",
       "<table border=\"1\" class=\"dataframe\">\n",
       "  <thead>\n",
       "    <tr style=\"text-align: right;\">\n",
       "      <th></th>\n",
       "      <th>n</th>\n",
       "      <th>r</th>\n",
       "      <th>CI95%</th>\n",
       "      <th>r2</th>\n",
       "      <th>adj_r2</th>\n",
       "      <th>p-val</th>\n",
       "      <th>power</th>\n",
       "    </tr>\n",
       "  </thead>\n",
       "  <tbody>\n",
       "    <tr>\n",
       "      <th>percbend</th>\n",
       "      <td>960</td>\n",
       "      <td>-0.206</td>\n",
       "      <td>[-0.27, -0.14]</td>\n",
       "      <td>0.043</td>\n",
       "      <td>0.041</td>\n",
       "      <td>1.123292e-10</td>\n",
       "      <td>1.0</td>\n",
       "    </tr>\n",
       "  </tbody>\n",
       "</table>\n",
       "</div>"
      ],
      "text/plain": [
       "            n      r           CI95%     r2  adj_r2         p-val  power\n",
       "percbend  960 -0.206  [-0.27, -0.14]  0.043   0.041  1.123292e-10    1.0"
      ]
     },
     "execution_count": 21,
     "metadata": {},
     "output_type": "execute_result"
    }
   ],
   "source": [
    "pg.corr(df['TN']+df['FN']+df['TP']+df['FP'],df['dMCC'],method='percbend')"
   ]
  },
  {
   "cell_type": "markdown",
   "metadata": {},
   "source": [
    "### Observations from Per bend Corr Analysis\n",
    "+ nIR have no relationship with performance loss, so while big IR is bad for performance for clean, it doesn't compound noise problem\n",
    "+ As overall noise & FN goes higher, p. loss also goes high. Weirdly, as FP gets high, loss goes down. (FN more harmful than FP)\n",
    "+ As expected, as TN and TP goes high, performance loss goes down. Unexpectedly, effect is small for TP.\n",
    "+ High Rec is good, but high PR leads to greater loss. Maybe cause PR has high corr with FN\n",
    "+ Big datasets have low loss"
   ]
  },
  {
   "cell_type": "code",
   "execution_count": null,
   "metadata": {},
   "outputs": [],
   "source": [
    "df['IR_disc'] = df['nIR'] < df['nIR'].median()"
   ]
  },
  {
   "cell_type": "code",
   "execution_count": null,
   "metadata": {},
   "outputs": [],
   "source": [
    "sns.lmplot(x='TP',y='MCC',col='IR_disc',data=df,robust=False,order=1);"
   ]
  },
  {
   "cell_type": "code",
   "execution_count": null,
   "metadata": {},
   "outputs": [],
   "source": [
    "\n",
    "\n",
    "\n",
    "\n",
    "\n",
    "\n",
    "\n",
    "\n",
    "\n",
    "\n",
    "\n",
    "\n",
    "\n",
    "\n"
   ]
  },
  {
   "cell_type": "code",
   "execution_count": null,
   "metadata": {},
   "outputs": [],
   "source": [
    "a = list(range(100))\n",
    "a[::5]"
   ]
  },
  {
   "cell_type": "code",
   "execution_count": null,
   "metadata": {},
   "outputs": [],
   "source": []
  }
 ],
 "metadata": {
  "kernelspec": {
   "display_name": "Python 3",
   "language": "python",
   "name": "python3"
  },
  "language_info": {
   "codemirror_mode": {
    "name": "ipython",
    "version": 3
   },
   "file_extension": ".py",
   "mimetype": "text/x-python",
   "name": "python",
   "nbconvert_exporter": "python",
   "pygments_lexer": "ipython3",
   "version": "3.7.5"
  }
 },
 "nbformat": 4,
 "nbformat_minor": 4
}
