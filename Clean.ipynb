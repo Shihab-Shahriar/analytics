{
 "cells": [
  {
   "cell_type": "code",
   "execution_count": 2,
   "metadata": {},
   "outputs": [],
   "source": [
    "from time import perf_counter\n",
    "import numpy as np,os\n",
    "import pandas as pd\n",
    "from sklearn.preprocessing import LabelEncoder, StandardScaler, power_transform, MinMaxScaler\n",
    "from sklearn.tree import DecisionTreeClassifier\n",
    "from sklearn.linear_model import LogisticRegression\n",
    "from sklearn.naive_bayes import GaussianNB\n",
    "from sklearn.neighbors import KNeighborsClassifier\n",
    "from sklearn.ensemble import RandomForestClassifier, AdaBoostClassifier\n",
    "from sklearn.svm import SVC\n",
    "from sklearn.model_selection import cross_val_score, RepeatedStratifiedKFold, GridSearchCV, cross_val_predict\n",
    "from sklearn.utils import shuffle\n",
    "from sklearn.metrics import matthews_corrcoef, precision_recall_curve, auc, accuracy_score\n",
    "from imblearn.over_sampling import SMOTE\n",
    "from imblearn.under_sampling import RandomUnderSampler, EditedNearestNeighbours, TomekLinks\n",
    "from imblearn.ensemble import RUSBoostClassifier, BalancedRandomForestClassifier, BalancedBaggingClassifier\n",
    "from imblearn.pipeline import Pipeline\n",
    "import seaborn as sns,matplotlib.pyplot as plt\n",
    "\n",
    "from library.configs import IMBS, CLFS, ENSEMBLES, CV, SCORERS\n",
    "from library.utils import evaluate, read_data"
   ]
  },
  {
   "cell_type": "code",
   "execution_count": 3,
   "metadata": {},
   "outputs": [
    {
     "data": {
      "text/plain": [
       "32"
      ]
     },
     "execution_count": 3,
     "metadata": {},
     "output_type": "execute_result"
    }
   ],
   "source": [
    "DATASETS = ['groovy-1_5_7.csv','jruby-1.4.0.csv','lucene-2.9.0.csv','jruby-1.7.0.preview1.csv','groovy-1_6_BETA_1.csv',\n",
    "        'derby-10.2.1.6.csv','wicket-1.5.3.csv','camel-2.9.0.csv','camel-1.4.0.csv','activemq-5.8.0.csv']\n",
    "DATASETS = [f for f in os.listdir(\"JIRA/\") if 'csv' in f]\n",
    "len(DATASETS)"
   ]
  },
  {
   "cell_type": "code",
   "execution_count": 4,
   "metadata": {},
   "outputs": [
    {
     "data": {
      "text/plain": [
       "(dict_keys([('UBag', 'BagNB'), ('UBag', 'BagDT')]), 2)"
      ]
     },
     "execution_count": 4,
     "metadata": {},
     "output_type": "execute_result"
    }
   ],
   "source": [
    "models = {}\n",
    "# for im,samp in IMBS.items():\n",
    "#     for c,clf in CLFS.items():\n",
    "#         models[(im,c)] = Pipeline([('samp',samp),('clf',clf)])\n",
    "\n",
    "bases = {'nb':GaussianNB(),'dt':DecisionTreeClassifier(max_depth=20,max_features='sqrt')}\n",
    "models[('UBag',\"BagNB\")] = BalancedBaggingClassifier(base_estimator=bases['nb'],n_estimators=20)\n",
    "models[('UBag',\"BagDT\")] = BalancedBaggingClassifier(base_estimator=bases['dt'],n_estimators=20)\n",
    "    \n",
    "models.keys(),len(models)"
   ]
  },
  {
   "cell_type": "code",
   "execution_count": 5,
   "metadata": {},
   "outputs": [],
   "source": [
    "path = \"Clean_Bag.csv\"\n",
    "cols = pd.MultiIndex.from_product([['UBag'],[\"BagNB\",\"BagDT\"],[f.__name__ for f in SCORERS]],names=['imb','clf','metric'])\n",
    "df = pd.DataFrame(index=DATASETS,columns=cols)\n",
    "#df = pd.read_csv(path,header=[0,1,2],index_col=0)"
   ]
  },
  {
   "cell_type": "code",
   "execution_count": 6,
   "metadata": {},
   "outputs": [
    {
     "name": "stdout",
     "output_type": "stream",
     "text": [
      "0\n",
      "activemq-5.8.0.csv noise:0.058, imb:15.847,203,3217, Shape:(3420, 65)\n",
      "('UBag', 'BagNB')\n",
      "0.7 [0.289, 0.371]\n",
      "('UBag', 'BagDT')\n",
      "0.7 [0.286, 0.307]\n",
      "\n",
      "1\n",
      "groovy-1_6_BETA_1.csv noise:0.128, imb:6.017,117,704, Shape:(821, 65)\n",
      "('UBag', 'BagNB')\n",
      "0.43 [0.258, 0.357]\n",
      "('UBag', 'BagDT')\n",
      "0.41 [0.486, 0.571]\n",
      "\n",
      "2\n",
      "activemq-5.3.0.csv noise:0.094, imb:15.669,142,2225, Shape:(2367, 65)\n",
      "('UBag', 'BagNB')\n",
      "0.57 [0.344, 0.465]\n",
      "('UBag', 'BagDT')\n",
      "0.62 [0.367, 0.456]\n",
      "\n",
      "3\n",
      "wicket-1.3.0-incubating-beta-1.csv noise:0.164, imb:4.806,288,1384, Shape:(1672, 65)\n",
      "('UBag', 'BagNB')\n",
      "0.5 [0.348, 0.389]\n",
      "('UBag', 'BagDT')\n",
      "0.48 [0.437, 0.463]\n",
      "\n",
      "4\n",
      "jruby-1.1.csv noise:0.175, imb:3.540,161,570, Shape:(731, 65)\n",
      "('UBag', 'BagNB')\n",
      "0.49 [0.466, 0.665]\n",
      "('UBag', 'BagDT')\n",
      "0.43 [0.537, 0.681]\n",
      "\n",
      "5\n",
      "jruby-1.4.0.csv noise:0.190, imb:3.890,200,778, Shape:(978, 65)\n",
      "('UBag', 'BagNB')\n",
      "0.43 [0.44, 0.599]\n",
      "('UBag', 'BagDT')\n",
      "0.48 [0.449, 0.601]\n",
      "\n",
      "6\n",
      "lucene-2.3.0.csv noise:0.204, imb:4.031,160,645, Shape:(805, 65)\n",
      "('UBag', 'BagNB')\n",
      "0.47 [0.575, 0.714]\n",
      "('UBag', 'BagDT')\n",
      "0.52 [0.697, 0.852]\n",
      "\n",
      "7\n",
      "hbase-0.95.2.csv noise:0.260, imb:15.088,114,1720, Shape:(1834, 65)\n",
      "('UBag', 'BagNB')\n",
      "0.54 [0.324, 0.521]\n",
      "('UBag', 'BagDT')\n",
      "0.79 [0.381, 0.569]\n",
      "\n",
      "8\n",
      "lucene-3.0.0.csv noise:0.185, imb:6.037,190,1147, Shape:(1337, 65)\n",
      "('UBag', 'BagNB')\n",
      "0.47 [0.317, 0.303]\n",
      "('UBag', 'BagDT')\n",
      "0.5 [0.401, 0.489]\n",
      "\n",
      "9\n",
      "camel-2.9.0.csv noise:0.044, imb:34.600,200,6920, Shape:(7120, 65)\n",
      "('UBag', 'BagNB')\n",
      "0.99 [0.229, 0.341]\n",
      "('UBag', 'BagDT')\n",
      "0.98 [0.24, 0.225]\n",
      "\n",
      "10\n",
      "wicket-1.5.3.csv noise:0.064, imb:26.720,93,2485, Shape:(2578, 65)\n",
      "('UBag', 'BagNB')\n",
      "0.53 [0.241, 0.249]\n",
      "('UBag', 'BagDT')\n",
      "0.54 [0.247, 0.195]\n",
      "\n",
      "11\n",
      "lucene-3.1.csv noise:0.120, imb:7.477,331,2475, Shape:(2806, 65)\n",
      "('UBag', 'BagNB')\n",
      "0.56 [0.169, 0.207]\n",
      "('UBag', 'BagDT')\n",
      "0.58 [0.2, 0.166]\n",
      "\n",
      "12\n",
      "groovy-1_6_BETA_2.csv noise:0.096, imb:7.583,103,781, Shape:(884, 65)\n",
      "('UBag', 'BagNB')\n",
      "0.42 [0.252, 0.337]\n",
      "('UBag', 'BagDT')\n",
      "0.44 [0.461, 0.543]\n",
      "\n",
      "13\n",
      "activemq-5.2.0.csv noise:0.113, imb:12.247,154,1886, Shape:(2040, 65)\n",
      "('UBag', 'BagNB')\n",
      "0.57 [0.421, 0.589]\n",
      "('UBag', 'BagDT')\n",
      "0.56 [0.514, 0.575]\n",
      "\n",
      "14\n",
      "groovy-1_5_7.csv noise:0.085, imb:8.463,80,677, Shape:(757, 65)\n",
      "('UBag', 'BagNB')\n",
      "0.42 [0.279, 0.438]\n",
      "('UBag', 'BagDT')\n",
      "0.39 [0.352, 0.43]\n",
      "\n",
      "15\n",
      "hbase-0.95.0.csv noise:0.234, imb:17.341,91,1578, Shape:(1669, 65)\n",
      "('UBag', 'BagNB')\n",
      "0.56 [0.298, 0.479]\n",
      "('UBag', 'BagDT')\n",
      "0.69 [0.461, 0.634]\n",
      "\n",
      "16\n",
      "camel-2.11.0.csv noise:0.024, imb:43.230,200,8646, Shape:(8846, 65)\n",
      "('UBag', 'BagNB')\n",
      "1.25 [0.177, 0.222]\n",
      "('UBag', 'BagDT')\n",
      "1.18 [0.246, 0.215]\n",
      "\n",
      "17\n",
      "jruby-1.7.0.preview1.csv noise:0.099, imb:8.902,163,1451, Shape:(1614, 65)\n",
      "('UBag', 'BagNB')\n",
      "0.5 [0.318, 0.367]\n",
      "('UBag', 'BagDT')\n",
      "0.47 [0.349, 0.317]\n",
      "\n",
      "18\n",
      "hive-0.10.0.csv noise:0.126, imb:29.000,52,1508, Shape:(1560, 65)\n",
      "('UBag', 'BagNB')\n",
      "0.51 [0.425, 0.487]\n",
      "('UBag', 'BagDT')\n",
      "0.52 [0.438, 0.498]\n",
      "\n",
      "19\n",
      "camel-2.10.0.csv noise:0.053, imb:24.447,311,7603, Shape:(7914, 65)\n",
      "('UBag', 'BagNB')\n",
      "1.14 [0.261, 0.327]\n",
      "('UBag', 'BagDT')\n",
      "1.13 [0.279, 0.245]\n",
      "\n",
      "20\n",
      "derby-10.2.1.6.csv noise:0.290, imb:9.906,180,1783, Shape:(1963, 65)\n",
      "('UBag', 'BagNB')\n",
      "0.67 [0.538, 0.753]\n",
      "('UBag', 'BagDT')\n",
      "0.98 [0.594, 0.787]\n",
      "\n",
      "21\n",
      "jruby-1.5.0.csv noise:0.218, imb:3.098,276,855, Shape:(1131, 65)\n",
      "('UBag', 'BagNB')\n",
      "0.47 [0.391, 0.518]\n",
      "('UBag', 'BagDT')\n",
      "0.45 [0.444, 0.511]\n",
      "\n",
      "22\n",
      "derby-10.3.1.4.csv noise:0.267, imb:13.051,157,2049, Shape:(2206, 65)\n",
      "('UBag', 'BagNB')\n",
      "0.64 [0.416, 0.647]\n",
      "('UBag', 'BagDT')\n",
      "0.94 [0.506, 0.699]\n",
      "\n",
      "23\n",
      "lucene-2.9.0.csv noise:0.226, imb:3.921,278,1090, Shape:(1368, 65)\n",
      "('UBag', 'BagNB')\n",
      "0.47 [0.318, 0.462]\n",
      "('UBag', 'BagDT')\n",
      "0.58 [0.411, 0.537]\n",
      "\n",
      "24\n",
      "hbase-0.94.0.csv noise:0.207, imb:14.348,69,990, Shape:(1059, 65)\n",
      "('UBag', 'BagNB')\n",
      "0.44 [0.414, 0.574]\n",
      "('UBag', 'BagDT')\n",
      "0.56 [0.51, 0.626]\n",
      "\n",
      "25\n",
      "camel-1.4.0.csv noise:0.281, imb:3.174,363,1152, Shape:(1515, 65)\n",
      "('UBag', 'BagNB')\n",
      "0.48 [0.336, 0.494]\n",
      "('UBag', 'BagDT')\n",
      "0.57 [0.405, 0.543]\n",
      "\n",
      "26\n",
      "activemq-5.1.0.csv noise:0.083, imb:13.173,139,1831, Shape:(1970, 65)\n",
      "('UBag', 'BagNB')\n",
      "0.5 [0.319, 0.421]\n",
      "('UBag', 'BagDT')\n",
      "0.55 [0.319, 0.365]\n",
      "\n",
      "27\n",
      "activemq-5.0.0.csv noise:0.139, imb:21.976,82,1802, Shape:(1884, 65)\n",
      "('UBag', 'BagNB')\n",
      "0.51 [0.459, 0.603]\n",
      "('UBag', 'BagDT')\n",
      "0.65 [0.558, 0.679]\n",
      "\n",
      "28\n",
      "derby-10.5.1.1.csv noise:0.126, imb:14.028,180,2525, Shape:(2705, 65)\n",
      "('UBag', 'BagNB')\n",
      "0.7 [0.373, 0.508]\n",
      "('UBag', 'BagDT')\n",
      "0.87 [0.407, 0.476]\n",
      "\n",
      "29\n",
      "wicket-1.3.0-beta2.csv noise:0.184, imb:4.780,305,1458, Shape:(1763, 65)\n",
      "('UBag', 'BagNB')\n",
      "0.53 [0.316, 0.383]\n",
      "('UBag', 'BagDT')\n",
      "0.54 [0.332, 0.341]\n",
      "\n",
      "30\n",
      "hive-0.12.0.csv noise:0.087, imb:56.870,46,2616, Shape:(2662, 65)\n",
      "('UBag', 'BagNB')\n",
      "0.61 [0.27, 0.222]\n",
      "('UBag', 'BagDT')\n",
      "0.72 [0.37, 0.407]\n",
      "\n",
      "31\n",
      "hive-0.9.0.csv noise:0.179, imb:25.717,53,1363, Shape:(1416, 65)\n",
      "('UBag', 'BagNB')\n",
      "0.57 [0.446, 0.625]\n",
      "('UBag', 'BagDT')\n",
      "0.65 [0.566, 0.743]\n",
      "\n",
      "CPU times: user 57.9 s, sys: 776 ms, total: 58.7 s\n",
      "Wall time: 39.7 s\n"
     ]
    }
   ],
   "source": [
    "%%time\n",
    "for it,d in enumerate(DATASETS):\n",
    "    print(it)\n",
    "    X,y_noisy,y_real = read_data(d,stats=True)\n",
    "    for k in models:\n",
    "        print(k)\n",
    "        sd = perf_counter()\n",
    "        r = evaluate(models[k],X,y_real,y_real,CV,SCORERS)\n",
    "        for f in r:\n",
    "            df.loc[d,(k[0],k[1],f)] = r[f].mean()\n",
    "        print(round(perf_counter()-sd,2),[round(r[f].mean(),3) for f in r])\n",
    "    print()\n",
    "    df.to_csv(path)"
   ]
  },
  {
   "cell_type": "code",
   "execution_count": null,
   "metadata": {},
   "outputs": [],
   "source": []
  },
  {
   "cell_type": "code",
   "execution_count": null,
   "metadata": {},
   "outputs": [],
   "source": []
  },
  {
   "cell_type": "code",
   "execution_count": null,
   "metadata": {},
   "outputs": [],
   "source": []
  },
  {
   "cell_type": "code",
   "execution_count": null,
   "metadata": {},
   "outputs": [],
   "source": []
  },
  {
   "cell_type": "code",
   "execution_count": null,
   "metadata": {},
   "outputs": [],
   "source": []
  },
  {
   "cell_type": "code",
   "execution_count": null,
   "metadata": {},
   "outputs": [],
   "source": [
    "df.shape"
   ]
  },
  {
   "cell_type": "markdown",
   "metadata": {},
   "source": [
    "## Effect of Noise on Performance"
   ]
  },
  {
   "cell_type": "code",
   "execution_count": null,
   "metadata": {},
   "outputs": [],
   "source": [
    "noise = pd.read_csv(\"Imb X Clf- Noise.csv\",header=[0,1,2],index_col=0)\n",
    "clean = pd.read_csv(\"Imb X Clf- Clean.csv\",header=[0,1,2],index_col=0)\n",
    "noise.shape,clean.shape"
   ]
  },
  {
   "cell_type": "code",
   "execution_count": null,
   "metadata": {},
   "outputs": [],
   "source": [
    "wilcoxon(noise.values.reshape(-1),clean.values.reshape(-1))"
   ]
  },
  {
   "cell_type": "code",
   "execution_count": null,
   "metadata": {},
   "outputs": [],
   "source": [
    "noise.values.mean(),clean.values.mean()"
   ]
  },
  {
   "cell_type": "code",
   "execution_count": null,
   "metadata": {},
   "outputs": [],
   "source": []
  },
  {
   "cell_type": "code",
   "execution_count": null,
   "metadata": {},
   "outputs": [],
   "source": []
  },
  {
   "cell_type": "markdown",
   "metadata": {},
   "source": [
    "## Statistical Analysis"
   ]
  },
  {
   "cell_type": "code",
   "execution_count": null,
   "metadata": {},
   "outputs": [],
   "source": [
    "from scipy.stats import wilcoxon, friedmanchisquare\n",
    "import scikit_posthocs as sp"
   ]
  },
  {
   "cell_type": "code",
   "execution_count": null,
   "metadata": {},
   "outputs": [],
   "source": [
    "boo = df.rename_axis('Datasets').reset_index()"
   ]
  },
  {
   "cell_type": "code",
   "execution_count": null,
   "metadata": {},
   "outputs": [],
   "source": [
    "res = pd.melt(boo,id_vars=['Datasets'])\n",
    "res.columns"
   ]
  },
  {
   "cell_type": "code",
   "execution_count": null,
   "metadata": {},
   "outputs": [],
   "source": [
    "res"
   ]
  },
  {
   "cell_type": "markdown",
   "metadata": {},
   "source": [
    "### Compare DT & RF & NB"
   ]
  },
  {
   "cell_type": "code",
   "execution_count": null,
   "metadata": {},
   "outputs": [],
   "source": [
    "mathew =  res[res['metric']=='matthews_corrcoef'].drop(columns=['metric'])"
   ]
  },
  {
   "cell_type": "code",
   "execution_count": null,
   "metadata": {},
   "outputs": [],
   "source": [
    "mathew = mathew[mathew['clf'].isin(['dt','rf','nb'])]\n",
    "mathew.shape"
   ]
  },
  {
   "cell_type": "code",
   "execution_count": null,
   "metadata": {},
   "outputs": [],
   "source": [
    "tmp = mathew.set_index(['Datasets','imb'])\n",
    "tmp"
   ]
  },
  {
   "cell_type": "code",
   "execution_count": null,
   "metadata": {},
   "outputs": [],
   "source": [
    "hey = tmp.pivot(columns='clf')\n",
    "hey"
   ]
  },
  {
   "cell_type": "code",
   "execution_count": null,
   "metadata": {},
   "outputs": [],
   "source": [
    "dog = hey.reset_index(drop=True)\n",
    "dog.columns = dog.columns.droplevel(0)\n",
    "dog"
   ]
  },
  {
   "cell_type": "code",
   "execution_count": null,
   "metadata": {},
   "outputs": [],
   "source": [
    "friedmanchisquare(*(dog[c] for c in dog.columns))"
   ]
  },
  {
   "cell_type": "code",
   "execution_count": null,
   "metadata": {},
   "outputs": [],
   "source": [
    "dog.mean()f"
   ]
  },
  {
   "cell_type": "code",
   "execution_count": null,
   "metadata": {},
   "outputs": [],
   "source": [
    "pvals = pd.DataFrame(columns=dog.columns,index=dog.columns,dtype='float')\n",
    "for c in dog.columns:\n",
    "    for d in dog.columns:\n",
    "        if c==d: continue\n",
    "        pvals.loc[c,d] = float(wilcoxon(dog[c],dog[d]).pvalue)\n",
    "pvals"
   ]
  },
  {
   "cell_type": "code",
   "execution_count": null,
   "metadata": {},
   "outputs": [],
   "source": [
    "from statsmodels.stats.multitest import multipletests"
   ]
  },
  {
   "cell_type": "code",
   "execution_count": null,
   "metadata": {},
   "outputs": [],
   "source": [
    "ps = pvals.values.reshape(-1)\n",
    "idx = np.isnan(ps)\n",
    "idx"
   ]
  },
  {
   "cell_type": "code",
   "execution_count": null,
   "metadata": {},
   "outputs": [],
   "source": [
    "ps[~idx]"
   ]
  },
  {
   "cell_type": "code",
   "execution_count": null,
   "metadata": {},
   "outputs": [],
   "source": [
    "multipletests(ps[~idx],method='fdr_by')"
   ]
  },
  {
   "cell_type": "code",
   "execution_count": null,
   "metadata": {},
   "outputs": [],
   "source": []
  },
  {
   "cell_type": "code",
   "execution_count": null,
   "metadata": {},
   "outputs": [],
   "source": [
    "\n",
    "\n",
    "\n",
    "\n",
    "\n",
    "\n",
    "\n",
    "\n",
    "\n",
    "\n",
    "\n",
    "\n",
    "\n",
    "\n",
    "\n",
    "\n",
    "\n",
    "\n",
    "\n",
    "\n"
   ]
  }
 ],
 "metadata": {
  "kernelspec": {
   "display_name": "Python 3",
   "language": "python",
   "name": "python3"
  },
  "language_info": {
   "codemirror_mode": {
    "name": "ipython",
    "version": 3
   },
   "file_extension": ".py",
   "mimetype": "text/x-python",
   "name": "python",
   "nbconvert_exporter": "python",
   "pygments_lexer": "ipython3",
   "version": "3.7.5"
  }
 },
 "nbformat": 4,
 "nbformat_minor": 4
}
