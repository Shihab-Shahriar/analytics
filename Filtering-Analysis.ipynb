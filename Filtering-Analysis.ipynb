{
 "cells": [
  {
   "cell_type": "code",
   "execution_count": 1,
   "metadata": {},
   "outputs": [],
   "source": [
    "import numpy as np,os # linear algebra\n",
    "import pandas as pd # data processing, CSV file I/O (e.g. pd.read_csv)import os\n",
    "from scipy.stats import wilcoxon, friedmanchisquare, rankdata, trim_mean\n",
    "import matplotlib.pyplot as plt\n",
    "import seaborn as sns\n",
    "import pingouin as pg"
   ]
  },
  {
   "cell_type": "code",
   "execution_count": 2,
   "metadata": {},
   "outputs": [],
   "source": [
    "def process(res,lev=0):\n",
    "    res = res.rename(columns={'bbag_DT':'BagDT','bbag_NB':'BagNB'},level=1)\n",
    "    \n",
    "    fils = set(res.columns.get_level_values(lev))\n",
    "    dic = {}\n",
    "    for c in fils:\n",
    "        if lev==0:\n",
    "            dic[c] = res[c].sort_index(axis=1).values.reshape(-1)\n",
    "        elif lev==1:\n",
    "            dic[c] = res.loc[:,(slice(None),c)].sort_index(axis=1).values.reshape(-1)\n",
    "    return pd.DataFrame(dic)"
   ]
  },
  {
   "cell_type": "code",
   "execution_count": 3,
   "metadata": {},
   "outputs": [],
   "source": [
    "mcc = pd.read_csv(f\"Results/All_filter_MCC.csv\",header=[0,1],index_col=0)\n",
    "prc = pd.read_csv(f\"Results/All_filter_PRC.csv\",header=[0,1],index_col=0)\n",
    "mcc = process(mcc,lev=0)\n",
    "prc = process(prc,lev=0)"
   ]
  },
  {
   "cell_type": "code",
   "execution_count": 4,
   "metadata": {},
   "outputs": [],
   "source": [
    "n_mcc = mcc['none']\n",
    "n_prc = prc['none']\n",
    "mcc.drop(columns=['none'],inplace=True)\n",
    "prc.drop(columns=['none'],inplace=True)"
   ]
  },
  {
   "cell_type": "code",
   "execution_count": 5,
   "metadata": {},
   "outputs": [],
   "source": [
    "for c in mcc:\n",
    "    mcc[c] = mcc[c] - n_mcc\n",
    "    prc[c] = prc[c] - n_prc"
   ]
  },
  {
   "cell_type": "code",
   "execution_count": 6,
   "metadata": {},
   "outputs": [
    {
     "data": {
      "text/plain": [
       "((4608, 3), Index(['Metric', 'Filter', 'Value'], dtype='object'))"
      ]
     },
     "execution_count": 6,
     "metadata": {},
     "output_type": "execute_result"
    }
   ],
   "source": [
    "comb = pd.concat([pd.melt(mcc.assign(Metric='dMCC'),id_vars='Metric'),\n",
    "                  pd.melt(prc.assign(Metric='dAPRC'),id_vars='Metric')],axis=0)\n",
    "comb.columns =['Metric', 'Filter', 'Value']\n",
    "comb.shape,comb.columns"
   ]
  },
  {
   "cell_type": "code",
   "execution_count": 7,
   "metadata": {},
   "outputs": [],
   "source": [
    "comb.Filter = comb.Filter.apply(lambda x:x.upper())\n",
    "comb.Filter = comb.Filter.apply(lambda x:'SPIDER2' if x=='SPYDER' else x)"
   ]
  },
  {
   "cell_type": "code",
   "execution_count": 8,
   "metadata": {},
   "outputs": [
    {
     "data": {
      "image/png": "[encoded data removed]",
      "text/plain": [
       "<Figure size 720x432 with 1 Axes>"
      ]
     },
     "metadata": {},
     "output_type": "display_data"
    }
   ],
   "source": [
    "plt.figure(figsize=(10,6))\n",
    "plt.ylim(-.25,.3)\n",
    "f = sns.boxplot(x='Filter',y='Value',data=comb,hue='Metric',width=.5,fliersize=3);"
   ]
  },
  {
   "cell_type": "code",
   "execution_count": null,
   "metadata": {},
   "outputs": [],
   "source": []
  },
  {
   "cell_type": "code",
   "execution_count": 9,
   "metadata": {},
   "outputs": [
    {
     "name": "stdout",
     "output_type": "stream",
     "text": [
      "ipf & 0.2752 & 0.00023018848918810212 & -0.1308 &\n",
      "enn & 0.2762 & 0.8153091730918904 & -0.0795 &\n",
      "clni & 0.2765 & 0.8534851563741173 & -0.0988 &\n",
      "smote_enc & 0.2885 & 0.30239811748937506 & 0.0380 &\n",
      "ihthres & 0.2776 & 0.16385617745041692 & -0.0788 &\n",
      "smote_ipf & 0.3097 & 5.155699125599004e-12 & 0.2746 &\n",
      "ncl & 0.3001 & 2.510080989317358e-14 & 0.1555 &\n",
      "ihf & 0.2811 & 0.21637828059559816 & -0.0612 &\n",
      "spyder & 0.2738 & 0.0006927655575768012 & -0.1210 &\n"
     ]
    }
   ],
   "source": [
    "df = {}\n",
    "for c in mcc:\n",
    "    pv = wilcoxon(mcc[c]+n_mcc,n_mcc).pvalue\n",
    "    eff = pg.effsize.compute_effsize(mcc[c]+n_mcc,n_mcc,paired=True,eftype='hedges')\n",
    "    print(f\"{c} & {trim_mean(mcc[c]+n_mcc,.05):.4f} & {pv} & {eff:.4f} &\")"
   ]
  },
  {
   "cell_type": "code",
   "execution_count": 10,
   "metadata": {},
   "outputs": [
    {
     "name": "stdout",
     "output_type": "stream",
     "text": [
      "ipf,0.4358 & 6.366451858088375e-10 & 0.2052\n",
      "enn,0.4089 & 0.00034186773441726527 & 0.0449\n",
      "clni,0.4199 & 2.6792559680572654e-07 & 0.1192\n",
      "smote_enc,0.4214 & 5.166334510568681e-10 & 0.1192\n",
      "ihthres,0.4550 & 4.625028696968434e-24 & 0.3559\n",
      "smote_ipf,0.4437 & 4.5662260282068795e-20 & 0.2737\n",
      "ncl,0.4207 & 2.720067986272718e-20 & 0.1269\n",
      "ihf,0.4242 & 9.848930358674078e-09 & 0.1380\n",
      "spyder,0.3976 & 0.013546888390769746 & -0.0390\n"
     ]
    }
   ],
   "source": [
    "for c in prc:\n",
    "    pv = wilcoxon(prc[c]+n_prc,n_prc).pvalue\n",
    "    eff = pg.effsize.compute_effsize(prc[c]+n_prc,n_prc,paired=True,eftype='hedges')\n",
    "    print(f\"{c},{trim_mean(prc[c]+n_prc,.05):.4f} & {pv} & {eff:.4f}\")"
   ]
  },
  {
   "cell_type": "code",
   "execution_count": null,
   "metadata": {},
   "outputs": [],
   "source": []
  },
  {
   "cell_type": "markdown",
   "metadata": {},
   "source": [
    "## Classifier-based View"
   ]
  },
  {
   "cell_type": "code",
   "execution_count": 11,
   "metadata": {},
   "outputs": [
    {
     "data": {
      "text/plain": [
       "(32, 80)"
      ]
     },
     "execution_count": 11,
     "metadata": {},
     "output_type": "execute_result"
    }
   ],
   "source": [
    "mcc = pd.read_csv(f\"Results/All_filter_MCC.csv\",header=[0,1],index_col=0)\n",
    "prc = pd.read_csv(f\"Results/All_filter_PRC.csv\",header=[0,1],index_col=0)\n",
    "mcc = mcc.rename(columns={'bbag_DT':'BagDT','bbag_NB':'BagNB'},level=1)\n",
    "prc = prc.rename(columns={'bbag_DT':'BagDT','bbag_NB':'BagNB'},level=1)\n",
    "prc.shape"
   ]
  },
  {
   "cell_type": "code",
   "execution_count": 12,
   "metadata": {},
   "outputs": [
    {
     "name": "stderr",
     "output_type": "stream",
     "text": [
      "/home/shihab/anaconda3/envs/ana/lib/python3.7/site-packages/pandas/core/generic.py:3946: PerformanceWarning: dropping on a non-lexsorted multi-index without a level parameter may impact performance.\n",
      "  new_axis = axis.drop(labels, errors=errors)\n"
     ]
    }
   ],
   "source": [
    "n_mcc = mcc['none']\n",
    "n_prc = prc['none']\n",
    "mcc.drop(columns=['none'],inplace=True)\n",
    "prc.drop(columns=['none'],inplace=True)"
   ]
  },
  {
   "cell_type": "code",
   "execution_count": 13,
   "metadata": {},
   "outputs": [],
   "source": [
    "mcc.columns.names = ['Filter', 'clf']\n",
    "prc.columns.names = ['Filter', 'clf']"
   ]
  },
  {
   "cell_type": "code",
   "execution_count": 14,
   "metadata": {},
   "outputs": [],
   "source": [
    "mcc_med = mcc.max(axis=1,level=1) - n_mcc\n",
    "prc_med = prc.max(axis=1,level=1) - n_prc #.sort_index(axis=1)"
   ]
  },
  {
   "cell_type": "code",
   "execution_count": 15,
   "metadata": {},
   "outputs": [
    {
     "data": {
      "text/plain": [
       "((512, 3), Index(['Metric', 'Classifier', 'Value'], dtype='object'))"
      ]
     },
     "execution_count": 15,
     "metadata": {},
     "output_type": "execute_result"
    }
   ],
   "source": [
    "comb = pd.concat([pd.melt(mcc_med.assign(Metric='dMCC'),id_vars=['Metric']),\n",
    "                pd.melt(prc_med.assign(Metric='dAPRC'),id_vars=['Metric'])])\n",
    "comb.columns = ['Metric', 'Classifier', 'Value']\n",
    "comb.shape,comb.columns"
   ]
  },
  {
   "cell_type": "code",
   "execution_count": 16,
   "metadata": {},
   "outputs": [],
   "source": [
    "comb['Classifier'] = comb['Classifier'].apply(lambda x: x.upper() if x.islower() else x)"
   ]
  },
  {
   "cell_type": "code",
   "execution_count": 17,
   "metadata": {},
   "outputs": [
    {
     "data": {
      "image/png": "[encoded data removed]",
      "text/plain": [
       "<Figure size 576x432 with 1 Axes>"
      ]
     },
     "metadata": {},
     "output_type": "display_data"
    }
   ],
   "source": [
    "plt.figure(figsize=(8,6))\n",
    "f = sns.boxplot(x='Classifier',y='Value',data=comb,hue='Metric',width=.5);"
   ]
  },
  {
   "cell_type": "code",
   "execution_count": null,
   "metadata": {},
   "outputs": [],
   "source": []
  },
  {
   "cell_type": "code",
   "execution_count": null,
   "metadata": {},
   "outputs": [],
   "source": []
  },
  {
   "cell_type": "code",
   "execution_count": null,
   "metadata": {},
   "outputs": [],
   "source": []
  },
  {
   "cell_type": "code",
   "execution_count": null,
   "metadata": {},
   "outputs": [],
   "source": [
    "\n",
    "\n",
    "\n",
    "\n",
    "\n",
    "\n",
    "\n",
    "\n",
    "\n",
    "\n",
    "\n",
    "\n",
    "\n",
    "\n",
    "\n",
    "\n",
    "\n",
    "\n",
    "\n",
    "\n"
   ]
  }
 ],
 "metadata": {
  "kernelspec": {
   "display_name": "Python 3",
   "language": "python",
   "name": "python3"
  },
  "language_info": {
   "codemirror_mode": {
    "name": "ipython",
    "version": 3
   },
   "file_extension": ".py",
   "mimetype": "text/x-python",
   "name": "python",
   "nbconvert_exporter": "python",
   "pygments_lexer": "ipython3",
   "version": "3.7.5"
  }
 },
 "nbformat": 4,
 "nbformat_minor": 4
}
