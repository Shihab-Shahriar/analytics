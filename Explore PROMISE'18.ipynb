{
 "cells": [
  {
   "cell_type": "code",
   "execution_count": 2,
   "metadata": {},
   "outputs": [],
   "source": [
    "import numpy as np\n",
    "import pandas as pd\n",
    "from sklearn.preprocessing import LabelEncoder, StandardScaler, PowerTransformer\n",
    "from sklearn.tree import DecisionTreeClassifier\n",
    "from sklearn.neighbors import KNeighborsClassifier\n",
    "from sklearn.ensemble import RandomForestClassifier\n",
    "from sklearn.svm import SVC\n",
    "from sklearn.model_selection import cross_val_score, RepeatedStratifiedKFold, GridSearchCV\n",
    "from sklearn.utils import shuffle\n",
    "from scipy.io import arff\n",
    "import matplotlib.pyplot as plt"
   ]
  },
  {
   "cell_type": "code",
   "execution_count": 5,
   "metadata": {},
   "outputs": [
    {
     "data": {
      "text/plain": [
       "((43744, 11),\n",
       " Index(['ID', 'Name', 'LongName', 'Parent', 'McCC', 'CLOC', 'PDA', 'PUA',\n",
       "        'LLOC', 'LOC', 'bug'],\n",
       "       dtype='object'),\n",
       " (array([dtype('int64'), dtype('O')], dtype=object), array([7, 4])))"
      ]
     },
     "execution_count": 5,
     "metadata": {},
     "output_type": "execute_result"
    }
   ],
   "source": [
    "df = pd.read_csv(\"Unified-file.csv\")\n",
    "df.shape,df.columns,np.unique(df.dtypes,return_counts=True)"
   ]
  },
  {
   "cell_type": "code",
   "execution_count": 6,
   "metadata": {},
   "outputs": [
    {
     "data": {
      "text/plain": [
       "((43744, 7),\n",
       " Index(['McCC', 'CLOC', 'PDA', 'PUA', 'LLOC', 'LOC', 'bug'], dtype='object'),\n",
       " (array([dtype('int64')], dtype=object), array([7])))"
      ]
     },
     "execution_count": 6,
     "metadata": {},
     "output_type": "execute_result"
    }
   ],
   "source": [
    "cat_cols = df.columns[df.dtypes==object]\n",
    "df = df.drop(columns=cat_cols)\n",
    "df.shape,df.columns,np.unique(df.dtypes,return_counts=True)"
   ]
  },
  {
   "cell_type": "code",
   "execution_count": 7,
   "metadata": {},
   "outputs": [
    {
     "data": {
      "text/plain": [
       "(43744, 6)"
      ]
     },
     "execution_count": 7,
     "metadata": {},
     "output_type": "execute_result"
    }
   ],
   "source": [
    "df['bug'] = np.where(df['bug']>0,1,0)\n",
    "Y = df['bug'].values\n",
    "X = df.drop(columns=['bug']).values\n",
    "X,Y = shuffle(X,Y)\n",
    "X.shape"
   ]
  },
  {
   "cell_type": "code",
   "execution_count": 8,
   "metadata": {},
   "outputs": [
    {
     "data": {
      "text/html": [
       "<div>\n",
       "<style scoped>\n",
       "    .dataframe tbody tr th:only-of-type {\n",
       "        vertical-align: middle;\n",
       "    }\n",
       "\n",
       "    .dataframe tbody tr th {\n",
       "        vertical-align: top;\n",
       "    }\n",
       "\n",
       "    .dataframe thead th {\n",
       "        text-align: right;\n",
       "    }\n",
       "</style>\n",
       "<table border=\"1\" class=\"dataframe\">\n",
       "  <thead>\n",
       "    <tr style=\"text-align: right;\">\n",
       "      <th></th>\n",
       "      <th>McCC</th>\n",
       "      <th>CLOC</th>\n",
       "      <th>PDA</th>\n",
       "      <th>PUA</th>\n",
       "      <th>LLOC</th>\n",
       "      <th>LOC</th>\n",
       "      <th>bug</th>\n",
       "    </tr>\n",
       "  </thead>\n",
       "  <tbody>\n",
       "    <tr>\n",
       "      <th>count</th>\n",
       "      <td>43744.000000</td>\n",
       "      <td>43744.0</td>\n",
       "      <td>43744.000000</td>\n",
       "      <td>43744.000000</td>\n",
       "      <td>43744.000000</td>\n",
       "      <td>43744.000000</td>\n",
       "      <td>43744.000000</td>\n",
       "    </tr>\n",
       "    <tr>\n",
       "      <th>mean</th>\n",
       "      <td>15.846402</td>\n",
       "      <td>0.0</td>\n",
       "      <td>3.555230</td>\n",
       "      <td>3.770780</td>\n",
       "      <td>112.850974</td>\n",
       "      <td>187.842058</td>\n",
       "      <td>0.234089</td>\n",
       "    </tr>\n",
       "    <tr>\n",
       "      <th>std</th>\n",
       "      <td>49.896151</td>\n",
       "      <td>0.0</td>\n",
       "      <td>7.393114</td>\n",
       "      <td>12.943673</td>\n",
       "      <td>217.998650</td>\n",
       "      <td>315.841726</td>\n",
       "      <td>0.423433</td>\n",
       "    </tr>\n",
       "    <tr>\n",
       "      <th>min</th>\n",
       "      <td>1.000000</td>\n",
       "      <td>0.0</td>\n",
       "      <td>0.000000</td>\n",
       "      <td>0.000000</td>\n",
       "      <td>0.000000</td>\n",
       "      <td>4.000000</td>\n",
       "      <td>0.000000</td>\n",
       "    </tr>\n",
       "    <tr>\n",
       "      <th>25%</th>\n",
       "      <td>1.000000</td>\n",
       "      <td>0.0</td>\n",
       "      <td>0.000000</td>\n",
       "      <td>0.000000</td>\n",
       "      <td>19.000000</td>\n",
       "      <td>51.000000</td>\n",
       "      <td>0.000000</td>\n",
       "    </tr>\n",
       "    <tr>\n",
       "      <th>50%</th>\n",
       "      <td>4.000000</td>\n",
       "      <td>0.0</td>\n",
       "      <td>1.000000</td>\n",
       "      <td>1.000000</td>\n",
       "      <td>50.000000</td>\n",
       "      <td>96.000000</td>\n",
       "      <td>0.000000</td>\n",
       "    </tr>\n",
       "    <tr>\n",
       "      <th>75%</th>\n",
       "      <td>14.000000</td>\n",
       "      <td>0.0</td>\n",
       "      <td>4.000000</td>\n",
       "      <td>4.000000</td>\n",
       "      <td>121.000000</td>\n",
       "      <td>198.000000</td>\n",
       "      <td>0.000000</td>\n",
       "    </tr>\n",
       "    <tr>\n",
       "      <th>max</th>\n",
       "      <td>5483.000000</td>\n",
       "      <td>0.0</td>\n",
       "      <td>372.000000</td>\n",
       "      <td>843.000000</td>\n",
       "      <td>11296.000000</td>\n",
       "      <td>13508.000000</td>\n",
       "      <td>1.000000</td>\n",
       "    </tr>\n",
       "  </tbody>\n",
       "</table>\n",
       "</div>"
      ],
      "text/plain": [
       "               McCC     CLOC           PDA           PUA          LLOC  \\\n",
       "count  43744.000000  43744.0  43744.000000  43744.000000  43744.000000   \n",
       "mean      15.846402      0.0      3.555230      3.770780    112.850974   \n",
       "std       49.896151      0.0      7.393114     12.943673    217.998650   \n",
       "min        1.000000      0.0      0.000000      0.000000      0.000000   \n",
       "25%        1.000000      0.0      0.000000      0.000000     19.000000   \n",
       "50%        4.000000      0.0      1.000000      1.000000     50.000000   \n",
       "75%       14.000000      0.0      4.000000      4.000000    121.000000   \n",
       "max     5483.000000      0.0    372.000000    843.000000  11296.000000   \n",
       "\n",
       "                LOC           bug  \n",
       "count  43744.000000  43744.000000  \n",
       "mean     187.842058      0.234089  \n",
       "std      315.841726      0.423433  \n",
       "min        4.000000      0.000000  \n",
       "25%       51.000000      0.000000  \n",
       "50%       96.000000      0.000000  \n",
       "75%      198.000000      0.000000  \n",
       "max    13508.000000      1.000000  "
      ]
     },
     "execution_count": 8,
     "metadata": {},
     "output_type": "execute_result"
    }
   ],
   "source": [
    "df.describe()"
   ]
  },
  {
   "cell_type": "code",
   "execution_count": 9,
   "metadata": {},
   "outputs": [
    {
     "data": {
      "text/plain": [
       "(array([0, 1]), array([33504, 10240]))"
      ]
     },
     "execution_count": 9,
     "metadata": {},
     "output_type": "execute_result"
    }
   ],
   "source": [
    "np.unique(Y,return_counts=True)"
   ]
  },
  {
   "cell_type": "code",
   "execution_count": 14,
   "metadata": {},
   "outputs": [
    {
     "name": "stderr",
     "output_type": "stream",
     "text": [
      "/home/shihab/anaconda3/lib/python3.7/site-packages/ipykernel_launcher.py:3: UserWarning: To output multiple subplots, the figure containing the passed axes is being cleared\n",
      "  This is separate from the ipykernel package so we can avoid doing imports until\n"
     ]
    },
    {
     "data": {
      "image/png": "[encoded data removed]",
      "text/plain": [
       "<Figure size 720x720 with 9 Axes>"
      ]
     },
     "metadata": {
      "needs_background": "light"
     },
     "output_type": "display_data"
    }
   ],
   "source": [
    "fig = plt.figure(figsize = (10,10))\n",
    "ax = fig.gca()\n",
    "df.hist(ax = ax);"
   ]
  },
  {
   "cell_type": "code",
   "execution_count": 11,
   "metadata": {},
   "outputs": [],
   "source": [
    "dt = GridSearchCV(DecisionTreeClassifier(),{'max_leaf_nodes':[10,50,None]},cv=4,iid=False)\n",
    "rf = RandomForestClassifier(n_estimators=500)\n",
    "svm = GridSearchCV(SVC(gamma='scale'),{'C':[0.1, 1, 10]},cv=4,iid=False)\n",
    "knn = GridSearchCV(KNeighborsClassifier(),{'n_neighbors':[3,5,10,20]},cv=4,iid=False)"
   ]
  },
  {
   "cell_type": "code",
   "execution_count": 12,
   "metadata": {},
   "outputs": [
    {
     "name": "stderr",
     "output_type": "stream",
     "text": [
      "/home/shihab/anaconda3/lib/python3.7/site-packages/joblib/externals/loky/process_executor.py:706: UserWarning: A worker stopped while some jobs were given to the executor. This can be caused by a too short worker timeout or by a memory leak.\n",
      "  \"timeout or by a memory leak.\", UserWarning\n",
      "/home/shihab/anaconda3/lib/python3.7/site-packages/joblib/externals/loky/process_executor.py:706: UserWarning: A worker stopped while some jobs were given to the executor. This can be caused by a too short worker timeout or by a memory leak.\n",
      "  \"timeout or by a memory leak.\", UserWarning\n",
      "/home/shihab/anaconda3/lib/python3.7/site-packages/joblib/externals/loky/process_executor.py:706: UserWarning: A worker stopped while some jobs were given to the executor. This can be caused by a too short worker timeout or by a memory leak.\n",
      "  \"timeout or by a memory leak.\", UserWarning\n"
     ]
    },
    {
     "data": {
      "text/plain": [
       "(0.4216370402462713,\n",
       " 0.015862730681040937,\n",
       " array([0.39454976, 0.4331582 , 0.44753623, 0.42773893, 0.42123687,\n",
       "        0.40281856, 0.44547028, 0.40373396, 0.41489971, 0.42142437,\n",
       "        0.41799882, 0.42988506, 0.41893491, 0.40612125, 0.40612125,\n",
       "        0.40873257, 0.42924528, 0.43882826, 0.43523316, 0.42371906,\n",
       "        0.42589438, 0.41780415, 0.44686962, 0.41061947, 0.41456254,\n",
       "        0.36720143, 0.40504808, 0.43438395, 0.43644806, 0.44729179,\n",
       "        0.42424242, 0.43988604, 0.42555619, 0.43331392, 0.42840647,\n",
       "        0.39545998, 0.40911818, 0.4176611 , 0.44457209, 0.40301974,\n",
       "        0.43313609, 0.41524927, 0.40876777, 0.43913803, 0.41520468,\n",
       "        0.41543027, 0.42938497, 0.41613092, 0.41805226, 0.43661171]))"
      ]
     },
     "execution_count": 12,
     "metadata": {},
     "output_type": "execute_result"
    }
   ],
   "source": [
    "cv = RepeatedStratifiedKFold(n_repeats=5,n_splits=10)\n",
    "res = cross_val_score(rf,X,Y,cv=cv,scoring='f1',n_jobs=-1)\n",
    "res.mean(),res.std(), res"
   ]
  },
  {
   "cell_type": "code",
   "execution_count": null,
   "metadata": {},
   "outputs": [],
   "source": []
  },
  {
   "cell_type": "code",
   "execution_count": null,
   "metadata": {},
   "outputs": [],
   "source": [
    "\n",
    "\n",
    "\n",
    "\n",
    "\n",
    "\n",
    "\n",
    "\n",
    "\n",
    "\n",
    "\n",
    "\n",
    "\n",
    "\n",
    "\n",
    "\n",
    "\n",
    "\n",
    "\n",
    "\n",
    "\n",
    "\n"
   ]
  }
 ],
 "metadata": {
  "kernelspec": {
   "display_name": "Python 3",
   "language": "python",
   "name": "python3"
  },
  "language_info": {
   "codemirror_mode": {
    "name": "ipython",
    "version": 3
   },
   "file_extension": ".py",
   "mimetype": "text/x-python",
   "name": "python",
   "nbconvert_exporter": "python",
   "pygments_lexer": "ipython3",
   "version": "3.7.3"
  }
 },
 "nbformat": 4,
 "nbformat_minor": 4
}
