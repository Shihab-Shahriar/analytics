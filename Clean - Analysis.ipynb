{
 "cells": [
  {
   "cell_type": "code",
   "execution_count": 1,
   "metadata": {},
   "outputs": [],
   "source": [
    "import numpy as np\n",
    "import pandas as pd,os\n",
    "from scipy.stats import wilcoxon, friedmanchisquare, rankdata\n",
    "import scikit_posthocs as sp"
   ]
  },
  {
   "cell_type": "markdown",
   "metadata": {},
   "source": [
    "## Notes\n",
    "+ NB tops ranking with both metrics for Noisy data\n",
    "+ RF & LR (both simple & balanced) tops for Clean datasets. Interestingly, simple methods without imbalanced technique (RF & LR) performs better than rest."
   ]
  },
  {
   "cell_type": "code",
   "execution_count": 5,
   "metadata": {},
   "outputs": [],
   "source": [
    "def process(df,bigger_better=True):\n",
    "    tmp = df.drop(columns=['pr_rec_score'],axis=1,level=2)\n",
    "    mat = tmp.droplevel(2,axis=1)\n",
    "    rank = mat.copy()\n",
    "    for d in mat.index:\n",
    "        if bigger_better:\n",
    "            rank.loc[d] = rankdata(1 - mat.loc[d])\n",
    "        else:\n",
    "            rank.loc[d] = rankdata(mat.loc[d])\n",
    "    return rank, mat"
   ]
  },
  {
   "cell_type": "code",
   "execution_count": 8,
   "metadata": {},
   "outputs": [
    {
     "name": "stdout",
     "output_type": "stream",
     "text": [
      "(32, 60)\n"
     ]
    }
   ],
   "source": [
    "noisy = pd.read_csv(\"Noisy.csv\",header=[0,1,2],index_col=0)\n",
    "clean = pd.read_csv(\"Clean.csv\",header=[0,1,2],index_col=0)\n",
    "df = clean\n",
    "boo = \"Clean\"\n",
    "print(df.shape)"
   ]
  },
  {
   "cell_type": "code",
   "execution_count": 6,
   "metadata": {},
   "outputs": [],
   "source": [
    "rank, raw = process(df,bigger_better=True)"
   ]
  },
  {
   "cell_type": "code",
   "execution_count": null,
   "metadata": {},
   "outputs": [],
   "source": [
    "rank.mean().sort_values()"
   ]
  },
  {
   "cell_type": "code",
   "execution_count": null,
   "metadata": {},
   "outputs": [],
   "source": [
    "rank.mean(level=0,axis=1).mean()"
   ]
  },
  {
   "cell_type": "code",
   "execution_count": null,
   "metadata": {},
   "outputs": [],
   "source": [
    "rank.mean(level=1,axis=1).mean()"
   ]
  },
  {
   "cell_type": "code",
   "execution_count": null,
   "metadata": {},
   "outputs": [],
   "source": [
    "import seaborn as sns\n",
    "import matplotlib.pyplot as plt"
   ]
  },
  {
   "cell_type": "code",
   "execution_count": null,
   "metadata": {},
   "outputs": [],
   "source": [
    "plt.figure(figsize=(15,6))\n",
    "fig = sns.boxplot(data=mat.mean(level=1,axis=1));"
   ]
  },
  {
   "cell_type": "code",
   "execution_count": null,
   "metadata": {},
   "outputs": [],
   "source": [
    "plt.figure(figsize=(10,6))\n",
    "fig = sns.boxplot(data=mat.mean(level=0,axis=1));"
   ]
  },
  {
   "cell_type": "code",
   "execution_count": 43,
   "metadata": {},
   "outputs": [],
   "source": [
    "nrank, nraw = process(noisy,bigger_better=True)\n",
    "crank, craw = process(clean,bigger_better=True)"
   ]
  },
  {
   "cell_type": "code",
   "execution_count": null,
   "metadata": {},
   "outputs": [],
   "source": [
    "def "
   ]
  },
  {
   "cell_type": "code",
   "execution_count": 47,
   "metadata": {},
   "outputs": [
    {
     "data": {
      "text/html": [
       "<div>\n",
       "<style scoped>\n",
       "    .dataframe tbody tr th:only-of-type {\n",
       "        vertical-align: middle;\n",
       "    }\n",
       "\n",
       "    .dataframe tbody tr th {\n",
       "        vertical-align: top;\n",
       "    }\n",
       "\n",
       "    .dataframe thead th {\n",
       "        text-align: right;\n",
       "    }\n",
       "</style>\n",
       "<table border=\"1\" class=\"dataframe\">\n",
       "  <thead>\n",
       "    <tr style=\"text-align: right;\">\n",
       "      <th></th>\n",
       "      <th>tomek</th>\n",
       "      <th>smote</th>\n",
       "      <th>wilson</th>\n",
       "      <th>rus</th>\n",
       "      <th>None</th>\n",
       "    </tr>\n",
       "  </thead>\n",
       "  <tbody>\n",
       "    <tr>\n",
       "      <th>0</th>\n",
       "      <td>0.198934</td>\n",
       "      <td>0.155332</td>\n",
       "      <td>0.224518</td>\n",
       "      <td>0.183202</td>\n",
       "      <td>0.159759</td>\n",
       "    </tr>\n",
       "    <tr>\n",
       "      <th>1</th>\n",
       "      <td>0.269105</td>\n",
       "      <td>0.258343</td>\n",
       "      <td>0.281940</td>\n",
       "      <td>0.252055</td>\n",
       "      <td>0.257837</td>\n",
       "    </tr>\n",
       "    <tr>\n",
       "      <th>2</th>\n",
       "      <td>0.293318</td>\n",
       "      <td>0.289277</td>\n",
       "      <td>0.283433</td>\n",
       "      <td>0.282902</td>\n",
       "      <td>0.293476</td>\n",
       "    </tr>\n",
       "    <tr>\n",
       "      <th>3</th>\n",
       "      <td>0.270484</td>\n",
       "      <td>0.244927</td>\n",
       "      <td>0.278077</td>\n",
       "      <td>0.262078</td>\n",
       "      <td>0.258982</td>\n",
       "    </tr>\n",
       "    <tr>\n",
       "      <th>4</th>\n",
       "      <td>0.224833</td>\n",
       "      <td>0.205081</td>\n",
       "      <td>0.224180</td>\n",
       "      <td>0.206669</td>\n",
       "      <td>0.215805</td>\n",
       "    </tr>\n",
       "    <tr>\n",
       "      <th>...</th>\n",
       "      <td>...</td>\n",
       "      <td>...</td>\n",
       "      <td>...</td>\n",
       "      <td>...</td>\n",
       "      <td>...</td>\n",
       "    </tr>\n",
       "    <tr>\n",
       "      <th>187</th>\n",
       "      <td>0.258461</td>\n",
       "      <td>0.356910</td>\n",
       "      <td>0.327780</td>\n",
       "      <td>0.398326</td>\n",
       "      <td>0.244332</td>\n",
       "    </tr>\n",
       "    <tr>\n",
       "      <th>188</th>\n",
       "      <td>0.467982</td>\n",
       "      <td>0.459363</td>\n",
       "      <td>0.463194</td>\n",
       "      <td>0.448166</td>\n",
       "      <td>0.469369</td>\n",
       "    </tr>\n",
       "    <tr>\n",
       "      <th>189</th>\n",
       "      <td>0.206250</td>\n",
       "      <td>0.360129</td>\n",
       "      <td>0.310602</td>\n",
       "      <td>0.445768</td>\n",
       "      <td>0.153327</td>\n",
       "    </tr>\n",
       "    <tr>\n",
       "      <th>190</th>\n",
       "      <td>0.185296</td>\n",
       "      <td>0.295384</td>\n",
       "      <td>0.294363</td>\n",
       "      <td>0.438735</td>\n",
       "      <td>0.171549</td>\n",
       "    </tr>\n",
       "    <tr>\n",
       "      <th>191</th>\n",
       "      <td>0.237946</td>\n",
       "      <td>0.290587</td>\n",
       "      <td>0.352878</td>\n",
       "      <td>0.427880</td>\n",
       "      <td>0.198918</td>\n",
       "    </tr>\n",
       "  </tbody>\n",
       "</table>\n",
       "<p>192 rows × 5 columns</p>\n",
       "</div>"
      ],
      "text/plain": [
       "        tomek     smote    wilson       rus      None\n",
       "0    0.198934  0.155332  0.224518  0.183202  0.159759\n",
       "1    0.269105  0.258343  0.281940  0.252055  0.257837\n",
       "2    0.293318  0.289277  0.283433  0.282902  0.293476\n",
       "3    0.270484  0.244927  0.278077  0.262078  0.258982\n",
       "4    0.224833  0.205081  0.224180  0.206669  0.215805\n",
       "..        ...       ...       ...       ...       ...\n",
       "187  0.258461  0.356910  0.327780  0.398326  0.244332\n",
       "188  0.467982  0.459363  0.463194  0.448166  0.469369\n",
       "189  0.206250  0.360129  0.310602  0.445768  0.153327\n",
       "190  0.185296  0.295384  0.294363  0.438735  0.171549\n",
       "191  0.237946  0.290587  0.352878  0.427880  0.198918\n",
       "\n",
       "[192 rows x 5 columns]"
      ]
     },
     "execution_count": 47,
     "metadata": {},
     "output_type": "execute_result"
    }
   ],
   "source": [
    "lev = 0\n",
    "cols = set(nraw.columns.get_level_values(lev))\n",
    "dic = pd.DataFrame({c:nraw[c].values.reshape(-1) for c in cols})\n",
    "dic"
   ]
  },
  {
   "cell_type": "code",
   "execution_count": null,
   "metadata": {},
   "outputs": [],
   "source": []
  },
  {
   "cell_type": "code",
   "execution_count": null,
   "metadata": {},
   "outputs": [],
   "source": []
  },
  {
   "cell_type": "code",
   "execution_count": null,
   "metadata": {},
   "outputs": [],
   "source": []
  },
  {
   "cell_type": "code",
   "execution_count": null,
   "metadata": {},
   "outputs": [],
   "source": []
  },
  {
   "cell_type": "code",
   "execution_count": null,
   "metadata": {},
   "outputs": [],
   "source": [
    "\n",
    "\n",
    "\n",
    "\n",
    "\n",
    "\n",
    "\n",
    "\n",
    "\n",
    "\n",
    "\n",
    "\n",
    "\n",
    "\n",
    "\n",
    "\n",
    "\n"
   ]
  },
  {
   "cell_type": "code",
   "execution_count": null,
   "metadata": {},
   "outputs": [],
   "source": []
  }
 ],
 "metadata": {
  "kernelspec": {
   "display_name": "Python 3",
   "language": "python",
   "name": "python3"
  },
  "language_info": {
   "codemirror_mode": {
    "name": "ipython",
    "version": 3
   },
   "file_extension": ".py",
   "mimetype": "text/x-python",
   "name": "python",
   "nbconvert_exporter": "python",
   "pygments_lexer": "ipython3",
   "version": "3.7.5"
  }
 },
 "nbformat": 4,
 "nbformat_minor": 4
}
