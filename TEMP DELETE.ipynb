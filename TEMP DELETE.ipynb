{
 "cells": [
  {
   "cell_type": "code",
   "execution_count": 2,
   "metadata": {},
   "outputs": [],
   "source": [
    "from time import perf_counter\n",
    "import numpy as np,os\n",
    "import pandas as pd\n",
    "from sklearn.preprocessing import LabelEncoder, StandardScaler, power_transform, MinMaxScaler\n",
    "from sklearn.tree import DecisionTreeClassifier\n",
    "from sklearn.linear_model import LogisticRegression\n",
    "from sklearn.naive_bayes import GaussianNB\n",
    "from sklearn.neighbors import KNeighborsClassifier\n",
    "from sklearn.ensemble import RandomForestClassifier, AdaBoostClassifier\n",
    "from sklearn.svm import SVC\n",
    "from sklearn.model_selection import cross_val_score, RepeatedStratifiedKFold, GridSearchCV, cross_val_predict\n",
    "from sklearn.utils import shuffle\n",
    "from sklearn.metrics import matthews_corrcoef, precision_recall_curve, auc, accuracy_score\n",
    "from imblearn.over_sampling import SMOTE\n",
    "from imblearn.under_sampling import RandomUnderSampler, EditedNearestNeighbours, TomekLinks\n",
    "from imblearn.ensemble import RUSBoostClassifier, BalancedRandomForestClassifier, BalancedBaggingClassifier\n",
    "from imblearn.pipeline import Pipeline\n",
    "import seaborn as sns,matplotlib.pyplot as plt\n",
    "\n",
    "from library.configs import IMBS, CLFS, ENSEMBLES, CV, SCORERS\n",
    "from library.utils import evaluate, read_data"
   ]
  },
  {
   "cell_type": "code",
   "execution_count": 3,
   "metadata": {},
   "outputs": [
    {
     "data": {
      "text/plain": [
       "32"
      ]
     },
     "execution_count": 3,
     "metadata": {},
     "output_type": "execute_result"
    }
   ],
   "source": [
    "DATASETS = ['groovy-1_5_7.csv','jruby-1.4.0.csv','lucene-2.9.0.csv','jruby-1.7.0.preview1.csv','groovy-1_6_BETA_1.csv',\n",
    "        'derby-10.2.1.6.csv','wicket-1.5.3.csv','camel-2.9.0.csv','camel-1.4.0.csv','activemq-5.8.0.csv']\n",
    "DATASETS = [f for f in os.listdir(\"JIRA/\") if 'csv' in f]\n",
    "len(DATASETS)"
   ]
  },
  {
   "cell_type": "code",
   "execution_count": 4,
   "metadata": {},
   "outputs": [
    {
     "data": {
      "text/plain": [
       "(dict_keys([('smote', 'dt'), ('smote', 'lr'), ('smote', 'nb'), ('smote', 'svm'), ('smote', 'knn'), ('smote', 'rf'), ('rus', 'dt'), ('rus', 'lr'), ('rus', 'nb'), ('rus', 'svm'), ('rus', 'knn'), ('rus', 'rf'), ('wilson', 'dt'), ('wilson', 'lr'), ('wilson', 'nb'), ('wilson', 'svm'), ('wilson', 'knn'), ('wilson', 'rf'), ('tomek', 'dt'), ('tomek', 'lr'), ('tomek', 'nb'), ('tomek', 'svm'), ('tomek', 'knn'), ('tomek', 'rf'), ('None', 'dt'), ('None', 'lr'), ('None', 'nb'), ('None', 'svm'), ('None', 'knn'), ('None', 'rf')]),\n",
       " 30)"
      ]
     },
     "execution_count": 4,
     "metadata": {},
     "output_type": "execute_result"
    }
   ],
   "source": [
    "models = {}\n",
    "for im,samp in IMBS.items():\n",
    "    for c,clf in CLFS.items():\n",
    "        models[(im,c)] = Pipeline([('samp',samp),('clf',clf)])\n",
    "    \n",
    "models.keys(),len(models)"
   ]
  },
  {
   "cell_type": "code",
   "execution_count": 5,
   "metadata": {},
   "outputs": [],
   "source": [
    "path = \"Noisy.csv\"\n",
    "cols = pd.MultiIndex.from_product([IMBS.keys(),CLFS.keys(),[f.__name__ for f in SCORERS]],names=['imb','clf','metric'])\n",
    "df = pd.DataFrame(index=DATASETS,columns=cols)\n",
    "#df = pd.read_csv(path,header=[0,1,2],index_col=0)"
   ]
  },
  {
   "cell_type": "code",
   "execution_count": null,
   "metadata": {},
   "outputs": [
    {
     "name": "stdout",
     "output_type": "stream",
     "text": [
      "0\n",
      "activemq-5.8.0.csv noise:0.058, imb:15.847,203,3217, Shape:(3420, 65)\n",
      "('smote', 'dt')\n",
      "3.44 [0.155, 0.237]\n",
      "('smote', 'lr')\n",
      "13.32 [0.258, 0.298]\n",
      "('smote', 'nb')\n",
      "0.35 [0.289, 0.394]\n",
      "('smote', 'svm')\n",
      "180.96 [0.245, 0.194]\n",
      "('smote', 'knn')\n",
      "3.36 [0.205, 0.265]\n",
      "('smote', 'rf')\n",
      "18.27 [0.235, 0.281]\n",
      "('rus', 'dt')\n",
      "0.24 [0.183, 0.411]\n",
      "('rus', 'lr')\n",
      "2.13 [0.252, 0.294]\n",
      "('rus', 'nb')\n",
      "0.19 [0.283, 0.39]\n",
      "('rus', 'svm')\n",
      "1.48 [0.262, 0.251]\n",
      "('rus', 'knn')\n",
      "0.67 [0.207, 0.265]\n",
      "('rus', 'rf')\n",
      "2.83 [0.252, 0.278]\n",
      "('wilson', 'dt')\n",
      "8.94 [0.225, 0.311]\n",
      "('wilson', 'lr')\n",
      "9.67 [0.282, 0.316]\n",
      "('wilson', 'nb')\n",
      "6.44 [0.283, 0.415]\n",
      "('wilson', 'svm')\n",
      "19.7 [0.278, 0.315]\n",
      "('wilson', 'knn')\n",
      "8.01 [0.224, 0.241]\n",
      "('wilson', 'rf')\n",
      "10.86 [0.285, 0.33]\n",
      "('tomek', 'dt')\n",
      "6.43 [0.199, 0.263]\n",
      "('tomek', 'lr')\n",
      "9.81 [0.269, 0.327]\n",
      "('tomek', 'nb')\n",
      "5.55 [0.293, 0.391]\n",
      "('tomek', 'svm')\n",
      "25.24 [0.27, 0.288]\n",
      "('tomek', 'knn')\n",
      "7.32 [0.225, 0.26]\n",
      "('tomek', 'rf')\n",
      "10.79 [0.281, 0.337]\n",
      "('None', 'dt')\n",
      "1.13 [0.16, 0.228]\n",
      "('None', 'lr')\n",
      "3.77 [0.258, 0.327]\n",
      "('None', 'nb')\n",
      "0.14 [0.293, 0.388]\n",
      "('None', 'svm')\n",
      "21.23 [0.259, 0.275]\n",
      "('None', 'knn')\n",
      "2.21 [0.216, 0.25]\n",
      "('None', 'rf')\n",
      "5.75 [0.278, 0.331]\n",
      "\n",
      "1\n",
      "groovy-1_6_BETA_1.csv noise:0.128, imb:6.017,117,704, Shape:(821, 65)\n",
      "('smote', 'dt')\n",
      "0.68 [0.261, 0.372]\n",
      "('smote', 'lr')\n",
      "2.58 [0.346, 0.369]\n",
      "('smote', 'nb')\n",
      "0.15 [0.256, 0.417]\n",
      "('smote', 'svm')\n",
      "8.38 [0.367, 0.372]\n",
      "('smote', 'knn')\n",
      "0.44 [0.272, 0.388]\n",
      "('smote', 'rf')\n",
      "3.66 [0.381, 0.385]\n",
      "('rus', 'dt')\n",
      "0.12 [0.234, 0.457]\n",
      "('rus', 'lr')\n",
      "0.86 [0.315, 0.34]\n",
      "('rus', 'nb')\n",
      "0.07 [0.244, 0.396]\n",
      "('rus', 'svm')\n",
      "0.43 [0.369, 0.393]\n",
      "('rus', 'knn')\n",
      "0.14 [0.299, 0.404]\n",
      "('rus', 'rf')\n",
      "1.6 [0.334, 0.415]\n",
      "('wilson', 'dt')\n",
      "0.81 [0.306, 0.474]\n",
      "('wilson', 'lr')\n",
      "1.63 [0.409, 0.372]\n",
      "('wilson', 'nb')\n",
      "0.71 [0.267, 0.403]\n",
      "('wilson', 'svm')\n",
      "1.83 [0.352, 0.39]\n",
      "('wilson', 'knn')\n",
      "0.91 [0.355, 0.483]\n",
      "('wilson', 'rf')\n",
      "2.49 [0.401, 0.444]\n",
      "('tomek', 'dt')\n",
      "0.88 [0.321, 0.423]\n",
      "('tomek', 'lr')\n",
      "2.4 [0.372, 0.402]\n",
      "('tomek', 'nb')\n",
      "0.74 [0.246, 0.41]\n",
      "('tomek', 'svm')\n",
      "2.69 [0.387, 0.417]\n",
      "('tomek', 'knn')\n",
      "0.92 [0.412, 0.397]\n",
      "('tomek', 'rf')\n",
      "3.05 [0.432, 0.436]\n",
      "('None', 'dt')\n",
      "0.27 [0.277, 0.379]\n",
      "('None', 'lr')\n",
      "1.58 [0.349, 0.396]\n",
      "('None', 'nb')\n",
      "0.09 [0.244, 0.403]\n",
      "('None', 'svm')\n",
      "2.16 [0.378, 0.409]\n",
      "('None', 'knn')\n",
      "0.32 [0.386, 0.35]\n",
      "('None', 'rf')\n",
      "2.29 [0.415, 0.424]\n",
      "\n",
      "2\n",
      "activemq-5.3.0.csv noise:0.094, imb:15.669,142,2225, Shape:(2367, 65)\n",
      "('smote', 'dt')\n",
      "2.58 [0.271, 0.369]\n",
      "('smote', 'lr')\n",
      "7.8 [0.349, 0.434]\n",
      "('smote', 'nb')\n",
      "0.25 [0.336, 0.452]\n",
      "('smote', 'svm')\n",
      "71.05 [0.372, 0.411]\n",
      "('smote', 'knn')\n",
      "1.83 [0.337, 0.396]\n",
      "('smote', 'rf')\n",
      "11.16 [0.356, 0.468]\n",
      "('rus', 'dt')\n",
      "0.21 [0.275, 0.467]\n",
      "('rus', 'lr')\n",
      "1.16 [0.344, 0.441]\n",
      "('rus', 'nb')\n",
      "0.12 [0.327, 0.452]\n",
      "('rus', 'svm')\n",
      "0.64 [0.333, 0.438]\n",
      "('rus', 'knn')\n",
      "0.3 [0.329, 0.396]\n",
      "('rus', 'rf')\n",
      "1.87 [0.325, 0.422]\n",
      "('wilson', 'dt')\n",
      "5.07 [0.334, 0.441]\n",
      "('wilson', 'lr')\n",
      "7.89 [0.382, 0.49]\n",
      "('wilson', 'nb')\n",
      "4.34 [0.34, 0.465]\n",
      "('wilson', 'svm')\n",
      "10.28 [0.396, 0.474]\n",
      "('wilson', 'knn')\n",
      "5.19 [0.344, 0.437]\n",
      "('wilson', 'rf')\n",
      "7.96 [0.388, 0.49]\n",
      "('tomek', 'dt')\n",
      "4.29 [0.255, 0.368]\n",
      "('tomek', 'lr')\n",
      "7.8 [0.344, 0.467]\n",
      "('tomek', 'nb')\n",
      "3.89 [0.328, 0.453]\n",
      "('tomek', 'svm')\n",
      "13.44 [0.309, 0.438]\n",
      "('tomek', 'knn')\n",
      "4.91 [0.301, 0.41]\n",
      "('tomek', 'rf')\n",
      "7.91 [0.325, 0.471]\n",
      "('None', 'dt')\n",
      "0.65 [0.253, 0.367]\n",
      "('None', 'lr')\n",
      "3.58 [0.318, 0.459]\n",
      "('None', 'nb')\n",
      "0.15 [0.322, 0.453]\n",
      "('None', 'svm')\n",
      "11.02 [0.266, 0.432]\n",
      "('None', 'knn')\n",
      "1.44 [0.273, 0.396]\n",
      "('None', 'rf')\n",
      "4.76 [0.301, 0.465]\n",
      "\n",
      "3\n",
      "wicket-1.3.0-incubating-beta-1.csv noise:0.164, imb:4.806,288,1384, Shape:(1672, 65)\n",
      "('smote', 'dt')\n",
      "1.87 [0.199, 0.347]\n",
      "('smote', 'lr')\n",
      "6.62 [0.263, 0.375]\n",
      "('smote', 'nb')\n",
      "0.38 [0.307, 0.443]\n",
      "('smote', 'svm')\n"
     ]
    }
   ],
   "source": [
    "%%time\n",
    "for it,d in enumerate(DATASETS):\n",
    "    print(it)\n",
    "    X,y_noisy,y_real = read_data(d,stats=True)\n",
    "    for k in models:\n",
    "        print(k)\n",
    "        sd = perf_counter()\n",
    "        r = evaluate(models[k],X,y_noisy,y_real,CV,SCORERS)\n",
    "        for f in r:\n",
    "            df.loc[d,(k[0],k[1],f)] = r[f].mean()\n",
    "        print(round(perf_counter()-sd,2),[round(r[f].mean(),3) for f in r])\n",
    "    print()\n",
    "    df.to_csv(path)"
   ]
  },
  {
   "cell_type": "code",
   "execution_count": null,
   "metadata": {},
   "outputs": [],
   "source": []
  },
  {
   "cell_type": "code",
   "execution_count": null,
   "metadata": {},
   "outputs": [],
   "source": []
  },
  {
   "cell_type": "code",
   "execution_count": null,
   "metadata": {},
   "outputs": [],
   "source": []
  },
  {
   "cell_type": "code",
   "execution_count": null,
   "metadata": {},
   "outputs": [],
   "source": []
  },
  {
   "cell_type": "code",
   "execution_count": null,
   "metadata": {},
   "outputs": [],
   "source": []
  },
  {
   "cell_type": "code",
   "execution_count": null,
   "metadata": {},
   "outputs": [],
   "source": []
  },
  {
   "cell_type": "code",
   "execution_count": null,
   "metadata": {},
   "outputs": [],
   "source": [
    "df.shape"
   ]
  },
  {
   "cell_type": "markdown",
   "metadata": {},
   "source": [
    "## Effect of Noise on Performance"
   ]
  },
  {
   "cell_type": "code",
   "execution_count": null,
   "metadata": {},
   "outputs": [],
   "source": [
    "noise = pd.read_csv(\"Imb X Clf- Noise.csv\",header=[0,1,2],index_col=0)\n",
    "clean = pd.read_csv(\"Imb X Clf- Clean.csv\",header=[0,1,2],index_col=0)\n",
    "noise.shape,clean.shape"
   ]
  },
  {
   "cell_type": "code",
   "execution_count": null,
   "metadata": {},
   "outputs": [],
   "source": [
    "wilcoxon(noise.values.reshape(-1),clean.values.reshape(-1))"
   ]
  },
  {
   "cell_type": "code",
   "execution_count": null,
   "metadata": {},
   "outputs": [],
   "source": [
    "noise.values.mean(),clean.values.mean()"
   ]
  },
  {
   "cell_type": "code",
   "execution_count": null,
   "metadata": {},
   "outputs": [],
   "source": []
  },
  {
   "cell_type": "code",
   "execution_count": null,
   "metadata": {},
   "outputs": [],
   "source": []
  },
  {
   "cell_type": "markdown",
   "metadata": {},
   "source": [
    "## Statistical Analysis"
   ]
  },
  {
   "cell_type": "code",
   "execution_count": null,
   "metadata": {},
   "outputs": [],
   "source": [
    "from scipy.stats import wilcoxon, friedmanchisquare\n",
    "import scikit_posthocs as sp"
   ]
  },
  {
   "cell_type": "code",
   "execution_count": null,
   "metadata": {},
   "outputs": [],
   "source": [
    "boo = df.rename_axis('Datasets').reset_index()"
   ]
  },
  {
   "cell_type": "code",
   "execution_count": null,
   "metadata": {},
   "outputs": [],
   "source": [
    "res = pd.melt(boo,id_vars=['Datasets'])\n",
    "res.columns"
   ]
  },
  {
   "cell_type": "code",
   "execution_count": null,
   "metadata": {},
   "outputs": [],
   "source": [
    "res"
   ]
  },
  {
   "cell_type": "markdown",
   "metadata": {},
   "source": [
    "### Compare DT & RF & NB"
   ]
  },
  {
   "cell_type": "code",
   "execution_count": null,
   "metadata": {},
   "outputs": [],
   "source": [
    "mathew =  res[res['metric']=='matthews_corrcoef'].drop(columns=['metric'])"
   ]
  },
  {
   "cell_type": "code",
   "execution_count": null,
   "metadata": {},
   "outputs": [],
   "source": [
    "mathew = mathew[mathew['clf'].isin(['dt','rf','nb'])]\n",
    "mathew.shape"
   ]
  },
  {
   "cell_type": "code",
   "execution_count": null,
   "metadata": {},
   "outputs": [],
   "source": [
    "tmp = mathew.set_index(['Datasets','imb'])\n",
    "tmp"
   ]
  },
  {
   "cell_type": "code",
   "execution_count": null,
   "metadata": {},
   "outputs": [],
   "source": [
    "hey = tmp.pivot(columns='clf')\n",
    "hey"
   ]
  },
  {
   "cell_type": "code",
   "execution_count": null,
   "metadata": {},
   "outputs": [],
   "source": [
    "dog = hey.reset_index(drop=True)\n",
    "dog.columns = dog.columns.droplevel(0)\n",
    "dog"
   ]
  },
  {
   "cell_type": "code",
   "execution_count": null,
   "metadata": {},
   "outputs": [],
   "source": [
    "friedmanchisquare(*(dog[c] for c in dog.columns))"
   ]
  },
  {
   "cell_type": "code",
   "execution_count": null,
   "metadata": {},
   "outputs": [],
   "source": [
    "dog.mean()f"
   ]
  },
  {
   "cell_type": "code",
   "execution_count": null,
   "metadata": {},
   "outputs": [],
   "source": [
    "pvals = pd.DataFrame(columns=dog.columns,index=dog.columns,dtype='float')\n",
    "for c in dog.columns:\n",
    "    for d in dog.columns:\n",
    "        if c==d: continue\n",
    "        pvals.loc[c,d] = float(wilcoxon(dog[c],dog[d]).pvalue)\n",
    "pvals"
   ]
  },
  {
   "cell_type": "code",
   "execution_count": null,
   "metadata": {},
   "outputs": [],
   "source": [
    "from statsmodels.stats.multitest import multipletests"
   ]
  },
  {
   "cell_type": "code",
   "execution_count": null,
   "metadata": {},
   "outputs": [],
   "source": [
    "ps = pvals.values.reshape(-1)\n",
    "idx = np.isnan(ps)\n",
    "idx"
   ]
  },
  {
   "cell_type": "code",
   "execution_count": null,
   "metadata": {},
   "outputs": [],
   "source": [
    "ps[~idx]"
   ]
  },
  {
   "cell_type": "code",
   "execution_count": null,
   "metadata": {},
   "outputs": [],
   "source": [
    "multipletests(ps[~idx],method='fdr_by')"
   ]
  },
  {
   "cell_type": "code",
   "execution_count": null,
   "metadata": {},
   "outputs": [],
   "source": []
  },
  {
   "cell_type": "code",
   "execution_count": null,
   "metadata": {},
   "outputs": [],
   "source": [
    "\n",
    "\n",
    "\n",
    "\n",
    "\n",
    "\n",
    "\n",
    "\n",
    "\n",
    "\n",
    "\n",
    "\n",
    "\n",
    "\n",
    "\n",
    "\n",
    "\n",
    "\n",
    "\n",
    "\n"
   ]
  }
 ],
 "metadata": {
  "kernelspec": {
   "display_name": "Python 3",
   "language": "python",
   "name": "python3"
  },
  "language_info": {
   "codemirror_mode": {
    "name": "ipython",
    "version": 3
   },
   "file_extension": ".py",
   "mimetype": "text/x-python",
   "name": "python",
   "nbconvert_exporter": "python",
   "pygments_lexer": "ipython3",
   "version": "3.7.5"
  }
 },
 "nbformat": 4,
 "nbformat_minor": 4
}
