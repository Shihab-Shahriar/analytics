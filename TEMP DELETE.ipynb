{
 "cells": [
  {
   "cell_type": "code",
   "execution_count": 3,
   "metadata": {},
   "outputs": [],
   "source": [
    "from time import perf_counter\n",
    "import numpy as np,os\n",
    "import pandas as pd\n",
    "from sklearn.preprocessing import LabelEncoder, StandardScaler, power_transform, MinMaxScaler\n",
    "from sklearn.tree import DecisionTreeClassifier\n",
    "from sklearn.linear_model import LogisticRegression\n",
    "from sklearn.naive_bayes import GaussianNB\n",
    "from sklearn.neighbors import KNeighborsClassifier\n",
    "from sklearn.ensemble import RandomForestClassifier, AdaBoostClassifier\n",
    "from sklearn.svm import SVC\n",
    "from sklearn.model_selection import cross_val_score, RepeatedStratifiedKFold, GridSearchCV, cross_val_predict\n",
    "from sklearn.utils import shuffle\n",
    "from sklearn.metrics import matthews_corrcoef, precision_recall_curve, auc, accuracy_score\n",
    "from imblearn.over_sampling import SMOTE\n",
    "from imblearn.under_sampling import RandomUnderSampler, EditedNearestNeighbours, TomekLinks\n",
    "from imblearn.ensemble import RUSBoostClassifier, BalancedRandomForestClassifier, BalancedBaggingClassifier\n",
    "from imblearn.pipeline import Pipeline\n",
    "import seaborn as sns,matplotlib.pyplot as plt\n",
    "\n",
    "from library.configs import IMBS, CLFS, ENSEMBLES, CV, SCORERS\n",
    "from library.utils import evaluate, read_data"
   ]
  },
  {
   "cell_type": "code",
   "execution_count": 4,
   "metadata": {},
   "outputs": [
    {
     "data": {
      "text/plain": [
       "32"
      ]
     },
     "execution_count": 4,
     "metadata": {},
     "output_type": "execute_result"
    }
   ],
   "source": [
    "DATASETS = ['groovy-1_5_7.csv','jruby-1.4.0.csv','lucene-2.9.0.csv','jruby-1.7.0.preview1.csv','groovy-1_6_BETA_1.csv',\n",
    "        'derby-10.2.1.6.csv','wicket-1.5.3.csv','camel-2.9.0.csv','camel-1.4.0.csv','activemq-5.8.0.csv']\n",
    "DATASETS = [f for f in os.listdir(\"JIRA/\") if 'csv' in f]\n",
    "len(DATASETS)"
   ]
  },
  {
   "cell_type": "code",
   "execution_count": 10,
   "metadata": {},
   "outputs": [
    {
     "data": {
      "text/plain": [
       "(dict_keys([('UBag', 'BagNB'), ('UBag', 'BagDT')]), 2)"
      ]
     },
     "execution_count": 10,
     "metadata": {},
     "output_type": "execute_result"
    }
   ],
   "source": [
    "models = {}\n",
    "# for im,samp in IMBS.items():\n",
    "#     for c,clf in CLFS.items():\n",
    "#         models[(im,c)] = Pipeline([('samp',samp),('clf',clf)])\n",
    "\n",
    "bases = {'nb':GaussianNB(),'dt':DecisionTreeClassifier(max_depth=20,max_features='sqrt')}\n",
    "models[('UBag',\"BagNB\")] = BalancedBaggingClassifier(base_estimator=bases['nb'],n_estimators=20)\n",
    "models[('UBag',\"BagDT\")] = BalancedBaggingClassifier(base_estimator=bases['dt'],n_estimators=20)\n",
    "    \n",
    "models.keys(),len(models)"
   ]
  },
  {
   "cell_type": "code",
   "execution_count": 11,
   "metadata": {},
   "outputs": [],
   "source": [
    "path = \"Noisy_Eval_Bag.csv\"\n",
    "cols = pd.MultiIndex.from_product([IMBS.keys(),CLFS.keys(),[f.__name__ for f in SCORERS]],names=['imb','clf','metric'])\n",
    "df = pd.DataFrame(index=DATASETS,columns=cols)\n",
    "CV = RepeatedStratifiedKFold(n_splits=5,n_repeats=2)\n",
    "#df = pd.read_csv(path,header=[0,1,2],index_col=0)"
   ]
  },
  {
   "cell_type": "code",
   "execution_count": 12,
   "metadata": {},
   "outputs": [
    {
     "name": "stdout",
     "output_type": "stream",
     "text": [
      "0\n",
      "activemq-5.8.0.csv noise:0.058, imb:15.847,203,3217, Shape:(3420, 65)\n",
      "('UBag', 'BagNB')\n",
      "0.68 [0.259, 0.325]\n",
      "('UBag', 'BagDT')\n",
      "0.74 [0.246, 0.297]\n",
      "\n",
      "1\n",
      "groovy-1_6_BETA_1.csv noise:0.128, imb:6.017,117,704, Shape:(821, 65)\n",
      "('UBag', 'BagNB')\n",
      "0.44 [0.308, 0.449]\n",
      "('UBag', 'BagDT')\n",
      "0.54 [0.48, 0.606]\n",
      "\n",
      "2\n",
      "activemq-5.3.0.csv noise:0.094, imb:15.669,142,2225, Shape:(2367, 65)\n",
      "('UBag', 'BagNB')\n",
      "0.53 [0.313, 0.39]\n",
      "('UBag', 'BagDT')\n",
      "0.59 [0.312, 0.337]\n",
      "\n",
      "3\n",
      "wicket-1.3.0-incubating-beta-1.csv noise:0.164, imb:4.806,288,1384, Shape:(1672, 65)\n",
      "('UBag', 'BagNB')\n",
      "0.55 [0.411, 0.549]\n",
      "('UBag', 'BagDT')\n",
      "0.62 [0.396, 0.502]\n",
      "\n",
      "4\n",
      "jruby-1.1.csv noise:0.175, imb:3.540,161,570, Shape:(731, 65)\n",
      "('UBag', 'BagNB')\n",
      "0.41 [0.457, 0.65]\n",
      "('UBag', 'BagDT')\n",
      "0.49 [0.518, 0.673]\n",
      "\n",
      "5\n",
      "jruby-1.4.0.csv noise:0.190, imb:3.890,200,778, Shape:(978, 65)\n",
      "('UBag', 'BagNB')\n",
      "0.47 [0.414, 0.59]\n",
      "('UBag', 'BagDT')\n",
      "0.52 [0.438, 0.565]\n",
      "\n",
      "6\n",
      "lucene-2.3.0.csv noise:0.204, imb:4.031,160,645, Shape:(805, 65)\n",
      "('UBag', 'BagNB')\n",
      "0.44 [0.34, 0.494]\n",
      "('UBag', 'BagDT')\n",
      "0.53 [0.406, 0.538]\n",
      "\n",
      "7\n",
      "hbase-0.95.2.csv noise:0.260, imb:15.088,114,1720, Shape:(1834, 65)\n",
      "('UBag', 'BagNB')\n",
      "0.49 [0.182, 0.305]\n",
      "('UBag', 'BagDT')\n",
      "0.55 [0.249, 0.278]\n",
      "\n",
      "8\n",
      "lucene-3.0.0.csv noise:0.185, imb:6.037,190,1147, Shape:(1337, 65)\n",
      "('UBag', 'BagNB')\n",
      "0.46 [0.289, 0.343]\n",
      "('UBag', 'BagDT')\n",
      "0.54 [0.422, 0.467]\n",
      "\n",
      "9\n",
      "camel-2.9.0.csv noise:0.044, imb:34.600,200,6920, Shape:(7120, 65)\n",
      "('UBag', 'BagNB')\n",
      "1.0 [0.19, 0.255]\n",
      "('UBag', 'BagDT')\n",
      "1.0 [0.187, 0.146]\n",
      "\n",
      "10\n",
      "wicket-1.5.3.csv noise:0.064, imb:26.720,93,2485, Shape:(2578, 65)\n",
      "('UBag', 'BagNB')\n",
      "0.64 [0.199, 0.215]\n",
      "('UBag', 'BagDT')\n",
      "0.6 [0.187, 0.139]\n",
      "\n",
      "11\n",
      "lucene-3.1.csv noise:0.120, imb:7.477,331,2475, Shape:(2806, 65)\n",
      "('UBag', 'BagNB')\n",
      "0.61 [0.331, 0.403]\n",
      "('UBag', 'BagDT')\n",
      "0.75 [0.46, 0.555]\n",
      "\n",
      "12\n",
      "groovy-1_6_BETA_2.csv noise:0.096, imb:7.583,103,781, Shape:(884, 65)\n",
      "('UBag', 'BagNB')\n",
      "0.41 [0.31, 0.46]\n",
      "('UBag', 'BagDT')\n",
      "0.45 [0.386, 0.527]\n",
      "\n",
      "13\n",
      "activemq-5.2.0.csv noise:0.113, imb:12.247,154,1886, Shape:(2040, 65)\n",
      "('UBag', 'BagNB')\n",
      "0.52 [0.247, 0.359]\n",
      "('UBag', 'BagDT')\n",
      "0.54 [0.314, 0.347]\n",
      "\n",
      "14\n",
      "groovy-1_5_7.csv noise:0.085, imb:8.463,80,677, Shape:(757, 65)\n",
      "('UBag', 'BagNB')\n",
      "0.39 [0.361, 0.516]\n",
      "('UBag', 'BagDT')\n",
      "0.42 [0.351, 0.46]\n",
      "\n",
      "15\n",
      "hbase-0.95.0.csv noise:0.234, imb:17.341,91,1578, Shape:(1669, 65)\n",
      "('UBag', 'BagNB')\n",
      "0.46 [0.205, 0.251]\n",
      "('UBag', 'BagDT')\n",
      "0.5 [0.179, 0.203]\n",
      "\n",
      "16\n",
      "camel-2.11.0.csv noise:0.024, imb:43.230,200,8646, Shape:(8846, 65)\n",
      "('UBag', 'BagNB')\n",
      "1.41 [0.131, 0.151]\n",
      "('UBag', 'BagDT')\n",
      "1.42 [0.199, 0.174]\n",
      "\n",
      "17\n",
      "jruby-1.7.0.preview1.csv noise:0.099, imb:8.902,163,1451, Shape:(1614, 65)\n",
      "('UBag', 'BagNB')\n",
      "0.6 [0.393, 0.506]\n",
      "('UBag', 'BagDT')\n",
      "0.6 [0.419, 0.458]\n",
      "\n",
      "18\n",
      "hive-0.10.0.csv noise:0.126, imb:29.000,52,1508, Shape:(1560, 65)\n",
      "('UBag', 'BagNB')\n",
      "0.44 [0.266, 0.386]\n",
      "('UBag', 'BagDT')\n",
      "0.46 [0.296, 0.283]\n",
      "\n",
      "19\n",
      "camel-2.10.0.csv noise:0.053, imb:24.447,311,7603, Shape:(7914, 65)\n",
      "('UBag', 'BagNB')\n",
      "1.16 [0.203, 0.259]\n",
      "('UBag', 'BagDT')\n",
      "1.18 [0.237, 0.226]\n",
      "\n",
      "20\n",
      "derby-10.2.1.6.csv noise:0.290, imb:9.906,180,1783, Shape:(1963, 65)\n",
      "('UBag', 'BagNB')\n",
      "0.52 [0.249, 0.292]\n",
      "('UBag', 'BagDT')\n",
      "0.6 [0.298, 0.298]\n",
      "\n",
      "21\n",
      "jruby-1.5.0.csv noise:0.218, imb:3.098,276,855, Shape:(1131, 65)\n",
      "('UBag', 'BagNB')\n",
      "0.52 [0.458, 0.634]\n",
      "('UBag', 'BagDT')\n",
      "0.56 [0.472, 0.649]\n",
      "\n",
      "22\n",
      "derby-10.3.1.4.csv noise:0.267, imb:13.051,157,2049, Shape:(2206, 65)\n",
      "('UBag', 'BagNB')\n",
      "0.55 [0.229, 0.304]\n",
      "('UBag', 'BagDT')\n",
      "0.58 [0.3, 0.269]\n",
      "\n",
      "23\n",
      "lucene-2.9.0.csv noise:0.226, imb:3.921,278,1090, Shape:(1368, 65)\n",
      "('UBag', 'BagNB')\n",
      "0.49 [0.36, 0.464]\n",
      "('UBag', 'BagDT')\n",
      "0.67 [0.508, 0.67]\n",
      "\n",
      "24\n",
      "hbase-0.94.0.csv noise:0.207, imb:14.348,69,990, Shape:(1059, 65)\n",
      "('UBag', 'BagNB')\n",
      "0.43 [0.336, 0.454]\n",
      "('UBag', 'BagDT')\n",
      "0.54 [0.401, 0.405]\n",
      "\n",
      "25\n",
      "camel-1.4.0.csv noise:0.281, imb:3.174,363,1152, Shape:(1515, 65)\n",
      "('UBag', 'BagNB')\n",
      "0.59 [0.316, 0.513]\n",
      "('UBag', 'BagDT')\n",
      "0.67 [0.324, 0.499]\n",
      "\n",
      "26\n",
      "activemq-5.1.0.csv noise:0.083, imb:13.173,139,1831, Shape:(1970, 65)\n",
      "('UBag', 'BagNB')\n",
      "0.5 [0.257, 0.394]\n",
      "('UBag', 'BagDT')\n",
      "0.54 [0.295, 0.356]\n",
      "\n",
      "27\n",
      "activemq-5.0.0.csv noise:0.139, imb:21.976,82,1802, Shape:(1884, 65)\n",
      "('UBag', 'BagNB')\n",
      "0.47 [0.225, 0.321]\n",
      "('UBag', 'BagDT')\n",
      "0.49 [0.279, 0.297]\n",
      "\n",
      "28\n",
      "derby-10.5.1.1.csv noise:0.126, imb:14.028,180,2525, Shape:(2705, 65)\n",
      "('UBag', 'BagNB')\n",
      "0.57 [0.273, 0.37]\n",
      "('UBag', 'BagDT')\n",
      "0.62 [0.342, 0.395]\n",
      "\n",
      "29\n",
      "wicket-1.3.0-beta2.csv noise:0.184, imb:4.780,305,1458, Shape:(1763, 65)\n",
      "('UBag', 'BagNB')\n",
      "0.51 [0.424, 0.556]\n",
      "('UBag', 'BagDT')\n",
      "0.61 [0.425, 0.539]\n",
      "\n",
      "30\n",
      "hive-0.12.0.csv noise:0.087, imb:56.870,46,2616, Shape:(2662, 65)\n",
      "('UBag', 'BagNB')\n",
      "0.53 [0.11, 0.134]\n",
      "('UBag', 'BagDT')\n",
      "0.52 [0.133, 0.14]\n",
      "\n",
      "31\n",
      "hive-0.9.0.csv noise:0.179, imb:25.717,53,1363, Shape:(1416, 65)\n",
      "('UBag', 'BagNB')\n",
      "0.43 [0.335, 0.442]\n",
      "('UBag', 'BagDT')\n",
      "0.44 [0.323, 0.381]\n",
      "\n",
      "CPU times: user 56.9 s, sys: 601 ms, total: 57.5 s\n",
      "Wall time: 38.7 s\n"
     ]
    }
   ],
   "source": [
    "%%time\n",
    "for it,d in enumerate(DATASETS):\n",
    "    print(it)\n",
    "    X,y_noisy,y_real = read_data(d,stats=True)\n",
    "    for k in models:\n",
    "        print(k)\n",
    "        sd = perf_counter()\n",
    "        r = evaluate(models[k],X,y_noisy,y_noisy,CV,SCORERS)\n",
    "        for f in r:\n",
    "            df.loc[d,(k[0],k[1],f)] = r[f].mean()\n",
    "        print(round(perf_counter()-sd,2),[round(r[f].mean(),3) for f in r])\n",
    "    print()\n",
    "    df.to_csv(path)"
   ]
  },
  {
   "cell_type": "code",
   "execution_count": null,
   "metadata": {},
   "outputs": [],
   "source": []
  },
  {
   "cell_type": "code",
   "execution_count": 19,
   "metadata": {},
   "outputs": [],
   "source": [
    "old = pd.read_csv(\"Noisy_Eval.csv\",header=[0,1,2],index_col=0)\n",
    "bag = pd.read_csv(\"Noisy_Eval_Bag.csv\",header=[0,1,2],index_col=0)"
   ]
  },
  {
   "cell_type": "code",
   "execution_count": 26,
   "metadata": {},
   "outputs": [
    {
     "data": {
      "text/plain": [
       "(32, 64)"
      ]
     },
     "execution_count": 26,
     "metadata": {},
     "output_type": "execute_result"
    }
   ],
   "source": [
    "final = pd.concat([old,bag['UBag']],axis=1)\n",
    "final.shape"
   ]
  },
  {
   "cell_type": "code",
   "execution_count": 28,
   "metadata": {},
   "outputs": [
    {
     "data": {
      "text/plain": [
       "0"
      ]
     },
     "execution_count": 28,
     "metadata": {},
     "output_type": "execute_result"
    }
   ],
   "source": [
    "final.isna().sum().sum()"
   ]
  },
  {
   "cell_type": "code",
   "execution_count": 29,
   "metadata": {},
   "outputs": [],
   "source": [
    "final.to_csv(\"Noisy_Eval_final.csv\")"
   ]
  },
  {
   "cell_type": "markdown",
   "metadata": {},
   "source": [
    "## Analysis"
   ]
  },
  {
   "cell_type": "code",
   "execution_count": 1,
   "metadata": {},
   "outputs": [],
   "source": [
    "import numpy as np\n",
    "import pandas as pd,os\n",
    "from scipy.stats import wilcoxon, friedmanchisquare, rankdata, trim_mean, linregress\n",
    "import scikit_posthocs as sp\n",
    "import pingouin as pg\n",
    "import matplotlib.pyplot as plt\n",
    "import seaborn as sns"
   ]
  },
  {
   "cell_type": "code",
   "execution_count": 20,
   "metadata": {},
   "outputs": [],
   "source": [
    "df = pd.read_csv(\"Noisy_Eval_final.csv\",header=[0],index_col=0)"
   ]
  },
  {
   "cell_type": "code",
   "execution_count": 22,
   "metadata": {},
   "outputs": [],
   "source": [
    "df.columns = pd.MultiIndex.from_tuples(map(eval,df.columns))"
   ]
  },
  {
   "cell_type": "code",
   "execution_count": 24,
   "metadata": {},
   "outputs": [
    {
     "data": {
      "text/plain": [
       "(32, 64)"
      ]
     },
     "execution_count": 24,
     "metadata": {},
     "output_type": "execute_result"
    }
   ],
   "source": [
    "df.shape"
   ]
  },
  {
   "cell_type": "code",
   "execution_count": null,
   "metadata": {},
   "outputs": [],
   "source": [
    "df.shape"
   ]
  },
  {
   "cell_type": "markdown",
   "metadata": {},
   "source": [
    "## Effect of Noise on Performance"
   ]
  },
  {
   "cell_type": "code",
   "execution_count": null,
   "metadata": {},
   "outputs": [],
   "source": [
    "noise = pd.read_csv(\"Imb X Clf- Noise.csv\",header=[0,1,2],index_col=0)\n",
    "clean = pd.read_csv(\"Imb X Clf- Clean.csv\",header=[0,1,2],index_col=0)\n",
    "noise.shape,clean.shape"
   ]
  },
  {
   "cell_type": "code",
   "execution_count": null,
   "metadata": {},
   "outputs": [],
   "source": [
    "wilcoxon(noise.values.reshape(-1),clean.values.reshape(-1))"
   ]
  },
  {
   "cell_type": "code",
   "execution_count": null,
   "metadata": {},
   "outputs": [],
   "source": [
    "noise.values.mean(),clean.values.mean()"
   ]
  },
  {
   "cell_type": "code",
   "execution_count": null,
   "metadata": {},
   "outputs": [],
   "source": []
  },
  {
   "cell_type": "code",
   "execution_count": null,
   "metadata": {},
   "outputs": [],
   "source": []
  },
  {
   "cell_type": "markdown",
   "metadata": {},
   "source": [
    "## Statistical Analysis"
   ]
  },
  {
   "cell_type": "code",
   "execution_count": null,
   "metadata": {},
   "outputs": [],
   "source": [
    "from scipy.stats import wilcoxon, friedmanchisquare\n",
    "import scikit_posthocs as sp"
   ]
  },
  {
   "cell_type": "code",
   "execution_count": null,
   "metadata": {},
   "outputs": [],
   "source": [
    "boo = df.rename_axis('Datasets').reset_index()"
   ]
  },
  {
   "cell_type": "code",
   "execution_count": null,
   "metadata": {},
   "outputs": [],
   "source": [
    "res = pd.melt(boo,id_vars=['Datasets'])\n",
    "res.columns"
   ]
  },
  {
   "cell_type": "code",
   "execution_count": null,
   "metadata": {},
   "outputs": [],
   "source": [
    "res"
   ]
  },
  {
   "cell_type": "markdown",
   "metadata": {},
   "source": [
    "### Compare DT & RF & NB"
   ]
  },
  {
   "cell_type": "code",
   "execution_count": null,
   "metadata": {},
   "outputs": [],
   "source": [
    "mathew =  res[res['metric']=='matthews_corrcoef'].drop(columns=['metric'])"
   ]
  },
  {
   "cell_type": "code",
   "execution_count": null,
   "metadata": {},
   "outputs": [],
   "source": [
    "mathew = mathew[mathew['clf'].isin(['dt','rf','nb'])]\n",
    "mathew.shape"
   ]
  },
  {
   "cell_type": "code",
   "execution_count": null,
   "metadata": {},
   "outputs": [],
   "source": [
    "tmp = mathew.set_index(['Datasets','imb'])\n",
    "tmp"
   ]
  },
  {
   "cell_type": "code",
   "execution_count": null,
   "metadata": {},
   "outputs": [],
   "source": [
    "hey = tmp.pivot(columns='clf')\n",
    "hey"
   ]
  },
  {
   "cell_type": "code",
   "execution_count": null,
   "metadata": {},
   "outputs": [],
   "source": [
    "dog = hey.reset_index(drop=True)\n",
    "dog.columns = dog.columns.droplevel(0)\n",
    "dog"
   ]
  },
  {
   "cell_type": "code",
   "execution_count": null,
   "metadata": {},
   "outputs": [],
   "source": [
    "friedmanchisquare(*(dog[c] for c in dog.columns))"
   ]
  },
  {
   "cell_type": "code",
   "execution_count": null,
   "metadata": {},
   "outputs": [],
   "source": [
    "dog.mean()f"
   ]
  },
  {
   "cell_type": "code",
   "execution_count": null,
   "metadata": {},
   "outputs": [],
   "source": [
    "pvals = pd.DataFrame(columns=dog.columns,index=dog.columns,dtype='float')\n",
    "for c in dog.columns:\n",
    "    for d in dog.columns:\n",
    "        if c==d: continue\n",
    "        pvals.loc[c,d] = float(wilcoxon(dog[c],dog[d]).pvalue)\n",
    "pvals"
   ]
  },
  {
   "cell_type": "code",
   "execution_count": null,
   "metadata": {},
   "outputs": [],
   "source": [
    "from statsmodels.stats.multitest import multipletests"
   ]
  },
  {
   "cell_type": "code",
   "execution_count": null,
   "metadata": {},
   "outputs": [],
   "source": [
    "ps = pvals.values.reshape(-1)\n",
    "idx = np.isnan(ps)\n",
    "idx"
   ]
  },
  {
   "cell_type": "code",
   "execution_count": null,
   "metadata": {},
   "outputs": [],
   "source": [
    "ps[~idx]"
   ]
  },
  {
   "cell_type": "code",
   "execution_count": null,
   "metadata": {},
   "outputs": [],
   "source": [
    "multipletests(ps[~idx],method='fdr_by')"
   ]
  },
  {
   "cell_type": "code",
   "execution_count": null,
   "metadata": {},
   "outputs": [],
   "source": []
  },
  {
   "cell_type": "code",
   "execution_count": null,
   "metadata": {},
   "outputs": [],
   "source": [
    "\n",
    "\n",
    "\n",
    "\n",
    "\n",
    "\n",
    "\n",
    "\n",
    "\n",
    "\n",
    "\n",
    "\n",
    "\n",
    "\n",
    "\n",
    "\n",
    "\n",
    "\n",
    "\n",
    "\n"
   ]
  }
 ],
 "metadata": {
  "kernelspec": {
   "display_name": "Python 3",
   "language": "python",
   "name": "python3"
  },
  "language_info": {
   "codemirror_mode": {
    "name": "ipython",
    "version": 3
   },
   "file_extension": ".py",
   "mimetype": "text/x-python",
   "name": "python",
   "nbconvert_exporter": "python",
   "pygments_lexer": "ipython3",
   "version": "3.7.5"
  }
 },
 "nbformat": 4,
 "nbformat_minor": 4
}
