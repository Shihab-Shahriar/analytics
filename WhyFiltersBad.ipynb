{
 "cells": [
  {
   "cell_type": "code",
   "execution_count": 1,
   "metadata": {},
   "outputs": [],
   "source": [
    "import numpy as np\n",
    "import pandas as pd,os\n",
    "from sklearn.metrics import precision_score, recall_score, confusion_matrix\n",
    "from scipy.stats import wilcoxon, friedmanchisquare, rankdata\n",
    "import scikit_posthocs as sp\n",
    "import pingouin as pg\n",
    "import seaborn as sns\n",
    "import matplotlib.pyplot as plt\n",
    "from library.utils import read_data"
   ]
  },
  {
   "cell_type": "code",
   "execution_count": 7,
   "metadata": {},
   "outputs": [
    {
     "name": "stdout",
     "output_type": "stream",
     "text": [
      "ipf:(32, 30)\n"
     ]
    }
   ],
   "source": [
    "METRIC_TO_DROP = 'pr_rec_score' #pr_rec_score, matthews_corrcoef\n",
    "ipf = pd.read_csv(\"IPF.csv\",header=[0,1,2],index_col=0)\n",
    "ipf = ipf.drop(columns=['rboost_DT','rboost_NB'],level=1)\n",
    "ipf = ipf.drop(columns=[METRIC_TO_DROP],level=2).droplevel(2,axis=1) \n",
    "ipf = ipf.drop(columns=['ens'],level=0) \n",
    "print(f\"ipf:{ipf.shape}\")"
   ]
  },
  {
   "cell_type": "code",
   "execution_count": 27,
   "metadata": {},
   "outputs": [
    {
     "name": "stdout",
     "output_type": "stream",
     "text": [
      "ihf:(32, 30)\n"
     ]
    }
   ],
   "source": [
    "ihf = pd.read_csv(\"IHFilter_Final.csv\",header=[0,1,2],index_col=0)\n",
    "ihf = ihf.drop(columns=[METRIC_TO_DROP],level=2).droplevel(2,axis=1) \n",
    "ihf = ihf.drop(columns=['Spyder'],level=0) \n",
    "print(f\"ihf:{ihf.shape}\")"
   ]
  },
  {
   "cell_type": "code",
   "execution_count": 33,
   "metadata": {},
   "outputs": [
    {
     "name": "stdout",
     "output_type": "stream",
     "text": [
      "clni:(32, 30)\n"
     ]
    }
   ],
   "source": [
    "clni = pd.read_csv(\"CLNI.csv\",header=[0,1,2],index_col=0)\n",
    "#clni = clni.drop(columns=[c[0] for c in clni.columns if 'ens' in c[0]],level=0)\n",
    "clni = clni.drop(columns=[METRIC_TO_DROP],level=2).droplevel(2,axis=1) \n",
    "clni = clni.drop(columns=['Spyder'],level=0) \n",
    "print(f\"clni:{clni.shape}\")"
   ]
  },
  {
   "cell_type": "code",
   "execution_count": 34,
   "metadata": {
    "collapsed": true,
    "jupyter": {
     "outputs_hidden": true
    }
   },
   "outputs": [
    {
     "data": {
      "text/plain": [
       "MultiIndex([( 'smote',  'dt'),\n",
       "            ( 'smote',  'lr'),\n",
       "            ( 'smote',  'nb'),\n",
       "            ( 'smote', 'svm'),\n",
       "            ( 'smote', 'knn'),\n",
       "            ( 'smote',  'rf'),\n",
       "            (   'rus',  'dt'),\n",
       "            (   'rus',  'lr'),\n",
       "            (   'rus',  'nb'),\n",
       "            (   'rus', 'svm'),\n",
       "            (   'rus', 'knn'),\n",
       "            (   'rus',  'rf'),\n",
       "            ('wilson',  'dt'),\n",
       "            ('wilson',  'lr'),\n",
       "            ('wilson',  'nb'),\n",
       "            ('wilson', 'svm'),\n",
       "            ('wilson', 'knn'),\n",
       "            ('wilson',  'rf'),\n",
       "            ( 'tomek',  'dt'),\n",
       "            ( 'tomek',  'lr'),\n",
       "            ( 'tomek',  'nb'),\n",
       "            ( 'tomek', 'svm'),\n",
       "            ( 'tomek', 'knn'),\n",
       "            ( 'tomek',  'rf'),\n",
       "            (  'None',  'dt'),\n",
       "            (  'None',  'lr'),\n",
       "            (  'None',  'nb'),\n",
       "            (  'None', 'svm'),\n",
       "            (  'None', 'knn'),\n",
       "            (  'None',  'rf')],\n",
       "           names=['imb', 'clf'])"
      ]
     },
     "execution_count": 34,
     "metadata": {},
     "output_type": "execute_result"
    }
   ],
   "source": [
    "clni.columns"
   ]
  },
  {
   "cell_type": "code",
   "execution_count": 36,
   "metadata": {},
   "outputs": [
    {
     "name": "stdout",
     "output_type": "stream",
     "text": [
      "(384, 3)\n"
     ]
    },
    {
     "data": {
      "image/png": "[encoded data removed]",
      "text/plain": [
       "<Figure size 432x288 with 1 Axes>"
      ]
     },
     "metadata": {},
     "output_type": "display_data"
    }
   ],
   "source": [
    "boo = ipf.stack().reset_index(drop=True)\n",
    "tmp = pd.concat((boo[['None','rus','smote']],boo[['None','rus','smote']]),axis=0)\n",
    "print(tmp.shape)\n",
    "sns.boxplot(data=tmp);"
   ]
  },
  {
   "cell_type": "code",
   "execution_count": 128,
   "metadata": {},
   "outputs": [
    {
     "name": "stdout",
     "output_type": "stream",
     "text": [
      "jruby-1.5.0.csv noise:0.218, imb:3.098,276,855, Shape:(1131, 65)\n",
      "56 220\n"
     ]
    }
   ],
   "source": [
    "from library.utils import read_data\n",
    "from sklearn.preprocessing import StandardScaler\n",
    "from sklearn.decomposition import PCA\n",
    "from imblearn.over_sampling import SMOTE\n",
    "X,yn,yr = read_data('jruby-1.5.0.csv')\n",
    "X = StandardScaler().fit_transform(X)\n",
    "idx = yn==1\n",
    "real = yr[idx]\n",
    "TP = (yn==1) & (yr==1)\n",
    "FP = (yn==1) & (yr==0)\n",
    "print(TP.sum(),FP.sum())"
   ]
  },
  {
   "cell_type": "code",
   "execution_count": 120,
   "metadata": {},
   "outputs": [
    {
     "data": {
      "text/plain": [
       "array([0.47032073, 0.09976393])"
      ]
     },
     "execution_count": 120,
     "metadata": {},
     "output_type": "execute_result"
    }
   ],
   "source": [
    "pca = PCA(n_components=2).fit(X)\n",
    "Xp = pca.transform(X)\n",
    "pca.explained_variance_ratio_"
   ]
  },
  {
   "cell_type": "code",
   "execution_count": 121,
   "metadata": {},
   "outputs": [
    {
     "data": {
      "image/png": "[encoded data removed]",
      "text/plain": [
       "<Figure size 432x288 with 1 Axes>"
      ]
     },
     "metadata": {},
     "output_type": "display_data"
    }
   ],
   "source": [
    "plt.scatter(Xp[TP,0],Xp[TP,1],color='blue',label='TP');\n",
    "plt.scatter(Xp[FP,0],Xp[FP,1],color='red',label='FP');\n",
    "plt.legend();"
   ]
  },
  {
   "cell_type": "code",
   "execution_count": 122,
   "metadata": {},
   "outputs": [
    {
     "name": "stdout",
     "output_type": "stream",
     "text": [
      "[855 276]\n",
      "(1131, 5)\n"
     ]
    },
    {
     "data": {
      "text/plain": [
       "((579, 65), (579,))"
      ]
     },
     "execution_count": 122,
     "metadata": {},
     "output_type": "execute_result"
    }
   ],
   "source": [
    "from sklearn.neighbors import KNeighborsClassifier\n",
    "K = 5\n",
    "Xnew,purity = [],[]\n",
    "freq = np.bincount(yn)\n",
    "print(freq)\n",
    "knn = KNeighborsClassifier(n_neighbors=K).fit(X,yn)\n",
    "dist,ind = knn.kneighbors()\n",
    "pos_idx = np.argwhere(yn==1).reshape(-1)\n",
    "print(ind.shape)\n",
    "for i in range(freq.max()-freq.min()):\n",
    "    idx = np.random.choice(pos_idx,size=(2,),replace=True)\n",
    "    p1,p2 = X[idx[0]],X[idx[1]]\n",
    "    v = (yr[idx[0]] + yr[idx[1]])/2\n",
    "    a = np.random.uniform()\n",
    "    x = a*p1 + (1-a)*p2\n",
    "    Xnew.append(x)\n",
    "    purity.append(v)\n",
    "Xnew = np.array(Xnew)\n",
    "purity = np.array(purity)\n",
    "Xnew.shape,purity.shape"
   ]
  },
  {
   "cell_type": "code",
   "execution_count": 132,
   "metadata": {},
   "outputs": [
    {
     "name": "stdout",
     "output_type": "stream",
     "text": [
      "(1710, 65)\n",
      "[0.50783787 0.0930925 ]\n"
     ]
    },
    {
     "data": {
      "image/png": "[encoded data removed]",
      "text/plain": [
       "<Figure size 720x360 with 1 Axes>"
      ]
     },
     "metadata": {},
     "output_type": "display_data"
    }
   ],
   "source": [
    "XX = np.vstack((X,Xnew))\n",
    "print(XX.shape)\n",
    "pca = PCA(n_components=2).fit(XX)\n",
    "Xns = pca.transform(Xnew)\n",
    "print(pca.explained_variance_ratio_)\n",
    "plt.figure(figsize=(10,5))\n",
    "plt.scatter(Xns[purity==0.0,0],Xns[purity==0.0,1],c='red',label='impure');\n",
    "plt.scatter(Xns[purity==0.5,0],Xns[purity==0.5,1],c='purple',label='bastards');\n",
    "plt.scatter(Xns[purity==1.0,0],Xns[purity==1.0,1],c='blue',label='pure');\n",
    "plt.legend();"
   ]
  },
  {
   "cell_type": "code",
   "execution_count": 133,
   "metadata": {},
   "outputs": [
    {
     "data": {
      "text/plain": [
       "(357, 188, 34)"
      ]
     },
     "execution_count": 133,
     "metadata": {},
     "output_type": "execute_result"
    }
   ],
   "source": [
    "(purity==0).sum(),(purity==0.5).sum(),(purity==1.0).sum()"
   ]
  },
  {
   "cell_type": "code",
   "execution_count": null,
   "metadata": {},
   "outputs": [],
   "source": []
  },
  {
   "cell_type": "code",
   "execution_count": 65,
   "metadata": {},
   "outputs": [
    {
     "data": {
      "text/plain": [
       "Index(['activemq-5.8.0.csv', 'groovy-1_6_BETA_1.csv', 'activemq-5.3.0.csv',\n",
       "       'wicket-1.3.0-incubating-beta-1.csv', 'jruby-1.1.csv',\n",
       "       'jruby-1.4.0.csv', 'lucene-2.3.0.csv', 'hbase-0.95.2.csv',\n",
       "       'lucene-3.0.0.csv', 'camel-2.9.0.csv', 'wicket-1.5.3.csv',\n",
       "       'lucene-3.1.csv', 'groovy-1_6_BETA_2.csv', 'activemq-5.2.0.csv',\n",
       "       'groovy-1_5_7.csv', 'hbase-0.95.0.csv', 'camel-2.11.0.csv',\n",
       "       'jruby-1.7.0.preview1.csv', 'hive-0.10.0.csv', 'camel-2.10.0.csv',\n",
       "       'derby-10.2.1.6.csv', 'jruby-1.5.0.csv', 'derby-10.3.1.4.csv',\n",
       "       'lucene-2.9.0.csv', 'hbase-0.94.0.csv', 'camel-1.4.0.csv',\n",
       "       'activemq-5.1.0.csv', 'activemq-5.0.0.csv', 'derby-10.5.1.1.csv',\n",
       "       'wicket-1.3.0-beta2.csv', 'hive-0.12.0.csv', 'hive-0.9.0.csv'],\n",
       "      dtype='object')"
      ]
     },
     "execution_count": 65,
     "metadata": {},
     "output_type": "execute_result"
    }
   ],
   "source": [
    "ipf.index"
   ]
  },
  {
   "cell_type": "code",
   "execution_count": null,
   "metadata": {},
   "outputs": [],
   "source": [
    "\n",
    "\n",
    "\n",
    "\n",
    "\n",
    "\n",
    "\n",
    "\n",
    "\n",
    "\n",
    "\n",
    "\n",
    "\n",
    "\n",
    "\n",
    "\n",
    "\n"
   ]
  }
 ],
 "metadata": {
  "kernelspec": {
   "display_name": "Python 3",
   "language": "python",
   "name": "python3"
  },
  "language_info": {
   "codemirror_mode": {
    "name": "ipython",
    "version": 3
   },
   "file_extension": ".py",
   "mimetype": "text/x-python",
   "name": "python",
   "nbconvert_exporter": "python",
   "pygments_lexer": "ipython3",
   "version": "3.7.6"
  }
 },
 "nbformat": 4,
 "nbformat_minor": 4
}
