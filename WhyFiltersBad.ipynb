{
 "cells": [
  {
   "cell_type": "code",
   "execution_count": 1,
   "metadata": {},
   "outputs": [],
   "source": [
    "import numpy as np\n",
    "import pandas as pd,os\n",
    "from sklearn.metrics import precision_score, recall_score, confusion_matrix\n",
    "from scipy.stats import wilcoxon, friedmanchisquare, rankdata\n",
    "import scikit_posthocs as sp\n",
    "import pingouin as pg\n",
    "import seaborn as sns\n",
    "import matplotlib.pyplot as plt\n",
    "from library.utils import read_data"
   ]
  },
  {
   "cell_type": "code",
   "execution_count": 3,
   "metadata": {},
   "outputs": [
    {
     "name": "stdout",
     "output_type": "stream",
     "text": [
      "ipf:(32, 30)\n"
     ]
    }
   ],
   "source": [
    "METRIC_TO_DROP = 'pr_rec_score' #pr_rec_score, matthews_corrcoef\n",
    "ipf = pd.read_csv(\"Results/IPF.csv\",header=[0,1,2],index_col=0)\n",
    "ipf = ipf.drop(columns=['rboost_DT','rboost_NB'],level=1)\n",
    "ipf = ipf.drop(columns=[METRIC_TO_DROP],level=2).droplevel(2,axis=1) \n",
    "ipf = ipf.drop(columns=['ens'],level=0) \n",
    "print(f\"ipf:{ipf.shape}\")"
   ]
  },
  {
   "cell_type": "code",
   "execution_count": null,
   "metadata": {},
   "outputs": [],
   "source": [
    "ihf = pd.read_csv(\"IHFilter_Final.csv\",header=[0,1,2],index_col=0)\n",
    "ihf = ihf.drop(columns=[METRIC_TO_DROP],level=2).droplevel(2,axis=1) \n",
    "ihf = ihf.drop(columns=['Spyder'],level=0) \n",
    "print(f\"ihf:{ihf.shape}\")"
   ]
  },
  {
   "cell_type": "code",
   "execution_count": null,
   "metadata": {},
   "outputs": [],
   "source": [
    "clni = pd.read_csv(\"CLNI.csv\",header=[0,1,2],index_col=0)\n",
    "#clni = clni.drop(columns=[c[0] for c in clni.columns if 'ens' in c[0]],level=0)\n",
    "clni = clni.drop(columns=[METRIC_TO_DROP],level=2).droplevel(2,axis=1) \n",
    "clni = clni.drop(columns=['Spyder'],level=0) \n",
    "print(f\"clni:{clni.shape}\")"
   ]
  },
  {
   "cell_type": "code",
   "execution_count": null,
   "metadata": {},
   "outputs": [],
   "source": [
    "clni.columns"
   ]
  },
  {
   "cell_type": "code",
   "execution_count": 24,
   "metadata": {},
   "outputs": [
    {
     "name": "stdout",
     "output_type": "stream",
     "text": [
      "(384, 3)\n"
     ]
    },
    {
     "data": {
      "image/png": "[encoded data removed]",
      "text/plain": [
       "<Figure size 432x288 with 1 Axes>"
      ]
     },
     "metadata": {},
     "output_type": "display_data"
    }
   ],
   "source": [
    "boo = ipf.stack().reset_index(drop=True)\n",
    "tmp = pd.concat((boo[['None','rus','smote']],boo[['None','rus','smote']]),axis=0)\n",
    "tmp.columns = ['None','under-sampling','over-sampling']\n",
    "print(tmp.shape)\n",
    "plt.ylabel(\"MCC\")\n",
    "fig = sns.boxplot(data=tmp);\n",
    "fig.get_figure().savefig(\"figures/imb.eps\",format='eps');"
   ]
  },
  {
   "cell_type": "code",
   "execution_count": 5,
   "metadata": {
    "collapsed": true,
    "jupyter": {
     "outputs_hidden": true
    }
   },
   "outputs": [
    {
     "name": "stderr",
     "output_type": "stream",
     "text": [
      "C:\\Users\\Shihab\\Anaconda3\\envs\\ml\\lib\\site-packages\\sklearn\\utils\\deprecation.py:144: FutureWarning: The sklearn.neighbors.base module is  deprecated in version 0.22 and will be removed in version 0.24. The corresponding classes / functions should instead be imported from sklearn.neighbors. Anything that cannot be imported from sklearn.neighbors is now part of the private API.\n",
      "  warnings.warn(message, FutureWarning)\n",
      "C:\\Users\\Shihab\\Anaconda3\\envs\\ml\\lib\\site-packages\\sklearn\\utils\\deprecation.py:144: FutureWarning: The sklearn.ensemble.bagging module is  deprecated in version 0.22 and will be removed in version 0.24. The corresponding classes / functions should instead be imported from sklearn.ensemble. Anything that cannot be imported from sklearn.ensemble is now part of the private API.\n",
      "  warnings.warn(message, FutureWarning)\n",
      "C:\\Users\\Shihab\\Anaconda3\\envs\\ml\\lib\\site-packages\\sklearn\\utils\\deprecation.py:144: FutureWarning: The sklearn.ensemble.base module is  deprecated in version 0.22 and will be removed in version 0.24. The corresponding classes / functions should instead be imported from sklearn.ensemble. Anything that cannot be imported from sklearn.ensemble is now part of the private API.\n",
      "  warnings.warn(message, FutureWarning)\n",
      "C:\\Users\\Shihab\\Anaconda3\\envs\\ml\\lib\\site-packages\\sklearn\\utils\\deprecation.py:144: FutureWarning: The sklearn.ensemble.forest module is  deprecated in version 0.22 and will be removed in version 0.24. The corresponding classes / functions should instead be imported from sklearn.ensemble. Anything that cannot be imported from sklearn.ensemble is now part of the private API.\n",
      "  warnings.warn(message, FutureWarning)\n",
      "C:\\Users\\Shihab\\Anaconda3\\envs\\ml\\lib\\site-packages\\sklearn\\utils\\deprecation.py:144: FutureWarning: The sklearn.utils.testing module is  deprecated in version 0.22 and will be removed in version 0.24. The corresponding classes / functions should instead be imported from sklearn.utils. Anything that cannot be imported from sklearn.utils is now part of the private API.\n",
      "  warnings.warn(message, FutureWarning)\n",
      "C:\\Users\\Shihab\\Anaconda3\\envs\\ml\\lib\\site-packages\\sklearn\\utils\\deprecation.py:144: FutureWarning: The sklearn.metrics.classification module is  deprecated in version 0.22 and will be removed in version 0.24. The corresponding classes / functions should instead be imported from sklearn.metrics. Anything that cannot be imported from sklearn.metrics is now part of the private API.\n",
      "  warnings.warn(message, FutureWarning)\n"
     ]
    },
    {
     "name": "stdout",
     "output_type": "stream",
     "text": [
      "jruby-1.5.0.csv noise:0.218, imb:3.098,276,855, Shape:(1131, 65)\n",
      "56 220\n"
     ]
    }
   ],
   "source": [
    "from library.utils import read_data\n",
    "from sklearn.preprocessing import StandardScaler\n",
    "from sklearn.decomposition import PCA\n",
    "from imblearn.over_sampling import SMOTE\n",
    "X,yn,yr = read_data('jruby-1.5.0.csv')\n",
    "X = StandardScaler().fit_transform(X)\n",
    "idx = yn==1\n",
    "real = yr[idx]\n",
    "TP = (yn==1) & (yr==1)\n",
    "FP = (yn==1) & (yr==0)\n",
    "print(TP.sum(),FP.sum())"
   ]
  },
  {
   "cell_type": "code",
   "execution_count": 6,
   "metadata": {},
   "outputs": [
    {
     "data": {
      "text/plain": [
       "array([0.47032073, 0.09976393])"
      ]
     },
     "execution_count": 6,
     "metadata": {},
     "output_type": "execute_result"
    }
   ],
   "source": [
    "pca = PCA(n_components=2).fit(X)\n",
    "Xp = pca.transform(X)\n",
    "pca.explained_variance_ratio_"
   ]
  },
  {
   "cell_type": "code",
   "execution_count": 35,
   "metadata": {},
   "outputs": [
    {
     "data": {
      "image/png": "[encoded data removed]",
      "text/plain": [
       "<Figure size 504x360 with 1 Axes>"
      ]
     },
     "metadata": {},
     "output_type": "display_data"
    }
   ],
   "source": [
    "plt.figure(figsize=(7,5))\n",
    "plt.tick_params(axis='both', which='both', bottom=False, top=False, labelbottom=False, right=False, left=False, labelleft=False)\n",
    "plt.scatter(Xp[TP,0],Xp[TP,1],color='blue',label='clean');\n",
    "plt.scatter(Xp[FP,0],Xp[FP,1],color='red',label='noise');\n",
    "plt.legend();\n",
    "form = 'pdf'\n",
    "plt.savefig(f\"figures/orig_pos.{form}\",format=form);"
   ]
  },
  {
   "cell_type": "code",
   "execution_count": 32,
   "metadata": {},
   "outputs": [
    {
     "data": {
      "text/plain": [
       "<Figure size 432x288 with 0 Axes>"
      ]
     },
     "metadata": {},
     "output_type": "display_data"
    }
   ],
   "source": []
  },
  {
   "cell_type": "code",
   "execution_count": 8,
   "metadata": {},
   "outputs": [
    {
     "name": "stdout",
     "output_type": "stream",
     "text": [
      "[855 276]\n",
      "(1131, 5)\n"
     ]
    },
    {
     "data": {
      "text/plain": [
       "((579, 65), (579,))"
      ]
     },
     "execution_count": 8,
     "metadata": {},
     "output_type": "execute_result"
    }
   ],
   "source": [
    "from sklearn.neighbors import KNeighborsClassifier\n",
    "K = 5\n",
    "Xnew,purity = [],[]\n",
    "freq = np.bincount(yn)\n",
    "print(freq)\n",
    "knn = KNeighborsClassifier(n_neighbors=K).fit(X,yn)\n",
    "dist,ind = knn.kneighbors()\n",
    "pos_idx = np.argwhere(yn==1).reshape(-1)\n",
    "print(ind.shape)\n",
    "for i in range(freq.max()-freq.min()):\n",
    "    idx = np.random.choice(pos_idx,size=(2,),replace=True)\n",
    "    p1,p2 = X[idx[0]],X[idx[1]]\n",
    "    v = (yr[idx[0]] + yr[idx[1]])/2\n",
    "    a = np.random.uniform()\n",
    "    x = a*p1 + (1-a)*p2\n",
    "    Xnew.append(x)\n",
    "    purity.append(v)\n",
    "Xnew = np.array(Xnew)\n",
    "purity = np.array(purity)\n",
    "Xnew.shape,purity.shape"
   ]
  },
  {
   "cell_type": "code",
   "execution_count": 36,
   "metadata": {},
   "outputs": [
    {
     "name": "stdout",
     "output_type": "stream",
     "text": [
      "(1710, 65)\n",
      "[0.5050984  0.09372296]\n"
     ]
    },
    {
     "data": {
      "image/png": "[encoded data removed]",
      "text/plain": [
       "<Figure size 504x360 with 1 Axes>"
      ]
     },
     "metadata": {},
     "output_type": "display_data"
    }
   ],
   "source": [
    "XX = np.vstack((X,Xnew))\n",
    "print(XX.shape)\n",
    "pca = PCA(n_components=2).fit(XX)\n",
    "Xns = pca.transform(Xnew)\n",
    "print(pca.explained_variance_ratio_)\n",
    "plt.figure(figsize=(7,5))\n",
    "plt.scatter(Xns[purity==0.0,0],Xns[purity==0.0,1],c='red',label='noise');\n",
    "plt.scatter(Xns[purity==0.5,0],Xns[purity==0.5,1],c='purple',label='hybrid');\n",
    "plt.scatter(Xns[purity==1.0,0],Xns[purity==1.0,1],c='blue',label='clean');\n",
    "plt.legend();\n",
    "\n",
    "form = 'pdf'\n",
    "plt.savefig(f\"figures/aft_smote.{form}\",format=form);"
   ]
  },
  {
   "cell_type": "code",
   "execution_count": 15,
   "metadata": {},
   "outputs": [
    {
     "data": {
      "text/plain": [
       "(370, 185, 24)"
      ]
     },
     "execution_count": 15,
     "metadata": {},
     "output_type": "execute_result"
    }
   ],
   "source": [
    "(purity==0).sum(),(purity==0.5).sum(),(purity==1.0).sum()"
   ]
  },
  {
   "cell_type": "markdown",
   "metadata": {},
   "source": [
    "## Under-sampling"
   ]
  },
  {
   "cell_type": "code",
   "execution_count": null,
   "metadata": {},
   "outputs": [],
   "source": [
    "ipf.index"
   ]
  },
  {
   "cell_type": "code",
   "execution_count": null,
   "metadata": {},
   "outputs": [],
   "source": [
    "\n",
    "\n",
    "\n",
    "\n",
    "\n",
    "\n",
    "\n",
    "\n",
    "\n",
    "\n",
    "\n",
    "\n",
    "\n",
    "\n",
    "\n",
    "\n",
    "\n"
   ]
  }
 ],
 "metadata": {
  "kernelspec": {
   "display_name": "Python 3",
   "language": "python",
   "name": "python3"
  },
  "language_info": {
   "codemirror_mode": {
    "name": "ipython",
    "version": 3
   },
   "file_extension": ".py",
   "mimetype": "text/x-python",
   "name": "python",
   "nbconvert_exporter": "python",
   "pygments_lexer": "ipython3",
   "version": "3.7.6"
  }
 },
 "nbformat": 4,
 "nbformat_minor": 4
}
