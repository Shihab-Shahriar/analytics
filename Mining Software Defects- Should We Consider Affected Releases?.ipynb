{
 "cells": [
  {
   "cell_type": "code",
   "execution_count": 20,
   "metadata": {},
   "outputs": [],
   "source": [
    "from collections import defaultdict\n",
    "import numpy as np,os\n",
    "import pandas as pd\n",
    "from sklearn.preprocessing import LabelEncoder, StandardScaler, power_transform, MinMaxScaler\n",
    "from sklearn.tree import DecisionTreeClassifier\n",
    "from sklearn.linear_model import LogisticRegression\n",
    "from sklearn.neighbors import KNeighborsClassifier\n",
    "from sklearn.ensemble import RandomForestClassifier\n",
    "from sklearn.svm import SVC\n",
    "from sklearn.model_selection import cross_val_score, RepeatedStratifiedKFold, GridSearchCV, cross_val_predict\n",
    "from sklearn.utils import shuffle\n",
    "from sklearn.metrics import precision_score, recall_score, f1_score, roc_auc_score, \\\n",
    "        confusion_matrix, matthews_corrcoef, precision_recall_curve, auc\n",
    "from imblearn.ensemble import BalancedRandomForestClassifier\n",
    "import seaborn as sns,matplotlib.pyplot as plt\n",
    "\n",
    "from library.utils import evaluate, read_data"
   ]
  },
  {
   "cell_type": "code",
   "execution_count": 16,
   "metadata": {},
   "outputs": [],
   "source": [
    "def oob_eval(clf,X,y_noisy,y_real):\n",
    "    scores = defaultdict(list)\n",
    "    for _ in range(100):\n",
    "        train_id = np.random.choice(range(len(X)),size=len(X))\n",
    "        clf = clf.fit(X[train_id],y_noisy[train_id])\n",
    "        test_mask = np.ones_like(y_noisy,dtype='bool')\n",
    "        test_mask[train_id] = 0\n",
    "        probs = clf.predict_proba(X[test_mask])\n",
    "        labels = np.argmax(probs,axis=1)\n",
    "        assert probs.shape==(test_mask.sum(),2) \n",
    "        assert labels.shape==(test_mask.sum(),)\n",
    "        scores['pr'] = precision_score(y_real[test_mask],labels)\n",
    "        scores['rec'] = recall_score(y_real[test_mask],labels)\n",
    "        scores['f1'] = f1_score(y_real[test_mask],labels)\n",
    "        scores['roc'] = roc_auc_score(y_real[test_mask],probs[:,1])\n",
    "#         scores['mathew'] = matthews_corrcoef(y_real[test_mask],labels)\n",
    "#         prec, rec, _ = precision_recall_curve(y_real[test_mask],probs[:,1])\n",
    "#         scores['APRC'] = auc(rec,prec)\n",
    "    for k in scores:\n",
    "        scores[k] = np.array(scores[k]).mean()\n",
    "        print(k,scores[k])\n",
    "    return scores"
   ]
  },
  {
   "cell_type": "code",
   "execution_count": 17,
   "metadata": {},
   "outputs": [],
   "source": [
    "DATASETS = [f for f in os.listdir(\"JIRA/\") if 'csv' in f]\n",
    "DATASETS = shuffle(DATASETS)"
   ]
  },
  {
   "cell_type": "code",
   "execution_count": 21,
   "metadata": {},
   "outputs": [],
   "source": [
    "rf = RandomForestClassifier(n_estimators=50,n_jobs=-1,random_state=42)\n",
    "lr = LogisticRegression(max_iter=1000,random_state=42)"
   ]
  },
  {
   "cell_type": "code",
   "execution_count": 22,
   "metadata": {},
   "outputs": [
    {
     "name": "stdout",
     "output_type": "stream",
     "text": [
      "noise:0.085, imb:8.463,80,677, Shape:(757, 65)\n",
      "groovy-1_5_7.csv\n",
      "Real:26, Heu:80, Actual % Bugs,Clean: 0.263,0.993\n",
      "pr 0.3125\n",
      "rec 0.7142857142857143\n",
      "f1 0.43478260869565216\n",
      "roc 0.9348279457768508\n",
      "mathew 0.4534102097062684\n",
      "APRC 0.42738897445770757\n",
      "\n",
      "noise:0.044, imb:34.600,200,6920, Shape:(7120, 65)\n",
      "camel-2.9.0.csv\n",
      "Real:199, Heu:200, Actual % Bugs,Clean: 0.215,0.977\n",
      "pr 0.42857142857142855\n",
      "rec 0.039473684210526314\n",
      "f1 0.07228915662650602\n",
      "roc 0.7567069424534099\n",
      "mathew 0.12329391263424652\n",
      "APRC 0.16780366786474793\n",
      "\n",
      "noise:0.234, imb:17.341,91,1578, Shape:(1669, 65)\n",
      "hbase-0.95.0.csv\n",
      "Real:383, Heu:91, Actual % Bugs,Clean: 0.462,0.784\n",
      "pr 1.0\n",
      "rec 0.0546875\n",
      "f1 0.1037037037037037\n",
      "roc 0.6266425862970711\n",
      "mathew 0.20890294972548062\n",
      "APRC 0.3947981495219468\n",
      "\n",
      "noise:0.185, imb:6.037,190,1147, Shape:(1337, 65)\n",
      "lucene-3.0.0.csv\n",
      "Real:155, Heu:190, Actual % Bugs,Clean: 0.258,0.908\n",
      "pr 0.125\n",
      "rec 0.06666666666666667\n",
      "f1 0.08695652173913045\n",
      "roc 0.7094679186228482\n",
      "mathew 0.001245454601036818\n",
      "APRC 0.19829206083454418\n",
      "\n",
      "noise:0.094, imb:15.669,142,2225, Shape:(2367, 65)\n",
      "activemq-5.3.0.csv\n",
      "Real:258, Heu:142, Actual % Bugs,Clean: 0.627,0.924\n",
      "pr 0.7894736842105263\n",
      "rec 0.16666666666666666\n",
      "f1 0.27522935779816515\n",
      "roc 0.8198539176626826\n",
      "mathew 0.3357064134432489\n",
      "APRC 0.4492305141871362\n",
      "\n",
      "CPU times: user 2min 47s, sys: 10.4 s, total: 2min 57s\n",
      "Wall time: 2min 14s\n"
     ]
    }
   ],
   "source": [
    "%%time\n",
    "res = []\n",
    "for d in DATASETS[:5]:\n",
    "    X,y_noisy,y_real = read_data(d)\n",
    "    print(d)\n",
    "    tn, fp, fn, tp = confusion_matrix(y_real,y_noisy).ravel()\n",
    "    print(f\"Real:{y_real.sum()}, Heu:{y_noisy.sum()}, Actual % Bugs,Clean: {tp/(tp+fp):.3f},{tn/(tn+fn):.3f}\")\n",
    "    r = oob_eval(rf,X,y_noisy,y_real)\n",
    "    res.append(r)\n",
    "    print()"
   ]
  },
  {
   "cell_type": "code",
   "execution_count": null,
   "metadata": {},
   "outputs": [],
   "source": [
    "np.random.choice(DATASETS,5)"
   ]
  },
  {
   "cell_type": "code",
   "execution_count": null,
   "metadata": {},
   "outputs": [],
   "source": [
    "np.unique(train).shape"
   ]
  },
  {
   "cell_type": "code",
   "execution_count": null,
   "metadata": {},
   "outputs": [],
   "source": [
    "358/978"
   ]
  },
  {
   "cell_type": "code",
   "execution_count": null,
   "metadata": {},
   "outputs": [],
   "source": [
    "\n",
    "\n",
    "\n",
    "\n",
    "\n",
    "\n",
    "\n",
    "\n",
    "\n",
    "\n",
    "\n",
    "\n",
    "\n",
    "\n",
    "\n",
    "\n",
    "\n",
    "\n",
    "\n"
   ]
  }
 ],
 "metadata": {
  "kernelspec": {
   "display_name": "Python 3",
   "language": "python",
   "name": "python3"
  },
  "language_info": {
   "codemirror_mode": {
    "name": "ipython",
    "version": 3
   },
   "file_extension": ".py",
   "mimetype": "text/x-python",
   "name": "python",
   "nbconvert_exporter": "python",
   "pygments_lexer": "ipython3",
   "version": "3.7.5"
  }
 },
 "nbformat": 4,
 "nbformat_minor": 4
}
