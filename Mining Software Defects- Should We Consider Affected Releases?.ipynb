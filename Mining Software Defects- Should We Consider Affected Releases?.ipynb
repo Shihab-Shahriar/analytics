{
 "cells": [
  {
   "cell_type": "code",
   "execution_count": 1,
   "metadata": {},
   "outputs": [],
   "source": [
    "from collections import defaultdict\n",
    "import numpy as np,os\n",
    "import pandas as pd\n",
    "from sklearn.preprocessing import LabelEncoder, StandardScaler, power_transform, MinMaxScaler\n",
    "from sklearn.tree import DecisionTreeClassifier\n",
    "from sklearn.neighbors import KNeighborsClassifier\n",
    "from sklearn.ensemble import RandomForestClassifier\n",
    "from sklearn.svm import SVC\n",
    "from sklearn.model_selection import cross_val_score, RepeatedStratifiedKFold, GridSearchCV, cross_val_predict\n",
    "from sklearn.utils import shuffle\n",
    "from sklearn.metrics import precision_score, recall_score, f1_score, roc_auc_score, confusion_matrix\n",
    "from imblearn.ensemble import BalancedRandomForestClassifier\n",
    "import seaborn as sns,matplotlib.pyplot as plt\n",
    "\n",
    "from library.utils import evaluate, read_data"
   ]
  },
  {
   "cell_type": "code",
   "execution_count": 2,
   "metadata": {},
   "outputs": [],
   "source": [
    "def oob_eval(clf,X,y_noisy,y_real):\n",
    "    scores = defaultdict(list)\n",
    "    for _ in range(100):\n",
    "        train_id = np.random.choice(range(len(X)),size=len(X))\n",
    "        clf = clf.fit(X[train_id],y_noisy[train_id])\n",
    "        test_mask = np.ones_like(y_noisy,dtype='bool')\n",
    "        test_mask[train_id] = 0\n",
    "        probs = clf.predict_proba(X[test_mask])\n",
    "        labels = np.argmax(probs,axis=1)\n",
    "        assert probs.shape==(test_mask.sum(),2) \n",
    "        assert labels.shape==(test_mask.sum(),)\n",
    "        scores['pr'] = precision_score(y_real[test_mask],labels)\n",
    "        scores['rec'] = recall_score(y_real[test_mask],labels)\n",
    "        scores['f1'] = f1_score(y_real[test_mask],labels)\n",
    "        scores['roc'] = roc_auc_score(y_real[test_mask],probs[:,1])\n",
    "    for k in scores:\n",
    "        scores[k] = np.array(scores[k]).mean()\n",
    "        print(k,scores[k])\n",
    "    return scores"
   ]
  },
  {
   "cell_type": "code",
   "execution_count": 3,
   "metadata": {},
   "outputs": [],
   "source": [
    "DATASETS = [f for f in os.listdir(\"JIRA/\") if 'csv' in f]"
   ]
  },
  {
   "cell_type": "code",
   "execution_count": 4,
   "metadata": {},
   "outputs": [],
   "source": [
    "rf = BalancedRandomForestClassifier(n_estimators=50,n_jobs=-1,random_state=42)"
   ]
  },
  {
   "cell_type": "code",
   "execution_count": null,
   "metadata": {},
   "outputs": [
    {
     "name": "stdout",
     "output_type": "stream",
     "text": [
      "noise:0.058, imb:15.847,203,3217, Shape:(3420, 65)\n",
      "activemq-5.8.0.csv\n",
      "Real:206, Heu:203, Actual % Bugs,Clean: 0.522,0.969\n",
      "pr 0.11370262390670553\n",
      "rec 0.6842105263157895\n",
      "f1 0.19499999999999998\n",
      "roc 0.8218634822349993\n",
      "\n",
      "noise:0.128, imb:6.017,117,704, Shape:(821, 65)\n",
      "groovy-1_6_BETA_1.csv\n",
      "Real:70, Heu:117, Actual % Bugs,Clean: 0.350,0.959\n",
      "pr 0.23076923076923078\n",
      "rec 0.782608695652174\n",
      "f1 0.3564356435643565\n",
      "roc 0.8273836765827612\n",
      "\n",
      "noise:0.094, imb:15.669,142,2225, Shape:(2367, 65)\n",
      "activemq-5.3.0.csv\n",
      "Real:258, Heu:142, Actual % Bugs,Clean: 0.627,0.924\n",
      "pr 0.3333333333333333\n",
      "rec 0.6470588235294118\n",
      "f1 0.44\n",
      "roc 0.817630549629178\n",
      "\n",
      "noise:0.164, imb:4.806,288,1384, Shape:(1672, 65)\n",
      "wicket-1.3.0-incubating-beta-1.csv\n",
      "Real:101, Heu:288, Actual % Bugs,Clean: 0.198,0.968\n",
      "pr 0.18064516129032257\n",
      "rec 0.7777777777777778\n",
      "f1 0.2931937172774869\n",
      "roc 0.8352941176470587\n",
      "\n",
      "noise:0.175, imb:3.540,161,570, Shape:(731, 65)\n",
      "jruby-1.1.csv\n",
      "Real:87, Heu:161, Actual % Bugs,Clean: 0.373,0.953\n",
      "pr 0.23333333333333334\n",
      "rec 0.8076923076923077\n",
      "f1 0.3620689655172413\n",
      "roc 0.8560628302994715\n",
      "\n",
      "noise:0.190, imb:3.890,200,778, Shape:(978, 65)\n",
      "jruby-1.4.0.csv\n",
      "Real:180, Heu:200, Actual % Bugs,Clean: 0.485,0.893\n",
      "pr 0.4230769230769231\n",
      "rec 0.6962025316455697\n",
      "f1 0.5263157894736842\n",
      "roc 0.7982706364770903\n",
      "\n",
      "noise:0.204, imb:4.031,160,645, Shape:(805, 65)\n",
      "lucene-2.3.0.csv\n",
      "Real:196, Heu:160, Actual % Bugs,Clean: 0.600,0.845\n",
      "pr 0.5957446808510638\n",
      "rec 0.7272727272727273\n",
      "f1 0.6549707602339181\n",
      "roc 0.8596564725596985\n",
      "\n",
      "noise:0.260, imb:15.088,114,1720, Shape:(1834, 65)\n",
      "hbase-0.95.2.csv\n",
      "Real:483, Heu:114, Actual % Bugs,Clean: 0.526,0.754\n",
      "pr 0.4723926380368098\n",
      "rec 0.4095744680851064\n",
      "f1 0.43874643874643876\n",
      "roc 0.7033592389688708\n",
      "\n",
      "noise:0.185, imb:6.037,190,1147, Shape:(1337, 65)\n",
      "lucene-3.0.0.csv\n",
      "Real:155, Heu:190, Actual % Bugs,Clean: 0.258,0.908\n",
      "pr 0.29508196721311475\n",
      "rec 0.6206896551724138\n",
      "f1 0.4\n",
      "roc 0.8081486042692938\n",
      "\n",
      "noise:0.044, imb:34.600,200,6920, Shape:(7120, 65)\n",
      "camel-2.9.0.csv\n",
      "Real:199, Heu:200, Actual % Bugs,Clean: 0.215,0.977\n",
      "pr 0.11910112359550562\n",
      "rec 0.6708860759493671\n",
      "f1 0.20229007633587787\n",
      "roc 0.8033191480968278\n",
      "\n",
      "noise:0.064, imb:26.720,93,2485, Shape:(2578, 65)\n",
      "wicket-1.5.3.csv\n",
      "Real:105, Heu:93, Actual % Bugs,Clean: 0.172,0.964\n",
      "pr 0.11764705882352941\n",
      "rec 0.6382978723404256\n",
      "f1 0.1986754966887417\n",
      "roc 0.775146156795093\n",
      "\n",
      "noise:0.120, imb:7.477,331,2475, Shape:(2806, 65)\n",
      "lucene-3.1.csv\n",
      "Real:107, Heu:331, Actual % Bugs,Clean: 0.154,0.977\n",
      "pr 0.08196721311475409\n",
      "rec 0.5714285714285714\n",
      "f1 0.14336917562724014\n",
      "roc 0.7508054711246199\n",
      "\n",
      "noise:0.096, imb:7.583,103,781, Shape:(884, 65)\n",
      "groovy-1_6_BETA_2.csv\n",
      "Real:76, Heu:103, Actual % Bugs,Clean: 0.456,0.963\n"
     ]
    }
   ],
   "source": [
    "%%time\n",
    "res = []\n",
    "for d in DATASETS:\n",
    "    X,y_noisy,y_real = read_data(d)\n",
    "    print(d)\n",
    "    tn, fp, fn, tp = confusion_matrix(y_real,y_noisy).ravel()\n",
    "    print(f\"Real:{y_real.sum()}, Heu:{y_noisy.sum()}, Actual % Bugs,Clean: {tp/(tp+fp):.3f},{tn/(tn+fn):.3f}\")\n",
    "    r = oob_eval(rf,X,y_noisy,y_real)\n",
    "    res.append(r)\n",
    "    print()"
   ]
  },
  {
   "cell_type": "code",
   "execution_count": null,
   "metadata": {},
   "outputs": [],
   "source": [
    "np.random.choice(DATASETS,5)"
   ]
  },
  {
   "cell_type": "code",
   "execution_count": null,
   "metadata": {},
   "outputs": [],
   "source": [
    "np.unique(train).shape"
   ]
  },
  {
   "cell_type": "code",
   "execution_count": null,
   "metadata": {},
   "outputs": [],
   "source": [
    "358/978"
   ]
  },
  {
   "cell_type": "code",
   "execution_count": null,
   "metadata": {},
   "outputs": [],
   "source": [
    "\n",
    "\n",
    "\n",
    "\n",
    "\n",
    "\n",
    "\n",
    "\n",
    "\n",
    "\n",
    "\n",
    "\n",
    "\n",
    "\n",
    "\n",
    "\n",
    "\n",
    "\n",
    "\n"
   ]
  }
 ],
 "metadata": {
  "kernelspec": {
   "display_name": "Python 3",
   "language": "python",
   "name": "python3"
  },
  "language_info": {
   "codemirror_mode": {
    "name": "ipython",
    "version": 3
   },
   "file_extension": ".py",
   "mimetype": "text/x-python",
   "name": "python",
   "nbconvert_exporter": "python",
   "pygments_lexer": "ipython3",
   "version": "3.7.3"
  }
 },
 "nbformat": 4,
 "nbformat_minor": 4
}
