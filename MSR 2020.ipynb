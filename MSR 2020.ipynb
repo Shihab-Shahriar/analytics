{
 "cells": [
  {
   "cell_type": "code",
   "execution_count": 23,
   "metadata": {
    "_cell_guid": "b1076dfc-b9ad-4769-8c92-a6c4dae69d19",
    "_uuid": "8f2839f25d086af736a60e9eeb907d3b93b6e0e5"
   },
   "outputs": [],
   "source": [
    "import numpy as np,os # linear algebra\n",
    "import pandas as pd # data processing, CSV file I/O (e.g. pd.read_csv)import os\n",
    "from scipy.stats import wilcoxon, friedmanchisquare, rankdata, trim_mean\n",
    "import pingouin as pg\n",
    "import matplotlib.pyplot as plt\n",
    "import seaborn as sns"
   ]
  },
  {
   "cell_type": "code",
   "execution_count": 10,
   "metadata": {},
   "outputs": [],
   "source": [
    "def process(df,bigger_better=True):\n",
    "    tmp = df.drop(columns=['pr_rec_score'],axis=1,level=2)  # matthews_corrcoef,pr_rec_score\n",
    "    mat = tmp.droplevel(2,axis=1)\n",
    "    rank = mat.copy()\n",
    "    for d in mat.index:\n",
    "        if bigger_better:\n",
    "            rank.loc[d] = rankdata(1 - mat.loc[d])\n",
    "        else:\n",
    "            rank.loc[d] = rankdata(mat.loc[d])\n",
    "    return rank, mat"
   ]
  },
  {
   "cell_type": "code",
   "execution_count": 11,
   "metadata": {},
   "outputs": [
    {
     "data": {
      "text/plain": [
       "(32, 64)"
      ]
     },
     "execution_count": 11,
     "metadata": {},
     "output_type": "execute_result"
    }
   ],
   "source": [
    "Clean = pd.read_csv(\"Clean_final.csv\",header=[0,1,2],index_col=0)\n",
    "Clean.shape"
   ]
  },
  {
   "cell_type": "code",
   "execution_count": 12,
   "metadata": {},
   "outputs": [
    {
     "data": {
      "text/plain": [
       "(32, 64)"
      ]
     },
     "execution_count": 12,
     "metadata": {},
     "output_type": "execute_result"
    }
   ],
   "source": [
    "Noisy = pd.read_csv(\"Noisy_final.csv\",header=[0,1,2],index_col=0)\n",
    "Noisy.shape"
   ]
  },
  {
   "cell_type": "code",
   "execution_count": 13,
   "metadata": {},
   "outputs": [
    {
     "data": {
      "text/plain": [
       "((32, 32), (32, 32))"
      ]
     },
     "execution_count": 13,
     "metadata": {},
     "output_type": "execute_result"
    }
   ],
   "source": [
    "rank_clean,clean = process(Clean,bigger_better=True)\n",
    "rank_noisy,noisy = process(Noisy,bigger_better=True)\n",
    "noisy.shape,clean.shape"
   ]
  },
  {
   "cell_type": "code",
   "execution_count": null,
   "metadata": {},
   "outputs": [],
   "source": [
    "df = rank_clean\n",
    "sns.boxplot(data=df.median(level=1,axis=1));"
   ]
  },
  {
   "cell_type": "code",
   "execution_count": null,
   "metadata": {},
   "outputs": [],
   "source": [
    "df = rank_noisy\n",
    "sns.boxplot(data=df.median(level=1,axis=1));"
   ]
  },
  {
   "cell_type": "code",
   "execution_count": 14,
   "metadata": {},
   "outputs": [],
   "source": [
    "N = noisy.median(level=1,axis=1).assign(State='Noisy')\n",
    "C = clean.median(level=1,axis=1).assign(State='Clean')"
   ]
  },
  {
   "cell_type": "code",
   "execution_count": 15,
   "metadata": {},
   "outputs": [
    {
     "data": {
      "text/plain": [
       "((512, 3), Index(['State', 'clf', 'value'], dtype='object'))"
      ]
     },
     "execution_count": 15,
     "metadata": {},
     "output_type": "execute_result"
    }
   ],
   "source": [
    "comb = pd.concat([pd.melt(C,id_vars='State'),pd.melt(N,id_vars='State')],axis=0)\n",
    "comb.shape,comb.columns"
   ]
  },
  {
   "cell_type": "code",
   "execution_count": 16,
   "metadata": {},
   "outputs": [],
   "source": [
    "comb.columns = ['State', 'Imbalance Method', 'MCC']"
   ]
  },
  {
   "cell_type": "code",
   "execution_count": 17,
   "metadata": {},
   "outputs": [
    {
     "data": {
      "image/png": "[encoded data removed]",
      "text/plain": [
       "<Figure size 576x432 with 1 Axes>"
      ]
     },
     "metadata": {
      "needs_background": "light"
     },
     "output_type": "display_data"
    }
   ],
   "source": [
    "plt.figure(figsize=(8,6))\n",
    "sns.boxplot(x='Imbalance Method',y='MCC',data=comb,hue='State',width=.6);"
   ]
  },
  {
   "cell_type": "code",
   "execution_count": 21,
   "metadata": {},
   "outputs": [
    {
     "data": {
      "text/plain": [
       "clf\n",
       "dt       0.361479\n",
       "lr       0.266491\n",
       "nb       0.063500\n",
       "svm      0.217868\n",
       "knn      0.271741\n",
       "rf       0.337273\n",
       "BagNB    0.062158\n",
       "BagDT    0.235779\n",
       "dtype: float64"
      ]
     },
     "execution_count": 21,
     "metadata": {},
     "output_type": "execute_result"
    }
   ],
   "source": [
    "dMCC = C.drop(\"State\",axis=1) - N.drop(\"State\",axis=1)\n",
    "dMCC.apply(lambda x:trim_mean(x,.05))/C.drop(\"State\",axis=1).apply(lambda x:trim_mean(x,.05))"
   ]
  },
  {
   "cell_type": "code",
   "execution_count": 32,
   "metadata": {},
   "outputs": [
    {
     "name": "stdout",
     "output_type": "stream",
     "text": [
      "dt 1.3120678673980806\n",
      "lr 1.003489883682065\n",
      "nb 0.2769150252563512\n",
      "svm 0.7550060968865392\n",
      "knn 1.00074168270276\n",
      "rf 1.223731462117788\n",
      "BagNB 0.2681132340155822\n",
      "BagDT 0.9624783972480317\n"
     ]
    }
   ],
   "source": [
    "for c in C.drop(\"State\",axis=1):\n",
    "    eff = pg.effsize.compute_effsize(C[c],N[c],eftype='hedges',paired=True)\n",
    "    print(c,eff)"
   ]
  },
  {
   "cell_type": "code",
   "execution_count": 22,
   "metadata": {},
   "outputs": [
    {
     "name": "stdout",
     "output_type": "stream",
     "text": [
      "nb:0.3206\n",
      "dt 0.00000 True 0.2066\n",
      "lr 0.00503 True 0.2876\n",
      "svm 0.03970 False 0.2929\n",
      "knn 0.00114 True 0.2613\n",
      "rf 0.00709 True 0.2767\n",
      "BagNB 0.65359 False 0.3204\n",
      "BagDT 0.08203 False 0.3136\n"
     ]
    }
   ],
   "source": [
    "base = 'nb'\n",
    "df = N.drop(\"State\",axis=1)\n",
    "print(f\"{base}:{trim_mean(df[base],.05):.4f}\")\n",
    "for c in df:\n",
    "    if c==base: continue\n",
    "    pv = wilcoxon(df[c],df[base]).pvalue\n",
    "    print(c,f\"{pv:.5f}\",pv<.01,f\"{trim_mean(df[c],.05):.4f}\",)"
   ]
  },
  {
   "cell_type": "code",
   "execution_count": null,
   "metadata": {},
   "outputs": [],
   "source": []
  },
  {
   "cell_type": "code",
   "execution_count": null,
   "metadata": {},
   "outputs": [],
   "source": [
    "Noisy_Eval = pd.read_csv(\"Noisy_Eval_final.csv\",header=[0,1,2],index_col=0)\n",
    "Noisy_Eval.shape"
   ]
  },
  {
   "cell_type": "code",
   "execution_count": null,
   "metadata": {},
   "outputs": [],
   "source": [
    "rank_noisy_eval,noisy_eval = process(Noisy_Eval,bigger_better=True)"
   ]
  },
  {
   "cell_type": "code",
   "execution_count": null,
   "metadata": {},
   "outputs": [],
   "source": [
    "sns.boxplot(data=rank_noisy_eval.median(level=1,axis=1));"
   ]
  },
  {
   "cell_type": "code",
   "execution_count": null,
   "metadata": {},
   "outputs": [],
   "source": [
    "CL = noisy.median(level=1,axis=1).assign(State='CL')\n",
    "NL = noisy_eval.median(level=1,axis=1).assign(State='NL')"
   ]
  },
  {
   "cell_type": "code",
   "execution_count": null,
   "metadata": {},
   "outputs": [],
   "source": [
    "comb = pd.concat([pd.melt(CL,id_vars='State'),pd.melt(NL,id_vars='State')],axis=0)\n",
    "comb.shape,comb.columns"
   ]
  },
  {
   "cell_type": "code",
   "execution_count": null,
   "metadata": {},
   "outputs": [],
   "source": [
    "plt.figure(figsize=(8,6))\n",
    "sns.boxplot(x='clf',y='value',data=comb,hue='State',width=.6);"
   ]
  },
  {
   "cell_type": "code",
   "execution_count": null,
   "metadata": {},
   "outputs": [],
   "source": []
  },
  {
   "cell_type": "code",
   "execution_count": null,
   "metadata": {},
   "outputs": [],
   "source": []
  },
  {
   "cell_type": "code",
   "execution_count": null,
   "metadata": {
    "_cell_guid": "79c7e3d0-c299-4dcb-8224-4455121ee9b0",
    "_uuid": "d629ff2d2480ee46fbb7e2d37f6b5fab8052498a"
   },
   "outputs": [],
   "source": [
    "\n",
    "\n",
    "\n",
    "\n",
    "\n",
    "\n",
    "\n",
    "\n",
    "\n",
    "\n",
    "\n",
    "\n",
    "\n"
   ]
  }
 ],
 "metadata": {
  "kernelspec": {
   "display_name": "Python 3",
   "language": "python",
   "name": "python3"
  },
  "language_info": {
   "codemirror_mode": {
    "name": "ipython",
    "version": 3
   },
   "file_extension": ".py",
   "mimetype": "text/x-python",
   "name": "python",
   "nbconvert_exporter": "python",
   "pygments_lexer": "ipython3",
   "version": "3.7.5"
  }
 },
 "nbformat": 4,
 "nbformat_minor": 4
}
