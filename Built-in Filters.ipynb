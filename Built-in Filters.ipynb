{
 "cells": [
  {
   "cell_type": "code",
   "execution_count": 14,
   "metadata": {},
   "outputs": [],
   "source": [
    "from time import perf_counter\n",
    "import numpy as np,os\n",
    "from imblearn.under_sampling import InstanceHardnessThreshold, EditedNearestNeighbours\n",
    "from imblearn.combine import SMOTEENN\n",
    "from imblearn.pipeline import Pipeline\n",
    "\n",
    "from sklearn.metrics import matthews_corrcoef, precision_recall_curve, auc, accuracy_score, precision_score, recall_score\n",
    "import seaborn as sns,matplotlib.pyplot as plt\n",
    "\n",
    "from library.configs import IMBS, CLFS, ENSEMBLES, CV, SCORERS\n",
    "from library.utils import evaluate, read_data"
   ]
  },
  {
   "cell_type": "code",
   "execution_count": 3,
   "metadata": {},
   "outputs": [
    {
     "data": {
      "text/plain": [
       "32"
      ]
     },
     "execution_count": 3,
     "metadata": {},
     "output_type": "execute_result"
    }
   ],
   "source": [
    "DATASETS = ['groovy-1_5_7.csv','jruby-1.4.0.csv','lucene-2.9.0.csv','jruby-1.7.0.preview1.csv','groovy-1_6_BETA_1.csv',\n",
    "        'derby-10.2.1.6.csv','wicket-1.5.3.csv','camel-2.9.0.csv','camel-1.4.0.csv','activemq-5.8.0.csv']\n",
    "DATASETS = [f for f in os.listdir(\"JIRA/\") if 'csv' in f]\n",
    "len(DATASETS)"
   ]
  },
  {
   "cell_type": "code",
   "execution_count": 6,
   "metadata": {},
   "outputs": [
    {
     "data": {
      "text/plain": [
       "(dict_keys([('ENN', 'dt'), ('ENN', 'lr'), ('ENN', 'nb'), ('ENN', 'svm'), ('ENN', 'knn'), ('ENN', 'rf'), ('SmoteEnc', 'dt'), ('SmoteEnc', 'lr'), ('SmoteEnc', 'nb'), ('SmoteEnc', 'svm'), ('SmoteEnc', 'knn'), ('SmoteEnc', 'rf'), ('IHThreshold', 'dt'), ('IHThreshold', 'lr'), ('IHThreshold', 'nb'), ('IHThreshold', 'svm'), ('IHThreshold', 'knn'), ('IHThreshold', 'rf')]),\n",
       " 18)"
      ]
     },
     "execution_count": 6,
     "metadata": {},
     "output_type": "execute_result"
    }
   ],
   "source": [
    "#ENN already done in Noisy.csv, but kind_sel='mode' here, so here aggressive than before\n",
    "imbs = {'ENN':EditedNearestNeighbours(n_neighbors=5,kind_sel='mode'), \n",
    "       'SmoteEnc':SMOTEENN(),'IHThreshold':InstanceHardnessThreshold()}\n",
    "models = {}\n",
    "for im,samp in imbs.items():\n",
    "    for c,clf in CLFS.items():\n",
    "        models[(im,c)] = Pipeline([('samp',samp),('clf',clf)])\n",
    "    \n",
    "models.keys(),len(models)"
   ]
  },
  {
   "cell_type": "code",
   "execution_count": 20,
   "metadata": {},
   "outputs": [],
   "source": [
    "path = \"Builtin32.csv\"\n",
    "cols = pd.MultiIndex.from_product([imbs.keys(),CLFS.keys(),[f.__name__ for f in SCORERS]],names=['imb','clf','metric'])\n",
    "df = pd.DataFrame(index=DATASETS,columns=cols)\n",
    "df = pd.read_csv(\"Builtin3.csv\",header=[0,1,2],index_col=0)"
   ]
  },
  {
   "cell_type": "code",
   "execution_count": 22,
   "metadata": {},
   "outputs": [
    {
     "name": "stdout",
     "output_type": "stream",
     "text": [
      "0\n",
      "activemq-5.8.0.csv noise:0.058, imb:15.847,203,3217, Shape:(3420, 65)\n",
      "\n",
      "1\n",
      "groovy-1_6_BETA_1.csv noise:0.128, imb:6.017,117,704, Shape:(821, 65)\n",
      "\n",
      "2\n",
      "activemq-5.3.0.csv noise:0.094, imb:15.669,142,2225, Shape:(2367, 65)\n",
      "\n",
      "3\n",
      "wicket-1.3.0-incubating-beta-1.csv noise:0.164, imb:4.806,288,1384, Shape:(1672, 65)\n",
      "\n",
      "4\n",
      "jruby-1.1.csv noise:0.175, imb:3.540,161,570, Shape:(731, 65)\n",
      "\n",
      "5\n",
      "jruby-1.4.0.csv noise:0.190, imb:3.890,200,778, Shape:(978, 65)\n",
      "\n",
      "6\n",
      "lucene-2.3.0.csv noise:0.204, imb:4.031,160,645, Shape:(805, 65)\n",
      "\n",
      "7\n",
      "hbase-0.95.2.csv noise:0.260, imb:15.088,114,1720, Shape:(1834, 65)\n",
      "\n",
      "8\n",
      "lucene-3.0.0.csv noise:0.185, imb:6.037,190,1147, Shape:(1337, 65)\n",
      "\n",
      "9\n",
      "camel-2.9.0.csv noise:0.044, imb:34.600,200,6920, Shape:(7120, 65)\n",
      "\n",
      "10\n",
      "wicket-1.5.3.csv noise:0.064, imb:26.720,93,2485, Shape:(2578, 65)\n",
      "\n",
      "11\n",
      "lucene-3.1.csv noise:0.120, imb:7.477,331,2475, Shape:(2806, 65)\n",
      "\n",
      "12\n",
      "groovy-1_6_BETA_2.csv noise:0.096, imb:7.583,103,781, Shape:(884, 65)\n",
      "\n",
      "13\n",
      "activemq-5.2.0.csv noise:0.113, imb:12.247,154,1886, Shape:(2040, 65)\n",
      "\n",
      "14\n",
      "groovy-1_5_7.csv noise:0.085, imb:8.463,80,677, Shape:(757, 65)\n",
      "('ENN', 'dt')\n",
      "1.08 [0.248, 0.383]\n",
      "('ENN', 'lr')\n",
      "2.23 [0.375, 0.521]\n",
      "('ENN', 'nb')\n",
      "0.93 [0.26, 0.455]\n",
      "('ENN', 'svm')\n",
      "2.19 [0.443, 0.537]\n",
      "('ENN', 'knn')\n",
      "1.1 [0.438, 0.516]\n",
      "('ENN', 'rf')\n",
      "2.76 [0.398, 0.461]\n",
      "('SmoteEnc', 'dt')\n",
      "1.64 [0.176, 0.385]\n",
      "('SmoteEnc', 'lr')\n",
      "2.9 [0.172, 0.351]\n",
      "('SmoteEnc', 'nb')\n",
      "1.31 [0.216, 0.47]\n",
      "('SmoteEnc', 'svm')\n",
      "5.72 [0.157, 0.19]\n",
      "('SmoteEnc', 'knn')\n",
      "1.48 [0.143, 0.416]\n",
      "('SmoteEnc', 'rf')\n",
      "3.84 [0.246, 0.413]\n",
      "('IHThreshold', 'dt')\n",
      "17.71 [0.13, 0.465]\n",
      "('IHThreshold', 'lr')\n",
      "18.01 [0.139, 0.378]\n",
      "('IHThreshold', 'nb')\n",
      "17.3 [0.124, 0.458]\n",
      "('IHThreshold', 'svm')\n",
      "17.72 [0.13, 0.104]\n",
      "('IHThreshold', 'knn')\n",
      "17.82 [0.155, 0.428]\n",
      "('IHThreshold', 'rf')\n",
      "18.95 [0.128, 0.412]\n",
      "\n",
      "15\n",
      "hbase-0.95.0.csv noise:0.234, imb:17.341,91,1578, Shape:(1669, 65)\n",
      "\n",
      "16\n",
      "camel-2.11.0.csv noise:0.024, imb:43.230,200,8646, Shape:(8846, 65)\n",
      "\n",
      "17\n",
      "jruby-1.7.0.preview1.csv noise:0.099, imb:8.902,163,1451, Shape:(1614, 65)\n",
      "\n",
      "18\n",
      "hive-0.10.0.csv noise:0.126, imb:29.000,52,1508, Shape:(1560, 65)\n",
      "\n",
      "19\n",
      "camel-2.10.0.csv noise:0.053, imb:24.447,311,7603, Shape:(7914, 65)\n",
      "\n",
      "20\n",
      "derby-10.2.1.6.csv noise:0.290, imb:9.906,180,1783, Shape:(1963, 65)\n",
      "\n",
      "21\n",
      "jruby-1.5.0.csv noise:0.218, imb:3.098,276,855, Shape:(1131, 65)\n",
      "\n",
      "22\n",
      "derby-10.3.1.4.csv noise:0.267, imb:13.051,157,2049, Shape:(2206, 65)\n",
      "\n",
      "23\n",
      "lucene-2.9.0.csv noise:0.226, imb:3.921,278,1090, Shape:(1368, 65)\n",
      "\n",
      "24\n",
      "hbase-0.94.0.csv noise:0.207, imb:14.348,69,990, Shape:(1059, 65)\n",
      "\n",
      "25\n",
      "camel-1.4.0.csv noise:0.281, imb:3.174,363,1152, Shape:(1515, 65)\n",
      "\n",
      "26\n",
      "activemq-5.1.0.csv noise:0.083, imb:13.173,139,1831, Shape:(1970, 65)\n",
      "\n",
      "27\n",
      "activemq-5.0.0.csv noise:0.139, imb:21.976,82,1802, Shape:(1884, 65)\n",
      "\n",
      "28\n",
      "derby-10.5.1.1.csv noise:0.126, imb:14.028,180,2525, Shape:(2705, 65)\n",
      "\n",
      "29\n",
      "wicket-1.3.0-beta2.csv noise:0.184, imb:4.780,305,1458, Shape:(1763, 65)\n",
      "\n",
      "30\n",
      "hive-0.12.0.csv noise:0.087, imb:56.870,46,2616, Shape:(2662, 65)\n",
      "\n",
      "31\n",
      "hive-0.9.0.csv noise:0.179, imb:25.717,53,1363, Shape:(1416, 65)\n",
      "\n",
      "CPU times: user 2min 50s, sys: 992 ms, total: 2min 51s\n",
      "Wall time: 2min 15s\n"
     ]
    }
   ],
   "source": [
    "%%time\n",
    "for it,d in enumerate(DATASETS):\n",
    "    print(it)\n",
    "    X,y_noisy,y_real = read_data(d,stats=True)\n",
    "    for k in models:\n",
    "        if df.loc[d,(k[0],k[1],slice(None))].isna().sum()==0:\n",
    "            continue\n",
    "        print(k)\n",
    "        sd = perf_counter()\n",
    "        r = evaluate(models[k],X,y_noisy,y_real,CV,SCORERS)\n",
    "        for f in r:\n",
    "            df.loc[d,(k[0],k[1],f)] = np.nanmean(r[f])\n",
    "        print(round(perf_counter()-sd,2),[round(r[f].mean(),3) for f in r])\n",
    "    print()\n",
    "    df.to_csv(\"Builtin32.csv\")"
   ]
  },
  {
   "cell_type": "code",
   "execution_count": 18,
   "metadata": {},
   "outputs": [
    {
     "data": {
      "text/plain": [
       "0"
      ]
     },
     "execution_count": 18,
     "metadata": {},
     "output_type": "execute_result"
    }
   ],
   "source": []
  },
  {
   "cell_type": "code",
   "execution_count": 13,
   "metadata": {},
   "outputs": [
    {
     "data": {
      "text/plain": [
       "3.5"
      ]
     },
     "execution_count": 13,
     "metadata": {},
     "output_type": "execute_result"
    }
   ],
   "source": [
    "np.nanmean(p)"
   ]
  },
  {
   "cell_type": "code",
   "execution_count": null,
   "metadata": {},
   "outputs": [],
   "source": [
    "\n",
    "\n",
    "\n",
    "\n",
    "\n",
    "\n",
    "\n",
    "\n",
    "\n",
    "\n",
    "\n",
    "\n",
    "\n",
    "\n",
    "\n",
    "\n",
    "\n",
    "\n",
    "\n",
    "\n",
    "\n",
    "\n",
    "\n",
    "\n",
    "\n",
    "\n"
   ]
  }
 ],
 "metadata": {
  "kernelspec": {
   "display_name": "Python 3",
   "language": "python",
   "name": "python3"
  },
  "language_info": {
   "codemirror_mode": {
    "name": "ipython",
    "version": 3
   },
   "file_extension": ".py",
   "mimetype": "text/x-python",
   "name": "python",
   "nbconvert_exporter": "python",
   "pygments_lexer": "ipython3",
   "version": "3.7.5"
  }
 },
 "nbformat": 4,
 "nbformat_minor": 4
}
