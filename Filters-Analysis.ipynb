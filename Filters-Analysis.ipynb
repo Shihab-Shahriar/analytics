{
 "cells": [
  {
   "cell_type": "code",
   "execution_count": 1,
   "metadata": {},
   "outputs": [],
   "source": [
    "import numpy as np,os # linear algebra\n",
    "import pandas as pd # data processing, CSV file I/O (e.g. pd.read_csv)import os\n",
    "from scipy.stats import wilcoxon, friedmanchisquare, rankdata, trim_mean\n",
    "import pingouin as pg\n",
    "import matplotlib.pyplot as plt\n",
    "import seaborn as sns"
   ]
  },
  {
   "cell_type": "code",
   "execution_count": 2,
   "metadata": {},
   "outputs": [],
   "source": [
    "df = pd.read_csv(\"All_filter_MCC.csv\",header=[0,1],index_col=0)"
   ]
  },
  {
   "cell_type": "code",
   "execution_count": 13,
   "metadata": {},
   "outputs": [
    {
     "data": {
      "image/png": "[encoded data removed]",
      "text/plain": [
       "<Figure size 864x432 with 1 Axes>"
      ]
     },
     "metadata": {},
     "output_type": "display_data"
    }
   ],
   "source": [
    "plt.figure(figsize=(12,6))\n",
    "sns.boxplot(data=df.max(axis=1,level=0));"
   ]
  },
  {
   "cell_type": "code",
   "execution_count": 19,
   "metadata": {},
   "outputs": [
    {
     "data": {
      "text/plain": [
       "spyder       0.273847\n",
       "smote_ipf    0.310068\n",
       "smote_enc    0.288797\n",
       "ipf          0.272783\n",
       "ihf          0.279253\n",
       "clni         0.275497\n",
       "ihthres      0.278262\n",
       "enn          0.277372\n",
       "ncl          0.299537\n",
       "none         0.285300\n",
       "dtype: float64"
      ]
     },
     "execution_count": 19,
     "metadata": {},
     "output_type": "execute_result"
    }
   ],
   "source": [
    "for c in df"
   ]
  },
  {
   "cell_type": "code",
   "execution_count": null,
   "metadata": {},
   "outputs": [],
   "source": [
    "dic = {}"
   ]
  },
  {
   "cell_type": "code",
   "execution_count": 28,
   "metadata": {},
   "outputs": [
    {
     "name": "stdout",
     "output_type": "stream",
     "text": [
      "none:0.2854\n",
      "spyder\n",
      "0.00069 True 0.2738, 0.1210\n",
      "smote_ipf\n",
      "0.00000 True 0.3097, 0.2746\n",
      "smote_enc\n",
      "0.75376 False 0.2885, 0.0380\n",
      "ipf\n",
      "0.00042 True 0.2752, 0.1308\n",
      "ihf\n",
      "0.21638 False 0.2811, 0.0612\n",
      "clni\n",
      "0.85349 False 0.2765, 0.0988\n",
      "ihthres\n",
      "0.12036 False 0.2776, 0.0788\n",
      "enn\n",
      "0.46061 False 0.2762, 0.0795\n",
      "ncl\n",
      "0.00000 True 0.3001, 0.1555\n",
      "none\n"
     ]
    }
   ],
   "source": [
    "base = 'none'\n",
    "none = df[base].values.reshape(-1)\n",
    "print(f\"{base}:{trim_mean(none,.05):.4f}\")\n",
    "for c in df.min(axis=1,level=0):\n",
    "    print(c)\n",
    "    if c==base: continue\n",
    "    c = df[c].values.reshape(-1)\n",
    "    pv = wilcoxon(none,c).pvalue\n",
    "    eff = pg.effsize.compute_effsize(none,c,paired=True,eftype='hedges')\n",
    "    print(f\"{pv:.5f}\",pv<.01,f\"{trim_mean(c,.05):.4f}, {abs(eff):.4f}\")"
   ]
  },
  {
   "cell_type": "code",
   "execution_count": null,
   "metadata": {},
   "outputs": [],
   "source": []
  },
  {
   "cell_type": "code",
   "execution_count": null,
   "metadata": {},
   "outputs": [],
   "source": [
    "\n",
    "\n",
    "\n",
    "\n",
    "\n",
    "\n",
    "\n",
    "\n",
    "\n",
    "\n",
    "\n",
    "\n",
    "\n",
    "\n",
    "\n",
    "\n",
    "\n",
    "\n",
    "\n",
    "\n",
    "\n",
    "\n"
   ]
  }
 ],
 "metadata": {
  "kernelspec": {
   "display_name": "Python 3",
   "language": "python",
   "name": "python3"
  },
  "language_info": {
   "codemirror_mode": {
    "name": "ipython",
    "version": 3
   },
   "file_extension": ".py",
   "mimetype": "text/x-python",
   "name": "python",
   "nbconvert_exporter": "python",
   "pygments_lexer": "ipython3",
   "version": "3.7.5"
  }
 },
 "nbformat": 4,
 "nbformat_minor": 4
}
