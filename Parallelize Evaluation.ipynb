{
 "cells": [
  {
   "cell_type": "code",
   "execution_count": 3,
   "metadata": {},
   "outputs": [],
   "source": [
    "from joblib import Parallel, delayed\n",
    "from library.utils import evaluate, read_data\n",
    "from sklearn.svm import SVC\n",
    "from library.configs import SCORERS, CV"
   ]
  },
  {
   "cell_type": "code",
   "execution_count": 2,
   "metadata": {},
   "outputs": [
    {
     "name": "stdout",
     "output_type": "stream",
     "text": [
      "groovy-1_5_7.csv noise:0.085, imb:8.463,80,677, Shape:(757, 65)\n"
     ]
    }
   ],
   "source": [
    "X,yn,yr = read_data(\"groovy-1_5_7.csv\",True)"
   ]
  },
  {
   "cell_type": "code",
   "execution_count": 8,
   "metadata": {},
   "outputs": [
    {
     "name": "stdout",
     "output_type": "stream",
     "text": [
      "CPU times: user 1.52 s, sys: 14 µs, total: 1.52 s\n",
      "Wall time: 1.52 s\n"
     ]
    }
   ],
   "source": [
    "%%time\n",
    "r = evaluate(SVC(probability=True,random_state=42),X,yn,yr,CV,SCORERS)"
   ]
  },
  {
   "cell_type": "code",
   "execution_count": 10,
   "metadata": {},
   "outputs": [
    {
     "data": {
      "text/plain": [
       "defaultdict(list,\n",
       "            {'matthews_corrcoef': array([0.27215318, 0.69748583, 0.70867445, 0.14509261, 0.66090312,\n",
       "                    0.44125048, 0.70237692, 0.45357784, 0.6001315 , 0.55731682,\n",
       "                    0.74324324, 0.34385097, 0.47931034, 0.38868386, 0.66090312,\n",
       "                    0.51342707, 0.5574549 , 0.48104086, 0.31981982, 0.55203931,\n",
       "                    0.47945205, 0.58639456, 0.55203931, 0.48104086, 0.48639456]),\n",
       "             'pr_rec_score': array([0.06905878, 0.66281032, 0.84054233, 0.0741302 , 0.67873162,\n",
       "                    0.36366857, 0.62094847, 0.16343123, 0.63170796, 0.54832284,\n",
       "                    0.75622467, 0.42408757, 0.34139367, 0.48679029, 0.72690131,\n",
       "                    0.62698413, 0.60433728, 0.50713503, 0.16858077, 0.53796903,\n",
       "                    0.52788963, 0.4116863 , 0.53672094, 0.22643571, 0.50111155])})"
      ]
     },
     "execution_count": 10,
     "metadata": {},
     "output_type": "execute_result"
    }
   ],
   "source": [
    "p = Parallel(n_jobs=4)\n",
    "f = delayed(func)\n",
    "p(f)"
   ]
  },
  {
   "cell_type": "code",
   "execution_count": null,
   "metadata": {},
   "outputs": [],
   "source": [
    "    scores = defaultdict(list)\n",
    "    for train_id, test_id in cv.split(X,y_noisy):  #vs y_noisy, to solve no-pos-label-in-test-set bug - Changed again\n",
    "        #print(np.unique(y_noisy[train_id],return_counts=True)[1])\n",
    "        try:\n",
    "            clf = clf.fit(X[train_id],y_noisy[train_id])\n",
    "        except Exception as e:\n",
    "            print(\"ERROR!!!\",str(e))\n",
    "            continue\n",
    "        probs = clf.predict_proba(X[test_id])\n",
    "        for func in scorers:\n",
    "            try:\n",
    "                func([0,1,1],[.2,.6,.7])\n",
    "                yp = probs[:,1]\n",
    "            except ValueError as e:\n",
    "                yp = np.argmax(probs,axis=1)\n",
    "            scores[func.__name__].append(func(y_real[test_id],yp))\n",
    "    \n",
    "    for func in scorers:\n",
    "        if len(scores[func.__name__])>0:\n",
    "            scores[func.__name__] = np.array(scores[func.__name__])\n",
    "        else: \n",
    "            scores[func.__name__] = np.array([0.0]) # Training failed in every fold        \n",
    "    return scores"
   ]
  },
  {
   "cell_type": "code",
   "execution_count": null,
   "metadata": {},
   "outputs": [],
   "source": []
  },
  {
   "cell_type": "code",
   "execution_count": null,
   "metadata": {},
   "outputs": [],
   "source": []
  },
  {
   "cell_type": "code",
   "execution_count": null,
   "metadata": {},
   "outputs": [],
   "source": []
  },
  {
   "cell_type": "code",
   "execution_count": null,
   "metadata": {},
   "outputs": [],
   "source": [
    "\n",
    "\n",
    "\n",
    "\n",
    "\n",
    "\n",
    "\n",
    "\n",
    "\n",
    "\n",
    "\n",
    "\n",
    "\n",
    "\n",
    "\n"
   ]
  }
 ],
 "metadata": {
  "kernelspec": {
   "display_name": "Python 3",
   "language": "python",
   "name": "python3"
  },
  "language_info": {
   "codemirror_mode": {
    "name": "ipython",
    "version": 3
   },
   "file_extension": ".py",
   "mimetype": "text/x-python",
   "name": "python",
   "nbconvert_exporter": "python",
   "pygments_lexer": "ipython3",
   "version": "3.7.5"
  }
 },
 "nbformat": 4,
 "nbformat_minor": 4
}
