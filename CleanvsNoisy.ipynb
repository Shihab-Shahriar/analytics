{
 "cells": [
  {
   "cell_type": "code",
   "execution_count": 2,
   "metadata": {},
   "outputs": [],
   "source": [
    "import numpy as np\n",
    "import pandas as pd,os\n",
    "from scipy.stats import wilcoxon, friedmanchisquare, rankdata\n",
    "import scikit_posthocs as sp\n",
    "import seaborn as sns\n",
    "import matplotlib.pyplot as plt"
   ]
  },
  {
   "cell_type": "markdown",
   "metadata": {},
   "source": [
    "## Notes\n",
    "+ NB tops ranking with both metrics for Noisy data\n",
    "+ RF & LR (both simple & balanced) tops for Clean datasets. Interestingly, simple methods without imbalanced technique (RF & LR) performs better than rest."
   ]
  },
  {
   "cell_type": "code",
   "execution_count": 3,
   "metadata": {},
   "outputs": [],
   "source": [
    "def process(df,bigger_better=True):\n",
    "    mat = df.drop(columns=['pr_rec_score'],axis=1,level=2).droplevel(2,axis=1)\n",
    "    rank = mat.copy()\n",
    "    for d in mat.index:\n",
    "        if bigger_better:\n",
    "            rank.loc[d] = rankdata(1 - mat.loc[d])\n",
    "        else:\n",
    "            rank.loc[d] = rankdata(mat.loc[d])\n",
    "    return rank, mat"
   ]
  },
  {
   "cell_type": "code",
   "execution_count": 52,
   "metadata": {},
   "outputs": [
    {
     "name": "stdout",
     "output_type": "stream",
     "text": [
      "(32, 64)\n"
     ]
    }
   ],
   "source": [
    "noisy = pd.read_csv(\"Noisy_final.csv\",header=[0,1,2],index_col=0)\n",
    "clean = pd.read_csv(\"Clean_final.csv\",header=[0,1,2],index_col=0)\n",
    "df = clean - noisy\n",
    "boo = \"Clean\"\n",
    "print(df.shape)"
   ]
  },
  {
   "cell_type": "code",
   "execution_count": 38,
   "metadata": {},
   "outputs": [],
   "source": [
    "rank, raw = process(df,bigger_better=True)"
   ]
  },
  {
   "cell_type": "code",
   "execution_count": 39,
   "metadata": {},
   "outputs": [
    {
     "data": {
      "text/plain": [
       "imb     clf  \n",
       "None    nb        9.25000\n",
       "tomek   nb        9.37500\n",
       "smote   nb        9.65625\n",
       "UBag    BagNB    10.12500\n",
       "wilson  lr       10.28125\n",
       "        svm      10.43750\n",
       "        nb       10.50000\n",
       "rus     svm      10.81250\n",
       "UBag    BagDT    10.96875\n",
       "rus     nb       11.46875\n",
       "wilson  rf       11.65625\n",
       "smote   svm      13.40625\n",
       "        rf       14.84375\n",
       "rus     rf       15.34375\n",
       "tomek   lr       15.87500\n",
       "wilson  knn      16.03125\n",
       "smote   lr       16.59375\n",
       "tomek   rf       17.00000\n",
       "rus     lr       17.50000\n",
       "None    lr       17.62500\n",
       "tomek   svm      17.68750\n",
       "        knn      18.53125\n",
       "None    rf       18.87500\n",
       "        svm      20.09375\n",
       "rus     knn      20.18750\n",
       "None    knn      20.81250\n",
       "wilson  dt       21.15625\n",
       "smote   knn      22.62500\n",
       "tomek   dt       26.59375\n",
       "rus     dt       27.28125\n",
       "None    dt       27.68750\n",
       "smote   dt       27.71875\n",
       "dtype: float64"
      ]
     },
     "execution_count": 39,
     "metadata": {},
     "output_type": "execute_result"
    }
   ],
   "source": [
    "rank.mean().sort_values()"
   ]
  },
  {
   "cell_type": "code",
   "execution_count": 40,
   "metadata": {},
   "outputs": [
    {
     "data": {
      "image/png": "[encoded data removed]",
      "text/plain": [
       "<Figure size 432x288 with 1 Axes>"
      ]
     },
     "metadata": {
      "needs_background": "light"
     },
     "output_type": "display_data"
    }
   ],
   "source": [
    "sns.boxplot(data=rank.mean(axis=1,level=1));"
   ]
  },
  {
   "cell_type": "code",
   "execution_count": 53,
   "metadata": {},
   "outputs": [
    {
     "data": {
      "text/plain": [
       "smote     17.208333\n",
       "rus       20.265625\n",
       "wilson    11.812500\n",
       "tomek     16.348958\n",
       "None      17.963542\n",
       "ens       13.203125\n",
       "dtype: float64"
      ]
     },
     "execution_count": 53,
     "metadata": {},
     "output_type": "execute_result"
    }
   ],
   "source": [
    "rank.mean(level=0,axis=1).mean()"
   ]
  },
  {
   "cell_type": "code",
   "execution_count": 54,
   "metadata": {},
   "outputs": [
    {
     "data": {
      "text/plain": [
       "dt       24.81250\n",
       "lr       14.26875\n",
       "nb       17.60000\n",
       "svm      15.02500\n",
       "knn      19.43750\n",
       "rf        9.17500\n",
       "BagNB    17.65625\n",
       "BagDT     8.75000\n",
       "dtype: float64"
      ]
     },
     "execution_count": 54,
     "metadata": {},
     "output_type": "execute_result"
    }
   ],
   "source": [
    "rank.mean(level=1,axis=1).mean()"
   ]
  },
  {
   "cell_type": "code",
   "execution_count": 56,
   "metadata": {},
   "outputs": [
    {
     "data": {
      "image/png": "[encoded data removed]",
      "text/plain": [
       "<Figure size 1080x432 with 1 Axes>"
      ]
     },
     "metadata": {
      "needs_background": "light"
     },
     "output_type": "display_data"
    }
   ],
   "source": [
    "plt.figure(figsize=(15,6))\n",
    "fig = sns.boxplot(data=raw.mean(level=1,axis=1));"
   ]
  },
  {
   "cell_type": "code",
   "execution_count": 57,
   "metadata": {},
   "outputs": [
    {
     "data": {
      "image/png": "[encoded data removed]",
      "text/plain": [
       "<Figure size 720x432 with 1 Axes>"
      ]
     },
     "metadata": {
      "needs_background": "light"
     },
     "output_type": "display_data"
    }
   ],
   "source": [
    "plt.figure(figsize=(10,6))\n",
    "fig = sns.boxplot(data=raw.mean(level=0,axis=1));"
   ]
  },
  {
   "cell_type": "code",
   "execution_count": 58,
   "metadata": {},
   "outputs": [],
   "source": [
    "nrank, nraw = process(noisy,bigger_better=True)\n",
    "crank, craw = process(clean,bigger_better=True)"
   ]
  },
  {
   "cell_type": "code",
   "execution_count": null,
   "metadata": {},
   "outputs": [],
   "source": [
    "def "
   ]
  },
  {
   "cell_type": "code",
   "execution_count": null,
   "metadata": {},
   "outputs": [],
   "source": [
    "lev = 0\n",
    "cols = set(nraw.columns.get_level_values(lev))\n",
    "dic = pd.DataFrame({c:nraw[c].values.reshape(-1) for c in cols})\n",
    "dic"
   ]
  },
  {
   "cell_type": "code",
   "execution_count": null,
   "metadata": {},
   "outputs": [],
   "source": []
  },
  {
   "cell_type": "code",
   "execution_count": 41,
   "metadata": {},
   "outputs": [],
   "source": [
    "noisy_eval = pd.read_csv(\"Noisy_Eval_final.csv\",header=[0],index_col=0)\n",
    "noisy_eval.columns = pd.MultiIndex.from_tuples(map(eval,noisy_eval.columns))"
   ]
  },
  {
   "cell_type": "code",
   "execution_count": 42,
   "metadata": {},
   "outputs": [],
   "source": [
    "rank, raw = process(noisy_eval,bigger_better=True)"
   ]
  },
  {
   "cell_type": "code",
   "execution_count": 43,
   "metadata": {},
   "outputs": [
    {
     "data": {
      "text/plain": [
       "wilson  rf        4.62500\n",
       "smote   rf        7.34375\n",
       "wilson  lr        7.56250\n",
       "        svm       7.87500\n",
       "ens     BagDT     8.75000\n",
       "tomek   rf        9.46875\n",
       "None    rf       10.18750\n",
       "wilson  knn      12.40625\n",
       "tomek   lr       12.75000\n",
       "smote   svm      12.87500\n",
       "rus     rf       14.25000\n",
       "None    lr       14.96875\n",
       "rus     svm      16.00000\n",
       "tomek   nb       16.21875\n",
       "None    nb       16.37500\n",
       "tomek   svm      17.12500\n",
       "smote   lr       17.25000\n",
       "rus     nb       17.62500\n",
       "ens     BagNB    17.65625\n",
       "smote   nb       18.25000\n",
       "tomek   knn      18.34375\n",
       "rus     lr       18.81250\n",
       "wilson  dt       18.87500\n",
       "        nb       19.53125\n",
       "None    knn      20.37500\n",
       "smote   knn      21.12500\n",
       "None    svm      21.25000\n",
       "tomek   dt       24.18750\n",
       "None    dt       24.62500\n",
       "rus     knn      24.93750\n",
       "smote   dt       26.40625\n",
       "rus     dt       29.96875\n",
       "dtype: float64"
      ]
     },
     "execution_count": 43,
     "metadata": {},
     "output_type": "execute_result"
    }
   ],
   "source": [
    "rank.mean().sort_values()"
   ]
  },
  {
   "cell_type": "code",
   "execution_count": 44,
   "metadata": {},
   "outputs": [
    {
     "data": {
      "text/plain": [
       "<matplotlib.axes._subplots.AxesSubplot at 0x7f2d9f60f5d0>"
      ]
     },
     "execution_count": 44,
     "metadata": {},
     "output_type": "execute_result"
    },
    {
     "data": {
      "image/png": "[encoded data removed]",
      "text/plain": [
       "<Figure size 432x288 with 1 Axes>"
      ]
     },
     "metadata": {
      "needs_background": "light"
     },
     "output_type": "display_data"
    }
   ],
   "source": [
    "sns.boxplot(data=rank.mean(axis=1,level=1))"
   ]
  },
  {
   "cell_type": "code",
   "execution_count": null,
   "metadata": {},
   "outputs": [],
   "source": []
  },
  {
   "cell_type": "code",
   "execution_count": null,
   "metadata": {},
   "outputs": [],
   "source": [
    "\n",
    "\n",
    "\n",
    "\n",
    "\n",
    "\n",
    "\n",
    "\n",
    "\n",
    "\n",
    "\n",
    "\n",
    "\n",
    "\n",
    "\n",
    "\n",
    "\n"
   ]
  },
  {
   "cell_type": "code",
   "execution_count": null,
   "metadata": {},
   "outputs": [],
   "source": []
  }
 ],
 "metadata": {
  "kernelspec": {
   "display_name": "Python 3",
   "language": "python",
   "name": "python3"
  },
  "language_info": {
   "codemirror_mode": {
    "name": "ipython",
    "version": 3
   },
   "file_extension": ".py",
   "mimetype": "text/x-python",
   "name": "python",
   "nbconvert_exporter": "python",
   "pygments_lexer": "ipython3",
   "version": "3.7.5"
  }
 },
 "nbformat": 4,
 "nbformat_minor": 4
}
