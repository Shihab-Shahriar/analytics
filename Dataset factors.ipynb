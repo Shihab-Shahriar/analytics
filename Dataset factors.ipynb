{
 "cells": [
  {
   "cell_type": "code",
   "execution_count": 1,
   "metadata": {},
   "outputs": [],
   "source": [
    "import numpy as np\n",
    "import pandas as pd,os\n",
    "from sklearn.metrics import precision_score, recall_score, confusion_matrix\n",
    "from scipy.stats import wilcoxon, friedmanchisquare, rankdata\n",
    "import scikit_posthocs as sp\n",
    "import pingouin as pg\n",
    "import seaborn as sns\n",
    "import matplotlib.pyplot as plt\n",
    "from library.utils import read_data"
   ]
  },
  {
   "cell_type": "code",
   "execution_count": 13,
   "metadata": {},
   "outputs": [
    {
     "data": {
      "text/plain": [
       "((32, 30), (32, 30))"
      ]
     },
     "execution_count": 13,
     "metadata": {},
     "output_type": "execute_result"
    }
   ],
   "source": [
    "clean = pd.read_csv(\"Clean.csv\",header=[0,1,2],index_col=0)  # All_filter_MCC.csv\n",
    "noisy = pd.read_csv(\"Noisy.csv\",header=[0,1,2],index_col=0)  #\n",
    "clean = clean.drop(columns=['pr_rec_score'],level=2).droplevel(2,axis=1)  # matthews_corrcoef\n",
    "noisy = noisy.drop(columns=['pr_rec_score'],level=2).droplevel(2,axis=1)\n",
    "df = clean-noisy\n",
    "clean.shape, noisy.shape"
   ]
  },
  {
   "cell_type": "markdown",
   "metadata": {},
   "source": [
    "## Dataset Characteristic vs MCC"
   ]
  },
  {
   "cell_type": "code",
   "execution_count": 16,
   "metadata": {},
   "outputs": [],
   "source": [
    "DATASETS = [f for f in os.listdir(\"JIRA/\") if 'csv' in f]"
   ]
  },
  {
   "cell_type": "code",
   "execution_count": 19,
   "metadata": {
    "collapsed": true,
    "jupyter": {
     "outputs_hidden": true
    }
   },
   "outputs": [
    {
     "data": {
      "text/plain": [
       "MultiIndex([( 'smote',  'dt'),\n",
       "            ( 'smote',  'lr'),\n",
       "            ( 'smote',  'nb'),\n",
       "            ( 'smote', 'svm'),\n",
       "            ( 'smote', 'knn'),\n",
       "            ( 'smote',  'rf'),\n",
       "            (   'rus',  'dt'),\n",
       "            (   'rus',  'lr'),\n",
       "            (   'rus',  'nb'),\n",
       "            (   'rus', 'svm'),\n",
       "            (   'rus', 'knn'),\n",
       "            (   'rus',  'rf'),\n",
       "            ('wilson',  'dt'),\n",
       "            ('wilson',  'lr'),\n",
       "            ('wilson',  'nb'),\n",
       "            ('wilson', 'svm'),\n",
       "            ('wilson', 'knn'),\n",
       "            ('wilson',  'rf'),\n",
       "            ( 'tomek',  'dt'),\n",
       "            ( 'tomek',  'lr'),\n",
       "            ( 'tomek',  'nb'),\n",
       "            ( 'tomek', 'svm'),\n",
       "            ( 'tomek', 'knn'),\n",
       "            ( 'tomek',  'rf'),\n",
       "            (  'None',  'dt'),\n",
       "            (  'None',  'lr'),\n",
       "            (  'None',  'nb'),\n",
       "            (  'None', 'svm'),\n",
       "            (  'None', 'knn'),\n",
       "            (  'None',  'rf')],\n",
       "           names=['imb', 'clf'])"
      ]
     },
     "execution_count": 19,
     "metadata": {},
     "output_type": "execute_result"
    }
   ],
   "source": [
    "df.columns"
   ]
  },
  {
   "cell_type": "code",
   "execution_count": 23,
   "metadata": {},
   "outputs": [
    {
     "data": {
      "text/plain": [
       "((960, 11), 0)"
      ]
     },
     "execution_count": 23,
     "metadata": {},
     "output_type": "execute_result"
    }
   ],
   "source": [
    "info = pd.DataFrame(columns=['noise','FP','FN','TP','TN','nIR','IR','PR','Rec','MCC'])\n",
    "for d in DATASETS:\n",
    "    X,y_noisy,y_real = read_data(d,stats=False)\n",
    "    noise = (y_noisy!=y_real).sum()/len(y_noisy)\n",
    "    tn, fp, fn, tp = confusion_matrix(y_real,y_noisy).ravel()\n",
    "    nIR = (y_noisy==0).sum()/y_noisy.sum()\n",
    "    IR = (y_real==0).sum()/y_real.sum()\n",
    "    pr = precision_score(y_real,y_noisy)\n",
    "    rec = recall_score(y_real,y_noisy)\n",
    "    for col in df.columns:\n",
    "        info.loc[len(info)] = [noise,fp,fn,tp,tn,nIR,IR,pr,rec]+[df.loc[d,col]]\n",
    "        \n",
    "info['size'] = info['TN']+info['FN']+info['TP']+info['FP']\n",
    "info.shape,info.isna().sum().sum()"
   ]
  },
  {
   "cell_type": "code",
   "execution_count": null,
   "metadata": {},
   "outputs": [],
   "source": [
    "1-2/(12.648854+1)"
   ]
  },
  {
   "cell_type": "code",
   "execution_count": null,
   "metadata": {},
   "outputs": [],
   "source": [
    "dataStat = df.loc[::dependent.shape[1]].drop(columns=['MCC'])\n",
    "dataStat.corr()"
   ]
  },
  {
   "cell_type": "code",
   "execution_count": null,
   "metadata": {},
   "outputs": [],
   "source": [
    "plt.figure(figsize=(7,5))\n",
    "plt.scatter(df['noise'],df['MCC'],s=20,color='y')\n",
    "f = sns.regplot(x='noise',y='MCC',data=df,robust=False,order=2,ci=95,scatter=False); #line_kws={'color':'green'}\n",
    "plt.xlabel(\"Noise Level\");"
   ]
  },
  {
   "cell_type": "code",
   "execution_count": null,
   "metadata": {},
   "outputs": [],
   "source": [
    "plt.figure(figsize=(7,5))\n",
    "plt.scatter(df['nIR'],df['MCC'],s=20,color='y')\n",
    "f = sns.regplot(x='nIR',y='MCC',data=df,robust=False,order=2,ci=95,scatter=False); #line_kws={'color':'green'}\n",
    "plt.xlabel(\"Noise Level\");"
   ]
  },
  {
   "cell_type": "code",
   "execution_count": null,
   "metadata": {},
   "outputs": [],
   "source": [
    "for col in df:\n",
    "    if col=='MCC': continue\n",
    "    print(col)\n",
    "    print(pg.corr(df[col],df['MCC'],method='percbend'),'\\n\\n') #shepherd , percbend"
   ]
  },
  {
   "cell_type": "code",
   "execution_count": null,
   "metadata": {},
   "outputs": [],
   "source": [
    "\n",
    "\n",
    "\n",
    "\n",
    "\n",
    "\n",
    "\n",
    "\n",
    "\n"
   ]
  }
 ],
 "metadata": {
  "kernelspec": {
   "display_name": "Python 3",
   "language": "python",
   "name": "python3"
  },
  "language_info": {
   "codemirror_mode": {
    "name": "ipython",
    "version": 3
   },
   "file_extension": ".py",
   "mimetype": "text/x-python",
   "name": "python",
   "nbconvert_exporter": "python",
   "pygments_lexer": "ipython3",
   "version": "3.7.6"
  }
 },
 "nbformat": 4,
 "nbformat_minor": 4
}
