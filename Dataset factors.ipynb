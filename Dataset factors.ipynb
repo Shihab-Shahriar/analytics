{
 "cells": [
  {
   "cell_type": "code",
   "execution_count": 2,
   "metadata": {},
   "outputs": [],
   "source": [
    "import numpy as np\n",
    "import pandas as pd,os\n",
    "from sklearn.metrics import precision_score, recall_score, confusion_matrix\n",
    "from scipy.stats import wilcoxon, friedmanchisquare, rankdata\n",
    "import scikit_posthocs as sp\n",
    "import pingouin as pg\n",
    "import seaborn as sns\n",
    "import matplotlib.pyplot as plt\n",
    "from library.utils import read_data"
   ]
  },
  {
   "cell_type": "code",
   "execution_count": 4,
   "metadata": {},
   "outputs": [
    {
     "data": {
      "text/plain": [
       "((32, 32), (32, 32))"
      ]
     },
     "execution_count": 4,
     "metadata": {},
     "output_type": "execute_result"
    }
   ],
   "source": [
    "clean = pd.read_csv(\"Results/Clean.csv\",header=[0,1,2],index_col=0)  # All_filter_MCC.csv\n",
    "noisy = pd.read_csv(\"Results/Noisy.csv\",header=[0,1,2],index_col=0)  #\n",
    "clean = clean.drop(columns=['pr_rec_score'],level=2).droplevel(2,axis=1)  # matthews_corrcoef\n",
    "noisy = noisy.drop(columns=['pr_rec_score'],level=2).droplevel(2,axis=1)\n",
    "df = clean-noisy\n",
    "clean.shape, noisy.shape"
   ]
  },
  {
   "cell_type": "markdown",
   "metadata": {},
   "source": [
    "## Dataset Characteristic vs MCC"
   ]
  },
  {
   "cell_type": "code",
   "execution_count": 5,
   "metadata": {},
   "outputs": [],
   "source": [
    "DATASETS = [f for f in os.listdir(\"JIRA/\") if 'csv' in f]"
   ]
  },
  {
   "cell_type": "code",
   "execution_count": 8,
   "metadata": {
    "collapsed": true,
    "jupyter": {
     "outputs_hidden": true
    }
   },
   "outputs": [
    {
     "data": {
      "text/plain": [
       "MultiIndex([( 'smote',    'dt'),\n",
       "            ( 'smote',    'lr'),\n",
       "            ( 'smote',    'nb'),\n",
       "            ( 'smote',   'svm'),\n",
       "            ( 'smote',   'knn'),\n",
       "            ( 'smote',    'rf'),\n",
       "            (   'rus',    'dt'),\n",
       "            (   'rus',    'lr'),\n",
       "            (   'rus',    'nb'),\n",
       "            (   'rus',   'svm'),\n",
       "            (   'rus',   'knn'),\n",
       "            (   'rus',    'rf'),\n",
       "            ('wilson',    'dt'),\n",
       "            ('wilson',    'lr'),\n",
       "            ('wilson',    'nb'),\n",
       "            ('wilson',   'svm'),\n",
       "            ('wilson',   'knn'),\n",
       "            ('wilson',    'rf'),\n",
       "            ( 'tomek',    'dt'),\n",
       "            ( 'tomek',    'lr'),\n",
       "            ( 'tomek',    'nb'),\n",
       "            ( 'tomek',   'svm'),\n",
       "            ( 'tomek',   'knn'),\n",
       "            ( 'tomek',    'rf'),\n",
       "            (  'None',    'dt'),\n",
       "            (  'None',    'lr'),\n",
       "            (  'None',    'nb'),\n",
       "            (  'None',   'svm'),\n",
       "            (  'None',   'knn'),\n",
       "            (  'None',    'rf'),\n",
       "            (  'UBag', 'BagNB'),\n",
       "            (  'UBag', 'BagDT')],\n",
       "           names=['imb', 'clf'])"
      ]
     },
     "execution_count": 8,
     "metadata": {},
     "output_type": "execute_result"
    }
   ],
   "source": [
    "noisy.columns"
   ]
  },
  {
   "cell_type": "code",
   "execution_count": 24,
   "metadata": {},
   "outputs": [
    {
     "data": {
      "text/plain": [
       "((32, 12), 0)"
      ]
     },
     "execution_count": 24,
     "metadata": {},
     "output_type": "execute_result"
    }
   ],
   "source": [
    "info = pd.DataFrame(columns=['noise','FP','FN','TP','TN','nIR','IR','PR','Rec','pos','neg'])\n",
    "for d in DATASETS:\n",
    "    X,y_noisy,y_real = read_data(d,stats=False)\n",
    "    noise = (y_noisy!=y_real).sum()/len(y_noisy)\n",
    "    tn, fp, fn, tp = confusion_matrix(y_real,y_noisy).ravel()\n",
    "    nIR = (y_noisy==0).sum()/y_noisy.sum()\n",
    "    IR = (y_real==0).sum()/y_real.sum()\n",
    "    pr = precision_score(y_real,y_noisy)\n",
    "    rec = recall_score(y_real,y_noisy)\n",
    "    pos = (y_real==1).sum()\n",
    "    neg = (y_real==0).sum()\n",
    "    info.loc[len(info)] = [noise,fp,fn,tp,tn,nIR,IR,pr,rec,pos,neg]\n",
    "        \n",
    "info['size'] = info['TN']+info['FN']+info['TP']+info['FP']\n",
    "info.shape,info.isna().sum().sum()"
   ]
  },
  {
   "cell_type": "code",
   "execution_count": 25,
   "metadata": {},
   "outputs": [
    {
     "data": {
      "text/html": [
       "<div>\n",
       "<style scoped>\n",
       "    .dataframe tbody tr th:only-of-type {\n",
       "        vertical-align: middle;\n",
       "    }\n",
       "\n",
       "    .dataframe tbody tr th {\n",
       "        vertical-align: top;\n",
       "    }\n",
       "\n",
       "    .dataframe thead th {\n",
       "        text-align: right;\n",
       "    }\n",
       "</style>\n",
       "<table border=\"1\" class=\"dataframe\">\n",
       "  <thead>\n",
       "    <tr style=\"text-align: right;\">\n",
       "      <th></th>\n",
       "      <th>noise</th>\n",
       "      <th>FP</th>\n",
       "      <th>FN</th>\n",
       "      <th>TP</th>\n",
       "      <th>TN</th>\n",
       "      <th>nIR</th>\n",
       "      <th>IR</th>\n",
       "      <th>PR</th>\n",
       "      <th>Rec</th>\n",
       "      <th>pos</th>\n",
       "      <th>neg</th>\n",
       "      <th>size</th>\n",
       "    </tr>\n",
       "  </thead>\n",
       "  <tbody>\n",
       "    <tr>\n",
       "      <th>noise</th>\n",
       "      <td>1.000000</td>\n",
       "      <td>0.003989</td>\n",
       "      <td>0.530921</td>\n",
       "      <td>0.394874</td>\n",
       "      <td>-0.604112</td>\n",
       "      <td>-0.510341</td>\n",
       "      <td>-0.745125</td>\n",
       "      <td>0.334167</td>\n",
       "      <td>-0.151932</td>\n",
       "      <td>0.559278</td>\n",
       "      <td>-0.597665</td>\n",
       "      <td>-0.552804</td>\n",
       "    </tr>\n",
       "    <tr>\n",
       "      <th>FP</th>\n",
       "      <td>0.003989</td>\n",
       "      <td>1.000000</td>\n",
       "      <td>-0.394866</td>\n",
       "      <td>0.090790</td>\n",
       "      <td>0.245745</td>\n",
       "      <td>-0.319471</td>\n",
       "      <td>0.383242</td>\n",
       "      <td>-0.688314</td>\n",
       "      <td>0.363664</td>\n",
       "      <td>-0.332750</td>\n",
       "      <td>0.282585</td>\n",
       "      <td>0.256064</td>\n",
       "    </tr>\n",
       "    <tr>\n",
       "      <th>FN</th>\n",
       "      <td>0.530921</td>\n",
       "      <td>-0.394866</td>\n",
       "      <td>1.000000</td>\n",
       "      <td>0.405652</td>\n",
       "      <td>-0.003925</td>\n",
       "      <td>0.188557</td>\n",
       "      <td>-0.418024</td>\n",
       "      <td>0.644037</td>\n",
       "      <td>-0.697640</td>\n",
       "      <td>0.980240</td>\n",
       "      <td>-0.019441</td>\n",
       "      <td>0.056795</td>\n",
       "    </tr>\n",
       "    <tr>\n",
       "      <th>TP</th>\n",
       "      <td>0.394874</td>\n",
       "      <td>0.090790</td>\n",
       "      <td>0.405652</td>\n",
       "      <td>1.000000</td>\n",
       "      <td>0.035472</td>\n",
       "      <td>-0.341250</td>\n",
       "      <td>-0.268020</td>\n",
       "      <td>0.534875</td>\n",
       "      <td>0.105204</td>\n",
       "      <td>0.578441</td>\n",
       "      <td>0.038680</td>\n",
       "      <td>0.083549</td>\n",
       "    </tr>\n",
       "    <tr>\n",
       "      <th>TN</th>\n",
       "      <td>-0.604112</td>\n",
       "      <td>0.245745</td>\n",
       "      <td>-0.003925</td>\n",
       "      <td>0.035472</td>\n",
       "      <td>1.000000</td>\n",
       "      <td>0.619920</td>\n",
       "      <td>0.808073</td>\n",
       "      <td>-0.189593</td>\n",
       "      <td>-0.166302</td>\n",
       "      <td>0.004174</td>\n",
       "      <td>0.999270</td>\n",
       "      <td>0.997270</td>\n",
       "    </tr>\n",
       "    <tr>\n",
       "      <th>nIR</th>\n",
       "      <td>-0.510341</td>\n",
       "      <td>-0.319471</td>\n",
       "      <td>0.188557</td>\n",
       "      <td>-0.341250</td>\n",
       "      <td>0.619920</td>\n",
       "      <td>1.000000</td>\n",
       "      <td>0.419101</td>\n",
       "      <td>0.013025</td>\n",
       "      <td>-0.574179</td>\n",
       "      <td>0.094426</td>\n",
       "      <td>0.600879</td>\n",
       "      <td>0.606820</td>\n",
       "    </tr>\n",
       "    <tr>\n",
       "      <th>IR</th>\n",
       "      <td>-0.745125</td>\n",
       "      <td>0.383242</td>\n",
       "      <td>-0.418024</td>\n",
       "      <td>-0.268020</td>\n",
       "      <td>0.808073</td>\n",
       "      <td>0.419101</td>\n",
       "      <td>1.000000</td>\n",
       "      <td>-0.541347</td>\n",
       "      <td>0.238465</td>\n",
       "      <td>-0.431069</td>\n",
       "      <td>0.814759</td>\n",
       "      <td>0.779358</td>\n",
       "    </tr>\n",
       "    <tr>\n",
       "      <th>PR</th>\n",
       "      <td>0.334167</td>\n",
       "      <td>-0.688314</td>\n",
       "      <td>0.644037</td>\n",
       "      <td>0.534875</td>\n",
       "      <td>-0.189593</td>\n",
       "      <td>0.013025</td>\n",
       "      <td>-0.541347</td>\n",
       "      <td>1.000000</td>\n",
       "      <td>-0.302146</td>\n",
       "      <td>0.690527</td>\n",
       "      <td>-0.214738</td>\n",
       "      <td>-0.160566</td>\n",
       "    </tr>\n",
       "    <tr>\n",
       "      <th>Rec</th>\n",
       "      <td>-0.151932</td>\n",
       "      <td>0.363664</td>\n",
       "      <td>-0.697640</td>\n",
       "      <td>0.105204</td>\n",
       "      <td>-0.166302</td>\n",
       "      <td>-0.574179</td>\n",
       "      <td>0.238465</td>\n",
       "      <td>-0.302146</td>\n",
       "      <td>1.000000</td>\n",
       "      <td>-0.599841</td>\n",
       "      <td>-0.150242</td>\n",
       "      <td>-0.196516</td>\n",
       "    </tr>\n",
       "    <tr>\n",
       "      <th>pos</th>\n",
       "      <td>0.559278</td>\n",
       "      <td>-0.332750</td>\n",
       "      <td>0.980240</td>\n",
       "      <td>0.578441</td>\n",
       "      <td>0.004174</td>\n",
       "      <td>0.094426</td>\n",
       "      <td>-0.431069</td>\n",
       "      <td>0.690527</td>\n",
       "      <td>-0.599841</td>\n",
       "      <td>1.000000</td>\n",
       "      <td>-0.008979</td>\n",
       "      <td>0.068768</td>\n",
       "    </tr>\n",
       "    <tr>\n",
       "      <th>neg</th>\n",
       "      <td>-0.597665</td>\n",
       "      <td>0.282585</td>\n",
       "      <td>-0.019441</td>\n",
       "      <td>0.038680</td>\n",
       "      <td>0.999270</td>\n",
       "      <td>0.600879</td>\n",
       "      <td>0.814759</td>\n",
       "      <td>-0.214738</td>\n",
       "      <td>-0.150242</td>\n",
       "      <td>-0.008979</td>\n",
       "      <td>1.000000</td>\n",
       "      <td>0.996975</td>\n",
       "    </tr>\n",
       "    <tr>\n",
       "      <th>size</th>\n",
       "      <td>-0.552804</td>\n",
       "      <td>0.256064</td>\n",
       "      <td>0.056795</td>\n",
       "      <td>0.083549</td>\n",
       "      <td>0.997270</td>\n",
       "      <td>0.606820</td>\n",
       "      <td>0.779358</td>\n",
       "      <td>-0.160566</td>\n",
       "      <td>-0.196516</td>\n",
       "      <td>0.068768</td>\n",
       "      <td>0.996975</td>\n",
       "      <td>1.000000</td>\n",
       "    </tr>\n",
       "  </tbody>\n",
       "</table>\n",
       "</div>"
      ],
      "text/plain": [
       "          noise        FP        FN        TP        TN       nIR        IR  \\\n",
       "noise  1.000000  0.003989  0.530921  0.394874 -0.604112 -0.510341 -0.745125   \n",
       "FP     0.003989  1.000000 -0.394866  0.090790  0.245745 -0.319471  0.383242   \n",
       "FN     0.530921 -0.394866  1.000000  0.405652 -0.003925  0.188557 -0.418024   \n",
       "TP     0.394874  0.090790  0.405652  1.000000  0.035472 -0.341250 -0.268020   \n",
       "TN    -0.604112  0.245745 -0.003925  0.035472  1.000000  0.619920  0.808073   \n",
       "nIR   -0.510341 -0.319471  0.188557 -0.341250  0.619920  1.000000  0.419101   \n",
       "IR    -0.745125  0.383242 -0.418024 -0.268020  0.808073  0.419101  1.000000   \n",
       "PR     0.334167 -0.688314  0.644037  0.534875 -0.189593  0.013025 -0.541347   \n",
       "Rec   -0.151932  0.363664 -0.697640  0.105204 -0.166302 -0.574179  0.238465   \n",
       "pos    0.559278 -0.332750  0.980240  0.578441  0.004174  0.094426 -0.431069   \n",
       "neg   -0.597665  0.282585 -0.019441  0.038680  0.999270  0.600879  0.814759   \n",
       "size  -0.552804  0.256064  0.056795  0.083549  0.997270  0.606820  0.779358   \n",
       "\n",
       "             PR       Rec       pos       neg      size  \n",
       "noise  0.334167 -0.151932  0.559278 -0.597665 -0.552804  \n",
       "FP    -0.688314  0.363664 -0.332750  0.282585  0.256064  \n",
       "FN     0.644037 -0.697640  0.980240 -0.019441  0.056795  \n",
       "TP     0.534875  0.105204  0.578441  0.038680  0.083549  \n",
       "TN    -0.189593 -0.166302  0.004174  0.999270  0.997270  \n",
       "nIR    0.013025 -0.574179  0.094426  0.600879  0.606820  \n",
       "IR    -0.541347  0.238465 -0.431069  0.814759  0.779358  \n",
       "PR     1.000000 -0.302146  0.690527 -0.214738 -0.160566  \n",
       "Rec   -0.302146  1.000000 -0.599841 -0.150242 -0.196516  \n",
       "pos    0.690527 -0.599841  1.000000 -0.008979  0.068768  \n",
       "neg   -0.214738 -0.150242 -0.008979  1.000000  0.996975  \n",
       "size  -0.160566 -0.196516  0.068768  0.996975  1.000000  "
      ]
     },
     "execution_count": 25,
     "metadata": {},
     "output_type": "execute_result"
    }
   ],
   "source": [
    "info.corr()"
   ]
  },
  {
   "cell_type": "code",
   "execution_count": 34,
   "metadata": {},
   "outputs": [],
   "source": [
    "NP = info['FN']/info['pos']"
   ]
  },
  {
   "cell_type": "code",
   "execution_count": 35,
   "metadata": {},
   "outputs": [
    {
     "data": {
      "text/plain": [
       "count    3200.000000\n",
       "mean       63.058679\n",
       "std        20.012955\n",
       "min        19.230769\n",
       "25%        48.476733\n",
       "50%        63.278254\n",
       "75%        80.962621\n",
       "max        93.427230\n",
       "dtype: float64"
      ]
     },
     "execution_count": 35,
     "metadata": {},
     "output_type": "execute_result"
    }
   ],
   "source": [
    "NP.describe()*100"
   ]
  },
  {
   "cell_type": "code",
   "execution_count": 42,
   "metadata": {},
   "outputs": [
    {
     "data": {
      "text/plain": [
       "27"
      ]
     },
     "execution_count": 42,
     "metadata": {},
     "output_type": "execute_result"
    }
   ],
   "source": [
    "(info['nIR']>3.94).sum()"
   ]
  },
  {
   "cell_type": "code",
   "execution_count": 50,
   "metadata": {},
   "outputs": [
    {
     "data": {
      "text/plain": [
       "(0.36729999999999996, 0.52118, 0.41340266522600394)"
      ]
     },
     "execution_count": 50,
     "metadata": {},
     "output_type": "execute_result"
    }
   ],
   "source": [
    "t = (1-.6327)\n",
    "rb = 12.65*.0412\n",
    "t,rb,t/(t+rb)"
   ]
  },
  {
   "cell_type": "code",
   "execution_count": null,
   "metadata": {},
   "outputs": [],
   "source": []
  },
  {
   "cell_type": "code",
   "execution_count": null,
   "metadata": {},
   "outputs": [],
   "source": [
    "plt.figure(figsize=(7,5))\n",
    "plt.scatter(df['noise'],df['MCC'],s=20,color='y')\n",
    "f = sns.regplot(x='noise',y='MCC',data=df,robust=False,order=2,ci=95,scatter=False); #line_kws={'color':'green'}\n",
    "plt.xlabel(\"Noise Level\");"
   ]
  },
  {
   "cell_type": "code",
   "execution_count": null,
   "metadata": {},
   "outputs": [],
   "source": [
    "plt.figure(figsize=(7,5))\n",
    "plt.scatter(df['nIR'],df['MCC'],s=20,color='y')\n",
    "f = sns.regplot(x='nIR',y='MCC',data=df,robust=False,order=2,ci=95,scatter=False); #line_kws={'color':'green'}\n",
    "plt.xlabel(\"Noise Level\");"
   ]
  },
  {
   "cell_type": "code",
   "execution_count": null,
   "metadata": {},
   "outputs": [],
   "source": [
    "for col in df:\n",
    "    if col=='MCC': continue\n",
    "    print(col)\n",
    "    print(pg.corr(df[col],df['MCC'],method='percbend'),'\\n\\n') #shepherd , percbend"
   ]
  },
  {
   "cell_type": "code",
   "execution_count": null,
   "metadata": {},
   "outputs": [],
   "source": [
    "\n",
    "\n",
    "\n",
    "\n",
    "\n",
    "\n",
    "\n",
    "\n",
    "\n"
   ]
  }
 ],
 "metadata": {
  "kernelspec": {
   "display_name": "Python 3",
   "language": "python",
   "name": "python3"
  },
  "language_info": {
   "codemirror_mode": {
    "name": "ipython",
    "version": 3
   },
   "file_extension": ".py",
   "mimetype": "text/x-python",
   "name": "python",
   "nbconvert_exporter": "python",
   "pygments_lexer": "ipython3",
   "version": "3.7.6"
  }
 },
 "nbformat": 4,
 "nbformat_minor": 4
}
