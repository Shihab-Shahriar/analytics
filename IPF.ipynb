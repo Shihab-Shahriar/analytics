{
 "cells": [
  {
   "cell_type": "code",
   "execution_count": 2,
   "metadata": {},
   "outputs": [
    {
     "name": "stdout",
     "output_type": "stream",
     "text": [
      "The autoreload extension is already loaded. To reload it, use:\n",
      "  %reload_ext autoreload\n"
     ]
    }
   ],
   "source": [
    "from time import perf_counter\n",
    "import numpy as np,os\n",
    "import pandas as pd\n",
    "from collections import defaultdict\n",
    "from sklearn.utils import shuffle\n",
    "from sklearn.naive_bayes import GaussianNB\n",
    "from sklearn.tree import DecisionTreeClassifier\n",
    "from sklearn.linear_model import LogisticRegression\n",
    "from sklearn.neighbors import KNeighborsClassifier\n",
    "from sklearn.svm import SVC\n",
    "from sklearn.ensemble import RandomForestClassifier\n",
    "from sklearn.model_selection import RepeatedStratifiedKFold\n",
    "from imblearn.ensemble import BalancedBaggingClassifier, RUSBoostClassifier\n",
    "from imblearn.over_sampling import SMOTE\n",
    "from imblearn.under_sampling import RandomUnderSampler, EditedNearestNeighbours, TomekLinks, RepeatedEditedNearestNeighbours\n",
    "from imblearn.pipeline import Pipeline\n",
    "\n",
    "from sklearn.metrics import matthews_corrcoef, precision_recall_curve, auc, accuracy_score, precision_score, recall_score\n",
    "import seaborn as sns,matplotlib.pyplot as plt\n",
    "\n",
    "from library.utils import evaluate, read_data\n",
    "from library.cleaners import kDN, ih_prob,FilteringEstimator\n",
    "\n",
    "%load_ext autoreload\n",
    "%autoreload 2"
   ]
  },
  {
   "cell_type": "markdown",
   "metadata": {},
   "source": [
    "## Notes\n",
    "+ Need to take best value among samplers, since some don't completely balance, and IPF sucks there"
   ]
  },
  {
   "cell_type": "code",
   "execution_count": 3,
   "metadata": {},
   "outputs": [
    {
     "data": {
      "text/plain": [
       "32"
      ]
     },
     "execution_count": 3,
     "metadata": {},
     "output_type": "execute_result"
    }
   ],
   "source": [
    "DATASETS = ['groovy-1_5_7.csv','jruby-1.4.0.csv','lucene-2.9.0.csv','jruby-1.7.0.preview1.csv','groovy-1_6_BETA_1.csv',\n",
    "        'derby-10.2.1.6.csv','wicket-1.5.3.csv','camel-2.9.0.csv','camel-1.4.0.csv','activemq-5.8.0.csv']\n",
    "DATASETS = [f for f in os.listdir(\"JIRA/\") if 'csv' in f]\n",
    "len(DATASETS)"
   ]
  },
  {
   "cell_type": "code",
   "execution_count": 4,
   "metadata": {},
   "outputs": [],
   "source": [
    "from sklearn.base import BaseEstimator, TransformerMixin, ClassifierMixin, clone\n",
    "class IPF(BaseEstimator, ClassifierMixin):\n",
    "    def __init__(self, estimator, n=5, max_iter = 3,random_state=None):\n",
    "        self.estimator = estimator\n",
    "        self.n = n\n",
    "        self.max_iter = max_iter\n",
    "        self.random_state = random_state\n",
    "        \n",
    "    def clean(self,X,Y, sample_weight):\n",
    "        Xt,Yt = shuffle(X,Y)\n",
    "        orig_size = len(X)\n",
    "        n_iters_with_small_change = 0\n",
    "        tmp = 0\n",
    "        while n_iters_with_small_change<self.max_iter:\n",
    "            tmp += 1\n",
    "            cur_size = len(Xt)\n",
    "            breaks = [(len(Xt)//self.n)*i for i in range(1,self.n)]\n",
    "            Xs,Ys = np.split(Xt,breaks),np.split(Yt,breaks)\n",
    "            \n",
    "            clfs = []\n",
    "            for i in range(self.n):\n",
    "                c = DecisionTreeClassifier(max_depth=2).fit(Xs[i],Ys[i])\n",
    "                clfs.append(c)\n",
    "\n",
    "            preds = np.zeros((len(Xt),self.n))\n",
    "            for i in range(self.n):\n",
    "                preds[:,i] = clfs[i].predict(Xt)\n",
    "            eqs = preds==Yt.reshape(-1,1)  # Shape: (len(Xt),self.n)\n",
    "            clean_idx = eqs.sum(axis=1)>=(self.n/2)  # Idx of clean samples\n",
    "            \n",
    "            try:\n",
    "                sample_weight = sample_weight[clean_idx]\n",
    "            except:\n",
    "                pass\n",
    "            Xt,Yt = Xt[clean_idx],Yt[clean_idx]\n",
    "            \n",
    "            cur_change = cur_size - len(Xt)\n",
    "            if cur_change<=.01*orig_size:\n",
    "                n_iters_with_small_change += 1\n",
    "            else:\n",
    "                n_iters_with_small_change = 0  #Because these small change has to be consecutively 3 times\n",
    "            #print(tmp,cur_change,orig_size,cur_change/orig_size)  \n",
    "        return Xt,Yt,sample_weight\n",
    "\n",
    "\n",
    "    def fit(self, X, Y,sample_weight=None):\n",
    "        Xf,Yf,sample_weight = self.clean(X, Y, sample_weight)\n",
    "        a,b = np.unique(Y,return_counts=True)[1],np.unique(Yf,return_counts=True)[1]\n",
    "        #print(a.max()/a.min(),b.max()/b.min(),a,b,Xf.shape,len(Xf)/len(X))\n",
    "        assert len(np.unique(Yf))==2,\"Pos class completely filtered out\"\n",
    "        try:\n",
    "            self.estimator = self.estimator.fit(Xf, Yf,sample_weight=sample_weight)\n",
    "        except TypeError as e:\n",
    "            self.estimator = self.estimator.fit(Xf, Yf)\n",
    "        return self\n",
    "\n",
    "    @property\n",
    "    def classes_(self):\n",
    "        return self.estimator.classes_\n",
    "\n",
    "    def predict(self, X):\n",
    "        return self.estimator.predict(X)\n",
    "    \n",
    "    def predict_proba(self, X):\n",
    "        return self.estimator.predict_proba(X)"
   ]
  },
  {
   "cell_type": "code",
   "execution_count": 5,
   "metadata": {},
   "outputs": [],
   "source": [
    "imbs = {\n",
    "    'smote': SMOTE(k_neighbors=5),\n",
    "    'rus': RandomUnderSampler('not minority'),\n",
    "    'wilson':EditedNearestNeighbours(n_neighbors=5,kind_sel='all'),  #Default was 3\n",
    "    'tomek': TomekLinks(),\n",
    "    'None': 'passthrough',\n",
    "}\n",
    "clfs = {\n",
    "    'dt': DecisionTreeClassifier(max_depth=20),\n",
    "    'lr': LogisticRegression(solver='lbfgs',max_iter=1000),\n",
    "    'nb': GaussianNB(),\n",
    "    'svm': SVC(probability=True),\n",
    "    'knn': KNeighborsClassifier(n_neighbors=5),\n",
    "    'rf': RandomForestClassifier(n_estimators=50),\n",
    "}\n",
    "bal_nb = IPF(GaussianNB())\n",
    "bal_dt_bag = IPF(DecisionTreeClassifier(max_depth=20,max_features='sqrt'))\n",
    "bal_dt_boost = IPF(DecisionTreeClassifier(max_depth=10))\n",
    "ensembles = {\n",
    "    'rboost_DT': RUSBoostClassifier(base_estimator=clone(bal_dt_boost),algorithm='SAMME',n_estimators=50),\n",
    "    'rboost_NB': RUSBoostClassifier(base_estimator=clone(bal_nb),algorithm='SAMME',n_estimators=50),\n",
    "    'bbag_DT': BalancedBaggingClassifier(base_estimator=clone(bal_dt_bag),n_estimators=50),\n",
    "    'bbag_NB': BalancedBaggingClassifier(base_estimator=clone(bal_nb),n_estimators=50),\n",
    "}"
   ]
  },
  {
   "cell_type": "code",
   "execution_count": 6,
   "metadata": {},
   "outputs": [
    {
     "data": {
      "text/plain": [
       "(dict_keys([('smote', 'dt'), ('smote', 'lr'), ('smote', 'nb'), ('smote', 'svm'), ('smote', 'knn'), ('smote', 'rf'), ('rus', 'dt'), ('rus', 'lr'), ('rus', 'nb'), ('rus', 'svm'), ('rus', 'knn'), ('rus', 'rf'), ('wilson', 'dt'), ('wilson', 'lr'), ('wilson', 'nb'), ('wilson', 'svm'), ('wilson', 'knn'), ('wilson', 'rf'), ('tomek', 'dt'), ('tomek', 'lr'), ('tomek', 'nb'), ('tomek', 'svm'), ('tomek', 'knn'), ('tomek', 'rf'), ('None', 'dt'), ('None', 'lr'), ('None', 'nb'), ('None', 'svm'), ('None', 'knn'), ('None', 'rf'), ('ens', 'rboost_DT'), ('ens', 'rboost_NB'), ('ens', 'bbag_DT'), ('ens', 'bbag_NB')]),\n",
       " 34)"
      ]
     },
     "execution_count": 6,
     "metadata": {},
     "output_type": "execute_result"
    }
   ],
   "source": [
    "models = {}\n",
    "for im,samp in imbs.items():\n",
    "    for c,clf in clfs.items():\n",
    "        models[(im,c)] = Pipeline([('samp',samp),('clf',IPF(clf))])\n",
    "\n",
    "for m,ens in ensembles.items():\n",
    "    models[('ens',m)] = ens\n",
    "    \n",
    "models.keys(),len(models)"
   ]
  },
  {
   "cell_type": "code",
   "execution_count": 7,
   "metadata": {},
   "outputs": [],
   "source": [
    "cv = RepeatedStratifiedKFold(n_splits=5,n_repeats=5,random_state=99)\n",
    "def pr_rec_score(y,yp):\n",
    "    prec, rec, _ = precision_recall_curve(y,yp)\n",
    "    return auc(rec,prec)\n",
    "scorers = [matthews_corrcoef,pr_rec_score]"
   ]
  },
  {
   "cell_type": "code",
   "execution_count": 8,
   "metadata": {},
   "outputs": [],
   "source": [
    "cols = pd.MultiIndex.from_product([imbs.keys(),clfs.keys(),[f.__name__ for f in scorers]],names=['imb','clf','metric'])\n",
    "df = pd.DataFrame(index=DATASETS,columns=cols)\n",
    "#df = pd.read_csv(\"IPF.csv\",header=[0,1,2],index_col=0)"
   ]
  },
  {
   "cell_type": "code",
   "execution_count": 9,
   "metadata": {},
   "outputs": [
    {
     "name": "stdout",
     "output_type": "stream",
     "text": [
      "activemq-5.8.0.csv noise:0.058, imb:15.847,203,3217, Shape:(3420, 65)\n",
      "('smote', 'dt')\n",
      "2.63 [0.235, 0.386]\n",
      "('smote', 'lr')\n",
      "7.32 [0.248, 0.293]\n",
      "('smote', 'nb')\n",
      "2.53 [0.265, 0.419]\n",
      "('smote', 'svm')\n",
      "63.8 [0.244, 0.205]\n",
      "('smote', 'knn')\n",
      "4.52 [0.231, 0.346]\n",
      "('smote', 'rf')\n",
      "8.33 [0.245, 0.261]\n",
      "('rus', 'dt')\n",
      "0.44 [0.234, 0.474]\n",
      "('rus', 'lr')\n",
      "0.74 [0.246, 0.325]\n",
      "('rus', 'nb')\n",
      "0.46 [0.271, 0.474]\n",
      "('rus', 'svm')\n",
      "0.6 [0.251, 0.236]\n",
      "('rus', 'knn')\n",
      "0.68 [0.249, 0.445]\n",
      "('rus', 'rf')\n",
      "1.65 [0.24, 0.393]\n",
      "('wilson', 'dt')\n",
      "6.44 [0.252, 0.388]\n",
      "('wilson', 'lr')\n",
      "7.34 [0.278, 0.342]\n",
      "('wilson', 'nb')\n",
      "6.55 [0.299, 0.336]\n",
      "('wilson', 'svm')\n"
     ]
    },
    {
     "name": "stderr",
     "output_type": "stream",
     "text": [
      "/home/shihab/anaconda3/envs/ana/lib/python3.7/site-packages/sklearn/metrics/_classification.py:896: RuntimeWarning: invalid value encountered in double_scalars\n",
      "  mcc = cov_ytyp / np.sqrt(cov_ytyt * cov_ypyp)\n"
     ]
    },
    {
     "name": "stdout",
     "output_type": "stream",
     "text": [
      "8.65 [0.257, 0.246]\n",
      "('wilson', 'knn')\n",
      "8.36 [0.266, 0.378]\n",
      "('wilson', 'rf')\n",
      "8.43 [0.259, 0.34]\n",
      "('tomek', 'dt')\n",
      "ERROR!!! Pos class completely filtered out\n",
      "ERROR!!! Pos class completely filtered out\n",
      "5.74 [0.216, 0.436]\n",
      "('tomek', 'lr')\n"
     ]
    },
    {
     "name": "stderr",
     "output_type": "stream",
     "text": [
      "/home/shihab/anaconda3/envs/ana/lib/python3.7/site-packages/sklearn/metrics/_classification.py:896: RuntimeWarning: invalid value encountered in double_scalars\n",
      "  mcc = cov_ytyp / np.sqrt(cov_ytyt * cov_ypyp)\n",
      "/home/shihab/anaconda3/envs/ana/lib/python3.7/site-packages/sklearn/metrics/_classification.py:896: RuntimeWarning: invalid value encountered in double_scalars\n",
      "  mcc = cov_ytyp / np.sqrt(cov_ytyt * cov_ypyp)\n"
     ]
    },
    {
     "name": "stdout",
     "output_type": "stream",
     "text": [
      "7.18 [0.203, 0.336]\n",
      "('tomek', 'nb')\n",
      "ERROR!!! Pos class completely filtered out\n"
     ]
    },
    {
     "name": "stderr",
     "output_type": "stream",
     "text": [
      "/home/shihab/anaconda3/envs/ana/lib/python3.7/site-packages/sklearn/metrics/_classification.py:896: RuntimeWarning: invalid value encountered in double_scalars\n",
      "  mcc = cov_ytyp / np.sqrt(cov_ytyt * cov_ypyp)\n",
      "/home/shihab/anaconda3/envs/ana/lib/python3.7/site-packages/sklearn/metrics/_classification.py:896: RuntimeWarning: invalid value encountered in double_scalars\n",
      "  mcc = cov_ytyp / np.sqrt(cov_ytyt * cov_ypyp)\n",
      "/home/shihab/anaconda3/envs/ana/lib/python3.7/site-packages/sklearn/metrics/_classification.py:896: RuntimeWarning: invalid value encountered in double_scalars\n",
      "  mcc = cov_ytyp / np.sqrt(cov_ytyt * cov_ypyp)\n"
     ]
    },
    {
     "name": "stdout",
     "output_type": "stream",
     "text": [
      "6.02 [0.225, 0.31]\n",
      "('tomek', 'svm')\n",
      "7.18 [0.22, 0.182]\n",
      "('tomek', 'knn')\n",
      "ERROR!!! Pos class completely filtered out\n"
     ]
    },
    {
     "name": "stderr",
     "output_type": "stream",
     "text": [
      "/home/shihab/anaconda3/envs/ana/lib/python3.7/site-packages/sklearn/metrics/_classification.py:896: RuntimeWarning: invalid value encountered in double_scalars\n",
      "  mcc = cov_ytyp / np.sqrt(cov_ytyt * cov_ypyp)\n",
      "/home/shihab/anaconda3/envs/ana/lib/python3.7/site-packages/sklearn/metrics/_classification.py:896: RuntimeWarning: invalid value encountered in double_scalars\n",
      "  mcc = cov_ytyp / np.sqrt(cov_ytyt * cov_ypyp)\n"
     ]
    },
    {
     "name": "stdout",
     "output_type": "stream",
     "text": [
      "7.24 [0.189, 0.437]\n",
      "('tomek', 'rf')\n",
      "ERROR!!! Pos class completely filtered out\n",
      "ERROR!!! Pos class completely filtered out\n"
     ]
    },
    {
     "name": "stderr",
     "output_type": "stream",
     "text": [
      "/home/shihab/anaconda3/envs/ana/lib/python3.7/site-packages/sklearn/metrics/_classification.py:896: RuntimeWarning: invalid value encountered in double_scalars\n",
      "  mcc = cov_ytyp / np.sqrt(cov_ytyt * cov_ypyp)\n",
      "/home/shihab/anaconda3/envs/ana/lib/python3.7/site-packages/sklearn/metrics/_classification.py:896: RuntimeWarning: invalid value encountered in double_scalars\n",
      "  mcc = cov_ytyp / np.sqrt(cov_ytyt * cov_ypyp)\n"
     ]
    },
    {
     "name": "stdout",
     "output_type": "stream",
     "text": [
      "ERROR!!! Pos class completely filtered out\n",
      "7.12 [0.213, 0.378]\n",
      "('None', 'dt')\n",
      "ERROR!!! Pos class completely filtered out\n",
      "ERROR!!! Pos class completely filtered out\n",
      "0.87 [0.184, 0.395]\n",
      "('None', 'lr')\n"
     ]
    },
    {
     "name": "stderr",
     "output_type": "stream",
     "text": [
      "/home/shihab/anaconda3/envs/ana/lib/python3.7/site-packages/sklearn/metrics/_classification.py:896: RuntimeWarning: invalid value encountered in double_scalars\n",
      "  mcc = cov_ytyp / np.sqrt(cov_ytyt * cov_ypyp)\n"
     ]
    },
    {
     "name": "stdout",
     "output_type": "stream",
     "text": [
      "1.54 [0.204, 0.335]\n",
      "('None', 'nb')\n"
     ]
    },
    {
     "name": "stderr",
     "output_type": "stream",
     "text": [
      "/home/shihab/anaconda3/envs/ana/lib/python3.7/site-packages/sklearn/metrics/_classification.py:896: RuntimeWarning: invalid value encountered in double_scalars\n",
      "  mcc = cov_ytyp / np.sqrt(cov_ytyt * cov_ypyp)\n"
     ]
    },
    {
     "name": "stdout",
     "output_type": "stream",
     "text": [
      "ERROR!!! Pos class completely filtered out\n",
      "ERROR!!! Pos class completely filtered out\n",
      "0.8 [0.233, 0.308]\n",
      "('None', 'svm')\n",
      "ERROR!!! Pos class completely filtered out\n"
     ]
    },
    {
     "name": "stderr",
     "output_type": "stream",
     "text": [
      "/home/shihab/anaconda3/envs/ana/lib/python3.7/site-packages/sklearn/metrics/_classification.py:896: RuntimeWarning: invalid value encountered in double_scalars\n",
      "  mcc = cov_ytyp / np.sqrt(cov_ytyt * cov_ypyp)\n"
     ]
    },
    {
     "name": "stdout",
     "output_type": "stream",
     "text": [
      "1.76 [0.194, 0.169]\n",
      "('None', 'knn')\n",
      "ERROR!!! Pos class completely filtered out\n"
     ]
    },
    {
     "name": "stderr",
     "output_type": "stream",
     "text": [
      "/home/shihab/anaconda3/envs/ana/lib/python3.7/site-packages/sklearn/metrics/_classification.py:896: RuntimeWarning: invalid value encountered in double_scalars\n",
      "  mcc = cov_ytyp / np.sqrt(cov_ytyt * cov_ypyp)\n",
      "/home/shihab/anaconda3/envs/ana/lib/python3.7/site-packages/sklearn/metrics/_classification.py:896: RuntimeWarning: invalid value encountered in double_scalars\n",
      "  mcc = cov_ytyp / np.sqrt(cov_ytyt * cov_ypyp)\n"
     ]
    },
    {
     "name": "stdout",
     "output_type": "stream",
     "text": [
      "ERROR!!! Pos class completely filtered out\n",
      "2.3 [0.181, 0.438]\n",
      "('None', 'rf')\n",
      "ERROR!!! Pos class completely filtered out\n"
     ]
    },
    {
     "name": "stderr",
     "output_type": "stream",
     "text": [
      "/home/shihab/anaconda3/envs/ana/lib/python3.7/site-packages/sklearn/metrics/_classification.py:896: RuntimeWarning: invalid value encountered in double_scalars\n",
      "  mcc = cov_ytyp / np.sqrt(cov_ytyt * cov_ypyp)\n",
      "/home/shihab/anaconda3/envs/ana/lib/python3.7/site-packages/sklearn/metrics/_classification.py:896: RuntimeWarning: invalid value encountered in double_scalars\n",
      "  mcc = cov_ytyp / np.sqrt(cov_ytyt * cov_ypyp)\n",
      "/home/shihab/anaconda3/envs/ana/lib/python3.7/site-packages/sklearn/metrics/_classification.py:896: RuntimeWarning: invalid value encountered in double_scalars\n",
      "  mcc = cov_ytyp / np.sqrt(cov_ytyt * cov_ypyp)\n"
     ]
    },
    {
     "name": "stdout",
     "output_type": "stream",
     "text": [
      "ERROR!!! Pos class completely filtered out\n"
     ]
    },
    {
     "name": "stderr",
     "output_type": "stream",
     "text": [
      "/home/shihab/anaconda3/envs/ana/lib/python3.7/site-packages/sklearn/metrics/_classification.py:896: RuntimeWarning: invalid value encountered in double_scalars\n",
      "  mcc = cov_ytyp / np.sqrt(cov_ytyt * cov_ypyp)\n"
     ]
    },
    {
     "name": "stdout",
     "output_type": "stream",
     "text": [
      "2.3 [0.17, 0.376]\n",
      "('ens', 'rboost_DT')\n",
      "1.27 [0.247, 0.449]\n",
      "('ens', 'rboost_NB')\n",
      "1.42 [0.268, 0.481]\n",
      "('ens', 'bbag_DT')\n",
      "21.87 [0.245, 0.333]\n",
      "('ens', 'bbag_NB')\n",
      "21.25 [0.27, 0.395]\n",
      "\n",
      "groovy-1_6_BETA_1.csv noise:0.128, imb:6.017,117,704, Shape:(821, 65)\n",
      "('smote', 'dt')\n",
      "0.84 [0.386, 0.548]\n",
      "('smote', 'lr')\n",
      "1.55 [0.376, 0.418]\n",
      "('smote', 'nb')\n",
      "0.78 [0.299, 0.435]\n",
      "('smote', 'svm')\n",
      "2.36 [0.388, 0.395]\n",
      "('smote', 'knn')\n",
      "0.94 [0.364, 0.544]\n",
      "('smote', 'rf')\n",
      "2.72 [0.383, 0.502]\n",
      "('rus', 'dt')\n",
      "0.39 [0.325, 0.527]\n",
      "('rus', 'lr')\n",
      "0.6 [0.352, 0.44]\n",
      "('rus', 'nb')\n",
      "0.38 [0.272, 0.477]\n",
      "('rus', 'svm')\n",
      "0.49 [0.342, 0.373]\n",
      "('rus', 'knn')\n",
      "0.44 [0.337, 0.494]\n",
      "('rus', 'rf')\n",
      "1.52 [0.332, 0.46]\n",
      "('wilson', 'dt')\n",
      "1.01 [0.363, 0.455]\n",
      "('wilson', 'lr')\n",
      "1.34 [0.366, 0.449]\n",
      "('wilson', 'nb')\n",
      "1.02 [0.287, 0.412]\n",
      "('wilson', 'svm')\n",
      "1.21 [0.346, 0.405]\n",
      "('wilson', 'knn')\n",
      "1.12 [0.36, 0.451]\n",
      "('wilson', 'rf')\n",
      "2.31 [0.385, 0.405]\n",
      "('tomek', 'dt')\n",
      "ERROR!!! Pos class completely filtered out\n",
      "0.99 [0.296, 0.391]\n",
      "('tomek', 'lr')\n",
      "1.4 [0.332, 0.439]\n",
      "('tomek', 'nb')\n",
      "0.97 [0.297, 0.391]\n",
      "('tomek', 'svm')\n",
      "ERROR!!! Pos class completely filtered out\n",
      "ERROR!!! Pos class completely filtered out\n",
      "ERROR!!! Pos class completely filtered out\n",
      "1.18 [0.318, 0.343]\n",
      "('tomek', 'knn')\n"
     ]
    },
    {
     "name": "stderr",
     "output_type": "stream",
     "text": [
      "/home/shihab/anaconda3/envs/ana/lib/python3.7/site-packages/sklearn/metrics/_classification.py:896: RuntimeWarning: invalid value encountered in double_scalars\n",
      "  mcc = cov_ytyp / np.sqrt(cov_ytyt * cov_ypyp)\n"
     ]
    },
    {
     "name": "stdout",
     "output_type": "stream",
     "text": [
      "ERROR!!! Pos class completely filtered out\n"
     ]
    },
    {
     "name": "stderr",
     "output_type": "stream",
     "text": [
      "/home/shihab/anaconda3/envs/ana/lib/python3.7/site-packages/sklearn/metrics/_classification.py:896: RuntimeWarning: invalid value encountered in double_scalars\n",
      "  mcc = cov_ytyp / np.sqrt(cov_ytyt * cov_ypyp)\n"
     ]
    },
    {
     "name": "stdout",
     "output_type": "stream",
     "text": [
      "1.12 [0.32, 0.425]\n",
      "('tomek', 'rf')\n"
     ]
    },
    {
     "name": "stderr",
     "output_type": "stream",
     "text": [
      "/home/shihab/anaconda3/envs/ana/lib/python3.7/site-packages/sklearn/metrics/_classification.py:896: RuntimeWarning: invalid value encountered in double_scalars\n",
      "  mcc = cov_ytyp / np.sqrt(cov_ytyt * cov_ypyp)\n",
      "/home/shihab/anaconda3/envs/ana/lib/python3.7/site-packages/sklearn/metrics/_classification.py:896: RuntimeWarning: invalid value encountered in double_scalars\n",
      "  mcc = cov_ytyp / np.sqrt(cov_ytyt * cov_ypyp)\n"
     ]
    },
    {
     "name": "stdout",
     "output_type": "stream",
     "text": [
      "ERROR!!! Pos class completely filtered out\n"
     ]
    },
    {
     "name": "stderr",
     "output_type": "stream",
     "text": [
      "/home/shihab/anaconda3/envs/ana/lib/python3.7/site-packages/sklearn/metrics/_classification.py:896: RuntimeWarning: invalid value encountered in double_scalars\n",
      "  mcc = cov_ytyp / np.sqrt(cov_ytyt * cov_ypyp)\n"
     ]
    },
    {
     "name": "stdout",
     "output_type": "stream",
     "text": [
      "ERROR!!! Pos class completely filtered out\n",
      "2.14 [0.251, 0.361]\n",
      "('None', 'dt')\n",
      "ERROR!!! Pos class completely filtered out\n",
      "0.41 [0.322, 0.422]\n",
      "('None', 'lr')\n",
      "ERROR!!! Pos class completely filtered out\n",
      "ERROR!!! Pos class completely filtered out\n",
      "0.85 [0.33, 0.42]\n",
      "('None', 'nb')\n",
      "ERROR!!! Pos class completely filtered out\n",
      "ERROR!!! Pos class completely filtered out\n"
     ]
    },
    {
     "name": "stderr",
     "output_type": "stream",
     "text": [
      "/home/shihab/anaconda3/envs/ana/lib/python3.7/site-packages/sklearn/metrics/_classification.py:896: RuntimeWarning: invalid value encountered in double_scalars\n",
      "  mcc = cov_ytyp / np.sqrt(cov_ytyt * cov_ypyp)\n"
     ]
    },
    {
     "name": "stdout",
     "output_type": "stream",
     "text": [
      "0.45 [0.274, 0.381]\n",
      "('None', 'svm')\n",
      "ERROR!!! Pos class completely filtered out\n",
      "ERROR!!! Pos class completely filtered out\n"
     ]
    },
    {
     "name": "stderr",
     "output_type": "stream",
     "text": [
      "/home/shihab/anaconda3/envs/ana/lib/python3.7/site-packages/sklearn/metrics/_classification.py:896: RuntimeWarning: invalid value encountered in double_scalars\n",
      "  mcc = cov_ytyp / np.sqrt(cov_ytyt * cov_ypyp)\n"
     ]
    },
    {
     "name": "stdout",
     "output_type": "stream",
     "text": [
      "0.65 [0.294, 0.318]\n",
      "('None', 'knn')\n",
      "ERROR!!! Pos class completely filtered out\n",
      "0.57 [0.307, 0.414]\n",
      "('None', 'rf')\n",
      "ERROR!!! Pos class completely filtered out\n",
      "ERROR!!! Pos class completely filtered out\n",
      "ERROR!!! Pos class completely filtered out\n",
      "ERROR!!! Pos class completely filtered out\n",
      "ERROR!!! Pos class completely filtered out\n"
     ]
    },
    {
     "name": "stderr",
     "output_type": "stream",
     "text": [
      "/home/shihab/anaconda3/envs/ana/lib/python3.7/site-packages/sklearn/metrics/_classification.py:896: RuntimeWarning: invalid value encountered in double_scalars\n",
      "  mcc = cov_ytyp / np.sqrt(cov_ytyt * cov_ypyp)\n"
     ]
    },
    {
     "name": "stdout",
     "output_type": "stream",
     "text": [
      "1.45 [0.309, 0.38]\n",
      "('ens', 'rboost_DT')\n",
      "1.27 [0.366, 0.537]\n",
      "('ens', 'rboost_NB')\n",
      "1.15 [0.315, 0.499]\n",
      "('ens', 'bbag_DT')\n",
      "20.08 [0.36, 0.446]\n",
      "('ens', 'bbag_NB')\n",
      "19.29 [0.318, 0.423]\n",
      "\n",
      "activemq-5.3.0.csv noise:0.094, imb:15.669,142,2225, Shape:(2367, 65)\n",
      "('smote', 'dt')\n",
      "2.5 [0.319, 0.468]\n",
      "('smote', 'lr')\n",
      "5.24 [0.352, 0.473]\n",
      "('smote', 'nb')\n",
      "2.21 [0.337, 0.468]\n",
      "('smote', 'svm')\n",
      "26.69 [0.356, 0.425]\n",
      "('smote', 'knn')\n",
      "3.63 [0.343, 0.464]\n",
      "('smote', 'rf')\n",
      "7.3 [0.339, 0.435]\n",
      "('rus', 'dt')\n",
      "0.38 [0.286, 0.473]\n",
      "('rus', 'lr')\n",
      "0.67 [0.296, 0.426]\n",
      "('rus', 'nb')\n",
      "0.4 [0.31, 0.482]\n",
      "('rus', 'svm')\n",
      "0.52 [0.3, 0.4]\n",
      "('rus', 'knn')\n",
      "0.52 [0.308, 0.46]\n",
      "('rus', 'rf')\n",
      "1.55 [0.289, 0.432]\n",
      "('wilson', 'dt')\n",
      "3.97 [0.306, 0.473]\n",
      "('wilson', 'lr')\n",
      "4.67 [0.337, 0.439]\n",
      "('wilson', 'nb')\n",
      "4.04 [0.342, 0.421]\n",
      "('wilson', 'svm')\n",
      "4.71 [0.361, 0.401]\n",
      "('wilson', 'knn')\n",
      "4.89 [0.346, 0.495]\n",
      "('wilson', 'rf')\n",
      "5.49 [0.294, 0.435]\n",
      "('tomek', 'dt')\n"
     ]
    },
    {
     "name": "stderr",
     "output_type": "stream",
     "text": [
      "/home/shihab/anaconda3/envs/ana/lib/python3.7/site-packages/sklearn/metrics/_classification.py:896: RuntimeWarning: invalid value encountered in double_scalars\n",
      "  mcc = cov_ytyp / np.sqrt(cov_ytyt * cov_ypyp)\n"
     ]
    },
    {
     "name": "stdout",
     "output_type": "stream",
     "text": [
      "3.53 [0.195, 0.494]\n",
      "('tomek', 'lr')\n",
      "ERROR!!! Pos class completely filtered out\n"
     ]
    },
    {
     "name": "stderr",
     "output_type": "stream",
     "text": [
      "/home/shihab/anaconda3/envs/ana/lib/python3.7/site-packages/sklearn/metrics/_classification.py:896: RuntimeWarning: invalid value encountered in double_scalars\n",
      "  mcc = cov_ytyp / np.sqrt(cov_ytyt * cov_ypyp)\n"
     ]
    },
    {
     "name": "stdout",
     "output_type": "stream",
     "text": [
      "4.23 [0.195, 0.427]\n",
      "('tomek', 'nb')\n",
      "ERROR!!! Pos class completely filtered out\n",
      "ERROR!!! Pos class completely filtered out\n",
      "3.55 [0.252, 0.351]\n",
      "('tomek', 'svm')\n"
     ]
    },
    {
     "name": "stderr",
     "output_type": "stream",
     "text": [
      "/home/shihab/anaconda3/envs/ana/lib/python3.7/site-packages/sklearn/metrics/_classification.py:896: RuntimeWarning: invalid value encountered in double_scalars\n",
      "  mcc = cov_ytyp / np.sqrt(cov_ytyt * cov_ypyp)\n"
     ]
    },
    {
     "name": "stdout",
     "output_type": "stream",
     "text": [
      "ERROR!!! Pos class completely filtered out\n",
      "ERROR!!! Pos class completely filtered out\n"
     ]
    },
    {
     "name": "stderr",
     "output_type": "stream",
     "text": [
      "/home/shihab/anaconda3/envs/ana/lib/python3.7/site-packages/sklearn/metrics/_classification.py:896: RuntimeWarning: invalid value encountered in double_scalars\n",
      "  mcc = cov_ytyp / np.sqrt(cov_ytyt * cov_ypyp)\n"
     ]
    },
    {
     "name": "stdout",
     "output_type": "stream",
     "text": [
      "ERROR!!! Pos class completely filtered out\n",
      "4.2 [0.194, 0.264]\n",
      "('tomek', 'knn')\n"
     ]
    },
    {
     "name": "stderr",
     "output_type": "stream",
     "text": [
      "/home/shihab/anaconda3/envs/ana/lib/python3.7/site-packages/sklearn/metrics/_classification.py:896: RuntimeWarning: invalid value encountered in double_scalars\n",
      "  mcc = cov_ytyp / np.sqrt(cov_ytyt * cov_ypyp)\n",
      "/home/shihab/anaconda3/envs/ana/lib/python3.7/site-packages/sklearn/metrics/_classification.py:896: RuntimeWarning: invalid value encountered in double_scalars\n",
      "  mcc = cov_ytyp / np.sqrt(cov_ytyt * cov_ypyp)\n"
     ]
    },
    {
     "name": "stdout",
     "output_type": "stream",
     "text": [
      "ERROR!!! Pos class completely filtered out\n",
      "ERROR!!! Pos class completely filtered out\n",
      "4.38 [0.192, 0.511]\n",
      "('tomek', 'rf')\n"
     ]
    },
    {
     "name": "stderr",
     "output_type": "stream",
     "text": [
      "/home/shihab/anaconda3/envs/ana/lib/python3.7/site-packages/sklearn/metrics/_classification.py:896: RuntimeWarning: invalid value encountered in double_scalars\n",
      "  mcc = cov_ytyp / np.sqrt(cov_ytyt * cov_ypyp)\n"
     ]
    },
    {
     "name": "stdout",
     "output_type": "stream",
     "text": [
      "ERROR!!! Pos class completely filtered out\n",
      "ERROR!!! Pos class completely filtered out\n",
      "5.0 [0.184, 0.432]\n",
      "('None', 'dt')\n",
      "ERROR!!! Pos class completely filtered out\n",
      "ERROR!!! Pos class completely filtered out\n"
     ]
    },
    {
     "name": "stderr",
     "output_type": "stream",
     "text": [
      "/home/shihab/anaconda3/envs/ana/lib/python3.7/site-packages/sklearn/metrics/_classification.py:896: RuntimeWarning: invalid value encountered in double_scalars\n",
      "  mcc = cov_ytyp / np.sqrt(cov_ytyt * cov_ypyp)\n"
     ]
    },
    {
     "name": "stdout",
     "output_type": "stream",
     "text": [
      "ERROR!!! Pos class completely filtered out\n",
      "ERROR!!! Pos class completely filtered out\n",
      "0.62 [0.196, 0.469]\n",
      "('None', 'lr')\n",
      "ERROR!!! Pos class completely filtered out\n",
      "ERROR!!! Pos class completely filtered out\n"
     ]
    },
    {
     "name": "stderr",
     "output_type": "stream",
     "text": [
      "/home/shihab/anaconda3/envs/ana/lib/python3.7/site-packages/sklearn/metrics/_classification.py:896: RuntimeWarning: invalid value encountered in double_scalars\n",
      "  mcc = cov_ytyp / np.sqrt(cov_ytyt * cov_ypyp)\n",
      "/home/shihab/anaconda3/envs/ana/lib/python3.7/site-packages/sklearn/metrics/_classification.py:896: RuntimeWarning: invalid value encountered in double_scalars\n",
      "  mcc = cov_ytyp / np.sqrt(cov_ytyt * cov_ypyp)\n"
     ]
    },
    {
     "name": "stdout",
     "output_type": "stream",
     "text": [
      "1.21 [0.177, 0.436]\n",
      "('None', 'nb')\n",
      "ERROR!!! Pos class completely filtered out\n",
      "ERROR!!! Pos class completely filtered out\n",
      "ERROR!!! Pos class completely filtered out\n",
      "ERROR!!! Pos class completely filtered out\n",
      "ERROR!!! Pos class completely filtered out\n",
      "ERROR!!! Pos class completely filtered out\n"
     ]
    },
    {
     "name": "stderr",
     "output_type": "stream",
     "text": [
      "/home/shihab/anaconda3/envs/ana/lib/python3.7/site-packages/sklearn/metrics/_classification.py:896: RuntimeWarning: invalid value encountered in double_scalars\n",
      "  mcc = cov_ytyp / np.sqrt(cov_ytyt * cov_ypyp)\n"
     ]
    },
    {
     "name": "stdout",
     "output_type": "stream",
     "text": [
      "0.59 [0.22, 0.349]\n",
      "('None', 'svm')\n",
      "ERROR!!! Pos class completely filtered out\n"
     ]
    },
    {
     "name": "stderr",
     "output_type": "stream",
     "text": [
      "/home/shihab/anaconda3/envs/ana/lib/python3.7/site-packages/sklearn/metrics/_classification.py:896: RuntimeWarning: invalid value encountered in double_scalars\n",
      "  mcc = cov_ytyp / np.sqrt(cov_ytyt * cov_ypyp)\n",
      "/home/shihab/anaconda3/envs/ana/lib/python3.7/site-packages/sklearn/metrics/_classification.py:896: RuntimeWarning: invalid value encountered in double_scalars\n",
      "  mcc = cov_ytyp / np.sqrt(cov_ytyt * cov_ypyp)\n"
     ]
    },
    {
     "name": "stdout",
     "output_type": "stream",
     "text": [
      "ERROR!!! Pos class completely filtered out\n",
      "ERROR!!! Pos class completely filtered out\n",
      "ERROR!!! Pos class completely filtered out\n"
     ]
    },
    {
     "name": "stderr",
     "output_type": "stream",
     "text": [
      "/home/shihab/anaconda3/envs/ana/lib/python3.7/site-packages/sklearn/metrics/_classification.py:896: RuntimeWarning: invalid value encountered in double_scalars\n",
      "  mcc = cov_ytyp / np.sqrt(cov_ytyt * cov_ypyp)\n",
      "/home/shihab/anaconda3/envs/ana/lib/python3.7/site-packages/sklearn/metrics/_classification.py:896: RuntimeWarning: invalid value encountered in double_scalars\n",
      "  mcc = cov_ytyp / np.sqrt(cov_ytyt * cov_ypyp)\n"
     ]
    },
    {
     "name": "stdout",
     "output_type": "stream",
     "text": [
      "1.12 [0.167, 0.224]\n",
      "('None', 'knn')\n",
      "ERROR!!! Pos class completely filtered out\n",
      "ERROR!!! Pos class completely filtered out\n",
      "ERROR!!! Pos class completely filtered out\n",
      "ERROR!!! Pos class completely filtered out\n",
      "ERROR!!! Pos class completely filtered out\n"
     ]
    },
    {
     "name": "stderr",
     "output_type": "stream",
     "text": [
      "/home/shihab/anaconda3/envs/ana/lib/python3.7/site-packages/sklearn/metrics/_classification.py:896: RuntimeWarning: invalid value encountered in double_scalars\n",
      "  mcc = cov_ytyp / np.sqrt(cov_ytyt * cov_ypyp)\n"
     ]
    },
    {
     "name": "stdout",
     "output_type": "stream",
     "text": [
      "ERROR!!! Pos class completely filtered out\n",
      "1.31 [0.16, 0.525]\n",
      "('None', 'rf')\n"
     ]
    },
    {
     "name": "stderr",
     "output_type": "stream",
     "text": [
      "/home/shihab/anaconda3/envs/ana/lib/python3.7/site-packages/sklearn/metrics/_classification.py:896: RuntimeWarning: invalid value encountered in double_scalars\n",
      "  mcc = cov_ytyp / np.sqrt(cov_ytyt * cov_ypyp)\n"
     ]
    },
    {
     "name": "stdout",
     "output_type": "stream",
     "text": [
      "ERROR!!! Pos class completely filtered out\n"
     ]
    },
    {
     "name": "stderr",
     "output_type": "stream",
     "text": [
      "/home/shihab/anaconda3/envs/ana/lib/python3.7/site-packages/sklearn/metrics/_classification.py:896: RuntimeWarning: invalid value encountered in double_scalars\n",
      "  mcc = cov_ytyp / np.sqrt(cov_ytyt * cov_ypyp)\n"
     ]
    },
    {
     "name": "stdout",
     "output_type": "stream",
     "text": [
      "ERROR!!! Pos class completely filtered out\n"
     ]
    },
    {
     "name": "stderr",
     "output_type": "stream",
     "text": [
      "/home/shihab/anaconda3/envs/ana/lib/python3.7/site-packages/sklearn/metrics/_classification.py:896: RuntimeWarning: invalid value encountered in double_scalars\n",
      "  mcc = cov_ytyp / np.sqrt(cov_ytyt * cov_ypyp)\n",
      "/home/shihab/anaconda3/envs/ana/lib/python3.7/site-packages/sklearn/metrics/_classification.py:896: RuntimeWarning: invalid value encountered in double_scalars\n",
      "  mcc = cov_ytyp / np.sqrt(cov_ytyt * cov_ypyp)\n"
     ]
    },
    {
     "name": "stdout",
     "output_type": "stream",
     "text": [
      "ERROR!!! Pos class completely filtered out\n",
      "1.9 [0.16, 0.448]\n",
      "('ens', 'rboost_DT')\n",
      "1.42 [0.289, 0.447]\n",
      "('ens', 'rboost_NB')\n",
      "1.2 [0.313, 0.492]\n",
      "('ens', 'bbag_DT')\n",
      "19.45 [0.292, 0.418]\n",
      "('ens', 'bbag_NB')\n",
      "19.44 [0.318, 0.448]\n",
      "\n",
      "wicket-1.3.0-incubating-beta-1.csv noise:0.164, imb:4.806,288,1384, Shape:(1672, 65)\n",
      "('smote', 'dt')\n",
      "1.32 [0.291, 0.474]\n",
      "('smote', 'lr')\n",
      "2.33 [0.292, 0.351]\n",
      "('smote', 'nb')\n",
      "1.25 [0.305, 0.471]\n",
      "('smote', 'svm')\n",
      "5.64 [0.297, 0.247]\n",
      "('smote', 'knn')\n",
      "1.85 [0.296, 0.46]\n",
      "('smote', 'rf')\n",
      "3.59 [0.285, 0.386]\n",
      "('rus', 'dt')\n",
      "0.43 [0.283, 0.49]\n",
      "('rus', 'lr')\n",
      "0.82 [0.29, 0.349]\n",
      "('rus', 'nb')\n",
      "0.45 [0.3, 0.491]\n",
      "('rus', 'svm')\n",
      "0.7 [0.286, 0.258]\n",
      "('rus', 'knn')\n",
      "0.59 [0.299, 0.459]\n",
      "('rus', 'rf')\n",
      "1.72 [0.28, 0.435]\n",
      "('wilson', 'dt')\n",
      "2.41 [0.298, 0.459]\n",
      "('wilson', 'lr')\n",
      "2.97 [0.304, 0.346]\n",
      "('wilson', 'nb')\n",
      "2.42 [0.313, 0.476]\n",
      "('wilson', 'svm')\n",
      "3.24 [0.3, 0.242]\n",
      "('wilson', 'knn')\n",
      "2.83 [0.308, 0.433]\n",
      "('wilson', 'rf')\n",
      "3.91 [0.295, 0.407]\n",
      "('tomek', 'dt')\n",
      "2.52 [0.291, 0.368]\n",
      "('tomek', 'lr')\n",
      "3.25 [0.294, 0.358]\n",
      "('tomek', 'nb')\n",
      "2.39 [0.314, 0.405]\n",
      "('tomek', 'svm')\n",
      "3.17 [0.309, 0.305]\n",
      "('tomek', 'knn')\n",
      "3.04 [0.278, 0.348]\n",
      "('tomek', 'rf')\n",
      "3.84 [0.303, 0.333]\n",
      "('None', 'dt')\n",
      "0.59 [0.294, 0.371]\n",
      "('None', 'lr')\n",
      "1.28 [0.284, 0.348]\n",
      "('None', 'nb')\n",
      "0.59 [0.316, 0.395]\n",
      "('None', 'svm')\n",
      "1.31 [0.292, 0.324]\n",
      "('None', 'knn')\n",
      "1.15 [0.306, 0.353]\n",
      "('None', 'rf')\n",
      "2.04 [0.279, 0.324]\n",
      "('ens', 'rboost_DT')\n",
      "1.39 [0.274, 0.472]\n",
      "('ens', 'rboost_NB')\n",
      "1.25 [0.298, 0.501]\n",
      "('ens', 'bbag_DT')\n",
      "20.8 [0.28, 0.398]\n",
      "('ens', 'bbag_NB')\n",
      "20.49 [0.304, 0.45]\n",
      "\n",
      "jruby-1.1.csv noise:0.175, imb:3.540,161,570, Shape:(731, 65)\n",
      "('smote', 'dt')\n",
      "0.73 [0.44, 0.6]\n",
      "('smote', 'lr')\n",
      "1.27 [0.434, 0.624]\n",
      "('smote', 'nb')\n",
      "0.7 [0.406, 0.597]\n",
      "('smote', 'svm')\n",
      "1.94 [0.435, 0.443]\n",
      "('smote', 'knn')\n",
      "0.83 [0.408, 0.597]\n",
      "('smote', 'rf')\n",
      "2.36 [0.433, 0.606]\n",
      "('rus', 'dt')\n",
      "0.43 [0.398, 0.574]\n",
      "('rus', 'lr')\n",
      "0.7 [0.426, 0.647]\n",
      "('rus', 'nb')\n",
      "0.42 [0.384, 0.582]\n",
      "('rus', 'svm')\n",
      "0.52 [0.439, 0.487]\n",
      "('rus', 'knn')\n",
      "0.44 [0.404, 0.608]\n",
      "('rus', 'rf')\n",
      "1.61 [0.413, 0.605]\n",
      "('wilson', 'dt')\n",
      "0.82 [0.423, 0.593]\n",
      "('wilson', 'lr')\n",
      "1.16 [0.432, 0.661]\n",
      "('wilson', 'nb')\n",
      "0.81 [0.382, 0.58]\n",
      "('wilson', 'svm')\n",
      "1.03 [0.429, 0.461]\n",
      "('wilson', 'knn')\n",
      "0.9 [0.436, 0.619]\n",
      "('wilson', 'rf')\n",
      "2.1 [0.423, 0.633]\n",
      "('tomek', 'dt')\n",
      "0.89 [0.54, 0.63]\n",
      "('tomek', 'lr')\n",
      "1.4 [0.553, 0.665]\n",
      "('tomek', 'nb')\n",
      "0.91 [0.508, 0.637]\n",
      "('tomek', 'svm')\n",
      "1.24 [0.561, 0.625]\n",
      "('tomek', 'knn')\n",
      "1.04 [0.555, 0.652]\n",
      "('tomek', 'rf')\n",
      "2.26 [0.562, 0.683]\n",
      "('None', 'dt')\n",
      "0.47 [0.51, 0.602]\n",
      "('None', 'lr')\n",
      "0.93 [0.58, 0.673]\n",
      "('None', 'nb')\n",
      "0.49 [0.525, 0.637]\n",
      "('None', 'svm')\n",
      "0.76 [0.575, 0.626]\n",
      "('None', 'knn')\n",
      "0.58 [0.581, 0.661]\n",
      "('None', 'rf')\n",
      "1.76 [0.574, 0.679]\n",
      "('ens', 'rboost_DT')\n",
      "1.4 [0.417, 0.599]\n",
      "('ens', 'rboost_NB')\n",
      "1.45 [0.379, 0.572]\n",
      "('ens', 'bbag_DT')\n",
      "20.61 [0.429, 0.63]\n",
      "('ens', 'bbag_NB')\n",
      "20.56 [0.393, 0.63]\n",
      "\n",
      "jruby-1.4.0.csv noise:0.190, imb:3.890,200,778, Shape:(978, 65)\n",
      "('smote', 'dt')\n",
      "1.15 [0.366, 0.562]\n",
      "('smote', 'lr')\n",
      "2.18 [0.4, 0.571]\n",
      "('smote', 'nb')\n",
      "1.02 [0.437, 0.596]\n",
      "('smote', 'svm')\n",
      "3.07 [0.397, 0.5]\n",
      "('smote', 'knn')\n",
      "1.23 [0.389, 0.573]\n",
      "('smote', 'rf')\n",
      "2.9 [0.375, 0.583]\n",
      "('rus', 'dt')\n",
      "0.46 [0.363, 0.571]\n",
      "('rus', 'lr')\n",
      "0.77 [0.411, 0.573]\n",
      "('rus', 'nb')\n",
      "0.47 [0.405, 0.599]\n",
      "('rus', 'svm')\n",
      "0.56 [0.4, 0.536]\n",
      "('rus', 'knn')\n",
      "0.53 [0.411, 0.595]\n",
      "('rus', 'rf')\n",
      "1.61 [0.379, 0.589]\n",
      "('wilson', 'dt')\n",
      "1.09 [0.401, 0.583]\n",
      "('wilson', 'lr')\n",
      "1.55 [0.419, 0.582]\n",
      "('wilson', 'nb')\n",
      "1.15 [0.404, 0.6]\n",
      "('wilson', 'svm')\n",
      "1.37 [0.429, 0.54]\n",
      "('wilson', 'knn')\n",
      "1.22 [0.443, 0.59]\n",
      "('wilson', 'rf')\n",
      "2.4 [0.412, 0.6]\n",
      "('tomek', 'dt')\n",
      "1.14 [0.412, 0.576]\n",
      "('tomek', 'lr')\n",
      "1.64 [0.416, 0.599]\n",
      "('tomek', 'nb')\n",
      "1.12 [0.455, 0.599]\n",
      "('tomek', 'svm')\n",
      "1.49 [0.428, 0.508]\n",
      "('tomek', 'knn')\n",
      "1.29 [0.419, 0.601]\n",
      "('tomek', 'rf')\n",
      "2.46 [0.398, 0.575]\n",
      "('None', 'dt')\n",
      "0.54 [0.397, 0.572]\n",
      "('None', 'lr')\n",
      "0.98 [0.421, 0.606]\n",
      "('None', 'nb')\n",
      "0.51 [0.448, 0.602]\n",
      "('None', 'svm')\n",
      "0.83 [0.422, 0.504]\n",
      "('None', 'knn')\n",
      "0.68 [0.432, 0.601]\n",
      "('None', 'rf')\n",
      "1.8 [0.398, 0.583]\n",
      "('ens', 'rboost_DT')\n",
      "1.77 [0.384, 0.577]\n",
      "('ens', 'rboost_NB')\n",
      "1.62 [0.411, 0.6]\n",
      "('ens', 'bbag_DT')\n",
      "21.69 [0.387, 0.605]\n",
      "('ens', 'bbag_NB')\n",
      "21.74 [0.415, 0.599]\n",
      "\n",
      "lucene-2.3.0.csv noise:0.204, imb:4.031,160,645, Shape:(805, 65)\n",
      "('smote', 'dt')\n",
      "0.75 [0.43, 0.627]\n",
      "('smote', 'lr')\n",
      "1.69 [0.491, 0.652]\n",
      "('smote', 'nb')\n",
      "0.76 [0.494, 0.643]\n",
      "('smote', 'svm')\n",
      "3.0 [0.54, 0.694]\n",
      "('smote', 'knn')\n",
      "0.92 [0.535, 0.699]\n",
      "('smote', 'rf')\n",
      "2.67 [0.466, 0.698]\n",
      "('rus', 'dt')\n",
      "0.45 [0.387, 0.614]\n",
      "('rus', 'lr')\n",
      "0.79 [0.478, 0.638]\n",
      "('rus', 'nb')\n",
      "0.43 [0.456, 0.629]\n",
      "('rus', 'svm')\n",
      "0.57 [0.479, 0.643]\n",
      "('rus', 'knn')\n",
      "0.49 [0.49, 0.678]\n",
      "('rus', 'rf')\n",
      "1.65 [0.463, 0.66]\n",
      "('wilson', 'dt')\n",
      "0.94 [0.448, 0.638]\n",
      "('wilson', 'lr')\n",
      "1.37 [0.581, 0.723]\n",
      "('wilson', 'nb')\n",
      "0.95 [0.487, 0.657]\n",
      "('wilson', 'svm')\n",
      "1.39 [0.59, 0.726]\n",
      "('wilson', 'knn')\n",
      "1.03 [0.594, 0.738]\n",
      "('wilson', 'rf')\n",
      "2.25 [0.545, 0.711]\n",
      "('tomek', 'dt')\n",
      "ERROR!!! Pos class completely filtered out\n",
      "1.01 [0.408, 0.618]\n",
      "('tomek', 'lr')\n",
      "1.67 [0.449, 0.681]\n",
      "('tomek', 'nb')\n",
      "1.0 [0.467, 0.635]\n",
      "('tomek', 'svm')\n",
      "ERROR!!! Pos class completely filtered out\n",
      "1.57 [0.501, 0.708]\n",
      "('tomek', 'knn')\n",
      "1.13 [0.435, 0.691]\n",
      "('tomek', 'rf')\n",
      "2.36 [0.462, 0.711]\n",
      "('None', 'dt')\n",
      "0.48 [0.336, 0.588]\n",
      "('None', 'lr')\n",
      "ERROR!!! Pos class completely filtered out\n"
     ]
    },
    {
     "name": "stderr",
     "output_type": "stream",
     "text": [
      "/home/shihab/anaconda3/envs/ana/lib/python3.7/site-packages/sklearn/metrics/_classification.py:896: RuntimeWarning: invalid value encountered in double_scalars\n",
      "  mcc = cov_ytyp / np.sqrt(cov_ytyt * cov_ypyp)\n"
     ]
    },
    {
     "name": "stdout",
     "output_type": "stream",
     "text": [
      "1.05 [0.344, 0.634]\n",
      "('None', 'nb')\n",
      "ERROR!!! Pos class completely filtered out\n",
      "ERROR!!! Pos class completely filtered out\n",
      "0.48 [0.41, 0.589]\n",
      "('None', 'svm')\n",
      "ERROR!!! Pos class completely filtered out\n",
      "0.86 [0.319, 0.604]\n",
      "('None', 'knn')\n"
     ]
    },
    {
     "name": "stderr",
     "output_type": "stream",
     "text": [
      "/home/shihab/anaconda3/envs/ana/lib/python3.7/site-packages/sklearn/metrics/_classification.py:896: RuntimeWarning: invalid value encountered in double_scalars\n",
      "  mcc = cov_ytyp / np.sqrt(cov_ytyt * cov_ypyp)\n"
     ]
    },
    {
     "name": "stdout",
     "output_type": "stream",
     "text": [
      "0.62 [0.307, 0.656]\n",
      "('None', 'rf')\n",
      "ERROR!!! Pos class completely filtered out\n",
      "ERROR!!! Pos class completely filtered out\n",
      "1.73 [0.371, 0.647]\n",
      "('ens', 'rboost_DT')\n",
      "1.62 [0.392, 0.622]\n",
      "('ens', 'rboost_NB')\n",
      "1.3 [0.43, 0.638]\n",
      "('ens', 'bbag_DT')\n",
      "20.66 [0.473, 0.669]\n",
      "('ens', 'bbag_NB')\n",
      "19.91 [0.437, 0.637]\n",
      "\n",
      "hbase-0.95.2.csv noise:0.260, imb:15.088,114,1720, Shape:(1834, 65)\n",
      "('smote', 'dt')\n",
      "1.97 [0.223, 0.504]\n",
      "('smote', 'lr')\n",
      "4.43 [0.253, 0.472]\n",
      "('smote', 'nb')\n",
      "1.76 [0.317, 0.528]\n",
      "('smote', 'svm')\n",
      "16.33 [0.275, 0.477]\n",
      "('smote', 'knn')\n",
      "2.64 [0.247, 0.487]\n",
      "('smote', 'rf')\n",
      "5.84 [0.226, 0.484]\n",
      "('rus', 'dt')\n",
      "0.45 [0.259, 0.54]\n",
      "('rus', 'lr')\n",
      "0.64 [0.289, 0.461]\n",
      "('rus', 'nb')\n",
      "0.49 [0.28, 0.538]\n",
      "('rus', 'svm')\n",
      "0.5 [0.287, 0.486]\n",
      "('rus', 'knn')\n",
      "0.54 [0.299, 0.533]\n",
      "('rus', 'rf')\n",
      "1.59 [0.268, 0.504]\n",
      "('wilson', 'dt')\n",
      "2.93 [0.213, 0.618]\n",
      "('wilson', 'lr')\n",
      "3.84 [0.21, 0.569]\n",
      "('wilson', 'nb')\n",
      "ERROR!!! Pos class completely filtered out\n",
      "2.93 [0.239, 0.521]\n",
      "('wilson', 'svm')\n",
      "3.56 [0.226, 0.414]\n",
      "('wilson', 'knn')\n",
      "3.62 [0.205, 0.557]\n",
      "('wilson', 'rf')\n",
      "4.49 [0.208, 0.523]\n",
      "('tomek', 'dt')\n",
      "ERROR!!! Pos class completely filtered out\n",
      "ERROR!!! Pos class completely filtered out\n"
     ]
    },
    {
     "name": "stderr",
     "output_type": "stream",
     "text": [
      "/home/shihab/anaconda3/envs/ana/lib/python3.7/site-packages/sklearn/metrics/_classification.py:896: RuntimeWarning: invalid value encountered in double_scalars\n",
      "  mcc = cov_ytyp / np.sqrt(cov_ytyt * cov_ypyp)\n"
     ]
    },
    {
     "name": "stdout",
     "output_type": "stream",
     "text": [
      "2.61 [0.179, 0.64]\n",
      "('tomek', 'lr')\n",
      "ERROR!!! Pos class completely filtered out\n",
      "ERROR!!! Pos class completely filtered out\n",
      "ERROR!!! Pos class completely filtered out\n",
      "3.57 [0.155, 0.569]\n",
      "('tomek', 'nb')\n",
      "ERROR!!! Pos class completely filtered out\n",
      "ERROR!!! Pos class completely filtered out\n",
      "ERROR!!! Pos class completely filtered out\n",
      "2.6 [0.218, 0.522]\n",
      "('tomek', 'svm')\n",
      "ERROR!!! Pos class completely filtered out\n",
      "ERROR!!! Pos class completely filtered out\n",
      "ERROR!!! Pos class completely filtered out\n",
      "3.24 [0.174, 0.317]\n",
      "('tomek', 'knn')\n",
      "ERROR!!! Pos class completely filtered out\n"
     ]
    },
    {
     "name": "stderr",
     "output_type": "stream",
     "text": [
      "/home/shihab/anaconda3/envs/ana/lib/python3.7/site-packages/sklearn/metrics/_classification.py:896: RuntimeWarning: invalid value encountered in double_scalars\n",
      "  mcc = cov_ytyp / np.sqrt(cov_ytyt * cov_ypyp)\n",
      "/home/shihab/anaconda3/envs/ana/lib/python3.7/site-packages/sklearn/metrics/_classification.py:896: RuntimeWarning: invalid value encountered in double_scalars\n",
      "  mcc = cov_ytyp / np.sqrt(cov_ytyt * cov_ypyp)\n",
      "/home/shihab/anaconda3/envs/ana/lib/python3.7/site-packages/sklearn/metrics/_classification.py:896: RuntimeWarning: invalid value encountered in double_scalars\n",
      "  mcc = cov_ytyp / np.sqrt(cov_ytyt * cov_ypyp)\n"
     ]
    },
    {
     "name": "stdout",
     "output_type": "stream",
     "text": [
      "ERROR!!! Pos class completely filtered out\n",
      "ERROR!!! Pos class completely filtered out\n"
     ]
    },
    {
     "name": "stderr",
     "output_type": "stream",
     "text": [
      "/home/shihab/anaconda3/envs/ana/lib/python3.7/site-packages/sklearn/metrics/_classification.py:896: RuntimeWarning: invalid value encountered in double_scalars\n",
      "  mcc = cov_ytyp / np.sqrt(cov_ytyt * cov_ypyp)\n"
     ]
    },
    {
     "name": "stdout",
     "output_type": "stream",
     "text": [
      "ERROR!!! Pos class completely filtered out\n"
     ]
    },
    {
     "name": "stderr",
     "output_type": "stream",
     "text": [
      "/home/shihab/anaconda3/envs/ana/lib/python3.7/site-packages/sklearn/metrics/_classification.py:896: RuntimeWarning: invalid value encountered in double_scalars\n",
      "  mcc = cov_ytyp / np.sqrt(cov_ytyt * cov_ypyp)\n"
     ]
    },
    {
     "name": "stdout",
     "output_type": "stream",
     "text": [
      "3.12 [0.114, 0.59]\n",
      "('tomek', 'rf')\n",
      "ERROR!!! Pos class completely filtered out\n",
      "ERROR!!! Pos class completely filtered out\n"
     ]
    },
    {
     "name": "stderr",
     "output_type": "stream",
     "text": [
      "/home/shihab/anaconda3/envs/ana/lib/python3.7/site-packages/sklearn/metrics/_classification.py:896: RuntimeWarning: invalid value encountered in double_scalars\n",
      "  mcc = cov_ytyp / np.sqrt(cov_ytyt * cov_ypyp)\n",
      "/home/shihab/anaconda3/envs/ana/lib/python3.7/site-packages/sklearn/metrics/_classification.py:896: RuntimeWarning: invalid value encountered in double_scalars\n",
      "  mcc = cov_ytyp / np.sqrt(cov_ytyt * cov_ypyp)\n"
     ]
    },
    {
     "name": "stdout",
     "output_type": "stream",
     "text": [
      "ERROR!!! Pos class completely filtered out\n",
      "ERROR!!! Pos class completely filtered out\n",
      "ERROR!!! Pos class completely filtered out\n",
      "3.84 [0.156, 0.537]\n",
      "('None', 'dt')\n",
      "ERROR!!! Pos class completely filtered out\n",
      "ERROR!!! Pos class completely filtered out\n",
      "ERROR!!! Pos class completely filtered out\n",
      "ERROR!!! Pos class completely filtered out\n",
      "ERROR!!! Pos class completely filtered out\n",
      "ERROR!!! Pos class completely filtered out\n",
      "ERROR!!! Pos class completely filtered out\n"
     ]
    },
    {
     "name": "stderr",
     "output_type": "stream",
     "text": [
      "/home/shihab/anaconda3/envs/ana/lib/python3.7/site-packages/sklearn/metrics/_classification.py:896: RuntimeWarning: invalid value encountered in double_scalars\n",
      "  mcc = cov_ytyp / np.sqrt(cov_ytyt * cov_ypyp)\n"
     ]
    },
    {
     "name": "stdout",
     "output_type": "stream",
     "text": [
      "ERROR!!! Pos class completely filtered out\n",
      "0.58 [0.168, 0.626]\n",
      "('None', 'lr')\n",
      "ERROR!!! Pos class completely filtered out\n",
      "ERROR!!! Pos class completely filtered out\n"
     ]
    },
    {
     "name": "stderr",
     "output_type": "stream",
     "text": [
      "/home/shihab/anaconda3/envs/ana/lib/python3.7/site-packages/sklearn/metrics/_classification.py:896: RuntimeWarning: invalid value encountered in double_scalars\n",
      "  mcc = cov_ytyp / np.sqrt(cov_ytyt * cov_ypyp)\n",
      "/home/shihab/anaconda3/envs/ana/lib/python3.7/site-packages/sklearn/metrics/_classification.py:896: RuntimeWarning: invalid value encountered in double_scalars\n",
      "  mcc = cov_ytyp / np.sqrt(cov_ytyt * cov_ypyp)\n"
     ]
    },
    {
     "name": "stdout",
     "output_type": "stream",
     "text": [
      "ERROR!!! Pos class completely filtered out\n",
      "ERROR!!! Pos class completely filtered out\n"
     ]
    },
    {
     "name": "stderr",
     "output_type": "stream",
     "text": [
      "/home/shihab/anaconda3/envs/ana/lib/python3.7/site-packages/sklearn/metrics/_classification.py:896: RuntimeWarning: invalid value encountered in double_scalars\n",
      "  mcc = cov_ytyp / np.sqrt(cov_ytyt * cov_ypyp)\n",
      "/home/shihab/anaconda3/envs/ana/lib/python3.7/site-packages/sklearn/metrics/_classification.py:896: RuntimeWarning: invalid value encountered in double_scalars\n",
      "  mcc = cov_ytyp / np.sqrt(cov_ytyt * cov_ypyp)\n",
      "/home/shihab/anaconda3/envs/ana/lib/python3.7/site-packages/sklearn/metrics/_classification.py:896: RuntimeWarning: invalid value encountered in double_scalars\n",
      "  mcc = cov_ytyp / np.sqrt(cov_ytyt * cov_ypyp)\n"
     ]
    },
    {
     "name": "stdout",
     "output_type": "stream",
     "text": [
      "ERROR!!! Pos class completely filtered out\n",
      "1.25 [0.13, 0.567]\n",
      "('None', 'nb')\n"
     ]
    },
    {
     "name": "stderr",
     "output_type": "stream",
     "text": [
      "/home/shihab/anaconda3/envs/ana/lib/python3.7/site-packages/sklearn/metrics/_classification.py:896: RuntimeWarning: invalid value encountered in double_scalars\n",
      "  mcc = cov_ytyp / np.sqrt(cov_ytyt * cov_ypyp)\n"
     ]
    },
    {
     "name": "stdout",
     "output_type": "stream",
     "text": [
      "ERROR!!! Pos class completely filtered out\n",
      "ERROR!!! Pos class completely filtered out\n",
      "ERROR!!! Pos class completely filtered out\n",
      "ERROR!!! Pos class completely filtered out\n",
      "0.57 [0.214, 0.517]\n",
      "('None', 'svm')\n",
      "ERROR!!! Pos class completely filtered out\n",
      "ERROR!!! Pos class completely filtered out\n"
     ]
    },
    {
     "name": "stderr",
     "output_type": "stream",
     "text": [
      "/home/shihab/anaconda3/envs/ana/lib/python3.7/site-packages/sklearn/metrics/_classification.py:896: RuntimeWarning: invalid value encountered in double_scalars\n",
      "  mcc = cov_ytyp / np.sqrt(cov_ytyt * cov_ypyp)\n"
     ]
    },
    {
     "name": "stdout",
     "output_type": "stream",
     "text": [
      "ERROR!!! Pos class completely filtered out\n"
     ]
    },
    {
     "name": "stderr",
     "output_type": "stream",
     "text": [
      "/home/shihab/anaconda3/envs/ana/lib/python3.7/site-packages/sklearn/metrics/_classification.py:896: RuntimeWarning: invalid value encountered in double_scalars\n",
      "  mcc = cov_ytyp / np.sqrt(cov_ytyt * cov_ypyp)\n",
      "/home/shihab/anaconda3/envs/ana/lib/python3.7/site-packages/sklearn/metrics/_classification.py:896: RuntimeWarning: invalid value encountered in double_scalars\n",
      "  mcc = cov_ytyp / np.sqrt(cov_ytyt * cov_ypyp)\n"
     ]
    },
    {
     "name": "stdout",
     "output_type": "stream",
     "text": [
      "1.15 [0.145, 0.298]\n",
      "('None', 'knn')\n",
      "ERROR!!! Pos class completely filtered out\n",
      "ERROR!!! Pos class completely filtered out\n"
     ]
    },
    {
     "name": "stderr",
     "output_type": "stream",
     "text": [
      "/home/shihab/anaconda3/envs/ana/lib/python3.7/site-packages/sklearn/metrics/_classification.py:896: RuntimeWarning: invalid value encountered in double_scalars\n",
      "  mcc = cov_ytyp / np.sqrt(cov_ytyt * cov_ypyp)\n"
     ]
    },
    {
     "name": "stdout",
     "output_type": "stream",
     "text": [
      "ERROR!!! Pos class completely filtered out\n",
      "ERROR!!! Pos class completely filtered out\n"
     ]
    },
    {
     "name": "stderr",
     "output_type": "stream",
     "text": [
      "/home/shihab/anaconda3/envs/ana/lib/python3.7/site-packages/sklearn/metrics/_classification.py:896: RuntimeWarning: invalid value encountered in double_scalars\n",
      "  mcc = cov_ytyp / np.sqrt(cov_ytyt * cov_ypyp)\n",
      "/home/shihab/anaconda3/envs/ana/lib/python3.7/site-packages/sklearn/metrics/_classification.py:896: RuntimeWarning: invalid value encountered in double_scalars\n",
      "  mcc = cov_ytyp / np.sqrt(cov_ytyt * cov_ypyp)\n",
      "/home/shihab/anaconda3/envs/ana/lib/python3.7/site-packages/sklearn/metrics/_classification.py:896: RuntimeWarning: invalid value encountered in double_scalars\n",
      "  mcc = cov_ytyp / np.sqrt(cov_ytyt * cov_ypyp)\n"
     ]
    },
    {
     "name": "stdout",
     "output_type": "stream",
     "text": [
      "ERROR!!! Pos class completely filtered out\n",
      "1.11 [0.104, 0.614]\n",
      "('None', 'rf')\n",
      "ERROR!!! Pos class completely filtered out\n"
     ]
    },
    {
     "name": "stderr",
     "output_type": "stream",
     "text": [
      "/home/shihab/anaconda3/envs/ana/lib/python3.7/site-packages/sklearn/metrics/_classification.py:896: RuntimeWarning: invalid value encountered in double_scalars\n",
      "  mcc = cov_ytyp / np.sqrt(cov_ytyt * cov_ypyp)\n"
     ]
    },
    {
     "name": "stdout",
     "output_type": "stream",
     "text": [
      "ERROR!!! Pos class completely filtered out\n",
      "ERROR!!! Pos class completely filtered out\n"
     ]
    },
    {
     "name": "stderr",
     "output_type": "stream",
     "text": [
      "/home/shihab/anaconda3/envs/ana/lib/python3.7/site-packages/sklearn/metrics/_classification.py:896: RuntimeWarning: invalid value encountered in double_scalars\n",
      "  mcc = cov_ytyp / np.sqrt(cov_ytyt * cov_ypyp)\n",
      "/home/shihab/anaconda3/envs/ana/lib/python3.7/site-packages/sklearn/metrics/_classification.py:896: RuntimeWarning: invalid value encountered in double_scalars\n",
      "  mcc = cov_ytyp / np.sqrt(cov_ytyt * cov_ypyp)\n"
     ]
    },
    {
     "name": "stdout",
     "output_type": "stream",
     "text": [
      "ERROR!!! Pos class completely filtered out\n",
      "ERROR!!! Pos class completely filtered out\n",
      "1.86 [0.143, 0.516]\n",
      "('ens', 'rboost_DT')\n",
      "ERROR!!! BaseClassifier in AdaBoostClassifier ensemble is worse than random, ensemble can not be fit.\n",
      "ERROR!!! BaseClassifier in AdaBoostClassifier ensemble is worse than random, ensemble can not be fit.\n",
      "1.5 [0.233, 0.503]\n",
      "('ens', 'rboost_NB')\n",
      "1.49 [0.287, 0.531]\n",
      "('ens', 'bbag_DT')\n",
      "ERROR!!! Pos class completely filtered out\n",
      "22.89 [0.304, 0.511]\n",
      "('ens', 'bbag_NB')\n",
      "ERROR!!! Pos class completely filtered out\n",
      "ERROR!!! Pos class completely filtered out\n",
      "ERROR!!! Pos class completely filtered out\n",
      "22.25 [0.315, 0.522]\n",
      "\n",
      "lucene-3.0.0.csv noise:0.185, imb:6.037,190,1147, Shape:(1337, 65)\n",
      "('smote', 'dt')\n",
      "1.42 [0.25, 0.452]\n",
      "('smote', 'lr')\n",
      "3.3 [0.306, 0.358]\n",
      "('smote', 'nb')\n",
      "1.35 [0.304, 0.342]\n",
      "('smote', 'svm')\n",
      "9.78 [0.3, 0.34]\n",
      "('smote', 'knn')\n",
      "1.83 [0.261, 0.398]\n",
      "('smote', 'rf')\n",
      "4.41 [0.248, 0.293]\n",
      "('rus', 'dt')\n",
      "0.46 [0.257, 0.47]\n",
      "('rus', 'lr')\n",
      "0.9 [0.306, 0.335]\n",
      "('rus', 'nb')\n",
      "0.49 [0.273, 0.406]\n",
      "('rus', 'svm')\n",
      "0.76 [0.304, 0.32]\n",
      "('rus', 'knn')\n",
      "0.59 [0.268, 0.418]\n",
      "('rus', 'rf')\n",
      "1.81 [0.291, 0.337]\n",
      "('wilson', 'dt')\n",
      "1.99 [0.25, 0.399]\n",
      "('wilson', 'lr')\n",
      "2.85 [0.225, 0.298]\n",
      "('wilson', 'nb')\n",
      "2.02 [0.296, 0.36]\n",
      "('wilson', 'svm')\n",
      "3.05 [0.228, 0.289]\n",
      "('wilson', 'knn')\n",
      "2.25 [0.221, 0.299]\n",
      "('wilson', 'rf')\n",
      "3.48 [0.242, 0.286]\n",
      "('tomek', 'dt')\n",
      "ERROR!!! Pos class completely filtered out\n",
      "ERROR!!! Pos class completely filtered out\n"
     ]
    },
    {
     "name": "stderr",
     "output_type": "stream",
     "text": [
      "/home/shihab/anaconda3/envs/ana/lib/python3.7/site-packages/sklearn/metrics/_classification.py:896: RuntimeWarning: invalid value encountered in double_scalars\n",
      "  mcc = cov_ytyp / np.sqrt(cov_ytyt * cov_ypyp)\n"
     ]
    },
    {
     "name": "stdout",
     "output_type": "stream",
     "text": [
      "ERROR!!! Pos class completely filtered out\n",
      "ERROR!!! Pos class completely filtered out\n",
      "ERROR!!! Pos class completely filtered out\n",
      "2.02 [0.199, 0.347]\n",
      "('tomek', 'lr')\n",
      "ERROR!!! Pos class completely filtered out\n",
      "ERROR!!! Pos class completely filtered out\n",
      "2.87 [0.175, 0.279]\n",
      "('tomek', 'nb')\n",
      "ERROR!!! Pos class completely filtered out\n",
      "ERROR!!! Pos class completely filtered out\n"
     ]
    },
    {
     "name": "stderr",
     "output_type": "stream",
     "text": [
      "/home/shihab/anaconda3/envs/ana/lib/python3.7/site-packages/sklearn/metrics/_classification.py:896: RuntimeWarning: invalid value encountered in double_scalars\n",
      "  mcc = cov_ytyp / np.sqrt(cov_ytyt * cov_ypyp)\n",
      "/home/shihab/anaconda3/envs/ana/lib/python3.7/site-packages/sklearn/metrics/_classification.py:896: RuntimeWarning: invalid value encountered in double_scalars\n",
      "  mcc = cov_ytyp / np.sqrt(cov_ytyt * cov_ypyp)\n"
     ]
    },
    {
     "name": "stdout",
     "output_type": "stream",
     "text": [
      "ERROR!!! Pos class completely filtered out\n",
      "2.01 [0.238, 0.356]\n",
      "('tomek', 'svm')\n",
      "ERROR!!! Pos class completely filtered out\n",
      "ERROR!!! Pos class completely filtered out\n",
      "ERROR!!! Pos class completely filtered out\n",
      "ERROR!!! Pos class completely filtered out\n",
      "3.21 [0.182, 0.241]\n",
      "('tomek', 'knn')\n",
      "ERROR!!! Pos class completely filtered out\n"
     ]
    },
    {
     "name": "stderr",
     "output_type": "stream",
     "text": [
      "/home/shihab/anaconda3/envs/ana/lib/python3.7/site-packages/sklearn/metrics/_classification.py:896: RuntimeWarning: invalid value encountered in double_scalars\n",
      "  mcc = cov_ytyp / np.sqrt(cov_ytyt * cov_ypyp)\n",
      "/home/shihab/anaconda3/envs/ana/lib/python3.7/site-packages/sklearn/metrics/_classification.py:896: RuntimeWarning: invalid value encountered in double_scalars\n",
      "  mcc = cov_ytyp / np.sqrt(cov_ytyt * cov_ypyp)\n"
     ]
    },
    {
     "name": "stdout",
     "output_type": "stream",
     "text": [
      "2.31 [0.106, 0.243]\n",
      "('tomek', 'rf')\n",
      "ERROR!!! Pos class completely filtered out\n",
      "ERROR!!! Pos class completely filtered out\n",
      "ERROR!!! Pos class completely filtered out\n",
      "ERROR!!! Pos class completely filtered out\n",
      "3.37 [0.151, 0.262]\n",
      "('None', 'dt')\n",
      "ERROR!!! Pos class completely filtered out\n",
      "ERROR!!! Pos class completely filtered out\n",
      "ERROR!!! Pos class completely filtered out\n",
      "ERROR!!! Pos class completely filtered out\n",
      "ERROR!!! Pos class completely filtered out\n",
      "ERROR!!! Pos class completely filtered out\n",
      "0.57 [0.202, 0.347]\n",
      "('None', 'lr')\n",
      "ERROR!!! Pos class completely filtered out\n",
      "ERROR!!! Pos class completely filtered out\n"
     ]
    },
    {
     "name": "stderr",
     "output_type": "stream",
     "text": [
      "/home/shihab/anaconda3/envs/ana/lib/python3.7/site-packages/sklearn/metrics/_classification.py:896: RuntimeWarning: invalid value encountered in double_scalars\n",
      "  mcc = cov_ytyp / np.sqrt(cov_ytyt * cov_ypyp)\n"
     ]
    },
    {
     "name": "stdout",
     "output_type": "stream",
     "text": [
      "ERROR!!! Pos class completely filtered out\n",
      "ERROR!!! Pos class completely filtered out\n",
      "1.3 [0.186, 0.3]\n",
      "('None', 'nb')\n",
      "ERROR!!! Pos class completely filtered out\n",
      "ERROR!!! Pos class completely filtered out\n",
      "ERROR!!! Pos class completely filtered out\n",
      "ERROR!!! Pos class completely filtered out\n",
      "ERROR!!! Pos class completely filtered out\n",
      "ERROR!!! Pos class completely filtered out\n",
      "ERROR!!! Pos class completely filtered out\n",
      "ERROR!!! Pos class completely filtered out\n",
      "ERROR!!! Pos class completely filtered out\n",
      "ERROR!!! Pos class completely filtered out\n",
      "ERROR!!! Pos class completely filtered out\n",
      "ERROR!!! Pos class completely filtered out\n",
      "0.57 [0.243, 0.315]\n",
      "('None', 'svm')\n"
     ]
    },
    {
     "name": "stderr",
     "output_type": "stream",
     "text": [
      "/home/shihab/anaconda3/envs/ana/lib/python3.7/site-packages/sklearn/metrics/_classification.py:896: RuntimeWarning: invalid value encountered in double_scalars\n",
      "  mcc = cov_ytyp / np.sqrt(cov_ytyt * cov_ypyp)\n"
     ]
    },
    {
     "name": "stdout",
     "output_type": "stream",
     "text": [
      "ERROR!!! Pos class completely filtered out\n",
      "ERROR!!! Pos class completely filtered out\n"
     ]
    },
    {
     "name": "stderr",
     "output_type": "stream",
     "text": [
      "/home/shihab/anaconda3/envs/ana/lib/python3.7/site-packages/sklearn/metrics/_classification.py:896: RuntimeWarning: invalid value encountered in double_scalars\n",
      "  mcc = cov_ytyp / np.sqrt(cov_ytyt * cov_ypyp)\n"
     ]
    },
    {
     "name": "stdout",
     "output_type": "stream",
     "text": [
      "ERROR!!! Pos class completely filtered out\n",
      "ERROR!!! Pos class completely filtered out\n",
      "ERROR!!! Pos class completely filtered out\n",
      "ERROR!!! Pos class completely filtered out\n",
      "1.55 [0.154, 0.229]\n",
      "('None', 'knn')\n"
     ]
    },
    {
     "name": "stderr",
     "output_type": "stream",
     "text": [
      "/home/shihab/anaconda3/envs/ana/lib/python3.7/site-packages/sklearn/metrics/_classification.py:896: RuntimeWarning: invalid value encountered in double_scalars\n",
      "  mcc = cov_ytyp / np.sqrt(cov_ytyt * cov_ypyp)\n",
      "/home/shihab/anaconda3/envs/ana/lib/python3.7/site-packages/sklearn/metrics/_classification.py:896: RuntimeWarning: invalid value encountered in double_scalars\n",
      "  mcc = cov_ytyp / np.sqrt(cov_ytyt * cov_ypyp)\n"
     ]
    },
    {
     "name": "stdout",
     "output_type": "stream",
     "text": [
      "ERROR!!! Pos class completely filtered out\n",
      "ERROR!!! Pos class completely filtered out\n",
      "ERROR!!! Pos class completely filtered out\n",
      "ERROR!!! Pos class completely filtered out\n",
      "ERROR!!! Pos class completely filtered out\n",
      "ERROR!!! Pos class completely filtered out\n",
      "ERROR!!! Pos class completely filtered out\n",
      "ERROR!!! Pos class completely filtered out\n",
      "ERROR!!! Pos class completely filtered out\n",
      "ERROR!!! Pos class completely filtered out\n",
      "0.78 [0.072, 0.275]\n",
      "('None', 'rf')\n",
      "ERROR!!! Pos class completely filtered out\n",
      "ERROR!!! Pos class completely filtered out\n",
      "ERROR!!! Pos class completely filtered out\n",
      "ERROR!!! Pos class completely filtered out\n",
      "ERROR!!! Pos class completely filtered out\n",
      "ERROR!!! Pos class completely filtered out\n",
      "ERROR!!! Pos class completely filtered out\n",
      "ERROR!!! Pos class completely filtered out\n",
      "1.71 [0.165, 0.26]\n",
      "('ens', 'rboost_DT')\n",
      "1.73 [0.283, 0.437]\n",
      "('ens', 'rboost_NB')\n",
      "1.47 [0.294, 0.476]\n",
      "('ens', 'bbag_DT')\n",
      "23.69 [0.325, 0.308]\n",
      "('ens', 'bbag_NB')\n",
      "24.16 [0.306, 0.313]\n",
      "\n",
      "camel-2.9.0.csv noise:0.044, imb:34.600,200,6920, Shape:(7120, 65)\n",
      "('smote', 'dt')\n",
      "5.92 [0.225, 0.352]\n",
      "('smote', 'lr')\n",
      "12.75 [0.243, 0.224]\n",
      "('smote', 'nb')\n",
      "5.28 [0.237, 0.375]\n",
      "('smote', 'svm')\n",
      "101.37 [0.243, 0.161]\n",
      "('smote', 'knn')\n",
      "14.25 [0.26, 0.341]\n",
      "('smote', 'rf')\n",
      "16.77 [0.226, 0.223]\n",
      "('rus', 'dt')\n",
      "0.48 [0.197, 0.383]\n",
      "('rus', 'lr')\n",
      "0.77 [0.222, 0.218]\n",
      "('rus', 'nb')\n",
      "0.49 [0.226, 0.389]\n",
      "('rus', 'svm')\n",
      "0.7 [0.226, 0.191]\n",
      "('rus', 'knn')\n",
      "0.92 [0.236, 0.373]\n",
      "('rus', 'rf')\n",
      "1.68 [0.212, 0.325]\n",
      "('wilson', 'dt')\n"
     ]
    },
    {
     "name": "stderr",
     "output_type": "stream",
     "text": [
      "/home/shihab/anaconda3/envs/ana/lib/python3.7/site-packages/sklearn/metrics/_classification.py:896: RuntimeWarning: invalid value encountered in double_scalars\n",
      "  mcc = cov_ytyp / np.sqrt(cov_ytyt * cov_ypyp)\n",
      "/home/shihab/anaconda3/envs/ana/lib/python3.7/site-packages/sklearn/metrics/_classification.py:896: RuntimeWarning: invalid value encountered in double_scalars\n",
      "  mcc = cov_ytyp / np.sqrt(cov_ytyt * cov_ypyp)\n"
     ]
    },
    {
     "name": "stdout",
     "output_type": "stream",
     "text": [
      "33.22 [0.2, 0.317]\n",
      "('wilson', 'lr')\n",
      "ERROR!!! Pos class completely filtered out\n",
      "35.41 [0.206, 0.246]\n",
      "('wilson', 'nb')\n"
     ]
    },
    {
     "name": "stderr",
     "output_type": "stream",
     "text": [
      "/home/shihab/anaconda3/envs/ana/lib/python3.7/site-packages/sklearn/metrics/_classification.py:896: RuntimeWarning: invalid value encountered in double_scalars\n",
      "  mcc = cov_ytyp / np.sqrt(cov_ytyt * cov_ypyp)\n"
     ]
    },
    {
     "name": "stdout",
     "output_type": "stream",
     "text": [
      "32.37 [0.26, 0.292]\n",
      "('wilson', 'svm')\n",
      "34.46 [0.234, 0.169]\n",
      "('wilson', 'knn')\n"
     ]
    },
    {
     "name": "stderr",
     "output_type": "stream",
     "text": [
      "/home/shihab/anaconda3/envs/ana/lib/python3.7/site-packages/sklearn/metrics/_classification.py:896: RuntimeWarning: invalid value encountered in double_scalars\n",
      "  mcc = cov_ytyp / np.sqrt(cov_ytyt * cov_ypyp)\n"
     ]
    },
    {
     "name": "stdout",
     "output_type": "stream",
     "text": [
      "43.46 [0.204, 0.269]\n",
      "('wilson', 'rf')\n"
     ]
    },
    {
     "name": "stderr",
     "output_type": "stream",
     "text": [
      "/home/shihab/anaconda3/envs/ana/lib/python3.7/site-packages/sklearn/metrics/_classification.py:896: RuntimeWarning: invalid value encountered in double_scalars\n",
      "  mcc = cov_ytyp / np.sqrt(cov_ytyt * cov_ypyp)\n"
     ]
    },
    {
     "name": "stdout",
     "output_type": "stream",
     "text": [
      "38.44 [0.214, 0.238]\n",
      "('tomek', 'dt')\n",
      "ERROR!!! Pos class completely filtered out\n",
      "ERROR!!! Pos class completely filtered out\n",
      "ERROR!!! Pos class completely filtered out\n",
      "ERROR!!! Pos class completely filtered out\n",
      "ERROR!!! Pos class completely filtered out\n",
      "ERROR!!! Pos class completely filtered out\n",
      "ERROR!!! Pos class completely filtered out\n",
      "ERROR!!! Pos class completely filtered out\n",
      "ERROR!!! Pos class completely filtered out\n",
      "ERROR!!! Pos class completely filtered out\n",
      "ERROR!!! Pos class completely filtered out\n"
     ]
    },
    {
     "name": "stderr",
     "output_type": "stream",
     "text": [
      "/home/shihab/anaconda3/envs/ana/lib/python3.7/site-packages/sklearn/metrics/_classification.py:896: RuntimeWarning: invalid value encountered in double_scalars\n",
      "  mcc = cov_ytyp / np.sqrt(cov_ytyt * cov_ypyp)\n"
     ]
    },
    {
     "name": "stdout",
     "output_type": "stream",
     "text": [
      "ERROR!!! Pos class completely filtered out\n",
      "ERROR!!! Pos class completely filtered out\n",
      "ERROR!!! Pos class completely filtered out\n",
      "ERROR!!! Pos class completely filtered out\n",
      "ERROR!!! Pos class completely filtered out\n",
      "ERROR!!! Pos class completely filtered out\n",
      "ERROR!!! Pos class completely filtered out\n",
      "ERROR!!! Pos class completely filtered out\n",
      "ERROR!!! Pos class completely filtered out\n",
      "ERROR!!! Pos class completely filtered out\n",
      "26.0 [0.083, 0.306]\n",
      "('tomek', 'lr')\n",
      "ERROR!!! Pos class completely filtered out\n",
      "ERROR!!! Pos class completely filtered out\n",
      "ERROR!!! Pos class completely filtered out\n",
      "ERROR!!! Pos class completely filtered out\n",
      "ERROR!!! Pos class completely filtered out\n",
      "ERROR!!! Pos class completely filtered out\n",
      "ERROR!!! Pos class completely filtered out\n",
      "ERROR!!! Pos class completely filtered out\n",
      "ERROR!!! Pos class completely filtered out\n",
      "ERROR!!! Pos class completely filtered out\n",
      "ERROR!!! Pos class completely filtered out\n",
      "ERROR!!! Pos class completely filtered out\n",
      "ERROR!!! Pos class completely filtered out\n",
      "ERROR!!! Pos class completely filtered out\n",
      "ERROR!!! Pos class completely filtered out\n",
      "ERROR!!! Pos class completely filtered out\n"
     ]
    },
    {
     "name": "stderr",
     "output_type": "stream",
     "text": [
      "/home/shihab/anaconda3/envs/ana/lib/python3.7/site-packages/sklearn/metrics/_classification.py:896: RuntimeWarning: invalid value encountered in double_scalars\n",
      "  mcc = cov_ytyp / np.sqrt(cov_ytyt * cov_ypyp)\n"
     ]
    },
    {
     "name": "stdout",
     "output_type": "stream",
     "text": [
      "ERROR!!! Pos class completely filtered out\n",
      "ERROR!!! Pos class completely filtered out\n",
      "ERROR!!! Pos class completely filtered out\n",
      "ERROR!!! Pos class completely filtered out\n",
      "ERROR!!! Pos class completely filtered out\n",
      "ERROR!!! Pos class completely filtered out\n",
      "26.75 [0.098, 0.207]\n",
      "('tomek', 'nb')\n",
      "ERROR!!! Pos class completely filtered out\n",
      "ERROR!!! Pos class completely filtered out\n"
     ]
    },
    {
     "name": "stderr",
     "output_type": "stream",
     "text": [
      "/home/shihab/anaconda3/envs/ana/lib/python3.7/site-packages/sklearn/metrics/_classification.py:896: RuntimeWarning: invalid value encountered in double_scalars\n",
      "  mcc = cov_ytyp / np.sqrt(cov_ytyt * cov_ypyp)\n"
     ]
    },
    {
     "name": "stdout",
     "output_type": "stream",
     "text": [
      "ERROR!!! Pos class completely filtered out\n",
      "ERROR!!! Pos class completely filtered out\n",
      "ERROR!!! Pos class completely filtered out\n",
      "ERROR!!! Pos class completely filtered out\n",
      "ERROR!!! Pos class completely filtered out\n",
      "ERROR!!! Pos class completely filtered out\n",
      "ERROR!!! Pos class completely filtered out\n",
      "ERROR!!! Pos class completely filtered out\n",
      "ERROR!!! Pos class completely filtered out\n",
      "ERROR!!! Pos class completely filtered out\n",
      "ERROR!!! Pos class completely filtered out\n",
      "ERROR!!! Pos class completely filtered out\n",
      "ERROR!!! Pos class completely filtered out\n",
      "ERROR!!! Pos class completely filtered out\n",
      "ERROR!!! Pos class completely filtered out\n",
      "ERROR!!! Pos class completely filtered out\n",
      "26.15 [0.155, 0.291]\n",
      "('tomek', 'svm')\n",
      "ERROR!!! Pos class completely filtered out\n",
      "ERROR!!! Pos class completely filtered out\n",
      "ERROR!!! Pos class completely filtered out\n",
      "ERROR!!! Pos class completely filtered out\n",
      "ERROR!!! Pos class completely filtered out\n",
      "ERROR!!! Pos class completely filtered out\n",
      "ERROR!!! Pos class completely filtered out\n",
      "ERROR!!! Pos class completely filtered out\n",
      "ERROR!!! Pos class completely filtered out\n",
      "ERROR!!! Pos class completely filtered out\n",
      "ERROR!!! Pos class completely filtered out\n",
      "ERROR!!! Pos class completely filtered out\n",
      "ERROR!!! Pos class completely filtered out\n",
      "ERROR!!! Pos class completely filtered out\n",
      "ERROR!!! Pos class completely filtered out\n",
      "ERROR!!! Pos class completely filtered out\n",
      "ERROR!!! Pos class completely filtered out\n",
      "ERROR!!! Pos class completely filtered out\n",
      "ERROR!!! Pos class completely filtered out\n",
      "ERROR!!! Pos class completely filtered out\n",
      "ERROR!!! Pos class completely filtered out\n",
      "ERROR!!! Pos class completely filtered out\n",
      "ERROR!!! Pos class completely filtered out\n",
      "26.18 [0.221, 0.1]\n",
      "('tomek', 'knn')\n",
      "ERROR!!! Pos class completely filtered out\n",
      "ERROR!!! Pos class completely filtered out\n"
     ]
    },
    {
     "name": "stderr",
     "output_type": "stream",
     "text": [
      "/home/shihab/anaconda3/envs/ana/lib/python3.7/site-packages/sklearn/metrics/_classification.py:896: RuntimeWarning: invalid value encountered in double_scalars\n",
      "  mcc = cov_ytyp / np.sqrt(cov_ytyt * cov_ypyp)\n",
      "/home/shihab/anaconda3/envs/ana/lib/python3.7/site-packages/sklearn/metrics/_classification.py:896: RuntimeWarning: invalid value encountered in double_scalars\n",
      "  mcc = cov_ytyp / np.sqrt(cov_ytyt * cov_ypyp)\n"
     ]
    },
    {
     "name": "stdout",
     "output_type": "stream",
     "text": [
      "ERROR!!! Pos class completely filtered out\n",
      "ERROR!!! Pos class completely filtered out\n",
      "ERROR!!! Pos class completely filtered out\n"
     ]
    },
    {
     "name": "stderr",
     "output_type": "stream",
     "text": [
      "/home/shihab/anaconda3/envs/ana/lib/python3.7/site-packages/sklearn/metrics/_classification.py:896: RuntimeWarning: invalid value encountered in double_scalars\n",
      "  mcc = cov_ytyp / np.sqrt(cov_ytyt * cov_ypyp)\n"
     ]
    },
    {
     "name": "stdout",
     "output_type": "stream",
     "text": [
      "ERROR!!! Pos class completely filtered out\n"
     ]
    },
    {
     "name": "stderr",
     "output_type": "stream",
     "text": [
      "/home/shihab/anaconda3/envs/ana/lib/python3.7/site-packages/sklearn/metrics/_classification.py:896: RuntimeWarning: invalid value encountered in double_scalars\n",
      "  mcc = cov_ytyp / np.sqrt(cov_ytyt * cov_ypyp)\n"
     ]
    },
    {
     "name": "stdout",
     "output_type": "stream",
     "text": [
      "ERROR!!! Pos class completely filtered out\n",
      "ERROR!!! Pos class completely filtered out\n",
      "ERROR!!! Pos class completely filtered out\n",
      "ERROR!!! Pos class completely filtered out\n"
     ]
    },
    {
     "name": "stderr",
     "output_type": "stream",
     "text": [
      "/home/shihab/anaconda3/envs/ana/lib/python3.7/site-packages/sklearn/metrics/_classification.py:896: RuntimeWarning: invalid value encountered in double_scalars\n",
      "  mcc = cov_ytyp / np.sqrt(cov_ytyt * cov_ypyp)\n"
     ]
    },
    {
     "name": "stdout",
     "output_type": "stream",
     "text": [
      "ERROR!!! Pos class completely filtered out\n",
      "ERROR!!! Pos class completely filtered out\n"
     ]
    },
    {
     "name": "stderr",
     "output_type": "stream",
     "text": [
      "/home/shihab/anaconda3/envs/ana/lib/python3.7/site-packages/sklearn/metrics/_classification.py:896: RuntimeWarning: invalid value encountered in double_scalars\n",
      "  mcc = cov_ytyp / np.sqrt(cov_ytyt * cov_ypyp)\n"
     ]
    },
    {
     "name": "stdout",
     "output_type": "stream",
     "text": [
      "ERROR!!! Pos class completely filtered out\n",
      "ERROR!!! Pos class completely filtered out\n"
     ]
    },
    {
     "name": "stderr",
     "output_type": "stream",
     "text": [
      "/home/shihab/anaconda3/envs/ana/lib/python3.7/site-packages/sklearn/metrics/_classification.py:896: RuntimeWarning: invalid value encountered in double_scalars\n",
      "  mcc = cov_ytyp / np.sqrt(cov_ytyt * cov_ypyp)\n"
     ]
    },
    {
     "name": "stdout",
     "output_type": "stream",
     "text": [
      "ERROR!!! Pos class completely filtered out\n",
      "ERROR!!! Pos class completely filtered out\n",
      "28.93 [0.043, 0.369]\n",
      "('tomek', 'rf')\n",
      "ERROR!!! Pos class completely filtered out\n",
      "ERROR!!! Pos class completely filtered out\n",
      "ERROR!!! Pos class completely filtered out\n",
      "ERROR!!! Pos class completely filtered out\n",
      "ERROR!!! Pos class completely filtered out\n",
      "ERROR!!! Pos class completely filtered out\n",
      "ERROR!!! Pos class completely filtered out\n",
      "ERROR!!! Pos class completely filtered out\n",
      "ERROR!!! Pos class completely filtered out\n"
     ]
    },
    {
     "name": "stderr",
     "output_type": "stream",
     "text": [
      "/home/shihab/anaconda3/envs/ana/lib/python3.7/site-packages/sklearn/metrics/_classification.py:896: RuntimeWarning: invalid value encountered in double_scalars\n",
      "  mcc = cov_ytyp / np.sqrt(cov_ytyt * cov_ypyp)\n"
     ]
    },
    {
     "name": "stdout",
     "output_type": "stream",
     "text": [
      "ERROR!!! Pos class completely filtered out\n",
      "ERROR!!! Pos class completely filtered out\n",
      "ERROR!!! Pos class completely filtered out\n",
      "ERROR!!! Pos class completely filtered out\n",
      "ERROR!!! Pos class completely filtered out\n",
      "ERROR!!! Pos class completely filtered out\n",
      "ERROR!!! Pos class completely filtered out\n",
      "ERROR!!! Pos class completely filtered out\n",
      "ERROR!!! Pos class completely filtered out\n",
      "ERROR!!! Pos class completely filtered out\n"
     ]
    },
    {
     "name": "stderr",
     "output_type": "stream",
     "text": [
      "/home/shihab/anaconda3/envs/ana/lib/python3.7/site-packages/sklearn/metrics/_classification.py:896: RuntimeWarning: invalid value encountered in double_scalars\n",
      "  mcc = cov_ytyp / np.sqrt(cov_ytyt * cov_ypyp)\n",
      "/home/shihab/anaconda3/envs/ana/lib/python3.7/site-packages/sklearn/metrics/_classification.py:896: RuntimeWarning: invalid value encountered in double_scalars\n",
      "  mcc = cov_ytyp / np.sqrt(cov_ytyt * cov_ypyp)\n"
     ]
    },
    {
     "name": "stdout",
     "output_type": "stream",
     "text": [
      "ERROR!!! Pos class completely filtered out\n",
      "25.55 [0.06, 0.347]\n",
      "('None', 'dt')\n",
      "ERROR!!! Pos class completely filtered out\n",
      "ERROR!!! Pos class completely filtered out\n",
      "ERROR!!! Pos class completely filtered out\n",
      "ERROR!!! Pos class completely filtered out\n",
      "ERROR!!! Pos class completely filtered out\n",
      "ERROR!!! Pos class completely filtered out\n",
      "ERROR!!! Pos class completely filtered out\n",
      "ERROR!!! Pos class completely filtered out\n",
      "ERROR!!! Pos class completely filtered out\n",
      "ERROR!!! Pos class completely filtered out\n",
      "ERROR!!! Pos class completely filtered out\n",
      "ERROR!!! Pos class completely filtered out\n",
      "ERROR!!! Pos class completely filtered out\n"
     ]
    },
    {
     "name": "stderr",
     "output_type": "stream",
     "text": [
      "/home/shihab/anaconda3/envs/ana/lib/python3.7/site-packages/sklearn/metrics/_classification.py:896: RuntimeWarning: invalid value encountered in double_scalars\n",
      "  mcc = cov_ytyp / np.sqrt(cov_ytyt * cov_ypyp)\n"
     ]
    },
    {
     "name": "stdout",
     "output_type": "stream",
     "text": [
      "ERROR!!! Pos class completely filtered out\n",
      "ERROR!!! Pos class completely filtered out\n",
      "ERROR!!! Pos class completely filtered out\n",
      "ERROR!!! Pos class completely filtered out\n",
      "ERROR!!! Pos class completely filtered out\n",
      "ERROR!!! Pos class completely filtered out\n",
      "ERROR!!! Pos class completely filtered out\n",
      "ERROR!!! Pos class completely filtered out\n",
      "ERROR!!! Pos class completely filtered out\n",
      "1.07 [0.031, 0.406]\n",
      "('None', 'lr')\n"
     ]
    },
    {
     "name": "stderr",
     "output_type": "stream",
     "text": [
      "/home/shihab/anaconda3/envs/ana/lib/python3.7/site-packages/sklearn/metrics/_classification.py:896: RuntimeWarning: invalid value encountered in double_scalars\n",
      "  mcc = cov_ytyp / np.sqrt(cov_ytyt * cov_ypyp)\n"
     ]
    },
    {
     "name": "stdout",
     "output_type": "stream",
     "text": [
      "ERROR!!! Pos class completely filtered out\n",
      "ERROR!!! Pos class completely filtered out\n",
      "ERROR!!! Pos class completely filtered out\n",
      "ERROR!!! Pos class completely filtered out\n",
      "ERROR!!! Pos class completely filtered out\n",
      "ERROR!!! Pos class completely filtered out\n",
      "ERROR!!! Pos class completely filtered out\n",
      "ERROR!!! Pos class completely filtered out\n",
      "ERROR!!! Pos class completely filtered out\n",
      "ERROR!!! Pos class completely filtered out\n",
      "ERROR!!! Pos class completely filtered out\n",
      "ERROR!!! Pos class completely filtered out\n",
      "ERROR!!! Pos class completely filtered out\n",
      "ERROR!!! Pos class completely filtered out\n",
      "ERROR!!! Pos class completely filtered out\n",
      "ERROR!!! Pos class completely filtered out\n",
      "ERROR!!! Pos class completely filtered out\n",
      "ERROR!!! Pos class completely filtered out\n",
      "ERROR!!! Pos class completely filtered out\n",
      "ERROR!!! Pos class completely filtered out\n",
      "ERROR!!! Pos class completely filtered out\n",
      "ERROR!!! Pos class completely filtered out\n",
      "ERROR!!! Pos class completely filtered out\n",
      "ERROR!!! Pos class completely filtered out\n",
      "ERROR!!! Pos class completely filtered out\n",
      "1.17 [0.0, 0.0]\n",
      "('None', 'nb')\n",
      "ERROR!!! Pos class completely filtered out\n",
      "ERROR!!! Pos class completely filtered out\n",
      "ERROR!!! Pos class completely filtered out\n",
      "ERROR!!! Pos class completely filtered out\n",
      "ERROR!!! Pos class completely filtered out\n",
      "ERROR!!! Pos class completely filtered out\n",
      "ERROR!!! Pos class completely filtered out\n",
      "ERROR!!! Pos class completely filtered out\n",
      "ERROR!!! Pos class completely filtered out\n",
      "ERROR!!! Pos class completely filtered out\n",
      "ERROR!!! Pos class completely filtered out\n",
      "ERROR!!! Pos class completely filtered out\n",
      "ERROR!!! Pos class completely filtered out\n",
      "ERROR!!! Pos class completely filtered out\n",
      "ERROR!!! Pos class completely filtered out\n",
      "ERROR!!! Pos class completely filtered out\n",
      "ERROR!!! Pos class completely filtered out\n",
      "ERROR!!! Pos class completely filtered out\n",
      "ERROR!!! Pos class completely filtered out\n",
      "ERROR!!! Pos class completely filtered out\n",
      "ERROR!!! Pos class completely filtered out\n",
      "ERROR!!! Pos class completely filtered out\n",
      "ERROR!!! Pos class completely filtered out\n",
      "ERROR!!! Pos class completely filtered out\n",
      "ERROR!!! Pos class completely filtered out\n",
      "1.14 [0.0, 0.0]\n",
      "('None', 'svm')\n",
      "ERROR!!! Pos class completely filtered out\n",
      "ERROR!!! Pos class completely filtered out\n",
      "ERROR!!! Pos class completely filtered out\n",
      "ERROR!!! Pos class completely filtered out\n",
      "ERROR!!! Pos class completely filtered out\n",
      "ERROR!!! Pos class completely filtered out\n",
      "ERROR!!! Pos class completely filtered out\n",
      "ERROR!!! Pos class completely filtered out\n",
      "ERROR!!! Pos class completely filtered out\n",
      "ERROR!!! Pos class completely filtered out\n",
      "ERROR!!! Pos class completely filtered out\n",
      "ERROR!!! Pos class completely filtered out\n",
      "ERROR!!! Pos class completely filtered out\n",
      "ERROR!!! Pos class completely filtered out\n",
      "ERROR!!! Pos class completely filtered out\n",
      "ERROR!!! Pos class completely filtered out\n",
      "ERROR!!! Pos class completely filtered out\n",
      "ERROR!!! Pos class completely filtered out\n",
      "ERROR!!! Pos class completely filtered out\n",
      "ERROR!!! Pos class completely filtered out\n",
      "ERROR!!! Pos class completely filtered out\n",
      "ERROR!!! Pos class completely filtered out\n"
     ]
    },
    {
     "name": "stderr",
     "output_type": "stream",
     "text": [
      "/home/shihab/anaconda3/envs/ana/lib/python3.7/site-packages/sklearn/metrics/_classification.py:896: RuntimeWarning: invalid value encountered in double_scalars\n",
      "  mcc = cov_ytyp / np.sqrt(cov_ytyt * cov_ypyp)\n"
     ]
    },
    {
     "name": "stdout",
     "output_type": "stream",
     "text": [
      "ERROR!!! Pos class completely filtered out\n",
      "1.49 [0.079, 0.105]\n",
      "('None', 'knn')\n",
      "ERROR!!! Pos class completely filtered out\n",
      "ERROR!!! Pos class completely filtered out\n",
      "ERROR!!! Pos class completely filtered out\n",
      "ERROR!!! Pos class completely filtered out\n",
      "ERROR!!! Pos class completely filtered out\n",
      "ERROR!!! Pos class completely filtered out\n",
      "ERROR!!! Pos class completely filtered out\n"
     ]
    },
    {
     "name": "stderr",
     "output_type": "stream",
     "text": [
      "/home/shihab/anaconda3/envs/ana/lib/python3.7/site-packages/sklearn/metrics/_classification.py:896: RuntimeWarning: invalid value encountered in double_scalars\n",
      "  mcc = cov_ytyp / np.sqrt(cov_ytyt * cov_ypyp)\n"
     ]
    },
    {
     "name": "stdout",
     "output_type": "stream",
     "text": [
      "ERROR!!! Pos class completely filtered out\n",
      "ERROR!!! Pos class completely filtered out\n",
      "ERROR!!! Pos class completely filtered out\n"
     ]
    },
    {
     "name": "stderr",
     "output_type": "stream",
     "text": [
      "/home/shihab/anaconda3/envs/ana/lib/python3.7/site-packages/sklearn/metrics/_classification.py:896: RuntimeWarning: invalid value encountered in double_scalars\n",
      "  mcc = cov_ytyp / np.sqrt(cov_ytyt * cov_ypyp)\n"
     ]
    },
    {
     "name": "stdout",
     "output_type": "stream",
     "text": [
      "ERROR!!! Pos class completely filtered out\n",
      "ERROR!!! Pos class completely filtered out\n",
      "ERROR!!! Pos class completely filtered out\n",
      "ERROR!!! Pos class completely filtered out\n",
      "ERROR!!! Pos class completely filtered out\n",
      "ERROR!!! Pos class completely filtered out\n",
      "ERROR!!! Pos class completely filtered out\n",
      "ERROR!!! Pos class completely filtered out\n",
      "ERROR!!! Pos class completely filtered out\n",
      "ERROR!!! Pos class completely filtered out\n",
      "ERROR!!! Pos class completely filtered out\n",
      "ERROR!!! Pos class completely filtered out\n",
      "ERROR!!! Pos class completely filtered out\n",
      "1.89 [0.0, 0.443]\n",
      "('None', 'rf')\n",
      "ERROR!!! Pos class completely filtered out\n",
      "ERROR!!! Pos class completely filtered out\n",
      "ERROR!!! Pos class completely filtered out\n"
     ]
    },
    {
     "name": "stderr",
     "output_type": "stream",
     "text": [
      "/home/shihab/anaconda3/envs/ana/lib/python3.7/site-packages/sklearn/metrics/_classification.py:896: RuntimeWarning: invalid value encountered in double_scalars\n",
      "  mcc = cov_ytyp / np.sqrt(cov_ytyt * cov_ypyp)\n"
     ]
    },
    {
     "name": "stdout",
     "output_type": "stream",
     "text": [
      "ERROR!!! Pos class completely filtered out\n",
      "ERROR!!! Pos class completely filtered out\n",
      "ERROR!!! Pos class completely filtered out\n",
      "ERROR!!! Pos class completely filtered out\n"
     ]
    },
    {
     "name": "stderr",
     "output_type": "stream",
     "text": [
      "/home/shihab/anaconda3/envs/ana/lib/python3.7/site-packages/sklearn/metrics/_classification.py:896: RuntimeWarning: invalid value encountered in double_scalars\n",
      "  mcc = cov_ytyp / np.sqrt(cov_ytyt * cov_ypyp)\n"
     ]
    },
    {
     "name": "stdout",
     "output_type": "stream",
     "text": [
      "ERROR!!! Pos class completely filtered out\n",
      "ERROR!!! Pos class completely filtered out\n",
      "ERROR!!! Pos class completely filtered out\n",
      "ERROR!!! Pos class completely filtered out\n"
     ]
    },
    {
     "name": "stderr",
     "output_type": "stream",
     "text": [
      "/home/shihab/anaconda3/envs/ana/lib/python3.7/site-packages/sklearn/metrics/_classification.py:896: RuntimeWarning: invalid value encountered in double_scalars\n",
      "  mcc = cov_ytyp / np.sqrt(cov_ytyt * cov_ypyp)\n"
     ]
    },
    {
     "name": "stdout",
     "output_type": "stream",
     "text": [
      "ERROR!!! Pos class completely filtered out\n",
      "ERROR!!! Pos class completely filtered out\n",
      "ERROR!!! Pos class completely filtered out\n",
      "ERROR!!! Pos class completely filtered out\n",
      "ERROR!!! Pos class completely filtered out\n",
      "ERROR!!! Pos class completely filtered out\n",
      "ERROR!!! Pos class completely filtered out\n",
      "ERROR!!! Pos class completely filtered out\n",
      "ERROR!!! Pos class completely filtered out\n",
      "ERROR!!! Pos class completely filtered out\n",
      "1.48 [0.039, 0.19]\n",
      "('ens', 'rboost_DT')\n",
      "1.63 [0.201, 0.372]\n",
      "('ens', 'rboost_NB')\n",
      "1.65 [0.233, 0.394]\n",
      "('ens', 'bbag_DT')\n",
      "23.24 [0.222, 0.288]\n",
      "('ens', 'bbag_NB')\n",
      "23.29 [0.224, 0.363]\n",
      "\n",
      "wicket-1.5.3.csv noise:0.064, imb:26.720,93,2485, Shape:(2578, 65)\n",
      "('smote', 'dt')\n",
      "2.51 [0.161, 0.33]\n",
      "('smote', 'lr')\n",
      "5.35 [0.189, 0.173]\n",
      "('smote', 'nb')\n",
      "2.24 [0.215, 0.393]\n",
      "('smote', 'svm')\n",
      "27.38 [0.188, 0.134]\n",
      "('smote', 'knn')\n",
      "3.64 [0.187, 0.32]\n",
      "('smote', 'rf')\n",
      "7.21 [0.172, 0.205]\n",
      "('rus', 'dt')\n",
      "0.37 [0.213, 0.449]\n",
      "('rus', 'lr')\n",
      "0.62 [0.219, 0.206]\n",
      "('rus', 'nb')\n",
      "0.41 [0.202, 0.438]\n",
      "('rus', 'svm')\n",
      "0.43 [0.213, 0.153]\n",
      "('rus', 'knn')\n",
      "0.49 [0.207, 0.406]\n",
      "('rus', 'rf')\n",
      "1.65 [0.214, 0.345]\n",
      "('wilson', 'dt')\n",
      "ERROR!!! Pos class completely filtered out\n",
      "ERROR!!! Pos class completely filtered out\n",
      "ERROR!!! Pos class completely filtered out\n",
      "ERROR!!! Pos class completely filtered out\n",
      "ERROR!!! Pos class completely filtered out\n",
      "ERROR!!! Pos class completely filtered out\n",
      "ERROR!!! Pos class completely filtered out\n",
      "ERROR!!! Pos class completely filtered out\n",
      "ERROR!!! Pos class completely filtered out\n"
     ]
    },
    {
     "name": "stderr",
     "output_type": "stream",
     "text": [
      "/home/shihab/anaconda3/envs/ana/lib/python3.7/site-packages/sklearn/metrics/_classification.py:896: RuntimeWarning: invalid value encountered in double_scalars\n",
      "  mcc = cov_ytyp / np.sqrt(cov_ytyt * cov_ypyp)\n"
     ]
    },
    {
     "name": "stdout",
     "output_type": "stream",
     "text": [
      "ERROR!!! Pos class completely filtered out\n",
      "ERROR!!! Pos class completely filtered out\n",
      "ERROR!!! Pos class completely filtered out\n",
      "ERROR!!! Pos class completely filtered out\n",
      "ERROR!!! Pos class completely filtered out\n",
      "ERROR!!! Pos class completely filtered out\n",
      "ERROR!!! Pos class completely filtered out\n",
      "ERROR!!! Pos class completely filtered out\n",
      "ERROR!!! Pos class completely filtered out\n",
      "5.66 [0.109, 0.275]\n",
      "('wilson', 'lr')\n"
     ]
    },
    {
     "name": "stderr",
     "output_type": "stream",
     "text": [
      "/home/shihab/anaconda3/envs/ana/lib/python3.7/site-packages/sklearn/metrics/_classification.py:896: RuntimeWarning: invalid value encountered in double_scalars\n",
      "  mcc = cov_ytyp / np.sqrt(cov_ytyt * cov_ypyp)\n"
     ]
    },
    {
     "name": "stdout",
     "output_type": "stream",
     "text": [
      "ERROR!!! Pos class completely filtered out\n"
     ]
    },
    {
     "name": "stderr",
     "output_type": "stream",
     "text": [
      "/home/shihab/anaconda3/envs/ana/lib/python3.7/site-packages/sklearn/metrics/_classification.py:896: RuntimeWarning: invalid value encountered in double_scalars\n",
      "  mcc = cov_ytyp / np.sqrt(cov_ytyt * cov_ypyp)\n",
      "/home/shihab/anaconda3/envs/ana/lib/python3.7/site-packages/sklearn/metrics/_classification.py:896: RuntimeWarning: invalid value encountered in double_scalars\n",
      "  mcc = cov_ytyp / np.sqrt(cov_ytyt * cov_ypyp)\n"
     ]
    },
    {
     "name": "stdout",
     "output_type": "stream",
     "text": [
      "ERROR!!! Pos class completely filtered out\n",
      "ERROR!!! Pos class completely filtered out\n",
      "ERROR!!! Pos class completely filtered out\n",
      "ERROR!!! Pos class completely filtered out\n",
      "ERROR!!! Pos class completely filtered out\n",
      "ERROR!!! Pos class completely filtered out\n",
      "ERROR!!! Pos class completely filtered out\n"
     ]
    },
    {
     "name": "stderr",
     "output_type": "stream",
     "text": [
      "/home/shihab/anaconda3/envs/ana/lib/python3.7/site-packages/sklearn/metrics/_classification.py:896: RuntimeWarning: invalid value encountered in double_scalars\n",
      "  mcc = cov_ytyp / np.sqrt(cov_ytyt * cov_ypyp)\n"
     ]
    },
    {
     "name": "stdout",
     "output_type": "stream",
     "text": [
      "ERROR!!! Pos class completely filtered out\n"
     ]
    },
    {
     "name": "stderr",
     "output_type": "stream",
     "text": [
      "/home/shihab/anaconda3/envs/ana/lib/python3.7/site-packages/sklearn/metrics/_classification.py:896: RuntimeWarning: invalid value encountered in double_scalars\n",
      "  mcc = cov_ytyp / np.sqrt(cov_ytyt * cov_ypyp)\n"
     ]
    },
    {
     "name": "stdout",
     "output_type": "stream",
     "text": [
      "ERROR!!! Pos class completely filtered out\n",
      "ERROR!!! Pos class completely filtered out\n",
      "ERROR!!! Pos class completely filtered out\n",
      "ERROR!!! Pos class completely filtered out\n",
      "ERROR!!! Pos class completely filtered out\n",
      "5.58 [0.079, 0.191]\n",
      "('wilson', 'nb')\n"
     ]
    },
    {
     "name": "stderr",
     "output_type": "stream",
     "text": [
      "/home/shihab/anaconda3/envs/ana/lib/python3.7/site-packages/sklearn/metrics/_classification.py:896: RuntimeWarning: invalid value encountered in double_scalars\n",
      "  mcc = cov_ytyp / np.sqrt(cov_ytyt * cov_ypyp)\n"
     ]
    },
    {
     "name": "stdout",
     "output_type": "stream",
     "text": [
      "ERROR!!! Pos class completely filtered out\n",
      "ERROR!!! Pos class completely filtered out\n"
     ]
    },
    {
     "name": "stderr",
     "output_type": "stream",
     "text": [
      "/home/shihab/anaconda3/envs/ana/lib/python3.7/site-packages/sklearn/metrics/_classification.py:896: RuntimeWarning: invalid value encountered in double_scalars\n",
      "  mcc = cov_ytyp / np.sqrt(cov_ytyt * cov_ypyp)\n"
     ]
    },
    {
     "name": "stdout",
     "output_type": "stream",
     "text": [
      "ERROR!!! Pos class completely filtered out\n",
      "ERROR!!! Pos class completely filtered out\n",
      "ERROR!!! Pos class completely filtered out\n",
      "ERROR!!! Pos class completely filtered out\n"
     ]
    },
    {
     "name": "stderr",
     "output_type": "stream",
     "text": [
      "/home/shihab/anaconda3/envs/ana/lib/python3.7/site-packages/sklearn/metrics/_classification.py:896: RuntimeWarning: invalid value encountered in double_scalars\n",
      "  mcc = cov_ytyp / np.sqrt(cov_ytyt * cov_ypyp)\n"
     ]
    },
    {
     "name": "stdout",
     "output_type": "stream",
     "text": [
      "ERROR!!! Pos class completely filtered out\n",
      "ERROR!!! Pos class completely filtered out\n",
      "ERROR!!! Pos class completely filtered out\n"
     ]
    },
    {
     "name": "stderr",
     "output_type": "stream",
     "text": [
      "/home/shihab/anaconda3/envs/ana/lib/python3.7/site-packages/sklearn/metrics/_classification.py:896: RuntimeWarning: invalid value encountered in double_scalars\n",
      "  mcc = cov_ytyp / np.sqrt(cov_ytyt * cov_ypyp)\n"
     ]
    },
    {
     "name": "stdout",
     "output_type": "stream",
     "text": [
      "ERROR!!! Pos class completely filtered out\n",
      "ERROR!!! Pos class completely filtered out\n"
     ]
    },
    {
     "name": "stderr",
     "output_type": "stream",
     "text": [
      "/home/shihab/anaconda3/envs/ana/lib/python3.7/site-packages/sklearn/metrics/_classification.py:896: RuntimeWarning: invalid value encountered in double_scalars\n",
      "  mcc = cov_ytyp / np.sqrt(cov_ytyt * cov_ypyp)\n"
     ]
    },
    {
     "name": "stdout",
     "output_type": "stream",
     "text": [
      "ERROR!!! Pos class completely filtered out\n",
      "ERROR!!! Pos class completely filtered out\n"
     ]
    },
    {
     "name": "stderr",
     "output_type": "stream",
     "text": [
      "/home/shihab/anaconda3/envs/ana/lib/python3.7/site-packages/sklearn/metrics/_classification.py:896: RuntimeWarning: invalid value encountered in double_scalars\n",
      "  mcc = cov_ytyp / np.sqrt(cov_ytyt * cov_ypyp)\n"
     ]
    },
    {
     "name": "stdout",
     "output_type": "stream",
     "text": [
      "5.49 [0.044, 0.286]\n",
      "('wilson', 'svm')\n",
      "ERROR!!! Pos class completely filtered out\n",
      "ERROR!!! Pos class completely filtered out\n",
      "ERROR!!! Pos class completely filtered out\n",
      "ERROR!!! Pos class completely filtered out\n",
      "ERROR!!! Pos class completely filtered out\n",
      "ERROR!!! Pos class completely filtered out\n",
      "ERROR!!! Pos class completely filtered out\n",
      "ERROR!!! Pos class completely filtered out\n"
     ]
    },
    {
     "name": "stderr",
     "output_type": "stream",
     "text": [
      "/home/shihab/anaconda3/envs/ana/lib/python3.7/site-packages/sklearn/metrics/_classification.py:896: RuntimeWarning: invalid value encountered in double_scalars\n",
      "  mcc = cov_ytyp / np.sqrt(cov_ytyt * cov_ypyp)\n"
     ]
    },
    {
     "name": "stdout",
     "output_type": "stream",
     "text": [
      "ERROR!!! Pos class completely filtered out\n",
      "ERROR!!! Pos class completely filtered out\n",
      "ERROR!!! Pos class completely filtered out\n",
      "ERROR!!! Pos class completely filtered out\n",
      "ERROR!!! Pos class completely filtered out\n",
      "5.78 [0.097, 0.084]\n",
      "('wilson', 'knn')\n",
      "ERROR!!! Pos class completely filtered out\n",
      "ERROR!!! Pos class completely filtered out\n",
      "ERROR!!! Pos class completely filtered out\n"
     ]
    },
    {
     "name": "stderr",
     "output_type": "stream",
     "text": [
      "/home/shihab/anaconda3/envs/ana/lib/python3.7/site-packages/sklearn/metrics/_classification.py:896: RuntimeWarning: invalid value encountered in double_scalars\n",
      "  mcc = cov_ytyp / np.sqrt(cov_ytyt * cov_ypyp)\n"
     ]
    },
    {
     "name": "stdout",
     "output_type": "stream",
     "text": [
      "ERROR!!! Pos class completely filtered out\n"
     ]
    },
    {
     "name": "stderr",
     "output_type": "stream",
     "text": [
      "/home/shihab/anaconda3/envs/ana/lib/python3.7/site-packages/sklearn/metrics/_classification.py:896: RuntimeWarning: invalid value encountered in double_scalars\n",
      "  mcc = cov_ytyp / np.sqrt(cov_ytyt * cov_ypyp)\n"
     ]
    },
    {
     "name": "stdout",
     "output_type": "stream",
     "text": [
      "ERROR!!! Pos class completely filtered out\n",
      "ERROR!!! Pos class completely filtered out\n",
      "ERROR!!! Pos class completely filtered out\n",
      "ERROR!!! Pos class completely filtered out\n"
     ]
    },
    {
     "name": "stderr",
     "output_type": "stream",
     "text": [
      "/home/shihab/anaconda3/envs/ana/lib/python3.7/site-packages/sklearn/metrics/_classification.py:896: RuntimeWarning: invalid value encountered in double_scalars\n",
      "  mcc = cov_ytyp / np.sqrt(cov_ytyt * cov_ypyp)\n"
     ]
    },
    {
     "name": "stdout",
     "output_type": "stream",
     "text": [
      "ERROR!!! Pos class completely filtered out\n",
      "ERROR!!! Pos class completely filtered out\n",
      "ERROR!!! Pos class completely filtered out\n",
      "ERROR!!! Pos class completely filtered out\n",
      "ERROR!!! Pos class completely filtered out\n"
     ]
    },
    {
     "name": "stderr",
     "output_type": "stream",
     "text": [
      "/home/shihab/anaconda3/envs/ana/lib/python3.7/site-packages/sklearn/metrics/_classification.py:896: RuntimeWarning: invalid value encountered in double_scalars\n",
      "  mcc = cov_ytyp / np.sqrt(cov_ytyt * cov_ypyp)\n"
     ]
    },
    {
     "name": "stdout",
     "output_type": "stream",
     "text": [
      "ERROR!!! Pos class completely filtered out\n",
      "ERROR!!! Pos class completely filtered out\n",
      "ERROR!!! Pos class completely filtered out\n",
      "ERROR!!! Pos class completely filtered out\n",
      "ERROR!!! Pos class completely filtered out\n",
      "5.78 [0.096, 0.251]\n",
      "('wilson', 'rf')\n"
     ]
    },
    {
     "name": "stderr",
     "output_type": "stream",
     "text": [
      "/home/shihab/anaconda3/envs/ana/lib/python3.7/site-packages/sklearn/metrics/_classification.py:896: RuntimeWarning: invalid value encountered in double_scalars\n",
      "  mcc = cov_ytyp / np.sqrt(cov_ytyt * cov_ypyp)\n"
     ]
    },
    {
     "name": "stdout",
     "output_type": "stream",
     "text": [
      "ERROR!!! Pos class completely filtered out\n"
     ]
    },
    {
     "name": "stderr",
     "output_type": "stream",
     "text": [
      "/home/shihab/anaconda3/envs/ana/lib/python3.7/site-packages/sklearn/metrics/_classification.py:896: RuntimeWarning: invalid value encountered in double_scalars\n",
      "  mcc = cov_ytyp / np.sqrt(cov_ytyt * cov_ypyp)\n",
      "/home/shihab/anaconda3/envs/ana/lib/python3.7/site-packages/sklearn/metrics/_classification.py:896: RuntimeWarning: invalid value encountered in double_scalars\n",
      "  mcc = cov_ytyp / np.sqrt(cov_ytyt * cov_ypyp)\n"
     ]
    },
    {
     "name": "stdout",
     "output_type": "stream",
     "text": [
      "ERROR!!! Pos class completely filtered out\n",
      "ERROR!!! Pos class completely filtered out\n",
      "ERROR!!! Pos class completely filtered out\n",
      "ERROR!!! Pos class completely filtered out\n"
     ]
    },
    {
     "name": "stderr",
     "output_type": "stream",
     "text": [
      "/home/shihab/anaconda3/envs/ana/lib/python3.7/site-packages/sklearn/metrics/_classification.py:896: RuntimeWarning: invalid value encountered in double_scalars\n",
      "  mcc = cov_ytyp / np.sqrt(cov_ytyt * cov_ypyp)\n"
     ]
    },
    {
     "name": "stdout",
     "output_type": "stream",
     "text": [
      "ERROR!!! Pos class completely filtered out\n",
      "ERROR!!! Pos class completely filtered out\n",
      "ERROR!!! Pos class completely filtered out\n",
      "ERROR!!! Pos class completely filtered out\n",
      "ERROR!!! Pos class completely filtered out\n",
      "ERROR!!! Pos class completely filtered out\n",
      "6.28 [0.116, 0.165]\n",
      "('tomek', 'dt')\n",
      "ERROR!!! Pos class completely filtered out\n",
      "ERROR!!! Pos class completely filtered out\n",
      "ERROR!!! Pos class completely filtered out\n",
      "ERROR!!! Pos class completely filtered out\n",
      "ERROR!!! Pos class completely filtered out\n",
      "ERROR!!! Pos class completely filtered out\n",
      "ERROR!!! Pos class completely filtered out\n",
      "ERROR!!! Pos class completely filtered out\n",
      "ERROR!!! Pos class completely filtered out\n",
      "ERROR!!! Pos class completely filtered out\n",
      "ERROR!!! Pos class completely filtered out\n",
      "ERROR!!! Pos class completely filtered out\n",
      "ERROR!!! Pos class completely filtered out\n",
      "ERROR!!! Pos class completely filtered out\n",
      "ERROR!!! Pos class completely filtered out\n",
      "ERROR!!! Pos class completely filtered out\n",
      "ERROR!!! Pos class completely filtered out\n",
      "ERROR!!! Pos class completely filtered out\n",
      "ERROR!!! Pos class completely filtered out\n",
      "ERROR!!! Pos class completely filtered out\n",
      "ERROR!!! Pos class completely filtered out\n",
      "ERROR!!! Pos class completely filtered out\n",
      "ERROR!!! Pos class completely filtered out\n",
      "ERROR!!! Pos class completely filtered out\n",
      "4.67 [-0.007, 0.013]\n",
      "('tomek', 'lr')\n",
      "ERROR!!! Pos class completely filtered out\n",
      "ERROR!!! Pos class completely filtered out\n",
      "ERROR!!! Pos class completely filtered out\n",
      "ERROR!!! Pos class completely filtered out\n"
     ]
    },
    {
     "name": "stderr",
     "output_type": "stream",
     "text": [
      "/home/shihab/anaconda3/envs/ana/lib/python3.7/site-packages/sklearn/metrics/_classification.py:896: RuntimeWarning: invalid value encountered in double_scalars\n",
      "  mcc = cov_ytyp / np.sqrt(cov_ytyt * cov_ypyp)\n"
     ]
    },
    {
     "name": "stdout",
     "output_type": "stream",
     "text": [
      "ERROR!!! Pos class completely filtered out\n",
      "ERROR!!! Pos class completely filtered out\n",
      "ERROR!!! Pos class completely filtered out\n",
      "ERROR!!! Pos class completely filtered out\n",
      "ERROR!!! Pos class completely filtered out\n",
      "ERROR!!! Pos class completely filtered out\n",
      "ERROR!!! Pos class completely filtered out\n",
      "ERROR!!! Pos class completely filtered out\n",
      "ERROR!!! Pos class completely filtered out\n",
      "ERROR!!! Pos class completely filtered out\n",
      "ERROR!!! Pos class completely filtered out\n",
      "ERROR!!! Pos class completely filtered out\n",
      "ERROR!!! Pos class completely filtered out\n",
      "ERROR!!! Pos class completely filtered out\n",
      "ERROR!!! Pos class completely filtered out\n",
      "ERROR!!! Pos class completely filtered out\n",
      "ERROR!!! Pos class completely filtered out\n",
      "ERROR!!! Pos class completely filtered out\n",
      "ERROR!!! Pos class completely filtered out\n",
      "5.46 [0.116, 0.257]\n",
      "('tomek', 'nb')\n",
      "ERROR!!! Pos class completely filtered out\n",
      "ERROR!!! Pos class completely filtered out\n",
      "ERROR!!! Pos class completely filtered out\n",
      "ERROR!!! Pos class completely filtered out\n",
      "ERROR!!! Pos class completely filtered out\n",
      "ERROR!!! Pos class completely filtered out\n",
      "ERROR!!! Pos class completely filtered out\n",
      "ERROR!!! Pos class completely filtered out\n",
      "ERROR!!! Pos class completely filtered out\n"
     ]
    },
    {
     "name": "stderr",
     "output_type": "stream",
     "text": [
      "/home/shihab/anaconda3/envs/ana/lib/python3.7/site-packages/sklearn/metrics/_classification.py:896: RuntimeWarning: invalid value encountered in double_scalars\n",
      "  mcc = cov_ytyp / np.sqrt(cov_ytyt * cov_ypyp)\n"
     ]
    },
    {
     "name": "stdout",
     "output_type": "stream",
     "text": [
      "ERROR!!! Pos class completely filtered out\n",
      "ERROR!!! Pos class completely filtered out\n",
      "ERROR!!! Pos class completely filtered out\n",
      "ERROR!!! Pos class completely filtered out\n",
      "ERROR!!! Pos class completely filtered out\n",
      "ERROR!!! Pos class completely filtered out\n"
     ]
    },
    {
     "name": "stderr",
     "output_type": "stream",
     "text": [
      "/home/shihab/anaconda3/envs/ana/lib/python3.7/site-packages/sklearn/metrics/_classification.py:896: RuntimeWarning: invalid value encountered in double_scalars\n",
      "  mcc = cov_ytyp / np.sqrt(cov_ytyt * cov_ypyp)\n"
     ]
    },
    {
     "name": "stdout",
     "output_type": "stream",
     "text": [
      "ERROR!!! Pos class completely filtered out\n",
      "ERROR!!! Pos class completely filtered out\n",
      "ERROR!!! Pos class completely filtered out\n",
      "ERROR!!! Pos class completely filtered out\n",
      "ERROR!!! Pos class completely filtered out\n",
      "ERROR!!! Pos class completely filtered out\n",
      "ERROR!!! Pos class completely filtered out\n",
      "6.62 [-0.004, 0.359]\n",
      "('tomek', 'svm')\n",
      "ERROR!!! Pos class completely filtered out\n",
      "ERROR!!! Pos class completely filtered out\n",
      "ERROR!!! Pos class completely filtered out\n",
      "ERROR!!! Pos class completely filtered out\n",
      "ERROR!!! Pos class completely filtered out\n",
      "ERROR!!! Pos class completely filtered out\n",
      "ERROR!!! Pos class completely filtered out\n",
      "ERROR!!! Pos class completely filtered out\n",
      "ERROR!!! Pos class completely filtered out\n",
      "ERROR!!! Pos class completely filtered out\n",
      "ERROR!!! Pos class completely filtered out\n",
      "ERROR!!! Pos class completely filtered out\n",
      "ERROR!!! Pos class completely filtered out\n",
      "ERROR!!! Pos class completely filtered out\n",
      "ERROR!!! Pos class completely filtered out\n",
      "ERROR!!! Pos class completely filtered out\n",
      "ERROR!!! Pos class completely filtered out\n",
      "ERROR!!! Pos class completely filtered out\n",
      "ERROR!!! Pos class completely filtered out\n",
      "ERROR!!! Pos class completely filtered out\n",
      "ERROR!!! Pos class completely filtered out\n",
      "ERROR!!! Pos class completely filtered out\n",
      "ERROR!!! Pos class completely filtered out\n",
      "ERROR!!! Pos class completely filtered out\n",
      "ERROR!!! Pos class completely filtered out\n",
      "5.76 [0.0, 0.0]\n",
      "('tomek', 'knn')\n",
      "ERROR!!! Pos class completely filtered out\n",
      "ERROR!!! Pos class completely filtered out\n",
      "ERROR!!! Pos class completely filtered out\n",
      "ERROR!!! Pos class completely filtered out\n",
      "ERROR!!! Pos class completely filtered out\n",
      "ERROR!!! Pos class completely filtered out\n",
      "ERROR!!! Pos class completely filtered out\n",
      "ERROR!!! Pos class completely filtered out\n",
      "ERROR!!! Pos class completely filtered out\n",
      "ERROR!!! Pos class completely filtered out\n",
      "ERROR!!! Pos class completely filtered out\n",
      "ERROR!!! Pos class completely filtered out\n",
      "ERROR!!! Pos class completely filtered out\n"
     ]
    },
    {
     "name": "stderr",
     "output_type": "stream",
     "text": [
      "/home/shihab/anaconda3/envs/ana/lib/python3.7/site-packages/sklearn/metrics/_classification.py:896: RuntimeWarning: invalid value encountered in double_scalars\n",
      "  mcc = cov_ytyp / np.sqrt(cov_ytyt * cov_ypyp)\n"
     ]
    },
    {
     "name": "stdout",
     "output_type": "stream",
     "text": [
      "ERROR!!! Pos class completely filtered out\n",
      "ERROR!!! Pos class completely filtered out\n",
      "ERROR!!! Pos class completely filtered out\n",
      "ERROR!!! Pos class completely filtered out\n",
      "ERROR!!! Pos class completely filtered out\n",
      "ERROR!!! Pos class completely filtered out\n",
      "ERROR!!! Pos class completely filtered out\n",
      "ERROR!!! Pos class completely filtered out\n",
      "ERROR!!! Pos class completely filtered out\n",
      "ERROR!!! Pos class completely filtered out\n",
      "5.88 [0.116, 0.498]\n",
      "('tomek', 'rf')\n",
      "ERROR!!! Pos class completely filtered out\n",
      "ERROR!!! Pos class completely filtered out\n",
      "ERROR!!! Pos class completely filtered out\n",
      "ERROR!!! Pos class completely filtered out\n",
      "ERROR!!! Pos class completely filtered out\n",
      "ERROR!!! Pos class completely filtered out\n",
      "ERROR!!! Pos class completely filtered out\n",
      "ERROR!!! Pos class completely filtered out\n",
      "ERROR!!! Pos class completely filtered out\n"
     ]
    },
    {
     "name": "stderr",
     "output_type": "stream",
     "text": [
      "/home/shihab/anaconda3/envs/ana/lib/python3.7/site-packages/sklearn/metrics/_classification.py:896: RuntimeWarning: invalid value encountered in double_scalars\n",
      "  mcc = cov_ytyp / np.sqrt(cov_ytyt * cov_ypyp)\n"
     ]
    },
    {
     "name": "stdout",
     "output_type": "stream",
     "text": [
      "ERROR!!! Pos class completely filtered out\n"
     ]
    },
    {
     "name": "stderr",
     "output_type": "stream",
     "text": [
      "/home/shihab/anaconda3/envs/ana/lib/python3.7/site-packages/sklearn/metrics/_classification.py:896: RuntimeWarning: invalid value encountered in double_scalars\n",
      "  mcc = cov_ytyp / np.sqrt(cov_ytyt * cov_ypyp)\n"
     ]
    },
    {
     "name": "stdout",
     "output_type": "stream",
     "text": [
      "ERROR!!! Pos class completely filtered out\n",
      "ERROR!!! Pos class completely filtered out\n",
      "ERROR!!! Pos class completely filtered out\n",
      "ERROR!!! Pos class completely filtered out\n",
      "ERROR!!! Pos class completely filtered out\n",
      "ERROR!!! Pos class completely filtered out\n",
      "ERROR!!! Pos class completely filtered out\n",
      "ERROR!!! Pos class completely filtered out\n",
      "ERROR!!! Pos class completely filtered out\n",
      "ERROR!!! Pos class completely filtered out\n",
      "ERROR!!! Pos class completely filtered out\n",
      "ERROR!!! Pos class completely filtered out\n",
      "ERROR!!! Pos class completely filtered out\n",
      "4.88 [0.0, 0.409]\n",
      "('None', 'dt')\n",
      "ERROR!!! Pos class completely filtered out\n",
      "ERROR!!! Pos class completely filtered out\n",
      "ERROR!!! Pos class completely filtered out\n",
      "ERROR!!! Pos class completely filtered out\n",
      "ERROR!!! Pos class completely filtered out\n",
      "ERROR!!! Pos class completely filtered out\n",
      "ERROR!!! Pos class completely filtered out\n",
      "ERROR!!! Pos class completely filtered out\n",
      "ERROR!!! Pos class completely filtered out\n",
      "ERROR!!! Pos class completely filtered out\n",
      "ERROR!!! Pos class completely filtered out\n",
      "ERROR!!! Pos class completely filtered out\n",
      "ERROR!!! Pos class completely filtered out\n",
      "ERROR!!! Pos class completely filtered out\n",
      "ERROR!!! Pos class completely filtered out\n",
      "ERROR!!! Pos class completely filtered out\n",
      "ERROR!!! Pos class completely filtered out\n",
      "ERROR!!! Pos class completely filtered out\n",
      "ERROR!!! Pos class completely filtered out\n",
      "ERROR!!! Pos class completely filtered out\n",
      "ERROR!!! Pos class completely filtered out\n",
      "ERROR!!! Pos class completely filtered out\n",
      "ERROR!!! Pos class completely filtered out\n",
      "ERROR!!! Pos class completely filtered out\n",
      "ERROR!!! Pos class completely filtered out\n",
      "0.46 [0.0, 0.0]\n",
      "('None', 'lr')\n",
      "ERROR!!! Pos class completely filtered out\n",
      "ERROR!!! Pos class completely filtered out\n",
      "ERROR!!! Pos class completely filtered out\n",
      "ERROR!!! Pos class completely filtered out\n",
      "ERROR!!! Pos class completely filtered out\n",
      "ERROR!!! Pos class completely filtered out\n",
      "ERROR!!! Pos class completely filtered out\n",
      "ERROR!!! Pos class completely filtered out\n",
      "ERROR!!! Pos class completely filtered out\n",
      "ERROR!!! Pos class completely filtered out\n",
      "ERROR!!! Pos class completely filtered out\n",
      "ERROR!!! Pos class completely filtered out\n",
      "ERROR!!! Pos class completely filtered out\n",
      "ERROR!!! Pos class completely filtered out\n",
      "ERROR!!! Pos class completely filtered out\n",
      "ERROR!!! Pos class completely filtered out\n",
      "ERROR!!! Pos class completely filtered out\n",
      "ERROR!!! Pos class completely filtered out\n"
     ]
    },
    {
     "name": "stderr",
     "output_type": "stream",
     "text": [
      "/home/shihab/anaconda3/envs/ana/lib/python3.7/site-packages/sklearn/metrics/_classification.py:896: RuntimeWarning: invalid value encountered in double_scalars\n",
      "  mcc = cov_ytyp / np.sqrt(cov_ytyt * cov_ypyp)\n"
     ]
    },
    {
     "name": "stdout",
     "output_type": "stream",
     "text": [
      "ERROR!!! Pos class completely filtered out\n",
      "ERROR!!! Pos class completely filtered out\n",
      "ERROR!!! Pos class completely filtered out\n",
      "ERROR!!! Pos class completely filtered out\n",
      "ERROR!!! Pos class completely filtered out\n",
      "ERROR!!! Pos class completely filtered out\n",
      "0.52 [0.0, 0.123]\n",
      "('None', 'nb')\n",
      "ERROR!!! Pos class completely filtered out\n",
      "ERROR!!! Pos class completely filtered out\n",
      "ERROR!!! Pos class completely filtered out\n",
      "ERROR!!! Pos class completely filtered out\n",
      "ERROR!!! Pos class completely filtered out\n",
      "ERROR!!! Pos class completely filtered out\n",
      "ERROR!!! Pos class completely filtered out\n",
      "ERROR!!! Pos class completely filtered out\n",
      "ERROR!!! Pos class completely filtered out\n",
      "ERROR!!! Pos class completely filtered out\n",
      "ERROR!!! Pos class completely filtered out\n",
      "ERROR!!! Pos class completely filtered out\n",
      "ERROR!!! Pos class completely filtered out\n",
      "ERROR!!! Pos class completely filtered out\n",
      "ERROR!!! Pos class completely filtered out\n",
      "ERROR!!! Pos class completely filtered out\n",
      "ERROR!!! Pos class completely filtered out\n",
      "ERROR!!! Pos class completely filtered out\n",
      "ERROR!!! Pos class completely filtered out\n",
      "ERROR!!! Pos class completely filtered out\n",
      "ERROR!!! Pos class completely filtered out\n",
      "ERROR!!! Pos class completely filtered out\n",
      "ERROR!!! Pos class completely filtered out\n",
      "0.46 [-0.005, 0.272]\n",
      "('None', 'svm')\n",
      "ERROR!!! Pos class completely filtered out\n",
      "ERROR!!! Pos class completely filtered out\n"
     ]
    },
    {
     "name": "stderr",
     "output_type": "stream",
     "text": [
      "/home/shihab/anaconda3/envs/ana/lib/python3.7/site-packages/sklearn/metrics/_classification.py:896: RuntimeWarning: invalid value encountered in double_scalars\n",
      "  mcc = cov_ytyp / np.sqrt(cov_ytyt * cov_ypyp)\n"
     ]
    },
    {
     "name": "stdout",
     "output_type": "stream",
     "text": [
      "ERROR!!! Pos class completely filtered out\n",
      "ERROR!!! Pos class completely filtered out\n",
      "ERROR!!! Pos class completely filtered out\n",
      "ERROR!!! Pos class completely filtered out\n",
      "ERROR!!! Pos class completely filtered out\n",
      "ERROR!!! Pos class completely filtered out\n",
      "ERROR!!! Pos class completely filtered out\n",
      "ERROR!!! Pos class completely filtered out\n",
      "ERROR!!! Pos class completely filtered out\n",
      "ERROR!!! Pos class completely filtered out\n",
      "ERROR!!! Pos class completely filtered out\n",
      "ERROR!!! Pos class completely filtered out\n",
      "ERROR!!! Pos class completely filtered out\n",
      "ERROR!!! Pos class completely filtered out\n",
      "ERROR!!! Pos class completely filtered out\n",
      "ERROR!!! Pos class completely filtered out\n",
      "ERROR!!! Pos class completely filtered out\n",
      "ERROR!!! Pos class completely filtered out\n",
      "ERROR!!! Pos class completely filtered out\n",
      "ERROR!!! Pos class completely filtered out\n",
      "ERROR!!! Pos class completely filtered out\n",
      "ERROR!!! Pos class completely filtered out\n",
      "ERROR!!! Pos class completely filtered out\n",
      "0.45 [0.0, 0.0]\n",
      "('None', 'knn')\n",
      "ERROR!!! Pos class completely filtered out\n",
      "ERROR!!! Pos class completely filtered out\n",
      "ERROR!!! Pos class completely filtered out\n",
      "ERROR!!! Pos class completely filtered out\n",
      "ERROR!!! Pos class completely filtered out\n",
      "ERROR!!! Pos class completely filtered out\n",
      "ERROR!!! Pos class completely filtered out\n",
      "ERROR!!! Pos class completely filtered out\n"
     ]
    },
    {
     "name": "stderr",
     "output_type": "stream",
     "text": [
      "/home/shihab/anaconda3/envs/ana/lib/python3.7/site-packages/sklearn/metrics/_classification.py:896: RuntimeWarning: invalid value encountered in double_scalars\n",
      "  mcc = cov_ytyp / np.sqrt(cov_ytyt * cov_ypyp)\n"
     ]
    },
    {
     "name": "stdout",
     "output_type": "stream",
     "text": [
      "ERROR!!! Pos class completely filtered out\n",
      "ERROR!!! Pos class completely filtered out\n",
      "ERROR!!! Pos class completely filtered out\n",
      "ERROR!!! Pos class completely filtered out\n",
      "ERROR!!! Pos class completely filtered out\n",
      "ERROR!!! Pos class completely filtered out\n",
      "ERROR!!! Pos class completely filtered out\n",
      "ERROR!!! Pos class completely filtered out\n",
      "ERROR!!! Pos class completely filtered out\n",
      "ERROR!!! Pos class completely filtered out\n",
      "ERROR!!! Pos class completely filtered out\n",
      "ERROR!!! Pos class completely filtered out\n",
      "ERROR!!! Pos class completely filtered out\n",
      "ERROR!!! Pos class completely filtered out\n",
      "ERROR!!! Pos class completely filtered out\n",
      "0.55 [0.098, 0.529]\n",
      "('None', 'rf')\n",
      "ERROR!!! Pos class completely filtered out\n",
      "ERROR!!! Pos class completely filtered out\n",
      "ERROR!!! Pos class completely filtered out\n",
      "ERROR!!! Pos class completely filtered out\n",
      "ERROR!!! Pos class completely filtered out\n"
     ]
    },
    {
     "name": "stderr",
     "output_type": "stream",
     "text": [
      "/home/shihab/anaconda3/envs/ana/lib/python3.7/site-packages/sklearn/metrics/_classification.py:896: RuntimeWarning: invalid value encountered in double_scalars\n",
      "  mcc = cov_ytyp / np.sqrt(cov_ytyt * cov_ypyp)\n"
     ]
    },
    {
     "name": "stdout",
     "output_type": "stream",
     "text": [
      "ERROR!!! Pos class completely filtered out\n",
      "ERROR!!! Pos class completely filtered out\n",
      "ERROR!!! Pos class completely filtered out\n",
      "ERROR!!! Pos class completely filtered out\n",
      "ERROR!!! Pos class completely filtered out\n",
      "ERROR!!! Pos class completely filtered out\n",
      "ERROR!!! Pos class completely filtered out\n",
      "ERROR!!! Pos class completely filtered out\n",
      "ERROR!!! Pos class completely filtered out\n",
      "ERROR!!! Pos class completely filtered out\n",
      "ERROR!!! Pos class completely filtered out\n",
      "ERROR!!! Pos class completely filtered out\n",
      "ERROR!!! Pos class completely filtered out\n",
      "ERROR!!! Pos class completely filtered out\n",
      "ERROR!!! Pos class completely filtered out\n",
      "ERROR!!! Pos class completely filtered out\n",
      "ERROR!!! Pos class completely filtered out\n",
      "ERROR!!! Pos class completely filtered out\n",
      "ERROR!!! Pos class completely filtered out\n",
      "0.53 [0.0, 0.561]\n",
      "('ens', 'rboost_DT')\n",
      "1.27 [0.214, 0.421]\n",
      "('ens', 'rboost_NB')\n",
      "1.13 [0.199, 0.445]\n",
      "('ens', 'bbag_DT')\n",
      "20.02 [0.215, 0.302]\n",
      "('ens', 'bbag_NB')\n",
      "ERROR!!! Pos class completely filtered out\n",
      "19.51 [0.206, 0.34]\n",
      "\n",
      "lucene-3.1.csv noise:0.120, imb:7.477,331,2475, Shape:(2806, 65)\n",
      "('smote', 'dt')\n",
      "2.77 [0.167, 0.328]\n",
      "('smote', 'lr')\n",
      "5.43 [0.168, 0.203]\n",
      "('smote', 'nb')\n",
      "2.43 [0.188, 0.288]\n",
      "('smote', 'svm')\n",
      "22.89 [0.165, 0.138]\n",
      "('smote', 'knn')\n",
      "4.2 [0.179, 0.306]\n",
      "('smote', 'rf')\n",
      "7.62 [0.169, 0.2]\n",
      "('rus', 'dt')\n",
      "0.61 [0.158, 0.352]\n",
      "('rus', 'lr')\n",
      "1.03 [0.161, 0.204]\n",
      "('rus', 'nb')\n",
      "0.58 [0.187, 0.31]\n",
      "('rus', 'svm')\n",
      "1.14 [0.159, 0.146]\n",
      "('rus', 'knn')\n",
      "0.9 [0.162, 0.318]\n",
      "('rus', 'rf')\n",
      "2.01 [0.156, 0.243]\n",
      "('wilson', 'dt')\n",
      "6.27 [0.174, 0.258]\n",
      "('wilson', 'lr')\n",
      "7.67 [0.199, 0.214]\n",
      "('wilson', 'nb')\n",
      "6.46 [0.175, 0.277]\n",
      "('wilson', 'svm')\n",
      "9.1 [0.203, 0.167]\n",
      "('wilson', 'knn')\n",
      "7.58 [0.192, 0.226]\n",
      "('wilson', 'rf')\n",
      "8.58 [0.176, 0.163]\n",
      "('tomek', 'dt')\n",
      "5.91 [0.185, 0.238]\n",
      "('tomek', 'lr')\n",
      "ERROR!!! Pos class completely filtered out\n",
      "7.0 [0.184, 0.203]\n",
      "('tomek', 'nb')\n",
      "ERROR!!! Pos class completely filtered out\n",
      "5.84 [0.184, 0.265]\n",
      "('tomek', 'svm')\n",
      "7.94 [0.182, 0.172]\n",
      "('tomek', 'knn')\n",
      "6.99 [0.196, 0.206]\n",
      "('tomek', 'rf')\n",
      "7.6 [0.193, 0.195]\n",
      "('None', 'dt')\n"
     ]
    },
    {
     "name": "stderr",
     "output_type": "stream",
     "text": [
      "/home/shihab/anaconda3/envs/ana/lib/python3.7/site-packages/sklearn/metrics/_classification.py:896: RuntimeWarning: invalid value encountered in double_scalars\n",
      "  mcc = cov_ytyp / np.sqrt(cov_ytyt * cov_ypyp)\n"
     ]
    },
    {
     "name": "stdout",
     "output_type": "stream",
     "text": [
      "ERROR!!! Pos class completely filtered out\n",
      "ERROR!!! Pos class completely filtered out\n",
      "0.92 [0.199, 0.277]\n",
      "('None', 'lr')\n"
     ]
    },
    {
     "name": "stderr",
     "output_type": "stream",
     "text": [
      "/home/shihab/anaconda3/envs/ana/lib/python3.7/site-packages/sklearn/metrics/_classification.py:896: RuntimeWarning: invalid value encountered in double_scalars\n",
      "  mcc = cov_ytyp / np.sqrt(cov_ytyt * cov_ypyp)\n"
     ]
    },
    {
     "name": "stdout",
     "output_type": "stream",
     "text": [
      "2.01 [0.179, 0.198]\n",
      "('None', 'nb')\n",
      "0.94 [0.197, 0.251]\n",
      "('None', 'svm')\n",
      "ERROR!!! Pos class completely filtered out\n",
      "ERROR!!! Pos class completely filtered out\n",
      "2.69 [0.176, 0.169]\n",
      "('None', 'knn')\n",
      "ERROR!!! Pos class completely filtered out\n"
     ]
    },
    {
     "name": "stderr",
     "output_type": "stream",
     "text": [
      "/home/shihab/anaconda3/envs/ana/lib/python3.7/site-packages/sklearn/metrics/_classification.py:896: RuntimeWarning: invalid value encountered in double_scalars\n",
      "  mcc = cov_ytyp / np.sqrt(cov_ytyt * cov_ypyp)\n"
     ]
    },
    {
     "name": "stdout",
     "output_type": "stream",
     "text": [
      "2.39 [0.173, 0.214]\n",
      "('None', 'rf')\n",
      "ERROR!!! Pos class completely filtered out\n",
      "ERROR!!! Pos class completely filtered out\n",
      "ERROR!!! Pos class completely filtered out\n",
      "2.78 [0.184, 0.191]\n",
      "('ens', 'rboost_DT')\n",
      "2.47 [0.148, 0.314]\n",
      "('ens', 'rboost_NB')\n",
      "2.12 [0.177, 0.364]\n",
      "('ens', 'bbag_DT')\n",
      "28.39 [0.168, 0.23]\n",
      "('ens', 'bbag_NB')\n",
      "28.05 [0.195, 0.272]\n",
      "\n",
      "groovy-1_6_BETA_2.csv noise:0.096, imb:7.583,103,781, Shape:(884, 65)\n",
      "('smote', 'dt')\n",
      "1.06 [0.299, 0.452]\n",
      "('smote', 'lr')\n",
      "2.13 [0.293, 0.318]\n",
      "('smote', 'nb')\n",
      "1.0 [0.262, 0.397]\n",
      "('smote', 'svm')\n",
      "3.6 [0.304, 0.281]\n",
      "('smote', 'knn')\n",
      "1.15 [0.331, 0.491]\n",
      "('smote', 'rf')\n",
      "3.05 [0.349, 0.421]\n",
      "('rus', 'dt')\n",
      "0.44 [0.204, 0.42]\n",
      "('rus', 'lr')\n",
      "0.72 [0.242, 0.323]\n",
      "('rus', 'nb')\n",
      "0.47 [0.231, 0.418]\n",
      "('rus', 'svm')\n",
      "0.49 [0.24, 0.262]\n",
      "('rus', 'knn')\n",
      "0.5 [0.264, 0.434]\n",
      "('rus', 'rf')\n",
      "1.63 [0.212, 0.367]\n",
      "('wilson', 'dt')\n",
      "1.12 [0.249, 0.348]\n",
      "('wilson', 'lr')\n",
      "1.46 [0.305, 0.328]\n",
      "('wilson', 'nb')\n",
      "ERROR!!! Pos class completely filtered out\n",
      "1.09 [0.268, 0.378]\n",
      "('wilson', 'svm')\n",
      "1.35 [0.29, 0.295]\n",
      "('wilson', 'knn')\n",
      "1.23 [0.298, 0.362]\n",
      "('wilson', 'rf')\n",
      "ERROR!!! Pos class completely filtered out\n",
      "2.31 [0.251, 0.323]\n",
      "('tomek', 'dt')\n",
      "ERROR!!! Pos class completely filtered out\n",
      "ERROR!!! Pos class completely filtered out\n",
      "ERROR!!! Pos class completely filtered out\n",
      "ERROR!!! Pos class completely filtered out\n"
     ]
    },
    {
     "name": "stderr",
     "output_type": "stream",
     "text": [
      "/home/shihab/anaconda3/envs/ana/lib/python3.7/site-packages/sklearn/metrics/_classification.py:896: RuntimeWarning: invalid value encountered in double_scalars\n",
      "  mcc = cov_ytyp / np.sqrt(cov_ytyt * cov_ypyp)\n",
      "/home/shihab/anaconda3/envs/ana/lib/python3.7/site-packages/sklearn/metrics/_classification.py:896: RuntimeWarning: invalid value encountered in double_scalars\n",
      "  mcc = cov_ytyp / np.sqrt(cov_ytyt * cov_ypyp)\n"
     ]
    },
    {
     "name": "stdout",
     "output_type": "stream",
     "text": [
      "1.07 [0.175, 0.331]\n",
      "('tomek', 'lr')\n"
     ]
    },
    {
     "name": "stderr",
     "output_type": "stream",
     "text": [
      "/home/shihab/anaconda3/envs/ana/lib/python3.7/site-packages/sklearn/metrics/_classification.py:896: RuntimeWarning: invalid value encountered in double_scalars\n",
      "  mcc = cov_ytyp / np.sqrt(cov_ytyt * cov_ypyp)\n"
     ]
    },
    {
     "name": "stdout",
     "output_type": "stream",
     "text": [
      "ERROR!!! Pos class completely filtered out\n",
      "ERROR!!! Pos class completely filtered out\n",
      "1.46 [0.229, 0.316]\n",
      "('tomek', 'nb')\n"
     ]
    },
    {
     "name": "stderr",
     "output_type": "stream",
     "text": [
      "/home/shihab/anaconda3/envs/ana/lib/python3.7/site-packages/sklearn/metrics/_classification.py:896: RuntimeWarning: invalid value encountered in double_scalars\n",
      "  mcc = cov_ytyp / np.sqrt(cov_ytyt * cov_ypyp)\n"
     ]
    },
    {
     "name": "stdout",
     "output_type": "stream",
     "text": [
      "ERROR!!! Pos class completely filtered out\n",
      "ERROR!!! Pos class completely filtered out\n"
     ]
    },
    {
     "name": "stderr",
     "output_type": "stream",
     "text": [
      "/home/shihab/anaconda3/envs/ana/lib/python3.7/site-packages/sklearn/metrics/_classification.py:896: RuntimeWarning: invalid value encountered in double_scalars\n",
      "  mcc = cov_ytyp / np.sqrt(cov_ytyt * cov_ypyp)\n",
      "/home/shihab/anaconda3/envs/ana/lib/python3.7/site-packages/sklearn/metrics/_classification.py:896: RuntimeWarning: invalid value encountered in double_scalars\n",
      "  mcc = cov_ytyp / np.sqrt(cov_ytyt * cov_ypyp)\n"
     ]
    },
    {
     "name": "stdout",
     "output_type": "stream",
     "text": [
      "ERROR!!! Pos class completely filtered out\n",
      "ERROR!!! Pos class completely filtered out\n",
      "ERROR!!! Pos class completely filtered out\n",
      "ERROR!!! Pos class completely filtered out\n",
      "1.06 [0.219, 0.315]\n",
      "('tomek', 'svm')\n"
     ]
    },
    {
     "name": "stderr",
     "output_type": "stream",
     "text": [
      "/home/shihab/anaconda3/envs/ana/lib/python3.7/site-packages/sklearn/metrics/_classification.py:896: RuntimeWarning: invalid value encountered in double_scalars\n",
      "  mcc = cov_ytyp / np.sqrt(cov_ytyt * cov_ypyp)\n"
     ]
    },
    {
     "name": "stdout",
     "output_type": "stream",
     "text": [
      "ERROR!!! Pos class completely filtered out\n",
      "ERROR!!! Pos class completely filtered out\n"
     ]
    },
    {
     "name": "stderr",
     "output_type": "stream",
     "text": [
      "/home/shihab/anaconda3/envs/ana/lib/python3.7/site-packages/sklearn/metrics/_classification.py:896: RuntimeWarning: invalid value encountered in double_scalars\n",
      "  mcc = cov_ytyp / np.sqrt(cov_ytyt * cov_ypyp)\n"
     ]
    },
    {
     "name": "stdout",
     "output_type": "stream",
     "text": [
      "ERROR!!! Pos class completely filtered out\n",
      "ERROR!!! Pos class completely filtered out\n"
     ]
    },
    {
     "name": "stderr",
     "output_type": "stream",
     "text": [
      "/home/shihab/anaconda3/envs/ana/lib/python3.7/site-packages/sklearn/metrics/_classification.py:896: RuntimeWarning: invalid value encountered in double_scalars\n",
      "  mcc = cov_ytyp / np.sqrt(cov_ytyt * cov_ypyp)\n"
     ]
    },
    {
     "name": "stdout",
     "output_type": "stream",
     "text": [
      "1.25 [0.192, 0.229]\n",
      "('tomek', 'knn')\n"
     ]
    },
    {
     "name": "stderr",
     "output_type": "stream",
     "text": [
      "/home/shihab/anaconda3/envs/ana/lib/python3.7/site-packages/sklearn/metrics/_classification.py:896: RuntimeWarning: invalid value encountered in double_scalars\n",
      "  mcc = cov_ytyp / np.sqrt(cov_ytyt * cov_ypyp)\n",
      "/home/shihab/anaconda3/envs/ana/lib/python3.7/site-packages/sklearn/metrics/_classification.py:896: RuntimeWarning: invalid value encountered in double_scalars\n",
      "  mcc = cov_ytyp / np.sqrt(cov_ytyt * cov_ypyp)\n",
      "/home/shihab/anaconda3/envs/ana/lib/python3.7/site-packages/sklearn/metrics/_classification.py:896: RuntimeWarning: invalid value encountered in double_scalars\n",
      "  mcc = cov_ytyp / np.sqrt(cov_ytyt * cov_ypyp)\n"
     ]
    },
    {
     "name": "stdout",
     "output_type": "stream",
     "text": [
      "ERROR!!! Pos class completely filtered out\n"
     ]
    },
    {
     "name": "stderr",
     "output_type": "stream",
     "text": [
      "/home/shihab/anaconda3/envs/ana/lib/python3.7/site-packages/sklearn/metrics/_classification.py:896: RuntimeWarning: invalid value encountered in double_scalars\n",
      "  mcc = cov_ytyp / np.sqrt(cov_ytyt * cov_ypyp)\n"
     ]
    },
    {
     "name": "stdout",
     "output_type": "stream",
     "text": [
      "ERROR!!! Pos class completely filtered out\n",
      "ERROR!!! Pos class completely filtered out\n",
      "ERROR!!! Pos class completely filtered out\n",
      "1.24 [0.192, 0.386]\n",
      "('tomek', 'rf')\n",
      "ERROR!!! Pos class completely filtered out\n"
     ]
    },
    {
     "name": "stderr",
     "output_type": "stream",
     "text": [
      "/home/shihab/anaconda3/envs/ana/lib/python3.7/site-packages/sklearn/metrics/_classification.py:896: RuntimeWarning: invalid value encountered in double_scalars\n",
      "  mcc = cov_ytyp / np.sqrt(cov_ytyt * cov_ypyp)\n",
      "/home/shihab/anaconda3/envs/ana/lib/python3.7/site-packages/sklearn/metrics/_classification.py:896: RuntimeWarning: invalid value encountered in double_scalars\n",
      "  mcc = cov_ytyp / np.sqrt(cov_ytyt * cov_ypyp)\n"
     ]
    },
    {
     "name": "stdout",
     "output_type": "stream",
     "text": [
      "ERROR!!! Pos class completely filtered out\n",
      "ERROR!!! Pos class completely filtered out\n",
      "ERROR!!! Pos class completely filtered out\n",
      "ERROR!!! Pos class completely filtered out\n"
     ]
    },
    {
     "name": "stderr",
     "output_type": "stream",
     "text": [
      "/home/shihab/anaconda3/envs/ana/lib/python3.7/site-packages/sklearn/metrics/_classification.py:896: RuntimeWarning: invalid value encountered in double_scalars\n",
      "  mcc = cov_ytyp / np.sqrt(cov_ytyt * cov_ypyp)\n",
      "/home/shihab/anaconda3/envs/ana/lib/python3.7/site-packages/sklearn/metrics/_classification.py:896: RuntimeWarning: invalid value encountered in double_scalars\n",
      "  mcc = cov_ytyp / np.sqrt(cov_ytyt * cov_ypyp)\n"
     ]
    },
    {
     "name": "stdout",
     "output_type": "stream",
     "text": [
      "ERROR!!! Pos class completely filtered out\n",
      "2.02 [0.126, 0.274]\n",
      "('None', 'dt')\n",
      "ERROR!!! Pos class completely filtered out\n"
     ]
    },
    {
     "name": "stderr",
     "output_type": "stream",
     "text": [
      "/home/shihab/anaconda3/envs/ana/lib/python3.7/site-packages/sklearn/metrics/_classification.py:896: RuntimeWarning: invalid value encountered in double_scalars\n",
      "  mcc = cov_ytyp / np.sqrt(cov_ytyt * cov_ypyp)\n"
     ]
    },
    {
     "name": "stdout",
     "output_type": "stream",
     "text": [
      "ERROR!!! Pos class completely filtered out\n",
      "ERROR!!! Pos class completely filtered out\n",
      "ERROR!!! Pos class completely filtered out\n",
      "0.45"
     ]
    },
    {
     "name": "stderr",
     "output_type": "stream",
     "text": [
      "/home/shihab/anaconda3/envs/ana/lib/python3.7/site-packages/sklearn/metrics/_classification.py:896: RuntimeWarning: invalid value encountered in double_scalars\n",
      "  mcc = cov_ytyp / np.sqrt(cov_ytyt * cov_ypyp)\n"
     ]
    },
    {
     "name": "stdout",
     "output_type": "stream",
     "text": [
      " [0.173, 0.341]\n",
      "('None', 'lr')\n",
      "ERROR!!! Pos class completely filtered out\n"
     ]
    },
    {
     "name": "stderr",
     "output_type": "stream",
     "text": [
      "/home/shihab/anaconda3/envs/ana/lib/python3.7/site-packages/sklearn/metrics/_classification.py:896: RuntimeWarning: invalid value encountered in double_scalars\n",
      "  mcc = cov_ytyp / np.sqrt(cov_ytyt * cov_ypyp)\n",
      "/home/shihab/anaconda3/envs/ana/lib/python3.7/site-packages/sklearn/metrics/_classification.py:896: RuntimeWarning: invalid value encountered in double_scalars\n",
      "  mcc = cov_ytyp / np.sqrt(cov_ytyt * cov_ypyp)\n"
     ]
    },
    {
     "name": "stdout",
     "output_type": "stream",
     "text": [
      "ERROR!!! Pos class completely filtered out\n",
      "ERROR!!! Pos class completely filtered out\n",
      "0.78 [0.244, 0.325]\n",
      "('None', 'nb')\n",
      "ERROR!!! Pos class completely filtered out\n",
      "ERROR!!! Pos class completely filtered out\n",
      "ERROR!!! Pos class completely filtered out\n",
      "ERROR!!! Pos class completely filtered out\n",
      "ERROR!!! Pos class completely filtered out\n",
      "0.42 [0.215, 0.38]\n",
      "('None', 'svm')\n",
      "ERROR!!! Pos class completely filtered out\n",
      "ERROR!!! Pos class completely filtered out\n"
     ]
    },
    {
     "name": "stderr",
     "output_type": "stream",
     "text": [
      "/home/shihab/anaconda3/envs/ana/lib/python3.7/site-packages/sklearn/metrics/_classification.py:896: RuntimeWarning: invalid value encountered in double_scalars\n",
      "  mcc = cov_ytyp / np.sqrt(cov_ytyt * cov_ypyp)\n",
      "/home/shihab/anaconda3/envs/ana/lib/python3.7/site-packages/sklearn/metrics/_classification.py:896: RuntimeWarning: invalid value encountered in double_scalars\n",
      "  mcc = cov_ytyp / np.sqrt(cov_ytyt * cov_ypyp)\n"
     ]
    },
    {
     "name": "stdout",
     "output_type": "stream",
     "text": [
      "ERROR!!! Pos class completely filtered out\n",
      "ERROR!!! Pos class completely filtered out\n"
     ]
    },
    {
     "name": "stderr",
     "output_type": "stream",
     "text": [
      "/home/shihab/anaconda3/envs/ana/lib/python3.7/site-packages/sklearn/metrics/_classification.py:896: RuntimeWarning: invalid value encountered in double_scalars\n",
      "  mcc = cov_ytyp / np.sqrt(cov_ytyt * cov_ypyp)\n"
     ]
    },
    {
     "name": "stdout",
     "output_type": "stream",
     "text": [
      "ERROR!!! Pos class completely filtered out\n",
      "ERROR!!! Pos class completely filtered out\n",
      "0.6 [0.181, 0.229]\n",
      "('None', 'knn')\n",
      "ERROR!!! Pos class completely filtered out\n"
     ]
    },
    {
     "name": "stderr",
     "output_type": "stream",
     "text": [
      "/home/shihab/anaconda3/envs/ana/lib/python3.7/site-packages/sklearn/metrics/_classification.py:896: RuntimeWarning: invalid value encountered in double_scalars\n",
      "  mcc = cov_ytyp / np.sqrt(cov_ytyt * cov_ypyp)\n",
      "/home/shihab/anaconda3/envs/ana/lib/python3.7/site-packages/sklearn/metrics/_classification.py:896: RuntimeWarning: invalid value encountered in double_scalars\n",
      "  mcc = cov_ytyp / np.sqrt(cov_ytyt * cov_ypyp)\n",
      "/home/shihab/anaconda3/envs/ana/lib/python3.7/site-packages/sklearn/metrics/_classification.py:896: RuntimeWarning: invalid value encountered in double_scalars\n",
      "  mcc = cov_ytyp / np.sqrt(cov_ytyt * cov_ypyp)\n"
     ]
    },
    {
     "name": "stdout",
     "output_type": "stream",
     "text": [
      "ERROR!!! Pos class completely filtered out\n",
      "ERROR!!! Pos class completely filtered out\n",
      "ERROR!!! Pos class completely filtered out\n"
     ]
    },
    {
     "name": "stderr",
     "output_type": "stream",
     "text": [
      "/home/shihab/anaconda3/envs/ana/lib/python3.7/site-packages/sklearn/metrics/_classification.py:896: RuntimeWarning: invalid value encountered in double_scalars\n",
      "  mcc = cov_ytyp / np.sqrt(cov_ytyt * cov_ypyp)\n",
      "/home/shihab/anaconda3/envs/ana/lib/python3.7/site-packages/sklearn/metrics/_classification.py:896: RuntimeWarning: invalid value encountered in double_scalars\n",
      "  mcc = cov_ytyp / np.sqrt(cov_ytyt * cov_ypyp)\n"
     ]
    },
    {
     "name": "stdout",
     "output_type": "stream",
     "text": [
      "ERROR!!! Pos class completely filtered out\n",
      "ERROR!!! Pos class completely filtered out\n",
      "ERROR!!! Pos class completely filtered out\n",
      "ERROR!!! Pos class completely filtered out\n",
      "0.55 [0.175, 0.37]\n",
      "('None', 'rf')\n"
     ]
    },
    {
     "name": "stderr",
     "output_type": "stream",
     "text": [
      "/home/shihab/anaconda3/envs/ana/lib/python3.7/site-packages/sklearn/metrics/_classification.py:896: RuntimeWarning: invalid value encountered in double_scalars\n",
      "  mcc = cov_ytyp / np.sqrt(cov_ytyt * cov_ypyp)\n"
     ]
    },
    {
     "name": "stdout",
     "output_type": "stream",
     "text": [
      "ERROR!!! Pos class completely filtered out\n",
      "ERROR!!! Pos class completely filtered out\n"
     ]
    },
    {
     "name": "stderr",
     "output_type": "stream",
     "text": [
      "/home/shihab/anaconda3/envs/ana/lib/python3.7/site-packages/sklearn/metrics/_classification.py:896: RuntimeWarning: invalid value encountered in double_scalars\n",
      "  mcc = cov_ytyp / np.sqrt(cov_ytyt * cov_ypyp)\n",
      "/home/shihab/anaconda3/envs/ana/lib/python3.7/site-packages/sklearn/metrics/_classification.py:896: RuntimeWarning: invalid value encountered in double_scalars\n",
      "  mcc = cov_ytyp / np.sqrt(cov_ytyt * cov_ypyp)\n"
     ]
    },
    {
     "name": "stdout",
     "output_type": "stream",
     "text": [
      "ERROR!!! Pos class completely filtered out\n"
     ]
    },
    {
     "name": "stderr",
     "output_type": "stream",
     "text": [
      "/home/shihab/anaconda3/envs/ana/lib/python3.7/site-packages/sklearn/metrics/_classification.py:896: RuntimeWarning: invalid value encountered in double_scalars\n",
      "  mcc = cov_ytyp / np.sqrt(cov_ytyt * cov_ypyp)\n",
      "/home/shihab/anaconda3/envs/ana/lib/python3.7/site-packages/sklearn/metrics/_classification.py:896: RuntimeWarning: invalid value encountered in double_scalars\n",
      "  mcc = cov_ytyp / np.sqrt(cov_ytyt * cov_ypyp)\n",
      "/home/shihab/anaconda3/envs/ana/lib/python3.7/site-packages/sklearn/metrics/_classification.py:896: RuntimeWarning: invalid value encountered in double_scalars\n",
      "  mcc = cov_ytyp / np.sqrt(cov_ytyt * cov_ypyp)\n"
     ]
    },
    {
     "name": "stdout",
     "output_type": "stream",
     "text": [
      "1.5 [0.186, 0.271]\n",
      "('ens', 'rboost_DT')\n",
      "1.64 [0.251, 0.394]\n",
      "('ens', 'rboost_NB')\n",
      "1.44 [0.239, 0.414]\n",
      "('ens', 'bbag_DT')\n",
      "21.34 [0.212, 0.359]\n",
      "('ens', 'bbag_NB')\n",
      "21.2 [0.225, 0.383]\n",
      "\n",
      "activemq-5.2.0.csv noise:0.113, imb:12.247,154,1886, Shape:(2040, 65)\n",
      "('smote', 'dt')\n",
      "2.01 [0.323, 0.497]\n",
      "('smote', 'lr')\n",
      "4.37 [0.363, 0.491]\n",
      "('smote', 'nb')\n",
      "1.74 [0.383, 0.552]\n",
      "('smote', 'svm')\n",
      "17.69 [0.366, 0.471]\n",
      "('smote', 'knn')\n",
      "2.79 [0.332, 0.46]\n",
      "('smote', 'rf')\n",
      "5.49 [0.32, 0.431]\n",
      "('rus', 'dt')\n",
      "0.42 [0.281, 0.468]\n",
      "('rus', 'lr')\n",
      "0.7 [0.314, 0.398]\n",
      "('rus', 'nb')\n",
      "0.47 [0.359, 0.531]\n",
      "('rus', 'svm')\n",
      "0.54 [0.317, 0.404]\n",
      "('rus', 'knn')\n",
      "0.54 [0.317, 0.46]\n",
      "('rus', 'rf')\n",
      "1.58 [0.288, 0.438]\n",
      "('wilson', 'dt')\n",
      "3.57 [0.311, 0.442]\n",
      "('wilson', 'lr')\n",
      "4.17 [0.36, 0.447]\n",
      "('wilson', 'nb')\n",
      "3.53 [0.392, 0.482]\n",
      "('wilson', 'svm')\n",
      "4.18 [0.377, 0.447]\n",
      "('wilson', 'knn')\n",
      "4.22 [0.362, 0.488]\n",
      "('wilson', 'rf')\n",
      "5.11 [0.322, 0.471]\n",
      "('tomek', 'dt')\n",
      "ERROR!!! Pos class completely filtered out\n"
     ]
    },
    {
     "name": "stderr",
     "output_type": "stream",
     "text": [
      "/home/shihab/anaconda3/envs/ana/lib/python3.7/site-packages/sklearn/metrics/_classification.py:896: RuntimeWarning: invalid value encountered in double_scalars\n",
      "  mcc = cov_ytyp / np.sqrt(cov_ytyt * cov_ypyp)\n"
     ]
    },
    {
     "name": "stdout",
     "output_type": "stream",
     "text": [
      "ERROR!!! Pos class completely filtered out\n"
     ]
    },
    {
     "name": "stderr",
     "output_type": "stream",
     "text": [
      "/home/shihab/anaconda3/envs/ana/lib/python3.7/site-packages/sklearn/metrics/_classification.py:896: RuntimeWarning: invalid value encountered in double_scalars\n",
      "  mcc = cov_ytyp / np.sqrt(cov_ytyt * cov_ypyp)\n"
     ]
    },
    {
     "name": "stdout",
     "output_type": "stream",
     "text": [
      "3.28 [0.119, 0.385]\n",
      "('tomek', 'lr')\n",
      "ERROR!!! Pos class completely filtered out\n",
      "ERROR!!! Pos class completely filtered out\n"
     ]
    },
    {
     "name": "stderr",
     "output_type": "stream",
     "text": [
      "/home/shihab/anaconda3/envs/ana/lib/python3.7/site-packages/sklearn/metrics/_classification.py:896: RuntimeWarning: invalid value encountered in double_scalars\n",
      "  mcc = cov_ytyp / np.sqrt(cov_ytyt * cov_ypyp)\n"
     ]
    },
    {
     "name": "stdout",
     "output_type": "stream",
     "text": [
      "4.03 [0.187, 0.406]\n",
      "('tomek', 'nb')\n",
      "ERROR!!! Pos class completely filtered out\n"
     ]
    },
    {
     "name": "stderr",
     "output_type": "stream",
     "text": [
      "/home/shihab/anaconda3/envs/ana/lib/python3.7/site-packages/sklearn/metrics/_classification.py:896: RuntimeWarning: invalid value encountered in double_scalars\n",
      "  mcc = cov_ytyp / np.sqrt(cov_ytyt * cov_ypyp)\n"
     ]
    },
    {
     "name": "stdout",
     "output_type": "stream",
     "text": [
      "ERROR!!! Pos class completely filtered out\n",
      "ERROR!!! Pos class completely filtered out\n"
     ]
    },
    {
     "name": "stderr",
     "output_type": "stream",
     "text": [
      "/home/shihab/anaconda3/envs/ana/lib/python3.7/site-packages/sklearn/metrics/_classification.py:896: RuntimeWarning: invalid value encountered in double_scalars\n",
      "  mcc = cov_ytyp / np.sqrt(cov_ytyt * cov_ypyp)\n",
      "/home/shihab/anaconda3/envs/ana/lib/python3.7/site-packages/sklearn/metrics/_classification.py:896: RuntimeWarning: invalid value encountered in double_scalars\n",
      "  mcc = cov_ytyp / np.sqrt(cov_ytyt * cov_ypyp)\n",
      "/home/shihab/anaconda3/envs/ana/lib/python3.7/site-packages/sklearn/metrics/_classification.py:896: RuntimeWarning: invalid value encountered in double_scalars\n",
      "  mcc = cov_ytyp / np.sqrt(cov_ytyt * cov_ypyp)\n"
     ]
    },
    {
     "name": "stdout",
     "output_type": "stream",
     "text": [
      "3.27 [0.241, 0.406]\n",
      "('tomek', 'svm')\n",
      "ERROR!!! Pos class completely filtered out\n",
      "ERROR!!! Pos class completely filtered out\n"
     ]
    },
    {
     "name": "stderr",
     "output_type": "stream",
     "text": [
      "/home/shihab/anaconda3/envs/ana/lib/python3.7/site-packages/sklearn/metrics/_classification.py:896: RuntimeWarning: invalid value encountered in double_scalars\n",
      "  mcc = cov_ytyp / np.sqrt(cov_ytyt * cov_ypyp)\n"
     ]
    },
    {
     "name": "stdout",
     "output_type": "stream",
     "text": [
      "ERROR!!! Pos class completely filtered out\n",
      "3.67 [0.176, 0.251]\n",
      "('tomek', 'knn')\n"
     ]
    },
    {
     "name": "stderr",
     "output_type": "stream",
     "text": [
      "/home/shihab/anaconda3/envs/ana/lib/python3.7/site-packages/sklearn/metrics/_classification.py:896: RuntimeWarning: invalid value encountered in double_scalars\n",
      "  mcc = cov_ytyp / np.sqrt(cov_ytyt * cov_ypyp)\n",
      "/home/shihab/anaconda3/envs/ana/lib/python3.7/site-packages/sklearn/metrics/_classification.py:896: RuntimeWarning: invalid value encountered in double_scalars\n",
      "  mcc = cov_ytyp / np.sqrt(cov_ytyt * cov_ypyp)\n",
      "/home/shihab/anaconda3/envs/ana/lib/python3.7/site-packages/sklearn/metrics/_classification.py:896: RuntimeWarning: invalid value encountered in double_scalars\n",
      "  mcc = cov_ytyp / np.sqrt(cov_ytyt * cov_ypyp)\n"
     ]
    },
    {
     "name": "stdout",
     "output_type": "stream",
     "text": [
      "ERROR!!! Pos class completely filtered out\n"
     ]
    },
    {
     "name": "stderr",
     "output_type": "stream",
     "text": [
      "/home/shihab/anaconda3/envs/ana/lib/python3.7/site-packages/sklearn/metrics/_classification.py:896: RuntimeWarning: invalid value encountered in double_scalars\n",
      "  mcc = cov_ytyp / np.sqrt(cov_ytyt * cov_ypyp)\n"
     ]
    },
    {
     "name": "stdout",
     "output_type": "stream",
     "text": [
      "ERROR!!! Pos class completely filtered out\n",
      "ERROR!!! Pos class completely filtered out\n",
      "3.88 [0.162, 0.475]\n",
      "('tomek', 'rf')\n"
     ]
    },
    {
     "name": "stderr",
     "output_type": "stream",
     "text": [
      "/home/shihab/anaconda3/envs/ana/lib/python3.7/site-packages/sklearn/metrics/_classification.py:896: RuntimeWarning: invalid value encountered in double_scalars\n",
      "  mcc = cov_ytyp / np.sqrt(cov_ytyt * cov_ypyp)\n",
      "/home/shihab/anaconda3/envs/ana/lib/python3.7/site-packages/sklearn/metrics/_classification.py:896: RuntimeWarning: invalid value encountered in double_scalars\n",
      "  mcc = cov_ytyp / np.sqrt(cov_ytyt * cov_ypyp)\n",
      "/home/shihab/anaconda3/envs/ana/lib/python3.7/site-packages/sklearn/metrics/_classification.py:896: RuntimeWarning: invalid value encountered in double_scalars\n",
      "  mcc = cov_ytyp / np.sqrt(cov_ytyt * cov_ypyp)\n",
      "/home/shihab/anaconda3/envs/ana/lib/python3.7/site-packages/sklearn/metrics/_classification.py:896: RuntimeWarning: invalid value encountered in double_scalars\n",
      "  mcc = cov_ytyp / np.sqrt(cov_ytyt * cov_ypyp)\n",
      "/home/shihab/anaconda3/envs/ana/lib/python3.7/site-packages/sklearn/metrics/_classification.py:896: RuntimeWarning: invalid value encountered in double_scalars\n",
      "  mcc = cov_ytyp / np.sqrt(cov_ytyt * cov_ypyp)\n"
     ]
    },
    {
     "name": "stdout",
     "output_type": "stream",
     "text": [
      "ERROR!!! Pos class completely filtered out\n",
      "4.66 [0.1, 0.355]\n",
      "('None', 'dt')\n"
     ]
    },
    {
     "name": "stderr",
     "output_type": "stream",
     "text": [
      "/home/shihab/anaconda3/envs/ana/lib/python3.7/site-packages/sklearn/metrics/_classification.py:896: RuntimeWarning: invalid value encountered in double_scalars\n",
      "  mcc = cov_ytyp / np.sqrt(cov_ytyt * cov_ypyp)\n",
      "/home/shihab/anaconda3/envs/ana/lib/python3.7/site-packages/sklearn/metrics/_classification.py:896: RuntimeWarning: invalid value encountered in double_scalars\n",
      "  mcc = cov_ytyp / np.sqrt(cov_ytyt * cov_ypyp)\n"
     ]
    },
    {
     "name": "stdout",
     "output_type": "stream",
     "text": [
      "ERROR!!! Pos class completely filtered out\n"
     ]
    },
    {
     "name": "stderr",
     "output_type": "stream",
     "text": [
      "/home/shihab/anaconda3/envs/ana/lib/python3.7/site-packages/sklearn/metrics/_classification.py:896: RuntimeWarning: invalid value encountered in double_scalars\n",
      "  mcc = cov_ytyp / np.sqrt(cov_ytyt * cov_ypyp)\n"
     ]
    },
    {
     "name": "stdout",
     "output_type": "stream",
     "text": [
      "0.62 [0.133, 0.397]\n",
      "('None', 'lr')\n"
     ]
    },
    {
     "name": "stderr",
     "output_type": "stream",
     "text": [
      "/home/shihab/anaconda3/envs/ana/lib/python3.7/site-packages/sklearn/metrics/_classification.py:896: RuntimeWarning: invalid value encountered in double_scalars\n",
      "  mcc = cov_ytyp / np.sqrt(cov_ytyt * cov_ypyp)\n"
     ]
    },
    {
     "name": "stdout",
     "output_type": "stream",
     "text": [
      "ERROR!!! Pos class completely filtered out\n",
      "ERROR!!! Pos class completely filtered out\n",
      "ERROR!!! Pos class completely filtered out\n"
     ]
    },
    {
     "name": "stderr",
     "output_type": "stream",
     "text": [
      "/home/shihab/anaconda3/envs/ana/lib/python3.7/site-packages/sklearn/metrics/_classification.py:896: RuntimeWarning: invalid value encountered in double_scalars\n",
      "  mcc = cov_ytyp / np.sqrt(cov_ytyt * cov_ypyp)\n"
     ]
    },
    {
     "name": "stdout",
     "output_type": "stream",
     "text": [
      "1.07 [0.15, 0.411]\n",
      "('None', 'nb')\n",
      "ERROR!!! Pos class completely filtered out\n",
      "ERROR!!! Pos class completely filtered out\n",
      "ERROR!!! Pos class completely filtered out\n"
     ]
    },
    {
     "name": "stderr",
     "output_type": "stream",
     "text": [
      "/home/shihab/anaconda3/envs/ana/lib/python3.7/site-packages/sklearn/metrics/_classification.py:896: RuntimeWarning: invalid value encountered in double_scalars\n",
      "  mcc = cov_ytyp / np.sqrt(cov_ytyt * cov_ypyp)\n"
     ]
    },
    {
     "name": "stdout",
     "output_type": "stream",
     "text": [
      "0.56 [0.247, 0.366]\n",
      "('None', 'svm')\n",
      "ERROR!!! Pos class completely filtered out\n"
     ]
    },
    {
     "name": "stderr",
     "output_type": "stream",
     "text": [
      "/home/shihab/anaconda3/envs/ana/lib/python3.7/site-packages/sklearn/metrics/_classification.py:896: RuntimeWarning: invalid value encountered in double_scalars\n",
      "  mcc = cov_ytyp / np.sqrt(cov_ytyt * cov_ypyp)\n",
      "/home/shihab/anaconda3/envs/ana/lib/python3.7/site-packages/sklearn/metrics/_classification.py:896: RuntimeWarning: invalid value encountered in double_scalars\n",
      "  mcc = cov_ytyp / np.sqrt(cov_ytyt * cov_ypyp)\n"
     ]
    },
    {
     "name": "stdout",
     "output_type": "stream",
     "text": [
      "ERROR!!! Pos class completely filtered out\n",
      "1.09 [0.184, 0.234]\n",
      "('None', 'knn')\n"
     ]
    },
    {
     "name": "stderr",
     "output_type": "stream",
     "text": [
      "/home/shihab/anaconda3/envs/ana/lib/python3.7/site-packages/sklearn/metrics/_classification.py:896: RuntimeWarning: invalid value encountered in double_scalars\n",
      "  mcc = cov_ytyp / np.sqrt(cov_ytyt * cov_ypyp)\n",
      "/home/shihab/anaconda3/envs/ana/lib/python3.7/site-packages/sklearn/metrics/_classification.py:896: RuntimeWarning: invalid value encountered in double_scalars\n",
      "  mcc = cov_ytyp / np.sqrt(cov_ytyt * cov_ypyp)\n",
      "/home/shihab/anaconda3/envs/ana/lib/python3.7/site-packages/sklearn/metrics/_classification.py:896: RuntimeWarning: invalid value encountered in double_scalars\n",
      "  mcc = cov_ytyp / np.sqrt(cov_ytyt * cov_ypyp)\n"
     ]
    },
    {
     "name": "stdout",
     "output_type": "stream",
     "text": [
      "ERROR!!! Pos class completely filtered out\n",
      "1.3 [0.151, 0.455]\n",
      "('None', 'rf')\n"
     ]
    },
    {
     "name": "stderr",
     "output_type": "stream",
     "text": [
      "/home/shihab/anaconda3/envs/ana/lib/python3.7/site-packages/sklearn/metrics/_classification.py:896: RuntimeWarning: invalid value encountered in double_scalars\n",
      "  mcc = cov_ytyp / np.sqrt(cov_ytyt * cov_ypyp)\n",
      "/home/shihab/anaconda3/envs/ana/lib/python3.7/site-packages/sklearn/metrics/_classification.py:896: RuntimeWarning: invalid value encountered in double_scalars\n",
      "  mcc = cov_ytyp / np.sqrt(cov_ytyt * cov_ypyp)\n",
      "/home/shihab/anaconda3/envs/ana/lib/python3.7/site-packages/sklearn/metrics/_classification.py:896: RuntimeWarning: invalid value encountered in double_scalars\n",
      "  mcc = cov_ytyp / np.sqrt(cov_ytyt * cov_ypyp)\n"
     ]
    },
    {
     "name": "stdout",
     "output_type": "stream",
     "text": [
      "ERROR!!! Pos class completely filtered out\n",
      "1.95 [0.121, 0.362]\n",
      "('ens', 'rboost_DT')\n",
      "1.26 [0.303, 0.459]\n",
      "('ens', 'rboost_NB')\n",
      "1.29 [0.345, 0.53]\n",
      "('ens', 'bbag_DT')\n",
      "ERROR!!! Pos class completely filtered out\n",
      "19.81 [0.307, 0.429]\n",
      "('ens', 'bbag_NB')\n",
      "20.35 [0.347, 0.524]\n",
      "\n",
      "groovy-1_5_7.csv noise:0.085, imb:8.463,80,677, Shape:(757, 65)\n",
      "('smote', 'dt')\n",
      "1.06 [0.212, 0.408]\n",
      "('smote', 'lr')\n",
      "1.96 [0.217, 0.38]\n",
      "('smote', 'nb')\n",
      "0.99 [0.227, 0.458]\n",
      "('smote', 'svm')\n",
      "2.8 [0.238, 0.263]\n",
      "('smote', 'knn')\n",
      "1.21 [0.212, 0.428]\n",
      "('smote', 'rf')\n",
      "2.88 [0.242, 0.378]\n",
      "('rus', 'dt')\n",
      "0.38 [0.194, 0.421]\n",
      "('rus', 'lr')\n",
      "0.57 [0.248, 0.433]\n",
      "('rus', 'nb')\n",
      "0.38 [0.226, 0.465]\n",
      "('rus', 'svm')\n",
      "0.39 [0.201, 0.233]\n",
      "('rus', 'knn')\n",
      "0.41 [0.258, 0.434]\n",
      "('rus', 'rf')\n",
      "1.52 [0.22, 0.4]\n",
      "('wilson', 'dt')\n",
      "ERROR!!! Pos class completely filtered out\n",
      "0.97 [0.297, 0.364]\n",
      "('wilson', 'lr')\n",
      "1.3 [0.402, 0.501]\n",
      "('wilson', 'nb')\n",
      "0.97 [0.336, 0.455]\n",
      "('wilson', 'svm')\n",
      "1.12 [0.383, 0.455]\n",
      "('wilson', 'knn')\n",
      "1.12 [0.386, 0.452]\n",
      "('wilson', 'rf')\n"
     ]
    },
    {
     "name": "stderr",
     "output_type": "stream",
     "text": [
      "/home/shihab/anaconda3/envs/ana/lib/python3.7/site-packages/sklearn/metrics/_classification.py:896: RuntimeWarning: invalid value encountered in double_scalars\n",
      "  mcc = cov_ytyp / np.sqrt(cov_ytyt * cov_ypyp)\n"
     ]
    },
    {
     "name": "stdout",
     "output_type": "stream",
     "text": [
      "2.17 [0.337, 0.42]\n",
      "('tomek', 'dt')\n",
      "ERROR!!! Pos class completely filtered out\n",
      "ERROR!!! Pos class completely filtered out\n",
      "ERROR!!! Pos class completely filtered out\n",
      "ERROR!!! Pos class completely filtered out\n"
     ]
    },
    {
     "name": "stderr",
     "output_type": "stream",
     "text": [
      "/home/shihab/anaconda3/envs/ana/lib/python3.7/site-packages/sklearn/metrics/_classification.py:896: RuntimeWarning: invalid value encountered in double_scalars\n",
      "  mcc = cov_ytyp / np.sqrt(cov_ytyt * cov_ypyp)\n"
     ]
    },
    {
     "name": "stdout",
     "output_type": "stream",
     "text": [
      "ERROR!!! Pos class completely filtered out\n",
      "0.92 [0.29, 0.366]\n",
      "('tomek', 'lr')\n",
      "ERROR!!! Pos class completely filtered out\n",
      "ERROR!!! Pos class completely filtered out\n",
      "ERROR!!! Pos class completely filtered out\n",
      "1.31 [0.401, 0.45]\n",
      "('tomek', 'nb')\n",
      "ERROR!!! Pos class completely filtered out\n"
     ]
    },
    {
     "name": "stderr",
     "output_type": "stream",
     "text": [
      "/home/shihab/anaconda3/envs/ana/lib/python3.7/site-packages/sklearn/metrics/_classification.py:896: RuntimeWarning: invalid value encountered in double_scalars\n",
      "  mcc = cov_ytyp / np.sqrt(cov_ytyt * cov_ypyp)\n"
     ]
    },
    {
     "name": "stdout",
     "output_type": "stream",
     "text": [
      "ERROR!!! Pos class completely filtered out\n",
      "ERROR!!! Pos class completely filtered out\n",
      "ERROR!!! Pos class completely filtered out\n",
      "ERROR!!! Pos class completely filtered out\n"
     ]
    },
    {
     "name": "stderr",
     "output_type": "stream",
     "text": [
      "/home/shihab/anaconda3/envs/ana/lib/python3.7/site-packages/sklearn/metrics/_classification.py:896: RuntimeWarning: invalid value encountered in double_scalars\n",
      "  mcc = cov_ytyp / np.sqrt(cov_ytyt * cov_ypyp)\n",
      "/home/shihab/anaconda3/envs/ana/lib/python3.7/site-packages/sklearn/metrics/_classification.py:896: RuntimeWarning: invalid value encountered in double_scalars\n",
      "  mcc = cov_ytyp / np.sqrt(cov_ytyt * cov_ypyp)\n"
     ]
    },
    {
     "name": "stdout",
     "output_type": "stream",
     "text": [
      "ERROR!!! Pos class completely filtered out\n",
      "0.97 [0.333, 0.427]\n",
      "('tomek', 'svm')\n",
      "ERROR!!! Pos class completely filtered out\n",
      "ERROR!!! Pos class completely filtered out\n",
      "ERROR!!! Pos class completely filtered out\n",
      "ERROR!!! Pos class completely filtered out\n",
      "1.09 [0.408, 0.43]\n",
      "('tomek', 'knn')\n",
      "ERROR!!! Pos class completely filtered out\n",
      "ERROR!!! Pos class completely filtered out\n",
      "ERROR!!! Pos class completely filtered out\n",
      "ERROR!!! Pos class completely filtered out\n",
      "ERROR!!! Pos class completely filtered out\n",
      "ERROR!!! Pos class completely filtered out\n",
      "ERROR!!! Pos class completely filtered out\n"
     ]
    },
    {
     "name": "stderr",
     "output_type": "stream",
     "text": [
      "/home/shihab/anaconda3/envs/ana/lib/python3.7/site-packages/sklearn/metrics/_classification.py:896: RuntimeWarning: invalid value encountered in double_scalars\n",
      "  mcc = cov_ytyp / np.sqrt(cov_ytyt * cov_ypyp)\n",
      "/home/shihab/anaconda3/envs/ana/lib/python3.7/site-packages/sklearn/metrics/_classification.py:896: RuntimeWarning: invalid value encountered in double_scalars\n",
      "  mcc = cov_ytyp / np.sqrt(cov_ytyt * cov_ypyp)\n"
     ]
    },
    {
     "name": "stdout",
     "output_type": "stream",
     "text": [
      "1.05 [0.377, 0.49]\n",
      "('tomek', 'rf')\n"
     ]
    },
    {
     "name": "stderr",
     "output_type": "stream",
     "text": [
      "/home/shihab/anaconda3/envs/ana/lib/python3.7/site-packages/sklearn/metrics/_classification.py:896: RuntimeWarning: invalid value encountered in double_scalars\n",
      "  mcc = cov_ytyp / np.sqrt(cov_ytyt * cov_ypyp)\n",
      "/home/shihab/anaconda3/envs/ana/lib/python3.7/site-packages/sklearn/metrics/_classification.py:896: RuntimeWarning: invalid value encountered in double_scalars\n",
      "  mcc = cov_ytyp / np.sqrt(cov_ytyt * cov_ypyp)\n"
     ]
    },
    {
     "name": "stdout",
     "output_type": "stream",
     "text": [
      "ERROR!!! Pos class completely filtered out\n",
      "ERROR!!! Pos class completely filtered out\n"
     ]
    },
    {
     "name": "stderr",
     "output_type": "stream",
     "text": [
      "/home/shihab/anaconda3/envs/ana/lib/python3.7/site-packages/sklearn/metrics/_classification.py:896: RuntimeWarning: invalid value encountered in double_scalars\n",
      "  mcc = cov_ytyp / np.sqrt(cov_ytyt * cov_ypyp)\n"
     ]
    },
    {
     "name": "stdout",
     "output_type": "stream",
     "text": [
      "ERROR!!! Pos class completely filtered out\n",
      "ERROR!!! Pos class completely filtered out\n",
      "1.96 [0.263, 0.363]\n",
      "('None', 'dt')\n"
     ]
    },
    {
     "name": "stderr",
     "output_type": "stream",
     "text": [
      "/home/shihab/anaconda3/envs/ana/lib/python3.7/site-packages/sklearn/metrics/_classification.py:896: RuntimeWarning: invalid value encountered in double_scalars\n",
      "  mcc = cov_ytyp / np.sqrt(cov_ytyt * cov_ypyp)\n",
      "/home/shihab/anaconda3/envs/ana/lib/python3.7/site-packages/sklearn/metrics/_classification.py:896: RuntimeWarning: invalid value encountered in double_scalars\n",
      "  mcc = cov_ytyp / np.sqrt(cov_ytyt * cov_ypyp)\n"
     ]
    },
    {
     "name": "stdout",
     "output_type": "stream",
     "text": [
      "ERROR!!! Pos class completely filtered out\n",
      "ERROR!!! Pos class completely filtered out\n",
      "ERROR!!! Pos class completely filtered out\n",
      "0.4 [0.28, 0.373]\n",
      "('None', 'lr')\n",
      "ERROR!!! Pos class completely filtered out\n",
      "ERROR!!! Pos class completely filtered out\n",
      "ERROR!!! Pos class completely filtered out\n",
      "ERROR!!! Pos class completely filtered out\n",
      "ERROR!!! Pos class completely filtered out\n",
      "ERROR!!! Pos class completely filtered out\n",
      "ERROR!!! Pos class completely filtered out\n",
      "ERROR!!! Pos class completely filtered out\n",
      "ERROR!!! Pos class completely filtered out\n",
      "0.67 [0.426, 0.465]\n",
      "('None', 'nb')\n",
      "ERROR!!! Pos class completely filtered out\n"
     ]
    },
    {
     "name": "stderr",
     "output_type": "stream",
     "text": [
      "/home/shihab/anaconda3/envs/ana/lib/python3.7/site-packages/sklearn/metrics/_classification.py:896: RuntimeWarning: invalid value encountered in double_scalars\n",
      "  mcc = cov_ytyp / np.sqrt(cov_ytyt * cov_ypyp)\n"
     ]
    },
    {
     "name": "stdout",
     "output_type": "stream",
     "text": [
      "ERROR!!! Pos class completely filtered out\n",
      "ERROR!!! Pos class completely filtered out\n",
      "0.39 [0.344, 0.433]\n",
      "('None', 'svm')\n",
      "ERROR!!! Pos class completely filtered out\n",
      "ERROR!!! Pos class completely filtered out\n"
     ]
    },
    {
     "name": "stderr",
     "output_type": "stream",
     "text": [
      "/home/shihab/anaconda3/envs/ana/lib/python3.7/site-packages/sklearn/metrics/_classification.py:896: RuntimeWarning: invalid value encountered in double_scalars\n",
      "  mcc = cov_ytyp / np.sqrt(cov_ytyt * cov_ypyp)\n",
      "/home/shihab/anaconda3/envs/ana/lib/python3.7/site-packages/sklearn/metrics/_classification.py:896: RuntimeWarning: invalid value encountered in double_scalars\n",
      "  mcc = cov_ytyp / np.sqrt(cov_ytyt * cov_ypyp)\n"
     ]
    },
    {
     "name": "stdout",
     "output_type": "stream",
     "text": [
      "ERROR!!! Pos class completely filtered out\n",
      "ERROR!!! Pos class completely filtered out\n",
      "ERROR!!! Pos class completely filtered out\n",
      "0.56 [0.402, 0.423]\n",
      "('None', 'knn')\n"
     ]
    },
    {
     "name": "stderr",
     "output_type": "stream",
     "text": [
      "/home/shihab/anaconda3/envs/ana/lib/python3.7/site-packages/sklearn/metrics/_classification.py:896: RuntimeWarning: invalid value encountered in double_scalars\n",
      "  mcc = cov_ytyp / np.sqrt(cov_ytyt * cov_ypyp)\n",
      "/home/shihab/anaconda3/envs/ana/lib/python3.7/site-packages/sklearn/metrics/_classification.py:896: RuntimeWarning: invalid value encountered in double_scalars\n",
      "  mcc = cov_ytyp / np.sqrt(cov_ytyt * cov_ypyp)\n",
      "/home/shihab/anaconda3/envs/ana/lib/python3.7/site-packages/sklearn/metrics/_classification.py:896: RuntimeWarning: invalid value encountered in double_scalars\n",
      "  mcc = cov_ytyp / np.sqrt(cov_ytyt * cov_ypyp)\n",
      "/home/shihab/anaconda3/envs/ana/lib/python3.7/site-packages/sklearn/metrics/_classification.py:896: RuntimeWarning: invalid value encountered in double_scalars\n",
      "  mcc = cov_ytyp / np.sqrt(cov_ytyt * cov_ypyp)\n",
      "/home/shihab/anaconda3/envs/ana/lib/python3.7/site-packages/sklearn/metrics/_classification.py:896: RuntimeWarning: invalid value encountered in double_scalars\n",
      "  mcc = cov_ytyp / np.sqrt(cov_ytyt * cov_ypyp)\n"
     ]
    },
    {
     "name": "stdout",
     "output_type": "stream",
     "text": [
      "ERROR!!! Pos class completely filtered out\n",
      "0.53 [0.4, 0.504]\n",
      "('None', 'rf')\n",
      "ERROR!!! Pos class completely filtered out\n",
      "ERROR!!! Pos class completely filtered out\n"
     ]
    },
    {
     "name": "stderr",
     "output_type": "stream",
     "text": [
      "/home/shihab/anaconda3/envs/ana/lib/python3.7/site-packages/sklearn/metrics/_classification.py:896: RuntimeWarning: invalid value encountered in double_scalars\n",
      "  mcc = cov_ytyp / np.sqrt(cov_ytyt * cov_ypyp)\n",
      "/home/shihab/anaconda3/envs/ana/lib/python3.7/site-packages/sklearn/metrics/_classification.py:896: RuntimeWarning: invalid value encountered in double_scalars\n",
      "  mcc = cov_ytyp / np.sqrt(cov_ytyt * cov_ypyp)\n"
     ]
    },
    {
     "name": "stdout",
     "output_type": "stream",
     "text": [
      "ERROR!!! Pos class completely filtered out\n",
      "ERROR!!! Pos class completely filtered out\n",
      "ERROR!!! Pos class completely filtered out\n"
     ]
    },
    {
     "name": "stderr",
     "output_type": "stream",
     "text": [
      "/home/shihab/anaconda3/envs/ana/lib/python3.7/site-packages/sklearn/metrics/_classification.py:896: RuntimeWarning: invalid value encountered in double_scalars\n",
      "  mcc = cov_ytyp / np.sqrt(cov_ytyt * cov_ypyp)\n",
      "/home/shihab/anaconda3/envs/ana/lib/python3.7/site-packages/sklearn/metrics/_classification.py:896: RuntimeWarning: invalid value encountered in double_scalars\n",
      "  mcc = cov_ytyp / np.sqrt(cov_ytyt * cov_ypyp)\n"
     ]
    },
    {
     "name": "stdout",
     "output_type": "stream",
     "text": [
      "1.4 [0.274, 0.378]\n",
      "('ens', 'rboost_DT')\n",
      "1.24 [0.216, 0.434]\n",
      "('ens', 'rboost_NB')\n",
      "1.29 [0.215, 0.457]\n",
      "('ens', 'bbag_DT')\n",
      "19.71 [0.209, 0.386]\n",
      "('ens', 'bbag_NB')\n",
      "19.46 [0.193, 0.451]\n",
      "\n",
      "hbase-0.95.0.csv noise:0.234, imb:17.341,91,1578, Shape:(1669, 65)\n",
      "('smote', 'dt')\n",
      "2.21 [0.221, 0.489]\n",
      "('smote', 'lr')\n",
      "4.57 [0.243, 0.472]\n",
      "('smote', 'nb')\n",
      "1.93 [0.274, 0.477]\n",
      "('smote', 'svm')\n",
      "16.78 [0.252, 0.433]\n",
      "('smote', 'knn')\n",
      "2.64 [0.217, 0.448]\n",
      "('smote', 'rf')\n",
      "6.04 [0.24, 0.437]\n",
      "('rus', 'dt')\n",
      "0.5 [0.221, 0.501]\n",
      "('rus', 'lr')\n",
      "0.7 [0.252, 0.405]\n",
      "('rus', 'nb')\n",
      "0.51 [0.243, 0.489]\n",
      "('rus', 'svm')\n",
      "0.53 [0.269, 0.438]\n",
      "('rus', 'knn')\n",
      "ERROR!!! Pos class completely filtered out\n",
      "0.59 [0.245, 0.478]\n",
      "('rus', 'rf')\n",
      "1.78 [0.242, 0.452]\n",
      "('wilson', 'dt')\n",
      "ERROR!!! Pos class completely filtered out\n",
      "ERROR!!! Pos class completely filtered out\n",
      "ERROR!!! Pos class completely filtered out\n"
     ]
    },
    {
     "name": "stderr",
     "output_type": "stream",
     "text": [
      "/home/shihab/anaconda3/envs/ana/lib/python3.7/site-packages/sklearn/metrics/_classification.py:896: RuntimeWarning: invalid value encountered in double_scalars\n",
      "  mcc = cov_ytyp / np.sqrt(cov_ytyt * cov_ypyp)\n",
      "/home/shihab/anaconda3/envs/ana/lib/python3.7/site-packages/sklearn/metrics/_classification.py:896: RuntimeWarning: invalid value encountered in double_scalars\n",
      "  mcc = cov_ytyp / np.sqrt(cov_ytyt * cov_ypyp)\n",
      "/home/shihab/anaconda3/envs/ana/lib/python3.7/site-packages/sklearn/metrics/_classification.py:896: RuntimeWarning: invalid value encountered in double_scalars\n",
      "  mcc = cov_ytyp / np.sqrt(cov_ytyt * cov_ypyp)\n"
     ]
    },
    {
     "name": "stdout",
     "output_type": "stream",
     "text": [
      "ERROR!!! Pos class completely filtered out\n",
      "ERROR!!! Pos class completely filtered out\n",
      "ERROR!!! Pos class completely filtered out\n"
     ]
    },
    {
     "name": "stderr",
     "output_type": "stream",
     "text": [
      "/home/shihab/anaconda3/envs/ana/lib/python3.7/site-packages/sklearn/metrics/_classification.py:896: RuntimeWarning: invalid value encountered in double_scalars\n",
      "  mcc = cov_ytyp / np.sqrt(cov_ytyt * cov_ypyp)\n"
     ]
    },
    {
     "name": "stdout",
     "output_type": "stream",
     "text": [
      "2.73 [0.13, 0.612]\n",
      "('wilson', 'lr')\n",
      "ERROR!!! Pos class completely filtered out\n"
     ]
    },
    {
     "name": "stderr",
     "output_type": "stream",
     "text": [
      "/home/shihab/anaconda3/envs/ana/lib/python3.7/site-packages/sklearn/metrics/_classification.py:896: RuntimeWarning: invalid value encountered in double_scalars\n",
      "  mcc = cov_ytyp / np.sqrt(cov_ytyt * cov_ypyp)\n"
     ]
    },
    {
     "name": "stdout",
     "output_type": "stream",
     "text": [
      "ERROR!!! Pos class completely filtered out\n",
      "ERROR!!! Pos class completely filtered out\n",
      "ERROR!!! Pos class completely filtered out\n"
     ]
    },
    {
     "name": "stderr",
     "output_type": "stream",
     "text": [
      "/home/shihab/anaconda3/envs/ana/lib/python3.7/site-packages/sklearn/metrics/_classification.py:896: RuntimeWarning: invalid value encountered in double_scalars\n",
      "  mcc = cov_ytyp / np.sqrt(cov_ytyt * cov_ypyp)\n"
     ]
    },
    {
     "name": "stdout",
     "output_type": "stream",
     "text": [
      "3.19 [0.145, 0.492]\n",
      "('wilson', 'nb')\n",
      "ERROR!!! Pos class completely filtered out\n",
      "ERROR!!! Pos class completely filtered out\n"
     ]
    },
    {
     "name": "stderr",
     "output_type": "stream",
     "text": [
      "/home/shihab/anaconda3/envs/ana/lib/python3.7/site-packages/sklearn/metrics/_classification.py:896: RuntimeWarning: invalid value encountered in double_scalars\n",
      "  mcc = cov_ytyp / np.sqrt(cov_ytyt * cov_ypyp)\n"
     ]
    },
    {
     "name": "stdout",
     "output_type": "stream",
     "text": [
      "ERROR!!! Pos class completely filtered out\n",
      "ERROR!!! Pos class completely filtered out\n"
     ]
    },
    {
     "name": "stderr",
     "output_type": "stream",
     "text": [
      "/home/shihab/anaconda3/envs/ana/lib/python3.7/site-packages/sklearn/metrics/_classification.py:896: RuntimeWarning: invalid value encountered in double_scalars\n",
      "  mcc = cov_ytyp / np.sqrt(cov_ytyt * cov_ypyp)\n"
     ]
    },
    {
     "name": "stdout",
     "output_type": "stream",
     "text": [
      "ERROR!!! Pos class completely filtered out\n",
      "ERROR!!! Pos class completely filtered out\n",
      "2.7 [0.188, 0.449]\n",
      "('wilson', 'svm')\n",
      "ERROR!!! Pos class completely filtered out\n",
      "ERROR!!! Pos class completely filtered out\n",
      "ERROR!!! Pos class completely filtered out\n",
      "ERROR!!! Pos class completely filtered out\n"
     ]
    },
    {
     "name": "stderr",
     "output_type": "stream",
     "text": [
      "/home/shihab/anaconda3/envs/ana/lib/python3.7/site-packages/sklearn/metrics/_classification.py:896: RuntimeWarning: invalid value encountered in double_scalars\n",
      "  mcc = cov_ytyp / np.sqrt(cov_ytyt * cov_ypyp)\n"
     ]
    },
    {
     "name": "stdout",
     "output_type": "stream",
     "text": [
      "ERROR!!! Pos class completely filtered out\n",
      "ERROR!!! Pos class completely filtered out\n"
     ]
    },
    {
     "name": "stderr",
     "output_type": "stream",
     "text": [
      "/home/shihab/anaconda3/envs/ana/lib/python3.7/site-packages/sklearn/metrics/_classification.py:896: RuntimeWarning: invalid value encountered in double_scalars\n",
      "  mcc = cov_ytyp / np.sqrt(cov_ytyt * cov_ypyp)\n"
     ]
    },
    {
     "name": "stdout",
     "output_type": "stream",
     "text": [
      "ERROR!!! Pos class completely filtered out\n",
      "2.99 [0.139, 0.329]\n",
      "('wilson', 'knn')\n"
     ]
    },
    {
     "name": "stderr",
     "output_type": "stream",
     "text": [
      "/home/shihab/anaconda3/envs/ana/lib/python3.7/site-packages/sklearn/metrics/_classification.py:896: RuntimeWarning: invalid value encountered in double_scalars\n",
      "  mcc = cov_ytyp / np.sqrt(cov_ytyt * cov_ypyp)\n"
     ]
    },
    {
     "name": "stdout",
     "output_type": "stream",
     "text": [
      "ERROR!!! Pos class completely filtered out\n",
      "ERROR!!! Pos class completely filtered out\n"
     ]
    },
    {
     "name": "stderr",
     "output_type": "stream",
     "text": [
      "/home/shihab/anaconda3/envs/ana/lib/python3.7/site-packages/sklearn/metrics/_classification.py:896: RuntimeWarning: invalid value encountered in double_scalars\n",
      "  mcc = cov_ytyp / np.sqrt(cov_ytyt * cov_ypyp)\n",
      "/home/shihab/anaconda3/envs/ana/lib/python3.7/site-packages/sklearn/metrics/_classification.py:896: RuntimeWarning: invalid value encountered in double_scalars\n",
      "  mcc = cov_ytyp / np.sqrt(cov_ytyt * cov_ypyp)\n",
      "/home/shihab/anaconda3/envs/ana/lib/python3.7/site-packages/sklearn/metrics/_classification.py:896: RuntimeWarning: invalid value encountered in double_scalars\n",
      "  mcc = cov_ytyp / np.sqrt(cov_ytyt * cov_ypyp)\n",
      "/home/shihab/anaconda3/envs/ana/lib/python3.7/site-packages/sklearn/metrics/_classification.py:896: RuntimeWarning: invalid value encountered in double_scalars\n",
      "  mcc = cov_ytyp / np.sqrt(cov_ytyt * cov_ypyp)\n"
     ]
    },
    {
     "name": "stdout",
     "output_type": "stream",
     "text": [
      "ERROR!!! Pos class completely filtered out\n"
     ]
    },
    {
     "name": "stderr",
     "output_type": "stream",
     "text": [
      "/home/shihab/anaconda3/envs/ana/lib/python3.7/site-packages/sklearn/metrics/_classification.py:896: RuntimeWarning: invalid value encountered in double_scalars\n",
      "  mcc = cov_ytyp / np.sqrt(cov_ytyt * cov_ypyp)\n"
     ]
    },
    {
     "name": "stdout",
     "output_type": "stream",
     "text": [
      "ERROR!!! Pos class completely filtered out\n",
      "ERROR!!! Pos class completely filtered out\n"
     ]
    },
    {
     "name": "stderr",
     "output_type": "stream",
     "text": [
      "/home/shihab/anaconda3/envs/ana/lib/python3.7/site-packages/sklearn/metrics/_classification.py:896: RuntimeWarning: invalid value encountered in double_scalars\n",
      "  mcc = cov_ytyp / np.sqrt(cov_ytyt * cov_ypyp)\n",
      "/home/shihab/anaconda3/envs/ana/lib/python3.7/site-packages/sklearn/metrics/_classification.py:896: RuntimeWarning: invalid value encountered in double_scalars\n",
      "  mcc = cov_ytyp / np.sqrt(cov_ytyt * cov_ypyp)\n",
      "/home/shihab/anaconda3/envs/ana/lib/python3.7/site-packages/sklearn/metrics/_classification.py:896: RuntimeWarning: invalid value encountered in double_scalars\n",
      "  mcc = cov_ytyp / np.sqrt(cov_ytyt * cov_ypyp)\n"
     ]
    },
    {
     "name": "stdout",
     "output_type": "stream",
     "text": [
      "3.12 [0.061, 0.534]\n",
      "('wilson', 'rf')\n"
     ]
    },
    {
     "name": "stderr",
     "output_type": "stream",
     "text": [
      "/home/shihab/anaconda3/envs/ana/lib/python3.7/site-packages/sklearn/metrics/_classification.py:896: RuntimeWarning: invalid value encountered in double_scalars\n",
      "  mcc = cov_ytyp / np.sqrt(cov_ytyt * cov_ypyp)\n"
     ]
    },
    {
     "name": "stdout",
     "output_type": "stream",
     "text": [
      "ERROR!!! Pos class completely filtered out\n"
     ]
    },
    {
     "name": "stderr",
     "output_type": "stream",
     "text": [
      "/home/shihab/anaconda3/envs/ana/lib/python3.7/site-packages/sklearn/metrics/_classification.py:896: RuntimeWarning: invalid value encountered in double_scalars\n",
      "  mcc = cov_ytyp / np.sqrt(cov_ytyt * cov_ypyp)\n",
      "/home/shihab/anaconda3/envs/ana/lib/python3.7/site-packages/sklearn/metrics/_classification.py:896: RuntimeWarning: invalid value encountered in double_scalars\n",
      "  mcc = cov_ytyp / np.sqrt(cov_ytyt * cov_ypyp)\n"
     ]
    },
    {
     "name": "stdout",
     "output_type": "stream",
     "text": [
      "ERROR!!! Pos class completely filtered out\n"
     ]
    },
    {
     "name": "stderr",
     "output_type": "stream",
     "text": [
      "/home/shihab/anaconda3/envs/ana/lib/python3.7/site-packages/sklearn/metrics/_classification.py:896: RuntimeWarning: invalid value encountered in double_scalars\n",
      "  mcc = cov_ytyp / np.sqrt(cov_ytyt * cov_ypyp)\n"
     ]
    },
    {
     "name": "stdout",
     "output_type": "stream",
     "text": [
      "ERROR!!! Pos class completely filtered out\n",
      "ERROR!!! Pos class completely filtered out\n",
      "3.88 [0.125, 0.482]\n",
      "('tomek', 'dt')\n",
      "ERROR!!! Pos class completely filtered out\n",
      "ERROR!!! Pos class completely filtered out\n",
      "ERROR!!! Pos class completely filtered out\n"
     ]
    },
    {
     "name": "stderr",
     "output_type": "stream",
     "text": [
      "/home/shihab/anaconda3/envs/ana/lib/python3.7/site-packages/sklearn/metrics/_classification.py:896: RuntimeWarning: invalid value encountered in double_scalars\n",
      "  mcc = cov_ytyp / np.sqrt(cov_ytyt * cov_ypyp)\n"
     ]
    },
    {
     "name": "stdout",
     "output_type": "stream",
     "text": [
      "ERROR!!! Pos class completely filtered out\n",
      "ERROR!!! Pos class completely filtered out\n",
      "ERROR!!! Pos class completely filtered out\n",
      "ERROR!!! Pos class completely filtered out\n",
      "ERROR!!! Pos class completely filtered out\n",
      "ERROR!!! Pos class completely filtered out\n",
      "ERROR!!! Pos class completely filtered out\n"
     ]
    },
    {
     "name": "stderr",
     "output_type": "stream",
     "text": [
      "/home/shihab/anaconda3/envs/ana/lib/python3.7/site-packages/sklearn/metrics/_classification.py:896: RuntimeWarning: invalid value encountered in double_scalars\n",
      "  mcc = cov_ytyp / np.sqrt(cov_ytyt * cov_ypyp)\n"
     ]
    },
    {
     "name": "stdout",
     "output_type": "stream",
     "text": [
      "ERROR!!! Pos class completely filtered out\n",
      "ERROR!!! Pos class completely filtered out\n"
     ]
    },
    {
     "name": "stderr",
     "output_type": "stream",
     "text": [
      "/home/shihab/anaconda3/envs/ana/lib/python3.7/site-packages/sklearn/metrics/_classification.py:896: RuntimeWarning: invalid value encountered in double_scalars\n",
      "  mcc = cov_ytyp / np.sqrt(cov_ytyt * cov_ypyp)\n",
      "/home/shihab/anaconda3/envs/ana/lib/python3.7/site-packages/sklearn/metrics/_classification.py:896: RuntimeWarning: invalid value encountered in double_scalars\n",
      "  mcc = cov_ytyp / np.sqrt(cov_ytyt * cov_ypyp)\n"
     ]
    },
    {
     "name": "stdout",
     "output_type": "stream",
     "text": [
      "ERROR!!! Pos class completely filtered out\n",
      "ERROR!!! Pos class completely filtered out\n",
      "ERROR!!! Pos class completely filtered out\n",
      "2.34 [0.104, 0.615]\n",
      "('tomek', 'lr')\n",
      "ERROR!!! Pos class completely filtered out\n",
      "ERROR!!! Pos class completely filtered out\n",
      "ERROR!!! Pos class completely filtered out\n",
      "ERROR!!! Pos class completely filtered out\n"
     ]
    },
    {
     "name": "stderr",
     "output_type": "stream",
     "text": [
      "/home/shihab/anaconda3/envs/ana/lib/python3.7/site-packages/sklearn/metrics/_classification.py:896: RuntimeWarning: invalid value encountered in double_scalars\n",
      "  mcc = cov_ytyp / np.sqrt(cov_ytyt * cov_ypyp)\n"
     ]
    },
    {
     "name": "stdout",
     "output_type": "stream",
     "text": [
      "ERROR!!! Pos class completely filtered out\n",
      "ERROR!!! Pos class completely filtered out\n",
      "ERROR!!! Pos class completely filtered out\n",
      "ERROR!!! Pos class completely filtered out\n",
      "ERROR!!! Pos class completely filtered out\n",
      "ERROR!!! Pos class completely filtered out\n",
      "ERROR!!! Pos class completely filtered out\n"
     ]
    },
    {
     "name": "stderr",
     "output_type": "stream",
     "text": [
      "/home/shihab/anaconda3/envs/ana/lib/python3.7/site-packages/sklearn/metrics/_classification.py:896: RuntimeWarning: invalid value encountered in double_scalars\n",
      "  mcc = cov_ytyp / np.sqrt(cov_ytyt * cov_ypyp)\n",
      "/home/shihab/anaconda3/envs/ana/lib/python3.7/site-packages/sklearn/metrics/_classification.py:896: RuntimeWarning: invalid value encountered in double_scalars\n",
      "  mcc = cov_ytyp / np.sqrt(cov_ytyt * cov_ypyp)\n"
     ]
    },
    {
     "name": "stdout",
     "output_type": "stream",
     "text": [
      "ERROR!!! Pos class completely filtered out\n"
     ]
    },
    {
     "name": "stderr",
     "output_type": "stream",
     "text": [
      "/home/shihab/anaconda3/envs/ana/lib/python3.7/site-packages/sklearn/metrics/_classification.py:896: RuntimeWarning: invalid value encountered in double_scalars\n",
      "  mcc = cov_ytyp / np.sqrt(cov_ytyt * cov_ypyp)\n"
     ]
    },
    {
     "name": "stdout",
     "output_type": "stream",
     "text": [
      "ERROR!!! Pos class completely filtered out\n",
      "ERROR!!! Pos class completely filtered out\n",
      "ERROR!!! Pos class completely filtered out\n",
      "2.57 [0.069, 0.465]\n",
      "('tomek', 'nb')\n",
      "ERROR!!! Pos class completely filtered out\n"
     ]
    },
    {
     "name": "stderr",
     "output_type": "stream",
     "text": [
      "/home/shihab/anaconda3/envs/ana/lib/python3.7/site-packages/sklearn/metrics/_classification.py:896: RuntimeWarning: invalid value encountered in double_scalars\n",
      "  mcc = cov_ytyp / np.sqrt(cov_ytyt * cov_ypyp)\n"
     ]
    },
    {
     "name": "stdout",
     "output_type": "stream",
     "text": [
      "ERROR!!! Pos class completely filtered out\n",
      "ERROR!!! Pos class completely filtered out\n",
      "ERROR!!! Pos class completely filtered out\n",
      "ERROR!!! Pos class completely filtered out\n",
      "ERROR!!! Pos class completely filtered out\n",
      "ERROR!!! Pos class completely filtered out\n",
      "ERROR!!! Pos class completely filtered out\n",
      "ERROR!!! Pos class completely filtered out\n",
      "ERROR!!! Pos class completely filtered out\n",
      "ERROR!!! Pos class completely filtered out\n"
     ]
    },
    {
     "name": "stderr",
     "output_type": "stream",
     "text": [
      "/home/shihab/anaconda3/envs/ana/lib/python3.7/site-packages/sklearn/metrics/_classification.py:896: RuntimeWarning: invalid value encountered in double_scalars\n",
      "  mcc = cov_ytyp / np.sqrt(cov_ytyt * cov_ypyp)\n",
      "/home/shihab/anaconda3/envs/ana/lib/python3.7/site-packages/sklearn/metrics/_classification.py:896: RuntimeWarning: invalid value encountered in double_scalars\n",
      "  mcc = cov_ytyp / np.sqrt(cov_ytyt * cov_ypyp)\n"
     ]
    },
    {
     "name": "stdout",
     "output_type": "stream",
     "text": [
      "ERROR!!! Pos class completely filtered out\n",
      "ERROR!!! Pos class completely filtered out\n",
      "2.34 [0.12, 0.519]\n",
      "('tomek', 'svm')\n",
      "ERROR!!! Pos class completely filtered out\n",
      "ERROR!!! Pos class completely filtered out\n",
      "ERROR!!! Pos class completely filtered out\n",
      "ERROR!!! Pos class completely filtered out\n",
      "ERROR!!! Pos class completely filtered out\n",
      "ERROR!!! Pos class completely filtered out\n",
      "ERROR!!! Pos class completely filtered out\n",
      "ERROR!!! Pos class completely filtered out\n",
      "ERROR!!! Pos class completely filtered out\n"
     ]
    },
    {
     "name": "stderr",
     "output_type": "stream",
     "text": [
      "/home/shihab/anaconda3/envs/ana/lib/python3.7/site-packages/sklearn/metrics/_classification.py:896: RuntimeWarning: invalid value encountered in double_scalars\n",
      "  mcc = cov_ytyp / np.sqrt(cov_ytyt * cov_ypyp)\n"
     ]
    },
    {
     "name": "stdout",
     "output_type": "stream",
     "text": [
      "ERROR!!! Pos class completely filtered out\n",
      "ERROR!!! Pos class completely filtered out\n",
      "ERROR!!! Pos class completely filtered out\n",
      "ERROR!!! Pos class completely filtered out\n"
     ]
    },
    {
     "name": "stderr",
     "output_type": "stream",
     "text": [
      "/home/shihab/anaconda3/envs/ana/lib/python3.7/site-packages/sklearn/metrics/_classification.py:896: RuntimeWarning: invalid value encountered in double_scalars\n",
      "  mcc = cov_ytyp / np.sqrt(cov_ytyt * cov_ypyp)\n",
      "/home/shihab/anaconda3/envs/ana/lib/python3.7/site-packages/sklearn/metrics/_classification.py:896: RuntimeWarning: invalid value encountered in double_scalars\n",
      "  mcc = cov_ytyp / np.sqrt(cov_ytyt * cov_ypyp)\n",
      "/home/shihab/anaconda3/envs/ana/lib/python3.7/site-packages/sklearn/metrics/_classification.py:896: RuntimeWarning: invalid value encountered in double_scalars\n",
      "  mcc = cov_ytyp / np.sqrt(cov_ytyt * cov_ypyp)\n"
     ]
    },
    {
     "name": "stdout",
     "output_type": "stream",
     "text": [
      "ERROR!!! Pos class completely filtered out\n",
      "ERROR!!! Pos class completely filtered out\n",
      "ERROR!!! Pos class completely filtered out\n"
     ]
    },
    {
     "name": "stderr",
     "output_type": "stream",
     "text": [
      "/home/shihab/anaconda3/envs/ana/lib/python3.7/site-packages/sklearn/metrics/_classification.py:896: RuntimeWarning: invalid value encountered in double_scalars\n",
      "  mcc = cov_ytyp / np.sqrt(cov_ytyt * cov_ypyp)\n"
     ]
    },
    {
     "name": "stdout",
     "output_type": "stream",
     "text": [
      "2.5 [0.053, 0.267]\n",
      "('tomek', 'knn')\n",
      "ERROR!!! Pos class completely filtered out\n",
      "ERROR!!! Pos class completely filtered out\n",
      "ERROR!!! Pos class completely filtered out\n",
      "ERROR!!! Pos class completely filtered out\n"
     ]
    },
    {
     "name": "stderr",
     "output_type": "stream",
     "text": [
      "/home/shihab/anaconda3/envs/ana/lib/python3.7/site-packages/sklearn/metrics/_classification.py:896: RuntimeWarning: invalid value encountered in double_scalars\n",
      "  mcc = cov_ytyp / np.sqrt(cov_ytyt * cov_ypyp)\n"
     ]
    },
    {
     "name": "stdout",
     "output_type": "stream",
     "text": [
      "ERROR!!! Pos class completely filtered out\n",
      "ERROR!!! Pos class completely filtered out\n",
      "ERROR!!! Pos class completely filtered out\n",
      "ERROR!!! Pos class completely filtered out\n",
      "ERROR!!! Pos class completely filtered out\n",
      "ERROR!!! Pos class completely filtered out\n",
      "ERROR!!! Pos class completely filtered out\n",
      "ERROR!!! Pos class completely filtered out\n",
      "ERROR!!! Pos class completely filtered out\n"
     ]
    },
    {
     "name": "stderr",
     "output_type": "stream",
     "text": [
      "/home/shihab/anaconda3/envs/ana/lib/python3.7/site-packages/sklearn/metrics/_classification.py:896: RuntimeWarning: invalid value encountered in double_scalars\n",
      "  mcc = cov_ytyp / np.sqrt(cov_ytyt * cov_ypyp)\n"
     ]
    },
    {
     "name": "stdout",
     "output_type": "stream",
     "text": [
      "ERROR!!! Pos class completely filtered out\n"
     ]
    },
    {
     "name": "stderr",
     "output_type": "stream",
     "text": [
      "/home/shihab/anaconda3/envs/ana/lib/python3.7/site-packages/sklearn/metrics/_classification.py:896: RuntimeWarning: invalid value encountered in double_scalars\n",
      "  mcc = cov_ytyp / np.sqrt(cov_ytyt * cov_ypyp)\n"
     ]
    },
    {
     "name": "stdout",
     "output_type": "stream",
     "text": [
      "ERROR!!! Pos class completely filtered out\n",
      "ERROR!!! Pos class completely filtered out\n",
      "ERROR!!! Pos class completely filtered out\n"
     ]
    },
    {
     "name": "stderr",
     "output_type": "stream",
     "text": [
      "/home/shihab/anaconda3/envs/ana/lib/python3.7/site-packages/sklearn/metrics/_classification.py:896: RuntimeWarning: invalid value encountered in double_scalars\n",
      "  mcc = cov_ytyp / np.sqrt(cov_ytyt * cov_ypyp)\n"
     ]
    },
    {
     "name": "stdout",
     "output_type": "stream",
     "text": [
      "2.51 [0.058, 0.564]\n",
      "('tomek', 'rf')\n",
      "ERROR!!! Pos class completely filtered out\n",
      "ERROR!!! Pos class completely filtered out\n"
     ]
    },
    {
     "name": "stderr",
     "output_type": "stream",
     "text": [
      "/home/shihab/anaconda3/envs/ana/lib/python3.7/site-packages/sklearn/metrics/_classification.py:896: RuntimeWarning: invalid value encountered in double_scalars\n",
      "  mcc = cov_ytyp / np.sqrt(cov_ytyt * cov_ypyp)\n"
     ]
    },
    {
     "name": "stdout",
     "output_type": "stream",
     "text": [
      "ERROR!!! Pos class completely filtered out\n",
      "ERROR!!! Pos class completely filtered out\n"
     ]
    },
    {
     "name": "stderr",
     "output_type": "stream",
     "text": [
      "/home/shihab/anaconda3/envs/ana/lib/python3.7/site-packages/sklearn/metrics/_classification.py:896: RuntimeWarning: invalid value encountered in double_scalars\n",
      "  mcc = cov_ytyp / np.sqrt(cov_ytyt * cov_ypyp)\n"
     ]
    },
    {
     "name": "stdout",
     "output_type": "stream",
     "text": [
      "ERROR!!! Pos class completely filtered out\n",
      "ERROR!!! Pos class completely filtered out\n"
     ]
    },
    {
     "name": "stderr",
     "output_type": "stream",
     "text": [
      "/home/shihab/anaconda3/envs/ana/lib/python3.7/site-packages/sklearn/metrics/_classification.py:896: RuntimeWarning: invalid value encountered in double_scalars\n",
      "  mcc = cov_ytyp / np.sqrt(cov_ytyt * cov_ypyp)\n"
     ]
    },
    {
     "name": "stdout",
     "output_type": "stream",
     "text": [
      "ERROR!!! Pos class completely filtered out\n",
      "ERROR!!! Pos class completely filtered out\n",
      "ERROR!!! Pos class completely filtered out\n"
     ]
    },
    {
     "name": "stderr",
     "output_type": "stream",
     "text": [
      "/home/shihab/anaconda3/envs/ana/lib/python3.7/site-packages/sklearn/metrics/_classification.py:896: RuntimeWarning: invalid value encountered in double_scalars\n",
      "  mcc = cov_ytyp / np.sqrt(cov_ytyt * cov_ypyp)\n"
     ]
    },
    {
     "name": "stdout",
     "output_type": "stream",
     "text": [
      "ERROR!!! Pos class completely filtered out\n"
     ]
    },
    {
     "name": "stderr",
     "output_type": "stream",
     "text": [
      "/home/shihab/anaconda3/envs/ana/lib/python3.7/site-packages/sklearn/metrics/_classification.py:896: RuntimeWarning: invalid value encountered in double_scalars\n",
      "  mcc = cov_ytyp / np.sqrt(cov_ytyt * cov_ypyp)\n"
     ]
    },
    {
     "name": "stdout",
     "output_type": "stream",
     "text": [
      "ERROR!!! Pos class completely filtered out\n",
      "ERROR!!! Pos class completely filtered out\n"
     ]
    },
    {
     "name": "stderr",
     "output_type": "stream",
     "text": [
      "/home/shihab/anaconda3/envs/ana/lib/python3.7/site-packages/sklearn/metrics/_classification.py:896: RuntimeWarning: invalid value encountered in double_scalars\n",
      "  mcc = cov_ytyp / np.sqrt(cov_ytyt * cov_ypyp)\n",
      "/home/shihab/anaconda3/envs/ana/lib/python3.7/site-packages/sklearn/metrics/_classification.py:896: RuntimeWarning: invalid value encountered in double_scalars\n",
      "  mcc = cov_ytyp / np.sqrt(cov_ytyt * cov_ypyp)\n"
     ]
    },
    {
     "name": "stdout",
     "output_type": "stream",
     "text": [
      "ERROR!!! Pos class completely filtered out\n",
      "ERROR!!! Pos class completely filtered out\n",
      "3.01 [0.046, 0.446]\n",
      "('None', 'dt')\n",
      "ERROR!!! Pos class completely filtered out\n",
      "ERROR!!! Pos class completely filtered out\n",
      "ERROR!!! Pos class completely filtered out\n",
      "ERROR!!! Pos class completely filtered out\n",
      "ERROR!!! Pos class completely filtered out\n",
      "ERROR!!! Pos class completely filtered out\n",
      "ERROR!!! Pos class completely filtered out\n"
     ]
    },
    {
     "name": "stderr",
     "output_type": "stream",
     "text": [
      "/home/shihab/anaconda3/envs/ana/lib/python3.7/site-packages/sklearn/metrics/_classification.py:896: RuntimeWarning: invalid value encountered in double_scalars\n",
      "  mcc = cov_ytyp / np.sqrt(cov_ytyt * cov_ypyp)\n"
     ]
    },
    {
     "name": "stdout",
     "output_type": "stream",
     "text": [
      "ERROR!!! Pos class completely filtered out\n",
      "ERROR!!! Pos class completely filtered out\n",
      "ERROR!!! Pos class completely filtered out\n",
      "ERROR!!! Pos class completely filtered out\n",
      "ERROR!!! Pos class completely filtered out\n",
      "ERROR!!! Pos class completely filtered out\n",
      "ERROR!!! Pos class completely filtered out\n",
      "ERROR!!! Pos class completely filtered out\n",
      "ERROR!!! Pos class completely filtered out\n",
      "ERROR!!! Pos class completely filtered out\n",
      "ERROR!!! Pos class completely filtered out\n",
      "ERROR!!! Pos class completely filtered out\n",
      "ERROR!!! Pos class completely filtered out\n",
      "0.45 [0.103, 0.621]\n",
      "('None', 'lr')\n",
      "ERROR!!! Pos class completely filtered out\n",
      "ERROR!!! Pos class completely filtered out\n",
      "ERROR!!! Pos class completely filtered out\n",
      "ERROR!!! Pos class completely filtered out\n",
      "ERROR!!! Pos class completely filtered out\n",
      "ERROR!!! Pos class completely filtered out\n",
      "ERROR!!! Pos class completely filtered out\n",
      "ERROR!!! Pos class completely filtered out\n",
      "ERROR!!! Pos class completely filtered out\n",
      "ERROR!!! Pos class completely filtered out\n",
      "ERROR!!! Pos class completely filtered out\n",
      "ERROR!!! Pos class completely filtered out\n",
      "ERROR!!! Pos class completely filtered out\n",
      "ERROR!!! Pos class completely filtered out\n",
      "ERROR!!! Pos class completely filtered out\n",
      "ERROR!!! Pos class completely filtered out\n",
      "ERROR!!! Pos class completely filtered out\n"
     ]
    },
    {
     "name": "stderr",
     "output_type": "stream",
     "text": [
      "/home/shihab/anaconda3/envs/ana/lib/python3.7/site-packages/sklearn/metrics/_classification.py:896: RuntimeWarning: invalid value encountered in double_scalars\n",
      "  mcc = cov_ytyp / np.sqrt(cov_ytyt * cov_ypyp)\n",
      "/home/shihab/anaconda3/envs/ana/lib/python3.7/site-packages/sklearn/metrics/_classification.py:896: RuntimeWarning: invalid value encountered in double_scalars\n",
      "  mcc = cov_ytyp / np.sqrt(cov_ytyt * cov_ypyp)\n",
      "/home/shihab/anaconda3/envs/ana/lib/python3.7/site-packages/sklearn/metrics/_classification.py:896: RuntimeWarning: invalid value encountered in double_scalars\n",
      "  mcc = cov_ytyp / np.sqrt(cov_ytyt * cov_ypyp)\n",
      "/home/shihab/anaconda3/envs/ana/lib/python3.7/site-packages/sklearn/metrics/_classification.py:896: RuntimeWarning: invalid value encountered in double_scalars\n",
      "  mcc = cov_ytyp / np.sqrt(cov_ytyt * cov_ypyp)\n"
     ]
    },
    {
     "name": "stdout",
     "output_type": "stream",
     "text": [
      "ERROR!!! Pos class completely filtered out\n",
      "ERROR!!! Pos class completely filtered out\n",
      "ERROR!!! Pos class completely filtered out\n",
      "ERROR!!! Pos class completely filtered out\n",
      "ERROR!!! Pos class completely filtered out\n",
      "0.51 [0.0, 0.423]\n",
      "('None', 'nb')\n",
      "ERROR!!! Pos class completely filtered out\n",
      "ERROR!!! Pos class completely filtered out\n",
      "ERROR!!! Pos class completely filtered out\n",
      "ERROR!!! Pos class completely filtered out\n",
      "ERROR!!! Pos class completely filtered out\n",
      "ERROR!!! Pos class completely filtered out\n",
      "ERROR!!! Pos class completely filtered out\n",
      "ERROR!!! Pos class completely filtered out\n",
      "ERROR!!! Pos class completely filtered out\n",
      "ERROR!!! Pos class completely filtered out\n",
      "ERROR!!! Pos class completely filtered out\n",
      "ERROR!!! Pos class completely filtered out\n",
      "ERROR!!! Pos class completely filtered out\n"
     ]
    },
    {
     "name": "stderr",
     "output_type": "stream",
     "text": [
      "/home/shihab/anaconda3/envs/ana/lib/python3.7/site-packages/sklearn/metrics/_classification.py:896: RuntimeWarning: invalid value encountered in double_scalars\n",
      "  mcc = cov_ytyp / np.sqrt(cov_ytyt * cov_ypyp)\n",
      "/home/shihab/anaconda3/envs/ana/lib/python3.7/site-packages/sklearn/metrics/_classification.py:896: RuntimeWarning: invalid value encountered in double_scalars\n",
      "  mcc = cov_ytyp / np.sqrt(cov_ytyt * cov_ypyp)\n",
      "/home/shihab/anaconda3/envs/ana/lib/python3.7/site-packages/sklearn/metrics/_classification.py:896: RuntimeWarning: invalid value encountered in double_scalars\n",
      "  mcc = cov_ytyp / np.sqrt(cov_ytyt * cov_ypyp)\n"
     ]
    },
    {
     "name": "stdout",
     "output_type": "stream",
     "text": [
      "ERROR!!! Pos class completely filtered out\n",
      "ERROR!!! Pos class completely filtered out\n",
      "ERROR!!! Pos class completely filtered out\n",
      "0.47 [0.084, 0.546]\n",
      "('None', 'svm')\n",
      "ERROR!!! Pos class completely filtered out\n",
      "ERROR!!! Pos class completely filtered out\n",
      "ERROR!!! Pos class completely filtered out\n",
      "ERROR!!! Pos class completely filtered out\n"
     ]
    },
    {
     "name": "stderr",
     "output_type": "stream",
     "text": [
      "/home/shihab/anaconda3/envs/ana/lib/python3.7/site-packages/sklearn/metrics/_classification.py:896: RuntimeWarning: invalid value encountered in double_scalars\n",
      "  mcc = cov_ytyp / np.sqrt(cov_ytyt * cov_ypyp)\n",
      "/home/shihab/anaconda3/envs/ana/lib/python3.7/site-packages/sklearn/metrics/_classification.py:896: RuntimeWarning: invalid value encountered in double_scalars\n",
      "  mcc = cov_ytyp / np.sqrt(cov_ytyt * cov_ypyp)\n"
     ]
    },
    {
     "name": "stdout",
     "output_type": "stream",
     "text": [
      "ERROR!!! Pos class completely filtered out\n",
      "ERROR!!! Pos class completely filtered out\n",
      "ERROR!!! Pos class completely filtered out\n",
      "ERROR!!! Pos class completely filtered out\n",
      "ERROR!!! Pos class completely filtered out\n",
      "ERROR!!! Pos class completely filtered out\n",
      "ERROR!!! Pos class completely filtered out\n"
     ]
    },
    {
     "name": "stderr",
     "output_type": "stream",
     "text": [
      "/home/shihab/anaconda3/envs/ana/lib/python3.7/site-packages/sklearn/metrics/_classification.py:896: RuntimeWarning: invalid value encountered in double_scalars\n",
      "  mcc = cov_ytyp / np.sqrt(cov_ytyt * cov_ypyp)\n",
      "/home/shihab/anaconda3/envs/ana/lib/python3.7/site-packages/sklearn/metrics/_classification.py:896: RuntimeWarning: invalid value encountered in double_scalars\n",
      "  mcc = cov_ytyp / np.sqrt(cov_ytyt * cov_ypyp)\n"
     ]
    },
    {
     "name": "stdout",
     "output_type": "stream",
     "text": [
      "ERROR!!! Pos class completely filtered out\n",
      "ERROR!!! Pos class completely filtered out\n",
      "ERROR!!! Pos class completely filtered out\n",
      "ERROR!!! Pos class completely filtered out\n",
      "ERROR!!! Pos class completely filtered out\n",
      "ERROR!!! Pos class completely filtered out\n",
      "ERROR!!! Pos class completely filtered out\n",
      "ERROR!!! Pos class completely filtered out\n",
      "0.57 [0.033, 0.276]\n",
      "('None', 'knn')\n",
      "ERROR!!! Pos class completely filtered out\n",
      "ERROR!!! Pos class completely filtered out\n",
      "ERROR!!! Pos class completely filtered out\n",
      "ERROR!!! Pos class completely filtered out\n",
      "ERROR!!! Pos class completely filtered out\n",
      "ERROR!!! Pos class completely filtered out\n",
      "ERROR!!! Pos class completely filtered out\n",
      "ERROR!!! Pos class completely filtered out\n",
      "ERROR!!! Pos class completely filtered out\n",
      "ERROR!!! Pos class completely filtered out\n"
     ]
    },
    {
     "name": "stderr",
     "output_type": "stream",
     "text": [
      "/home/shihab/anaconda3/envs/ana/lib/python3.7/site-packages/sklearn/metrics/_classification.py:896: RuntimeWarning: invalid value encountered in double_scalars\n",
      "  mcc = cov_ytyp / np.sqrt(cov_ytyt * cov_ypyp)\n",
      "/home/shihab/anaconda3/envs/ana/lib/python3.7/site-packages/sklearn/metrics/_classification.py:896: RuntimeWarning: invalid value encountered in double_scalars\n",
      "  mcc = cov_ytyp / np.sqrt(cov_ytyt * cov_ypyp)\n"
     ]
    },
    {
     "name": "stdout",
     "output_type": "stream",
     "text": [
      "ERROR!!! Pos class completely filtered out\n",
      "ERROR!!! Pos class completely filtered out\n",
      "ERROR!!! Pos class completely filtered out\n",
      "ERROR!!! Pos class completely filtered out\n",
      "ERROR!!! Pos class completely filtered out\n",
      "ERROR!!! Pos class completely filtered out\n"
     ]
    },
    {
     "name": "stderr",
     "output_type": "stream",
     "text": [
      "/home/shihab/anaconda3/envs/ana/lib/python3.7/site-packages/sklearn/metrics/_classification.py:896: RuntimeWarning: invalid value encountered in double_scalars\n",
      "  mcc = cov_ytyp / np.sqrt(cov_ytyt * cov_ypyp)\n",
      "/home/shihab/anaconda3/envs/ana/lib/python3.7/site-packages/sklearn/metrics/_classification.py:896: RuntimeWarning: invalid value encountered in double_scalars\n",
      "  mcc = cov_ytyp / np.sqrt(cov_ytyt * cov_ypyp)\n"
     ]
    },
    {
     "name": "stdout",
     "output_type": "stream",
     "text": [
      "ERROR!!! Pos class completely filtered out\n",
      "ERROR!!! Pos class completely filtered out\n",
      "ERROR!!! Pos class completely filtered out\n",
      "ERROR!!! Pos class completely filtered out\n",
      "0.59 [0.028, 0.587]\n",
      "('None', 'rf')\n",
      "ERROR!!! Pos class completely filtered out\n",
      "ERROR!!! Pos class completely filtered out\n"
     ]
    },
    {
     "name": "stderr",
     "output_type": "stream",
     "text": [
      "/home/shihab/anaconda3/envs/ana/lib/python3.7/site-packages/sklearn/metrics/_classification.py:896: RuntimeWarning: invalid value encountered in double_scalars\n",
      "  mcc = cov_ytyp / np.sqrt(cov_ytyt * cov_ypyp)\n",
      "/home/shihab/anaconda3/envs/ana/lib/python3.7/site-packages/sklearn/metrics/_classification.py:896: RuntimeWarning: invalid value encountered in double_scalars\n",
      "  mcc = cov_ytyp / np.sqrt(cov_ytyt * cov_ypyp)\n"
     ]
    },
    {
     "name": "stdout",
     "output_type": "stream",
     "text": [
      "ERROR!!! Pos class completely filtered out\n",
      "ERROR!!! Pos class completely filtered out\n",
      "ERROR!!! Pos class completely filtered out\n",
      "ERROR!!! Pos class completely filtered out\n",
      "ERROR!!! Pos class completely filtered out\n",
      "ERROR!!! Pos class completely filtered out\n",
      "ERROR!!! Pos class completely filtered out\n",
      "ERROR!!! Pos class completely filtered out\n",
      "ERROR!!! Pos class completely filtered out\n",
      "ERROR!!! Pos class completely filtered out\n",
      "ERROR!!! Pos class completely filtered out\n"
     ]
    },
    {
     "name": "stderr",
     "output_type": "stream",
     "text": [
      "/home/shihab/anaconda3/envs/ana/lib/python3.7/site-packages/sklearn/metrics/_classification.py:896: RuntimeWarning: invalid value encountered in double_scalars\n",
      "  mcc = cov_ytyp / np.sqrt(cov_ytyt * cov_ypyp)\n"
     ]
    },
    {
     "name": "stdout",
     "output_type": "stream",
     "text": [
      "ERROR!!! Pos class completely filtered out\n",
      "ERROR!!! Pos class completely filtered out\n",
      "ERROR!!! Pos class completely filtered out\n",
      "ERROR!!! Pos class completely filtered out\n",
      "ERROR!!! Pos class completely filtered out\n",
      "ERROR!!! Pos class completely filtered out\n",
      "ERROR!!! Pos class completely filtered out\n",
      "0.77 [0.052, 0.456]\n",
      "('ens', 'rboost_DT')\n",
      "1.58 [0.222, 0.477]\n",
      "('ens', 'rboost_NB')\n",
      "1.37 [0.257, 0.503]\n",
      "('ens', 'bbag_DT')\n",
      "ERROR!!! Pos class completely filtered out\n",
      "23.16 [0.262, 0.462]\n",
      "('ens', 'bbag_NB')\n",
      "ERROR!!! Pos class completely filtered out\n",
      "ERROR!!! Pos class completely filtered out\n",
      "ERROR!!! Pos class completely filtered out\n",
      "ERROR!!! Pos class completely filtered out\n",
      "20.25 [0.264, 0.46]\n",
      "\n",
      "camel-2.11.0.csv noise:0.024, imb:43.230,200,8646, Shape:(8846, 65)\n",
      "('smote', 'dt')\n",
      "7.19 [0.188, 0.362]\n",
      "('smote', 'lr')\n",
      "16.89 [0.202, 0.156]\n",
      "('smote', 'nb')\n",
      "6.25 [0.166, 0.313]\n",
      "('smote', 'svm')\n",
      "244.18 [0.224, 0.125]\n",
      "('smote', 'knn')\n",
      "20.11 [0.213, 0.294]\n",
      "('smote', 'rf')\n",
      "22.9 [0.238, 0.209]\n",
      "('rus', 'dt')\n",
      "0.58 [0.151, 0.389]\n",
      "('rus', 'lr')\n",
      "0.85 [0.175, 0.15]\n",
      "('rus', 'nb')\n",
      "0.53 [0.152, 0.333]\n",
      "('rus', 'svm')\n",
      "0.9 [0.164, 0.13]\n",
      "('rus', 'knn')\n",
      "1.1 [0.184, 0.329]\n",
      "('rus', 'rf')\n",
      "1.85 [0.153, 0.274]\n",
      "('wilson', 'dt')\n",
      "ERROR!!! Pos class completely filtered out\n"
     ]
    },
    {
     "name": "stderr",
     "output_type": "stream",
     "text": [
      "/home/shihab/anaconda3/envs/ana/lib/python3.7/site-packages/sklearn/metrics/_classification.py:896: RuntimeWarning: invalid value encountered in double_scalars\n",
      "  mcc = cov_ytyp / np.sqrt(cov_ytyt * cov_ypyp)\n"
     ]
    },
    {
     "name": "stdout",
     "output_type": "stream",
     "text": [
      "ERROR!!! Pos class completely filtered out\n",
      "ERROR!!! Pos class completely filtered out\n",
      "ERROR!!! Pos class completely filtered out\n",
      "ERROR!!! Pos class completely filtered out\n",
      "ERROR!!! Pos class completely filtered out\n",
      "ERROR!!! Pos class completely filtered out\n",
      "46.58 [0.097, 0.256]\n",
      "('wilson', 'lr')\n",
      "ERROR!!! Pos class completely filtered out\n"
     ]
    },
    {
     "name": "stderr",
     "output_type": "stream",
     "text": [
      "/home/shihab/anaconda3/envs/ana/lib/python3.7/site-packages/sklearn/metrics/_classification.py:896: RuntimeWarning: invalid value encountered in double_scalars\n",
      "  mcc = cov_ytyp / np.sqrt(cov_ytyt * cov_ypyp)\n"
     ]
    },
    {
     "name": "stdout",
     "output_type": "stream",
     "text": [
      "ERROR!!! Pos class completely filtered out\n"
     ]
    },
    {
     "name": "stderr",
     "output_type": "stream",
     "text": [
      "/home/shihab/anaconda3/envs/ana/lib/python3.7/site-packages/sklearn/metrics/_classification.py:896: RuntimeWarning: invalid value encountered in double_scalars\n",
      "  mcc = cov_ytyp / np.sqrt(cov_ytyt * cov_ypyp)\n",
      "/home/shihab/anaconda3/envs/ana/lib/python3.7/site-packages/sklearn/metrics/_classification.py:896: RuntimeWarning: invalid value encountered in double_scalars\n",
      "  mcc = cov_ytyp / np.sqrt(cov_ytyt * cov_ypyp)\n"
     ]
    },
    {
     "name": "stdout",
     "output_type": "stream",
     "text": [
      "ERROR!!! Pos class completely filtered out\n"
     ]
    },
    {
     "name": "stderr",
     "output_type": "stream",
     "text": [
      "/home/shihab/anaconda3/envs/ana/lib/python3.7/site-packages/sklearn/metrics/_classification.py:896: RuntimeWarning: invalid value encountered in double_scalars\n",
      "  mcc = cov_ytyp / np.sqrt(cov_ytyt * cov_ypyp)\n"
     ]
    },
    {
     "name": "stdout",
     "output_type": "stream",
     "text": [
      "ERROR!!! Pos class completely filtered out\n",
      "ERROR!!! Pos class completely filtered out\n",
      "ERROR!!! Pos class completely filtered out\n",
      "ERROR!!! Pos class completely filtered out\n",
      "ERROR!!! Pos class completely filtered out\n",
      "ERROR!!! Pos class completely filtered out\n",
      "ERROR!!! Pos class completely filtered out\n",
      "ERROR!!! Pos class completely filtered out\n",
      "47.8 [0.075, 0.16]\n",
      "('wilson', 'nb')\n"
     ]
    },
    {
     "name": "stderr",
     "output_type": "stream",
     "text": [
      "/home/shihab/anaconda3/envs/ana/lib/python3.7/site-packages/sklearn/metrics/_classification.py:896: RuntimeWarning: invalid value encountered in double_scalars\n",
      "  mcc = cov_ytyp / np.sqrt(cov_ytyt * cov_ypyp)\n"
     ]
    },
    {
     "name": "stdout",
     "output_type": "stream",
     "text": [
      "ERROR!!! Pos class completely filtered out\n"
     ]
    },
    {
     "name": "stderr",
     "output_type": "stream",
     "text": [
      "/home/shihab/anaconda3/envs/ana/lib/python3.7/site-packages/sklearn/metrics/_classification.py:896: RuntimeWarning: invalid value encountered in double_scalars\n",
      "  mcc = cov_ytyp / np.sqrt(cov_ytyt * cov_ypyp)\n"
     ]
    },
    {
     "name": "stdout",
     "output_type": "stream",
     "text": [
      "ERROR!!! Pos class completely filtered out\n"
     ]
    },
    {
     "name": "stderr",
     "output_type": "stream",
     "text": [
      "/home/shihab/anaconda3/envs/ana/lib/python3.7/site-packages/sklearn/metrics/_classification.py:896: RuntimeWarning: invalid value encountered in double_scalars\n",
      "  mcc = cov_ytyp / np.sqrt(cov_ytyt * cov_ypyp)\n",
      "/home/shihab/anaconda3/envs/ana/lib/python3.7/site-packages/sklearn/metrics/_classification.py:896: RuntimeWarning: invalid value encountered in double_scalars\n",
      "  mcc = cov_ytyp / np.sqrt(cov_ytyt * cov_ypyp)\n"
     ]
    },
    {
     "name": "stdout",
     "output_type": "stream",
     "text": [
      "ERROR!!! Pos class completely filtered out\n"
     ]
    },
    {
     "name": "stderr",
     "output_type": "stream",
     "text": [
      "/home/shihab/anaconda3/envs/ana/lib/python3.7/site-packages/sklearn/metrics/_classification.py:896: RuntimeWarning: invalid value encountered in double_scalars\n",
      "  mcc = cov_ytyp / np.sqrt(cov_ytyt * cov_ypyp)\n"
     ]
    },
    {
     "name": "stdout",
     "output_type": "stream",
     "text": [
      "ERROR!!! Pos class completely filtered out\n",
      "ERROR!!! Pos class completely filtered out\n",
      "ERROR!!! Pos class completely filtered out\n",
      "ERROR!!! Pos class completely filtered out\n",
      "ERROR!!! Pos class completely filtered out\n"
     ]
    },
    {
     "name": "stderr",
     "output_type": "stream",
     "text": [
      "/home/shihab/anaconda3/envs/ana/lib/python3.7/site-packages/sklearn/metrics/_classification.py:896: RuntimeWarning: invalid value encountered in double_scalars\n",
      "  mcc = cov_ytyp / np.sqrt(cov_ytyt * cov_ypyp)\n"
     ]
    },
    {
     "name": "stdout",
     "output_type": "stream",
     "text": [
      "46.97 [0.122, 0.247]\n",
      "('wilson', 'svm')\n",
      "ERROR!!! Pos class completely filtered out\n",
      "ERROR!!! Pos class completely filtered out\n",
      "ERROR!!! Pos class completely filtered out\n",
      "ERROR!!! Pos class completely filtered out\n",
      "ERROR!!! Pos class completely filtered out\n",
      "ERROR!!! Pos class completely filtered out\n",
      "ERROR!!! Pos class completely filtered out\n",
      "ERROR!!! Pos class completely filtered out\n",
      "ERROR!!! Pos class completely filtered out\n",
      "ERROR!!! Pos class completely filtered out\n",
      "ERROR!!! Pos class completely filtered out\n",
      "ERROR!!! Pos class completely filtered out\n",
      "48.34 [0.105, 0.08]\n",
      "('wilson', 'knn')\n",
      "ERROR!!! Pos class completely filtered out\n"
     ]
    },
    {
     "name": "stderr",
     "output_type": "stream",
     "text": [
      "/home/shihab/anaconda3/envs/ana/lib/python3.7/site-packages/sklearn/metrics/_classification.py:896: RuntimeWarning: invalid value encountered in double_scalars\n",
      "  mcc = cov_ytyp / np.sqrt(cov_ytyt * cov_ypyp)\n"
     ]
    },
    {
     "name": "stdout",
     "output_type": "stream",
     "text": [
      "ERROR!!! Pos class completely filtered out\n",
      "ERROR!!! Pos class completely filtered out\n",
      "ERROR!!! Pos class completely filtered out\n"
     ]
    },
    {
     "name": "stderr",
     "output_type": "stream",
     "text": [
      "/home/shihab/anaconda3/envs/ana/lib/python3.7/site-packages/sklearn/metrics/_classification.py:896: RuntimeWarning: invalid value encountered in double_scalars\n",
      "  mcc = cov_ytyp / np.sqrt(cov_ytyt * cov_ypyp)\n"
     ]
    },
    {
     "name": "stdout",
     "output_type": "stream",
     "text": [
      "ERROR!!! Pos class completely filtered out\n"
     ]
    },
    {
     "name": "stderr",
     "output_type": "stream",
     "text": [
      "/home/shihab/anaconda3/envs/ana/lib/python3.7/site-packages/sklearn/metrics/_classification.py:896: RuntimeWarning: invalid value encountered in double_scalars\n",
      "  mcc = cov_ytyp / np.sqrt(cov_ytyt * cov_ypyp)\n"
     ]
    },
    {
     "name": "stdout",
     "output_type": "stream",
     "text": [
      "ERROR!!! Pos class completely filtered out\n",
      "ERROR!!! Pos class completely filtered out\n"
     ]
    },
    {
     "name": "stderr",
     "output_type": "stream",
     "text": [
      "/home/shihab/anaconda3/envs/ana/lib/python3.7/site-packages/sklearn/metrics/_classification.py:896: RuntimeWarning: invalid value encountered in double_scalars\n",
      "  mcc = cov_ytyp / np.sqrt(cov_ytyt * cov_ypyp)\n"
     ]
    },
    {
     "name": "stdout",
     "output_type": "stream",
     "text": [
      "ERROR!!! Pos class completely filtered out\n",
      "ERROR!!! Pos class completely filtered out\n"
     ]
    },
    {
     "name": "stderr",
     "output_type": "stream",
     "text": [
      "/home/shihab/anaconda3/envs/ana/lib/python3.7/site-packages/sklearn/metrics/_classification.py:896: RuntimeWarning: invalid value encountered in double_scalars\n",
      "  mcc = cov_ytyp / np.sqrt(cov_ytyt * cov_ypyp)\n"
     ]
    },
    {
     "name": "stdout",
     "output_type": "stream",
     "text": [
      "54.16 [0.083, 0.235]\n",
      "('wilson', 'rf')\n",
      "ERROR!!! Pos class completely filtered out\n"
     ]
    },
    {
     "name": "stderr",
     "output_type": "stream",
     "text": [
      "/home/shihab/anaconda3/envs/ana/lib/python3.7/site-packages/sklearn/metrics/_classification.py:896: RuntimeWarning: invalid value encountered in double_scalars\n",
      "  mcc = cov_ytyp / np.sqrt(cov_ytyt * cov_ypyp)\n"
     ]
    },
    {
     "name": "stdout",
     "output_type": "stream",
     "text": [
      "ERROR!!! Pos class completely filtered out\n"
     ]
    },
    {
     "name": "stderr",
     "output_type": "stream",
     "text": [
      "/home/shihab/anaconda3/envs/ana/lib/python3.7/site-packages/sklearn/metrics/_classification.py:896: RuntimeWarning: invalid value encountered in double_scalars\n",
      "  mcc = cov_ytyp / np.sqrt(cov_ytyt * cov_ypyp)\n"
     ]
    },
    {
     "name": "stdout",
     "output_type": "stream",
     "text": [
      "ERROR!!! Pos class completely filtered out\n",
      "ERROR!!! Pos class completely filtered out\n"
     ]
    },
    {
     "name": "stderr",
     "output_type": "stream",
     "text": [
      "/home/shihab/anaconda3/envs/ana/lib/python3.7/site-packages/sklearn/metrics/_classification.py:896: RuntimeWarning: invalid value encountered in double_scalars\n",
      "  mcc = cov_ytyp / np.sqrt(cov_ytyt * cov_ypyp)\n"
     ]
    },
    {
     "name": "stdout",
     "output_type": "stream",
     "text": [
      "ERROR!!! Pos class completely filtered out\n",
      "ERROR!!! Pos class completely filtered out\n",
      "ERROR!!! Pos class completely filtered out\n",
      "ERROR!!! Pos class completely filtered out\n",
      "ERROR!!! Pos class completely filtered out\n",
      "47.9 [0.065, 0.137]\n",
      "('tomek', 'dt')\n",
      "ERROR!!! Pos class completely filtered out\n",
      "ERROR!!! Pos class completely filtered out\n",
      "ERROR!!! Pos class completely filtered out\n",
      "ERROR!!! Pos class completely filtered out\n",
      "ERROR!!! Pos class completely filtered out\n",
      "ERROR!!! Pos class completely filtered out\n",
      "ERROR!!! Pos class completely filtered out\n",
      "ERROR!!! Pos class completely filtered out\n",
      "ERROR!!! Pos class completely filtered out\n",
      "ERROR!!! Pos class completely filtered out\n",
      "ERROR!!! Pos class completely filtered out\n",
      "ERROR!!! Pos class completely filtered out\n",
      "ERROR!!! Pos class completely filtered out\n",
      "ERROR!!! Pos class completely filtered out\n",
      "ERROR!!! Pos class completely filtered out\n",
      "ERROR!!! Pos class completely filtered out\n",
      "ERROR!!! Pos class completely filtered out\n",
      "ERROR!!! Pos class completely filtered out\n",
      "ERROR!!! Pos class completely filtered out\n",
      "ERROR!!! Pos class completely filtered out\n",
      "ERROR!!! Pos class completely filtered out\n",
      "ERROR!!! Pos class completely filtered out\n",
      "ERROR!!! Pos class completely filtered out\n",
      "ERROR!!! Pos class completely filtered out\n",
      "36.89 [0.161, 0.524]\n",
      "('tomek', 'lr')\n",
      "ERROR!!! Pos class completely filtered out\n",
      "ERROR!!! Pos class completely filtered out\n",
      "ERROR!!! Pos class completely filtered out\n",
      "ERROR!!! Pos class completely filtered out\n",
      "ERROR!!! Pos class completely filtered out\n",
      "ERROR!!! Pos class completely filtered out\n",
      "ERROR!!! Pos class completely filtered out\n",
      "ERROR!!! Pos class completely filtered out\n",
      "ERROR!!! Pos class completely filtered out\n",
      "ERROR!!! Pos class completely filtered out\n",
      "ERROR!!! Pos class completely filtered out\n"
     ]
    },
    {
     "name": "stderr",
     "output_type": "stream",
     "text": [
      "/home/shihab/anaconda3/envs/ana/lib/python3.7/site-packages/sklearn/metrics/_classification.py:896: RuntimeWarning: invalid value encountered in double_scalars\n",
      "  mcc = cov_ytyp / np.sqrt(cov_ytyt * cov_ypyp)\n"
     ]
    },
    {
     "name": "stdout",
     "output_type": "stream",
     "text": [
      "ERROR!!! Pos class completely filtered out\n",
      "ERROR!!! Pos class completely filtered out\n",
      "ERROR!!! Pos class completely filtered out\n",
      "ERROR!!! Pos class completely filtered out\n",
      "ERROR!!! Pos class completely filtered out\n",
      "ERROR!!! Pos class completely filtered out\n"
     ]
    },
    {
     "name": "stderr",
     "output_type": "stream",
     "text": [
      "/home/shihab/anaconda3/envs/ana/lib/python3.7/site-packages/sklearn/metrics/_classification.py:896: RuntimeWarning: invalid value encountered in double_scalars\n",
      "  mcc = cov_ytyp / np.sqrt(cov_ytyt * cov_ypyp)\n"
     ]
    },
    {
     "name": "stdout",
     "output_type": "stream",
     "text": [
      "ERROR!!! Pos class completely filtered out\n"
     ]
    },
    {
     "name": "stderr",
     "output_type": "stream",
     "text": [
      "/home/shihab/anaconda3/envs/ana/lib/python3.7/site-packages/sklearn/metrics/_classification.py:896: RuntimeWarning: invalid value encountered in double_scalars\n",
      "  mcc = cov_ytyp / np.sqrt(cov_ytyt * cov_ypyp)\n"
     ]
    },
    {
     "name": "stdout",
     "output_type": "stream",
     "text": [
      "ERROR!!! Pos class completely filtered out\n",
      "ERROR!!! Pos class completely filtered out\n",
      "ERROR!!! Pos class completely filtered out\n",
      "ERROR!!! Pos class completely filtered out\n",
      "37.4 [0.0, 0.152]\n",
      "('tomek', 'nb')\n",
      "ERROR!!! Pos class completely filtered out\n",
      "ERROR!!! Pos class completely filtered out\n",
      "ERROR!!! Pos class completely filtered out\n",
      "ERROR!!! Pos class completely filtered out\n",
      "ERROR!!! Pos class completely filtered out\n",
      "ERROR!!! Pos class completely filtered out\n",
      "ERROR!!! Pos class completely filtered out\n",
      "ERROR!!! Pos class completely filtered out\n",
      "ERROR!!! Pos class completely filtered out\n",
      "ERROR!!! Pos class completely filtered out\n",
      "ERROR!!! Pos class completely filtered out\n",
      "ERROR!!! Pos class completely filtered out\n",
      "ERROR!!! Pos class completely filtered out\n",
      "ERROR!!! Pos class completely filtered out\n",
      "ERROR!!! Pos class completely filtered out\n",
      "ERROR!!! Pos class completely filtered out\n",
      "ERROR!!! Pos class completely filtered out\n"
     ]
    },
    {
     "name": "stderr",
     "output_type": "stream",
     "text": [
      "/home/shihab/anaconda3/envs/ana/lib/python3.7/site-packages/sklearn/metrics/_classification.py:896: RuntimeWarning: invalid value encountered in double_scalars\n",
      "  mcc = cov_ytyp / np.sqrt(cov_ytyt * cov_ypyp)\n"
     ]
    },
    {
     "name": "stdout",
     "output_type": "stream",
     "text": [
      "ERROR!!! Pos class completely filtered out\n",
      "ERROR!!! Pos class completely filtered out\n",
      "ERROR!!! Pos class completely filtered out\n",
      "ERROR!!! Pos class completely filtered out\n",
      "ERROR!!! Pos class completely filtered out\n",
      "ERROR!!! Pos class completely filtered out\n",
      "ERROR!!! Pos class completely filtered out\n",
      "37.82 [0.0, 0.511]\n",
      "('tomek', 'svm')\n",
      "ERROR!!! Pos class completely filtered out\n",
      "ERROR!!! Pos class completely filtered out\n",
      "ERROR!!! Pos class completely filtered out\n",
      "ERROR!!! Pos class completely filtered out\n",
      "ERROR!!! Pos class completely filtered out\n",
      "ERROR!!! Pos class completely filtered out\n",
      "ERROR!!! Pos class completely filtered out\n",
      "ERROR!!! Pos class completely filtered out\n",
      "ERROR!!! Pos class completely filtered out\n",
      "ERROR!!! Pos class completely filtered out\n",
      "ERROR!!! Pos class completely filtered out\n",
      "ERROR!!! Pos class completely filtered out\n",
      "ERROR!!! Pos class completely filtered out\n",
      "ERROR!!! Pos class completely filtered out\n",
      "ERROR!!! Pos class completely filtered out\n",
      "ERROR!!! Pos class completely filtered out\n",
      "ERROR!!! Pos class completely filtered out\n",
      "ERROR!!! Pos class completely filtered out\n",
      "ERROR!!! Pos class completely filtered out\n",
      "ERROR!!! Pos class completely filtered out\n",
      "ERROR!!! Pos class completely filtered out\n",
      "ERROR!!! Pos class completely filtered out\n",
      "ERROR!!! Pos class completely filtered out\n",
      "ERROR!!! Pos class completely filtered out\n",
      "36.86 [0.227, 0.067]\n",
      "('tomek', 'knn')\n",
      "ERROR!!! Pos class completely filtered out\n",
      "ERROR!!! Pos class completely filtered out\n",
      "ERROR!!! Pos class completely filtered out\n",
      "ERROR!!! Pos class completely filtered out\n",
      "ERROR!!! Pos class completely filtered out\n",
      "ERROR!!! Pos class completely filtered out\n",
      "ERROR!!! Pos class completely filtered out\n",
      "ERROR!!! Pos class completely filtered out\n",
      "ERROR!!! Pos class completely filtered out\n",
      "ERROR!!! Pos class completely filtered out\n",
      "ERROR!!! Pos class completely filtered out\n",
      "ERROR!!! Pos class completely filtered out\n",
      "ERROR!!! Pos class completely filtered out\n",
      "ERROR!!! Pos class completely filtered out\n",
      "ERROR!!! Pos class completely filtered out\n",
      "ERROR!!! Pos class completely filtered out\n",
      "ERROR!!! Pos class completely filtered out\n",
      "ERROR!!! Pos class completely filtered out\n",
      "ERROR!!! Pos class completely filtered out\n"
     ]
    },
    {
     "name": "stderr",
     "output_type": "stream",
     "text": [
      "/home/shihab/anaconda3/envs/ana/lib/python3.7/site-packages/sklearn/metrics/_classification.py:896: RuntimeWarning: invalid value encountered in double_scalars\n",
      "  mcc = cov_ytyp / np.sqrt(cov_ytyt * cov_ypyp)\n"
     ]
    },
    {
     "name": "stdout",
     "output_type": "stream",
     "text": [
      "ERROR!!! Pos class completely filtered out\n",
      "ERROR!!! Pos class completely filtered out\n",
      "ERROR!!! Pos class completely filtered out\n",
      "ERROR!!! Pos class completely filtered out\n",
      "ERROR!!! Pos class completely filtered out\n",
      "37.59 [0.0, 0.511]\n",
      "('tomek', 'rf')\n",
      "ERROR!!! Pos class completely filtered out\n",
      "ERROR!!! Pos class completely filtered out\n",
      "ERROR!!! Pos class completely filtered out\n",
      "ERROR!!! Pos class completely filtered out\n",
      "ERROR!!! Pos class completely filtered out\n",
      "ERROR!!! Pos class completely filtered out\n",
      "ERROR!!! Pos class completely filtered out\n",
      "ERROR!!! Pos class completely filtered out\n",
      "ERROR!!! Pos class completely filtered out\n",
      "ERROR!!! Pos class completely filtered out\n",
      "ERROR!!! Pos class completely filtered out\n",
      "ERROR!!! Pos class completely filtered out\n",
      "ERROR!!! Pos class completely filtered out\n",
      "ERROR!!! Pos class completely filtered out\n",
      "ERROR!!! Pos class completely filtered out\n",
      "ERROR!!! Pos class completely filtered out\n",
      "ERROR!!! Pos class completely filtered out\n",
      "ERROR!!! Pos class completely filtered out\n",
      "ERROR!!! Pos class completely filtered out\n",
      "ERROR!!! Pos class completely filtered out\n",
      "ERROR!!! Pos class completely filtered out\n",
      "ERROR!!! Pos class completely filtered out\n",
      "ERROR!!! Pos class completely filtered out\n",
      "ERROR!!! Pos class completely filtered out\n",
      "37.7 [0.111, 0.134]\n",
      "('None', 'dt')\n",
      "ERROR!!! Pos class completely filtered out\n",
      "ERROR!!! Pos class completely filtered out\n",
      "ERROR!!! Pos class completely filtered out\n",
      "ERROR!!! Pos class completely filtered out\n",
      "ERROR!!! Pos class completely filtered out\n",
      "ERROR!!! Pos class completely filtered out\n",
      "ERROR!!! Pos class completely filtered out\n",
      "ERROR!!! Pos class completely filtered out\n",
      "ERROR!!! Pos class completely filtered out\n",
      "ERROR!!! Pos class completely filtered out\n",
      "ERROR!!! Pos class completely filtered out\n",
      "ERROR!!! Pos class completely filtered out\n",
      "ERROR!!! Pos class completely filtered out\n",
      "ERROR!!! Pos class completely filtered out\n",
      "ERROR!!! Pos class completely filtered out\n",
      "ERROR!!! Pos class completely filtered out\n",
      "ERROR!!! Pos class completely filtered out\n",
      "ERROR!!! Pos class completely filtered out\n",
      "ERROR!!! Pos class completely filtered out\n",
      "ERROR!!! Pos class completely filtered out\n",
      "ERROR!!! Pos class completely filtered out\n",
      "ERROR!!! Pos class completely filtered out\n",
      "ERROR!!! Pos class completely filtered out\n",
      "ERROR!!! Pos class completely filtered out\n",
      "ERROR!!! Pos class completely filtered out\n",
      "1.05 [0.0, 0.0]\n",
      "('None', 'lr')\n",
      "ERROR!!! Pos class completely filtered out\n",
      "ERROR!!! Pos class completely filtered out\n",
      "ERROR!!! Pos class completely filtered out\n",
      "ERROR!!! Pos class completely filtered out\n",
      "ERROR!!! Pos class completely filtered out\n",
      "ERROR!!! Pos class completely filtered out\n",
      "ERROR!!! Pos class completely filtered out\n",
      "ERROR!!! Pos class completely filtered out\n",
      "ERROR!!! Pos class completely filtered out\n",
      "ERROR!!! Pos class completely filtered out\n",
      "ERROR!!! Pos class completely filtered out\n",
      "ERROR!!! Pos class completely filtered out\n",
      "ERROR!!! Pos class completely filtered out\n",
      "ERROR!!! Pos class completely filtered out\n",
      "ERROR!!! Pos class completely filtered out\n",
      "ERROR!!! Pos class completely filtered out\n",
      "ERROR!!! Pos class completely filtered out\n",
      "ERROR!!! Pos class completely filtered out\n",
      "ERROR!!! Pos class completely filtered out\n",
      "ERROR!!! Pos class completely filtered out\n",
      "ERROR!!! Pos class completely filtered out\n",
      "ERROR!!! Pos class completely filtered out\n",
      "ERROR!!! Pos class completely filtered out\n",
      "ERROR!!! Pos class completely filtered out\n",
      "ERROR!!! Pos class completely filtered out\n",
      "1.03 [0.0, 0.0]\n",
      "('None', 'nb')\n",
      "ERROR!!! Pos class completely filtered out\n",
      "ERROR!!! Pos class completely filtered out\n",
      "ERROR!!! Pos class completely filtered out\n",
      "ERROR!!! Pos class completely filtered out\n",
      "ERROR!!! Pos class completely filtered out\n",
      "ERROR!!! Pos class completely filtered out\n",
      "ERROR!!! Pos class completely filtered out\n",
      "ERROR!!! Pos class completely filtered out\n",
      "ERROR!!! Pos class completely filtered out\n",
      "ERROR!!! Pos class completely filtered out\n",
      "ERROR!!! Pos class completely filtered out\n",
      "ERROR!!! Pos class completely filtered out\n",
      "ERROR!!! Pos class completely filtered out\n",
      "ERROR!!! Pos class completely filtered out\n",
      "ERROR!!! Pos class completely filtered out\n",
      "ERROR!!! Pos class completely filtered out\n",
      "ERROR!!! Pos class completely filtered out\n",
      "ERROR!!! Pos class completely filtered out\n",
      "ERROR!!! Pos class completely filtered out\n",
      "ERROR!!! Pos class completely filtered out\n",
      "ERROR!!! Pos class completely filtered out\n",
      "ERROR!!! Pos class completely filtered out\n",
      "ERROR!!! Pos class completely filtered out\n",
      "ERROR!!! Pos class completely filtered out\n",
      "ERROR!!! Pos class completely filtered out\n",
      "1.01 [0.0, 0.0]\n",
      "('None', 'svm')\n",
      "ERROR!!! Pos class completely filtered out\n",
      "ERROR!!! Pos class completely filtered out\n",
      "ERROR!!! Pos class completely filtered out\n",
      "ERROR!!! Pos class completely filtered out\n",
      "ERROR!!! Pos class completely filtered out\n",
      "ERROR!!! Pos class completely filtered out\n",
      "ERROR!!! Pos class completely filtered out\n",
      "ERROR!!! Pos class completely filtered out\n",
      "ERROR!!! Pos class completely filtered out\n",
      "ERROR!!! Pos class completely filtered out\n",
      "ERROR!!! Pos class completely filtered out\n",
      "ERROR!!! Pos class completely filtered out\n",
      "ERROR!!! Pos class completely filtered out\n",
      "ERROR!!! Pos class completely filtered out\n"
     ]
    },
    {
     "name": "stderr",
     "output_type": "stream",
     "text": [
      "/home/shihab/anaconda3/envs/ana/lib/python3.7/site-packages/sklearn/metrics/_classification.py:896: RuntimeWarning: invalid value encountered in double_scalars\n",
      "  mcc = cov_ytyp / np.sqrt(cov_ytyt * cov_ypyp)\n"
     ]
    },
    {
     "name": "stdout",
     "output_type": "stream",
     "text": [
      "ERROR!!! Pos class completely filtered out\n",
      "ERROR!!! Pos class completely filtered out\n",
      "ERROR!!! Pos class completely filtered out\n",
      "ERROR!!! Pos class completely filtered out\n",
      "ERROR!!! Pos class completely filtered out\n",
      "ERROR!!! Pos class completely filtered out\n",
      "ERROR!!! Pos class completely filtered out\n",
      "ERROR!!! Pos class completely filtered out\n",
      "ERROR!!! Pos class completely filtered out\n",
      "ERROR!!! Pos class completely filtered out\n",
      "1.15 [0.0, 0.019]\n",
      "('None', 'knn')\n",
      "ERROR!!! Pos class completely filtered out\n",
      "ERROR!!! Pos class completely filtered out\n",
      "ERROR!!! Pos class completely filtered out\n",
      "ERROR!!! Pos class completely filtered out\n",
      "ERROR!!! Pos class completely filtered out\n",
      "ERROR!!! Pos class completely filtered out\n",
      "ERROR!!! Pos class completely filtered out\n",
      "ERROR!!! Pos class completely filtered out\n",
      "ERROR!!! Pos class completely filtered out\n",
      "ERROR!!! Pos class completely filtered out\n",
      "ERROR!!! Pos class completely filtered out\n",
      "ERROR!!! Pos class completely filtered out\n",
      "ERROR!!! Pos class completely filtered out\n",
      "ERROR!!! Pos class completely filtered out\n",
      "ERROR!!! Pos class completely filtered out\n",
      "ERROR!!! Pos class completely filtered out\n",
      "ERROR!!! Pos class completely filtered out\n",
      "ERROR!!! Pos class completely filtered out\n"
     ]
    },
    {
     "name": "stderr",
     "output_type": "stream",
     "text": [
      "/home/shihab/anaconda3/envs/ana/lib/python3.7/site-packages/sklearn/metrics/_classification.py:896: RuntimeWarning: invalid value encountered in double_scalars\n",
      "  mcc = cov_ytyp / np.sqrt(cov_ytyt * cov_ypyp)\n"
     ]
    },
    {
     "name": "stdout",
     "output_type": "stream",
     "text": [
      "ERROR!!! Pos class completely filtered out\n",
      "ERROR!!! Pos class completely filtered out\n",
      "ERROR!!! Pos class completely filtered out\n",
      "ERROR!!! Pos class completely filtered out\n",
      "ERROR!!! Pos class completely filtered out\n",
      "ERROR!!! Pos class completely filtered out\n",
      "1.58 [0.0, 0.51]\n",
      "('None', 'rf')\n",
      "ERROR!!! Pos class completely filtered out\n",
      "ERROR!!! Pos class completely filtered out\n",
      "ERROR!!! Pos class completely filtered out\n",
      "ERROR!!! Pos class completely filtered out\n",
      "ERROR!!! Pos class completely filtered out\n",
      "ERROR!!! Pos class completely filtered out\n",
      "ERROR!!! Pos class completely filtered out\n",
      "ERROR!!! Pos class completely filtered out\n",
      "ERROR!!! Pos class completely filtered out\n",
      "ERROR!!! Pos class completely filtered out\n",
      "ERROR!!! Pos class completely filtered out\n",
      "ERROR!!! Pos class completely filtered out\n",
      "ERROR!!! Pos class completely filtered out\n",
      "ERROR!!! Pos class completely filtered out\n",
      "ERROR!!! Pos class completely filtered out\n",
      "ERROR!!! Pos class completely filtered out\n",
      "ERROR!!! Pos class completely filtered out\n",
      "ERROR!!! Pos class completely filtered out\n",
      "ERROR!!! Pos class completely filtered out\n",
      "ERROR!!! Pos class completely filtered out\n",
      "ERROR!!! Pos class completely filtered out\n",
      "ERROR!!! Pos class completely filtered out\n",
      "ERROR!!! Pos class completely filtered out\n",
      "ERROR!!! Pos class completely filtered out\n",
      "1.23 [0.111, 0.118]\n",
      "('ens', 'rboost_DT')\n",
      "1.59 [0.16, 0.328]\n",
      "('ens', 'rboost_NB')\n",
      "1.66 [0.156, 0.361]\n",
      "('ens', 'bbag_DT')\n",
      "24.99 [0.172, 0.206]\n",
      "('ens', 'bbag_NB')\n",
      "25.48 [0.152, 0.253]\n",
      "\n",
      "jruby-1.7.0.preview1.csv noise:0.099, imb:8.902,163,1451, Shape:(1614, 65)\n",
      "('smote', 'dt')\n",
      "1.76 [0.263, 0.421]\n",
      "('smote', 'lr')\n",
      "4.18 [0.297, 0.341]\n",
      "('smote', 'nb')\n",
      "1.53 [0.295, 0.454]\n",
      "('smote', 'svm')\n",
      "8.5 [0.303, 0.246]\n",
      "('smote', 'knn')\n",
      "2.07 [0.279, 0.425]\n",
      "('smote', 'rf')\n",
      "4.92 [0.279, 0.317]\n",
      "('rus', 'dt')\n",
      "0.39 [0.287, 0.471]\n",
      "('rus', 'lr')\n",
      "0.77 [0.281, 0.344]\n",
      "('rus', 'nb')\n",
      "0.4 [0.301, 0.476]\n",
      "('rus', 'svm')\n",
      "0.51 [0.309, 0.288]\n",
      "('rus', 'knn')\n",
      "0.51 [0.291, 0.449]\n",
      "('rus', 'rf')\n",
      "1.6 [0.283, 0.42]\n",
      "('wilson', 'dt')\n",
      "2.06 [0.334, 0.417]\n",
      "('wilson', 'lr')\n",
      "2.76 [0.311, 0.344]\n",
      "('wilson', 'nb')\n",
      "2.07 [0.313, 0.414]\n",
      "('wilson', 'svm')\n",
      "2.65 [0.304, 0.312]\n",
      "('wilson', 'knn')\n",
      "2.37 [0.296, 0.374]\n",
      "('wilson', 'rf')\n",
      "3.44 [0.312, 0.355]\n",
      "('tomek', 'dt')\n",
      "1.92 [0.295, 0.357]\n",
      "('tomek', 'lr')\n",
      "2.89 [0.315, 0.348]\n",
      "('tomek', 'nb')\n",
      "1.94 [0.313, 0.37]\n",
      "('tomek', 'svm')\n",
      "2.69 [0.312, 0.281]\n",
      "('tomek', 'knn')\n",
      "2.33 [0.333, 0.351]\n",
      "('tomek', 'rf')\n",
      "3.32 [0.295, 0.325]\n",
      "('None', 'dt')\n",
      "0.57 [0.314, 0.376]\n",
      "('None', 'lr')\n",
      "1.42 [0.328, 0.348]\n",
      "('None', 'nb')\n",
      "0.55 [0.312, 0.357]\n",
      "('None', 'svm')\n",
      "1.3 [0.321, 0.279]\n",
      "('None', 'knn')\n",
      "0.99 [0.322, 0.352]\n",
      "('None', 'rf')\n",
      "1.95 [0.318, 0.335]\n",
      "('ens', 'rboost_DT')\n",
      "1.27 [0.28, 0.459]\n",
      "('ens', 'rboost_NB')\n",
      "1.2 [0.3, 0.484]\n",
      "('ens', 'bbag_DT')\n",
      "19.94 [0.288, 0.396]\n",
      "('ens', 'bbag_NB')\n",
      "20.07 [0.3, 0.416]\n",
      "\n",
      "hive-0.10.0.csv noise:0.126, imb:29.000,52,1508, Shape:(1560, 65)\n",
      "('smote', 'dt')\n",
      "1.68 [0.318, 0.46]\n",
      "('smote', 'lr')\n",
      "4.16 [0.335, 0.405]\n",
      "('smote', 'nb')\n",
      "1.6 [0.41, 0.51]\n",
      "('smote', 'svm')\n",
      "16.09 [0.357, 0.386]\n",
      "('smote', 'knn')\n",
      "2.25 [0.301, 0.422]\n",
      "('smote', 'rf')\n",
      "5.96 [0.31, 0.382]\n",
      "('rus', 'dt')\n",
      "0.48 [0.339, 0.481]\n",
      "('rus', 'lr')\n",
      "0.61 [0.379, 0.383]\n",
      "('rus', 'nb')\n",
      "0.5 [0.365, 0.525]\n",
      "('rus', 'svm')\n",
      "0.48 [0.377, 0.399]\n",
      "('rus', 'knn')\n",
      "0.55 [0.374, 0.475]\n",
      "('rus', 'rf')\n",
      "1.64 [0.354, 0.432]\n",
      "('wilson', 'dt')\n",
      "ERROR!!! Pos class completely filtered out\n",
      "ERROR!!! Pos class completely filtered out\n"
     ]
    },
    {
     "name": "stderr",
     "output_type": "stream",
     "text": [
      "/home/shihab/anaconda3/envs/ana/lib/python3.7/site-packages/sklearn/metrics/_classification.py:896: RuntimeWarning: invalid value encountered in double_scalars\n",
      "  mcc = cov_ytyp / np.sqrt(cov_ytyt * cov_ypyp)\n"
     ]
    },
    {
     "name": "stdout",
     "output_type": "stream",
     "text": [
      "ERROR!!! Pos class completely filtered out\n",
      "2.37 [0.1, 0.285]\n",
      "('wilson', 'lr')\n",
      "ERROR!!! Pos class completely filtered out\n",
      "ERROR!!! Pos class completely filtered out\n"
     ]
    },
    {
     "name": "stderr",
     "output_type": "stream",
     "text": [
      "/home/shihab/anaconda3/envs/ana/lib/python3.7/site-packages/sklearn/metrics/_classification.py:896: RuntimeWarning: invalid value encountered in double_scalars\n",
      "  mcc = cov_ytyp / np.sqrt(cov_ytyt * cov_ypyp)\n",
      "/home/shihab/anaconda3/envs/ana/lib/python3.7/site-packages/sklearn/metrics/_classification.py:896: RuntimeWarning: invalid value encountered in double_scalars\n",
      "  mcc = cov_ytyp / np.sqrt(cov_ytyt * cov_ypyp)\n",
      "/home/shihab/anaconda3/envs/ana/lib/python3.7/site-packages/sklearn/metrics/_classification.py:896: RuntimeWarning: invalid value encountered in double_scalars\n",
      "  mcc = cov_ytyp / np.sqrt(cov_ytyt * cov_ypyp)\n"
     ]
    },
    {
     "name": "stdout",
     "output_type": "stream",
     "text": [
      "ERROR!!! Pos class completely filtered out\n",
      "2.92 [0.114, 0.384]\n",
      "('wilson', 'nb')\n"
     ]
    },
    {
     "name": "stderr",
     "output_type": "stream",
     "text": [
      "/home/shihab/anaconda3/envs/ana/lib/python3.7/site-packages/sklearn/metrics/_classification.py:896: RuntimeWarning: invalid value encountered in double_scalars\n",
      "  mcc = cov_ytyp / np.sqrt(cov_ytyt * cov_ypyp)\n",
      "/home/shihab/anaconda3/envs/ana/lib/python3.7/site-packages/sklearn/metrics/_classification.py:896: RuntimeWarning: invalid value encountered in double_scalars\n",
      "  mcc = cov_ytyp / np.sqrt(cov_ytyt * cov_ypyp)\n"
     ]
    },
    {
     "name": "stdout",
     "output_type": "stream",
     "text": [
      "ERROR!!! Pos class completely filtered out\n"
     ]
    },
    {
     "name": "stderr",
     "output_type": "stream",
     "text": [
      "/home/shihab/anaconda3/envs/ana/lib/python3.7/site-packages/sklearn/metrics/_classification.py:896: RuntimeWarning: invalid value encountered in double_scalars\n",
      "  mcc = cov_ytyp / np.sqrt(cov_ytyt * cov_ypyp)\n",
      "/home/shihab/anaconda3/envs/ana/lib/python3.7/site-packages/sklearn/metrics/_classification.py:896: RuntimeWarning: invalid value encountered in double_scalars\n",
      "  mcc = cov_ytyp / np.sqrt(cov_ytyt * cov_ypyp)\n"
     ]
    },
    {
     "name": "stdout",
     "output_type": "stream",
     "text": [
      "ERROR!!! Pos class completely filtered out\n",
      "ERROR!!! Pos class completely filtered out\n",
      "2.35 [0.215, 0.441]\n",
      "('wilson', 'svm')\n",
      "ERROR!!! Pos class completely filtered out\n",
      "ERROR!!! Pos class completely filtered out\n",
      "ERROR!!! Pos class completely filtered out\n",
      "ERROR!!! Pos class completely filtered out\n",
      "ERROR!!! Pos class completely filtered out\n",
      "2.72 [0.119, 0.203]\n",
      "('wilson', 'knn')\n"
     ]
    },
    {
     "name": "stderr",
     "output_type": "stream",
     "text": [
      "/home/shihab/anaconda3/envs/ana/lib/python3.7/site-packages/sklearn/metrics/_classification.py:896: RuntimeWarning: invalid value encountered in double_scalars\n",
      "  mcc = cov_ytyp / np.sqrt(cov_ytyt * cov_ypyp)\n",
      "/home/shihab/anaconda3/envs/ana/lib/python3.7/site-packages/sklearn/metrics/_classification.py:896: RuntimeWarning: invalid value encountered in double_scalars\n",
      "  mcc = cov_ytyp / np.sqrt(cov_ytyt * cov_ypyp)\n",
      "/home/shihab/anaconda3/envs/ana/lib/python3.7/site-packages/sklearn/metrics/_classification.py:896: RuntimeWarning: invalid value encountered in double_scalars\n",
      "  mcc = cov_ytyp / np.sqrt(cov_ytyt * cov_ypyp)\n",
      "/home/shihab/anaconda3/envs/ana/lib/python3.7/site-packages/sklearn/metrics/_classification.py:896: RuntimeWarning: invalid value encountered in double_scalars\n",
      "  mcc = cov_ytyp / np.sqrt(cov_ytyt * cov_ypyp)\n"
     ]
    },
    {
     "name": "stdout",
     "output_type": "stream",
     "text": [
      "ERROR!!! Pos class completely filtered out\n"
     ]
    },
    {
     "name": "stderr",
     "output_type": "stream",
     "text": [
      "/home/shihab/anaconda3/envs/ana/lib/python3.7/site-packages/sklearn/metrics/_classification.py:896: RuntimeWarning: invalid value encountered in double_scalars\n",
      "  mcc = cov_ytyp / np.sqrt(cov_ytyt * cov_ypyp)\n",
      "/home/shihab/anaconda3/envs/ana/lib/python3.7/site-packages/sklearn/metrics/_classification.py:896: RuntimeWarning: invalid value encountered in double_scalars\n",
      "  mcc = cov_ytyp / np.sqrt(cov_ytyt * cov_ypyp)\n",
      "/home/shihab/anaconda3/envs/ana/lib/python3.7/site-packages/sklearn/metrics/_classification.py:896: RuntimeWarning: invalid value encountered in double_scalars\n",
      "  mcc = cov_ytyp / np.sqrt(cov_ytyt * cov_ypyp)\n"
     ]
    },
    {
     "name": "stdout",
     "output_type": "stream",
     "text": [
      "ERROR!!! Pos class completely filtered out\n",
      "ERROR!!! Pos class completely filtered out\n"
     ]
    },
    {
     "name": "stderr",
     "output_type": "stream",
     "text": [
      "/home/shihab/anaconda3/envs/ana/lib/python3.7/site-packages/sklearn/metrics/_classification.py:896: RuntimeWarning: invalid value encountered in double_scalars\n",
      "  mcc = cov_ytyp / np.sqrt(cov_ytyt * cov_ypyp)\n",
      "/home/shihab/anaconda3/envs/ana/lib/python3.7/site-packages/sklearn/metrics/_classification.py:896: RuntimeWarning: invalid value encountered in double_scalars\n",
      "  mcc = cov_ytyp / np.sqrt(cov_ytyt * cov_ypyp)\n"
     ]
    },
    {
     "name": "stdout",
     "output_type": "stream",
     "text": [
      "2.76 [0.051, 0.33]\n",
      "('wilson', 'rf')\n"
     ]
    },
    {
     "name": "stderr",
     "output_type": "stream",
     "text": [
      "/home/shihab/anaconda3/envs/ana/lib/python3.7/site-packages/sklearn/metrics/_classification.py:896: RuntimeWarning: invalid value encountered in double_scalars\n",
      "  mcc = cov_ytyp / np.sqrt(cov_ytyt * cov_ypyp)\n"
     ]
    },
    {
     "name": "stdout",
     "output_type": "stream",
     "text": [
      "ERROR!!! Pos class completely filtered out\n"
     ]
    },
    {
     "name": "stderr",
     "output_type": "stream",
     "text": [
      "/home/shihab/anaconda3/envs/ana/lib/python3.7/site-packages/sklearn/metrics/_classification.py:896: RuntimeWarning: invalid value encountered in double_scalars\n",
      "  mcc = cov_ytyp / np.sqrt(cov_ytyt * cov_ypyp)\n",
      "/home/shihab/anaconda3/envs/ana/lib/python3.7/site-packages/sklearn/metrics/_classification.py:896: RuntimeWarning: invalid value encountered in double_scalars\n",
      "  mcc = cov_ytyp / np.sqrt(cov_ytyt * cov_ypyp)\n"
     ]
    },
    {
     "name": "stdout",
     "output_type": "stream",
     "text": [
      "ERROR!!! Pos class completely filtered out\n",
      "ERROR!!! Pos class completely filtered out\n",
      "3.58 [0.052, 0.298]\n",
      "('tomek', 'dt')\n",
      "ERROR!!! Pos class completely filtered out\n",
      "ERROR!!! Pos class completely filtered out\n",
      "ERROR!!! Pos class completely filtered out\n",
      "ERROR!!! Pos class completely filtered out\n",
      "ERROR!!! Pos class completely filtered out\n",
      "ERROR!!! Pos class completely filtered out\n",
      "ERROR!!! Pos class completely filtered out\n",
      "ERROR!!! Pos class completely filtered out\n"
     ]
    },
    {
     "name": "stderr",
     "output_type": "stream",
     "text": [
      "/home/shihab/anaconda3/envs/ana/lib/python3.7/site-packages/sklearn/metrics/_classification.py:896: RuntimeWarning: invalid value encountered in double_scalars\n",
      "  mcc = cov_ytyp / np.sqrt(cov_ytyt * cov_ypyp)\n"
     ]
    },
    {
     "name": "stdout",
     "output_type": "stream",
     "text": [
      "ERROR!!! Pos class completely filtered out\n",
      "ERROR!!! Pos class completely filtered out\n"
     ]
    },
    {
     "name": "stderr",
     "output_type": "stream",
     "text": [
      "/home/shihab/anaconda3/envs/ana/lib/python3.7/site-packages/sklearn/metrics/_classification.py:896: RuntimeWarning: invalid value encountered in double_scalars\n",
      "  mcc = cov_ytyp / np.sqrt(cov_ytyt * cov_ypyp)\n",
      "/home/shihab/anaconda3/envs/ana/lib/python3.7/site-packages/sklearn/metrics/_classification.py:896: RuntimeWarning: invalid value encountered in double_scalars\n",
      "  mcc = cov_ytyp / np.sqrt(cov_ytyt * cov_ypyp)\n"
     ]
    },
    {
     "name": "stdout",
     "output_type": "stream",
     "text": [
      "ERROR!!! Pos class completely filtered out\n",
      "ERROR!!! Pos class completely filtered out\n",
      "ERROR!!! Pos class completely filtered out\n"
     ]
    },
    {
     "name": "stderr",
     "output_type": "stream",
     "text": [
      "/home/shihab/anaconda3/envs/ana/lib/python3.7/site-packages/sklearn/metrics/_classification.py:896: RuntimeWarning: invalid value encountered in double_scalars\n",
      "  mcc = cov_ytyp / np.sqrt(cov_ytyt * cov_ypyp)\n"
     ]
    },
    {
     "name": "stdout",
     "output_type": "stream",
     "text": [
      "ERROR!!! Pos class completely filtered out\n",
      "ERROR!!! Pos class completely filtered out\n",
      "ERROR!!! Pos class completely filtered out\n",
      "1.89 [0.029, 0.356]\n",
      "('tomek', 'lr')\n",
      "ERROR!!! Pos class completely filtered out\n",
      "ERROR!!! Pos class completely filtered out\n",
      "ERROR!!! Pos class completely filtered out\n",
      "ERROR!!! Pos class completely filtered out\n",
      "ERROR!!! Pos class completely filtered out\n",
      "ERROR!!! Pos class completely filtered out\n",
      "ERROR!!! Pos class completely filtered out\n"
     ]
    },
    {
     "name": "stderr",
     "output_type": "stream",
     "text": [
      "/home/shihab/anaconda3/envs/ana/lib/python3.7/site-packages/sklearn/metrics/_classification.py:896: RuntimeWarning: invalid value encountered in double_scalars\n",
      "  mcc = cov_ytyp / np.sqrt(cov_ytyt * cov_ypyp)\n",
      "/home/shihab/anaconda3/envs/ana/lib/python3.7/site-packages/sklearn/metrics/_classification.py:896: RuntimeWarning: invalid value encountered in double_scalars\n",
      "  mcc = cov_ytyp / np.sqrt(cov_ytyt * cov_ypyp)\n"
     ]
    },
    {
     "name": "stdout",
     "output_type": "stream",
     "text": [
      "ERROR!!! Pos class completely filtered out\n"
     ]
    },
    {
     "name": "stderr",
     "output_type": "stream",
     "text": [
      "/home/shihab/anaconda3/envs/ana/lib/python3.7/site-packages/sklearn/metrics/_classification.py:896: RuntimeWarning: invalid value encountered in double_scalars\n",
      "  mcc = cov_ytyp / np.sqrt(cov_ytyt * cov_ypyp)\n",
      "/home/shihab/anaconda3/envs/ana/lib/python3.7/site-packages/sklearn/metrics/_classification.py:896: RuntimeWarning: invalid value encountered in double_scalars\n",
      "  mcc = cov_ytyp / np.sqrt(cov_ytyt * cov_ypyp)\n"
     ]
    },
    {
     "name": "stdout",
     "output_type": "stream",
     "text": [
      "ERROR!!! Pos class completely filtered out\n",
      "ERROR!!! Pos class completely filtered out\n",
      "ERROR!!! Pos class completely filtered out\n",
      "ERROR!!! Pos class completely filtered out\n",
      "ERROR!!! Pos class completely filtered out\n",
      "ERROR!!! Pos class completely filtered out\n",
      "ERROR!!! Pos class completely filtered out\n",
      "ERROR!!! Pos class completely filtered out\n"
     ]
    },
    {
     "name": "stderr",
     "output_type": "stream",
     "text": [
      "/home/shihab/anaconda3/envs/ana/lib/python3.7/site-packages/sklearn/metrics/_classification.py:896: RuntimeWarning: invalid value encountered in double_scalars\n",
      "  mcc = cov_ytyp / np.sqrt(cov_ytyt * cov_ypyp)\n",
      "/home/shihab/anaconda3/envs/ana/lib/python3.7/site-packages/sklearn/metrics/_classification.py:896: RuntimeWarning: invalid value encountered in double_scalars\n",
      "  mcc = cov_ytyp / np.sqrt(cov_ytyt * cov_ypyp)\n"
     ]
    },
    {
     "name": "stdout",
     "output_type": "stream",
     "text": [
      "ERROR!!! Pos class completely filtered out\n",
      "ERROR!!! Pos class completely filtered out\n",
      "1.98 [0.037, 0.367]\n",
      "('tomek', 'nb')\n",
      "ERROR!!! Pos class completely filtered out\n",
      "ERROR!!! Pos class completely filtered out\n",
      "ERROR!!! Pos class completely filtered out\n",
      "ERROR!!! Pos class completely filtered out\n",
      "ERROR!!! Pos class completely filtered out\n",
      "ERROR!!! Pos class completely filtered out\n",
      "ERROR!!! Pos class completely filtered out\n",
      "ERROR!!! Pos class completely filtered out\n",
      "ERROR!!! Pos class completely filtered out\n"
     ]
    },
    {
     "name": "stderr",
     "output_type": "stream",
     "text": [
      "/home/shihab/anaconda3/envs/ana/lib/python3.7/site-packages/sklearn/metrics/_classification.py:896: RuntimeWarning: invalid value encountered in double_scalars\n",
      "  mcc = cov_ytyp / np.sqrt(cov_ytyt * cov_ypyp)\n"
     ]
    },
    {
     "name": "stdout",
     "output_type": "stream",
     "text": [
      "ERROR!!! Pos class completely filtered out\n",
      "ERROR!!! Pos class completely filtered out\n"
     ]
    },
    {
     "name": "stderr",
     "output_type": "stream",
     "text": [
      "/home/shihab/anaconda3/envs/ana/lib/python3.7/site-packages/sklearn/metrics/_classification.py:896: RuntimeWarning: invalid value encountered in double_scalars\n",
      "  mcc = cov_ytyp / np.sqrt(cov_ytyt * cov_ypyp)\n"
     ]
    },
    {
     "name": "stdout",
     "output_type": "stream",
     "text": [
      "ERROR!!! Pos class completely filtered out\n",
      "ERROR!!! Pos class completely filtered out\n",
      "ERROR!!! Pos class completely filtered out\n",
      "ERROR!!! Pos class completely filtered out\n",
      "ERROR!!! Pos class completely filtered out\n",
      "ERROR!!! Pos class completely filtered out\n",
      "ERROR!!! Pos class completely filtered out\n",
      "ERROR!!! Pos class completely filtered out\n"
     ]
    },
    {
     "name": "stderr",
     "output_type": "stream",
     "text": [
      "/home/shihab/anaconda3/envs/ana/lib/python3.7/site-packages/sklearn/metrics/_classification.py:896: RuntimeWarning: invalid value encountered in double_scalars\n",
      "  mcc = cov_ytyp / np.sqrt(cov_ytyt * cov_ypyp)\n"
     ]
    },
    {
     "name": "stdout",
     "output_type": "stream",
     "text": [
      "ERROR!!! Pos class completely filtered out\n",
      "1.85 [0.09, 0.386]\n",
      "('tomek', 'svm')\n",
      "ERROR!!! Pos class completely filtered out\n",
      "ERROR!!! Pos class completely filtered out\n",
      "ERROR!!! Pos class completely filtered out\n",
      "ERROR!!! Pos class completely filtered out\n",
      "ERROR!!! Pos class completely filtered out\n",
      "ERROR!!! Pos class completely filtered out\n",
      "ERROR!!! Pos class completely filtered out\n",
      "ERROR!!! Pos class completely filtered out\n",
      "ERROR!!! Pos class completely filtered out\n",
      "ERROR!!! Pos class completely filtered out\n"
     ]
    },
    {
     "name": "stderr",
     "output_type": "stream",
     "text": [
      "/home/shihab/anaconda3/envs/ana/lib/python3.7/site-packages/sklearn/metrics/_classification.py:896: RuntimeWarning: invalid value encountered in double_scalars\n",
      "  mcc = cov_ytyp / np.sqrt(cov_ytyt * cov_ypyp)\n",
      "/home/shihab/anaconda3/envs/ana/lib/python3.7/site-packages/sklearn/metrics/_classification.py:896: RuntimeWarning: invalid value encountered in double_scalars\n",
      "  mcc = cov_ytyp / np.sqrt(cov_ytyt * cov_ypyp)\n"
     ]
    },
    {
     "name": "stdout",
     "output_type": "stream",
     "text": [
      "ERROR!!! Pos class completely filtered out\n",
      "ERROR!!! Pos class completely filtered out\n",
      "ERROR!!! Pos class completely filtered out\n",
      "ERROR!!! Pos class completely filtered out\n",
      "ERROR!!! Pos class completely filtered out\n",
      "ERROR!!! Pos class completely filtered out\n",
      "ERROR!!! Pos class completely filtered out\n",
      "ERROR!!! Pos class completely filtered out\n",
      "ERROR!!! Pos class completely filtered out\n",
      "1.93 [0.09, 0.188]\n",
      "('tomek', 'knn')\n",
      "ERROR!!! Pos class completely filtered out\n",
      "ERROR!!! Pos class completely filtered out\n"
     ]
    },
    {
     "name": "stderr",
     "output_type": "stream",
     "text": [
      "/home/shihab/anaconda3/envs/ana/lib/python3.7/site-packages/sklearn/metrics/_classification.py:896: RuntimeWarning: invalid value encountered in double_scalars\n",
      "  mcc = cov_ytyp / np.sqrt(cov_ytyt * cov_ypyp)\n",
      "/home/shihab/anaconda3/envs/ana/lib/python3.7/site-packages/sklearn/metrics/_classification.py:896: RuntimeWarning: invalid value encountered in double_scalars\n",
      "  mcc = cov_ytyp / np.sqrt(cov_ytyt * cov_ypyp)\n"
     ]
    },
    {
     "name": "stdout",
     "output_type": "stream",
     "text": [
      "ERROR!!! Pos class completely filtered out\n",
      "ERROR!!! Pos class completely filtered out\n",
      "ERROR!!! Pos class completely filtered out\n",
      "ERROR!!! Pos class completely filtered out\n",
      "ERROR!!! Pos class completely filtered out\n"
     ]
    },
    {
     "name": "stderr",
     "output_type": "stream",
     "text": [
      "/home/shihab/anaconda3/envs/ana/lib/python3.7/site-packages/sklearn/metrics/_classification.py:896: RuntimeWarning: invalid value encountered in double_scalars\n",
      "  mcc = cov_ytyp / np.sqrt(cov_ytyt * cov_ypyp)\n"
     ]
    },
    {
     "name": "stdout",
     "output_type": "stream",
     "text": [
      "ERROR!!! Pos class completely filtered out\n",
      "ERROR!!! Pos class completely filtered out\n"
     ]
    },
    {
     "name": "stderr",
     "output_type": "stream",
     "text": [
      "/home/shihab/anaconda3/envs/ana/lib/python3.7/site-packages/sklearn/metrics/_classification.py:896: RuntimeWarning: invalid value encountered in double_scalars\n",
      "  mcc = cov_ytyp / np.sqrt(cov_ytyt * cov_ypyp)\n"
     ]
    },
    {
     "name": "stdout",
     "output_type": "stream",
     "text": [
      "ERROR!!! Pos class completely filtered out\n",
      "ERROR!!! Pos class completely filtered out\n",
      "ERROR!!! Pos class completely filtered out\n"
     ]
    },
    {
     "name": "stderr",
     "output_type": "stream",
     "text": [
      "/home/shihab/anaconda3/envs/ana/lib/python3.7/site-packages/sklearn/metrics/_classification.py:896: RuntimeWarning: invalid value encountered in double_scalars\n",
      "  mcc = cov_ytyp / np.sqrt(cov_ytyt * cov_ypyp)\n"
     ]
    },
    {
     "name": "stdout",
     "output_type": "stream",
     "text": [
      "ERROR!!! Pos class completely filtered out\n",
      "ERROR!!! Pos class completely filtered out\n",
      "ERROR!!! Pos class completely filtered out\n",
      "ERROR!!! Pos class completely filtered out\n",
      "ERROR!!! Pos class completely filtered out\n",
      "ERROR!!! Pos class completely filtered out\n",
      "ERROR!!! Pos class completely filtered out\n",
      "ERROR!!! Pos class completely filtered out\n",
      "1.96 [0.0, 0.459]\n",
      "('tomek', 'rf')\n",
      "ERROR!!! Pos class completely filtered out\n",
      "ERROR!!! Pos class completely filtered out\n",
      "ERROR!!! Pos class completely filtered out\n",
      "ERROR!!! Pos class completely filtered out\n"
     ]
    },
    {
     "name": "stderr",
     "output_type": "stream",
     "text": [
      "/home/shihab/anaconda3/envs/ana/lib/python3.7/site-packages/sklearn/metrics/_classification.py:896: RuntimeWarning: invalid value encountered in double_scalars\n",
      "  mcc = cov_ytyp / np.sqrt(cov_ytyt * cov_ypyp)\n"
     ]
    },
    {
     "name": "stdout",
     "output_type": "stream",
     "text": [
      "ERROR!!! Pos class completely filtered out\n",
      "ERROR!!! Pos class completely filtered out\n",
      "ERROR!!! Pos class completely filtered out\n",
      "ERROR!!! Pos class completely filtered out\n",
      "ERROR!!! Pos class completely filtered out\n",
      "ERROR!!! Pos class completely filtered out\n",
      "ERROR!!! Pos class completely filtered out\n",
      "ERROR!!! Pos class completely filtered out\n",
      "ERROR!!! Pos class completely filtered out\n",
      "ERROR!!! Pos class completely filtered out\n"
     ]
    },
    {
     "name": "stderr",
     "output_type": "stream",
     "text": [
      "/home/shihab/anaconda3/envs/ana/lib/python3.7/site-packages/sklearn/metrics/_classification.py:896: RuntimeWarning: invalid value encountered in double_scalars\n",
      "  mcc = cov_ytyp / np.sqrt(cov_ytyt * cov_ypyp)\n",
      "/home/shihab/anaconda3/envs/ana/lib/python3.7/site-packages/sklearn/metrics/_classification.py:896: RuntimeWarning: invalid value encountered in double_scalars\n",
      "  mcc = cov_ytyp / np.sqrt(cov_ytyt * cov_ypyp)\n"
     ]
    },
    {
     "name": "stdout",
     "output_type": "stream",
     "text": [
      "ERROR!!! Pos class completely filtered out\n",
      "ERROR!!! Pos class completely filtered out\n",
      "ERROR!!! Pos class completely filtered out\n"
     ]
    },
    {
     "name": "stderr",
     "output_type": "stream",
     "text": [
      "/home/shihab/anaconda3/envs/ana/lib/python3.7/site-packages/sklearn/metrics/_classification.py:896: RuntimeWarning: invalid value encountered in double_scalars\n",
      "  mcc = cov_ytyp / np.sqrt(cov_ytyt * cov_ypyp)\n",
      "/home/shihab/anaconda3/envs/ana/lib/python3.7/site-packages/sklearn/metrics/_classification.py:896: RuntimeWarning: invalid value encountered in double_scalars\n",
      "  mcc = cov_ytyp / np.sqrt(cov_ytyt * cov_ypyp)\n",
      "/home/shihab/anaconda3/envs/ana/lib/python3.7/site-packages/sklearn/metrics/_classification.py:896: RuntimeWarning: invalid value encountered in double_scalars\n",
      "  mcc = cov_ytyp / np.sqrt(cov_ytyt * cov_ypyp)\n"
     ]
    },
    {
     "name": "stdout",
     "output_type": "stream",
     "text": [
      "ERROR!!! Pos class completely filtered out\n",
      "2.3 [-0.003, 0.211]\n",
      "('None', 'dt')\n",
      "ERROR!!! Pos class completely filtered out\n",
      "ERROR!!! Pos class completely filtered out\n",
      "ERROR!!! Pos class completely filtered out\n",
      "ERROR!!! Pos class completely filtered out\n"
     ]
    },
    {
     "name": "stderr",
     "output_type": "stream",
     "text": [
      "/home/shihab/anaconda3/envs/ana/lib/python3.7/site-packages/sklearn/metrics/_classification.py:896: RuntimeWarning: invalid value encountered in double_scalars\n",
      "  mcc = cov_ytyp / np.sqrt(cov_ytyt * cov_ypyp)\n"
     ]
    },
    {
     "name": "stdout",
     "output_type": "stream",
     "text": [
      "ERROR!!! Pos class completely filtered out\n",
      "ERROR!!! Pos class completely filtered out\n",
      "ERROR!!! Pos class completely filtered out\n",
      "ERROR!!! Pos class completely filtered out\n",
      "ERROR!!! Pos class completely filtered out\n",
      "ERROR!!! Pos class completely filtered out\n",
      "ERROR!!! Pos class completely filtered out\n",
      "ERROR!!! Pos class completely filtered out\n",
      "ERROR!!! Pos class completely filtered out\n",
      "ERROR!!! Pos class completely filtered out\n",
      "ERROR!!! Pos class completely filtered out\n",
      "ERROR!!! Pos class completely filtered out\n",
      "ERROR!!! Pos class completely filtered out\n",
      "ERROR!!! Pos class completely filtered out\n",
      "ERROR!!! Pos class completely filtered out\n",
      "ERROR!!! Pos class completely filtered out\n",
      "ERROR!!! Pos class completely filtered out\n",
      "ERROR!!! Pos class completely filtered out\n",
      "0.39 [-0.006, 0.382]\n",
      "('None', 'lr')\n",
      "ERROR!!! Pos class completely filtered out\n",
      "ERROR!!! Pos class completely filtered out\n",
      "ERROR!!! Pos class completely filtered out\n",
      "ERROR!!! Pos class completely filtered out\n",
      "ERROR!!! Pos class completely filtered out\n",
      "ERROR!!! Pos class completely filtered out\n"
     ]
    },
    {
     "name": "stderr",
     "output_type": "stream",
     "text": [
      "/home/shihab/anaconda3/envs/ana/lib/python3.7/site-packages/sklearn/metrics/_classification.py:896: RuntimeWarning: invalid value encountered in double_scalars\n",
      "  mcc = cov_ytyp / np.sqrt(cov_ytyt * cov_ypyp)\n"
     ]
    },
    {
     "name": "stdout",
     "output_type": "stream",
     "text": [
      "ERROR!!! Pos class completely filtered out\n",
      "ERROR!!! Pos class completely filtered out\n",
      "ERROR!!! Pos class completely filtered out\n",
      "ERROR!!! Pos class completely filtered out\n",
      "ERROR!!! Pos class completely filtered out\n",
      "ERROR!!! Pos class completely filtered out\n",
      "ERROR!!! Pos class completely filtered out\n",
      "ERROR!!! Pos class completely filtered out\n",
      "ERROR!!! Pos class completely filtered out\n"
     ]
    },
    {
     "name": "stderr",
     "output_type": "stream",
     "text": [
      "/home/shihab/anaconda3/envs/ana/lib/python3.7/site-packages/sklearn/metrics/_classification.py:896: RuntimeWarning: invalid value encountered in double_scalars\n",
      "  mcc = cov_ytyp / np.sqrt(cov_ytyt * cov_ypyp)\n",
      "/home/shihab/anaconda3/envs/ana/lib/python3.7/site-packages/sklearn/metrics/_classification.py:896: RuntimeWarning: invalid value encountered in double_scalars\n",
      "  mcc = cov_ytyp / np.sqrt(cov_ytyt * cov_ypyp)\n"
     ]
    },
    {
     "name": "stdout",
     "output_type": "stream",
     "text": [
      "ERROR!!! Pos class completely filtered out\n",
      "ERROR!!! Pos class completely filtered out\n",
      "ERROR!!! Pos class completely filtered out\n",
      "ERROR!!! Pos class completely filtered out\n",
      "ERROR!!! Pos class completely filtered out\n",
      "ERROR!!! Pos class completely filtered out\n",
      "ERROR!!! Pos class completely filtered out\n",
      "ERROR!!! Pos class completely filtered out\n",
      "0.44 [0.0, 0.265]\n",
      "('None', 'nb')\n",
      "ERROR!!! Pos class completely filtered out\n",
      "ERROR!!! Pos class completely filtered out\n",
      "ERROR!!! Pos class completely filtered out\n",
      "ERROR!!! Pos class completely filtered out\n",
      "ERROR!!! Pos class completely filtered out\n",
      "ERROR!!! Pos class completely filtered out\n",
      "ERROR!!! Pos class completely filtered out\n",
      "ERROR!!! Pos class completely filtered out\n",
      "ERROR!!! Pos class completely filtered out\n",
      "ERROR!!! Pos class completely filtered out\n",
      "ERROR!!! Pos class completely filtered out\n",
      "ERROR!!! Pos class completely filtered out\n",
      "ERROR!!! Pos class completely filtered out\n",
      "ERROR!!! Pos class completely filtered out\n",
      "ERROR!!! Pos class completely filtered out\n",
      "ERROR!!! Pos class completely filtered out\n",
      "ERROR!!! Pos class completely filtered out\n"
     ]
    },
    {
     "name": "stderr",
     "output_type": "stream",
     "text": [
      "/home/shihab/anaconda3/envs/ana/lib/python3.7/site-packages/sklearn/metrics/_classification.py:896: RuntimeWarning: invalid value encountered in double_scalars\n",
      "  mcc = cov_ytyp / np.sqrt(cov_ytyt * cov_ypyp)\n",
      "/home/shihab/anaconda3/envs/ana/lib/python3.7/site-packages/sklearn/metrics/_classification.py:896: RuntimeWarning: invalid value encountered in double_scalars\n",
      "  mcc = cov_ytyp / np.sqrt(cov_ytyt * cov_ypyp)\n"
     ]
    },
    {
     "name": "stdout",
     "output_type": "stream",
     "text": [
      "ERROR!!! Pos class completely filtered out\n",
      "ERROR!!! Pos class completely filtered out\n",
      "ERROR!!! Pos class completely filtered out\n",
      "ERROR!!! Pos class completely filtered out\n",
      "ERROR!!! Pos class completely filtered out\n",
      "0.4 [0.0, 0.562]\n",
      "('None', 'svm')\n",
      "ERROR!!! Pos class completely filtered out\n",
      "ERROR!!! Pos class completely filtered out\n",
      "ERROR!!! Pos class completely filtered out\n",
      "ERROR!!! Pos class completely filtered out\n"
     ]
    },
    {
     "name": "stderr",
     "output_type": "stream",
     "text": [
      "/home/shihab/anaconda3/envs/ana/lib/python3.7/site-packages/sklearn/metrics/_classification.py:896: RuntimeWarning: invalid value encountered in double_scalars\n",
      "  mcc = cov_ytyp / np.sqrt(cov_ytyt * cov_ypyp)\n"
     ]
    },
    {
     "name": "stdout",
     "output_type": "stream",
     "text": [
      "ERROR!!! Pos class completely filtered out\n",
      "ERROR!!! Pos class completely filtered out\n",
      "ERROR!!! Pos class completely filtered out\n",
      "ERROR!!! Pos class completely filtered out\n",
      "ERROR!!! Pos class completely filtered out\n",
      "ERROR!!! Pos class completely filtered out\n",
      "ERROR!!! Pos class completely filtered out\n",
      "ERROR!!! Pos class completely filtered out\n",
      "ERROR!!! Pos class completely filtered out\n",
      "ERROR!!! Pos class completely filtered out\n",
      "ERROR!!! Pos class completely filtered out\n",
      "ERROR!!! Pos class completely filtered out\n",
      "ERROR!!! Pos class completely filtered out\n",
      "ERROR!!! Pos class completely filtered out\n",
      "ERROR!!! Pos class completely filtered out\n",
      "ERROR!!! Pos class completely filtered out\n",
      "ERROR!!! Pos class completely filtered out\n",
      "ERROR!!! Pos class completely filtered out\n",
      "0.42 [0.079, 0.126]\n",
      "('None', 'knn')\n",
      "ERROR!!! Pos class completely filtered out\n",
      "ERROR!!! Pos class completely filtered out\n",
      "ERROR!!! Pos class completely filtered out\n",
      "ERROR!!! Pos class completely filtered out\n",
      "ERROR!!! Pos class completely filtered out\n",
      "ERROR!!! Pos class completely filtered out\n",
      "ERROR!!! Pos class completely filtered out\n"
     ]
    },
    {
     "name": "stderr",
     "output_type": "stream",
     "text": [
      "/home/shihab/anaconda3/envs/ana/lib/python3.7/site-packages/sklearn/metrics/_classification.py:896: RuntimeWarning: invalid value encountered in double_scalars\n",
      "  mcc = cov_ytyp / np.sqrt(cov_ytyt * cov_ypyp)\n"
     ]
    },
    {
     "name": "stdout",
     "output_type": "stream",
     "text": [
      "ERROR!!! Pos class completely filtered out\n",
      "ERROR!!! Pos class completely filtered out\n",
      "ERROR!!! Pos class completely filtered out\n",
      "ERROR!!! Pos class completely filtered out\n",
      "ERROR!!! Pos class completely filtered out\n",
      "ERROR!!! Pos class completely filtered out\n",
      "ERROR!!! Pos class completely filtered out\n",
      "ERROR!!! Pos class completely filtered out\n",
      "ERROR!!! Pos class completely filtered out\n",
      "ERROR!!! Pos class completely filtered out\n",
      "ERROR!!! Pos class completely filtered out\n",
      "ERROR!!! Pos class completely filtered out\n",
      "ERROR!!! Pos class completely filtered out\n",
      "ERROR!!! Pos class completely filtered out\n",
      "ERROR!!! Pos class completely filtered out\n",
      "ERROR!!! Pos class completely filtered out\n",
      "ERROR!!! Pos class completely filtered out\n",
      "0.39 [0.256, 0.61]\n",
      "('None', 'rf')\n",
      "ERROR!!! Pos class completely filtered out\n",
      "ERROR!!! Pos class completely filtered out\n",
      "ERROR!!! Pos class completely filtered out\n",
      "ERROR!!! Pos class completely filtered out\n",
      "ERROR!!! Pos class completely filtered out\n",
      "ERROR!!! Pos class completely filtered out\n",
      "ERROR!!! Pos class completely filtered out\n",
      "ERROR!!! Pos class completely filtered out\n",
      "ERROR!!! Pos class completely filtered out\n",
      "ERROR!!! Pos class completely filtered out\n",
      "ERROR!!! Pos class completely filtered out\n"
     ]
    },
    {
     "name": "stderr",
     "output_type": "stream",
     "text": [
      "/home/shihab/anaconda3/envs/ana/lib/python3.7/site-packages/sklearn/metrics/_classification.py:896: RuntimeWarning: invalid value encountered in double_scalars\n",
      "  mcc = cov_ytyp / np.sqrt(cov_ytyt * cov_ypyp)\n"
     ]
    },
    {
     "name": "stdout",
     "output_type": "stream",
     "text": [
      "ERROR!!! Pos class completely filtered out\n",
      "ERROR!!! Pos class completely filtered out\n",
      "ERROR!!! Pos class completely filtered out\n",
      "ERROR!!! Pos class completely filtered out\n",
      "ERROR!!! Pos class completely filtered out\n",
      "ERROR!!! Pos class completely filtered out\n",
      "ERROR!!! Pos class completely filtered out\n",
      "ERROR!!! Pos class completely filtered out\n",
      "ERROR!!! Pos class completely filtered out\n",
      "ERROR!!! Pos class completely filtered out\n",
      "ERROR!!! Pos class completely filtered out\n",
      "ERROR!!! Pos class completely filtered out\n",
      "0.48 [-0.009, 0.44]\n",
      "('ens', 'rboost_DT')\n",
      "1.4 [0.334, 0.462]\n",
      "('ens', 'rboost_NB')\n",
      "1.34 [0.396, 0.538]\n",
      "('ens', 'bbag_DT')\n",
      "ERROR!!! Pos class completely filtered out\n",
      "ERROR!!! Pos class completely filtered out\n",
      "ERROR!!! Pos class completely filtered out\n",
      "ERROR!!! Pos class completely filtered out\n",
      "ERROR!!! Pos class completely filtered out\n",
      "ERROR!!! Pos class completely filtered out\n",
      "ERROR!!! Pos class completely filtered out\n",
      "ERROR!!! Pos class completely filtered out\n",
      "19.1 [0.351, 0.41]\n",
      "('ens', 'bbag_NB')\n",
      "ERROR!!! Pos class completely filtered out\n",
      "ERROR!!! Pos class completely filtered out\n",
      "ERROR!!! Pos class completely filtered out\n",
      "ERROR!!! Pos class completely filtered out\n",
      "ERROR!!! Pos class completely filtered out\n",
      "18.92 [0.397, 0.442]\n",
      "\n",
      "camel-2.10.0.csv noise:0.053, imb:24.447,311,7603, Shape:(7914, 65)\n",
      "('smote', 'dt')\n",
      "5.39 [0.164, 0.433]\n",
      "('smote', 'lr')\n",
      "14.64 [0.176, 0.169]\n",
      "('smote', 'nb')\n",
      "4.79 [0.213, 0.415]\n",
      "('smote', 'svm')\n",
      "241.35 [0.178, 0.11]\n",
      "('smote', 'knn')\n",
      "14.56 [0.191, 0.365]\n",
      "('smote', 'rf')\n",
      "18.26 [0.169, 0.255]\n",
      "('rus', 'dt')\n",
      "0.56 [0.187, 0.411]\n",
      "('rus', 'lr')\n",
      "1.02 [0.206, 0.2]\n",
      "('rus', 'nb')\n",
      "0.56 [0.227, 0.411]\n",
      "('rus', 'svm')\n",
      "1.08 [0.223, 0.166]\n",
      "('rus', 'knn')\n",
      "1.47 [0.22, 0.373]\n",
      "('rus', 'rf')\n",
      "1.91 [0.194, 0.332]\n",
      "('wilson', 'dt')\n",
      "35.58 [0.251, 0.289]\n",
      "('wilson', 'lr')\n",
      "37.86 [0.271, 0.232]\n",
      "('wilson', 'nb')\n",
      "35.13 [0.291, 0.333]\n",
      "('wilson', 'svm')\n",
      "40.22 [0.27, 0.196]\n",
      "('wilson', 'knn')\n",
      "43.91 [0.26, 0.28]\n",
      "('wilson', 'rf')\n",
      "38.08 [0.231, 0.238]\n",
      "('tomek', 'dt')\n",
      "ERROR!!! Pos class completely filtered out\n",
      "ERROR!!! Pos class completely filtered out\n",
      "ERROR!!! Pos class completely filtered out\n",
      "ERROR!!! Pos class completely filtered out\n",
      "ERROR!!! Pos class completely filtered out\n",
      "ERROR!!! Pos class completely filtered out\n",
      "ERROR!!! Pos class completely filtered out\n",
      "ERROR!!! Pos class completely filtered out\n",
      "ERROR!!! Pos class completely filtered out\n",
      "ERROR!!! Pos class completely filtered out\n",
      "ERROR!!! Pos class completely filtered out\n",
      "ERROR!!! Pos class completely filtered out\n",
      "ERROR!!! Pos class completely filtered out\n",
      "ERROR!!! Pos class completely filtered out\n",
      "ERROR!!! Pos class completely filtered out\n",
      "ERROR!!! Pos class completely filtered out\n",
      "ERROR!!! Pos class completely filtered out\n",
      "ERROR!!! Pos class completely filtered out\n",
      "ERROR!!! Pos class completely filtered out\n",
      "ERROR!!! Pos class completely filtered out\n",
      "29.33 [0.105, 0.295]\n",
      "('tomek', 'lr')\n",
      "ERROR!!! Pos class completely filtered out\n",
      "ERROR!!! Pos class completely filtered out\n"
     ]
    },
    {
     "name": "stderr",
     "output_type": "stream",
     "text": [
      "/home/shihab/anaconda3/envs/ana/lib/python3.7/site-packages/sklearn/metrics/_classification.py:896: RuntimeWarning: invalid value encountered in double_scalars\n",
      "  mcc = cov_ytyp / np.sqrt(cov_ytyt * cov_ypyp)\n"
     ]
    },
    {
     "name": "stdout",
     "output_type": "stream",
     "text": [
      "ERROR!!! Pos class completely filtered out\n",
      "ERROR!!! Pos class completely filtered out\n",
      "ERROR!!! Pos class completely filtered out\n"
     ]
    },
    {
     "name": "stderr",
     "output_type": "stream",
     "text": [
      "/home/shihab/anaconda3/envs/ana/lib/python3.7/site-packages/sklearn/metrics/_classification.py:896: RuntimeWarning: invalid value encountered in double_scalars\n",
      "  mcc = cov_ytyp / np.sqrt(cov_ytyt * cov_ypyp)\n",
      "/home/shihab/anaconda3/envs/ana/lib/python3.7/site-packages/sklearn/metrics/_classification.py:896: RuntimeWarning: invalid value encountered in double_scalars\n",
      "  mcc = cov_ytyp / np.sqrt(cov_ytyt * cov_ypyp)\n"
     ]
    },
    {
     "name": "stdout",
     "output_type": "stream",
     "text": [
      "ERROR!!! Pos class completely filtered out\n",
      "ERROR!!! Pos class completely filtered out\n",
      "ERROR!!! Pos class completely filtered out\n",
      "ERROR!!! Pos class completely filtered out\n"
     ]
    },
    {
     "name": "stderr",
     "output_type": "stream",
     "text": [
      "/home/shihab/anaconda3/envs/ana/lib/python3.7/site-packages/sklearn/metrics/_classification.py:896: RuntimeWarning: invalid value encountered in double_scalars\n",
      "  mcc = cov_ytyp / np.sqrt(cov_ytyt * cov_ypyp)\n"
     ]
    },
    {
     "name": "stdout",
     "output_type": "stream",
     "text": [
      "ERROR!!! Pos class completely filtered out\n",
      "ERROR!!! Pos class completely filtered out\n",
      "ERROR!!! Pos class completely filtered out\n",
      "ERROR!!! Pos class completely filtered out\n",
      "ERROR!!! Pos class completely filtered out\n",
      "ERROR!!! Pos class completely filtered out\n",
      "ERROR!!! Pos class completely filtered out\n",
      "ERROR!!! Pos class completely filtered out\n",
      "28.39 [0.038, 0.225]\n",
      "('tomek', 'nb')\n",
      "ERROR!!! Pos class completely filtered out\n",
      "ERROR!!! Pos class completely filtered out\n",
      "ERROR!!! Pos class completely filtered out\n",
      "ERROR!!! Pos class completely filtered out\n",
      "ERROR!!! Pos class completely filtered out\n",
      "ERROR!!! Pos class completely filtered out\n",
      "ERROR!!! Pos class completely filtered out\n",
      "ERROR!!! Pos class completely filtered out\n",
      "ERROR!!! Pos class completely filtered out\n",
      "ERROR!!! Pos class completely filtered out\n",
      "ERROR!!! Pos class completely filtered out\n",
      "ERROR!!! Pos class completely filtered out\n",
      "ERROR!!! Pos class completely filtered out\n",
      "ERROR!!! Pos class completely filtered out\n"
     ]
    },
    {
     "name": "stderr",
     "output_type": "stream",
     "text": [
      "/home/shihab/anaconda3/envs/ana/lib/python3.7/site-packages/sklearn/metrics/_classification.py:896: RuntimeWarning: invalid value encountered in double_scalars\n",
      "  mcc = cov_ytyp / np.sqrt(cov_ytyt * cov_ypyp)\n"
     ]
    },
    {
     "name": "stdout",
     "output_type": "stream",
     "text": [
      "ERROR!!! Pos class completely filtered out\n",
      "ERROR!!! Pos class completely filtered out\n",
      "ERROR!!! Pos class completely filtered out\n",
      "29.09 [0.207, 0.292]\n",
      "('tomek', 'svm')\n",
      "ERROR!!! Pos class completely filtered out\n"
     ]
    },
    {
     "name": "stderr",
     "output_type": "stream",
     "text": [
      "/home/shihab/anaconda3/envs/ana/lib/python3.7/site-packages/sklearn/metrics/_classification.py:896: RuntimeWarning: invalid value encountered in double_scalars\n",
      "  mcc = cov_ytyp / np.sqrt(cov_ytyt * cov_ypyp)\n"
     ]
    },
    {
     "name": "stdout",
     "output_type": "stream",
     "text": [
      "ERROR!!! Pos class completely filtered out\n"
     ]
    },
    {
     "name": "stderr",
     "output_type": "stream",
     "text": [
      "/home/shihab/anaconda3/envs/ana/lib/python3.7/site-packages/sklearn/metrics/_classification.py:896: RuntimeWarning: invalid value encountered in double_scalars\n",
      "  mcc = cov_ytyp / np.sqrt(cov_ytyt * cov_ypyp)\n"
     ]
    },
    {
     "name": "stdout",
     "output_type": "stream",
     "text": [
      "ERROR!!! Pos class completely filtered out\n",
      "ERROR!!! Pos class completely filtered out\n",
      "ERROR!!! Pos class completely filtered out\n",
      "ERROR!!! Pos class completely filtered out\n",
      "ERROR!!! Pos class completely filtered out\n",
      "ERROR!!! Pos class completely filtered out\n"
     ]
    },
    {
     "name": "stderr",
     "output_type": "stream",
     "text": [
      "/home/shihab/anaconda3/envs/ana/lib/python3.7/site-packages/sklearn/metrics/_classification.py:896: RuntimeWarning: invalid value encountered in double_scalars\n",
      "  mcc = cov_ytyp / np.sqrt(cov_ytyt * cov_ypyp)\n"
     ]
    },
    {
     "name": "stdout",
     "output_type": "stream",
     "text": [
      "ERROR!!! Pos class completely filtered out\n",
      "ERROR!!! Pos class completely filtered out\n",
      "ERROR!!! Pos class completely filtered out\n",
      "ERROR!!! Pos class completely filtered out\n",
      "ERROR!!! Pos class completely filtered out\n",
      "ERROR!!! Pos class completely filtered out\n",
      "ERROR!!! Pos class completely filtered out\n",
      "ERROR!!! Pos class completely filtered out\n",
      "ERROR!!! Pos class completely filtered out\n",
      "ERROR!!! Pos class completely filtered out\n",
      "29.65 [0.055, 0.074]\n",
      "('tomek', 'knn')\n"
     ]
    },
    {
     "name": "stderr",
     "output_type": "stream",
     "text": [
      "/home/shihab/anaconda3/envs/ana/lib/python3.7/site-packages/sklearn/metrics/_classification.py:896: RuntimeWarning: invalid value encountered in double_scalars\n",
      "  mcc = cov_ytyp / np.sqrt(cov_ytyt * cov_ypyp)\n"
     ]
    },
    {
     "name": "stdout",
     "output_type": "stream",
     "text": [
      "ERROR!!! Pos class completely filtered out\n"
     ]
    },
    {
     "name": "stderr",
     "output_type": "stream",
     "text": [
      "/home/shihab/anaconda3/envs/ana/lib/python3.7/site-packages/sklearn/metrics/_classification.py:896: RuntimeWarning: invalid value encountered in double_scalars\n",
      "  mcc = cov_ytyp / np.sqrt(cov_ytyt * cov_ypyp)\n"
     ]
    },
    {
     "name": "stdout",
     "output_type": "stream",
     "text": [
      "ERROR!!! Pos class completely filtered out\n",
      "ERROR!!! Pos class completely filtered out\n"
     ]
    },
    {
     "name": "stderr",
     "output_type": "stream",
     "text": [
      "/home/shihab/anaconda3/envs/ana/lib/python3.7/site-packages/sklearn/metrics/_classification.py:896: RuntimeWarning: invalid value encountered in double_scalars\n",
      "  mcc = cov_ytyp / np.sqrt(cov_ytyt * cov_ypyp)\n"
     ]
    },
    {
     "name": "stdout",
     "output_type": "stream",
     "text": [
      "ERROR!!! Pos class completely filtered out\n",
      "ERROR!!! Pos class completely filtered out\n",
      "ERROR!!! Pos class completely filtered out\n",
      "ERROR!!! Pos class completely filtered out\n",
      "ERROR!!! Pos class completely filtered out\n",
      "ERROR!!! Pos class completely filtered out\n",
      "ERROR!!! Pos class completely filtered out\n"
     ]
    },
    {
     "name": "stderr",
     "output_type": "stream",
     "text": [
      "/home/shihab/anaconda3/envs/ana/lib/python3.7/site-packages/sklearn/metrics/_classification.py:896: RuntimeWarning: invalid value encountered in double_scalars\n",
      "  mcc = cov_ytyp / np.sqrt(cov_ytyt * cov_ypyp)\n"
     ]
    },
    {
     "name": "stdout",
     "output_type": "stream",
     "text": [
      "ERROR!!! Pos class completely filtered out\n",
      "ERROR!!! Pos class completely filtered out\n",
      "ERROR!!! Pos class completely filtered out\n"
     ]
    },
    {
     "name": "stderr",
     "output_type": "stream",
     "text": [
      "/home/shihab/anaconda3/envs/ana/lib/python3.7/site-packages/sklearn/metrics/_classification.py:896: RuntimeWarning: invalid value encountered in double_scalars\n",
      "  mcc = cov_ytyp / np.sqrt(cov_ytyt * cov_ypyp)\n"
     ]
    },
    {
     "name": "stdout",
     "output_type": "stream",
     "text": [
      "ERROR!!! Pos class completely filtered out\n",
      "ERROR!!! Pos class completely filtered out\n",
      "ERROR!!! Pos class completely filtered out\n",
      "ERROR!!! Pos class completely filtered out\n"
     ]
    },
    {
     "name": "stderr",
     "output_type": "stream",
     "text": [
      "/home/shihab/anaconda3/envs/ana/lib/python3.7/site-packages/sklearn/metrics/_classification.py:896: RuntimeWarning: invalid value encountered in double_scalars\n",
      "  mcc = cov_ytyp / np.sqrt(cov_ytyt * cov_ypyp)\n"
     ]
    },
    {
     "name": "stdout",
     "output_type": "stream",
     "text": [
      "31.53 [0.054, 0.376]\n",
      "('tomek', 'rf')\n",
      "ERROR!!! Pos class completely filtered out\n",
      "ERROR!!! Pos class completely filtered out\n",
      "ERROR!!! Pos class completely filtered out\n",
      "ERROR!!! Pos class completely filtered out\n",
      "ERROR!!! Pos class completely filtered out\n",
      "ERROR!!! Pos class completely filtered out\n",
      "ERROR!!! Pos class completely filtered out\n",
      "ERROR!!! Pos class completely filtered out\n",
      "ERROR!!! Pos class completely filtered out\n",
      "ERROR!!! Pos class completely filtered out\n",
      "ERROR!!! Pos class completely filtered out\n",
      "ERROR!!! Pos class completely filtered out\n",
      "ERROR!!! Pos class completely filtered out\n",
      "ERROR!!! Pos class completely filtered out\n",
      "ERROR!!! Pos class completely filtered out\n",
      "ERROR!!! Pos class completely filtered out\n"
     ]
    },
    {
     "name": "stderr",
     "output_type": "stream",
     "text": [
      "/home/shihab/anaconda3/envs/ana/lib/python3.7/site-packages/sklearn/metrics/_classification.py:896: RuntimeWarning: invalid value encountered in double_scalars\n",
      "  mcc = cov_ytyp / np.sqrt(cov_ytyt * cov_ypyp)\n"
     ]
    },
    {
     "name": "stdout",
     "output_type": "stream",
     "text": [
      "ERROR!!! Pos class completely filtered out\n"
     ]
    },
    {
     "name": "stderr",
     "output_type": "stream",
     "text": [
      "/home/shihab/anaconda3/envs/ana/lib/python3.7/site-packages/sklearn/metrics/_classification.py:896: RuntimeWarning: invalid value encountered in double_scalars\n",
      "  mcc = cov_ytyp / np.sqrt(cov_ytyt * cov_ypyp)\n"
     ]
    },
    {
     "name": "stdout",
     "output_type": "stream",
     "text": [
      "29.16 [0.113, 0.177]\n",
      "('None', 'dt')\n",
      "ERROR!!! Pos class completely filtered out\n",
      "ERROR!!! Pos class completely filtered out\n",
      "ERROR!!! Pos class completely filtered out\n",
      "ERROR!!! Pos class completely filtered out\n",
      "ERROR!!! Pos class completely filtered out\n",
      "ERROR!!! Pos class completely filtered out\n",
      "ERROR!!! Pos class completely filtered out\n",
      "ERROR!!! Pos class completely filtered out\n",
      "ERROR!!! Pos class completely filtered out\n",
      "ERROR!!! Pos class completely filtered out\n",
      "ERROR!!! Pos class completely filtered out\n",
      "ERROR!!! Pos class completely filtered out\n",
      "ERROR!!! Pos class completely filtered out\n",
      "ERROR!!! Pos class completely filtered out\n",
      "ERROR!!! Pos class completely filtered out\n",
      "ERROR!!! Pos class completely filtered out\n",
      "ERROR!!! Pos class completely filtered out\n",
      "ERROR!!! Pos class completely filtered out\n",
      "ERROR!!! Pos class completely filtered out\n",
      "ERROR!!! Pos class completely filtered out\n",
      "ERROR!!! Pos class completely filtered out\n",
      "ERROR!!! Pos class completely filtered out\n",
      "1.15 [0.208, 0.431]\n",
      "('None', 'lr')\n",
      "ERROR!!! Pos class completely filtered out\n"
     ]
    },
    {
     "name": "stderr",
     "output_type": "stream",
     "text": [
      "/home/shihab/anaconda3/envs/ana/lib/python3.7/site-packages/sklearn/metrics/_classification.py:896: RuntimeWarning: invalid value encountered in double_scalars\n",
      "  mcc = cov_ytyp / np.sqrt(cov_ytyt * cov_ypyp)\n"
     ]
    },
    {
     "name": "stdout",
     "output_type": "stream",
     "text": [
      "ERROR!!! Pos class completely filtered out\n",
      "ERROR!!! Pos class completely filtered out\n",
      "ERROR!!! Pos class completely filtered out\n",
      "ERROR!!! Pos class completely filtered out\n",
      "ERROR!!! Pos class completely filtered out\n",
      "ERROR!!! Pos class completely filtered out\n",
      "ERROR!!! Pos class completely filtered out\n",
      "ERROR!!! Pos class completely filtered out\n",
      "ERROR!!! Pos class completely filtered out\n",
      "ERROR!!! Pos class completely filtered out\n",
      "ERROR!!! Pos class completely filtered out\n",
      "ERROR!!! Pos class completely filtered out\n",
      "ERROR!!! Pos class completely filtered out\n",
      "ERROR!!! Pos class completely filtered out\n",
      "ERROR!!! Pos class completely filtered out\n",
      "ERROR!!! Pos class completely filtered out\n",
      "ERROR!!! Pos class completely filtered out\n",
      "ERROR!!! Pos class completely filtered out\n",
      "ERROR!!! Pos class completely filtered out\n",
      "ERROR!!! Pos class completely filtered out\n",
      "ERROR!!! Pos class completely filtered out\n",
      "1.35 [0.051, 0.149]\n",
      "('None', 'nb')\n",
      "ERROR!!! Pos class completely filtered out\n",
      "ERROR!!! Pos class completely filtered out\n",
      "ERROR!!! Pos class completely filtered out\n",
      "ERROR!!! Pos class completely filtered out\n",
      "ERROR!!! Pos class completely filtered out\n",
      "ERROR!!! Pos class completely filtered out\n",
      "ERROR!!! Pos class completely filtered out\n",
      "ERROR!!! Pos class completely filtered out\n",
      "ERROR!!! Pos class completely filtered out\n",
      "ERROR!!! Pos class completely filtered out\n",
      "ERROR!!! Pos class completely filtered out\n",
      "ERROR!!! Pos class completely filtered out\n",
      "ERROR!!! Pos class completely filtered out\n",
      "ERROR!!! Pos class completely filtered out\n",
      "ERROR!!! Pos class completely filtered out\n",
      "ERROR!!! Pos class completely filtered out"
     ]
    },
    {
     "name": "stderr",
     "output_type": "stream",
     "text": [
      "/home/shihab/anaconda3/envs/ana/lib/python3.7/site-packages/sklearn/metrics/_classification.py:896: RuntimeWarning: invalid value encountered in double_scalars\n",
      "  mcc = cov_ytyp / np.sqrt(cov_ytyt * cov_ypyp)\n"
     ]
    },
    {
     "name": "stdout",
     "output_type": "stream",
     "text": [
      "\n",
      "ERROR!!! Pos class completely filtered out\n",
      "ERROR!!! Pos class completely filtered out\n",
      "ERROR!!! Pos class completely filtered out\n"
     ]
    },
    {
     "name": "stderr",
     "output_type": "stream",
     "text": [
      "/home/shihab/anaconda3/envs/ana/lib/python3.7/site-packages/sklearn/metrics/_classification.py:896: RuntimeWarning: invalid value encountered in double_scalars\n",
      "  mcc = cov_ytyp / np.sqrt(cov_ytyt * cov_ypyp)\n"
     ]
    },
    {
     "name": "stdout",
     "output_type": "stream",
     "text": [
      "ERROR!!! Pos class completely filtered out\n",
      "ERROR!!! Pos class completely filtered out\n",
      "ERROR!!! Pos class completely filtered out\n",
      "1.14 [0.052, 0.394]\n",
      "('None', 'svm')\n",
      "ERROR!!! Pos class completely filtered out\n"
     ]
    },
    {
     "name": "stderr",
     "output_type": "stream",
     "text": [
      "/home/shihab/anaconda3/envs/ana/lib/python3.7/site-packages/sklearn/metrics/_classification.py:896: RuntimeWarning: invalid value encountered in double_scalars\n",
      "  mcc = cov_ytyp / np.sqrt(cov_ytyt * cov_ypyp)\n"
     ]
    },
    {
     "name": "stdout",
     "output_type": "stream",
     "text": [
      "ERROR!!! Pos class completely filtered out\n",
      "ERROR!!! Pos class completely filtered out\n",
      "ERROR!!! Pos class completely filtered out\n",
      "ERROR!!! Pos class completely filtered out\n",
      "ERROR!!! Pos class completely filtered out\n",
      "ERROR!!! Pos class completely filtered out\n",
      "ERROR!!! Pos class completely filtered out\n",
      "ERROR!!! Pos class completely filtered out\n",
      "ERROR!!! Pos class completely filtered out\n",
      "ERROR!!! Pos class completely filtered out\n",
      "ERROR!!! Pos class completely filtered out\n",
      "ERROR!!! Pos class completely filtered out\n",
      "ERROR!!! Pos class completely filtered out\n"
     ]
    },
    {
     "name": "stderr",
     "output_type": "stream",
     "text": [
      "/home/shihab/anaconda3/envs/ana/lib/python3.7/site-packages/sklearn/metrics/_classification.py:896: RuntimeWarning: invalid value encountered in double_scalars\n",
      "  mcc = cov_ytyp / np.sqrt(cov_ytyt * cov_ypyp)\n"
     ]
    },
    {
     "name": "stdout",
     "output_type": "stream",
     "text": [
      "ERROR!!! Pos class completely filtered out\n",
      "ERROR!!! Pos class completely filtered out\n",
      "ERROR!!! Pos class completely filtered out\n",
      "ERROR!!! Pos class completely filtered out\n",
      "ERROR!!! Pos class completely filtered out\n",
      "ERROR!!! Pos class completely filtered out\n",
      "ERROR!!! Pos class completely filtered out\n",
      "ERROR!!! Pos class completely filtered out\n",
      "1.26 [0.052, 0.081]\n",
      "('None', 'knn')\n",
      "ERROR!!! Pos class completely filtered out\n",
      "ERROR!!! Pos class completely filtered out\n",
      "ERROR!!! Pos class completely filtered out\n",
      "ERROR!!! Pos class completely filtered out\n",
      "ERROR!!! Pos class completely filtered out\n",
      "ERROR!!! Pos class completely filtered out\n",
      "ERROR!!! Pos class completely filtered out\n",
      "ERROR!!! Pos class completely filtered out\n",
      "ERROR!!! Pos class completely filtered out\n",
      "ERROR!!! Pos class completely filtered out\n",
      "ERROR!!! Pos class completely filtered out\n",
      "ERROR!!! Pos class completely filtered out\n",
      "ERROR!!! Pos class completely filtered out\n",
      "ERROR!!! Pos class completely filtered out\n",
      "ERROR!!! Pos class completely filtered out\n",
      "ERROR!!! Pos class completely filtered out\n",
      "ERROR!!! Pos class completely filtered out\n",
      "ERROR!!! Pos class completely filtered out\n",
      "ERROR!!! Pos class completely filtered out\n",
      "ERROR!!! Pos class completely filtered out\n",
      "ERROR!!! Pos class completely filtered out\n"
     ]
    },
    {
     "name": "stderr",
     "output_type": "stream",
     "text": [
      "/home/shihab/anaconda3/envs/ana/lib/python3.7/site-packages/sklearn/metrics/_classification.py:896: RuntimeWarning: invalid value encountered in double_scalars\n",
      "  mcc = cov_ytyp / np.sqrt(cov_ytyt * cov_ypyp)\n",
      "/home/shihab/anaconda3/envs/ana/lib/python3.7/site-packages/sklearn/metrics/_classification.py:896: RuntimeWarning: invalid value encountered in double_scalars\n",
      "  mcc = cov_ytyp / np.sqrt(cov_ytyt * cov_ypyp)\n"
     ]
    },
    {
     "name": "stdout",
     "output_type": "stream",
     "text": [
      "ERROR!!! Pos class completely filtered out\n",
      "2.37 [0.082, 0.278]\n",
      "('None', 'rf')\n",
      "ERROR!!! Pos class completely filtered out\n"
     ]
    },
    {
     "name": "stderr",
     "output_type": "stream",
     "text": [
      "/home/shihab/anaconda3/envs/ana/lib/python3.7/site-packages/sklearn/metrics/_classification.py:896: RuntimeWarning: invalid value encountered in double_scalars\n",
      "  mcc = cov_ytyp / np.sqrt(cov_ytyt * cov_ypyp)\n"
     ]
    },
    {
     "name": "stdout",
     "output_type": "stream",
     "text": [
      "ERROR!!! Pos class completely filtered out\n",
      "ERROR!!! Pos class completely filtered out\n",
      "ERROR!!! Pos class completely filtered out\n",
      "ERROR!!! Pos class completely filtered out\n"
     ]
    },
    {
     "name": "stderr",
     "output_type": "stream",
     "text": [
      "/home/shihab/anaconda3/envs/ana/lib/python3.7/site-packages/sklearn/metrics/_classification.py:896: RuntimeWarning: invalid value encountered in double_scalars\n",
      "  mcc = cov_ytyp / np.sqrt(cov_ytyt * cov_ypyp)\n"
     ]
    },
    {
     "name": "stdout",
     "output_type": "stream",
     "text": [
      "ERROR!!! Pos class completely filtered out\n",
      "ERROR!!! Pos class completely filtered out\n",
      "ERROR!!! Pos class completely filtered out\n",
      "ERROR!!! Pos class completely filtered out\n",
      "ERROR!!! Pos class completely filtered out\n",
      "ERROR!!! Pos class completely filtered out\n",
      "ERROR!!! Pos class completely filtered out\n"
     ]
    },
    {
     "name": "stderr",
     "output_type": "stream",
     "text": [
      "/home/shihab/anaconda3/envs/ana/lib/python3.7/site-packages/sklearn/metrics/_classification.py:896: RuntimeWarning: invalid value encountered in double_scalars\n",
      "  mcc = cov_ytyp / np.sqrt(cov_ytyt * cov_ypyp)\n"
     ]
    },
    {
     "name": "stdout",
     "output_type": "stream",
     "text": [
      "ERROR!!! Pos class completely filtered out\n",
      "ERROR!!! Pos class completely filtered out\n",
      "ERROR!!! Pos class completely filtered out\n",
      "ERROR!!! Pos class completely filtered out\n",
      "ERROR!!! Pos class completely filtered out\n",
      "ERROR!!! Pos class completely filtered out\n",
      "ERROR!!! Pos class completely filtered out\n",
      "1.68 [0.043, 0.171]\n",
      "('ens', 'rboost_DT')\n",
      "1.79 [0.21, 0.384]\n",
      "('ens', 'rboost_NB')\n",
      "2.11 [0.235, 0.423]\n",
      "('ens', 'bbag_DT')\n",
      "26.68 [0.218, 0.291]\n",
      "('ens', 'bbag_NB')\n",
      "26.89 [0.23, 0.386]\n",
      "\n",
      "derby-10.2.1.6.csv noise:0.290, imb:9.906,180,1783, Shape:(1963, 65)\n",
      "('smote', 'dt')\n",
      "2.15 [0.325, 0.623]\n",
      "('smote', 'lr')\n",
      "4.87 [0.383, 0.639]\n",
      "('smote', 'nb')\n",
      "1.82 [0.43, 0.683]\n",
      "('smote', 'svm')\n",
      "19.05 [0.425, 0.667]\n",
      "('smote', 'knn')\n",
      "2.9 [0.374, 0.64]\n",
      "('smote', 'rf')\n",
      "6.08 [0.342, 0.645]\n",
      "('rus', 'dt')\n",
      "0.5 [0.351, 0.648]\n",
      "('rus', 'lr')\n",
      "0.86 [0.39, 0.653]\n",
      "('rus', 'nb')\n",
      "0.52 [0.424, 0.682]\n",
      "('rus', 'svm')\n",
      "0.63 [0.4, 0.66]\n",
      "('rus', 'knn')\n",
      "0.64 [0.399, 0.663]\n",
      "('rus', 'rf')\n",
      "1.75 [0.387, 0.651]\n",
      "('wilson', 'dt')\n",
      "3.42 [0.272, 0.634]\n",
      "('wilson', 'lr')\n",
      "4.33 [0.294, 0.665]\n",
      "('wilson', 'nb')\n",
      "3.45 [0.362, 0.647]\n",
      "('wilson', 'svm')\n",
      "4.32 [0.29, 0.591]\n",
      "('wilson', 'knn')\n",
      "4.03 [0.264, 0.64]\n",
      "('wilson', 'rf')\n",
      "5.29 [0.255, 0.629]\n",
      "('tomek', 'dt')\n",
      "ERROR!!! Pos class completely filtered out\n",
      "ERROR!!! Pos class completely filtered out\n"
     ]
    },
    {
     "name": "stderr",
     "output_type": "stream",
     "text": [
      "/home/shihab/anaconda3/envs/ana/lib/python3.7/site-packages/sklearn/metrics/_classification.py:896: RuntimeWarning: invalid value encountered in double_scalars\n",
      "  mcc = cov_ytyp / np.sqrt(cov_ytyt * cov_ypyp)\n"
     ]
    },
    {
     "name": "stdout",
     "output_type": "stream",
     "text": [
      "ERROR!!! Pos class completely filtered out\n"
     ]
    },
    {
     "name": "stderr",
     "output_type": "stream",
     "text": [
      "/home/shihab/anaconda3/envs/ana/lib/python3.7/site-packages/sklearn/metrics/_classification.py:896: RuntimeWarning: invalid value encountered in double_scalars\n",
      "  mcc = cov_ytyp / np.sqrt(cov_ytyt * cov_ypyp)\n"
     ]
    },
    {
     "name": "stdout",
     "output_type": "stream",
     "text": [
      "ERROR!!! Pos class completely filtered out\n",
      "ERROR!!! Pos class completely filtered out\n",
      "ERROR!!! Pos class completely filtered out\n"
     ]
    },
    {
     "name": "stderr",
     "output_type": "stream",
     "text": [
      "/home/shihab/anaconda3/envs/ana/lib/python3.7/site-packages/sklearn/metrics/_classification.py:896: RuntimeWarning: invalid value encountered in double_scalars\n",
      "  mcc = cov_ytyp / np.sqrt(cov_ytyt * cov_ypyp)\n"
     ]
    },
    {
     "name": "stdout",
     "output_type": "stream",
     "text": [
      "ERROR!!! Pos class completely filtered out\n",
      "ERROR!!! Pos class completely filtered out\n",
      "ERROR!!! Pos class completely filtered out\n",
      "ERROR!!! Pos class completely filtered out\n"
     ]
    },
    {
     "name": "stderr",
     "output_type": "stream",
     "text": [
      "/home/shihab/anaconda3/envs/ana/lib/python3.7/site-packages/sklearn/metrics/_classification.py:896: RuntimeWarning: invalid value encountered in double_scalars\n",
      "  mcc = cov_ytyp / np.sqrt(cov_ytyt * cov_ypyp)\n"
     ]
    },
    {
     "name": "stdout",
     "output_type": "stream",
     "text": [
      "3.19 [0.088, 0.622]\n",
      "('tomek', 'lr')\n",
      "ERROR!!! Pos class completely filtered out\n",
      "ERROR!!! Pos class completely filtered out\n",
      "ERROR!!! Pos class completely filtered out\n",
      "ERROR!!! Pos class completely filtered out\n",
      "ERROR!!! Pos class completely filtered out\n",
      "ERROR!!! Pos class completely filtered out\n",
      "ERROR!!! Pos class completely filtered out\n",
      "ERROR!!! Pos class completely filtered out\n",
      "ERROR!!! Pos class completely filtered out\n"
     ]
    },
    {
     "name": "stderr",
     "output_type": "stream",
     "text": [
      "/home/shihab/anaconda3/envs/ana/lib/python3.7/site-packages/sklearn/metrics/_classification.py:896: RuntimeWarning: invalid value encountered in double_scalars\n",
      "  mcc = cov_ytyp / np.sqrt(cov_ytyt * cov_ypyp)\n",
      "/home/shihab/anaconda3/envs/ana/lib/python3.7/site-packages/sklearn/metrics/_classification.py:896: RuntimeWarning: invalid value encountered in double_scalars\n",
      "  mcc = cov_ytyp / np.sqrt(cov_ytyt * cov_ypyp)\n"
     ]
    },
    {
     "name": "stdout",
     "output_type": "stream",
     "text": [
      "ERROR!!! Pos class completely filtered out\n",
      "ERROR!!! Pos class completely filtered out\n",
      "ERROR!!! Pos class completely filtered out\n",
      "ERROR!!! Pos class completely filtered out\n"
     ]
    },
    {
     "name": "stderr",
     "output_type": "stream",
     "text": [
      "/home/shihab/anaconda3/envs/ana/lib/python3.7/site-packages/sklearn/metrics/_classification.py:896: RuntimeWarning: invalid value encountered in double_scalars\n",
      "  mcc = cov_ytyp / np.sqrt(cov_ytyt * cov_ypyp)\n"
     ]
    },
    {
     "name": "stdout",
     "output_type": "stream",
     "text": [
      "ERROR!!! Pos class completely filtered out\n",
      "ERROR!!! Pos class completely filtered out\n",
      "ERROR!!! Pos class completely filtered out\n",
      "3.36 [0.089, 0.685]\n",
      "('tomek', 'nb')\n",
      "ERROR!!! Pos class completely filtered out\n",
      "ERROR!!! Pos class completely filtered out\n",
      "ERROR!!! Pos class completely filtered out\n",
      "ERROR!!! Pos class completely filtered out\n",
      "ERROR!!! Pos class completely filtered out\n",
      "ERROR!!! Pos class completely filtered out\n",
      "ERROR!!! Pos class completely filtered out\n",
      "ERROR!!! Pos class completely filtered out\n",
      "ERROR!!! Pos class completely filtered out\n"
     ]
    },
    {
     "name": "stderr",
     "output_type": "stream",
     "text": [
      "/home/shihab/anaconda3/envs/ana/lib/python3.7/site-packages/sklearn/metrics/_classification.py:896: RuntimeWarning: invalid value encountered in double_scalars\n",
      "  mcc = cov_ytyp / np.sqrt(cov_ytyt * cov_ypyp)\n"
     ]
    },
    {
     "name": "stdout",
     "output_type": "stream",
     "text": [
      "ERROR!!! Pos class completely filtered out\n"
     ]
    },
    {
     "name": "stderr",
     "output_type": "stream",
     "text": [
      "/home/shihab/anaconda3/envs/ana/lib/python3.7/site-packages/sklearn/metrics/_classification.py:896: RuntimeWarning: invalid value encountered in double_scalars\n",
      "  mcc = cov_ytyp / np.sqrt(cov_ytyt * cov_ypyp)\n",
      "/home/shihab/anaconda3/envs/ana/lib/python3.7/site-packages/sklearn/metrics/_classification.py:896: RuntimeWarning: invalid value encountered in double_scalars\n",
      "  mcc = cov_ytyp / np.sqrt(cov_ytyt * cov_ypyp)\n"
     ]
    },
    {
     "name": "stdout",
     "output_type": "stream",
     "text": [
      "ERROR!!! Pos class completely filtered out\n",
      "ERROR!!! Pos class completely filtered out\n",
      "ERROR!!! Pos class completely filtered out\n",
      "3.08 [0.174, 0.654]\n",
      "('tomek', 'svm')\n",
      "ERROR!!! Pos class completely filtered out\n",
      "ERROR!!! Pos class completely filtered out\n",
      "ERROR!!! Pos class completely filtered out\n",
      "ERROR!!! Pos class completely filtered out\n",
      "ERROR!!! Pos class completely filtered out\n",
      "ERROR!!! Pos class completely filtered out\n",
      "ERROR!!! Pos class completely filtered out\n",
      "ERROR!!! Pos class completely filtered out\n",
      "ERROR!!! Pos class completely filtered out\n",
      "ERROR!!! Pos class completely filtered out\n",
      "ERROR!!! Pos class completely filtered out\n",
      "ERROR!!! Pos class completely filtered out\n",
      "ERROR!!! Pos class completely filtered out\n",
      "ERROR!!! Pos class completely filtered out\n"
     ]
    },
    {
     "name": "stderr",
     "output_type": "stream",
     "text": [
      "/home/shihab/anaconda3/envs/ana/lib/python3.7/site-packages/sklearn/metrics/_classification.py:896: RuntimeWarning: invalid value encountered in double_scalars\n",
      "  mcc = cov_ytyp / np.sqrt(cov_ytyt * cov_ypyp)\n"
     ]
    },
    {
     "name": "stdout",
     "output_type": "stream",
     "text": [
      "ERROR!!! Pos class completely filtered out\n",
      "ERROR!!! Pos class completely filtered out\n",
      "ERROR!!! Pos class completely filtered out\n",
      "ERROR!!! Pos class completely filtered out\n",
      "ERROR!!! Pos class completely filtered out\n",
      "3.17 [0.063, 0.343]\n",
      "('tomek', 'knn')\n",
      "ERROR!!! Pos class completely filtered out\n",
      "ERROR!!! Pos class completely filtered out\n",
      "ERROR!!! Pos class completely filtered out\n"
     ]
    },
    {
     "name": "stderr",
     "output_type": "stream",
     "text": [
      "/home/shihab/anaconda3/envs/ana/lib/python3.7/site-packages/sklearn/metrics/_classification.py:896: RuntimeWarning: invalid value encountered in double_scalars\n",
      "  mcc = cov_ytyp / np.sqrt(cov_ytyt * cov_ypyp)\n",
      "/home/shihab/anaconda3/envs/ana/lib/python3.7/site-packages/sklearn/metrics/_classification.py:896: RuntimeWarning: invalid value encountered in double_scalars\n",
      "  mcc = cov_ytyp / np.sqrt(cov_ytyt * cov_ypyp)\n",
      "/home/shihab/anaconda3/envs/ana/lib/python3.7/site-packages/sklearn/metrics/_classification.py:896: RuntimeWarning: invalid value encountered in double_scalars\n",
      "  mcc = cov_ytyp / np.sqrt(cov_ytyt * cov_ypyp)\n"
     ]
    },
    {
     "name": "stdout",
     "output_type": "stream",
     "text": [
      "ERROR!!! Pos class completely filtered out\n",
      "ERROR!!! Pos class completely filtered out\n",
      "ERROR!!! Pos class completely filtered out\n",
      "ERROR!!! Pos class completely filtered out\n"
     ]
    },
    {
     "name": "stderr",
     "output_type": "stream",
     "text": [
      "/home/shihab/anaconda3/envs/ana/lib/python3.7/site-packages/sklearn/metrics/_classification.py:896: RuntimeWarning: invalid value encountered in double_scalars\n",
      "  mcc = cov_ytyp / np.sqrt(cov_ytyt * cov_ypyp)\n"
     ]
    },
    {
     "name": "stdout",
     "output_type": "stream",
     "text": [
      "ERROR!!! Pos class completely filtered out\n",
      "ERROR!!! Pos class completely filtered out\n"
     ]
    },
    {
     "name": "stderr",
     "output_type": "stream",
     "text": [
      "/home/shihab/anaconda3/envs/ana/lib/python3.7/site-packages/sklearn/metrics/_classification.py:896: RuntimeWarning: invalid value encountered in double_scalars\n",
      "  mcc = cov_ytyp / np.sqrt(cov_ytyt * cov_ypyp)\n"
     ]
    },
    {
     "name": "stdout",
     "output_type": "stream",
     "text": [
      "ERROR!!! Pos class completely filtered out\n",
      "ERROR!!! Pos class completely filtered out\n"
     ]
    },
    {
     "name": "stderr",
     "output_type": "stream",
     "text": [
      "/home/shihab/anaconda3/envs/ana/lib/python3.7/site-packages/sklearn/metrics/_classification.py:896: RuntimeWarning: invalid value encountered in double_scalars\n",
      "  mcc = cov_ytyp / np.sqrt(cov_ytyt * cov_ypyp)\n"
     ]
    },
    {
     "name": "stdout",
     "output_type": "stream",
     "text": [
      "3.56 [0.057, 0.634]\n",
      "('tomek', 'rf')\n",
      "ERROR!!! Pos class completely filtered out\n",
      "ERROR!!! Pos class completely filtered out\n",
      "ERROR!!! Pos class completely filtered out\n"
     ]
    },
    {
     "name": "stderr",
     "output_type": "stream",
     "text": [
      "/home/shihab/anaconda3/envs/ana/lib/python3.7/site-packages/sklearn/metrics/_classification.py:896: RuntimeWarning: invalid value encountered in double_scalars\n",
      "  mcc = cov_ytyp / np.sqrt(cov_ytyt * cov_ypyp)\n"
     ]
    },
    {
     "name": "stdout",
     "output_type": "stream",
     "text": [
      "ERROR!!! Pos class completely filtered out\n",
      "ERROR!!! Pos class completely filtered out\n",
      "ERROR!!! Pos class completely filtered out\n",
      "ERROR!!! Pos class completely filtered out\n"
     ]
    },
    {
     "name": "stderr",
     "output_type": "stream",
     "text": [
      "/home/shihab/anaconda3/envs/ana/lib/python3.7/site-packages/sklearn/metrics/_classification.py:896: RuntimeWarning: invalid value encountered in double_scalars\n",
      "  mcc = cov_ytyp / np.sqrt(cov_ytyt * cov_ypyp)\n"
     ]
    },
    {
     "name": "stdout",
     "output_type": "stream",
     "text": [
      "ERROR!!! Pos class completely filtered out\n",
      "ERROR!!! Pos class completely filtered out\n"
     ]
    },
    {
     "name": "stderr",
     "output_type": "stream",
     "text": [
      "/home/shihab/anaconda3/envs/ana/lib/python3.7/site-packages/sklearn/metrics/_classification.py:896: RuntimeWarning: invalid value encountered in double_scalars\n",
      "  mcc = cov_ytyp / np.sqrt(cov_ytyt * cov_ypyp)\n"
     ]
    },
    {
     "name": "stdout",
     "output_type": "stream",
     "text": [
      "ERROR!!! Pos class completely filtered out\n",
      "ERROR!!! Pos class completely filtered out\n"
     ]
    },
    {
     "name": "stderr",
     "output_type": "stream",
     "text": [
      "/home/shihab/anaconda3/envs/ana/lib/python3.7/site-packages/sklearn/metrics/_classification.py:896: RuntimeWarning: invalid value encountered in double_scalars\n",
      "  mcc = cov_ytyp / np.sqrt(cov_ytyt * cov_ypyp)\n"
     ]
    },
    {
     "name": "stdout",
     "output_type": "stream",
     "text": [
      "ERROR!!! Pos class completely filtered out\n",
      "ERROR!!! Pos class completely filtered out\n",
      "ERROR!!! Pos class completely filtered out\n",
      "3.88 [0.064, 0.629]\n",
      "('None', 'dt')\n",
      "ERROR!!! Pos class completely filtered out\n",
      "ERROR!!! Pos class completely filtered out\n",
      "ERROR!!! Pos class completely filtered out\n",
      "ERROR!!! Pos class completely filtered out\n",
      "ERROR!!! Pos class completely filtered out\n",
      "ERROR!!! Pos class completely filtered out\n",
      "ERROR!!! Pos class completely filtered out\n",
      "ERROR!!! Pos class completely filtered out\n"
     ]
    },
    {
     "name": "stderr",
     "output_type": "stream",
     "text": [
      "/home/shihab/anaconda3/envs/ana/lib/python3.7/site-packages/sklearn/metrics/_classification.py:896: RuntimeWarning: invalid value encountered in double_scalars\n",
      "  mcc = cov_ytyp / np.sqrt(cov_ytyt * cov_ypyp)\n"
     ]
    },
    {
     "name": "stdout",
     "output_type": "stream",
     "text": [
      "ERROR!!! Pos class completely filtered out\n",
      "ERROR!!! Pos class completely filtered out\n",
      "ERROR!!! Pos class completely filtered out\n",
      "ERROR!!! Pos class completely filtered out\n",
      "ERROR!!! Pos class completely filtered out\n",
      "0.57 [0.095, 0.616]\n",
      "('None', 'lr')\n",
      "ERROR!!! Pos class completely filtered out\n",
      "ERROR!!! Pos class completely filtered out\n",
      "ERROR!!! Pos class completely filtered out\n",
      "ERROR!!! Pos class completely filtered out\n",
      "ERROR!!! Pos class completely filtered out\n"
     ]
    },
    {
     "name": "stderr",
     "output_type": "stream",
     "text": [
      "/home/shihab/anaconda3/envs/ana/lib/python3.7/site-packages/sklearn/metrics/_classification.py:896: RuntimeWarning: invalid value encountered in double_scalars\n",
      "  mcc = cov_ytyp / np.sqrt(cov_ytyt * cov_ypyp)\n"
     ]
    },
    {
     "name": "stdout",
     "output_type": "stream",
     "text": [
      "ERROR!!! Pos class completely filtered out\n",
      "ERROR!!! Pos class completely filtered out\n",
      "ERROR!!! Pos class completely filtered out\n",
      "ERROR!!! Pos class completely filtered out\n",
      "ERROR!!! Pos class completely filtered out\n",
      "ERROR!!! Pos class completely filtered out\n",
      "ERROR!!! Pos class completely filtered out\n",
      "ERROR!!! Pos class completely filtered out\n",
      "ERROR!!! Pos class completely filtered out\n",
      "ERROR!!! Pos class completely filtered out\n",
      "1.03 [0.098, 0.634]\n",
      "('None', 'nb')\n",
      "ERROR!!! Pos class completely filtered out\n",
      "ERROR!!! Pos class completely filtered out\n",
      "ERROR!!! Pos class completely filtered out\n",
      "ERROR!!! Pos class completely filtered out\n",
      "ERROR!!! Pos class completely filtered out\n",
      "ERROR!!! Pos class completely filtered out\n",
      "ERROR!!! Pos class completely filtered out\n",
      "ERROR!!! Pos class completely filtered out\n",
      "ERROR!!! Pos class completely filtered out\n"
     ]
    },
    {
     "name": "stderr",
     "output_type": "stream",
     "text": [
      "/home/shihab/anaconda3/envs/ana/lib/python3.7/site-packages/sklearn/metrics/_classification.py:896: RuntimeWarning: invalid value encountered in double_scalars\n",
      "  mcc = cov_ytyp / np.sqrt(cov_ytyt * cov_ypyp)\n",
      "/home/shihab/anaconda3/envs/ana/lib/python3.7/site-packages/sklearn/metrics/_classification.py:896: RuntimeWarning: invalid value encountered in double_scalars\n",
      "  mcc = cov_ytyp / np.sqrt(cov_ytyt * cov_ypyp)\n",
      "/home/shihab/anaconda3/envs/ana/lib/python3.7/site-packages/sklearn/metrics/_classification.py:896: RuntimeWarning: invalid value encountered in double_scalars\n",
      "  mcc = cov_ytyp / np.sqrt(cov_ytyt * cov_ypyp)\n"
     ]
    },
    {
     "name": "stdout",
     "output_type": "stream",
     "text": [
      "ERROR!!! Pos class completely filtered out\n",
      "ERROR!!! Pos class completely filtered out\n",
      "ERROR!!! Pos class completely filtered out\n",
      "ERROR!!! Pos class completely filtered out\n",
      "ERROR!!! Pos class completely filtered out\n"
     ]
    },
    {
     "name": "stderr",
     "output_type": "stream",
     "text": [
      "/home/shihab/anaconda3/envs/ana/lib/python3.7/site-packages/sklearn/metrics/_classification.py:896: RuntimeWarning: invalid value encountered in double_scalars\n",
      "  mcc = cov_ytyp / np.sqrt(cov_ytyt * cov_ypyp)\n"
     ]
    },
    {
     "name": "stdout",
     "output_type": "stream",
     "text": [
      "ERROR!!! Pos class completely filtered out\n",
      "ERROR!!! Pos class completely filtered out\n",
      "0.57 [0.098, 0.658]\n",
      "('None', 'svm')\n",
      "ERROR!!! Pos class completely filtered out\n",
      "ERROR!!! Pos class completely filtered out\n",
      "ERROR!!! Pos class completely filtered out\n",
      "ERROR!!! Pos class completely filtered out\n",
      "ERROR!!! Pos class completely filtered out\n",
      "ERROR!!! Pos class completely filtered out\n",
      "ERROR!!! Pos class completely filtered out\n",
      "ERROR!!! Pos class completely filtered out\n",
      "ERROR!!! Pos class completely filtered out\n",
      "ERROR!!! Pos class completely filtered out\n",
      "ERROR!!! Pos class completely filtered out\n",
      "ERROR!!! Pos class completely filtered out\n",
      "ERROR!!! Pos class completely filtered out\n",
      "ERROR!!! Pos class completely filtered out\n"
     ]
    },
    {
     "name": "stderr",
     "output_type": "stream",
     "text": [
      "/home/shihab/anaconda3/envs/ana/lib/python3.7/site-packages/sklearn/metrics/_classification.py:896: RuntimeWarning: invalid value encountered in double_scalars\n",
      "  mcc = cov_ytyp / np.sqrt(cov_ytyt * cov_ypyp)\n",
      "/home/shihab/anaconda3/envs/ana/lib/python3.7/site-packages/sklearn/metrics/_classification.py:896: RuntimeWarning: invalid value encountered in double_scalars\n",
      "  mcc = cov_ytyp / np.sqrt(cov_ytyt * cov_ypyp)\n",
      "/home/shihab/anaconda3/envs/ana/lib/python3.7/site-packages/sklearn/metrics/_classification.py:896: RuntimeWarning: invalid value encountered in double_scalars\n",
      "  mcc = cov_ytyp / np.sqrt(cov_ytyt * cov_ypyp)\n"
     ]
    },
    {
     "name": "stdout",
     "output_type": "stream",
     "text": [
      "ERROR!!! Pos class completely filtered out\n",
      "ERROR!!! Pos class completely filtered out\n",
      "ERROR!!! Pos class completely filtered out\n",
      "ERROR!!! Pos class completely filtered out\n",
      "ERROR!!! Pos class completely filtered out\n",
      "0.59 [0.022, 0.329]\n",
      "('None', 'knn')\n"
     ]
    },
    {
     "name": "stderr",
     "output_type": "stream",
     "text": [
      "/home/shihab/anaconda3/envs/ana/lib/python3.7/site-packages/sklearn/metrics/_classification.py:896: RuntimeWarning: invalid value encountered in double_scalars\n",
      "  mcc = cov_ytyp / np.sqrt(cov_ytyt * cov_ypyp)\n"
     ]
    },
    {
     "name": "stdout",
     "output_type": "stream",
     "text": [
      "ERROR!!! Pos class completely filtered out\n",
      "ERROR!!! Pos class completely filtered out\n",
      "ERROR!!! Pos class completely filtered out\n",
      "ERROR!!! Pos class completely filtered out\n",
      "ERROR!!! Pos class completely filtered out\n",
      "ERROR!!! Pos class completely filtered out\n",
      "ERROR!!! Pos class completely filtered out\n",
      "ERROR!!! Pos class completely filtered out\n"
     ]
    },
    {
     "name": "stderr",
     "output_type": "stream",
     "text": [
      "/home/shihab/anaconda3/envs/ana/lib/python3.7/site-packages/sklearn/metrics/_classification.py:896: RuntimeWarning: invalid value encountered in double_scalars\n",
      "  mcc = cov_ytyp / np.sqrt(cov_ytyt * cov_ypyp)\n"
     ]
    },
    {
     "name": "stdout",
     "output_type": "stream",
     "text": [
      "ERROR!!! Pos class completely filtered out\n",
      "ERROR!!! Pos class completely filtered out\n",
      "ERROR!!! Pos class completely filtered out\n",
      "ERROR!!! Pos class completely filtered out\n",
      "ERROR!!! Pos class completely filtered out\n",
      "ERROR!!! Pos class completely filtered out\n",
      "ERROR!!! Pos class completely filtered out\n",
      "ERROR!!! Pos class completely filtered out\n",
      "ERROR!!! Pos class completely filtered out\n",
      "ERROR!!! Pos class completely filtered out\n",
      "ERROR!!! Pos class completely filtered out\n"
     ]
    },
    {
     "name": "stderr",
     "output_type": "stream",
     "text": [
      "/home/shihab/anaconda3/envs/ana/lib/python3.7/site-packages/sklearn/metrics/_classification.py:896: RuntimeWarning: invalid value encountered in double_scalars\n",
      "  mcc = cov_ytyp / np.sqrt(cov_ytyt * cov_ypyp)\n",
      "/home/shihab/anaconda3/envs/ana/lib/python3.7/site-packages/sklearn/metrics/_classification.py:896: RuntimeWarning: invalid value encountered in double_scalars\n",
      "  mcc = cov_ytyp / np.sqrt(cov_ytyt * cov_ypyp)\n"
     ]
    },
    {
     "name": "stdout",
     "output_type": "stream",
     "text": [
      "ERROR!!! Pos class completely filtered out\n",
      "ERROR!!! Pos class completely filtered out\n",
      "ERROR!!! Pos class completely filtered out\n",
      "0.56 [0.0, 0.617]\n",
      "('None', 'rf')\n",
      "ERROR!!! Pos class completely filtered out\n"
     ]
    },
    {
     "name": "stderr",
     "output_type": "stream",
     "text": [
      "/home/shihab/anaconda3/envs/ana/lib/python3.7/site-packages/sklearn/metrics/_classification.py:896: RuntimeWarning: invalid value encountered in double_scalars\n",
      "  mcc = cov_ytyp / np.sqrt(cov_ytyt * cov_ypyp)\n",
      "/home/shihab/anaconda3/envs/ana/lib/python3.7/site-packages/sklearn/metrics/_classification.py:896: RuntimeWarning: invalid value encountered in double_scalars\n",
      "  mcc = cov_ytyp / np.sqrt(cov_ytyt * cov_ypyp)\n"
     ]
    },
    {
     "name": "stdout",
     "output_type": "stream",
     "text": [
      "ERROR!!! Pos class completely filtered out\n",
      "ERROR!!! Pos class completely filtered out\n",
      "ERROR!!! Pos class completely filtered out\n"
     ]
    },
    {
     "name": "stderr",
     "output_type": "stream",
     "text": [
      "/home/shihab/anaconda3/envs/ana/lib/python3.7/site-packages/sklearn/metrics/_classification.py:896: RuntimeWarning: invalid value encountered in double_scalars\n",
      "  mcc = cov_ytyp / np.sqrt(cov_ytyt * cov_ypyp)\n"
     ]
    },
    {
     "name": "stdout",
     "output_type": "stream",
     "text": [
      "ERROR!!! Pos class completely filtered out\n",
      "ERROR!!! Pos class completely filtered out\n",
      "ERROR!!! Pos class completely filtered out\n",
      "ERROR!!! Pos class completely filtered out\n",
      "ERROR!!! Pos class completely filtered out\n",
      "ERROR!!! Pos class completely filtered out\n",
      "ERROR!!! Pos class completely filtered out\n"
     ]
    },
    {
     "name": "stderr",
     "output_type": "stream",
     "text": [
      "/home/shihab/anaconda3/envs/ana/lib/python3.7/site-packages/sklearn/metrics/_classification.py:896: RuntimeWarning: invalid value encountered in double_scalars\n",
      "  mcc = cov_ytyp / np.sqrt(cov_ytyt * cov_ypyp)\n"
     ]
    },
    {
     "name": "stdout",
     "output_type": "stream",
     "text": [
      "ERROR!!! Pos class completely filtered out\n",
      "ERROR!!! Pos class completely filtered out\n",
      "ERROR!!! Pos class completely filtered out\n",
      "ERROR!!! Pos class completely filtered out\n",
      "ERROR!!! Pos class completely filtered out\n",
      "1.09 [0.052, 0.601]\n",
      "('ens', 'rboost_DT')\n",
      "1.74 [0.366, 0.637]\n",
      "('ens', 'rboost_NB')\n",
      "1.5 [0.425, 0.684]\n",
      "('ens', 'bbag_DT')\n",
      "24.17 [0.387, 0.663]\n",
      "('ens', 'bbag_NB')\n",
      "23.7 [0.436, 0.694]\n",
      "\n",
      "jruby-1.5.0.csv noise:0.218, imb:3.098,276,855, Shape:(1131, 65)\n",
      "('smote', 'dt')\n",
      "1.11 [0.34, 0.543]\n",
      "('smote', 'lr')\n",
      "1.86 [0.333, 0.438]\n",
      "('smote', 'nb')\n",
      "0.98 [0.347, 0.537]\n",
      "('smote', 'svm')\n",
      "2.73 [0.353, 0.295]\n",
      "('smote', 'knn')\n",
      "1.31 [0.345, 0.547]\n",
      "('smote', 'rf')\n",
      "2.94 [0.348, 0.516]\n",
      "('rus', 'dt')\n",
      "0.46 [0.328, 0.547]\n",
      "('rus', 'lr')\n",
      "0.81 [0.328, 0.455]\n",
      "('rus', 'nb')\n",
      "0.47 [0.326, 0.538]\n",
      "('rus', 'svm')\n",
      "0.66 [0.343, 0.318]\n",
      "('rus', 'knn')\n",
      "0.58 [0.34, 0.547]\n",
      "('rus', 'rf')\n",
      "1.7 [0.327, 0.536]\n",
      "('wilson', 'dt')\n",
      "1.21 [0.335, 0.543]\n",
      "('wilson', 'lr')\n",
      "1.76 [0.348, 0.459]\n",
      "('wilson', 'nb')\n",
      "1.19 [0.327, 0.538]\n",
      "('wilson', 'svm')\n",
      "1.57 [0.343, 0.317]\n",
      "('wilson', 'knn')\n",
      "1.38 [0.353, 0.54]\n",
      "('wilson', 'rf')\n",
      "2.49 [0.332, 0.517]\n",
      "('tomek', 'dt')\n",
      "1.37 [0.389, 0.49]\n",
      "('tomek', 'lr')\n",
      "2.0 [0.423, 0.467]\n",
      "('tomek', 'nb')\n",
      "1.35 [0.374, 0.514]\n",
      "('tomek', 'svm')\n",
      "1.91 [0.434, 0.443]\n",
      "('tomek', 'knn')\n",
      "1.58 [0.432, 0.53]\n",
      "('tomek', 'rf')\n",
      "2.69 [0.425, 0.476]\n",
      "('None', 'dt')\n",
      "0.55 [0.393, 0.491]\n",
      "('None', 'lr')\n",
      "1.19 [0.445, 0.463]\n",
      "('None', 'nb')\n",
      "0.56 [0.384, 0.513]\n",
      "('None', 'svm')\n",
      "1.17 [0.437, 0.433]\n",
      "('None', 'knn')\n",
      "0.81 [0.446, 0.531]\n",
      "('None', 'rf')\n",
      "1.88 [0.421, 0.485]\n",
      "('ens', 'rboost_DT')\n",
      "1.58 [0.322, 0.532]\n",
      "('ens', 'rboost_NB')\n",
      "1.51 [0.329, 0.543]\n",
      "('ens', 'bbag_DT')\n",
      "21.9 [0.326, 0.487]\n",
      "('ens', 'bbag_NB')\n",
      "22.16 [0.325, 0.519]\n",
      "\n",
      "derby-10.3.1.4.csv noise:0.267, imb:13.051,157,2049, Shape:(2206, 65)\n",
      "('smote', 'dt')\n",
      "2.29 [0.342, 0.608]\n",
      "('smote', 'lr')\n",
      "5.64 [0.416, 0.65]\n",
      "('smote', 'nb')\n",
      "2.0 [0.4, 0.643]\n",
      "('smote', 'svm')\n",
      "28.89 [0.405, 0.62]\n",
      "('smote', 'knn')\n",
      "3.27 [0.359, 0.609]\n",
      "('smote', 'rf')\n",
      "7.58 [0.387, 0.627]\n",
      "('rus', 'dt')\n",
      "0.48 [0.344, 0.622]\n",
      "('rus', 'lr')\n",
      "0.82 [0.391, 0.632]\n",
      "('rus', 'nb')\n",
      "0.47 [0.394, 0.644]\n",
      "('rus', 'svm')\n",
      "0.6 [0.395, 0.637]\n",
      "('rus', 'knn')\n",
      "0.63 [0.385, 0.634]\n",
      "('rus', 'rf')\n",
      "1.75 [0.369, 0.623]\n",
      "('wilson', 'dt')\n",
      "ERROR!!! Pos class completely filtered out\n"
     ]
    },
    {
     "name": "stderr",
     "output_type": "stream",
     "text": [
      "/home/shihab/anaconda3/envs/ana/lib/python3.7/site-packages/sklearn/metrics/_classification.py:896: RuntimeWarning: invalid value encountered in double_scalars\n",
      "  mcc = cov_ytyp / np.sqrt(cov_ytyt * cov_ypyp)\n"
     ]
    },
    {
     "name": "stdout",
     "output_type": "stream",
     "text": [
      "4.03 [0.211, 0.632]\n",
      "('wilson', 'lr')\n",
      "ERROR!!! Pos class completely filtered out\n",
      "4.72 [0.219, 0.653]\n",
      "('wilson', 'nb')\n",
      "4.06 [0.311, 0.571]\n",
      "('wilson', 'svm')\n",
      "ERROR!!! Pos class completely filtered out\n",
      "ERROR!!! Pos class completely filtered out\n",
      "4.6 [0.219, 0.472]\n",
      "('wilson', 'knn')\n",
      "4.89 [0.16, 0.616]\n",
      "('wilson', 'rf')\n",
      "ERROR!!! Pos class completely filtered out\n",
      "ERROR!!! Pos class completely filtered out\n",
      "5.55 [0.196, 0.61]\n",
      "('tomek', 'dt')\n",
      "ERROR!!! Pos class completely filtered out\n",
      "ERROR!!! Pos class completely filtered out\n",
      "ERROR!!! Pos class completely filtered out\n",
      "ERROR!!! Pos class completely filtered out\n",
      "ERROR!!! Pos class completely filtered out\n",
      "ERROR!!! Pos class completely filtered out\n",
      "ERROR!!! Pos class completely filtered out\n",
      "ERROR!!! Pos class completely filtered out\n",
      "ERROR!!! Pos class completely filtered out\n",
      "ERROR!!! Pos class completely filtered out\n",
      "ERROR!!! Pos class completely filtered out\n",
      "ERROR!!! Pos class completely filtered out\n",
      "ERROR!!! Pos class completely filtered out\n",
      "ERROR!!! Pos class completely filtered out\n",
      "3.77 [0.115, 0.643]\n",
      "('tomek', 'lr')\n",
      "ERROR!!! Pos class completely filtered out\n",
      "ERROR!!! Pos class completely filtered out\n",
      "ERROR!!! Pos class completely filtered out\n",
      "ERROR!!! Pos class completely filtered out\n",
      "ERROR!!! Pos class completely filtered out\n",
      "ERROR!!! Pos class completely filtered out\n",
      "ERROR!!! Pos class completely filtered out\n",
      "ERROR!!! Pos class completely filtered out\n",
      "ERROR!!! Pos class completely filtered out\n",
      "ERROR!!! Pos class completely filtered out\n",
      "ERROR!!! Pos class completely filtered out\n",
      "ERROR!!! Pos class completely filtered out\n",
      "ERROR!!! Pos class completely filtered out\n",
      "ERROR!!! Pos class completely filtered out\n",
      "ERROR!!! Pos class completely filtered out\n",
      "ERROR!!! Pos class completely filtered out\n",
      "ERROR!!! Pos class completely filtered out\n",
      "ERROR!!! Pos class completely filtered out\n",
      "ERROR!!! Pos class completely filtered out\n",
      "ERROR!!! Pos class completely filtered out\n",
      "ERROR!!! Pos class completely filtered out\n",
      "ERROR!!! Pos class completely filtered out\n",
      "ERROR!!! Pos class completely filtered out\n",
      "3.77 [0.088, 0.662]\n",
      "('tomek', 'nb')\n",
      "ERROR!!! Pos class completely filtered out\n",
      "ERROR!!! Pos class completely filtered out\n"
     ]
    },
    {
     "name": "stderr",
     "output_type": "stream",
     "text": [
      "/home/shihab/anaconda3/envs/ana/lib/python3.7/site-packages/sklearn/metrics/_classification.py:896: RuntimeWarning: invalid value encountered in double_scalars\n",
      "  mcc = cov_ytyp / np.sqrt(cov_ytyt * cov_ypyp)\n"
     ]
    },
    {
     "name": "stdout",
     "output_type": "stream",
     "text": [
      "ERROR!!! Pos class completely filtered out\n",
      "ERROR!!! Pos class completely filtered out\n"
     ]
    },
    {
     "name": "stderr",
     "output_type": "stream",
     "text": [
      "/home/shihab/anaconda3/envs/ana/lib/python3.7/site-packages/sklearn/metrics/_classification.py:896: RuntimeWarning: invalid value encountered in double_scalars\n",
      "  mcc = cov_ytyp / np.sqrt(cov_ytyt * cov_ypyp)\n"
     ]
    },
    {
     "name": "stdout",
     "output_type": "stream",
     "text": [
      "ERROR!!! Pos class completely filtered out\n",
      "ERROR!!! Pos class completely filtered out\n",
      "ERROR!!! Pos class completely filtered out\n",
      "ERROR!!! Pos class completely filtered out\n",
      "ERROR!!! Pos class completely filtered out\n",
      "ERROR!!! Pos class completely filtered out\n",
      "ERROR!!! Pos class completely filtered out\n",
      "ERROR!!! Pos class completely filtered out\n",
      "ERROR!!! Pos class completely filtered out\n",
      "ERROR!!! Pos class completely filtered out\n",
      "ERROR!!! Pos class completely filtered out\n",
      "ERROR!!! Pos class completely filtered out\n",
      "ERROR!!! Pos class completely filtered out\n",
      "ERROR!!! Pos class completely filtered out\n",
      "3.76 [0.137, 0.587]\n",
      "('tomek', 'svm')\n",
      "ERROR!!! Pos class completely filtered out\n"
     ]
    },
    {
     "name": "stderr",
     "output_type": "stream",
     "text": [
      "/home/shihab/anaconda3/envs/ana/lib/python3.7/site-packages/sklearn/metrics/_classification.py:896: RuntimeWarning: invalid value encountered in double_scalars\n",
      "  mcc = cov_ytyp / np.sqrt(cov_ytyt * cov_ypyp)\n"
     ]
    },
    {
     "name": "stdout",
     "output_type": "stream",
     "text": [
      "ERROR!!! Pos class completely filtered out\n",
      "ERROR!!! Pos class completely filtered out\n"
     ]
    },
    {
     "name": "stderr",
     "output_type": "stream",
     "text": [
      "/home/shihab/anaconda3/envs/ana/lib/python3.7/site-packages/sklearn/metrics/_classification.py:896: RuntimeWarning: invalid value encountered in double_scalars\n",
      "  mcc = cov_ytyp / np.sqrt(cov_ytyt * cov_ypyp)\n"
     ]
    },
    {
     "name": "stdout",
     "output_type": "stream",
     "text": [
      "ERROR!!! Pos class completely filtered out\n",
      "ERROR!!! Pos class completely filtered out\n",
      "ERROR!!! Pos class completely filtered out\n",
      "ERROR!!! Pos class completely filtered out\n",
      "ERROR!!! Pos class completely filtered out\n",
      "ERROR!!! Pos class completely filtered out\n",
      "ERROR!!! Pos class completely filtered out\n",
      "ERROR!!! Pos class completely filtered out\n"
     ]
    },
    {
     "name": "stderr",
     "output_type": "stream",
     "text": [
      "/home/shihab/anaconda3/envs/ana/lib/python3.7/site-packages/sklearn/metrics/_classification.py:896: RuntimeWarning: invalid value encountered in double_scalars\n",
      "  mcc = cov_ytyp / np.sqrt(cov_ytyt * cov_ypyp)\n"
     ]
    },
    {
     "name": "stdout",
     "output_type": "stream",
     "text": [
      "ERROR!!! Pos class completely filtered out\n",
      "ERROR!!! Pos class completely filtered out\n",
      "ERROR!!! Pos class completely filtered out\n",
      "ERROR!!! Pos class completely filtered out\n"
     ]
    },
    {
     "name": "stderr",
     "output_type": "stream",
     "text": [
      "/home/shihab/anaconda3/envs/ana/lib/python3.7/site-packages/sklearn/metrics/_classification.py:896: RuntimeWarning: invalid value encountered in double_scalars\n",
      "  mcc = cov_ytyp / np.sqrt(cov_ytyt * cov_ypyp)\n"
     ]
    },
    {
     "name": "stdout",
     "output_type": "stream",
     "text": [
      "ERROR!!! Pos class completely filtered out\n"
     ]
    },
    {
     "name": "stderr",
     "output_type": "stream",
     "text": [
      "/home/shihab/anaconda3/envs/ana/lib/python3.7/site-packages/sklearn/metrics/_classification.py:896: RuntimeWarning: invalid value encountered in double_scalars\n",
      "  mcc = cov_ytyp / np.sqrt(cov_ytyt * cov_ypyp)\n"
     ]
    },
    {
     "name": "stdout",
     "output_type": "stream",
     "text": [
      "ERROR!!! Pos class completely filtered out\n",
      "ERROR!!! Pos class completely filtered out\n",
      "ERROR!!! Pos class completely filtered out\n",
      "3.88 [0.018, 0.461]\n",
      "('tomek', 'knn')\n",
      "ERROR!!! Pos class completely filtered out\n",
      "ERROR!!! Pos class completely filtered out\n",
      "ERROR!!! Pos class completely filtered out\n",
      "ERROR!!! Pos class completely filtered out\n",
      "ERROR!!! Pos class completely filtered out\n",
      "ERROR!!! Pos class completely filtered out\n",
      "ERROR!!! Pos class completely filtered out\n",
      "ERROR!!! Pos class completely filtered out\n",
      "ERROR!!! Pos class completely filtered out\n",
      "ERROR!!! Pos class completely filtered out\n"
     ]
    },
    {
     "name": "stderr",
     "output_type": "stream",
     "text": [
      "/home/shihab/anaconda3/envs/ana/lib/python3.7/site-packages/sklearn/metrics/_classification.py:896: RuntimeWarning: invalid value encountered in double_scalars\n",
      "  mcc = cov_ytyp / np.sqrt(cov_ytyt * cov_ypyp)\n"
     ]
    },
    {
     "name": "stdout",
     "output_type": "stream",
     "text": [
      "ERROR!!! Pos class completely filtered out\n",
      "ERROR!!! Pos class completely filtered out\n"
     ]
    },
    {
     "name": "stderr",
     "output_type": "stream",
     "text": [
      "/home/shihab/anaconda3/envs/ana/lib/python3.7/site-packages/sklearn/metrics/_classification.py:896: RuntimeWarning: invalid value encountered in double_scalars\n",
      "  mcc = cov_ytyp / np.sqrt(cov_ytyt * cov_ypyp)\n",
      "/home/shihab/anaconda3/envs/ana/lib/python3.7/site-packages/sklearn/metrics/_classification.py:896: RuntimeWarning: invalid value encountered in double_scalars\n",
      "  mcc = cov_ytyp / np.sqrt(cov_ytyt * cov_ypyp)\n"
     ]
    },
    {
     "name": "stdout",
     "output_type": "stream",
     "text": [
      "ERROR!!! Pos class completely filtered out\n",
      "ERROR!!! Pos class completely filtered out\n"
     ]
    },
    {
     "name": "stderr",
     "output_type": "stream",
     "text": [
      "/home/shihab/anaconda3/envs/ana/lib/python3.7/site-packages/sklearn/metrics/_classification.py:896: RuntimeWarning: invalid value encountered in double_scalars\n",
      "  mcc = cov_ytyp / np.sqrt(cov_ytyt * cov_ypyp)\n",
      "/home/shihab/anaconda3/envs/ana/lib/python3.7/site-packages/sklearn/metrics/_classification.py:896: RuntimeWarning: invalid value encountered in double_scalars\n",
      "  mcc = cov_ytyp / np.sqrt(cov_ytyt * cov_ypyp)\n",
      "/home/shihab/anaconda3/envs/ana/lib/python3.7/site-packages/sklearn/metrics/_classification.py:896: RuntimeWarning: invalid value encountered in double_scalars\n",
      "  mcc = cov_ytyp / np.sqrt(cov_ytyt * cov_ypyp)\n"
     ]
    },
    {
     "name": "stdout",
     "output_type": "stream",
     "text": [
      "ERROR!!! Pos class completely filtered out\n"
     ]
    },
    {
     "name": "stderr",
     "output_type": "stream",
     "text": [
      "/home/shihab/anaconda3/envs/ana/lib/python3.7/site-packages/sklearn/metrics/_classification.py:896: RuntimeWarning: invalid value encountered in double_scalars\n",
      "  mcc = cov_ytyp / np.sqrt(cov_ytyt * cov_ypyp)\n"
     ]
    },
    {
     "name": "stdout",
     "output_type": "stream",
     "text": [
      "ERROR!!! Pos class completely filtered out\n",
      "ERROR!!! Pos class completely filtered out\n",
      "ERROR!!! Pos class completely filtered out\n",
      "4.09 [0.0, 0.637]\n",
      "('tomek', 'rf')\n",
      "ERROR!!! Pos class completely filtered out\n",
      "ERROR!!! Pos class completely filtered out\n",
      "ERROR!!! Pos class completely filtered out\n",
      "ERROR!!! Pos class completely filtered out\n"
     ]
    },
    {
     "name": "stderr",
     "output_type": "stream",
     "text": [
      "/home/shihab/anaconda3/envs/ana/lib/python3.7/site-packages/sklearn/metrics/_classification.py:896: RuntimeWarning: invalid value encountered in double_scalars\n",
      "  mcc = cov_ytyp / np.sqrt(cov_ytyt * cov_ypyp)\n"
     ]
    },
    {
     "name": "stdout",
     "output_type": "stream",
     "text": [
      "ERROR!!! Pos class completely filtered out\n",
      "ERROR!!! Pos class completely filtered out\n",
      "ERROR!!! Pos class completely filtered out\n",
      "ERROR!!! Pos class completely filtered out\n",
      "ERROR!!! Pos class completely filtered out\n",
      "ERROR!!! Pos class completely filtered out\n",
      "ERROR!!! Pos class completely filtered out\n",
      "ERROR!!! Pos class completely filtered out\n",
      "ERROR!!! Pos class completely filtered out\n",
      "ERROR!!! Pos class completely filtered out\n",
      "ERROR!!! Pos class completely filtered out\n",
      "ERROR!!! Pos class completely filtered out\n",
      "ERROR!!! Pos class completely filtered out\n",
      "ERROR!!! Pos class completely filtered out\n",
      "ERROR!!! Pos class completely filtered out\n",
      "ERROR!!! Pos class completely filtered out\n",
      "3.97 [0.11, 0.617]\n",
      "('None', 'dt')\n",
      "ERROR!!! Pos class completely filtered out\n",
      "ERROR!!! Pos class completely filtered out\n",
      "ERROR!!! Pos class completely filtered out\n",
      "ERROR!!! Pos class completely filtered out\n",
      "ERROR!!! Pos class completely filtered out\n",
      "ERROR!!! Pos class completely filtered out\n"
     ]
    },
    {
     "name": "stderr",
     "output_type": "stream",
     "text": [
      "/home/shihab/anaconda3/envs/ana/lib/python3.7/site-packages/sklearn/metrics/_classification.py:896: RuntimeWarning: invalid value encountered in double_scalars\n",
      "  mcc = cov_ytyp / np.sqrt(cov_ytyt * cov_ypyp)\n"
     ]
    },
    {
     "name": "stdout",
     "output_type": "stream",
     "text": [
      "ERROR!!! Pos class completely filtered out\n",
      "ERROR!!! Pos class completely filtered out\n",
      "ERROR!!! Pos class completely filtered out\n",
      "ERROR!!! Pos class completely filtered out\n",
      "ERROR!!! Pos class completely filtered out\n",
      "ERROR!!! Pos class completely filtered out\n",
      "ERROR!!! Pos class completely filtered out\n",
      "ERROR!!! Pos class completely filtered out\n",
      "ERROR!!! Pos class completely filtered out\n",
      "ERROR!!! Pos class completely filtered out\n",
      "ERROR!!! Pos class completely filtered out\n",
      "ERROR!!! Pos class completely filtered out\n",
      "ERROR!!! Pos class completely filtered out\n",
      "0.6 [0.098, 0.659]\n",
      "('None', 'lr')\n",
      "ERROR!!! Pos class completely filtered out\n",
      "ERROR!!! Pos class completely filtered out\n",
      "ERROR!!! Pos class completely filtered out\n",
      "ERROR!!! Pos class completely filtered out\n",
      "ERROR!!! Pos class completely filtered out\n",
      "ERROR!!! Pos class completely filtered out\n",
      "ERROR!!! Pos class completely filtered out\n",
      "ERROR!!! Pos class completely filtered out\n"
     ]
    },
    {
     "name": "stderr",
     "output_type": "stream",
     "text": [
      "/home/shihab/anaconda3/envs/ana/lib/python3.7/site-packages/sklearn/metrics/_classification.py:896: RuntimeWarning: invalid value encountered in double_scalars\n",
      "  mcc = cov_ytyp / np.sqrt(cov_ytyt * cov_ypyp)\n"
     ]
    },
    {
     "name": "stdout",
     "output_type": "stream",
     "text": [
      "ERROR!!! Pos class completely filtered out\n",
      "ERROR!!! Pos class completely filtered out\n",
      "ERROR!!! Pos class completely filtered out\n",
      "ERROR!!! Pos class completely filtered out\n",
      "ERROR!!! Pos class completely filtered out\n",
      "ERROR!!! Pos class completely filtered out\n",
      "ERROR!!! Pos class completely filtered out\n",
      "ERROR!!! Pos class completely filtered out\n"
     ]
    },
    {
     "name": "stderr",
     "output_type": "stream",
     "text": [
      "/home/shihab/anaconda3/envs/ana/lib/python3.7/site-packages/sklearn/metrics/_classification.py:896: RuntimeWarning: invalid value encountered in double_scalars\n",
      "  mcc = cov_ytyp / np.sqrt(cov_ytyt * cov_ypyp)\n",
      "/home/shihab/anaconda3/envs/ana/lib/python3.7/site-packages/sklearn/metrics/_classification.py:896: RuntimeWarning: invalid value encountered in double_scalars\n",
      "  mcc = cov_ytyp / np.sqrt(cov_ytyt * cov_ypyp)\n"
     ]
    },
    {
     "name": "stdout",
     "output_type": "stream",
     "text": [
      "ERROR!!! Pos class completely filtered out\n",
      "ERROR!!! Pos class completely filtered out\n",
      "ERROR!!! Pos class completely filtered out\n",
      "ERROR!!! Pos class completely filtered out\n",
      "ERROR!!! Pos class completely filtered out\n",
      "0.71 [0.018, 0.682]\n",
      "('None', 'nb')\n",
      "ERROR!!! Pos class completely filtered out\n",
      "ERROR!!! Pos class completely filtered out\n",
      "ERROR!!! Pos class completely filtered out\n",
      "ERROR!!! Pos class completely filtered out\n",
      "ERROR!!! Pos class completely filtered out\n",
      "ERROR!!! Pos class completely filtered out\n",
      "ERROR!!! Pos class completely filtered out\n"
     ]
    },
    {
     "name": "stderr",
     "output_type": "stream",
     "text": [
      "/home/shihab/anaconda3/envs/ana/lib/python3.7/site-packages/sklearn/metrics/_classification.py:896: RuntimeWarning: invalid value encountered in double_scalars\n",
      "  mcc = cov_ytyp / np.sqrt(cov_ytyt * cov_ypyp)\n"
     ]
    },
    {
     "name": "stdout",
     "output_type": "stream",
     "text": [
      "ERROR!!! Pos class completely filtered out\n",
      "ERROR!!! Pos class completely filtered out\n",
      "ERROR!!! Pos class completely filtered out\n",
      "ERROR!!! Pos class completely filtered out\n",
      "ERROR!!! Pos class completely filtered out\n",
      "ERROR!!! Pos class completely filtered out\n",
      "ERROR!!! Pos class completely filtered out\n",
      "ERROR!!! Pos class completely filtered out\n",
      "ERROR!!! Pos class completely filtered out\n",
      "ERROR!!! Pos class completely filtered out\n",
      "ERROR!!! Pos class completely filtered out\n",
      "ERROR!!! Pos class completely filtered out\n",
      "ERROR!!! Pos class completely filtered out\n",
      "ERROR!!! Pos class completely filtered out\n",
      "ERROR!!! Pos class completely filtered out\n",
      "ERROR!!! Pos class completely filtered out\n",
      "0.51 [0.202, 0.674]\n",
      "('None', 'svm')\n",
      "ERROR!!! Pos class completely filtered out\n",
      "ERROR!!! Pos class completely filtered out\n",
      "ERROR!!! Pos class completely filtered out\n",
      "ERROR!!! Pos class completely filtered out\n",
      "ERROR!!! Pos class completely filtered out\n",
      "ERROR!!! Pos class completely filtered out\n",
      "ERROR!!! Pos class completely filtered out\n",
      "ERROR!!! Pos class completely filtered out\n",
      "ERROR!!! Pos class completely filtered out\n",
      "ERROR!!! Pos class completely filtered out\n"
     ]
    },
    {
     "name": "stderr",
     "output_type": "stream",
     "text": [
      "/home/shihab/anaconda3/envs/ana/lib/python3.7/site-packages/sklearn/metrics/_classification.py:896: RuntimeWarning: invalid value encountered in double_scalars\n",
      "  mcc = cov_ytyp / np.sqrt(cov_ytyt * cov_ypyp)\n"
     ]
    },
    {
     "name": "stdout",
     "output_type": "stream",
     "text": [
      "ERROR!!! Pos class completely filtered out\n",
      "ERROR!!! Pos class completely filtered out\n",
      "ERROR!!! Pos class completely filtered out\n",
      "ERROR!!! Pos class completely filtered out\n",
      "ERROR!!! Pos class completely filtered out\n",
      "ERROR!!! Pos class completely filtered out\n",
      "ERROR!!! Pos class completely filtered out\n",
      "ERROR!!! Pos class completely filtered out\n",
      "ERROR!!! Pos class completely filtered out\n",
      "ERROR!!! Pos class completely filtered out\n",
      "ERROR!!! Pos class completely filtered out\n",
      "ERROR!!! Pos class completely filtered out\n",
      "0.69 [0.073, 0.418]\n",
      "('None', 'knn')\n"
     ]
    },
    {
     "name": "stderr",
     "output_type": "stream",
     "text": [
      "/home/shihab/anaconda3/envs/ana/lib/python3.7/site-packages/sklearn/metrics/_classification.py:896: RuntimeWarning: invalid value encountered in double_scalars\n",
      "  mcc = cov_ytyp / np.sqrt(cov_ytyt * cov_ypyp)\n"
     ]
    },
    {
     "name": "stdout",
     "output_type": "stream",
     "text": [
      "ERROR!!! Pos class completely filtered out\n",
      "ERROR!!! Pos class completely filtered out\n",
      "ERROR!!! Pos class completely filtered out\n",
      "ERROR!!! Pos class completely filtered out\n",
      "ERROR!!! Pos class completely filtered out\n",
      "ERROR!!! Pos class completely filtered out\n",
      "ERROR!!! Pos class completely filtered out\n",
      "ERROR!!! Pos class completely filtered out\n",
      "ERROR!!! Pos class completely filtered out\n",
      "ERROR!!! Pos class completely filtered out\n",
      "ERROR!!! Pos class completely filtered out\n",
      "ERROR!!! Pos class completely filtered out\n",
      "ERROR!!! Pos class completely filtered out\n",
      "ERROR!!! Pos class completely filtered out\n",
      "ERROR!!! Pos class completely filtered out\n",
      "ERROR!!! Pos class completely filtered out\n",
      "ERROR!!! Pos class completely filtered out\n",
      "ERROR!!! Pos class completely filtered out\n",
      "ERROR!!! Pos class completely filtered out\n",
      "ERROR!!! Pos class completely filtered out\n",
      "ERROR!!! Pos class completely filtered out\n",
      "ERROR!!! Pos class completely filtered out\n",
      "ERROR!!! Pos class completely filtered out\n",
      "0.61 [0.0, 0.652]\n",
      "('None', 'rf')\n",
      "ERROR!!! Pos class completely filtered out\n",
      "ERROR!!! Pos class completely filtered out\n",
      "ERROR!!! Pos class completely filtered out\n",
      "ERROR!!! Pos class completely filtered out\n"
     ]
    },
    {
     "name": "stderr",
     "output_type": "stream",
     "text": [
      "/home/shihab/anaconda3/envs/ana/lib/python3.7/site-packages/sklearn/metrics/_classification.py:896: RuntimeWarning: invalid value encountered in double_scalars\n",
      "  mcc = cov_ytyp / np.sqrt(cov_ytyt * cov_ypyp)\n"
     ]
    },
    {
     "name": "stdout",
     "output_type": "stream",
     "text": [
      "ERROR!!! Pos class completely filtered out\n",
      "ERROR!!! Pos class completely filtered out\n",
      "ERROR!!! Pos class completely filtered out\n",
      "ERROR!!! Pos class completely filtered out\n",
      "ERROR!!! Pos class completely filtered out\n",
      "ERROR!!! Pos class completely filtered out\n",
      "ERROR!!! Pos class completely filtered out\n",
      "ERROR!!! Pos class completely filtered out\n",
      "ERROR!!! Pos class completely filtered out\n",
      "ERROR!!! Pos class completely filtered out\n",
      "ERROR!!! Pos class completely filtered out\n",
      "ERROR!!! Pos class completely filtered out\n",
      "ERROR!!! Pos class completely filtered out\n",
      "ERROR!!! Pos class completely filtered out\n",
      "ERROR!!! Pos class completely filtered out\n",
      "ERROR!!! Pos class completely filtered out\n",
      "ERROR!!! Pos class completely filtered out\n",
      "ERROR!!! Pos class completely filtered out\n",
      "ERROR!!! Pos class completely filtered out\n",
      "ERROR!!! Pos class completely filtered out\n",
      "0.65 [0.073, 0.684]\n",
      "('ens', 'rboost_DT')\n",
      "2.03 [0.358, 0.624]\n",
      "('ens', 'rboost_NB')\n",
      "1.49 [0.396, 0.643]\n",
      "('ens', 'bbag_DT')\n",
      "25.46 [0.401, 0.655]\n",
      "('ens', 'bbag_NB')\n",
      "25.88 [0.403, 0.65]\n",
      "\n",
      "lucene-2.9.0.csv noise:0.226, imb:3.921,278,1090, Shape:(1368, 65)\n",
      "('smote', 'dt')\n",
      "1.53 [0.281, 0.506]\n",
      "('smote', 'lr')\n",
      "3.66 [0.366, 0.477]\n",
      "('smote', 'nb')\n",
      "1.42 [0.337, 0.484]\n",
      "('smote', 'svm')\n",
      "8.71 [0.357, 0.445]\n",
      "('smote', 'knn')\n",
      "1.93 [0.332, 0.536]\n",
      "('smote', 'rf')\n",
      "4.62 [0.284, 0.415]\n",
      "('rus', 'dt')\n",
      "0.56 [0.318, 0.55]\n",
      "('rus', 'lr')\n",
      "1.31 [0.361, 0.48]\n",
      "('rus', 'nb')\n",
      "0.59 [0.327, 0.505]\n",
      "('rus', 'svm')\n",
      "1.14 [0.339, 0.436]\n",
      "('rus', 'knn')\n",
      "0.74 [0.311, 0.504]\n",
      "('rus', 'rf')\n",
      "2.12 [0.335, 0.447]\n",
      "('wilson', 'dt')\n",
      "2.07 [0.299, 0.507]\n",
      "('wilson', 'lr')\n",
      "3.16 [0.352, 0.476]\n",
      "('wilson', 'nb')\n",
      "2.18 [0.338, 0.514]\n",
      "('wilson', 'svm')\n",
      "3.15 [0.332, 0.435]\n",
      "('wilson', 'knn')\n",
      "2.3 [0.308, 0.471]\n",
      "('wilson', 'rf')\n",
      "3.74 [0.328, 0.43]\n",
      "('tomek', 'dt')\n",
      "2.03 [0.229, 0.433]\n",
      "('tomek', 'lr')\n",
      "3.55 [0.245, 0.418]\n",
      "('tomek', 'nb')\n",
      "2.07 [0.306, 0.457]\n",
      "('tomek', 'svm')\n",
      "4.22 [0.239, 0.397]\n",
      "('tomek', 'knn')\n",
      "2.28 [0.208, 0.375]\n",
      "('tomek', 'rf')\n",
      "3.77 [0.229, 0.392]\n",
      "('None', 'dt')\n",
      "0.59 [0.218, 0.423]\n",
      "('None', 'lr')\n",
      "1.8 [0.237, 0.412]\n",
      "('None', 'nb')\n",
      "0.59 [0.311, 0.463]\n",
      "('None', 'svm')\n",
      "2.85 [0.231, 0.394]\n",
      "('None', 'knn')\n",
      "0.93 [0.192, 0.371]\n",
      "('None', 'rf')\n",
      "2.49 [0.212, 0.39]\n",
      "('ens', 'rboost_DT')\n",
      "2.08 [0.328, 0.514]\n",
      "('ens', 'rboost_NB')\n",
      "1.73 [0.334, 0.548]\n",
      "('ens', 'bbag_DT')\n",
      "26.42 [0.369, 0.437]\n",
      "('ens', 'bbag_NB')\n",
      "25.88 [0.325, 0.453]\n",
      "\n",
      "hbase-0.94.0.csv noise:0.207, imb:14.348,69,990, Shape:(1059, 65)\n",
      "('smote', 'dt')\n",
      "1.33 [0.398, 0.571]\n",
      "('smote', 'lr')\n",
      "2.68 [0.41, 0.557]\n",
      "('smote', 'nb')\n",
      "1.2 [0.414, 0.564]\n",
      "('smote', 'svm')\n",
      "6.45 [0.41, 0.565]\n",
      "('smote', 'knn')\n",
      "1.71 [0.403, 0.555]\n",
      "('smote', 'rf')\n",
      "4.01 [0.411, 0.547]\n",
      "('rus', 'dt')\n",
      "0.45 [0.312, 0.533]\n",
      "('rus', 'lr')\n",
      "0.71 [0.388, 0.516]\n",
      "('rus', 'nb')\n",
      "0.45 [0.376, 0.563]\n",
      "('rus', 'svm')\n",
      "0.5 [0.37, 0.514]\n",
      "('rus', 'knn')\n",
      "0.54 [0.378, 0.557]\n",
      "('rus', 'rf')\n",
      "1.61 [0.367, 0.526]\n",
      "('wilson', 'dt')\n",
      "ERROR!!! Pos class completely filtered out\n",
      "1.45 [0.281, 0.555]\n",
      "('wilson', 'lr')\n",
      "1.92 [0.287, 0.548]\n",
      "('wilson', 'nb')\n",
      "1.44 [0.345, 0.545]\n",
      "('wilson', 'svm')\n",
      "1.82 [0.287, 0.448]\n",
      "('wilson', 'knn')\n"
     ]
    },
    {
     "name": "stderr",
     "output_type": "stream",
     "text": [
      "/home/shihab/anaconda3/envs/ana/lib/python3.7/site-packages/sklearn/metrics/_classification.py:896: RuntimeWarning: invalid value encountered in double_scalars\n",
      "  mcc = cov_ytyp / np.sqrt(cov_ytyt * cov_ypyp)\n"
     ]
    },
    {
     "name": "stdout",
     "output_type": "stream",
     "text": [
      "1.69 [0.259, 0.523]\n",
      "('wilson', 'rf')\n"
     ]
    },
    {
     "name": "stderr",
     "output_type": "stream",
     "text": [
      "/home/shihab/anaconda3/envs/ana/lib/python3.7/site-packages/sklearn/metrics/_classification.py:896: RuntimeWarning: invalid value encountered in double_scalars\n",
      "  mcc = cov_ytyp / np.sqrt(cov_ytyt * cov_ypyp)\n"
     ]
    },
    {
     "name": "stdout",
     "output_type": "stream",
     "text": [
      "2.85 [0.269, 0.508]\n",
      "('tomek', 'dt')\n",
      "ERROR!!! Pos class completely filtered out\n",
      "ERROR!!! Pos class completely filtered out\n"
     ]
    },
    {
     "name": "stderr",
     "output_type": "stream",
     "text": [
      "/home/shihab/anaconda3/envs/ana/lib/python3.7/site-packages/sklearn/metrics/_classification.py:896: RuntimeWarning: invalid value encountered in double_scalars\n",
      "  mcc = cov_ytyp / np.sqrt(cov_ytyt * cov_ypyp)\n"
     ]
    },
    {
     "name": "stdout",
     "output_type": "stream",
     "text": [
      "ERROR!!! Pos class completely filtered out\n",
      "ERROR!!! Pos class completely filtered out\n",
      "1.35 [0.181, 0.58]\n",
      "('tomek', 'lr')\n",
      "ERROR!!! Pos class completely filtered out\n"
     ]
    },
    {
     "name": "stderr",
     "output_type": "stream",
     "text": [
      "/home/shihab/anaconda3/envs/ana/lib/python3.7/site-packages/sklearn/metrics/_classification.py:896: RuntimeWarning: invalid value encountered in double_scalars\n",
      "  mcc = cov_ytyp / np.sqrt(cov_ytyt * cov_ypyp)\n",
      "/home/shihab/anaconda3/envs/ana/lib/python3.7/site-packages/sklearn/metrics/_classification.py:896: RuntimeWarning: invalid value encountered in double_scalars\n",
      "  mcc = cov_ytyp / np.sqrt(cov_ytyt * cov_ypyp)\n",
      "/home/shihab/anaconda3/envs/ana/lib/python3.7/site-packages/sklearn/metrics/_classification.py:896: RuntimeWarning: invalid value encountered in double_scalars\n",
      "  mcc = cov_ytyp / np.sqrt(cov_ytyt * cov_ypyp)\n"
     ]
    },
    {
     "name": "stdout",
     "output_type": "stream",
     "text": [
      "ERROR!!! Pos class completely filtered out\n"
     ]
    },
    {
     "name": "stderr",
     "output_type": "stream",
     "text": [
      "/home/shihab/anaconda3/envs/ana/lib/python3.7/site-packages/sklearn/metrics/_classification.py:896: RuntimeWarning: invalid value encountered in double_scalars\n",
      "  mcc = cov_ytyp / np.sqrt(cov_ytyt * cov_ypyp)\n"
     ]
    },
    {
     "name": "stdout",
     "output_type": "stream",
     "text": [
      "ERROR!!! Pos class completely filtered out\n",
      "ERROR!!! Pos class completely filtered out\n",
      "ERROR!!! Pos class completely filtered out\n",
      "2.03 [0.142, 0.569]\n",
      "('tomek', 'nb')\n",
      "ERROR!!! Pos class completely filtered out\n",
      "ERROR!!! Pos class completely filtered out\n",
      "ERROR!!! Pos class completely filtered out\n",
      "1.34 [0.277, 0.538]\n",
      "('tomek', 'svm')\n"
     ]
    },
    {
     "name": "stderr",
     "output_type": "stream",
     "text": [
      "/home/shihab/anaconda3/envs/ana/lib/python3.7/site-packages/sklearn/metrics/_classification.py:896: RuntimeWarning: invalid value encountered in double_scalars\n",
      "  mcc = cov_ytyp / np.sqrt(cov_ytyt * cov_ypyp)\n"
     ]
    },
    {
     "name": "stdout",
     "output_type": "stream",
     "text": [
      "ERROR!!! Pos class completely filtered out\n",
      "ERROR!!! Pos class completely filtered out\n"
     ]
    },
    {
     "name": "stderr",
     "output_type": "stream",
     "text": [
      "/home/shihab/anaconda3/envs/ana/lib/python3.7/site-packages/sklearn/metrics/_classification.py:896: RuntimeWarning: invalid value encountered in double_scalars\n",
      "  mcc = cov_ytyp / np.sqrt(cov_ytyt * cov_ypyp)\n"
     ]
    },
    {
     "name": "stdout",
     "output_type": "stream",
     "text": [
      "ERROR!!! Pos class completely filtered out\n"
     ]
    },
    {
     "name": "stderr",
     "output_type": "stream",
     "text": [
      "/home/shihab/anaconda3/envs/ana/lib/python3.7/site-packages/sklearn/metrics/_classification.py:896: RuntimeWarning: invalid value encountered in double_scalars\n",
      "  mcc = cov_ytyp / np.sqrt(cov_ytyt * cov_ypyp)\n"
     ]
    },
    {
     "name": "stdout",
     "output_type": "stream",
     "text": [
      "ERROR!!! Pos class completely filtered out\n",
      "ERROR!!! Pos class completely filtered out\n",
      "ERROR!!! Pos class completely filtered out\n",
      "ERROR!!! Pos class completely filtered out\n",
      "1.54 [0.201, 0.331]\n",
      "('tomek', 'knn')\n",
      "ERROR!!! Pos class completely filtered out\n",
      "ERROR!!! Pos class completely filtered out\n",
      "ERROR!!! Pos class completely filtered out\n"
     ]
    },
    {
     "name": "stderr",
     "output_type": "stream",
     "text": [
      "/home/shihab/anaconda3/envs/ana/lib/python3.7/site-packages/sklearn/metrics/_classification.py:896: RuntimeWarning: invalid value encountered in double_scalars\n",
      "  mcc = cov_ytyp / np.sqrt(cov_ytyt * cov_ypyp)\n"
     ]
    },
    {
     "name": "stdout",
     "output_type": "stream",
     "text": [
      "ERROR!!! Pos class completely filtered out\n"
     ]
    },
    {
     "name": "stderr",
     "output_type": "stream",
     "text": [
      "/home/shihab/anaconda3/envs/ana/lib/python3.7/site-packages/sklearn/metrics/_classification.py:896: RuntimeWarning: invalid value encountered in double_scalars\n",
      "  mcc = cov_ytyp / np.sqrt(cov_ytyt * cov_ypyp)\n"
     ]
    },
    {
     "name": "stdout",
     "output_type": "stream",
     "text": [
      "ERROR!!! Pos class completely filtered out\n",
      "1.52 [0.162, 0.529]\n",
      "('tomek', 'rf')\n",
      "ERROR!!! Pos class completely filtered out\n"
     ]
    },
    {
     "name": "stderr",
     "output_type": "stream",
     "text": [
      "/home/shihab/anaconda3/envs/ana/lib/python3.7/site-packages/sklearn/metrics/_classification.py:896: RuntimeWarning: invalid value encountered in double_scalars\n",
      "  mcc = cov_ytyp / np.sqrt(cov_ytyt * cov_ypyp)\n",
      "/home/shihab/anaconda3/envs/ana/lib/python3.7/site-packages/sklearn/metrics/_classification.py:896: RuntimeWarning: invalid value encountered in double_scalars\n",
      "  mcc = cov_ytyp / np.sqrt(cov_ytyt * cov_ypyp)\n"
     ]
    },
    {
     "name": "stdout",
     "output_type": "stream",
     "text": [
      "ERROR!!! Pos class completely filtered out\n"
     ]
    },
    {
     "name": "stderr",
     "output_type": "stream",
     "text": [
      "/home/shihab/anaconda3/envs/ana/lib/python3.7/site-packages/sklearn/metrics/_classification.py:896: RuntimeWarning: invalid value encountered in double_scalars\n",
      "  mcc = cov_ytyp / np.sqrt(cov_ytyt * cov_ypyp)\n"
     ]
    },
    {
     "name": "stdout",
     "output_type": "stream",
     "text": [
      "2.65 [0.17, 0.472]\n",
      "('None', 'dt')\n",
      "ERROR!!! Pos class completely filtered out\n"
     ]
    },
    {
     "name": "stderr",
     "output_type": "stream",
     "text": [
      "/home/shihab/anaconda3/envs/ana/lib/python3.7/site-packages/sklearn/metrics/_classification.py:896: RuntimeWarning: invalid value encountered in double_scalars\n",
      "  mcc = cov_ytyp / np.sqrt(cov_ytyt * cov_ypyp)\n"
     ]
    },
    {
     "name": "stdout",
     "output_type": "stream",
     "text": [
      "ERROR!!! Pos class completely filtered out\n",
      "ERROR!!! Pos class completely filtered out\n",
      "ERROR!!! Pos class completely filtered out\n",
      "0.49 [0.186, 0.579]\n",
      "('None', 'lr')\n",
      "ERROR!!! Pos class completely filtered out\n"
     ]
    },
    {
     "name": "stderr",
     "output_type": "stream",
     "text": [
      "/home/shihab/anaconda3/envs/ana/lib/python3.7/site-packages/sklearn/metrics/_classification.py:896: RuntimeWarning: invalid value encountered in double_scalars\n",
      "  mcc = cov_ytyp / np.sqrt(cov_ytyt * cov_ypyp)\n",
      "/home/shihab/anaconda3/envs/ana/lib/python3.7/site-packages/sklearn/metrics/_classification.py:896: RuntimeWarning: invalid value encountered in double_scalars\n",
      "  mcc = cov_ytyp / np.sqrt(cov_ytyt * cov_ypyp)\n"
     ]
    },
    {
     "name": "stdout",
     "output_type": "stream",
     "text": [
      "ERROR!!! Pos class completely filtered out\n"
     ]
    },
    {
     "name": "stderr",
     "output_type": "stream",
     "text": [
      "/home/shihab/anaconda3/envs/ana/lib/python3.7/site-packages/sklearn/metrics/_classification.py:896: RuntimeWarning: invalid value encountered in double_scalars\n",
      "  mcc = cov_ytyp / np.sqrt(cov_ytyt * cov_ypyp)\n",
      "/home/shihab/anaconda3/envs/ana/lib/python3.7/site-packages/sklearn/metrics/_classification.py:896: RuntimeWarning: invalid value encountered in double_scalars\n",
      "  mcc = cov_ytyp / np.sqrt(cov_ytyt * cov_ypyp)\n"
     ]
    },
    {
     "name": "stdout",
     "output_type": "stream",
     "text": [
      "ERROR!!! Pos class completely filtered out\n",
      "0.85 [0.138, 0.546]\n",
      "('None', 'nb')\n",
      "ERROR!!! Pos class completely filtered out\n",
      "ERROR!!! Pos class completely filtered out\n",
      "ERROR!!! Pos class completely filtered out\n",
      "ERROR!!! Pos class completely filtered out\n",
      "ERROR!!! Pos class completely filtered out\n",
      "0.45 [0.274, 0.526]\n",
      "('None', 'svm')\n",
      "ERROR!!! Pos class completely filtered out\n",
      "ERROR!!! Pos class completely filtered out\n",
      "ERROR!!! Pos class completely filtered out\n"
     ]
    },
    {
     "name": "stderr",
     "output_type": "stream",
     "text": [
      "/home/shihab/anaconda3/envs/ana/lib/python3.7/site-packages/sklearn/metrics/_classification.py:896: RuntimeWarning: invalid value encountered in double_scalars\n",
      "  mcc = cov_ytyp / np.sqrt(cov_ytyt * cov_ypyp)\n"
     ]
    },
    {
     "name": "stdout",
     "output_type": "stream",
     "text": [
      "ERROR!!! Pos class completely filtered out\n",
      "ERROR!!! Pos class completely filtered out\n",
      "0.65 [0.194, 0.308]\n",
      "('None', 'knn')\n",
      "ERROR!!! Pos class completely filtered out\n"
     ]
    },
    {
     "name": "stderr",
     "output_type": "stream",
     "text": [
      "/home/shihab/anaconda3/envs/ana/lib/python3.7/site-packages/sklearn/metrics/_classification.py:896: RuntimeWarning: invalid value encountered in double_scalars\n",
      "  mcc = cov_ytyp / np.sqrt(cov_ytyt * cov_ypyp)\n",
      "/home/shihab/anaconda3/envs/ana/lib/python3.7/site-packages/sklearn/metrics/_classification.py:896: RuntimeWarning: invalid value encountered in double_scalars\n",
      "  mcc = cov_ytyp / np.sqrt(cov_ytyt * cov_ypyp)\n",
      "/home/shihab/anaconda3/envs/ana/lib/python3.7/site-packages/sklearn/metrics/_classification.py:896: RuntimeWarning: invalid value encountered in double_scalars\n",
      "  mcc = cov_ytyp / np.sqrt(cov_ytyt * cov_ypyp)\n"
     ]
    },
    {
     "name": "stdout",
     "output_type": "stream",
     "text": [
      "ERROR!!! Pos class completely filtered out\n",
      "ERROR!!! Pos class completely filtered out\n",
      "ERROR!!! Pos class completely filtered out\n",
      "ERROR!!! Pos class completely filtered out\n",
      "0.64 [0.139, 0.535]\n",
      "('None', 'rf')\n"
     ]
    },
    {
     "name": "stderr",
     "output_type": "stream",
     "text": [
      "/home/shihab/anaconda3/envs/ana/lib/python3.7/site-packages/sklearn/metrics/_classification.py:896: RuntimeWarning: invalid value encountered in double_scalars\n",
      "  mcc = cov_ytyp / np.sqrt(cov_ytyt * cov_ypyp)\n",
      "/home/shihab/anaconda3/envs/ana/lib/python3.7/site-packages/sklearn/metrics/_classification.py:896: RuntimeWarning: invalid value encountered in double_scalars\n",
      "  mcc = cov_ytyp / np.sqrt(cov_ytyt * cov_ypyp)\n",
      "/home/shihab/anaconda3/envs/ana/lib/python3.7/site-packages/sklearn/metrics/_classification.py:896: RuntimeWarning: invalid value encountered in double_scalars\n",
      "  mcc = cov_ytyp / np.sqrt(cov_ytyt * cov_ypyp)\n"
     ]
    },
    {
     "name": "stdout",
     "output_type": "stream",
     "text": [
      "ERROR!!! Pos class completely filtered out\n"
     ]
    },
    {
     "name": "stderr",
     "output_type": "stream",
     "text": [
      "/home/shihab/anaconda3/envs/ana/lib/python3.7/site-packages/sklearn/metrics/_classification.py:896: RuntimeWarning: invalid value encountered in double_scalars\n",
      "  mcc = cov_ytyp / np.sqrt(cov_ytyt * cov_ypyp)\n",
      "/home/shihab/anaconda3/envs/ana/lib/python3.7/site-packages/sklearn/metrics/_classification.py:896: RuntimeWarning: invalid value encountered in double_scalars\n",
      "  mcc = cov_ytyp / np.sqrt(cov_ytyt * cov_ypyp)\n"
     ]
    },
    {
     "name": "stdout",
     "output_type": "stream",
     "text": [
      "ERROR!!! Pos class completely filtered out\n",
      "1.74 [0.172, 0.46]\n",
      "('ens', 'rboost_DT')\n",
      "1.73 [0.344, 0.541]\n",
      "('ens', 'rboost_NB')\n",
      "1.39 [0.385, 0.564]\n",
      "('ens', 'bbag_DT')\n",
      "ERROR!!! Pos class completely filtered out\n",
      "ERROR!!! Pos class completely filtered out\n",
      "21.55 [0.383, 0.544]\n",
      "('ens', 'bbag_NB')\n",
      "ERROR!!! Pos class completely filtered out\n",
      "ERROR!!! Pos class completely filtered out\n",
      "22.11 [0.404, 0.546]\n",
      "\n",
      "camel-1.4.0.csv noise:0.281, imb:3.174,363,1152, Shape:(1515, 65)\n",
      "('smote', 'dt')\n",
      "1.58 [0.307, 0.527]\n",
      "('smote', 'lr')\n",
      "2.9 [0.332, 0.487]\n",
      "('smote', 'nb')\n",
      "1.47 [0.319, 0.515]\n",
      "('smote', 'svm')\n",
      "5.79 [0.371, 0.476]\n",
      "('smote', 'knn')\n",
      "2.02 [0.338, 0.523]\n",
      "('smote', 'rf')\n",
      "3.8 [0.308, 0.478]\n",
      "('rus', 'dt')\n",
      "0.62 [0.328, 0.549]\n",
      "('rus', 'lr')\n",
      "1.08 [0.332, 0.492]\n",
      "('rus', 'nb')\n",
      "0.6 [0.333, 0.526]\n",
      "('rus', 'svm')\n",
      "1.0 [0.336, 0.473]\n",
      "('rus', 'knn')\n",
      "0.78 [0.343, 0.538]\n",
      "('rus', 'rf')\n",
      "2.02 [0.352, 0.517]\n",
      "('wilson', 'dt')\n",
      "2.18 [0.375, 0.587]\n",
      "('wilson', 'lr')\n",
      "3.27 [0.38, 0.534]\n",
      "('wilson', 'nb')\n",
      "2.31 [0.333, 0.531]\n",
      "('wilson', 'svm')\n",
      "2.92 [0.376, 0.484]\n",
      "('wilson', 'knn')\n",
      "2.63 [0.376, 0.56]\n",
      "('wilson', 'rf')\n",
      "3.75 [0.367, 0.526]\n",
      "('tomek', 'dt')\n",
      "2.41 [0.302, 0.489]\n",
      "('tomek', 'lr')\n",
      "3.41 [0.329, 0.489]\n",
      "('tomek', 'nb')\n",
      "2.39 [0.369, 0.506]\n",
      "('tomek', 'svm')\n",
      "2.91 [0.325, 0.426]\n",
      "('tomek', 'knn')\n",
      "2.74 [0.3, 0.507]\n",
      "('tomek', 'rf')\n",
      "3.96 [0.309, 0.485]\n",
      "('None', 'dt')\n",
      "0.66 [0.274, 0.476]\n",
      "('None', 'lr')\n",
      "1.38 [0.306, 0.481]\n",
      "('None', 'nb')\n",
      "0.58 [0.372, 0.501]\n",
      "('None', 'svm')\n",
      "1.24 [0.296, 0.404]\n",
      "('None', 'knn')\n",
      "1.13 [0.306, 0.516]\n",
      "('None', 'rf')\n",
      "2.12 [0.294, 0.474]\n",
      "('ens', 'rboost_DT')\n",
      "2.55 [0.362, 0.554]\n",
      "('ens', 'rboost_NB')\n",
      "2.13 [0.331, 0.529]\n",
      "('ens', 'bbag_DT')\n",
      "26.82 [0.346, 0.51]\n",
      "('ens', 'bbag_NB')\n",
      "27.13 [0.336, 0.509]\n",
      "\n",
      "activemq-5.1.0.csv noise:0.083, imb:13.173,139,1831, Shape:(1970, 65)\n",
      "('smote', 'dt')\n",
      "2.12 [0.271, 0.443]\n",
      "('smote', 'lr')\n",
      "4.48 [0.279, 0.354]\n",
      "('smote', 'nb')\n",
      "1.81 [0.314, 0.446]\n",
      "('smote', 'svm')\n",
      "16.34 [0.272, 0.25]\n",
      "('smote', 'knn')\n",
      "2.72 [0.278, 0.388]\n",
      "('smote', 'rf')\n",
      "6.06 [0.272, 0.341]\n",
      "('rus', 'dt')\n",
      "0.41 [0.267, 0.456]\n",
      "('rus', 'lr')\n",
      "0.78 [0.287, 0.358]\n",
      "('rus', 'nb')\n",
      "0.43 [0.305, 0.478]\n",
      "('rus', 'svm')\n",
      "0.54 [0.288, 0.299]\n",
      "('rus', 'knn')\n",
      "0.52 [0.299, 0.438]\n",
      "('rus', 'rf')\n",
      "1.71 [0.269, 0.4]\n",
      "('wilson', 'dt')\n",
      "3.12 [0.273, 0.369]\n",
      "('wilson', 'lr')\n",
      "4.03 [0.323, 0.382]\n",
      "('wilson', 'nb')\n",
      "3.12 [0.339, 0.411]\n",
      "('wilson', 'svm')\n",
      "3.61 [0.327, 0.343]\n",
      "('wilson', 'knn')\n",
      "3.74 [0.339, 0.411]\n",
      "('wilson', 'rf')\n",
      "4.66 [0.292, 0.357]\n",
      "('tomek', 'dt')\n"
     ]
    },
    {
     "name": "stderr",
     "output_type": "stream",
     "text": [
      "/home/shihab/anaconda3/envs/ana/lib/python3.7/site-packages/sklearn/metrics/_classification.py:896: RuntimeWarning: invalid value encountered in double_scalars\n",
      "  mcc = cov_ytyp / np.sqrt(cov_ytyt * cov_ypyp)\n"
     ]
    },
    {
     "name": "stdout",
     "output_type": "stream",
     "text": [
      "ERROR!!! Pos class completely filtered out\n"
     ]
    },
    {
     "name": "stderr",
     "output_type": "stream",
     "text": [
      "/home/shihab/anaconda3/envs/ana/lib/python3.7/site-packages/sklearn/metrics/_classification.py:896: RuntimeWarning: invalid value encountered in double_scalars\n",
      "  mcc = cov_ytyp / np.sqrt(cov_ytyt * cov_ypyp)\n"
     ]
    },
    {
     "name": "stdout",
     "output_type": "stream",
     "text": [
      "2.89 [0.183, 0.385]\n",
      "('tomek', 'lr')\n"
     ]
    },
    {
     "name": "stderr",
     "output_type": "stream",
     "text": [
      "/home/shihab/anaconda3/envs/ana/lib/python3.7/site-packages/sklearn/metrics/_classification.py:896: RuntimeWarning: invalid value encountered in double_scalars\n",
      "  mcc = cov_ytyp / np.sqrt(cov_ytyt * cov_ypyp)\n",
      "/home/shihab/anaconda3/envs/ana/lib/python3.7/site-packages/sklearn/metrics/_classification.py:896: RuntimeWarning: invalid value encountered in double_scalars\n",
      "  mcc = cov_ytyp / np.sqrt(cov_ytyt * cov_ypyp)\n"
     ]
    },
    {
     "name": "stdout",
     "output_type": "stream",
     "text": [
      "ERROR!!! Pos class completely filtered out\n",
      "3.43 [0.241, 0.397]\n",
      "('tomek', 'nb')\n"
     ]
    },
    {
     "name": "stderr",
     "output_type": "stream",
     "text": [
      "/home/shihab/anaconda3/envs/ana/lib/python3.7/site-packages/sklearn/metrics/_classification.py:896: RuntimeWarning: invalid value encountered in double_scalars\n",
      "  mcc = cov_ytyp / np.sqrt(cov_ytyt * cov_ypyp)\n"
     ]
    },
    {
     "name": "stdout",
     "output_type": "stream",
     "text": [
      "ERROR!!! Pos class completely filtered out\n",
      "2.83 [0.274, 0.345]\n",
      "('tomek', 'svm')\n",
      "ERROR!!! Pos class completely filtered out\n",
      "ERROR!!! Pos class completely filtered out\n",
      "3.28 [0.293, 0.259]\n",
      "('tomek', 'knn')\n",
      "ERROR!!! Pos class completely filtered out\n",
      "ERROR!!! Pos class completely filtered out\n",
      "ERROR!!! Pos class completely filtered out\n"
     ]
    },
    {
     "name": "stderr",
     "output_type": "stream",
     "text": [
      "/home/shihab/anaconda3/envs/ana/lib/python3.7/site-packages/sklearn/metrics/_classification.py:896: RuntimeWarning: invalid value encountered in double_scalars\n",
      "  mcc = cov_ytyp / np.sqrt(cov_ytyt * cov_ypyp)\n"
     ]
    },
    {
     "name": "stdout",
     "output_type": "stream",
     "text": [
      "ERROR!!! Pos class completely filtered out\n",
      "ERROR!!! Pos class completely filtered out\n",
      "3.31 [0.236, 0.428]\n",
      "('tomek', 'rf')\n"
     ]
    },
    {
     "name": "stderr",
     "output_type": "stream",
     "text": [
      "/home/shihab/anaconda3/envs/ana/lib/python3.7/site-packages/sklearn/metrics/_classification.py:896: RuntimeWarning: invalid value encountered in double_scalars\n",
      "  mcc = cov_ytyp / np.sqrt(cov_ytyt * cov_ypyp)\n",
      "/home/shihab/anaconda3/envs/ana/lib/python3.7/site-packages/sklearn/metrics/_classification.py:896: RuntimeWarning: invalid value encountered in double_scalars\n",
      "  mcc = cov_ytyp / np.sqrt(cov_ytyt * cov_ypyp)\n",
      "/home/shihab/anaconda3/envs/ana/lib/python3.7/site-packages/sklearn/metrics/_classification.py:896: RuntimeWarning: invalid value encountered in double_scalars\n",
      "  mcc = cov_ytyp / np.sqrt(cov_ytyt * cov_ypyp)\n",
      "/home/shihab/anaconda3/envs/ana/lib/python3.7/site-packages/sklearn/metrics/_classification.py:896: RuntimeWarning: invalid value encountered in double_scalars\n",
      "  mcc = cov_ytyp / np.sqrt(cov_ytyt * cov_ypyp)\n"
     ]
    },
    {
     "name": "stdout",
     "output_type": "stream",
     "text": [
      "4.29 [0.187, 0.38]\n",
      "('None', 'dt')\n"
     ]
    },
    {
     "name": "stderr",
     "output_type": "stream",
     "text": [
      "/home/shihab/anaconda3/envs/ana/lib/python3.7/site-packages/sklearn/metrics/_classification.py:896: RuntimeWarning: invalid value encountered in double_scalars\n",
      "  mcc = cov_ytyp / np.sqrt(cov_ytyt * cov_ypyp)\n"
     ]
    },
    {
     "name": "stdout",
     "output_type": "stream",
     "text": [
      "ERROR!!! Pos class completely filtered out\n",
      "0.62 [0.222, 0.436]\n",
      "('None', 'lr')\n"
     ]
    },
    {
     "name": "stderr",
     "output_type": "stream",
     "text": [
      "/home/shihab/anaconda3/envs/ana/lib/python3.7/site-packages/sklearn/metrics/_classification.py:896: RuntimeWarning: invalid value encountered in double_scalars\n",
      "  mcc = cov_ytyp / np.sqrt(cov_ytyt * cov_ypyp)\n"
     ]
    },
    {
     "name": "stdout",
     "output_type": "stream",
     "text": [
      "1.18 [0.247, 0.395]\n",
      "('None', 'nb')\n"
     ]
    },
    {
     "name": "stderr",
     "output_type": "stream",
     "text": [
      "/home/shihab/anaconda3/envs/ana/lib/python3.7/site-packages/sklearn/metrics/_classification.py:896: RuntimeWarning: invalid value encountered in double_scalars\n",
      "  mcc = cov_ytyp / np.sqrt(cov_ytyt * cov_ypyp)\n",
      "/home/shihab/anaconda3/envs/ana/lib/python3.7/site-packages/sklearn/metrics/_classification.py:896: RuntimeWarning: invalid value encountered in double_scalars\n",
      "  mcc = cov_ytyp / np.sqrt(cov_ytyt * cov_ypyp)\n",
      "/home/shihab/anaconda3/envs/ana/lib/python3.7/site-packages/sklearn/metrics/_classification.py:896: RuntimeWarning: invalid value encountered in double_scalars\n",
      "  mcc = cov_ytyp / np.sqrt(cov_ytyt * cov_ypyp)\n"
     ]
    },
    {
     "name": "stdout",
     "output_type": "stream",
     "text": [
      "0.59 [0.241, 0.341]\n",
      "('None', 'svm')\n",
      "1.05 [0.263, 0.232]\n",
      "('None', 'knn')\n"
     ]
    },
    {
     "name": "stderr",
     "output_type": "stream",
     "text": [
      "/home/shihab/anaconda3/envs/ana/lib/python3.7/site-packages/sklearn/metrics/_classification.py:896: RuntimeWarning: invalid value encountered in double_scalars\n",
      "  mcc = cov_ytyp / np.sqrt(cov_ytyt * cov_ypyp)\n",
      "/home/shihab/anaconda3/envs/ana/lib/python3.7/site-packages/sklearn/metrics/_classification.py:896: RuntimeWarning: invalid value encountered in double_scalars\n",
      "  mcc = cov_ytyp / np.sqrt(cov_ytyt * cov_ypyp)\n",
      "/home/shihab/anaconda3/envs/ana/lib/python3.7/site-packages/sklearn/metrics/_classification.py:896: RuntimeWarning: invalid value encountered in double_scalars\n",
      "  mcc = cov_ytyp / np.sqrt(cov_ytyt * cov_ypyp)\n",
      "/home/shihab/anaconda3/envs/ana/lib/python3.7/site-packages/sklearn/metrics/_classification.py:896: RuntimeWarning: invalid value encountered in double_scalars\n",
      "  mcc = cov_ytyp / np.sqrt(cov_ytyt * cov_ypyp)\n"
     ]
    },
    {
     "name": "stdout",
     "output_type": "stream",
     "text": [
      "ERROR!!! Pos class completely filtered out\n",
      "ERROR!!! Pos class completely filtered out\n",
      "1.22 [0.186, 0.486]\n",
      "('None', 'rf')\n",
      "ERROR!!! Pos class completely filtered out\n",
      "ERROR!!! Pos class completely filtered out\n",
      "ERROR!!! Pos class completely filtered out\n"
     ]
    },
    {
     "name": "stderr",
     "output_type": "stream",
     "text": [
      "/home/shihab/anaconda3/envs/ana/lib/python3.7/site-packages/sklearn/metrics/_classification.py:896: RuntimeWarning: invalid value encountered in double_scalars\n",
      "  mcc = cov_ytyp / np.sqrt(cov_ytyt * cov_ypyp)\n"
     ]
    },
    {
     "name": "stdout",
     "output_type": "stream",
     "text": [
      "ERROR!!! Pos class completely filtered out\n",
      "1.87 [0.172, 0.352]\n",
      "('ens', 'rboost_DT')\n",
      "1.23 [0.27, 0.454]\n",
      "('ens', 'rboost_NB')\n",
      "1.39 [0.294, 0.487]\n",
      "('ens', 'bbag_DT')\n",
      "21.84 [0.274, 0.379]\n",
      "('ens', 'bbag_NB')\n",
      "21.42 [0.303, 0.419]\n",
      "\n",
      "activemq-5.0.0.csv noise:0.139, imb:21.976,82,1802, Shape:(1884, 65)\n",
      "('smote', 'dt')\n",
      "2.02 [0.434, 0.57]\n",
      "('smote', 'lr')\n",
      "4.7 [0.445, 0.525]\n",
      "('smote', 'nb')\n",
      "1.7 [0.445, 0.589]\n",
      "('smote', 'svm')\n",
      "24.12 [0.427, 0.536]\n",
      "('smote', 'knn')\n",
      "2.8 [0.39, 0.509]\n",
      "('smote', 'rf')\n",
      "6.21 [0.509, 0.61]\n",
      "('rus', 'dt')\n",
      "0.43 [0.389, 0.555]\n",
      "('rus', 'lr')\n",
      "0.7 [0.403, 0.54]\n",
      "('rus', 'nb')\n",
      "0.43 [0.399, 0.559]\n",
      "('rus', 'svm')\n",
      "0.49 [0.408, 0.528]\n",
      "('rus', 'knn')\n",
      "0.54 [0.395, 0.555]\n",
      "('rus', 'rf')\n",
      "1.71 [0.422, 0.562]\n",
      "('wilson', 'dt')\n"
     ]
    },
    {
     "name": "stderr",
     "output_type": "stream",
     "text": [
      "/home/shihab/anaconda3/envs/ana/lib/python3.7/site-packages/sklearn/metrics/_classification.py:896: RuntimeWarning: invalid value encountered in double_scalars\n",
      "  mcc = cov_ytyp / np.sqrt(cov_ytyt * cov_ypyp)\n"
     ]
    },
    {
     "name": "stdout",
     "output_type": "stream",
     "text": [
      "3.01 [0.246, 0.531]\n",
      "('wilson', 'lr')\n",
      "3.68 [0.249, 0.533]\n",
      "('wilson', 'nb')\n",
      "2.98 [0.344, 0.491]\n",
      "('wilson', 'svm')\n",
      "ERROR!!! Pos class completely filtered out\n",
      "3.39 [0.235, 0.377]\n",
      "('wilson', 'knn')\n",
      "3.62 [0.255, 0.526]\n",
      "('wilson', 'rf')\n",
      "4.56 [0.256, 0.508]\n",
      "('tomek', 'dt')\n",
      "ERROR!!! Pos class completely filtered out\n",
      "ERROR!!! Pos class completely filtered out\n",
      "ERROR!!! Pos class completely filtered out\n",
      "ERROR!!! Pos class completely filtered out\n",
      "ERROR!!! Pos class completely filtered out\n",
      "ERROR!!! Pos class completely filtered out\n",
      "ERROR!!! Pos class completely filtered out\n",
      "ERROR!!! Pos class completely filtered out\n",
      "ERROR!!! Pos class completely filtered out\n"
     ]
    },
    {
     "name": "stderr",
     "output_type": "stream",
     "text": [
      "/home/shihab/anaconda3/envs/ana/lib/python3.7/site-packages/sklearn/metrics/_classification.py:896: RuntimeWarning: invalid value encountered in double_scalars\n",
      "  mcc = cov_ytyp / np.sqrt(cov_ytyt * cov_ypyp)\n"
     ]
    },
    {
     "name": "stdout",
     "output_type": "stream",
     "text": [
      "ERROR!!! Pos class completely filtered out\n"
     ]
    },
    {
     "name": "stderr",
     "output_type": "stream",
     "text": [
      "/home/shihab/anaconda3/envs/ana/lib/python3.7/site-packages/sklearn/metrics/_classification.py:896: RuntimeWarning: invalid value encountered in double_scalars\n",
      "  mcc = cov_ytyp / np.sqrt(cov_ytyt * cov_ypyp)\n",
      "/home/shihab/anaconda3/envs/ana/lib/python3.7/site-packages/sklearn/metrics/_classification.py:896: RuntimeWarning: invalid value encountered in double_scalars\n",
      "  mcc = cov_ytyp / np.sqrt(cov_ytyt * cov_ypyp)\n",
      "/home/shihab/anaconda3/envs/ana/lib/python3.7/site-packages/sklearn/metrics/_classification.py:896: RuntimeWarning: invalid value encountered in double_scalars\n",
      "  mcc = cov_ytyp / np.sqrt(cov_ytyt * cov_ypyp)\n"
     ]
    },
    {
     "name": "stdout",
     "output_type": "stream",
     "text": [
      "ERROR!!! Pos class completely filtered out\n",
      "2.65 [0.086, 0.488]\n",
      "('tomek', 'lr')\n",
      "ERROR!!! Pos class completely filtered out\n",
      "ERROR!!! Pos class completely filtered out\n"
     ]
    },
    {
     "name": "stderr",
     "output_type": "stream",
     "text": [
      "/home/shihab/anaconda3/envs/ana/lib/python3.7/site-packages/sklearn/metrics/_classification.py:896: RuntimeWarning: invalid value encountered in double_scalars\n",
      "  mcc = cov_ytyp / np.sqrt(cov_ytyt * cov_ypyp)\n"
     ]
    },
    {
     "name": "stdout",
     "output_type": "stream",
     "text": [
      "ERROR!!! Pos class completely filtered out\n",
      "ERROR!!! Pos class completely filtered out\n"
     ]
    },
    {
     "name": "stderr",
     "output_type": "stream",
     "text": [
      "/home/shihab/anaconda3/envs/ana/lib/python3.7/site-packages/sklearn/metrics/_classification.py:896: RuntimeWarning: invalid value encountered in double_scalars\n",
      "  mcc = cov_ytyp / np.sqrt(cov_ytyt * cov_ypyp)\n",
      "/home/shihab/anaconda3/envs/ana/lib/python3.7/site-packages/sklearn/metrics/_classification.py:896: RuntimeWarning: invalid value encountered in double_scalars\n",
      "  mcc = cov_ytyp / np.sqrt(cov_ytyt * cov_ypyp)\n",
      "/home/shihab/anaconda3/envs/ana/lib/python3.7/site-packages/sklearn/metrics/_classification.py:896: RuntimeWarning: invalid value encountered in double_scalars\n",
      "  mcc = cov_ytyp / np.sqrt(cov_ytyt * cov_ypyp)\n"
     ]
    },
    {
     "name": "stdout",
     "output_type": "stream",
     "text": [
      "ERROR!!! Pos class completely filtered out\n"
     ]
    },
    {
     "name": "stderr",
     "output_type": "stream",
     "text": [
      "/home/shihab/anaconda3/envs/ana/lib/python3.7/site-packages/sklearn/metrics/_classification.py:896: RuntimeWarning: invalid value encountered in double_scalars\n",
      "  mcc = cov_ytyp / np.sqrt(cov_ytyt * cov_ypyp)\n",
      "/home/shihab/anaconda3/envs/ana/lib/python3.7/site-packages/sklearn/metrics/_classification.py:896: RuntimeWarning: invalid value encountered in double_scalars\n",
      "  mcc = cov_ytyp / np.sqrt(cov_ytyt * cov_ypyp)\n"
     ]
    },
    {
     "name": "stdout",
     "output_type": "stream",
     "text": [
      "ERROR!!! Pos class completely filtered out\n",
      "ERROR!!! Pos class completely filtered out\n",
      "ERROR!!! Pos class completely filtered out\n"
     ]
    },
    {
     "name": "stderr",
     "output_type": "stream",
     "text": [
      "/home/shihab/anaconda3/envs/ana/lib/python3.7/site-packages/sklearn/metrics/_classification.py:896: RuntimeWarning: invalid value encountered in double_scalars\n",
      "  mcc = cov_ytyp / np.sqrt(cov_ytyt * cov_ypyp)\n"
     ]
    },
    {
     "name": "stdout",
     "output_type": "stream",
     "text": [
      "ERROR!!! Pos class completely filtered out\n",
      "3.32 [0.085, 0.529]\n",
      "('tomek', 'nb')\n",
      "ERROR!!! Pos class completely filtered out\n",
      "ERROR!!! Pos class completely filtered out\n",
      "ERROR!!! Pos class completely filtered out\n",
      "ERROR!!! Pos class completely filtered out\n",
      "ERROR!!! Pos class completely filtered out\n"
     ]
    },
    {
     "name": "stderr",
     "output_type": "stream",
     "text": [
      "/home/shihab/anaconda3/envs/ana/lib/python3.7/site-packages/sklearn/metrics/_classification.py:896: RuntimeWarning: invalid value encountered in double_scalars\n",
      "  mcc = cov_ytyp / np.sqrt(cov_ytyt * cov_ypyp)\n",
      "/home/shihab/anaconda3/envs/ana/lib/python3.7/site-packages/sklearn/metrics/_classification.py:896: RuntimeWarning: invalid value encountered in double_scalars\n",
      "  mcc = cov_ytyp / np.sqrt(cov_ytyt * cov_ypyp)\n",
      "/home/shihab/anaconda3/envs/ana/lib/python3.7/site-packages/sklearn/metrics/_classification.py:896: RuntimeWarning: invalid value encountered in double_scalars\n",
      "  mcc = cov_ytyp / np.sqrt(cov_ytyt * cov_ypyp)\n"
     ]
    },
    {
     "name": "stdout",
     "output_type": "stream",
     "text": [
      "ERROR!!! Pos class completely filtered out\n",
      "ERROR!!! Pos class completely filtered out\n",
      "ERROR!!! Pos class completely filtered out\n",
      "ERROR!!! Pos class completely filtered out\n",
      "ERROR!!! Pos class completely filtered out\n"
     ]
    },
    {
     "name": "stderr",
     "output_type": "stream",
     "text": [
      "/home/shihab/anaconda3/envs/ana/lib/python3.7/site-packages/sklearn/metrics/_classification.py:896: RuntimeWarning: invalid value encountered in double_scalars\n",
      "  mcc = cov_ytyp / np.sqrt(cov_ytyt * cov_ypyp)\n"
     ]
    },
    {
     "name": "stdout",
     "output_type": "stream",
     "text": [
      "ERROR!!! Pos class completely filtered out\n",
      "ERROR!!! Pos class completely filtered out\n",
      "ERROR!!! Pos class completely filtered out\n",
      "2.64 [0.132, 0.53]\n",
      "('tomek', 'svm')\n"
     ]
    },
    {
     "name": "stderr",
     "output_type": "stream",
     "text": [
      "/home/shihab/anaconda3/envs/ana/lib/python3.7/site-packages/sklearn/metrics/_classification.py:896: RuntimeWarning: invalid value encountered in double_scalars\n",
      "  mcc = cov_ytyp / np.sqrt(cov_ytyt * cov_ypyp)\n"
     ]
    },
    {
     "name": "stdout",
     "output_type": "stream",
     "text": [
      "ERROR!!! Pos class completely filtered out\n"
     ]
    },
    {
     "name": "stderr",
     "output_type": "stream",
     "text": [
      "/home/shihab/anaconda3/envs/ana/lib/python3.7/site-packages/sklearn/metrics/_classification.py:896: RuntimeWarning: invalid value encountered in double_scalars\n",
      "  mcc = cov_ytyp / np.sqrt(cov_ytyt * cov_ypyp)\n",
      "/home/shihab/anaconda3/envs/ana/lib/python3.7/site-packages/sklearn/metrics/_classification.py:896: RuntimeWarning: invalid value encountered in double_scalars\n",
      "  mcc = cov_ytyp / np.sqrt(cov_ytyt * cov_ypyp)\n"
     ]
    },
    {
     "name": "stdout",
     "output_type": "stream",
     "text": [
      "ERROR!!! Pos class completely filtered out\n",
      "ERROR!!! Pos class completely filtered out\n",
      "ERROR!!! Pos class completely filtered out\n"
     ]
    },
    {
     "name": "stderr",
     "output_type": "stream",
     "text": [
      "/home/shihab/anaconda3/envs/ana/lib/python3.7/site-packages/sklearn/metrics/_classification.py:896: RuntimeWarning: invalid value encountered in double_scalars\n",
      "  mcc = cov_ytyp / np.sqrt(cov_ytyt * cov_ypyp)\n",
      "/home/shihab/anaconda3/envs/ana/lib/python3.7/site-packages/sklearn/metrics/_classification.py:896: RuntimeWarning: invalid value encountered in double_scalars\n",
      "  mcc = cov_ytyp / np.sqrt(cov_ytyt * cov_ypyp)\n"
     ]
    },
    {
     "name": "stdout",
     "output_type": "stream",
     "text": [
      "ERROR!!! Pos class completely filtered out\n",
      "ERROR!!! Pos class completely filtered out\n"
     ]
    },
    {
     "name": "stderr",
     "output_type": "stream",
     "text": [
      "/home/shihab/anaconda3/envs/ana/lib/python3.7/site-packages/sklearn/metrics/_classification.py:896: RuntimeWarning: invalid value encountered in double_scalars\n",
      "  mcc = cov_ytyp / np.sqrt(cov_ytyt * cov_ypyp)\n"
     ]
    },
    {
     "name": "stdout",
     "output_type": "stream",
     "text": [
      "ERROR!!! Pos class completely filtered out\n",
      "ERROR!!! Pos class completely filtered out\n",
      "ERROR!!! Pos class completely filtered out\n",
      "ERROR!!! Pos class completely filtered out\n"
     ]
    },
    {
     "name": "stderr",
     "output_type": "stream",
     "text": [
      "/home/shihab/anaconda3/envs/ana/lib/python3.7/site-packages/sklearn/metrics/_classification.py:896: RuntimeWarning: invalid value encountered in double_scalars\n",
      "  mcc = cov_ytyp / np.sqrt(cov_ytyt * cov_ypyp)\n"
     ]
    },
    {
     "name": "stdout",
     "output_type": "stream",
     "text": [
      "ERROR!!! Pos class completely filtered out\n",
      "ERROR!!! Pos class completely filtered out\n",
      "ERROR!!! Pos class completely filtered out\n",
      "2.9 [0.066, 0.191]\n",
      "('tomek', 'knn')\n"
     ]
    },
    {
     "name": "stderr",
     "output_type": "stream",
     "text": [
      "/home/shihab/anaconda3/envs/ana/lib/python3.7/site-packages/sklearn/metrics/_classification.py:896: RuntimeWarning: invalid value encountered in double_scalars\n",
      "  mcc = cov_ytyp / np.sqrt(cov_ytyt * cov_ypyp)\n",
      "/home/shihab/anaconda3/envs/ana/lib/python3.7/site-packages/sklearn/metrics/_classification.py:896: RuntimeWarning: invalid value encountered in double_scalars\n",
      "  mcc = cov_ytyp / np.sqrt(cov_ytyt * cov_ypyp)\n",
      "/home/shihab/anaconda3/envs/ana/lib/python3.7/site-packages/sklearn/metrics/_classification.py:896: RuntimeWarning: invalid value encountered in double_scalars\n",
      "  mcc = cov_ytyp / np.sqrt(cov_ytyt * cov_ypyp)\n",
      "/home/shihab/anaconda3/envs/ana/lib/python3.7/site-packages/sklearn/metrics/_classification.py:896: RuntimeWarning: invalid value encountered in double_scalars\n",
      "  mcc = cov_ytyp / np.sqrt(cov_ytyt * cov_ypyp)\n",
      "/home/shihab/anaconda3/envs/ana/lib/python3.7/site-packages/sklearn/metrics/_classification.py:896: RuntimeWarning: invalid value encountered in double_scalars\n",
      "  mcc = cov_ytyp / np.sqrt(cov_ytyt * cov_ypyp)\n"
     ]
    },
    {
     "name": "stdout",
     "output_type": "stream",
     "text": [
      "ERROR!!! Pos class completely filtered out\n"
     ]
    },
    {
     "name": "stderr",
     "output_type": "stream",
     "text": [
      "/home/shihab/anaconda3/envs/ana/lib/python3.7/site-packages/sklearn/metrics/_classification.py:896: RuntimeWarning: invalid value encountered in double_scalars\n",
      "  mcc = cov_ytyp / np.sqrt(cov_ytyt * cov_ypyp)\n"
     ]
    },
    {
     "name": "stdout",
     "output_type": "stream",
     "text": [
      "ERROR!!! Pos class completely filtered out\n",
      "ERROR!!! Pos class completely filtered out\n"
     ]
    },
    {
     "name": "stderr",
     "output_type": "stream",
     "text": [
      "/home/shihab/anaconda3/envs/ana/lib/python3.7/site-packages/sklearn/metrics/_classification.py:896: RuntimeWarning: invalid value encountered in double_scalars\n",
      "  mcc = cov_ytyp / np.sqrt(cov_ytyt * cov_ypyp)\n"
     ]
    },
    {
     "name": "stdout",
     "output_type": "stream",
     "text": [
      "ERROR!!! Pos class completely filtered out\n",
      "ERROR!!! Pos class completely filtered out\n"
     ]
    },
    {
     "name": "stderr",
     "output_type": "stream",
     "text": [
      "/home/shihab/anaconda3/envs/ana/lib/python3.7/site-packages/sklearn/metrics/_classification.py:896: RuntimeWarning: invalid value encountered in double_scalars\n",
      "  mcc = cov_ytyp / np.sqrt(cov_ytyt * cov_ypyp)\n"
     ]
    },
    {
     "name": "stdout",
     "output_type": "stream",
     "text": [
      "ERROR!!! Pos class completely filtered out\n",
      "ERROR!!! Pos class completely filtered out\n",
      "ERROR!!! Pos class completely filtered out\n",
      "ERROR!!! Pos class completely filtered out\n",
      "ERROR!!! Pos class completely filtered out\n"
     ]
    },
    {
     "name": "stderr",
     "output_type": "stream",
     "text": [
      "/home/shihab/anaconda3/envs/ana/lib/python3.7/site-packages/sklearn/metrics/_classification.py:896: RuntimeWarning: invalid value encountered in double_scalars\n",
      "  mcc = cov_ytyp / np.sqrt(cov_ytyt * cov_ypyp)\n"
     ]
    },
    {
     "name": "stdout",
     "output_type": "stream",
     "text": [
      "ERROR!!! Pos class completely filtered out\n",
      "ERROR!!! Pos class completely filtered out\n",
      "ERROR!!! Pos class completely filtered out\n",
      "2.93 [0.035, 0.57]\n",
      "('tomek', 'rf')\n"
     ]
    },
    {
     "name": "stderr",
     "output_type": "stream",
     "text": [
      "/home/shihab/anaconda3/envs/ana/lib/python3.7/site-packages/sklearn/metrics/_classification.py:896: RuntimeWarning: invalid value encountered in double_scalars\n",
      "  mcc = cov_ytyp / np.sqrt(cov_ytyt * cov_ypyp)\n"
     ]
    },
    {
     "name": "stdout",
     "output_type": "stream",
     "text": [
      "ERROR!!! Pos class completely filtered out\n"
     ]
    },
    {
     "name": "stderr",
     "output_type": "stream",
     "text": [
      "/home/shihab/anaconda3/envs/ana/lib/python3.7/site-packages/sklearn/metrics/_classification.py:896: RuntimeWarning: invalid value encountered in double_scalars\n",
      "  mcc = cov_ytyp / np.sqrt(cov_ytyt * cov_ypyp)\n",
      "/home/shihab/anaconda3/envs/ana/lib/python3.7/site-packages/sklearn/metrics/_classification.py:896: RuntimeWarning: invalid value encountered in double_scalars\n",
      "  mcc = cov_ytyp / np.sqrt(cov_ytyt * cov_ypyp)\n"
     ]
    },
    {
     "name": "stdout",
     "output_type": "stream",
     "text": [
      "ERROR!!! Pos class completely filtered out\n"
     ]
    },
    {
     "name": "stderr",
     "output_type": "stream",
     "text": [
      "/home/shihab/anaconda3/envs/ana/lib/python3.7/site-packages/sklearn/metrics/_classification.py:896: RuntimeWarning: invalid value encountered in double_scalars\n",
      "  mcc = cov_ytyp / np.sqrt(cov_ytyt * cov_ypyp)\n"
     ]
    },
    {
     "name": "stdout",
     "output_type": "stream",
     "text": [
      "ERROR!!! Pos class completely filtered out\n",
      "ERROR!!! Pos class completely filtered out\n"
     ]
    },
    {
     "name": "stderr",
     "output_type": "stream",
     "text": [
      "/home/shihab/anaconda3/envs/ana/lib/python3.7/site-packages/sklearn/metrics/_classification.py:896: RuntimeWarning: invalid value encountered in double_scalars\n",
      "  mcc = cov_ytyp / np.sqrt(cov_ytyt * cov_ypyp)\n",
      "/home/shihab/anaconda3/envs/ana/lib/python3.7/site-packages/sklearn/metrics/_classification.py:896: RuntimeWarning: invalid value encountered in double_scalars\n",
      "  mcc = cov_ytyp / np.sqrt(cov_ytyt * cov_ypyp)\n",
      "/home/shihab/anaconda3/envs/ana/lib/python3.7/site-packages/sklearn/metrics/_classification.py:896: RuntimeWarning: invalid value encountered in double_scalars\n",
      "  mcc = cov_ytyp / np.sqrt(cov_ytyt * cov_ypyp)\n"
     ]
    },
    {
     "name": "stdout",
     "output_type": "stream",
     "text": [
      "ERROR!!! Pos class completely filtered out\n",
      "ERROR!!! Pos class completely filtered out\n"
     ]
    },
    {
     "name": "stderr",
     "output_type": "stream",
     "text": [
      "/home/shihab/anaconda3/envs/ana/lib/python3.7/site-packages/sklearn/metrics/_classification.py:896: RuntimeWarning: invalid value encountered in double_scalars\n",
      "  mcc = cov_ytyp / np.sqrt(cov_ytyt * cov_ypyp)\n"
     ]
    },
    {
     "name": "stdout",
     "output_type": "stream",
     "text": [
      "ERROR!!! Pos class completely filtered out\n",
      "ERROR!!! Pos class completely filtered out\n"
     ]
    },
    {
     "name": "stderr",
     "output_type": "stream",
     "text": [
      "/home/shihab/anaconda3/envs/ana/lib/python3.7/site-packages/sklearn/metrics/_classification.py:896: RuntimeWarning: invalid value encountered in double_scalars\n",
      "  mcc = cov_ytyp / np.sqrt(cov_ytyt * cov_ypyp)\n"
     ]
    },
    {
     "name": "stdout",
     "output_type": "stream",
     "text": [
      "ERROR!!! Pos class completely filtered out\n",
      "ERROR!!! Pos class completely filtered out\n",
      "ERROR!!! Pos class completely filtered out\n",
      "3.53 [0.058, 0.497]\n",
      "('None', 'dt')\n",
      "ERROR!!! Pos class completely filtered out\n"
     ]
    },
    {
     "name": "stderr",
     "output_type": "stream",
     "text": [
      "/home/shihab/anaconda3/envs/ana/lib/python3.7/site-packages/sklearn/metrics/_classification.py:896: RuntimeWarning: invalid value encountered in double_scalars\n",
      "  mcc = cov_ytyp / np.sqrt(cov_ytyt * cov_ypyp)\n",
      "/home/shihab/anaconda3/envs/ana/lib/python3.7/site-packages/sklearn/metrics/_classification.py:896: RuntimeWarning: invalid value encountered in double_scalars\n",
      "  mcc = cov_ytyp / np.sqrt(cov_ytyt * cov_ypyp)\n",
      "/home/shihab/anaconda3/envs/ana/lib/python3.7/site-packages/sklearn/metrics/_classification.py:896: RuntimeWarning: invalid value encountered in double_scalars\n",
      "  mcc = cov_ytyp / np.sqrt(cov_ytyt * cov_ypyp)\n"
     ]
    },
    {
     "name": "stdout",
     "output_type": "stream",
     "text": [
      "ERROR!!! Pos class completely filtered out\n",
      "ERROR!!! Pos class completely filtered out\n",
      "ERROR!!! Pos class completely filtered out\n"
     ]
    },
    {
     "name": "stderr",
     "output_type": "stream",
     "text": [
      "/home/shihab/anaconda3/envs/ana/lib/python3.7/site-packages/sklearn/metrics/_classification.py:896: RuntimeWarning: invalid value encountered in double_scalars\n",
      "  mcc = cov_ytyp / np.sqrt(cov_ytyt * cov_ypyp)\n",
      "/home/shihab/anaconda3/envs/ana/lib/python3.7/site-packages/sklearn/metrics/_classification.py:896: RuntimeWarning: invalid value encountered in double_scalars\n",
      "  mcc = cov_ytyp / np.sqrt(cov_ytyt * cov_ypyp)\n",
      "/home/shihab/anaconda3/envs/ana/lib/python3.7/site-packages/sklearn/metrics/_classification.py:896: RuntimeWarning: invalid value encountered in double_scalars\n",
      "  mcc = cov_ytyp / np.sqrt(cov_ytyt * cov_ypyp)\n",
      "/home/shihab/anaconda3/envs/ana/lib/python3.7/site-packages/sklearn/metrics/_classification.py:896: RuntimeWarning: invalid value encountered in double_scalars\n",
      "  mcc = cov_ytyp / np.sqrt(cov_ytyt * cov_ypyp)\n"
     ]
    },
    {
     "name": "stdout",
     "output_type": "stream",
     "text": [
      "ERROR!!! Pos class completely filtered out\n",
      "ERROR!!! Pos class completely filtered out\n",
      "ERROR!!! Pos class completely filtered out\n",
      "ERROR!!! Pos class completely filtered out\n",
      "ERROR!!! Pos class completely filtered out\n",
      "ERROR!!! Pos class completely filtered out\n",
      "ERROR!!! Pos class completely filtered out\n",
      "ERROR!!! Pos class completely filtered out\n",
      "0.52 [0.033, 0.465]\n",
      "('None', 'lr')\n",
      "ERROR!!! Pos class completely filtered out\n",
      "ERROR!!! Pos class completely filtered out\n",
      "ERROR!!! Pos class completely filtered out\n",
      "ERROR!!! Pos class completely filtered out\n",
      "ERROR!!! Pos class completely filtered out\n"
     ]
    },
    {
     "name": "stderr",
     "output_type": "stream",
     "text": [
      "/home/shihab/anaconda3/envs/ana/lib/python3.7/site-packages/sklearn/metrics/_classification.py:896: RuntimeWarning: invalid value encountered in double_scalars\n",
      "  mcc = cov_ytyp / np.sqrt(cov_ytyt * cov_ypyp)\n",
      "/home/shihab/anaconda3/envs/ana/lib/python3.7/site-packages/sklearn/metrics/_classification.py:896: RuntimeWarning: invalid value encountered in double_scalars\n",
      "  mcc = cov_ytyp / np.sqrt(cov_ytyt * cov_ypyp)\n",
      "/home/shihab/anaconda3/envs/ana/lib/python3.7/site-packages/sklearn/metrics/_classification.py:896: RuntimeWarning: invalid value encountered in double_scalars\n",
      "  mcc = cov_ytyp / np.sqrt(cov_ytyt * cov_ypyp)\n",
      "/home/shihab/anaconda3/envs/ana/lib/python3.7/site-packages/sklearn/metrics/_classification.py:896: RuntimeWarning: invalid value encountered in double_scalars\n",
      "  mcc = cov_ytyp / np.sqrt(cov_ytyt * cov_ypyp)\n",
      "/home/shihab/anaconda3/envs/ana/lib/python3.7/site-packages/sklearn/metrics/_classification.py:896: RuntimeWarning: invalid value encountered in double_scalars\n",
      "  mcc = cov_ytyp / np.sqrt(cov_ytyt * cov_ypyp)\n"
     ]
    },
    {
     "name": "stdout",
     "output_type": "stream",
     "text": [
      "ERROR!!! Pos class completely filtered out\n",
      "ERROR!!! Pos class completely filtered out\n",
      "ERROR!!! Pos class completely filtered out\n",
      "ERROR!!! Pos class completely filtered out\n",
      "ERROR!!! Pos class completely filtered out\n",
      "ERROR!!! Pos class completely filtered out\n",
      "ERROR!!! Pos class completely filtered out\n",
      "ERROR!!! Pos class completely filtered out\n",
      "ERROR!!! Pos class completely filtered out\n",
      "ERROR!!! Pos class completely filtered out\n",
      "ERROR!!! Pos class completely filtered out\n",
      "0.75 [0.079, 0.552]\n",
      "('None', 'nb')\n",
      "ERROR!!! Pos class completely filtered out\n"
     ]
    },
    {
     "name": "stderr",
     "output_type": "stream",
     "text": [
      "/home/shihab/anaconda3/envs/ana/lib/python3.7/site-packages/sklearn/metrics/_classification.py:896: RuntimeWarning: invalid value encountered in double_scalars\n",
      "  mcc = cov_ytyp / np.sqrt(cov_ytyt * cov_ypyp)\n",
      "/home/shihab/anaconda3/envs/ana/lib/python3.7/site-packages/sklearn/metrics/_classification.py:896: RuntimeWarning: invalid value encountered in double_scalars\n",
      "  mcc = cov_ytyp / np.sqrt(cov_ytyt * cov_ypyp)\n",
      "/home/shihab/anaconda3/envs/ana/lib/python3.7/site-packages/sklearn/metrics/_classification.py:896: RuntimeWarning: invalid value encountered in double_scalars\n",
      "  mcc = cov_ytyp / np.sqrt(cov_ytyt * cov_ypyp)\n",
      "/home/shihab/anaconda3/envs/ana/lib/python3.7/site-packages/sklearn/metrics/_classification.py:896: RuntimeWarning: invalid value encountered in double_scalars\n",
      "  mcc = cov_ytyp / np.sqrt(cov_ytyt * cov_ypyp)\n",
      "/home/shihab/anaconda3/envs/ana/lib/python3.7/site-packages/sklearn/metrics/_classification.py:896: RuntimeWarning: invalid value encountered in double_scalars\n",
      "  mcc = cov_ytyp / np.sqrt(cov_ytyt * cov_ypyp)\n"
     ]
    },
    {
     "name": "stdout",
     "output_type": "stream",
     "text": [
      "ERROR!!! Pos class completely filtered out\n",
      "ERROR!!! Pos class completely filtered out\n",
      "ERROR!!! Pos class completely filtered out\n",
      "ERROR!!! Pos class completely filtered out\n",
      "ERROR!!! Pos class completely filtered out\n",
      "ERROR!!! Pos class completely filtered out\n",
      "ERROR!!! Pos class completely filtered out\n",
      "ERROR!!! Pos class completely filtered out\n",
      "ERROR!!! Pos class completely filtered out\n"
     ]
    },
    {
     "name": "stderr",
     "output_type": "stream",
     "text": [
      "/home/shihab/anaconda3/envs/ana/lib/python3.7/site-packages/sklearn/metrics/_classification.py:896: RuntimeWarning: invalid value encountered in double_scalars\n",
      "  mcc = cov_ytyp / np.sqrt(cov_ytyt * cov_ypyp)\n",
      "/home/shihab/anaconda3/envs/ana/lib/python3.7/site-packages/sklearn/metrics/_classification.py:896: RuntimeWarning: invalid value encountered in double_scalars\n",
      "  mcc = cov_ytyp / np.sqrt(cov_ytyt * cov_ypyp)\n"
     ]
    },
    {
     "name": "stdout",
     "output_type": "stream",
     "text": [
      "ERROR!!! Pos class completely filtered out\n",
      "ERROR!!! Pos class completely filtered out\n",
      "ERROR!!! Pos class completely filtered out\n",
      "ERROR!!! Pos class completely filtered out\n",
      "0.51 [0.045, 0.528]\n",
      "('None', 'svm')\n",
      "ERROR!!! Pos class completely filtered out\n"
     ]
    },
    {
     "name": "stderr",
     "output_type": "stream",
     "text": [
      "/home/shihab/anaconda3/envs/ana/lib/python3.7/site-packages/sklearn/metrics/_classification.py:896: RuntimeWarning: invalid value encountered in double_scalars\n",
      "  mcc = cov_ytyp / np.sqrt(cov_ytyt * cov_ypyp)\n",
      "/home/shihab/anaconda3/envs/ana/lib/python3.7/site-packages/sklearn/metrics/_classification.py:896: RuntimeWarning: invalid value encountered in double_scalars\n",
      "  mcc = cov_ytyp / np.sqrt(cov_ytyt * cov_ypyp)\n",
      "/home/shihab/anaconda3/envs/ana/lib/python3.7/site-packages/sklearn/metrics/_classification.py:896: RuntimeWarning: invalid value encountered in double_scalars\n",
      "  mcc = cov_ytyp / np.sqrt(cov_ytyt * cov_ypyp)\n"
     ]
    },
    {
     "name": "stdout",
     "output_type": "stream",
     "text": [
      "ERROR!!! Pos class completely filtered out\n",
      "ERROR!!! Pos class completely filtered out\n",
      "ERROR!!! Pos class completely filtered out\n",
      "ERROR!!! Pos class completely filtered out\n",
      "ERROR!!! Pos class completely filtered out\n",
      "ERROR!!! Pos class completely filtered out\n"
     ]
    },
    {
     "name": "stderr",
     "output_type": "stream",
     "text": [
      "/home/shihab/anaconda3/envs/ana/lib/python3.7/site-packages/sklearn/metrics/_classification.py:896: RuntimeWarning: invalid value encountered in double_scalars\n",
      "  mcc = cov_ytyp / np.sqrt(cov_ytyt * cov_ypyp)\n",
      "/home/shihab/anaconda3/envs/ana/lib/python3.7/site-packages/sklearn/metrics/_classification.py:896: RuntimeWarning: invalid value encountered in double_scalars\n",
      "  mcc = cov_ytyp / np.sqrt(cov_ytyt * cov_ypyp)\n"
     ]
    },
    {
     "name": "stdout",
     "output_type": "stream",
     "text": [
      "ERROR!!! Pos class completely filtered out\n",
      "ERROR!!! Pos class completely filtered out\n",
      "ERROR!!! Pos class completely filtered out\n",
      "ERROR!!! Pos class completely filtered out\n",
      "ERROR!!! Pos class completely filtered out\n"
     ]
    },
    {
     "name": "stderr",
     "output_type": "stream",
     "text": [
      "/home/shihab/anaconda3/envs/ana/lib/python3.7/site-packages/sklearn/metrics/_classification.py:896: RuntimeWarning: invalid value encountered in double_scalars\n",
      "  mcc = cov_ytyp / np.sqrt(cov_ytyt * cov_ypyp)\n",
      "/home/shihab/anaconda3/envs/ana/lib/python3.7/site-packages/sklearn/metrics/_classification.py:896: RuntimeWarning: invalid value encountered in double_scalars\n",
      "  mcc = cov_ytyp / np.sqrt(cov_ytyt * cov_ypyp)\n",
      "/home/shihab/anaconda3/envs/ana/lib/python3.7/site-packages/sklearn/metrics/_classification.py:896: RuntimeWarning: invalid value encountered in double_scalars\n",
      "  mcc = cov_ytyp / np.sqrt(cov_ytyt * cov_ypyp)\n"
     ]
    },
    {
     "name": "stdout",
     "output_type": "stream",
     "text": [
      "ERROR!!! Pos class completely filtered out\n",
      "ERROR!!! Pos class completely filtered out\n",
      "0.7 [0.058, 0.199]\n",
      "('None', 'knn')\n",
      "ERROR!!! Pos class completely filtered out\n"
     ]
    },
    {
     "name": "stderr",
     "output_type": "stream",
     "text": [
      "/home/shihab/anaconda3/envs/ana/lib/python3.7/site-packages/sklearn/metrics/_classification.py:896: RuntimeWarning: invalid value encountered in double_scalars\n",
      "  mcc = cov_ytyp / np.sqrt(cov_ytyt * cov_ypyp)\n",
      "/home/shihab/anaconda3/envs/ana/lib/python3.7/site-packages/sklearn/metrics/_classification.py:896: RuntimeWarning: invalid value encountered in double_scalars\n",
      "  mcc = cov_ytyp / np.sqrt(cov_ytyt * cov_ypyp)\n"
     ]
    },
    {
     "name": "stdout",
     "output_type": "stream",
     "text": [
      "ERROR!!! Pos class completely filtered out\n",
      "ERROR!!! Pos class completely filtered out\n",
      "ERROR!!! Pos class completely filtered out\n"
     ]
    },
    {
     "name": "stderr",
     "output_type": "stream",
     "text": [
      "/home/shihab/anaconda3/envs/ana/lib/python3.7/site-packages/sklearn/metrics/_classification.py:896: RuntimeWarning: invalid value encountered in double_scalars\n",
      "  mcc = cov_ytyp / np.sqrt(cov_ytyt * cov_ypyp)\n",
      "/home/shihab/anaconda3/envs/ana/lib/python3.7/site-packages/sklearn/metrics/_classification.py:896: RuntimeWarning: invalid value encountered in double_scalars\n",
      "  mcc = cov_ytyp / np.sqrt(cov_ytyt * cov_ypyp)\n",
      "/home/shihab/anaconda3/envs/ana/lib/python3.7/site-packages/sklearn/metrics/_classification.py:896: RuntimeWarning: invalid value encountered in double_scalars\n",
      "  mcc = cov_ytyp / np.sqrt(cov_ytyt * cov_ypyp)\n"
     ]
    },
    {
     "name": "stdout",
     "output_type": "stream",
     "text": [
      "ERROR!!! Pos class completely filtered out\n",
      "ERROR!!! Pos class completely filtered out\n",
      "ERROR!!! Pos class completely filtered out\n",
      "ERROR!!! Pos class completely filtered out\n",
      "ERROR!!! Pos class completely filtered out\n",
      "ERROR!!! Pos class completely filtered out\n",
      "ERROR!!! Pos class completely filtered out\n"
     ]
    },
    {
     "name": "stderr",
     "output_type": "stream",
     "text": [
      "/home/shihab/anaconda3/envs/ana/lib/python3.7/site-packages/sklearn/metrics/_classification.py:896: RuntimeWarning: invalid value encountered in double_scalars\n",
      "  mcc = cov_ytyp / np.sqrt(cov_ytyt * cov_ypyp)\n",
      "/home/shihab/anaconda3/envs/ana/lib/python3.7/site-packages/sklearn/metrics/_classification.py:896: RuntimeWarning: invalid value encountered in double_scalars\n",
      "  mcc = cov_ytyp / np.sqrt(cov_ytyt * cov_ypyp)\n",
      "/home/shihab/anaconda3/envs/ana/lib/python3.7/site-packages/sklearn/metrics/_classification.py:896: RuntimeWarning: invalid value encountered in double_scalars\n",
      "  mcc = cov_ytyp / np.sqrt(cov_ytyt * cov_ypyp)\n",
      "/home/shihab/anaconda3/envs/ana/lib/python3.7/site-packages/sklearn/metrics/_classification.py:896: RuntimeWarning: invalid value encountered in double_scalars\n",
      "  mcc = cov_ytyp / np.sqrt(cov_ytyt * cov_ypyp)\n"
     ]
    },
    {
     "name": "stdout",
     "output_type": "stream",
     "text": [
      "ERROR!!! Pos class completely filtered out\n",
      "0.92 [0.052, 0.519]\n",
      "('None', 'rf')\n",
      "ERROR!!! Pos class completely filtered out\n",
      "ERROR!!! Pos class completely filtered out\n",
      "ERROR!!! Pos class completely filtered out\n",
      "ERROR!!! Pos class completely filtered out\n",
      "ERROR!!! Pos class completely filtered out\n",
      "ERROR!!! Pos class completely filtered out\n",
      "ERROR!!! Pos class completely filtered out\n"
     ]
    },
    {
     "name": "stderr",
     "output_type": "stream",
     "text": [
      "/home/shihab/anaconda3/envs/ana/lib/python3.7/site-packages/sklearn/metrics/_classification.py:896: RuntimeWarning: invalid value encountered in double_scalars\n",
      "  mcc = cov_ytyp / np.sqrt(cov_ytyt * cov_ypyp)\n",
      "/home/shihab/anaconda3/envs/ana/lib/python3.7/site-packages/sklearn/metrics/_classification.py:896: RuntimeWarning: invalid value encountered in double_scalars\n",
      "  mcc = cov_ytyp / np.sqrt(cov_ytyt * cov_ypyp)\n",
      "/home/shihab/anaconda3/envs/ana/lib/python3.7/site-packages/sklearn/metrics/_classification.py:896: RuntimeWarning: invalid value encountered in double_scalars\n",
      "  mcc = cov_ytyp / np.sqrt(cov_ytyt * cov_ypyp)\n",
      "/home/shihab/anaconda3/envs/ana/lib/python3.7/site-packages/sklearn/metrics/_classification.py:896: RuntimeWarning: invalid value encountered in double_scalars\n",
      "  mcc = cov_ytyp / np.sqrt(cov_ytyt * cov_ypyp)\n",
      "/home/shihab/anaconda3/envs/ana/lib/python3.7/site-packages/sklearn/metrics/_classification.py:896: RuntimeWarning: invalid value encountered in double_scalars\n",
      "  mcc = cov_ytyp / np.sqrt(cov_ytyt * cov_ypyp)\n"
     ]
    },
    {
     "name": "stdout",
     "output_type": "stream",
     "text": [
      "ERROR!!! Pos class completely filtered out\n",
      "ERROR!!! Pos class completely filtered out\n",
      "ERROR!!! Pos class completely filtered out\n",
      "ERROR!!! Pos class completely filtered out\n",
      "ERROR!!! Pos class completely filtered out\n"
     ]
    },
    {
     "name": "stderr",
     "output_type": "stream",
     "text": [
      "/home/shihab/anaconda3/envs/ana/lib/python3.7/site-packages/sklearn/metrics/_classification.py:896: RuntimeWarning: invalid value encountered in double_scalars\n",
      "  mcc = cov_ytyp / np.sqrt(cov_ytyt * cov_ypyp)\n"
     ]
    },
    {
     "name": "stdout",
     "output_type": "stream",
     "text": [
      "ERROR!!! Pos class completely filtered out\n",
      "1.26 [0.054, 0.478]\n",
      "('ens', 'rboost_DT')\n",
      "1.4 [0.389, 0.546]\n",
      "('ens', 'rboost_NB')\n",
      "1.42 [0.415, 0.567]\n",
      "('ens', 'bbag_DT')\n",
      "20.42 [0.413, 0.571]\n",
      "('ens', 'bbag_NB')\n",
      "19.91 [0.411, 0.571]\n",
      "\n",
      "derby-10.5.1.1.csv noise:0.126, imb:14.028,180,2525, Shape:(2705, 65)\n",
      "('smote', 'dt')\n",
      "2.76 [0.285, 0.454]\n",
      "('smote', 'lr')\n",
      "7.01 [0.332, 0.453]\n",
      "('smote', 'nb')\n",
      "2.53 [0.377, 0.514]\n",
      "('smote', 'svm')\n",
      "27.86 [0.353, 0.428]\n",
      "('smote', 'knn')\n",
      "4.27 [0.333, 0.472]\n",
      "('smote', 'rf')\n",
      "8.71 [0.3, 0.437]\n",
      "('rus', 'dt')\n",
      "0.48 [0.323, 0.518]\n",
      "('rus', 'lr')\n",
      "1.04 [0.334, 0.453]\n",
      "('rus', 'nb')\n",
      "0.52 [0.361, 0.538]\n",
      "('rus', 'svm')\n",
      "0.7 [0.341, 0.462]\n",
      "('rus', 'knn')\n",
      "0.67 [0.332, 0.508]\n",
      "('rus', 'rf')\n",
      "1.94 [0.322, 0.484]\n",
      "('wilson', 'dt')\n",
      "ERROR!!! Pos class completely filtered out\n",
      "6.26 [0.279, 0.465]\n",
      "('wilson', 'lr')\n",
      "7.87 [0.291, 0.47]\n",
      "('wilson', 'nb')\n",
      "6.2 [0.38, 0.491]\n",
      "('wilson', 'svm')\n",
      "7.47 [0.302, 0.375]\n",
      "('wilson', 'knn')\n",
      "7.81 [0.285, 0.48]\n",
      "('wilson', 'rf')\n",
      "9.13 [0.27, 0.452]\n",
      "('tomek', 'dt')\n",
      "ERROR!!! Pos class completely filtered out\n"
     ]
    },
    {
     "name": "stderr",
     "output_type": "stream",
     "text": [
      "/home/shihab/anaconda3/envs/ana/lib/python3.7/site-packages/sklearn/metrics/_classification.py:896: RuntimeWarning: invalid value encountered in double_scalars\n",
      "  mcc = cov_ytyp / np.sqrt(cov_ytyt * cov_ypyp)\n",
      "/home/shihab/anaconda3/envs/ana/lib/python3.7/site-packages/sklearn/metrics/_classification.py:896: RuntimeWarning: invalid value encountered in double_scalars\n",
      "  mcc = cov_ytyp / np.sqrt(cov_ytyt * cov_ypyp)\n",
      "/home/shihab/anaconda3/envs/ana/lib/python3.7/site-packages/sklearn/metrics/_classification.py:896: RuntimeWarning: invalid value encountered in double_scalars\n",
      "  mcc = cov_ytyp / np.sqrt(cov_ytyt * cov_ypyp)\n",
      "/home/shihab/anaconda3/envs/ana/lib/python3.7/site-packages/sklearn/metrics/_classification.py:896: RuntimeWarning: invalid value encountered in double_scalars\n",
      "  mcc = cov_ytyp / np.sqrt(cov_ytyt * cov_ypyp)\n",
      "/home/shihab/anaconda3/envs/ana/lib/python3.7/site-packages/sklearn/metrics/_classification.py:896: RuntimeWarning: invalid value encountered in double_scalars\n",
      "  mcc = cov_ytyp / np.sqrt(cov_ytyt * cov_ypyp)\n"
     ]
    },
    {
     "name": "stdout",
     "output_type": "stream",
     "text": [
      "5.98 [0.153, 0.509]\n",
      "('tomek', 'lr')\n"
     ]
    },
    {
     "name": "stderr",
     "output_type": "stream",
     "text": [
      "/home/shihab/anaconda3/envs/ana/lib/python3.7/site-packages/sklearn/metrics/_classification.py:896: RuntimeWarning: invalid value encountered in double_scalars\n",
      "  mcc = cov_ytyp / np.sqrt(cov_ytyt * cov_ypyp)\n"
     ]
    },
    {
     "name": "stdout",
     "output_type": "stream",
     "text": [
      "ERROR!!! Pos class completely filtered out\n"
     ]
    },
    {
     "name": "stderr",
     "output_type": "stream",
     "text": [
      "/home/shihab/anaconda3/envs/ana/lib/python3.7/site-packages/sklearn/metrics/_classification.py:896: RuntimeWarning: invalid value encountered in double_scalars\n",
      "  mcc = cov_ytyp / np.sqrt(cov_ytyt * cov_ypyp)\n",
      "/home/shihab/anaconda3/envs/ana/lib/python3.7/site-packages/sklearn/metrics/_classification.py:896: RuntimeWarning: invalid value encountered in double_scalars\n",
      "  mcc = cov_ytyp / np.sqrt(cov_ytyt * cov_ypyp)\n",
      "/home/shihab/anaconda3/envs/ana/lib/python3.7/site-packages/sklearn/metrics/_classification.py:896: RuntimeWarning: invalid value encountered in double_scalars\n",
      "  mcc = cov_ytyp / np.sqrt(cov_ytyt * cov_ypyp)\n"
     ]
    },
    {
     "name": "stdout",
     "output_type": "stream",
     "text": [
      "6.88 [0.149, 0.47]\n",
      "('tomek', 'nb')\n"
     ]
    },
    {
     "name": "stderr",
     "output_type": "stream",
     "text": [
      "/home/shihab/anaconda3/envs/ana/lib/python3.7/site-packages/sklearn/metrics/_classification.py:896: RuntimeWarning: invalid value encountered in double_scalars\n",
      "  mcc = cov_ytyp / np.sqrt(cov_ytyt * cov_ypyp)\n"
     ]
    },
    {
     "name": "stdout",
     "output_type": "stream",
     "text": [
      "ERROR!!! Pos class completely filtered out\n"
     ]
    },
    {
     "name": "stderr",
     "output_type": "stream",
     "text": [
      "/home/shihab/anaconda3/envs/ana/lib/python3.7/site-packages/sklearn/metrics/_classification.py:896: RuntimeWarning: invalid value encountered in double_scalars\n",
      "  mcc = cov_ytyp / np.sqrt(cov_ytyt * cov_ypyp)\n"
     ]
    },
    {
     "name": "stdout",
     "output_type": "stream",
     "text": [
      "ERROR!!! Pos class completely filtered out\n",
      "ERROR!!! Pos class completely filtered out\n",
      "5.34 [0.279, 0.477]\n",
      "('tomek', 'svm')\n",
      "ERROR!!! Pos class completely filtered out\n",
      "ERROR!!! Pos class completely filtered out\n"
     ]
    },
    {
     "name": "stderr",
     "output_type": "stream",
     "text": [
      "/home/shihab/anaconda3/envs/ana/lib/python3.7/site-packages/sklearn/metrics/_classification.py:896: RuntimeWarning: invalid value encountered in double_scalars\n",
      "  mcc = cov_ytyp / np.sqrt(cov_ytyt * cov_ypyp)\n"
     ]
    },
    {
     "name": "stdout",
     "output_type": "stream",
     "text": [
      "ERROR!!! Pos class completely filtered out\n",
      "6.58 [0.175, 0.268]\n",
      "('tomek', 'knn')\n"
     ]
    },
    {
     "name": "stderr",
     "output_type": "stream",
     "text": [
      "/home/shihab/anaconda3/envs/ana/lib/python3.7/site-packages/sklearn/metrics/_classification.py:896: RuntimeWarning: invalid value encountered in double_scalars\n",
      "  mcc = cov_ytyp / np.sqrt(cov_ytyt * cov_ypyp)\n",
      "/home/shihab/anaconda3/envs/ana/lib/python3.7/site-packages/sklearn/metrics/_classification.py:896: RuntimeWarning: invalid value encountered in double_scalars\n",
      "  mcc = cov_ytyp / np.sqrt(cov_ytyt * cov_ypyp)\n",
      "/home/shihab/anaconda3/envs/ana/lib/python3.7/site-packages/sklearn/metrics/_classification.py:896: RuntimeWarning: invalid value encountered in double_scalars\n",
      "  mcc = cov_ytyp / np.sqrt(cov_ytyt * cov_ypyp)\n",
      "/home/shihab/anaconda3/envs/ana/lib/python3.7/site-packages/sklearn/metrics/_classification.py:896: RuntimeWarning: invalid value encountered in double_scalars\n",
      "  mcc = cov_ytyp / np.sqrt(cov_ytyt * cov_ypyp)\n",
      "/home/shihab/anaconda3/envs/ana/lib/python3.7/site-packages/sklearn/metrics/_classification.py:896: RuntimeWarning: invalid value encountered in double_scalars\n",
      "  mcc = cov_ytyp / np.sqrt(cov_ytyt * cov_ypyp)\n",
      "/home/shihab/anaconda3/envs/ana/lib/python3.7/site-packages/sklearn/metrics/_classification.py:896: RuntimeWarning: invalid value encountered in double_scalars\n",
      "  mcc = cov_ytyp / np.sqrt(cov_ytyt * cov_ypyp)\n",
      "/home/shihab/anaconda3/envs/ana/lib/python3.7/site-packages/sklearn/metrics/_classification.py:896: RuntimeWarning: invalid value encountered in double_scalars\n",
      "  mcc = cov_ytyp / np.sqrt(cov_ytyt * cov_ypyp)\n",
      "/home/shihab/anaconda3/envs/ana/lib/python3.7/site-packages/sklearn/metrics/_classification.py:896: RuntimeWarning: invalid value encountered in double_scalars\n",
      "  mcc = cov_ytyp / np.sqrt(cov_ytyt * cov_ypyp)\n"
     ]
    },
    {
     "name": "stdout",
     "output_type": "stream",
     "text": [
      "6.81 [0.096, 0.469]\n",
      "('tomek', 'rf')\n"
     ]
    },
    {
     "name": "stderr",
     "output_type": "stream",
     "text": [
      "/home/shihab/anaconda3/envs/ana/lib/python3.7/site-packages/sklearn/metrics/_classification.py:896: RuntimeWarning: invalid value encountered in double_scalars\n",
      "  mcc = cov_ytyp / np.sqrt(cov_ytyt * cov_ypyp)\n"
     ]
    },
    {
     "name": "stdout",
     "output_type": "stream",
     "text": [
      "ERROR!!! Pos class completely filtered out\n",
      "ERROR!!! Pos class completely filtered out\n",
      "ERROR!!! Pos class completely filtered out\n",
      "ERROR!!! Pos class completely filtered out\n"
     ]
    },
    {
     "name": "stderr",
     "output_type": "stream",
     "text": [
      "/home/shihab/anaconda3/envs/ana/lib/python3.7/site-packages/sklearn/metrics/_classification.py:896: RuntimeWarning: invalid value encountered in double_scalars\n",
      "  mcc = cov_ytyp / np.sqrt(cov_ytyt * cov_ypyp)\n",
      "/home/shihab/anaconda3/envs/ana/lib/python3.7/site-packages/sklearn/metrics/_classification.py:896: RuntimeWarning: invalid value encountered in double_scalars\n",
      "  mcc = cov_ytyp / np.sqrt(cov_ytyt * cov_ypyp)\n"
     ]
    },
    {
     "name": "stdout",
     "output_type": "stream",
     "text": [
      "7.3 [0.14, 0.468]\n",
      "('None', 'dt')\n"
     ]
    },
    {
     "name": "stderr",
     "output_type": "stream",
     "text": [
      "/home/shihab/anaconda3/envs/ana/lib/python3.7/site-packages/sklearn/metrics/_classification.py:896: RuntimeWarning: invalid value encountered in double_scalars\n",
      "  mcc = cov_ytyp / np.sqrt(cov_ytyt * cov_ypyp)\n"
     ]
    },
    {
     "name": "stdout",
     "output_type": "stream",
     "text": [
      "ERROR!!! Pos class completely filtered out\n",
      "ERROR!!! Pos class completely filtered out\n",
      "ERROR!!! Pos class completely filtered out\n",
      "ERROR!!! Pos class completely filtered out\n",
      "ERROR!!! Pos class completely filtered out\n",
      "0.88 [0.164, 0.483]\n",
      "('None', 'lr')\n",
      "ERROR!!! Pos class completely filtered out\n"
     ]
    },
    {
     "name": "stderr",
     "output_type": "stream",
     "text": [
      "/home/shihab/anaconda3/envs/ana/lib/python3.7/site-packages/sklearn/metrics/_classification.py:896: RuntimeWarning: invalid value encountered in double_scalars\n",
      "  mcc = cov_ytyp / np.sqrt(cov_ytyt * cov_ypyp)\n"
     ]
    },
    {
     "name": "stdout",
     "output_type": "stream",
     "text": [
      "ERROR!!! Pos class completely filtered out\n",
      "ERROR!!! Pos class completely filtered out\n"
     ]
    },
    {
     "name": "stderr",
     "output_type": "stream",
     "text": [
      "/home/shihab/anaconda3/envs/ana/lib/python3.7/site-packages/sklearn/metrics/_classification.py:896: RuntimeWarning: invalid value encountered in double_scalars\n",
      "  mcc = cov_ytyp / np.sqrt(cov_ytyt * cov_ypyp)\n"
     ]
    },
    {
     "name": "stdout",
     "output_type": "stream",
     "text": [
      "ERROR!!! Pos class completely filtered out\n",
      "ERROR!!! Pos class completely filtered out\n",
      "ERROR!!! Pos class completely filtered out\n",
      "1.81 [0.135, 0.464]\n",
      "('None', 'nb')\n",
      "ERROR!!! Pos class completely filtered out\n",
      "ERROR!!! Pos class completely filtered out\n"
     ]
    },
    {
     "name": "stderr",
     "output_type": "stream",
     "text": [
      "/home/shihab/anaconda3/envs/ana/lib/python3.7/site-packages/sklearn/metrics/_classification.py:896: RuntimeWarning: invalid value encountered in double_scalars\n",
      "  mcc = cov_ytyp / np.sqrt(cov_ytyt * cov_ypyp)\n",
      "/home/shihab/anaconda3/envs/ana/lib/python3.7/site-packages/sklearn/metrics/_classification.py:896: RuntimeWarning: invalid value encountered in double_scalars\n",
      "  mcc = cov_ytyp / np.sqrt(cov_ytyt * cov_ypyp)\n"
     ]
    },
    {
     "name": "stdout",
     "output_type": "stream",
     "text": [
      "ERROR!!! Pos class completely filtered out\n",
      "ERROR!!! Pos class completely filtered out\n",
      "ERROR!!! Pos class completely filtered out\n",
      "ERROR!!! Pos class completely filtered out\n"
     ]
    },
    {
     "name": "stderr",
     "output_type": "stream",
     "text": [
      "/home/shihab/anaconda3/envs/ana/lib/python3.7/site-packages/sklearn/metrics/_classification.py:896: RuntimeWarning: invalid value encountered in double_scalars\n",
      "  mcc = cov_ytyp / np.sqrt(cov_ytyt * cov_ypyp)\n"
     ]
    },
    {
     "name": "stdout",
     "output_type": "stream",
     "text": [
      "ERROR!!! Pos class completely filtered out\n",
      "ERROR!!! Pos class completely filtered out\n",
      "ERROR!!! Pos class completely filtered out\n",
      "ERROR!!! Pos class completely filtered out\n",
      "0.8 [0.237, 0.463]\n",
      "('None', 'svm')\n"
     ]
    },
    {
     "name": "stderr",
     "output_type": "stream",
     "text": [
      "/home/shihab/anaconda3/envs/ana/lib/python3.7/site-packages/sklearn/metrics/_classification.py:896: RuntimeWarning: invalid value encountered in double_scalars\n",
      "  mcc = cov_ytyp / np.sqrt(cov_ytyt * cov_ypyp)\n"
     ]
    },
    {
     "name": "stdout",
     "output_type": "stream",
     "text": [
      "ERROR!!! Pos class completely filtered out\n",
      "ERROR!!! Pos class completely filtered out\n",
      "ERROR!!! Pos class completely filtered out\n"
     ]
    },
    {
     "name": "stderr",
     "output_type": "stream",
     "text": [
      "/home/shihab/anaconda3/envs/ana/lib/python3.7/site-packages/sklearn/metrics/_classification.py:896: RuntimeWarning: invalid value encountered in double_scalars\n",
      "  mcc = cov_ytyp / np.sqrt(cov_ytyt * cov_ypyp)\n"
     ]
    },
    {
     "name": "stdout",
     "output_type": "stream",
     "text": [
      "ERROR!!! Pos class completely filtered out\n",
      "ERROR!!! Pos class completely filtered out\n",
      "ERROR!!! Pos class completely filtered out\n"
     ]
    },
    {
     "name": "stderr",
     "output_type": "stream",
     "text": [
      "/home/shihab/anaconda3/envs/ana/lib/python3.7/site-packages/sklearn/metrics/_classification.py:896: RuntimeWarning: invalid value encountered in double_scalars\n",
      "  mcc = cov_ytyp / np.sqrt(cov_ytyt * cov_ypyp)\n"
     ]
    },
    {
     "name": "stdout",
     "output_type": "stream",
     "text": [
      "ERROR!!! Pos class completely filtered out\n",
      "1.65 [0.145, 0.253]\n",
      "('None', 'knn')\n"
     ]
    },
    {
     "name": "stderr",
     "output_type": "stream",
     "text": [
      "/home/shihab/anaconda3/envs/ana/lib/python3.7/site-packages/sklearn/metrics/_classification.py:896: RuntimeWarning: invalid value encountered in double_scalars\n",
      "  mcc = cov_ytyp / np.sqrt(cov_ytyt * cov_ypyp)\n",
      "/home/shihab/anaconda3/envs/ana/lib/python3.7/site-packages/sklearn/metrics/_classification.py:896: RuntimeWarning: invalid value encountered in double_scalars\n",
      "  mcc = cov_ytyp / np.sqrt(cov_ytyt * cov_ypyp)\n"
     ]
    },
    {
     "name": "stdout",
     "output_type": "stream",
     "text": [
      "ERROR!!! Pos class completely filtered out\n",
      "ERROR!!! Pos class completely filtered out\n",
      "ERROR!!! Pos class completely filtered out\n"
     ]
    },
    {
     "name": "stderr",
     "output_type": "stream",
     "text": [
      "/home/shihab/anaconda3/envs/ana/lib/python3.7/site-packages/sklearn/metrics/_classification.py:896: RuntimeWarning: invalid value encountered in double_scalars\n",
      "  mcc = cov_ytyp / np.sqrt(cov_ytyt * cov_ypyp)\n",
      "/home/shihab/anaconda3/envs/ana/lib/python3.7/site-packages/sklearn/metrics/_classification.py:896: RuntimeWarning: invalid value encountered in double_scalars\n",
      "  mcc = cov_ytyp / np.sqrt(cov_ytyt * cov_ypyp)\n"
     ]
    },
    {
     "name": "stdout",
     "output_type": "stream",
     "text": [
      "ERROR!!! Pos class completely filtered out\n",
      "ERROR!!! Pos class completely filtered out\n",
      "ERROR!!! Pos class completely filtered out\n"
     ]
    },
    {
     "name": "stderr",
     "output_type": "stream",
     "text": [
      "/home/shihab/anaconda3/envs/ana/lib/python3.7/site-packages/sklearn/metrics/_classification.py:896: RuntimeWarning: invalid value encountered in double_scalars\n",
      "  mcc = cov_ytyp / np.sqrt(cov_ytyt * cov_ypyp)\n",
      "/home/shihab/anaconda3/envs/ana/lib/python3.7/site-packages/sklearn/metrics/_classification.py:896: RuntimeWarning: invalid value encountered in double_scalars\n",
      "  mcc = cov_ytyp / np.sqrt(cov_ytyt * cov_ypyp)\n",
      "/home/shihab/anaconda3/envs/ana/lib/python3.7/site-packages/sklearn/metrics/_classification.py:896: RuntimeWarning: invalid value encountered in double_scalars\n",
      "  mcc = cov_ytyp / np.sqrt(cov_ytyt * cov_ypyp)\n",
      "/home/shihab/anaconda3/envs/ana/lib/python3.7/site-packages/sklearn/metrics/_classification.py:896: RuntimeWarning: invalid value encountered in double_scalars\n",
      "  mcc = cov_ytyp / np.sqrt(cov_ytyt * cov_ypyp)\n"
     ]
    },
    {
     "name": "stdout",
     "output_type": "stream",
     "text": [
      "2.05 [0.068, 0.496]\n",
      "('None', 'rf')\n",
      "ERROR!!! Pos class completely filtered out\n"
     ]
    },
    {
     "name": "stderr",
     "output_type": "stream",
     "text": [
      "/home/shihab/anaconda3/envs/ana/lib/python3.7/site-packages/sklearn/metrics/_classification.py:896: RuntimeWarning: invalid value encountered in double_scalars\n",
      "  mcc = cov_ytyp / np.sqrt(cov_ytyt * cov_ypyp)\n",
      "/home/shihab/anaconda3/envs/ana/lib/python3.7/site-packages/sklearn/metrics/_classification.py:896: RuntimeWarning: invalid value encountered in double_scalars\n",
      "  mcc = cov_ytyp / np.sqrt(cov_ytyt * cov_ypyp)\n"
     ]
    },
    {
     "name": "stdout",
     "output_type": "stream",
     "text": [
      "ERROR!!! Pos class completely filtered out\n",
      "ERROR!!! Pos class completely filtered out\n"
     ]
    },
    {
     "name": "stderr",
     "output_type": "stream",
     "text": [
      "/home/shihab/anaconda3/envs/ana/lib/python3.7/site-packages/sklearn/metrics/_classification.py:896: RuntimeWarning: invalid value encountered in double_scalars\n",
      "  mcc = cov_ytyp / np.sqrt(cov_ytyt * cov_ypyp)\n",
      "/home/shihab/anaconda3/envs/ana/lib/python3.7/site-packages/sklearn/metrics/_classification.py:896: RuntimeWarning: invalid value encountered in double_scalars\n",
      "  mcc = cov_ytyp / np.sqrt(cov_ytyt * cov_ypyp)\n"
     ]
    },
    {
     "name": "stdout",
     "output_type": "stream",
     "text": [
      "2.66 [0.132, 0.45]\n",
      "('ens', 'rboost_DT')\n",
      "1.46 [0.32, 0.5]\n",
      "('ens', 'rboost_NB')\n",
      "1.66 [0.37, 0.543]\n",
      "('ens', 'bbag_DT')\n",
      "24.64 [0.335, 0.457]\n",
      "('ens', 'bbag_NB')\n",
      "24.36 [0.362, 0.499]\n",
      "\n",
      "wicket-1.3.0-beta2.csv noise:0.184, imb:4.780,305,1458, Shape:(1763, 65)\n",
      "('smote', 'dt')\n",
      "1.57 [0.277, 0.443]\n",
      "('smote', 'lr')\n",
      "2.94 [0.282, 0.323]\n",
      "('smote', 'nb')\n",
      "1.38 [0.295, 0.454]\n",
      "('smote', 'svm')\n",
      "6.4 [0.285, 0.278]\n",
      "('smote', 'knn')\n",
      "2.09 [0.283, 0.437]\n",
      "('smote', 'rf')\n",
      "4.0 [0.285, 0.394]\n",
      "('rus', 'dt')\n",
      "0.48 [0.274, 0.464]\n",
      "('rus', 'lr')\n",
      "0.96 [0.281, 0.326]\n",
      "('rus', 'nb')\n",
      "0.5 [0.295, 0.459]\n",
      "('rus', 'svm')\n",
      "0.8 [0.292, 0.297]\n",
      "('rus', 'knn')\n",
      "0.67 [0.289, 0.436]\n",
      "('rus', 'rf')\n",
      "1.84 [0.282, 0.406]\n",
      "('wilson', 'dt')\n",
      "2.81 [0.279, 0.429]\n",
      "('wilson', 'lr')\n",
      "3.84 [0.292, 0.327]\n",
      "('wilson', 'nb')\n",
      "2.9 [0.294, 0.453]\n",
      "('wilson', 'svm')\n",
      "3.75 [0.289, 0.289]\n",
      "('wilson', 'knn')\n",
      "3.37 [0.299, 0.41]\n",
      "('wilson', 'rf')\n",
      "4.32 [0.283, 0.381]\n",
      "('tomek', 'dt')\n",
      "2.93 [0.264, 0.35]\n",
      "('tomek', 'lr')\n",
      "3.98 [0.283, 0.328]\n",
      "('tomek', 'nb')\n",
      "2.92 [0.302, 0.403]\n",
      "('tomek', 'svm')\n",
      "3.75 [0.294, 0.303]\n",
      "('tomek', 'knn')\n",
      "3.5 [0.277, 0.346]\n",
      "('tomek', 'rf')\n",
      "4.46 [0.279, 0.342]\n",
      "('None', 'dt')\n",
      "0.66 [0.254, 0.338]\n",
      "('None', 'lr')\n",
      "1.39 [0.286, 0.332]\n",
      "('None', 'nb')\n",
      "0.67 [0.297, 0.393]\n",
      "('None', 'svm')\n",
      "1.5 [0.291, 0.285]\n",
      "('None', 'knn')\n",
      "1.32 [0.289, 0.347]\n",
      "('None', 'rf')\n",
      "2.23 [0.268, 0.331]\n",
      "('ens', 'rboost_DT')\n",
      "1.74 [0.28, 0.44]\n",
      "('ens', 'rboost_NB')\n",
      "1.53 [0.292, 0.482]\n",
      "('ens', 'bbag_DT')\n",
      "23.22 [0.279, 0.374]\n",
      "('ens', 'bbag_NB')\n",
      "23.17 [0.297, 0.418]\n",
      "\n",
      "hive-0.12.0.csv noise:0.087, imb:56.870,46,2616, Shape:(2662, 65)\n",
      "('smote', 'dt')\n",
      "2.73 [0.071, 0.24]\n",
      "('smote', 'lr')\n",
      "7.55 [0.111, 0.133]\n",
      "('smote', 'nb')\n",
      "2.57 [0.169, 0.258]\n",
      "('smote', 'svm')\n",
      "44.68 [0.149, 0.148]\n",
      "('smote', 'knn')\n",
      "4.15 [0.157, 0.228]\n",
      "('smote', 'rf')\n",
      "9.69 [0.111, 0.152]\n",
      "('rus', 'dt')\n",
      "ERROR!!! Pos class completely filtered out\n",
      "ERROR!!! Pos class completely filtered out\n",
      "ERROR!!! Pos class completely filtered out\n",
      "0.6 [0.139, 0.368]\n",
      "('rus', 'lr')\n",
      "ERROR!!! Pos class completely filtered out\n",
      "ERROR!!! Pos class completely filtered out\n",
      "ERROR!!! Pos class completely filtered out\n",
      "0.86 [0.165, 0.174]\n",
      "('rus', 'nb')\n",
      "ERROR!!! Pos class completely filtered out\n",
      "ERROR!!! Pos class completely filtered out\n",
      "ERROR!!! Pos class completely filtered out\n",
      "ERROR!!! Pos class completely filtered out\n",
      "ERROR!!! Pos class completely filtered out\n",
      "ERROR!!! Pos class completely filtered out\n",
      "ERROR!!! Pos class completely filtered out\n",
      "0.61 [0.145, 0.365]\n",
      "('rus', 'svm')\n",
      "ERROR!!! Pos class completely filtered out\n",
      "ERROR!!! Pos class completely filtered out\n",
      "ERROR!!! Pos class completely filtered out\n",
      "ERROR!!! Pos class completely filtered out\n",
      "0.68 [0.175, 0.197]\n",
      "('rus', 'knn')\n",
      "ERROR!!! Pos class completely filtered out\n",
      "ERROR!!! Pos class completely filtered out\n",
      "ERROR!!! Pos class completely filtered out\n",
      "ERROR!!! Pos class completely filtered out\n",
      "0.63 [0.171, 0.331]\n",
      "('rus', 'rf')\n",
      "ERROR!!! Pos class completely filtered out\n",
      "ERROR!!! Pos class completely filtered out\n",
      "ERROR!!! Pos class completely filtered out\n",
      "ERROR!!! Pos class completely filtered out\n",
      "ERROR!!! Pos class completely filtered out\n",
      "ERROR!!! Pos class completely filtered out\n",
      "1.61 [0.12, 0.22]\n",
      "('wilson', 'dt')\n",
      "ERROR!!! Pos class completely filtered out\n",
      "ERROR!!! Pos class completely filtered out\n",
      "ERROR!!! Pos class completely filtered out\n",
      "ERROR!!! Pos class completely filtered out\n",
      "ERROR!!! Pos class completely filtered out\n",
      "ERROR!!! Pos class completely filtered out\n",
      "ERROR!!! Pos class completely filtered out\n",
      "ERROR!!! Pos class completely filtered out\n",
      "ERROR!!! Pos class completely filtered out\n",
      "ERROR!!! Pos class completely filtered out\n",
      "ERROR!!! Pos class completely filtered out\n",
      "ERROR!!! Pos class completely filtered out\n",
      "ERROR!!! Pos class completely filtered out\n",
      "ERROR!!! Pos class completely filtered out\n",
      "ERROR!!! Pos class completely filtered out\n",
      "ERROR!!! Pos class completely filtered out\n",
      "ERROR!!! Pos class completely filtered out\n",
      "ERROR!!! Pos class completely filtered out\n",
      "ERROR!!! Pos class completely filtered out\n",
      "ERROR!!! Pos class completely filtered out\n",
      "ERROR!!! Pos class completely filtered out\n",
      "ERROR!!! Pos class completely filtered out\n",
      "ERROR!!! Pos class completely filtered out\n",
      "ERROR!!! Pos class completely filtered out\n",
      "5.73 [0.074, 0.216]\n",
      "('wilson', 'lr')\n",
      "ERROR!!! Pos class completely filtered out\n",
      "ERROR!!! Pos class completely filtered out\n",
      "ERROR!!! Pos class completely filtered out\n",
      "ERROR!!! Pos class completely filtered out\n",
      "ERROR!!! Pos class completely filtered out\n",
      "ERROR!!! Pos class completely filtered out\n",
      "ERROR!!! Pos class completely filtered out\n",
      "ERROR!!! Pos class completely filtered out\n",
      "ERROR!!! Pos class completely filtered out\n",
      "ERROR!!! Pos class completely filtered out\n",
      "ERROR!!! Pos class completely filtered out\n",
      "ERROR!!! Pos class completely filtered out\n",
      "ERROR!!! Pos class completely filtered out\n",
      "ERROR!!! Pos class completely filtered out\n",
      "ERROR!!! Pos class completely filtered out\n",
      "ERROR!!! Pos class completely filtered out\n",
      "ERROR!!! Pos class completely filtered out\n",
      "ERROR!!! Pos class completely filtered out\n",
      "ERROR!!! Pos class completely filtered out\n",
      "ERROR!!! Pos class completely filtered out\n",
      "ERROR!!! Pos class completely filtered out\n",
      "ERROR!!! Pos class completely filtered out\n",
      "ERROR!!! Pos class completely filtered out\n",
      "ERROR!!! Pos class completely filtered out\n",
      "5.81 [-0.012, 0.122]\n",
      "('wilson', 'nb')\n",
      "ERROR!!! Pos class completely filtered out\n",
      "ERROR!!! Pos class completely filtered out\n",
      "ERROR!!! Pos class completely filtered out\n",
      "ERROR!!! Pos class completely filtered out\n",
      "ERROR!!! Pos class completely filtered out\n",
      "ERROR!!! Pos class completely filtered out\n",
      "ERROR!!! Pos class completely filtered out\n",
      "ERROR!!! Pos class completely filtered out\n",
      "ERROR!!! Pos class completely filtered out\n",
      "ERROR!!! Pos class completely filtered out\n",
      "ERROR!!! Pos class completely filtered out\n",
      "ERROR!!! Pos class completely filtered out\n",
      "ERROR!!! Pos class completely filtered out\n",
      "ERROR!!! Pos class completely filtered out\n",
      "ERROR!!! Pos class completely filtered out\n",
      "ERROR!!! Pos class completely filtered out\n",
      "ERROR!!! Pos class completely filtered out\n",
      "ERROR!!! Pos class completely filtered out\n",
      "ERROR!!! Pos class completely filtered out\n",
      "ERROR!!! Pos class completely filtered out\n",
      "ERROR!!! Pos class completely filtered out\n",
      "ERROR!!! Pos class completely filtered out\n",
      "ERROR!!! Pos class completely filtered out\n",
      "5.76 [0.101, 0.185]\n",
      "('wilson', 'svm')\n",
      "ERROR!!! Pos class completely filtered out\n",
      "ERROR!!! Pos class completely filtered out\n",
      "ERROR!!! Pos class completely filtered out\n",
      "ERROR!!! Pos class completely filtered out\n",
      "ERROR!!! Pos class completely filtered out\n",
      "ERROR!!! Pos class completely filtered out\n",
      "ERROR!!! Pos class completely filtered out\n",
      "ERROR!!! Pos class completely filtered out\n",
      "ERROR!!! Pos class completely filtered out\n",
      "ERROR!!! Pos class completely filtered out\n",
      "ERROR!!! Pos class completely filtered out\n",
      "ERROR!!! Pos class completely filtered out\n",
      "ERROR!!! Pos class completely filtered out\n",
      "ERROR!!! Pos class completely filtered out\n",
      "ERROR!!! Pos class completely filtered out\n",
      "ERROR!!! Pos class completely filtered out\n",
      "ERROR!!! Pos class completely filtered out\n",
      "ERROR!!! Pos class completely filtered out\n",
      "ERROR!!! Pos class completely filtered out\n",
      "ERROR!!! Pos class completely filtered out\n",
      "ERROR!!! Pos class completely filtered out\n",
      "ERROR!!! Pos class completely filtered out\n",
      "ERROR!!! Pos class completely filtered out\n",
      "ERROR!!! Pos class completely filtered out\n",
      "ERROR!!! Pos class completely filtered out\n",
      "5.69 [0.0, 0.0]\n",
      "('wilson', 'knn')\n",
      "ERROR!!! Pos class completely filtered out\n",
      "ERROR!!! Pos class completely filtered out\n"
     ]
    },
    {
     "name": "stderr",
     "output_type": "stream",
     "text": [
      "/home/shihab/anaconda3/envs/ana/lib/python3.7/site-packages/sklearn/metrics/_classification.py:896: RuntimeWarning: invalid value encountered in double_scalars\n",
      "  mcc = cov_ytyp / np.sqrt(cov_ytyt * cov_ypyp)\n"
     ]
    },
    {
     "name": "stdout",
     "output_type": "stream",
     "text": [
      "ERROR!!! Pos class completely filtered out\n",
      "ERROR!!! Pos class completely filtered out\n",
      "ERROR!!! Pos class completely filtered out\n",
      "ERROR!!! Pos class completely filtered out\n",
      "ERROR!!! Pos class completely filtered out\n",
      "ERROR!!! Pos class completely filtered out\n",
      "ERROR!!! Pos class completely filtered out\n",
      "ERROR!!! Pos class completely filtered out\n",
      "ERROR!!! Pos class completely filtered out\n",
      "ERROR!!! Pos class completely filtered out\n",
      "ERROR!!! Pos class completely filtered out\n",
      "ERROR!!! Pos class completely filtered out\n",
      "ERROR!!! Pos class completely filtered out\n",
      "ERROR!!! Pos class completely filtered out\n",
      "ERROR!!! Pos class completely filtered out\n",
      "ERROR!!! Pos class completely filtered out\n",
      "ERROR!!! Pos class completely filtered out\n",
      "ERROR!!! Pos class completely filtered out\n",
      "ERROR!!! Pos class completely filtered out\n",
      "ERROR!!! Pos class completely filtered out\n",
      "ERROR!!! Pos class completely filtered out\n",
      "ERROR!!! Pos class completely filtered out\n",
      "5.63 [0.0, 0.548]\n",
      "('wilson', 'rf')\n",
      "ERROR!!! Pos class completely filtered out\n",
      "ERROR!!! Pos class completely filtered out\n",
      "ERROR!!! Pos class completely filtered out\n",
      "ERROR!!! Pos class completely filtered out\n",
      "ERROR!!! Pos class completely filtered out\n",
      "ERROR!!! Pos class completely filtered out\n",
      "ERROR!!! Pos class completely filtered out\n",
      "ERROR!!! Pos class completely filtered out\n",
      "ERROR!!! Pos class completely filtered out\n",
      "ERROR!!! Pos class completely filtered out\n",
      "ERROR!!! Pos class completely filtered out\n",
      "ERROR!!! Pos class completely filtered out\n",
      "ERROR!!! Pos class completely filtered out\n",
      "ERROR!!! Pos class completely filtered out\n",
      "ERROR!!! Pos class completely filtered out\n",
      "ERROR!!! Pos class completely filtered out\n",
      "ERROR!!! Pos class completely filtered out\n",
      "ERROR!!! Pos class completely filtered out\n",
      "ERROR!!! Pos class completely filtered out\n",
      "ERROR!!! Pos class completely filtered out\n",
      "ERROR!!! Pos class completely filtered out\n",
      "ERROR!!! Pos class completely filtered out\n",
      "ERROR!!! Pos class completely filtered out\n",
      "ERROR!!! Pos class completely filtered out\n"
     ]
    },
    {
     "name": "stderr",
     "output_type": "stream",
     "text": [
      "/home/shihab/anaconda3/envs/ana/lib/python3.7/site-packages/sklearn/metrics/_classification.py:896: RuntimeWarning: invalid value encountered in double_scalars\n",
      "  mcc = cov_ytyp / np.sqrt(cov_ytyt * cov_ypyp)\n"
     ]
    },
    {
     "name": "stdout",
     "output_type": "stream",
     "text": [
      "5.63 [0.0, 0.153]\n",
      "('tomek', 'dt')\n",
      "ERROR!!! Pos class completely filtered out\n",
      "ERROR!!! Pos class completely filtered out\n"
     ]
    },
    {
     "name": "stderr",
     "output_type": "stream",
     "text": [
      "/home/shihab/anaconda3/envs/ana/lib/python3.7/site-packages/sklearn/metrics/_classification.py:896: RuntimeWarning: invalid value encountered in double_scalars\n",
      "  mcc = cov_ytyp / np.sqrt(cov_ytyt * cov_ypyp)\n"
     ]
    },
    {
     "name": "stdout",
     "output_type": "stream",
     "text": [
      "ERROR!!! Pos class completely filtered out\n",
      "ERROR!!! Pos class completely filtered out\n",
      "ERROR!!! Pos class completely filtered out\n",
      "ERROR!!! Pos class completely filtered out\n",
      "ERROR!!! Pos class completely filtered out\n",
      "ERROR!!! Pos class completely filtered out\n",
      "ERROR!!! Pos class completely filtered out\n",
      "ERROR!!! Pos class completely filtered out\n",
      "ERROR!!! Pos class completely filtered out\n",
      "ERROR!!! Pos class completely filtered out\n",
      "ERROR!!! Pos class completely filtered out\n",
      "ERROR!!! Pos class completely filtered out\n",
      "ERROR!!! Pos class completely filtered out\n",
      "ERROR!!! Pos class completely filtered out\n",
      "ERROR!!! Pos class completely filtered out\n",
      "ERROR!!! Pos class completely filtered out\n",
      "ERROR!!! Pos class completely filtered out\n",
      "ERROR!!! Pos class completely filtered out\n",
      "ERROR!!! Pos class completely filtered out\n",
      "ERROR!!! Pos class completely filtered out\n",
      "ERROR!!! Pos class completely filtered out\n",
      "ERROR!!! Pos class completely filtered out\n",
      "4.1 [0.0, 0.548]\n",
      "('tomek', 'lr')\n",
      "ERROR!!! Pos class completely filtered out\n",
      "ERROR!!! Pos class completely filtered out\n",
      "ERROR!!! Pos class completely filtered out\n",
      "ERROR!!! Pos class completely filtered out\n",
      "ERROR!!! Pos class completely filtered out\n",
      "ERROR!!! Pos class completely filtered out\n",
      "ERROR!!! Pos class completely filtered out\n",
      "ERROR!!! Pos class completely filtered out\n",
      "ERROR!!! Pos class completely filtered out\n",
      "ERROR!!! Pos class completely filtered out\n",
      "ERROR!!! Pos class completely filtered out\n",
      "ERROR!!! Pos class completely filtered out\n",
      "ERROR!!! Pos class completely filtered out\n"
     ]
    },
    {
     "name": "stderr",
     "output_type": "stream",
     "text": [
      "/home/shihab/anaconda3/envs/ana/lib/python3.7/site-packages/sklearn/metrics/_classification.py:896: RuntimeWarning: invalid value encountered in double_scalars\n",
      "  mcc = cov_ytyp / np.sqrt(cov_ytyt * cov_ypyp)\n"
     ]
    },
    {
     "name": "stdout",
     "output_type": "stream",
     "text": [
      "ERROR!!! Pos class completely filtered out\n",
      "ERROR!!! Pos class completely filtered out\n",
      "ERROR!!! Pos class completely filtered out\n",
      "ERROR!!! Pos class completely filtered out\n",
      "ERROR!!! Pos class completely filtered out\n",
      "ERROR!!! Pos class completely filtered out\n",
      "ERROR!!! Pos class completely filtered out\n",
      "ERROR!!! Pos class completely filtered out\n",
      "ERROR!!! Pos class completely filtered out\n",
      "ERROR!!! Pos class completely filtered out\n",
      "ERROR!!! Pos class completely filtered out\n",
      "3.98 [0.0, 0.274]\n",
      "('tomek', 'nb')\n",
      "ERROR!!! Pos class completely filtered out\n",
      "ERROR!!! Pos class completely filtered out\n",
      "ERROR!!! Pos class completely filtered out\n",
      "ERROR!!! Pos class completely filtered out\n",
      "ERROR!!! Pos class completely filtered out\n",
      "ERROR!!! Pos class completely filtered out\n",
      "ERROR!!! Pos class completely filtered out\n",
      "ERROR!!! Pos class completely filtered out\n",
      "ERROR!!! Pos class completely filtered out\n",
      "ERROR!!! Pos class completely filtered out\n",
      "ERROR!!! Pos class completely filtered out\n",
      "ERROR!!! Pos class completely filtered out\n",
      "ERROR!!! Pos class completely filtered out\n",
      "ERROR!!! Pos class completely filtered out\n",
      "ERROR!!! Pos class completely filtered out\n",
      "ERROR!!! Pos class completely filtered out\n",
      "ERROR!!! Pos class completely filtered out\n",
      "ERROR!!! Pos class completely filtered out\n",
      "ERROR!!! Pos class completely filtered out\n",
      "ERROR!!! Pos class completely filtered out\n",
      "ERROR!!! Pos class completely filtered out\n",
      "ERROR!!! Pos class completely filtered out\n",
      "ERROR!!! Pos class completely filtered out\n",
      "ERROR!!! Pos class completely filtered out\n",
      "ERROR!!! Pos class completely filtered out\n",
      "4.15 [0.0, 0.0]\n",
      "('tomek', 'svm')\n",
      "ERROR!!! Pos class completely filtered out\n",
      "ERROR!!! Pos class completely filtered out\n",
      "ERROR!!! Pos class completely filtered out\n",
      "ERROR!!! Pos class completely filtered out\n",
      "ERROR!!! Pos class completely filtered out\n",
      "ERROR!!! Pos class completely filtered out\n",
      "ERROR!!! Pos class completely filtered out\n",
      "ERROR!!! Pos class completely filtered out\n",
      "ERROR!!! Pos class completely filtered out\n",
      "ERROR!!! Pos class completely filtered out\n",
      "ERROR!!! Pos class completely filtered out\n",
      "ERROR!!! Pos class completely filtered out\n",
      "ERROR!!! Pos class completely filtered out\n",
      "ERROR!!! Pos class completely filtered out\n",
      "ERROR!!! Pos class completely filtered out\n",
      "ERROR!!! Pos class completely filtered out\n",
      "ERROR!!! Pos class completely filtered out\n",
      "ERROR!!! Pos class completely filtered out\n",
      "ERROR!!! Pos class completely filtered out\n",
      "ERROR!!! Pos class completely filtered out\n",
      "ERROR!!! Pos class completely filtered out\n",
      "ERROR!!! Pos class completely filtered out\n",
      "ERROR!!! Pos class completely filtered out\n",
      "ERROR!!! Pos class completely filtered out\n",
      "ERROR!!! Pos class completely filtered out\n",
      "3.96 [0.0, 0.0]\n",
      "('tomek', 'knn')\n",
      "ERROR!!! Pos class completely filtered out\n",
      "ERROR!!! Pos class completely filtered out\n",
      "ERROR!!! Pos class completely filtered out\n",
      "ERROR!!! Pos class completely filtered out\n",
      "ERROR!!! Pos class completely filtered out\n",
      "ERROR!!! Pos class completely filtered out\n",
      "ERROR!!! Pos class completely filtered out\n",
      "ERROR!!! Pos class completely filtered out\n",
      "ERROR!!! Pos class completely filtered out\n",
      "ERROR!!! Pos class completely filtered out\n",
      "ERROR!!! Pos class completely filtered out\n",
      "ERROR!!! Pos class completely filtered out\n",
      "ERROR!!! Pos class completely filtered out\n",
      "ERROR!!! Pos class completely filtered out\n",
      "ERROR!!! Pos class completely filtered out\n",
      "ERROR!!! Pos class completely filtered out\n",
      "ERROR!!! Pos class completely filtered out\n",
      "ERROR!!! Pos class completely filtered out\n",
      "ERROR!!! Pos class completely filtered out\n",
      "ERROR!!! Pos class completely filtered out\n",
      "ERROR!!! Pos class completely filtered out\n",
      "ERROR!!! Pos class completely filtered out\n",
      "ERROR!!! Pos class completely filtered out\n",
      "ERROR!!! Pos class completely filtered out\n",
      "ERROR!!! Pos class completely filtered out\n",
      "4.08 [0.0, 0.0]\n",
      "('tomek', 'rf')\n",
      "ERROR!!! Pos class completely filtered out\n",
      "ERROR!!! Pos class completely filtered out\n",
      "ERROR!!! Pos class completely filtered out\n",
      "ERROR!!! Pos class completely filtered out\n",
      "ERROR!!! Pos class completely filtered out\n",
      "ERROR!!! Pos class completely filtered out\n",
      "ERROR!!! Pos class completely filtered out\n",
      "ERROR!!! Pos class completely filtered out\n",
      "ERROR!!! Pos class completely filtered out\n",
      "ERROR!!! Pos class completely filtered out\n",
      "ERROR!!! Pos class completely filtered out\n",
      "ERROR!!! Pos class completely filtered out\n",
      "ERROR!!! Pos class completely filtered out\n",
      "ERROR!!! Pos class completely filtered out\n",
      "ERROR!!! Pos class completely filtered out\n",
      "ERROR!!! Pos class completely filtered out\n",
      "ERROR!!! Pos class completely filtered out\n",
      "ERROR!!! Pos class completely filtered out\n",
      "ERROR!!! Pos class completely filtered out\n",
      "ERROR!!! Pos class completely filtered out\n",
      "ERROR!!! Pos class completely filtered out\n",
      "ERROR!!! Pos class completely filtered out\n",
      "ERROR!!! Pos class completely filtered out\n",
      "ERROR!!! Pos class completely filtered out\n",
      "ERROR!!! Pos class completely filtered out\n",
      "3.96 [0.0, 0.0]\n",
      "('None', 'dt')\n",
      "ERROR!!! Pos class completely filtered out\n",
      "ERROR!!! Pos class completely filtered out\n",
      "ERROR!!! Pos class completely filtered out\n",
      "ERROR!!! Pos class completely filtered out\n",
      "ERROR!!! Pos class completely filtered out\n",
      "ERROR!!! Pos class completely filtered out\n",
      "ERROR!!! Pos class completely filtered out\n",
      "ERROR!!! Pos class completely filtered out\n",
      "ERROR!!! Pos class completely filtered out\n",
      "ERROR!!! Pos class completely filtered out\n",
      "ERROR!!! Pos class completely filtered out\n",
      "ERROR!!! Pos class completely filtered out\n",
      "ERROR!!! Pos class completely filtered out\n",
      "ERROR!!! Pos class completely filtered out\n",
      "ERROR!!! Pos class completely filtered out\n",
      "ERROR!!! Pos class completely filtered out\n",
      "ERROR!!! Pos class completely filtered out\n",
      "ERROR!!! Pos class completely filtered out\n",
      "ERROR!!! Pos class completely filtered out\n",
      "ERROR!!! Pos class completely filtered out\n",
      "ERROR!!! Pos class completely filtered out\n",
      "ERROR!!! Pos class completely filtered out\n",
      "ERROR!!! Pos class completely filtered out\n",
      "ERROR!!! Pos class completely filtered out\n",
      "ERROR!!! Pos class completely filtered out\n",
      "0.56 [0.0, 0.0]\n",
      "('None', 'lr')\n",
      "ERROR!!! Pos class completely filtered out\n",
      "ERROR!!! Pos class completely filtered out\n",
      "ERROR!!! Pos class completely filtered out\n",
      "ERROR!!! Pos class completely filtered out\n",
      "ERROR!!! Pos class completely filtered out\n",
      "ERROR!!! Pos class completely filtered out\n",
      "ERROR!!! Pos class completely filtered out\n",
      "ERROR!!! Pos class completely filtered out\n",
      "ERROR!!! Pos class completely filtered out\n",
      "ERROR!!! Pos class completely filtered out\n",
      "ERROR!!! Pos class completely filtered out\n",
      "ERROR!!! Pos class completely filtered out\n",
      "ERROR!!! Pos class completely filtered out\n",
      "ERROR!!! Pos class completely filtered out\n",
      "ERROR!!! Pos class completely filtered out\n",
      "ERROR!!! Pos class completely filtered out\n",
      "ERROR!!! Pos class completely filtered out\n",
      "ERROR!!! Pos class completely filtered out\n",
      "ERROR!!! Pos class completely filtered out\n",
      "ERROR!!! Pos class completely filtered out\n",
      "ERROR!!! Pos class completely filtered out\n",
      "ERROR!!! Pos class completely filtered out\n",
      "ERROR!!! Pos class completely filtered out\n",
      "ERROR!!! Pos class completely filtered out\n",
      "ERROR!!! Pos class completely filtered out\n",
      "0.5 [0.0, 0.0]\n",
      "('None', 'nb')\n",
      "ERROR!!! Pos class completely filtered out\n",
      "ERROR!!! Pos class completely filtered out\n",
      "ERROR!!! Pos class completely filtered out\n",
      "ERROR!!! Pos class completely filtered out\n",
      "ERROR!!! Pos class completely filtered out\n",
      "ERROR!!! Pos class completely filtered out\n",
      "ERROR!!! Pos class completely filtered out\n",
      "ERROR!!! Pos class completely filtered out\n",
      "ERROR!!! Pos class completely filtered out\n",
      "ERROR!!! Pos class completely filtered out\n",
      "ERROR!!! Pos class completely filtered out\n",
      "ERROR!!! Pos class completely filtered out\n",
      "ERROR!!! Pos class completely filtered out\n",
      "ERROR!!! Pos class completely filtered out\n",
      "ERROR!!! Pos class completely filtered out\n",
      "ERROR!!! Pos class completely filtered out\n",
      "ERROR!!! Pos class completely filtered out\n",
      "ERROR!!! Pos class completely filtered out\n",
      "ERROR!!! Pos class completely filtered out\n",
      "ERROR!!! Pos class completely filtered out\n",
      "ERROR!!! Pos class completely filtered out\n",
      "ERROR!!! Pos class completely filtered out\n",
      "ERROR!!! Pos class completely filtered out\n",
      "ERROR!!! Pos class completely filtered out\n",
      "ERROR!!! Pos class completely filtered out\n",
      "0.5 [0.0, 0.0]\n",
      "('None', 'svm')\n",
      "ERROR!!! Pos class completely filtered out\n",
      "ERROR!!! Pos class completely filtered out\n",
      "ERROR!!! Pos class completely filtered out\n",
      "ERROR!!! Pos class completely filtered out\n",
      "ERROR!!! Pos class completely filtered out\n",
      "ERROR!!! Pos class completely filtered out\n",
      "ERROR!!! Pos class completely filtered out\n",
      "ERROR!!! Pos class completely filtered out\n",
      "ERROR!!! Pos class completely filtered out\n",
      "ERROR!!! Pos class completely filtered out\n",
      "ERROR!!! Pos class completely filtered out\n",
      "ERROR!!! Pos class completely filtered out\n",
      "ERROR!!! Pos class completely filtered out\n",
      "ERROR!!! Pos class completely filtered out\n",
      "ERROR!!! Pos class completely filtered out\n",
      "ERROR!!! Pos class completely filtered out\n",
      "ERROR!!! Pos class completely filtered out\n",
      "ERROR!!! Pos class completely filtered out\n",
      "ERROR!!! Pos class completely filtered out\n",
      "ERROR!!! Pos class completely filtered out\n",
      "ERROR!!! Pos class completely filtered out\n",
      "ERROR!!! Pos class completely filtered out\n",
      "ERROR!!! Pos class completely filtered out\n",
      "ERROR!!! Pos class completely filtered out\n",
      "ERROR!!! Pos class completely filtered out\n",
      "0.49 [0.0, 0.0]\n",
      "('None', 'knn')\n",
      "ERROR!!! Pos class completely filtered out\n",
      "ERROR!!! Pos class completely filtered out\n",
      "ERROR!!! Pos class completely filtered out\n",
      "ERROR!!! Pos class completely filtered out\n",
      "ERROR!!! Pos class completely filtered out\n",
      "ERROR!!! Pos class completely filtered out\n",
      "ERROR!!! Pos class completely filtered out\n",
      "ERROR!!! Pos class completely filtered out\n",
      "ERROR!!! Pos class completely filtered out\n",
      "ERROR!!! Pos class completely filtered out\n",
      "ERROR!!! Pos class completely filtered out\n",
      "ERROR!!! Pos class completely filtered out\n",
      "ERROR!!! Pos class completely filtered out\n",
      "ERROR!!! Pos class completely filtered out\n",
      "ERROR!!! Pos class completely filtered out\n",
      "ERROR!!! Pos class completely filtered out\n",
      "ERROR!!! Pos class completely filtered out\n",
      "ERROR!!! Pos class completely filtered out\n",
      "ERROR!!! Pos class completely filtered out\n",
      "ERROR!!! Pos class completely filtered out\n",
      "ERROR!!! Pos class completely filtered out\n",
      "ERROR!!! Pos class completely filtered out\n",
      "ERROR!!! Pos class completely filtered out\n",
      "ERROR!!! Pos class completely filtered out\n",
      "ERROR!!! Pos class completely filtered out\n",
      "0.51 [0.0, 0.0]\n",
      "('None', 'rf')\n",
      "ERROR!!! Pos class completely filtered out\n",
      "ERROR!!! Pos class completely filtered out\n",
      "ERROR!!! Pos class completely filtered out\n",
      "ERROR!!! Pos class completely filtered out\n",
      "ERROR!!! Pos class completely filtered out\n",
      "ERROR!!! Pos class completely filtered out\n",
      "ERROR!!! Pos class completely filtered out\n",
      "ERROR!!! Pos class completely filtered out\n",
      "ERROR!!! Pos class completely filtered out\n",
      "ERROR!!! Pos class completely filtered out\n",
      "ERROR!!! Pos class completely filtered out\n",
      "ERROR!!! Pos class completely filtered out\n",
      "ERROR!!! Pos class completely filtered out\n",
      "ERROR!!! Pos class completely filtered out\n",
      "ERROR!!! Pos class completely filtered out\n",
      "ERROR!!! Pos class completely filtered out\n",
      "ERROR!!! Pos class completely filtered out\n",
      "ERROR!!! Pos class completely filtered out\n",
      "ERROR!!! Pos class completely filtered out\n",
      "ERROR!!! Pos class completely filtered out\n",
      "ERROR!!! Pos class completely filtered out\n",
      "ERROR!!! Pos class completely filtered out\n",
      "ERROR!!! Pos class completely filtered out\n",
      "ERROR!!! Pos class completely filtered out\n",
      "ERROR!!! Pos class completely filtered out\n",
      "0.49 [0.0, 0.0]\n",
      "('ens', 'rboost_DT')\n",
      "ERROR!!! Pos class completely filtered out\n",
      "ERROR!!! BaseClassifier in AdaBoostClassifier ensemble is worse than random, ensemble can not be fit.\n",
      "ERROR!!! Pos class completely filtered out\n",
      "ERROR!!! Pos class completely filtered out\n",
      "ERROR!!! Pos class completely filtered out\n",
      "ERROR!!! Pos class completely filtered out\n",
      "ERROR!!! Pos class completely filtered out\n",
      "ERROR!!! BaseClassifier in AdaBoostClassifier ensemble is worse than random, ensemble can not be fit.\n",
      "1.63 [0.161, 0.312]\n",
      "('ens', 'rboost_NB')\n",
      "ERROR!!! Pos class completely filtered out\n",
      "ERROR!!! BaseClassifier in AdaBoostClassifier ensemble is worse than random, ensemble can not be fit.\n",
      "ERROR!!! Pos class completely filtered out\n",
      "ERROR!!! BaseClassifier in AdaBoostClassifier ensemble is worse than random, ensemble can not be fit.\n",
      "ERROR!!! BaseClassifier in AdaBoostClassifier ensemble is worse than random, ensemble can not be fit.\n",
      "ERROR!!! Pos class completely filtered out\n",
      "ERROR!!! BaseClassifier in AdaBoostClassifier ensemble is worse than random, ensemble can not be fit.\n",
      "ERROR!!! BaseClassifier in AdaBoostClassifier ensemble is worse than random, ensemble can not be fit.\n",
      "ERROR!!! BaseClassifier in AdaBoostClassifier ensemble is worse than random, ensemble can not be fit.\n",
      "ERROR!!! Pos class completely filtered out\n",
      "ERROR!!! Pos class completely filtered out\n",
      "ERROR!!! BaseClassifier in AdaBoostClassifier ensemble is worse than random, ensemble can not be fit.\n",
      "ERROR!!! Pos class completely filtered out\n",
      "ERROR!!! BaseClassifier in AdaBoostClassifier ensemble is worse than random, ensemble can not be fit.\n",
      "ERROR!!! Pos class completely filtered out\n",
      "ERROR!!! BaseClassifier in AdaBoostClassifier ensemble is worse than random, ensemble can not be fit.\n",
      "ERROR!!! Pos class completely filtered out\n",
      "ERROR!!! BaseClassifier in AdaBoostClassifier ensemble is worse than random, ensemble can not be fit.\n",
      "1.11 [0.149, 0.29]\n",
      "('ens', 'bbag_DT')\n",
      "ERROR!!! Pos class completely filtered out\n",
      "ERROR!!! Pos class completely filtered out\n",
      "ERROR!!! Pos class completely filtered out\n",
      "ERROR!!! Pos class completely filtered out\n",
      "ERROR!!! Pos class completely filtered out\n",
      "ERROR!!! Pos class completely filtered out\n",
      "ERROR!!! Pos class completely filtered out\n",
      "ERROR!!! Pos class completely filtered out\n",
      "ERROR!!! Pos class completely filtered out\n",
      "ERROR!!! Pos class completely filtered out\n",
      "ERROR!!! Pos class completely filtered out\n",
      "ERROR!!! Pos class completely filtered out\n",
      "ERROR!!! Pos class completely filtered out\n",
      "ERROR!!! Pos class completely filtered out\n",
      "ERROR!!! Pos class completely filtered out\n",
      "ERROR!!! Pos class completely filtered out\n",
      "ERROR!!! Pos class completely filtered out\n",
      "ERROR!!! Pos class completely filtered out\n",
      "ERROR!!! Pos class completely filtered out\n",
      "ERROR!!! Pos class completely filtered out\n",
      "ERROR!!! Pos class completely filtered out\n",
      "ERROR!!! Pos class completely filtered out\n",
      "ERROR!!! Pos class completely filtered out\n",
      "ERROR!!! Pos class completely filtered out\n",
      "6.74 [0.149, 0.196]\n",
      "('ens', 'bbag_NB')\n",
      "ERROR!!! Pos class completely filtered out\n",
      "ERROR!!! Pos class completely filtered out\n",
      "ERROR!!! Pos class completely filtered out\n",
      "ERROR!!! Pos class completely filtered out\n",
      "ERROR!!! Pos class completely filtered out\n",
      "ERROR!!! Pos class completely filtered out\n",
      "ERROR!!! Pos class completely filtered out\n",
      "ERROR!!! Pos class completely filtered out\n",
      "ERROR!!! Pos class completely filtered out\n",
      "ERROR!!! Pos class completely filtered out\n",
      "ERROR!!! Pos class completely filtered out\n",
      "ERROR!!! Pos class completely filtered out\n",
      "ERROR!!! Pos class completely filtered out\n",
      "ERROR!!! Pos class completely filtered out\n",
      "ERROR!!! Pos class completely filtered out\n",
      "ERROR!!! Pos class completely filtered out\n",
      "ERROR!!! Pos class completely filtered out\n",
      "ERROR!!! Pos class completely filtered out\n",
      "ERROR!!! Pos class completely filtered out\n",
      "ERROR!!! Pos class completely filtered out\n",
      "ERROR!!! Pos class completely filtered out\n",
      "ERROR!!! Pos class completely filtered out\n",
      "ERROR!!! Pos class completely filtered out\n",
      "ERROR!!! Pos class completely filtered out\n",
      "ERROR!!! Pos class completely filtered out\n",
      "3.53 [0.0, 0.0]\n",
      "\n",
      "hive-0.9.0.csv noise:0.179, imb:25.717,53,1363, Shape:(1416, 65)\n",
      "('smote', 'dt')\n",
      "1.89 [0.391, 0.56]\n",
      "('smote', 'lr')\n",
      "3.73 [0.389, 0.548]\n",
      "('smote', 'nb')\n",
      "1.68 [0.44, 0.604]\n",
      "('smote', 'svm')\n",
      "9.36 [0.383, 0.528]\n",
      "('smote', 'knn')\n",
      "2.24 [0.39, 0.553]\n",
      "('smote', 'rf')\n",
      "5.22 [0.399, 0.554]\n",
      "('rus', 'dt')\n",
      "0.46 [0.437, 0.6]\n",
      "('rus', 'lr')\n",
      "0.68 [0.445, 0.603]\n",
      "('rus', 'nb')\n",
      "0.44 [0.431, 0.6]\n",
      "('rus', 'svm')\n",
      "0.56 [0.441, 0.598]\n",
      "('rus', 'knn')\n",
      "0.5 [0.447, 0.606]\n",
      "('rus', 'rf')\n",
      "1.73 [0.445, 0.596]\n",
      "('wilson', 'dt')\n",
      "ERROR!!! Pos class completely filtered out\n",
      "ERROR!!! Pos class completely filtered out\n",
      "ERROR!!! Pos class completely filtered out\n",
      "2.32 [0.208, 0.52]\n",
      "('wilson', 'lr')\n"
     ]
    },
    {
     "name": "stderr",
     "output_type": "stream",
     "text": [
      "/home/shihab/anaconda3/envs/ana/lib/python3.7/site-packages/sklearn/metrics/_classification.py:896: RuntimeWarning: invalid value encountered in double_scalars\n",
      "  mcc = cov_ytyp / np.sqrt(cov_ytyt * cov_ypyp)\n",
      "/home/shihab/anaconda3/envs/ana/lib/python3.7/site-packages/sklearn/metrics/_classification.py:896: RuntimeWarning: invalid value encountered in double_scalars\n",
      "  mcc = cov_ytyp / np.sqrt(cov_ytyt * cov_ypyp)\n"
     ]
    },
    {
     "name": "stdout",
     "output_type": "stream",
     "text": [
      "ERROR!!! Pos class completely filtered out\n",
      "2.83 [0.244, 0.583]\n",
      "('wilson', 'nb')\n"
     ]
    },
    {
     "name": "stderr",
     "output_type": "stream",
     "text": [
      "/home/shihab/anaconda3/envs/ana/lib/python3.7/site-packages/sklearn/metrics/_classification.py:896: RuntimeWarning: invalid value encountered in double_scalars\n",
      "  mcc = cov_ytyp / np.sqrt(cov_ytyt * cov_ypyp)\n",
      "/home/shihab/anaconda3/envs/ana/lib/python3.7/site-packages/sklearn/metrics/_classification.py:896: RuntimeWarning: invalid value encountered in double_scalars\n",
      "  mcc = cov_ytyp / np.sqrt(cov_ytyt * cov_ypyp)\n",
      "/home/shihab/anaconda3/envs/ana/lib/python3.7/site-packages/sklearn/metrics/_classification.py:896: RuntimeWarning: invalid value encountered in double_scalars\n",
      "  mcc = cov_ytyp / np.sqrt(cov_ytyt * cov_ypyp)\n",
      "/home/shihab/anaconda3/envs/ana/lib/python3.7/site-packages/sklearn/metrics/_classification.py:896: RuntimeWarning: invalid value encountered in double_scalars\n",
      "  mcc = cov_ytyp / np.sqrt(cov_ytyt * cov_ypyp)\n"
     ]
    },
    {
     "name": "stdout",
     "output_type": "stream",
     "text": [
      "2.35 [0.314, 0.549]\n",
      "('wilson', 'svm')\n"
     ]
    },
    {
     "name": "stderr",
     "output_type": "stream",
     "text": [
      "/home/shihab/anaconda3/envs/ana/lib/python3.7/site-packages/sklearn/metrics/_classification.py:896: RuntimeWarning: invalid value encountered in double_scalars\n",
      "  mcc = cov_ytyp / np.sqrt(cov_ytyt * cov_ypyp)\n"
     ]
    },
    {
     "name": "stdout",
     "output_type": "stream",
     "text": [
      "ERROR!!! Pos class completely filtered out\n",
      "ERROR!!! Pos class completely filtered out\n"
     ]
    },
    {
     "name": "stderr",
     "output_type": "stream",
     "text": [
      "/home/shihab/anaconda3/envs/ana/lib/python3.7/site-packages/sklearn/metrics/_classification.py:896: RuntimeWarning: invalid value encountered in double_scalars\n",
      "  mcc = cov_ytyp / np.sqrt(cov_ytyt * cov_ypyp)\n"
     ]
    },
    {
     "name": "stdout",
     "output_type": "stream",
     "text": [
      "2.74 [0.233, 0.431]\n",
      "('wilson', 'knn')\n"
     ]
    },
    {
     "name": "stderr",
     "output_type": "stream",
     "text": [
      "/home/shihab/anaconda3/envs/ana/lib/python3.7/site-packages/sklearn/metrics/_classification.py:896: RuntimeWarning: invalid value encountered in double_scalars\n",
      "  mcc = cov_ytyp / np.sqrt(cov_ytyt * cov_ypyp)\n",
      "/home/shihab/anaconda3/envs/ana/lib/python3.7/site-packages/sklearn/metrics/_classification.py:896: RuntimeWarning: invalid value encountered in double_scalars\n",
      "  mcc = cov_ytyp / np.sqrt(cov_ytyt * cov_ypyp)\n"
     ]
    },
    {
     "name": "stdout",
     "output_type": "stream",
     "text": [
      "ERROR!!! Pos class completely filtered out\n",
      "ERROR!!! Pos class completely filtered out\n"
     ]
    },
    {
     "name": "stderr",
     "output_type": "stream",
     "text": [
      "/home/shihab/anaconda3/envs/ana/lib/python3.7/site-packages/sklearn/metrics/_classification.py:896: RuntimeWarning: invalid value encountered in double_scalars\n",
      "  mcc = cov_ytyp / np.sqrt(cov_ytyt * cov_ypyp)\n"
     ]
    },
    {
     "name": "stdout",
     "output_type": "stream",
     "text": [
      "ERROR!!! Pos class completely filtered out\n",
      "2.62 [0.195, 0.595]\n",
      "('wilson', 'rf')\n",
      "ERROR!!! Pos class completely filtered out\n"
     ]
    },
    {
     "name": "stderr",
     "output_type": "stream",
     "text": [
      "/home/shihab/anaconda3/envs/ana/lib/python3.7/site-packages/sklearn/metrics/_classification.py:896: RuntimeWarning: invalid value encountered in double_scalars\n",
      "  mcc = cov_ytyp / np.sqrt(cov_ytyt * cov_ypyp)\n",
      "/home/shihab/anaconda3/envs/ana/lib/python3.7/site-packages/sklearn/metrics/_classification.py:896: RuntimeWarning: invalid value encountered in double_scalars\n",
      "  mcc = cov_ytyp / np.sqrt(cov_ytyt * cov_ypyp)\n"
     ]
    },
    {
     "name": "stdout",
     "output_type": "stream",
     "text": [
      "ERROR!!! Pos class completely filtered out\n",
      "ERROR!!! Pos class completely filtered out\n",
      "3.49 [0.177, 0.547]\n",
      "('tomek', 'dt')\n",
      "ERROR!!! Pos class completely filtered out\n",
      "ERROR!!! Pos class completely filtered out\n",
      "ERROR!!! Pos class completely filtered out\n",
      "ERROR!!! Pos class completely filtered out\n",
      "ERROR!!! Pos class completely filtered out\n",
      "ERROR!!! Pos class completely filtered out\n",
      "ERROR!!! Pos class completely filtered out\n",
      "ERROR!!! Pos class completely filtered out\n",
      "ERROR!!! Pos class completely filtered out\n",
      "ERROR!!! Pos class completely filtered out\n",
      "ERROR!!! Pos class completely filtered out\n",
      "ERROR!!! Pos class completely filtered out\n",
      "ERROR!!! Pos class completely filtered out\n",
      "ERROR!!! Pos class completely filtered out\n",
      "ERROR!!! Pos class completely filtered out\n"
     ]
    },
    {
     "name": "stderr",
     "output_type": "stream",
     "text": [
      "/home/shihab/anaconda3/envs/ana/lib/python3.7/site-packages/sklearn/metrics/_classification.py:896: RuntimeWarning: invalid value encountered in double_scalars\n",
      "  mcc = cov_ytyp / np.sqrt(cov_ytyt * cov_ypyp)\n",
      "/home/shihab/anaconda3/envs/ana/lib/python3.7/site-packages/sklearn/metrics/_classification.py:896: RuntimeWarning: invalid value encountered in double_scalars\n",
      "  mcc = cov_ytyp / np.sqrt(cov_ytyt * cov_ypyp)\n"
     ]
    },
    {
     "name": "stdout",
     "output_type": "stream",
     "text": [
      "ERROR!!! Pos class completely filtered out\n",
      "ERROR!!! Pos class completely filtered out\n",
      "1.78 [0.125, 0.565]\n",
      "('tomek', 'lr')\n",
      "ERROR!!! Pos class completely filtered out\n",
      "ERROR!!! Pos class completely filtered out\n",
      "ERROR!!! Pos class completely filtered out\n"
     ]
    },
    {
     "name": "stderr",
     "output_type": "stream",
     "text": [
      "/home/shihab/anaconda3/envs/ana/lib/python3.7/site-packages/sklearn/metrics/_classification.py:896: RuntimeWarning: invalid value encountered in double_scalars\n",
      "  mcc = cov_ytyp / np.sqrt(cov_ytyt * cov_ypyp)\n",
      "/home/shihab/anaconda3/envs/ana/lib/python3.7/site-packages/sklearn/metrics/_classification.py:896: RuntimeWarning: invalid value encountered in double_scalars\n",
      "  mcc = cov_ytyp / np.sqrt(cov_ytyt * cov_ypyp)\n"
     ]
    },
    {
     "name": "stdout",
     "output_type": "stream",
     "text": [
      "ERROR!!! Pos class completely filtered out\n",
      "ERROR!!! Pos class completely filtered out\n",
      "ERROR!!! Pos class completely filtered out\n",
      "ERROR!!! Pos class completely filtered out\n",
      "ERROR!!! Pos class completely filtered out\n",
      "ERROR!!! Pos class completely filtered out\n",
      "ERROR!!! Pos class completely filtered out\n",
      "ERROR!!! Pos class completely filtered out\n",
      "ERROR!!! Pos class completely filtered out\n"
     ]
    },
    {
     "name": "stderr",
     "output_type": "stream",
     "text": [
      "/home/shihab/anaconda3/envs/ana/lib/python3.7/site-packages/sklearn/metrics/_classification.py:896: RuntimeWarning: invalid value encountered in double_scalars\n",
      "  mcc = cov_ytyp / np.sqrt(cov_ytyt * cov_ypyp)\n"
     ]
    },
    {
     "name": "stdout",
     "output_type": "stream",
     "text": [
      "ERROR!!! Pos class completely filtered out\n",
      "ERROR!!! Pos class completely filtered out\n"
     ]
    },
    {
     "name": "stderr",
     "output_type": "stream",
     "text": [
      "/home/shihab/anaconda3/envs/ana/lib/python3.7/site-packages/sklearn/metrics/_classification.py:896: RuntimeWarning: invalid value encountered in double_scalars\n",
      "  mcc = cov_ytyp / np.sqrt(cov_ytyt * cov_ypyp)\n"
     ]
    },
    {
     "name": "stdout",
     "output_type": "stream",
     "text": [
      "ERROR!!! Pos class completely filtered out\n",
      "ERROR!!! Pos class completely filtered out\n",
      "2.04 [0.087, 0.598]\n",
      "('tomek', 'nb')\n",
      "ERROR!!! Pos class completely filtered out\n",
      "ERROR!!! Pos class completely filtered out\n",
      "ERROR!!! Pos class completely filtered out\n",
      "ERROR!!! Pos class completely filtered out\n",
      "ERROR!!! Pos class completely filtered out\n",
      "ERROR!!! Pos class completely filtered out\n",
      "ERROR!!! Pos class completely filtered out\n",
      "ERROR!!! Pos class completely filtered out\n",
      "ERROR!!! Pos class completely filtered out\n",
      "ERROR!!! Pos class completely filtered out\n"
     ]
    },
    {
     "name": "stderr",
     "output_type": "stream",
     "text": [
      "/home/shihab/anaconda3/envs/ana/lib/python3.7/site-packages/sklearn/metrics/_classification.py:896: RuntimeWarning: invalid value encountered in double_scalars\n",
      "  mcc = cov_ytyp / np.sqrt(cov_ytyt * cov_ypyp)\n"
     ]
    },
    {
     "name": "stdout",
     "output_type": "stream",
     "text": [
      "ERROR!!! Pos class completely filtered out\n",
      "ERROR!!! Pos class completely filtered out\n",
      "ERROR!!! Pos class completely filtered out\n",
      "ERROR!!! Pos class completely filtered out\n",
      "ERROR!!! Pos class completely filtered out\n",
      "ERROR!!! Pos class completely filtered out\n",
      "ERROR!!! Pos class completely filtered out\n"
     ]
    },
    {
     "name": "stderr",
     "output_type": "stream",
     "text": [
      "/home/shihab/anaconda3/envs/ana/lib/python3.7/site-packages/sklearn/metrics/_classification.py:896: RuntimeWarning: invalid value encountered in double_scalars\n",
      "  mcc = cov_ytyp / np.sqrt(cov_ytyt * cov_ypyp)\n",
      "/home/shihab/anaconda3/envs/ana/lib/python3.7/site-packages/sklearn/metrics/_classification.py:896: RuntimeWarning: invalid value encountered in double_scalars\n",
      "  mcc = cov_ytyp / np.sqrt(cov_ytyt * cov_ypyp)\n"
     ]
    },
    {
     "name": "stdout",
     "output_type": "stream",
     "text": [
      "1.77 [0.194, 0.552]\n",
      "('tomek', 'svm')\n",
      "ERROR!!! Pos class completely filtered out\n",
      "ERROR!!! Pos class completely filtered out\n",
      "ERROR!!! Pos class completely filtered out\n"
     ]
    },
    {
     "name": "stderr",
     "output_type": "stream",
     "text": [
      "/home/shihab/anaconda3/envs/ana/lib/python3.7/site-packages/sklearn/metrics/_classification.py:896: RuntimeWarning: invalid value encountered in double_scalars\n",
      "  mcc = cov_ytyp / np.sqrt(cov_ytyt * cov_ypyp)\n"
     ]
    },
    {
     "name": "stdout",
     "output_type": "stream",
     "text": [
      "ERROR!!! Pos class completely filtered out\n"
     ]
    },
    {
     "name": "stderr",
     "output_type": "stream",
     "text": [
      "/home/shihab/anaconda3/envs/ana/lib/python3.7/site-packages/sklearn/metrics/_classification.py:896: RuntimeWarning: invalid value encountered in double_scalars\n",
      "  mcc = cov_ytyp / np.sqrt(cov_ytyt * cov_ypyp)\n"
     ]
    },
    {
     "name": "stdout",
     "output_type": "stream",
     "text": [
      "ERROR!!! Pos class completely filtered out\n",
      "ERROR!!! Pos class completely filtered out\n"
     ]
    },
    {
     "name": "stderr",
     "output_type": "stream",
     "text": [
      "/home/shihab/anaconda3/envs/ana/lib/python3.7/site-packages/sklearn/metrics/_classification.py:896: RuntimeWarning: invalid value encountered in double_scalars\n",
      "  mcc = cov_ytyp / np.sqrt(cov_ytyt * cov_ypyp)\n",
      "/home/shihab/anaconda3/envs/ana/lib/python3.7/site-packages/sklearn/metrics/_classification.py:896: RuntimeWarning: invalid value encountered in double_scalars\n",
      "  mcc = cov_ytyp / np.sqrt(cov_ytyt * cov_ypyp)\n"
     ]
    },
    {
     "name": "stdout",
     "output_type": "stream",
     "text": [
      "ERROR!!! Pos class completely filtered out\n",
      "ERROR!!! Pos class completely filtered out\n",
      "ERROR!!! Pos class completely filtered out\n",
      "ERROR!!! Pos class completely filtered out\n",
      "ERROR!!! Pos class completely filtered out\n",
      "ERROR!!! Pos class completely filtered out\n",
      "ERROR!!! Pos class completely filtered out\n",
      "ERROR!!! Pos class completely filtered out\n",
      "ERROR!!! Pos class completely filtered out\n",
      "1.86 [0.127, 0.313]\n",
      "('tomek', 'knn')\n"
     ]
    },
    {
     "name": "stderr",
     "output_type": "stream",
     "text": [
      "/home/shihab/anaconda3/envs/ana/lib/python3.7/site-packages/sklearn/metrics/_classification.py:896: RuntimeWarning: invalid value encountered in double_scalars\n",
      "  mcc = cov_ytyp / np.sqrt(cov_ytyt * cov_ypyp)\n"
     ]
    },
    {
     "name": "stdout",
     "output_type": "stream",
     "text": [
      "ERROR!!! Pos class completely filtered out\n",
      "ERROR!!! Pos class completely filtered out\n",
      "ERROR!!! Pos class completely filtered out\n"
     ]
    },
    {
     "name": "stderr",
     "output_type": "stream",
     "text": [
      "/home/shihab/anaconda3/envs/ana/lib/python3.7/site-packages/sklearn/metrics/_classification.py:896: RuntimeWarning: invalid value encountered in double_scalars\n",
      "  mcc = cov_ytyp / np.sqrt(cov_ytyt * cov_ypyp)\n",
      "/home/shihab/anaconda3/envs/ana/lib/python3.7/site-packages/sklearn/metrics/_classification.py:896: RuntimeWarning: invalid value encountered in double_scalars\n",
      "  mcc = cov_ytyp / np.sqrt(cov_ytyt * cov_ypyp)\n"
     ]
    },
    {
     "name": "stdout",
     "output_type": "stream",
     "text": [
      "ERROR!!! Pos class completely filtered out\n",
      "ERROR!!! Pos class completely filtered out\n",
      "ERROR!!! Pos class completely filtered out\n",
      "ERROR!!! Pos class completely filtered out\n",
      "ERROR!!! Pos class completely filtered out\n"
     ]
    },
    {
     "name": "stderr",
     "output_type": "stream",
     "text": [
      "/home/shihab/anaconda3/envs/ana/lib/python3.7/site-packages/sklearn/metrics/_classification.py:896: RuntimeWarning: invalid value encountered in double_scalars\n",
      "  mcc = cov_ytyp / np.sqrt(cov_ytyt * cov_ypyp)\n"
     ]
    },
    {
     "name": "stdout",
     "output_type": "stream",
     "text": [
      "ERROR!!! Pos class completely filtered out\n",
      "ERROR!!! Pos class completely filtered out\n",
      "ERROR!!! Pos class completely filtered out\n"
     ]
    },
    {
     "name": "stderr",
     "output_type": "stream",
     "text": [
      "/home/shihab/anaconda3/envs/ana/lib/python3.7/site-packages/sklearn/metrics/_classification.py:896: RuntimeWarning: invalid value encountered in double_scalars\n",
      "  mcc = cov_ytyp / np.sqrt(cov_ytyt * cov_ypyp)\n",
      "/home/shihab/anaconda3/envs/ana/lib/python3.7/site-packages/sklearn/metrics/_classification.py:896: RuntimeWarning: invalid value encountered in double_scalars\n",
      "  mcc = cov_ytyp / np.sqrt(cov_ytyt * cov_ypyp)\n"
     ]
    },
    {
     "name": "stdout",
     "output_type": "stream",
     "text": [
      "ERROR!!! Pos class completely filtered out\n",
      "ERROR!!! Pos class completely filtered out\n",
      "ERROR!!! Pos class completely filtered out\n",
      "ERROR!!! Pos class completely filtered out\n",
      "ERROR!!! Pos class completely filtered out\n",
      "ERROR!!! Pos class completely filtered out\n",
      "ERROR!!! Pos class completely filtered out\n",
      "1.88 [0.035, 0.616]\n",
      "('tomek', 'rf')\n",
      "ERROR!!! Pos class completely filtered out\n",
      "ERROR!!! Pos class completely filtered out\n",
      "ERROR!!! Pos class completely filtered out\n",
      "ERROR!!! Pos class completely filtered out\n"
     ]
    },
    {
     "name": "stderr",
     "output_type": "stream",
     "text": [
      "/home/shihab/anaconda3/envs/ana/lib/python3.7/site-packages/sklearn/metrics/_classification.py:896: RuntimeWarning: invalid value encountered in double_scalars\n",
      "  mcc = cov_ytyp / np.sqrt(cov_ytyt * cov_ypyp)\n"
     ]
    },
    {
     "name": "stdout",
     "output_type": "stream",
     "text": [
      "ERROR!!! Pos class completely filtered out\n",
      "ERROR!!! Pos class completely filtered out\n"
     ]
    },
    {
     "name": "stderr",
     "output_type": "stream",
     "text": [
      "/home/shihab/anaconda3/envs/ana/lib/python3.7/site-packages/sklearn/metrics/_classification.py:896: RuntimeWarning: invalid value encountered in double_scalars\n",
      "  mcc = cov_ytyp / np.sqrt(cov_ytyt * cov_ypyp)\n"
     ]
    },
    {
     "name": "stdout",
     "output_type": "stream",
     "text": [
      "ERROR!!! Pos class completely filtered out\n",
      "ERROR!!! Pos class completely filtered out\n",
      "ERROR!!! Pos class completely filtered out\n",
      "ERROR!!! Pos class completely filtered out\n",
      "ERROR!!! Pos class completely filtered out\n",
      "ERROR!!! Pos class completely filtered out\n",
      "ERROR!!! Pos class completely filtered out\n",
      "ERROR!!! Pos class completely filtered out\n",
      "ERROR!!! Pos class completely filtered out\n",
      "ERROR!!! Pos class completely filtered out\n",
      "ERROR!!! Pos class completely filtered out\n",
      "ERROR!!! Pos class completely filtered out\n",
      "ERROR!!! Pos class completely filtered out\n",
      "ERROR!!! Pos class completely filtered out\n",
      "1.99 [0.071, 0.566]\n",
      "('None', 'dt')\n"
     ]
    },
    {
     "name": "stderr",
     "output_type": "stream",
     "text": [
      "/home/shihab/anaconda3/envs/ana/lib/python3.7/site-packages/sklearn/metrics/_classification.py:896: RuntimeWarning: invalid value encountered in double_scalars\n",
      "  mcc = cov_ytyp / np.sqrt(cov_ytyt * cov_ypyp)\n",
      "/home/shihab/anaconda3/envs/ana/lib/python3.7/site-packages/sklearn/metrics/_classification.py:896: RuntimeWarning: invalid value encountered in double_scalars\n",
      "  mcc = cov_ytyp / np.sqrt(cov_ytyt * cov_ypyp)\n"
     ]
    },
    {
     "name": "stdout",
     "output_type": "stream",
     "text": [
      "ERROR!!! Pos class completely filtered out\n",
      "ERROR!!! Pos class completely filtered out\n",
      "ERROR!!! Pos class completely filtered out\n",
      "ERROR!!! Pos class completely filtered out\n",
      "ERROR!!! Pos class completely filtered out\n",
      "ERROR!!! Pos class completely filtered out\n",
      "ERROR!!! Pos class completely filtered out\n",
      "ERROR!!! Pos class completely filtered out\n"
     ]
    },
    {
     "name": "stderr",
     "output_type": "stream",
     "text": [
      "/home/shihab/anaconda3/envs/ana/lib/python3.7/site-packages/sklearn/metrics/_classification.py:896: RuntimeWarning: invalid value encountered in double_scalars\n",
      "  mcc = cov_ytyp / np.sqrt(cov_ytyt * cov_ypyp)\n",
      "/home/shihab/anaconda3/envs/ana/lib/python3.7/site-packages/sklearn/metrics/_classification.py:896: RuntimeWarning: invalid value encountered in double_scalars\n",
      "  mcc = cov_ytyp / np.sqrt(cov_ytyt * cov_ypyp)\n",
      "/home/shihab/anaconda3/envs/ana/lib/python3.7/site-packages/sklearn/metrics/_classification.py:896: RuntimeWarning: invalid value encountered in double_scalars\n",
      "  mcc = cov_ytyp / np.sqrt(cov_ytyt * cov_ypyp)\n",
      "/home/shihab/anaconda3/envs/ana/lib/python3.7/site-packages/sklearn/metrics/_classification.py:896: RuntimeWarning: invalid value encountered in double_scalars\n",
      "  mcc = cov_ytyp / np.sqrt(cov_ytyt * cov_ypyp)\n"
     ]
    },
    {
     "name": "stdout",
     "output_type": "stream",
     "text": [
      "ERROR!!! Pos class completely filtered out\n",
      "ERROR!!! Pos class completely filtered out\n",
      "ERROR!!! Pos class completely filtered out\n",
      "ERROR!!! Pos class completely filtered out\n",
      "ERROR!!! Pos class completely filtered out\n",
      "ERROR!!! Pos class completely filtered out\n",
      "ERROR!!! Pos class completely filtered out\n",
      "ERROR!!! Pos class completely filtered out\n",
      "0.43 [0.056, 0.541]\n",
      "('None', 'lr')\n",
      "ERROR!!! Pos class completely filtered out\n",
      "ERROR!!! Pos class completely filtered out\n",
      "ERROR!!! Pos class completely filtered out\n",
      "ERROR!!! Pos class completely filtered out\n",
      "ERROR!!! Pos class completely filtered out\n",
      "ERROR!!! Pos class completely filtered out\n",
      "ERROR!!! Pos class completely filtered out\n",
      "ERROR!!! Pos class completely filtered out\n",
      "ERROR!!! Pos class completely filtered out\n",
      "ERROR!!! Pos class completely filtered out\n",
      "ERROR!!! Pos class completely filtered out\n",
      "ERROR!!! Pos class completely filtered out\n",
      "ERROR!!! Pos class completely filtered out\n",
      "ERROR!!! Pos class completely filtered out\n"
     ]
    },
    {
     "name": "stderr",
     "output_type": "stream",
     "text": [
      "/home/shihab/anaconda3/envs/ana/lib/python3.7/site-packages/sklearn/metrics/_classification.py:896: RuntimeWarning: invalid value encountered in double_scalars\n",
      "  mcc = cov_ytyp / np.sqrt(cov_ytyt * cov_ypyp)\n",
      "/home/shihab/anaconda3/envs/ana/lib/python3.7/site-packages/sklearn/metrics/_classification.py:896: RuntimeWarning: invalid value encountered in double_scalars\n",
      "  mcc = cov_ytyp / np.sqrt(cov_ytyt * cov_ypyp)\n"
     ]
    },
    {
     "name": "stdout",
     "output_type": "stream",
     "text": [
      "ERROR!!! Pos class completely filtered out\n",
      "ERROR!!! Pos class completely filtered out\n",
      "ERROR!!! Pos class completely filtered out\n",
      "ERROR!!! Pos class completely filtered out\n",
      "ERROR!!! Pos class completely filtered out\n"
     ]
    },
    {
     "name": "stderr",
     "output_type": "stream",
     "text": [
      "/home/shihab/anaconda3/envs/ana/lib/python3.7/site-packages/sklearn/metrics/_classification.py:896: RuntimeWarning: invalid value encountered in double_scalars\n",
      "  mcc = cov_ytyp / np.sqrt(cov_ytyt * cov_ypyp)\n"
     ]
    },
    {
     "name": "stdout",
     "output_type": "stream",
     "text": [
      "0.53 [0.085, 0.573]\n",
      "('None', 'nb')\n",
      "ERROR!!! Pos class completely filtered out\n",
      "ERROR!!! Pos class completely filtered out\n",
      "ERROR!!! Pos class completely filtered out\n",
      "ERROR!!! Pos class completely filtered out\n",
      "ERROR!!! Pos class completely filtered out\n",
      "ERROR!!! Pos class completely filtered out\n",
      "ERROR!!! Pos class completely filtered out\n",
      "ERROR!!! Pos class completely filtered out\n"
     ]
    },
    {
     "name": "stderr",
     "output_type": "stream",
     "text": [
      "/home/shihab/anaconda3/envs/ana/lib/python3.7/site-packages/sklearn/metrics/_classification.py:896: RuntimeWarning: invalid value encountered in double_scalars\n",
      "  mcc = cov_ytyp / np.sqrt(cov_ytyt * cov_ypyp)\n",
      "/home/shihab/anaconda3/envs/ana/lib/python3.7/site-packages/sklearn/metrics/_classification.py:896: RuntimeWarning: invalid value encountered in double_scalars\n",
      "  mcc = cov_ytyp / np.sqrt(cov_ytyt * cov_ypyp)\n",
      "/home/shihab/anaconda3/envs/ana/lib/python3.7/site-packages/sklearn/metrics/_classification.py:896: RuntimeWarning: invalid value encountered in double_scalars\n",
      "  mcc = cov_ytyp / np.sqrt(cov_ytyt * cov_ypyp)\n"
     ]
    },
    {
     "name": "stdout",
     "output_type": "stream",
     "text": [
      "ERROR!!! Pos class completely filtered out\n",
      "ERROR!!! Pos class completely filtered out\n",
      "ERROR!!! Pos class completely filtered out\n",
      "ERROR!!! Pos class completely filtered out\n",
      "ERROR!!! Pos class completely filtered out\n",
      "ERROR!!! Pos class completely filtered out\n",
      "ERROR!!! Pos class completely filtered out\n",
      "ERROR!!! Pos class completely filtered out\n",
      "ERROR!!! Pos class completely filtered out\n",
      "ERROR!!! Pos class completely filtered out\n",
      "0.43 [0.195, 0.593]\n",
      "('None', 'svm')\n",
      "ERROR!!! Pos class completely filtered out\n",
      "ERROR!!! Pos class completely filtered out\n",
      "ERROR!!! Pos class completely filtered out\n",
      "ERROR!!! Pos class completely filtered out\n",
      "ERROR!!! Pos class completely filtered out\n",
      "ERROR!!! Pos class completely filtered out\n",
      "ERROR!!! Pos class completely filtered out\n",
      "ERROR!!! Pos class completely filtered out\n",
      "ERROR!!! Pos class completely filtered out\n",
      "ERROR!!! Pos class completely filtered out\n",
      "ERROR!!! Pos class completely filtered out\n",
      "ERROR!!! Pos class completely filtered out\n",
      "ERROR!!! Pos class completely filtered out\n",
      "ERROR!!! Pos class completely filtered out\n",
      "ERROR!!! Pos class completely filtered out\n",
      "ERROR!!! Pos class completely filtered out\n",
      "ERROR!!! Pos class completely filtered out\n",
      "ERROR!!! Pos class completely filtered out\n",
      "ERROR!!! Pos class completely filtered out\n",
      "ERROR!!! Pos class completely filtered out\n"
     ]
    },
    {
     "name": "stderr",
     "output_type": "stream",
     "text": [
      "/home/shihab/anaconda3/envs/ana/lib/python3.7/site-packages/sklearn/metrics/_classification.py:896: RuntimeWarning: invalid value encountered in double_scalars\n",
      "  mcc = cov_ytyp / np.sqrt(cov_ytyt * cov_ypyp)\n"
     ]
    },
    {
     "name": "stdout",
     "output_type": "stream",
     "text": [
      "ERROR!!! Pos class completely filtered out\n",
      "0.47 [0.125, 0.311]\n",
      "('None', 'knn')\n",
      "ERROR!!! Pos class completely filtered out\n",
      "ERROR!!! Pos class completely filtered out\n",
      "ERROR!!! Pos class completely filtered out\n",
      "ERROR!!! Pos class completely filtered out\n",
      "ERROR!!! Pos class completely filtered out\n",
      "ERROR!!! Pos class completely filtered out\n",
      "ERROR!!! Pos class completely filtered out\n",
      "ERROR!!! Pos class completely filtered out\n"
     ]
    },
    {
     "name": "stderr",
     "output_type": "stream",
     "text": [
      "/home/shihab/anaconda3/envs/ana/lib/python3.7/site-packages/sklearn/metrics/_classification.py:896: RuntimeWarning: invalid value encountered in double_scalars\n",
      "  mcc = cov_ytyp / np.sqrt(cov_ytyt * cov_ypyp)\n"
     ]
    },
    {
     "name": "stdout",
     "output_type": "stream",
     "text": [
      "ERROR!!! Pos class completely filtered out\n",
      "ERROR!!! Pos class completely filtered out\n",
      "ERROR!!! Pos class completely filtered out\n",
      "ERROR!!! Pos class completely filtered out\n",
      "ERROR!!! Pos class completely filtered out\n",
      "ERROR!!! Pos class completely filtered out\n",
      "ERROR!!! Pos class completely filtered out\n",
      "ERROR!!! Pos class completely filtered out\n",
      "ERROR!!! Pos class completely filtered out\n",
      "ERROR!!! Pos class completely filtered out\n",
      "ERROR!!! Pos class completely filtered out\n",
      "ERROR!!! Pos class completely filtered out\n",
      "ERROR!!! Pos class completely filtered out\n",
      "ERROR!!! Pos class completely filtered out\n",
      "ERROR!!! Pos class completely filtered out\n",
      "0.42 [0.0, 0.623]\n",
      "('None', 'rf')\n",
      "ERROR!!! Pos class completely filtered out\n",
      "ERROR!!! Pos class completely filtered out\n"
     ]
    },
    {
     "name": "stderr",
     "output_type": "stream",
     "text": [
      "/home/shihab/anaconda3/envs/ana/lib/python3.7/site-packages/sklearn/metrics/_classification.py:896: RuntimeWarning: invalid value encountered in double_scalars\n",
      "  mcc = cov_ytyp / np.sqrt(cov_ytyt * cov_ypyp)\n",
      "/home/shihab/anaconda3/envs/ana/lib/python3.7/site-packages/sklearn/metrics/_classification.py:896: RuntimeWarning: invalid value encountered in double_scalars\n",
      "  mcc = cov_ytyp / np.sqrt(cov_ytyt * cov_ypyp)\n"
     ]
    },
    {
     "name": "stdout",
     "output_type": "stream",
     "text": [
      "ERROR!!! Pos class completely filtered out\n",
      "ERROR!!! Pos class completely filtered out\n",
      "ERROR!!! Pos class completely filtered out\n",
      "ERROR!!! Pos class completely filtered out\n",
      "ERROR!!! Pos class completely filtered out\n"
     ]
    },
    {
     "name": "stderr",
     "output_type": "stream",
     "text": [
      "/home/shihab/anaconda3/envs/ana/lib/python3.7/site-packages/sklearn/metrics/_classification.py:896: RuntimeWarning: invalid value encountered in double_scalars\n",
      "  mcc = cov_ytyp / np.sqrt(cov_ytyt * cov_ypyp)\n"
     ]
    },
    {
     "name": "stdout",
     "output_type": "stream",
     "text": [
      "ERROR!!! Pos class completely filtered out\n",
      "ERROR!!! Pos class completely filtered out\n",
      "ERROR!!! Pos class completely filtered out\n",
      "ERROR!!! Pos class completely filtered out\n",
      "ERROR!!! Pos class completely filtered out\n",
      "ERROR!!! Pos class completely filtered out\n",
      "ERROR!!! Pos class completely filtered out\n"
     ]
    },
    {
     "name": "stderr",
     "output_type": "stream",
     "text": [
      "/home/shihab/anaconda3/envs/ana/lib/python3.7/site-packages/sklearn/metrics/_classification.py:896: RuntimeWarning: invalid value encountered in double_scalars\n",
      "  mcc = cov_ytyp / np.sqrt(cov_ytyt * cov_ypyp)\n",
      "/home/shihab/anaconda3/envs/ana/lib/python3.7/site-packages/sklearn/metrics/_classification.py:896: RuntimeWarning: invalid value encountered in double_scalars\n",
      "  mcc = cov_ytyp / np.sqrt(cov_ytyt * cov_ypyp)\n",
      "/home/shihab/anaconda3/envs/ana/lib/python3.7/site-packages/sklearn/metrics/_classification.py:896: RuntimeWarning: invalid value encountered in double_scalars\n",
      "  mcc = cov_ytyp / np.sqrt(cov_ytyt * cov_ypyp)\n"
     ]
    },
    {
     "name": "stdout",
     "output_type": "stream",
     "text": [
      "ERROR!!! Pos class completely filtered out\n",
      "ERROR!!! Pos class completely filtered out\n",
      "0.92 [0.045, 0.525]\n",
      "('ens', 'rboost_DT')\n"
     ]
    },
    {
     "name": "stderr",
     "output_type": "stream",
     "text": [
      "/home/shihab/anaconda3/envs/ana/lib/python3.7/site-packages/sklearn/metrics/_classification.py:896: RuntimeWarning: invalid value encountered in double_scalars\n",
      "  mcc = cov_ytyp / np.sqrt(cov_ytyt * cov_ypyp)\n"
     ]
    },
    {
     "name": "stdout",
     "output_type": "stream",
     "text": [
      "1.37 [0.442, 0.608]\n",
      "('ens', 'rboost_NB')\n",
      "1.47 [0.415, 0.597]\n",
      "('ens', 'bbag_DT')\n",
      "ERROR!!! Pos class completely filtered out\n",
      "20.59 [0.434, 0.609]\n",
      "('ens', 'bbag_NB')\n",
      "ERROR!!! Pos class completely filtered out\n",
      "ERROR!!! Pos class completely filtered out\n",
      "20.75 [0.43, 0.596]\n",
      "\n"
     ]
    }
   ],
   "source": [
    "for d in DATASETS:\n",
    "    X,y_noisy,y_real = read_data(d,stats=True)\n",
    "    if df.loc[d,:].isna().sum()==0:\n",
    "        print(f\"SKIPPING {d}\\n\")\n",
    "        continue\n",
    "    for k in models:\n",
    "        print(k)\n",
    "        sd = perf_counter()\n",
    "        r = evaluate(models[k],X,y_noisy,y_real,cv,scorers)\n",
    "        for f in r:\n",
    "            df.loc[d,(k[0],k[1],f)] = r[f].mean()\n",
    "        print(round(perf_counter()-sd,2),[round(r[f].mean(),3) for f in r])\n",
    "    print()\n",
    "    df.to_csv(\"IPF.csv\")"
   ]
  },
  {
   "cell_type": "code",
   "execution_count": null,
   "metadata": {},
   "outputs": [],
   "source": []
  },
  {
   "cell_type": "code",
   "execution_count": null,
   "metadata": {},
   "outputs": [],
   "source": [
    "\n",
    "\n",
    "\n",
    "\n",
    "\n",
    "\n",
    "\n",
    "\n",
    "\n",
    "\n",
    "\n",
    "\n",
    "\n",
    "\n",
    "\n",
    "\n",
    "\n",
    "\n",
    "\n",
    "\n",
    "\n",
    "\n",
    "\n"
   ]
  }
 ],
 "metadata": {
  "kernelspec": {
   "display_name": "Python 3",
   "language": "python",
   "name": "python3"
  },
  "language_info": {
   "codemirror_mode": {
    "name": "ipython",
    "version": 3
   },
   "file_extension": ".py",
   "mimetype": "text/x-python",
   "name": "python",
   "nbconvert_exporter": "python",
   "pygments_lexer": "ipython3",
   "version": "3.7.5"
  }
 },
 "nbformat": 4,
 "nbformat_minor": 4
}
